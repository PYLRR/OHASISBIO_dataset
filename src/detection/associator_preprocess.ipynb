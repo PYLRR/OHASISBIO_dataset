{
 "cells": [
  {
   "cell_type": "code",
   "id": "initial_id",
   "metadata": {
    "collapsed": true,
    "ExecuteTime": {
     "end_time": "2024-10-16T17:07:44.381081Z",
     "start_time": "2024-10-16T17:07:41.580968Z"
    }
   },
   "source": [
    "import pickle\n",
    "\n",
    "import glob2\n",
    "import datetime\n",
    "\n",
    "import numpy as np\n",
    "from utils.data_reading.sound_data.station import StationsCatalog"
   ],
   "outputs": [
    {
     "name": "stderr",
     "output_type": "stream",
     "text": [
      "/home/plerolland/.local/lib/python3.10/site-packages/matplotlib/projections/__init__.py:63: UserWarning: Unable to import Axes3D. This may be due to multiple versions of Matplotlib being installed (e.g. as a system package and as a pip package). As a result, the 3D projection is not available.\n",
      "  warnings.warn(\"Unable to import Axes3D. This may be due to multiple versions of \"\n"
     ]
    }
   ],
   "execution_count": 1
  },
  {
   "metadata": {
    "ExecuteTime": {
     "end_time": "2024-10-16T17:09:33.017201Z",
     "start_time": "2024-10-16T17:09:32.816675Z"
    }
   },
   "cell_type": "code",
   "source": [
    "datasets_yaml = \"/home/plerolland/Bureau/dataset.yaml\"\n",
    "year = 2021\n",
    "stations_c = StationsCatalog(datasets_yaml).filter_out_undated().filter_out_unlocated()\n",
    "\n",
    "# output\n",
    "detections_file = f\"../../data/detections/{year}/detections.npy\""
   ],
   "id": "e0132cae0dd1923e",
   "outputs": [],
   "execution_count": 6
  },
  {
   "metadata": {
    "ExecuteTime": {
     "end_time": "2024-10-16T17:10:59.123655Z",
     "start_time": "2024-10-16T17:09:33.223611Z"
    }
   },
   "cell_type": "code",
   "source": [
    "to_read = glob2.glob(f\"../../data/detections/{year}/*.p\")\n",
    "\n",
    "detections = {}\n",
    "for file in to_read:\n",
    "    info = file.split(\"_\")[-1][:-2].split(\"-\")\n",
    "    name, year_station = \"-\".join(info[:-1]), int(info[-1])\n",
    "    station = stations_c.by_starting_year(year_station).by_names(name)[0]\n",
    "    detections[station] = []\n",
    "    with open(file, \"rb\") as f:\n",
    "        while True:\n",
    "            try:\n",
    "                detections[station].append(pickle.load(f))\n",
    "            except EOFError:\n",
    "                break\n",
    "                \n",
    "    detections[station] = np.array(detections[station])\n",
    "    detections[station] = detections[station][np.argsort(detections[station][:,0])]\n",
    "\n",
    "    # merge close detections\n",
    "    to_del = set()\n",
    "    i, j = 0, 0\n",
    "    while j<len(detections[station]):\n",
    "        delta = (np.abs(detections[station][i,0] - detections[station][j,0]))\n",
    "        if delta.total_seconds() < 5:\n",
    "            detections[station][i,0] += delta / 2\n",
    "            to_del.add(j)\n",
    "        else:\n",
    "            i = j\n",
    "        j+=1\n",
    "    detections[station] = np.delete(detections[station], list(to_del), axis=0)\n",
    "    \n",
    "    print(f\"{len(list(to_del))} lines deleted ; {len(detections[station])} left for station {station}\")\n",
    "np.save(detections_file, detections)"
   ],
   "id": "7d927f5aba118e44",
   "outputs": [
    {
     "name": "stdout",
     "output_type": "stream",
     "text": [
      "23 lines deleted ; 500854 left for station station_ELAN_2020\n",
      "11 lines deleted ; 178775 left for station station_MADE_2021\n",
      "6 lines deleted ; 244905 left for station station_MADW_2020\n",
      "16 lines deleted ; 399564 left for station station_NEAMS_2020\n",
      "16 lines deleted ; 463027 left for station station_RTJ_2020\n",
      "49 lines deleted ; 343767 left for station station_SSEIR_2020\n",
      "7 lines deleted ; 195930 left for station station_SWAMS_2020\n",
      "19 lines deleted ; 381016 left for station station_WKER2_2020\n",
      "2 lines deleted ; 54311 left for station station_H01W1_2021\n",
      "2 lines deleted ; 78180 left for station station_H04N1_2021\n",
      "1 lines deleted ; 30801 left for station station_H04S1_2021\n",
      "3 lines deleted ; 50710 left for station station_H08S1_2021\n"
     ]
    }
   ],
   "execution_count": 7
  },
  {
   "metadata": {},
   "cell_type": "code",
   "outputs": [],
   "execution_count": null,
   "source": "",
   "id": "da605e953febe106"
  }
 ],
 "metadata": {
  "kernelspec": {
   "display_name": "Python 3",
   "language": "python",
   "name": "python3"
  },
  "language_info": {
   "codemirror_mode": {
    "name": "ipython",
    "version": 2
   },
   "file_extension": ".py",
   "mimetype": "text/x-python",
   "name": "python",
   "nbconvert_exporter": "python",
   "pygments_lexer": "ipython2",
   "version": "2.7.6"
  }
 },
 "nbformat": 4,
 "nbformat_minor": 5
}
