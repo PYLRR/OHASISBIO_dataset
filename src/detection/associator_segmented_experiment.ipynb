{
 "cells": [
  {
   "metadata": {
    "ExecuteTime": {
     "end_time": "2024-10-13T16:59:19.534795Z",
     "start_time": "2024-10-13T16:59:19.525596Z"
    }
   },
   "cell_type": "code",
   "source": [
    "import copy\n",
    "import pickle\n",
    "from pathlib import Path\n",
    "\n",
    "import glob2\n",
    "import datetime\n",
    "\n",
    "import numpy as np\n",
    "from scipy.signal import find_peaks\n",
    "from tqdm.notebook import tqdm\n",
    "import tensorflow as tf\n",
    "from skimage.transform import resize\n",
    "from matplotlib import pyplot as plt\n",
    "\n",
    "from src.detection.clustering import get_valid, get_clusters, get_delta\n",
    "from utils.data_reading.catalogs.ISC import ISC_file\n",
    "from utils.data_reading.sound_data.sound_file_manager import NpyFilesManager\n",
    "from utils.data_reading.sound_data.station import StationsCatalog\n",
    "from utils.physics.bathymetry.bathymetry_grid import BathymetryGrid\n",
    "from utils.physics.sound.sound_model import HomogeneousSoundModel\n",
    "from utils.physics.sound.sound_velocity_grid import MonthlySoundVelocityGridOptimized\n",
    "from utils.transformations.features_extractor import STFTFeaturesExtractor"
   ],
   "id": "46fd83a0a52c0f95",
   "outputs": [],
   "execution_count": 13
  },
  {
   "cell_type": "code",
   "id": "initial_id",
   "metadata": {
    "collapsed": true,
    "ExecuteTime": {
     "end_time": "2024-10-11T19:46:22.590454Z",
     "start_time": "2024-10-11T19:46:15.060231Z"
    }
   },
   "source": [
    "datasets_yaml = \"/home/plerolland/Bureau/dataset.yaml\"\n",
    "\n",
    "year = 2018\n",
    "isc_file = f\"/home/plerolland/Bureau/catalogs/ISC/eqk_isc_{year}.txt\"\n",
    "\n",
    "sound_model_h = HomogeneousSoundModel()\n",
    "sound_model_g = MonthlySoundVelocityGridOptimized([f\"../../data/sound_model/min-velocities_month-{i:02d}.nc\" for i in range(1,13)], interpolate=True)\n",
    "bathy_model = BathymetryGrid.create_from_NetCDF(\"../../data/geo/GEBCO_2023_sub_ice_topo.nc\", lat_bounds=[-75, 35], lon_bounds=[-20, 180])\n",
    "\n",
    "stations_c = StationsCatalog(datasets_yaml).filter_out_undated().filter_out_unlocated()\n",
    "stft_computer = STFTFeaturesExtractor(None, vmin=60, vmax=140, f_min=5, f_max=60)\n",
    "\n",
    "MIN_P = 0.4\n",
    "MIN_P_MATES = 0.2\n",
    "NB = 3\n",
    "TOLERANCE = datetime.timedelta(seconds=20)\n",
    "TIME_DELTA_SEARCH = datetime.timedelta(seconds=5*86400)\n",
    "\n",
    "TIME_RES = 0.5 # duration, in s, of a sample in the associator results\n",
    "HALF_FOCUS_SIZE = 32  # window to compare for associator\n",
    "MAX_SHIFT = 128  # max allowed shift resulting from associator\n",
    "\n",
    "# output\n",
    "detections_file = f\"../../data/detections/{year}/detections.npy\"\n",
    "RES_FILE = f\"../../data/detections/{year}/matchups_clusters_loc_adjusted.csv\""
   ],
   "outputs": [],
   "execution_count": 2
  },
  {
   "metadata": {
    "ExecuteTime": {
     "end_time": "2024-10-11T19:46:23.378990Z",
     "start_time": "2024-10-11T19:46:22.659225Z"
    }
   },
   "cell_type": "code",
   "source": [
    "isc = ISC_file(isc_file)\n",
    "\n",
    "# filter isc events\n",
    "to_del = set()\n",
    "for ID, event in isc.items.items():\n",
    "    if bathy_model.get_nearest_values(event.get_pos()) > 0:\n",
    "        to_del.add(ID)\n",
    "    lat, lon = tuple(isc[ID].get_pos())\n",
    "    if (lat>-5 and lon > 115) or (lat>-30 and lon > 130) or (lat>-45 and lon > 170) or (lat>-20 and lon > 85):\n",
    "        to_del.add(ID)\n",
    "for ID in to_del:\n",
    "    del isc.items[ID]\n",
    "print(f\"{len(to_del)} terrestrial events removed from catalog ({len(isc.items)} remain)\")\n",
    "\n",
    "IDs = list(isc.items.keys())"
   ],
   "id": "5cee0b364d4ef31",
   "outputs": [
    {
     "name": "stdout",
     "output_type": "stream",
     "text": [
      "14233 terrestrial events removed from catalog (1467 remain)\n"
     ]
    }
   ],
   "execution_count": 3
  },
  {
   "metadata": {},
   "cell_type": "markdown",
   "source": "### Detections computation",
   "id": "88224664cbbfd7d9"
  },
  {
   "metadata": {
    "ExecuteTime": {
     "end_time": "2024-10-11T19:46:26.316743Z",
     "start_time": "2024-10-11T19:46:23.402772Z"
    }
   },
   "cell_type": "code",
   "source": [
    "if not Path(detections_file).is_file():\n",
    "    print(\"starting detection\")\n",
    "    to_read = glob2.glob(f\"../../data/detections/{year}/*.p\")\n",
    "    \n",
    "    detections = {}\n",
    "    for file in to_read:\n",
    "        info = file.split(\"_\")[-1][:-2].split(\"-\")\n",
    "        name, year_station = \"-\".join(info[:-1]), int(info[-1])\n",
    "        station = stations_c.by_starting_year(year_station).by_names(name)[0]\n",
    "        detections[station] = []\n",
    "        with open(file, \"rb\") as f:\n",
    "            while True:\n",
    "                try:\n",
    "                    detections[station].append(pickle.load(f))\n",
    "                except EOFError:\n",
    "                    break\n",
    "                    \n",
    "        detections[station] = np.array(detections[station])\n",
    "        detections[station] = detections[station][np.argsort(detections[station][:,0])]\n",
    "    \n",
    "        # merge close detections\n",
    "        to_del = set()\n",
    "        i, j = 0, 0\n",
    "        while j<len(detections[station]):\n",
    "            delta = (np.abs(detections[station][i,0] - detections[station][j,0]))\n",
    "            if delta.total_seconds() < 5:\n",
    "                detections[station][i,0] += delta / 2\n",
    "                to_del.add(j)\n",
    "            else:\n",
    "                i = j\n",
    "            j+=1\n",
    "        detections[station] = np.delete(detections[station], list(to_del), axis=0)\n",
    "        \n",
    "        print(f\"{len(list(to_del))} lines deleted ; {len(detections[station])} left for station {station}\")\n",
    "    np.save(detections_file, detections)\n",
    "else:\n",
    "    detections = np.load(detections_file, allow_pickle=True).item()\n",
    "embedding_managers = {s : NpyFilesManager(f\"../../data/detections/{year}/embedding_{year}_{s.name}-{s.date_start.year}\") for s in detections.keys()}"
   ],
   "id": "60fd086cd7d6948",
   "outputs": [],
   "execution_count": 4
  },
  {
   "metadata": {
    "ExecuteTime": {
     "end_time": "2024-10-11T19:46:47.404152Z",
     "start_time": "2024-10-11T19:46:26.340304Z"
    }
   },
   "cell_type": "code",
   "source": [
    "# merge all detections and sort them by date\n",
    "stations = list(detections.keys())\n",
    "merged_detections = []\n",
    "for s, dets in detections.items():\n",
    "    for det in dets:\n",
    "        merged_detections.append((det[0], det[1], s))\n",
    "merged_detections = np.array(merged_detections, dtype=np.object_)\n",
    "merged_detections = merged_detections[np.argsort(merged_detections[:,0])]"
   ],
   "id": "f09d0bfbef4d6eb",
   "outputs": [],
   "execution_count": 5
  },
  {
   "metadata": {
    "ExecuteTime": {
     "end_time": "2024-10-11T19:46:48.280951Z",
     "start_time": "2024-10-11T19:46:47.427985Z"
    }
   },
   "cell_type": "code",
   "source": [
    "allowed_delta = 30\n",
    "delta = get_delta(isc, allowed_delta)\n",
    "valid_ = get_valid(allowed_delta, delta, IDs)\n",
    "clusters_ = get_clusters(IDs, valid_)"
   ],
   "id": "6bade5f863ab41ea",
   "outputs": [],
   "execution_count": 6
  },
  {
   "metadata": {
    "ExecuteTime": {
     "end_time": "2024-10-11T19:46:48.315720Z",
     "start_time": "2024-10-11T19:46:48.300388Z"
    }
   },
   "cell_type": "code",
   "source": [
    "res = \"\"\n",
    "for id, cluster in clusters_.items():\n",
    "    if len(cluster)>1:\n",
    "        for ID in cluster:\n",
    "            res += f\"{isc[ID].get_pos()[0]},{isc[ID].get_pos()[1]},{id}\\n\"\n",
    "with open(\"res.csv\", \"w\") as f:\n",
    "    f.write(res)\n",
    "    \n",
    "date_min = [np.min([isc[ID].date for ID in cluster]) for cluster in clusters_.values()]\n",
    "clusters_ = list(clusters_.values())\n",
    "clusters_ = [clusters_[i] for i in np.argsort(date_min)]"
   ],
   "id": "e9c273ef6dccede7",
   "outputs": [],
   "execution_count": 7
  },
  {
   "metadata": {
    "ExecuteTime": {
     "end_time": "2024-10-11T19:46:53.969802Z",
     "start_time": "2024-10-11T19:46:48.339162Z"
    }
   },
   "cell_type": "code",
   "source": [
    "MIN_PROBA = 0.4\n",
    "merged_detections_kept = merged_detections[merged_detections[:,1]>MIN_PROBA]\n",
    "print(f\"{len(merged_detections_kept)} detections kept out of {len(merged_detections)}\")"
   ],
   "id": "8d96e37470f7c6e2",
   "outputs": [
    {
     "name": "stdout",
     "output_type": "stream",
     "text": [
      "462378 detections kept out of 4884183\n"
     ]
    }
   ],
   "execution_count": 8
  },
  {
   "metadata": {
    "ExecuteTime": {
     "end_time": "2024-10-11T19:46:54.023438Z",
     "start_time": "2024-10-11T19:46:53.999811Z"
    }
   },
   "cell_type": "code",
   "source": [
    "def get_embedding_diff_sliding(e1, e2):\n",
    "    e1_center, e2_center = e1.shape[1]//2, e2.shape[1]//2\n",
    "    e1 = np.array(e1[:, e1_center-HALF_FOCUS_SIZE:e1_center+HALF_FOCUS_SIZE+1])\n",
    "    e2 = np.array([e2[:, e2_center+i-HALF_FOCUS_SIZE:e2_center+i+HALF_FOCUS_SIZE+1] for i in range(-MAX_SHIFT, MAX_SHIFT+1)])\n",
    "    return np.sqrt(np.sum((e1[np.newaxis,:,:]-e2)**2, axis=(1,2))) / np.sqrt(HALF_FOCUS_SIZE*2*16*2)\n",
    "\n",
    "def find_shift(e1, e2, max_diff=0.4):\n",
    "    differences = get_embedding_diff_sliding(e1, e2)\n",
    "    peaks, _ = find_peaks(-differences, height=-max_diff)\n",
    "    peaks_s = np.round((peaks - len(differences)//2)*TIME_RES).astype(np.int32)\n",
    "    if len(peaks_s)>0:\n",
    "        idx = np.argmin(np.abs(peaks_s))\n",
    "        peak, height = peaks_s[idx], differences[peaks[idx]]\n",
    "    else:\n",
    "        peak, height = 0, None\n",
    "    \n",
    "    return datetime.timedelta(seconds=int(peak)), height\n",
    "\n",
    "\n",
    "def get_embedding(station, date):\n",
    "    npts = MAX_SHIFT+2*HALF_FOCUS_SIZE\n",
    "    dt = datetime.timedelta(seconds=npts * TIME_RES)\n",
    "    data = embedding_managers[station].getSegment(date-dt, date+dt)\n",
    "    data = resize(data, (16, 2*npts+1))\n",
    "    return data\n",
    "\n",
    "def find_candidates(detections, detection, d_h, seen_dates, tolerance, min_p=0):\n",
    "    date, s1 = detection[0], detection[-1]\n",
    "    embedding = get_embedding(s1, date)\n",
    "    if date in seen_dates:\n",
    "        return []\n",
    "    candidates = {}\n",
    "    for s2 in detections.keys():\n",
    "        if s1 == s2:\n",
    "            continue\n",
    "        detections_s2 = detections[s2]\n",
    "        idx_min = np.searchsorted(detections[s2][:,0], date + d_h[s1][s2] - tolerance, side='right')\n",
    "        idx = idx_min  # note : iterating like this instead of finding max with searchsorted is way more efficent\n",
    "        while idx < len(detections[s2]) and detections[s2][idx,0] < date + d_h[s1][s2] + tolerance:\n",
    "            det = detections_s2[idx]\n",
    "            if det[0] not in seen_dates and det[1]>min_p:\n",
    "                embedding_2 = get_embedding(s2, det[0])\n",
    "                shift, delta_embedding = find_shift(embedding, embedding_2)\n",
    "                det[0] += shift\n",
    "                if det[0] not in seen_dates and delta_embedding is not None:\n",
    "                    candidates.setdefault(s2, []).append((det[0], det[1], delta_embedding, s2))\n",
    "            idx += 1\n",
    "        if s2 in candidates:\n",
    "            candidates[s2] = np.array(candidates[s2])\n",
    "    return candidates\n",
    "\n",
    "def best_matchup(scores, nb, d_h, tolerance):\n",
    "    scores_merged = []\n",
    "    for s in scores.keys():\n",
    "        for j, score in enumerate(scores[s]):\n",
    "            scores_merged.append((s, j, score[2]))\n",
    "\n",
    "    scores_merged.sort(key=lambda x: x[2])\n",
    "    selected = []\n",
    "    chosen_idxs = set()\n",
    "    idx = 0\n",
    "    while len(selected) != nb and idx < len(scores_merged):\n",
    "        s, j, similarity = scores_merged[idx]\n",
    "        if s not in chosen_idxs:\n",
    "            consistent = True\n",
    "            d = scores[s][j][0]\n",
    "            for (s2, j2) in selected:\n",
    "                d2 = scores[s2][j2][0]\n",
    "                if not (d + d_h[s][s2] - tolerance < d2 < d + d_h[s][s2] + tolerance):\n",
    "                    consistent = False  # given location constraint, this can't be true\n",
    "            if consistent:\n",
    "                selected.append((s, j))\n",
    "                chosen_idxs.add(s)\n",
    "        idx += 1\n",
    "    return selected\n",
    "\n",
    "def load_processed(res_file):\n",
    "    if not Path(res_file).exists():\n",
    "        return set(), set()\n",
    "    with open(res_file, \"r\") as f:\n",
    "        lines = f.readlines()\n",
    "    seen_IDs = set()\n",
    "    seen_dates = set()\n",
    "    for line in lines:\n",
    "        seen_IDs.add(int(line.split(\",\")[6]))\n",
    "        dates = line.split(\",\")[9::2]\n",
    "        for date in dates:\n",
    "            date = date.strip()\n",
    "            if len(date) == 0:\n",
    "                continue\n",
    "            seen_dates.add(datetime.datetime.strptime(date, \"%Y%m%d_%H%M%S\"))\n",
    "    return seen_IDs, seen_dates\n",
    "\n",
    "def constrain_coord(coords):\n",
    "    coords[0] = (coords[0] + 90) % 180 - 90\n",
    "    coords[1] = (coords[1] + 180) % 360 - 180\n",
    "\n",
    "    if np.isclose(coords[1], 180) or np.isclose(coords[1], -180) or np.isclose(coords[0], 90) or np.isclose(coords[0], -90):\n",
    "        return [None, None]\n",
    "\n",
    "    return coords\n",
    "\n",
    "def locate(matchup, sound_model, cost_allowed=None, initial_pos=None):\n",
    "    det_times = [c[0] for c in matchup]\n",
    "    det_pos = [c[-1].get_pos() for c in matchup]\n",
    "    try:\n",
    "        r = sound_model.localize_common_source(det_pos, det_times, initial_pos=initial_pos)\n",
    "        if type(r) != list and np.count_nonzero(np.isnan(r.x))==0:\n",
    "            r.x[1:] = constrain_coord(r.x[1:])\n",
    "            if r.x[1] is not None and (not cost_allowed or np.sqrt(r.cost/len(det_times)) < cost_allowed):\n",
    "                return True, r\n",
    "            else:\n",
    "                return False, r\n",
    "    except:\n",
    "        pass  # we return None\n",
    "    return False, None"
   ],
   "id": "8b5eb55928d64a93",
   "outputs": [],
   "execution_count": 9
  },
  {
   "metadata": {
    "ExecuteTime": {
     "end_time": "2024-10-11T19:46:54.334828Z",
     "start_time": "2024-10-11T19:46:54.049013Z"
    }
   },
   "cell_type": "code",
   "source": [
    "valid = get_valid(allowed_delta, delta, IDs)\n",
    "clusters = get_clusters(IDs, valid)\n",
    "date_min = [np.min([isc[ID].date for ID in cluster]) for cluster in clusters.values()]\n",
    "cluster_centroids = [np.mean([isc[ID].get_pos() for ID in cluster], axis=0) for cluster in clusters.values()]\n",
    "clusters = list(clusters.values())\n",
    "clusters = [clusters[i] for i in np.argsort(date_min)]\n",
    "print(f\"clusters computed, found {len(clusters)} out of {len(IDs)} events\")\n",
    "\n",
    "seen_IDs, seen_dates = load_processed(RES_FILE)"
   ],
   "id": "4eadb87855e69e9",
   "outputs": [
    {
     "name": "stdout",
     "output_type": "stream",
     "text": [
      "clusters computed, found 776 out of 1467 events\n"
     ]
    }
   ],
   "execution_count": 10
  },
  {
   "metadata": {
    "ExecuteTime": {
     "end_time": "2024-10-11T19:46:54.562578Z",
     "start_time": "2024-10-11T19:46:54.364280Z"
    }
   },
   "cell_type": "code",
   "source": [
    "cluster = clusters[0]\n",
    "centroid = np.mean([isc[ID].get_pos() for ID in cluster], axis=0)\n",
    "dates = [isc[ID].date for ID in cluster]\n",
    "date_min, date_max = np.min(dates)-TIME_DELTA_SEARCH, np.max(dates)+TIME_DELTA_SEARCH\n",
    "date_mid = date_min + (date_max - date_min) / 2\n",
    "expected = {s: sound_model_h.get_sound_travel_time(centroid, s.get_pos(), date=date_mid) for s in stations}\n",
    "# d_h[s1][s2] = given a detection on s1, time to wait before getting it on s2 (can be negative)\n",
    "d_h = {s1: {s2: datetime.timedelta(seconds=expected[s2] - expected[s1]) for s2 in stations} for s1 in\n",
    "       stations}\n",
    "\n",
    "idx0 = np.searchsorted(merged_detections_kept[:, 0], date_min, side='right')\n",
    "\n",
    "idx0 = 63\n",
    "# BEGIN analayse\n",
    "diffs = {}\n",
    "while len(diffs) == 0 or np.min(list(diffs.values())) > 0.3:\n",
    "    idx0 += 1\n",
    "    detection = merged_detections_kept[idx0]\n",
    "    diffs = {}\n",
    "    \n",
    "    date, s1 = detection[0], detection[-1]\n",
    "    embedding = get_embedding(s1, date)\n",
    "    candidates = {}\n",
    "    for s2 in detections.keys():\n",
    "        if s1 == s2:\n",
    "            continue\n",
    "        idx_min = np.searchsorted(detections[s2][:,0], date + d_h[s1][s2] - TOLERANCE, side='right')\n",
    "        idx = idx_min  # note : iterating like this instead of finding max with searchsorted is way more efficent\n",
    "        while idx < len(detections[s2]) and detections[s2][idx,0] < date + d_h[s1][s2] + TOLERANCE:\n",
    "            det = detections[s2][idx]\n",
    "            #print(\"found\",det, s2.name)\n",
    "            if det[1]>0.01:  # todo changed P\n",
    "                embedding_2 = get_embedding(s2, det[0])\n",
    "                shift, delta_embedding = find_shift(embedding, embedding_2)\n",
    "                shifted = det[0] + shift\n",
    "                diff = get_embedding_diff_sliding(embedding, embedding_2)\n",
    "                \n",
    "                if s2.name==\"NEAMS\":\n",
    "                    print(det)\n",
    "                    if det[0].second == 33:\n",
    "                        diff[len(diff)//2]=0\n",
    "                    else:\n",
    "                        break\n",
    "                \n",
    "                diffs[s2] = diff\n",
    "                \n",
    "                if delta_embedding is not None:\n",
    "                    candidates.setdefault(s2, []).append((shifted, det[1], np.min(diff), s2))\n",
    "            idx += 1\n",
    "        if s2 in candidates:\n",
    "            candidates[s2] = np.array(candidates[s2])\n",
    "\n",
    "\n",
    "# END analyse\n",
    "#print(\"cluster\", cluster, centroid, date_mid)\n",
    "min_s = list(diffs.keys())[np.argmin(np.min(np.array(list(diffs.values())),axis=1))]\n",
    "print(\"det\", detection[0], detection[1], detection[-1].name)\n",
    "print(\"candidates\", [(c.name, candidates[c]) for c in candidates])\n",
    "print(\"closest station is\",min_s.name)\n",
    "plt.plot(np.arange(-MAX_SHIFT,MAX_SHIFT+1)/2, diffs[min_s])"
   ],
   "id": "b1a174e79efa6d41",
   "outputs": [
    {
     "name": "stdout",
     "output_type": "stream",
     "text": [
      "[datetime.datetime(2018, 1, 1, 3, 33, 33, 354701) 0.8184]\n",
      "[datetime.datetime(2018, 1, 1, 3, 34, 2, 735043) 0.1016]\n",
      "det 2018-01-01 03:31:22.478632 0.5776 SSEIR\n",
      "candidates [('MADE', array([[datetime.datetime(2018, 1, 1, 3, 39, 1, 346154), 0.8257,\n",
      "        0.31106266,\n",
      "        <utils.data_reading.sound_data.station.Station object at 0x7280dcc6e0b0>]],\n",
      "      dtype=object)), ('NEAMS', array([[datetime.datetime(2018, 1, 1, 3, 33, 31, 354701), 0.8184, 0.0,\n",
      "        <utils.data_reading.sound_data.station.Station object at 0x7280dbcfddb0>]],\n",
      "      dtype=object)), ('SWAMS', array([[datetime.datetime(2018, 1, 1, 3, 41, 30, 987179), 0.503,\n",
      "        0.25662553,\n",
      "        <utils.data_reading.sound_data.station.Station object at 0x7280da140070>]],\n",
      "      dtype=object)), ('WKER2', array([[datetime.datetime(2018, 1, 1, 3, 50, 16, 559829), 0.2063,\n",
      "        0.20121467,\n",
      "        <utils.data_reading.sound_data.station.Station object at 0x7280da160df0>]],\n",
      "      dtype=object))]\n",
      "closest station is NEAMS\n"
     ]
    },
    {
     "data": {
      "text/plain": [
       "[<matplotlib.lines.Line2D at 0x72811170ae60>]"
      ]
     },
     "execution_count": 11,
     "metadata": {},
     "output_type": "execute_result"
    },
    {
     "data": {
      "text/plain": [
       "<Figure size 640x480 with 1 Axes>"
      ],
      "image/png": "[encoded data removed]"
     },
     "metadata": {},
     "output_type": "display_data"
    }
   ],
   "execution_count": 11
  },
  {
   "metadata": {
    "ExecuteTime": {
     "end_time": "2024-10-12T18:15:06.270565Z",
     "start_time": "2024-10-11T19:46:54.606062Z"
    }
   },
   "cell_type": "code",
   "source": [
    "print(\"starting matchup computation\")\n",
    "for i, cluster in enumerate(clusters):\n",
    "    if cluster[0] in seen_IDs:\n",
    "        continue\n",
    "    if len(cluster) > 0:  # generalize to all clusters including singletons\n",
    "        centroid = np.mean([isc[ID].get_pos() for ID in cluster], axis=0)\n",
    "        dates = [isc[ID].date for ID in cluster]\n",
    "        date_min, date_max = np.min(dates)-TIME_DELTA_SEARCH, np.max(dates)+TIME_DELTA_SEARCH\n",
    "        date_mid = date_min + (date_max - date_min) / 2\n",
    "\n",
    "        expected = {s: sound_model_h.get_sound_travel_time(centroid, s.get_pos(), date=date_mid) for s in stations}\n",
    "        # d_h[s1][s2] = given a detection on s1, time to wait before getting it on s2 (can be negative)\n",
    "        d_h = {s1: {s2: datetime.timedelta(seconds=expected[s2] - expected[s1]) for s2 in stations} for s1 in\n",
    "               stations}\n",
    "\n",
    "        # in bounds search\n",
    "        idx_min = np.searchsorted(merged_detections_kept[:, 0], date_min, side='right')\n",
    "        idx_max = np.searchsorted(merged_detections_kept[:, 0], date_max, side='left')\n",
    "        for idx in tqdm(range(idx_min, idx_max), position=0, leave=True):\n",
    "            detection = merged_detections_kept[idx]\n",
    "            try:\n",
    "                candidates = find_candidates(detections, detection, d_h, seen_dates=seen_dates, tolerance=TOLERANCE,\n",
    "                                         min_p=MIN_P_MATES)\n",
    "            except:\n",
    "                print(\"unable to find candidates for iteration\",i,idx)\n",
    "            # print(len(candidates))\n",
    "            if len(candidates) < NB:\n",
    "                continue\n",
    "            scores = {s: c for s, c in candidates.items()}\n",
    "            best_m = best_matchup(scores, NB, d_h, TOLERANCE)\n",
    "            if len(best_m) < NB:\n",
    "                continue\n",
    "\n",
    "            matchup = [list(detection[:-1]) + [0] + [detection[-1]]] + [candidates[s][j] for s, j in best_m]\n",
    "            loc_worked, loc_res = locate(matchup, sound_model_h, 10)\n",
    "\n",
    "            # if it didn't work because loc was not close enough, we try deleting a station\n",
    "            if not loc_worked and type(loc_res) != list and len(matchup) > NB + 1:\n",
    "                to_del = np.argmax(loc_res.fun)  # index of maximum residual\n",
    "                matchup = matchup[:to_del] + matchup[to_del+1:]\n",
    "                loc_worked, loc_res = locate(matchup, sound_model_h, 10)\n",
    "\n",
    "\n",
    "            # in case it worked, go further\n",
    "            if loc_worked:\n",
    "                loc_worked, loc_res = locate(matchup, sound_model_g, 5, initial_pos=loc_res.x[1:])\n",
    "                if loc_worked:\n",
    "                    det_times = [date] + [c[0] for c in matchup]\n",
    "                    date_event = np.min(det_times) + datetime.timedelta(seconds=loc_res.x[0])\n",
    "\n",
    "                    # add other stations\n",
    "                    changed = False\n",
    "                    loc_res_updated = copy.deepcopy(loc_res)\n",
    "                    matchup_updated = copy.deepcopy(matchup)\n",
    "\n",
    "                    seen_stations = set([c[-1] for c in matchup])\n",
    "                    for s, c in candidates.items():\n",
    "                        if s in seen_stations:\n",
    "                            continue\n",
    "                        try:\n",
    "                            expected_time = date_event + datetime.timedelta(\n",
    "                                seconds=sound_model_h.get_sound_travel_time(s.get_pos(), loc_res_updated.x[1:]))\n",
    "                        except:\n",
    "                            continue\n",
    "                        found = False\n",
    "                        for chosen in c:\n",
    "                            if np.abs(chosen[0] - expected_time).total_seconds() < 10:\n",
    "                                found = True\n",
    "                                break\n",
    "                        if not found:\n",
    "                            continue\n",
    "                        matchup_updated = matchup_updated + [chosen]\n",
    "                        loc_worked_new, loc_res_new = locate(matchup_updated, sound_model_h, 10)\n",
    "                        if loc_worked_new:  # update location\n",
    "                            changed = True\n",
    "                            seen_stations.add(chosen[-1])\n",
    "                            loc_res_updated = loc_res_new\n",
    "                        else:  # rollback\n",
    "                            matchup_updated = matchup_updated[:-1]\n",
    "\n",
    "                    if changed:\n",
    "                        loc_worked_new, loc_res_new = locate(matchup_updated, sound_model_g, 5, initial_pos=loc_res_updated.x[1:])\n",
    "                        if loc_worked_new:\n",
    "                            loc_res = loc_res_new\n",
    "                            matchup = matchup_updated\n",
    "\n",
    "                    d_from_cluster = np.sqrt(np.sum(np.square(np.array(loc_res.x[1:])-cluster_centroids[i])))\n",
    "                    det_times = [date] + [c[0] for c in matchup]\n",
    "                    for d in det_times:\n",
    "                        seen_dates.add(d)  # to avoid using the same detection twice\n",
    "                    date_event = np.min(det_times) + datetime.timedelta(seconds=loc_res.x[0])\n",
    "                    try:\n",
    "                        J = loc_res.jac\n",
    "                        cov = np.linalg.inv(J.T.dot(J))\n",
    "                        var = np.sqrt(np.diagonal(cov))\n",
    "                    except:\n",
    "                        var = [-1, -1, -1]\n",
    "\n",
    "                    # note: we register one ISC event from the cluster\n",
    "                    to_write = (f'{date_event.strftime(\"%Y%m%d_%H%M%S\")},{loc_res.x[1]:.4f},{loc_res.x[2]:.4f},'\n",
    "                                f'{var[0]:.4f},{var[1]:.4f},{var[2]:.4f},{cluster[0]},{d_from_cluster:.4f}')\n",
    "                    for d, _, _, s in matchup:\n",
    "                        to_write += f',{s.name}-{s.date_start.year},{d.strftime(\"%Y%m%d_%H%M%S\")}'\n",
    "                    with open(RES_FILE, \"a\") as f:\n",
    "                        f.write(to_write + \"\\n\")"
   ],
   "id": "bf7f5e0cd51d7605",
   "outputs": [
    {
     "name": "stdout",
     "output_type": "stream",
     "text": [
      "starting matchup computation\n"
     ]
    },
    {
     "data": {
      "text/plain": [
       "  0%|          | 0/2210 [00:00<?, ?it/s]"
      ],
      "application/vnd.jupyter.widget-view+json": {
       "version_major": 2,
       "version_minor": 0,
       "model_id": "dc8b7623f81f4aaf96cbf6afd2f47ad7"
      }
     },
     "metadata": {},
     "output_type": "display_data"
    },
    {
     "data": {
      "text/plain": [
       "  0%|          | 0/2230 [00:00<?, ?it/s]"
      ],
      "application/vnd.jupyter.widget-view+json": {
       "version_major": 2,
       "version_minor": 0,
       "model_id": "cf0c6df4ea1445829bfdff3997ce5ab8"
      }
     },
     "metadata": {},
     "output_type": "display_data"
    },
    {
     "data": {
      "text/plain": [
       "  0%|          | 0/2266 [00:00<?, ?it/s]"
      ],
      "application/vnd.jupyter.widget-view+json": {
       "version_major": 2,
       "version_minor": 0,
       "model_id": "b3418839e8b243ee836dd1e8d332ef29"
      }
     },
     "metadata": {},
     "output_type": "display_data"
    },
    {
     "data": {
      "text/plain": [
       "  0%|          | 0/2524 [00:00<?, ?it/s]"
      ],
      "application/vnd.jupyter.widget-view+json": {
       "version_major": 2,
       "version_minor": 0,
       "model_id": "a5d2c3fa0bf1421589f0d9914ea97561"
      }
     },
     "metadata": {},
     "output_type": "display_data"
    },
    {
     "data": {
      "text/plain": [
       "  0%|          | 0/2717 [00:00<?, ?it/s]"
      ],
      "application/vnd.jupyter.widget-view+json": {
       "version_major": 2,
       "version_minor": 0,
       "model_id": "dc8dee874f684dc4b9b98348507c4650"
      }
     },
     "metadata": {},
     "output_type": "display_data"
    },
    {
     "data": {
      "text/plain": [
       "  0%|          | 0/2907 [00:00<?, ?it/s]"
      ],
      "application/vnd.jupyter.widget-view+json": {
       "version_major": 2,
       "version_minor": 0,
       "model_id": "4d613fda43104ca6a6b3a790fc503911"
      }
     },
     "metadata": {},
     "output_type": "display_data"
    },
    {
     "data": {
      "text/plain": [
       "  0%|          | 0/3276 [00:00<?, ?it/s]"
      ],
      "application/vnd.jupyter.widget-view+json": {
       "version_major": 2,
       "version_minor": 0,
       "model_id": "d5288c68c61f4672b23b9fa7b2ad4904"
      }
     },
     "metadata": {},
     "output_type": "display_data"
    },
    {
     "data": {
      "text/plain": [
       "  0%|          | 0/3332 [00:00<?, ?it/s]"
      ],
      "application/vnd.jupyter.widget-view+json": {
       "version_major": 2,
       "version_minor": 0,
       "model_id": "e18c1500944a401bb18ed0dc1df3a973"
      }
     },
     "metadata": {},
     "output_type": "display_data"
    },
    {
     "data": {
      "text/plain": [
       "  0%|          | 0/3351 [00:00<?, ?it/s]"
      ],
      "application/vnd.jupyter.widget-view+json": {
       "version_major": 2,
       "version_minor": 0,
       "model_id": "9d318eda8af141f9b75cdc442a4fa916"
      }
     },
     "metadata": {},
     "output_type": "display_data"
    },
    {
     "data": {
      "text/plain": [
       "  0%|          | 0/3985 [00:00<?, ?it/s]"
      ],
      "application/vnd.jupyter.widget-view+json": {
       "version_major": 2,
       "version_minor": 0,
       "model_id": "adbe252992fe45158ed2d2ca726a323a"
      }
     },
     "metadata": {},
     "output_type": "display_data"
    },
    {
     "name": "stdout",
     "output_type": "stream",
     "text": [
      "unable to find candidates for iteration 9 3585\n",
      "unable to find candidates for iteration 9 3586\n",
      "unable to find candidates for iteration 9 3587\n",
      "unable to find candidates for iteration 9 3588\n"
     ]
    },
    {
     "data": {
      "text/plain": [
       "  0%|          | 0/5069 [00:00<?, ?it/s]"
      ],
      "application/vnd.jupyter.widget-view+json": {
       "version_major": 2,
       "version_minor": 0,
       "model_id": "60f5137947904e9fa50bb8d8c0f5e757"
      }
     },
     "metadata": {},
     "output_type": "display_data"
    },
    {
     "name": "stdout",
     "output_type": "stream",
     "text": [
      "unable to find candidates for iteration 10 3585\n",
      "unable to find candidates for iteration 10 3586\n",
      "unable to find candidates for iteration 10 3587\n",
      "unable to find candidates for iteration 10 3588\n"
     ]
    },
    {
     "data": {
      "text/plain": [
       "  0%|          | 0/5311 [00:00<?, ?it/s]"
      ],
      "application/vnd.jupyter.widget-view+json": {
       "version_major": 2,
       "version_minor": 0,
       "model_id": "56083245fa2f4869a13f02447650d2bf"
      }
     },
     "metadata": {},
     "output_type": "display_data"
    },
    {
     "name": "stdout",
     "output_type": "stream",
     "text": [
      "unable to find candidates for iteration 11 3583\n",
      "unable to find candidates for iteration 11 3585\n",
      "unable to find candidates for iteration 11 3586\n",
      "unable to find candidates for iteration 11 3587\n",
      "unable to find candidates for iteration 11 3588\n",
      "unable to find candidates for iteration 11 3675\n"
     ]
    },
    {
     "data": {
      "text/plain": [
       "  0%|          | 0/5663 [00:00<?, ?it/s]"
      ],
      "application/vnd.jupyter.widget-view+json": {
       "version_major": 2,
       "version_minor": 0,
       "model_id": "3a17d83592564c97bb249065839ab703"
      }
     },
     "metadata": {},
     "output_type": "display_data"
    },
    {
     "name": "stdout",
     "output_type": "stream",
     "text": [
      "unable to find candidates for iteration 12 3585\n",
      "unable to find candidates for iteration 12 3586\n",
      "unable to find candidates for iteration 12 3587\n",
      "unable to find candidates for iteration 12 3588\n",
      "unable to find candidates for iteration 12 3654\n"
     ]
    },
    {
     "data": {
      "text/plain": [
       "  0%|          | 0/6108 [00:00<?, ?it/s]"
      ],
      "application/vnd.jupyter.widget-view+json": {
       "version_major": 2,
       "version_minor": 0,
       "model_id": "ca4b98be5ff94370a7d9f092efdbb117"
      }
     },
     "metadata": {},
     "output_type": "display_data"
    },
    {
     "name": "stdout",
     "output_type": "stream",
     "text": [
      "unable to find candidates for iteration 13 3585\n",
      "unable to find candidates for iteration 13 3586\n",
      "unable to find candidates for iteration 13 3587\n",
      "unable to find candidates for iteration 13 3588\n",
      "unable to find candidates for iteration 13 3710\n",
      "unable to find candidates for iteration 13 3715\n"
     ]
    },
    {
     "data": {
      "text/plain": [
       "  0%|          | 0/6386 [00:00<?, ?it/s]"
      ],
      "application/vnd.jupyter.widget-view+json": {
       "version_major": 2,
       "version_minor": 0,
       "model_id": "48bafca4503041bcabedb4fb7c3c488a"
      }
     },
     "metadata": {},
     "output_type": "display_data"
    },
    {
     "name": "stdout",
     "output_type": "stream",
     "text": [
      "unable to find candidates for iteration 14 3585\n",
      "unable to find candidates for iteration 14 3586\n",
      "unable to find candidates for iteration 14 3587\n",
      "unable to find candidates for iteration 14 3588\n"
     ]
    },
    {
     "data": {
      "text/plain": [
       "  0%|          | 0/6389 [00:00<?, ?it/s]"
      ],
      "application/vnd.jupyter.widget-view+json": {
       "version_major": 2,
       "version_minor": 0,
       "model_id": "beb5d37a65924dc69fc182d6cb0823e5"
      }
     },
     "metadata": {},
     "output_type": "display_data"
    },
    {
     "name": "stdout",
     "output_type": "stream",
     "text": [
      "unable to find candidates for iteration 15 3585\n",
      "unable to find candidates for iteration 15 3586\n",
      "unable to find candidates for iteration 15 3587\n",
      "unable to find candidates for iteration 15 3588\n",
      "unable to find candidates for iteration 15 3710\n",
      "unable to find candidates for iteration 15 3715\n"
     ]
    },
    {
     "data": {
      "text/plain": [
       "  0%|          | 0/20839 [00:00<?, ?it/s]"
      ],
      "application/vnd.jupyter.widget-view+json": {
       "version_major": 2,
       "version_minor": 0,
       "model_id": "e6ab51c3a83f4bc0a32d04bac8e2c988"
      }
     },
     "metadata": {},
     "output_type": "display_data"
    },
    {
     "name": "stdout",
     "output_type": "stream",
     "text": [
      "unable to find candidates for iteration 16 3585\n",
      "unable to find candidates for iteration 16 3586\n",
      "unable to find candidates for iteration 16 3587\n",
      "unable to find candidates for iteration 16 3588\n",
      "unable to find candidates for iteration 16 3664\n",
      "unable to find candidates for iteration 16 3665\n",
      "unable to find candidates for iteration 16 3666\n"
     ]
    },
    {
     "data": {
      "text/plain": [
       "  0%|          | 0/7142 [00:00<?, ?it/s]"
      ],
      "application/vnd.jupyter.widget-view+json": {
       "version_major": 2,
       "version_minor": 0,
       "model_id": "f7cba7d096cb4d8e8897ddc8d2e42f2d"
      }
     },
     "metadata": {},
     "output_type": "display_data"
    },
    {
     "name": "stdout",
     "output_type": "stream",
     "text": [
      "unable to find candidates for iteration 17 3585\n",
      "unable to find candidates for iteration 17 3586\n",
      "unable to find candidates for iteration 17 3587\n",
      "unable to find candidates for iteration 17 3588\n",
      "unable to find candidates for iteration 17 3664\n",
      "unable to find candidates for iteration 17 3665\n",
      "unable to find candidates for iteration 17 3666\n",
      "unable to find candidates for iteration 17 6135\n"
     ]
    },
    {
     "data": {
      "text/plain": [
       "  0%|          | 0/7288 [00:00<?, ?it/s]"
      ],
      "application/vnd.jupyter.widget-view+json": {
       "version_major": 2,
       "version_minor": 0,
       "model_id": "704930278e2345638ae616fe80a08261"
      }
     },
     "metadata": {},
     "output_type": "display_data"
    },
    {
     "name": "stdout",
     "output_type": "stream",
     "text": [
      "unable to find candidates for iteration 18 3585\n",
      "unable to find candidates for iteration 18 3586\n",
      "unable to find candidates for iteration 18 3587\n",
      "unable to find candidates for iteration 18 3588\n",
      "unable to find candidates for iteration 18 3710\n",
      "unable to find candidates for iteration 18 7442\n"
     ]
    },
    {
     "data": {
      "text/plain": [
       "  0%|          | 0/7434 [00:00<?, ?it/s]"
      ],
      "application/vnd.jupyter.widget-view+json": {
       "version_major": 2,
       "version_minor": 0,
       "model_id": "993353146a1442a78d99dfaed83a2590"
      }
     },
     "metadata": {},
     "output_type": "display_data"
    },
    {
     "name": "stdout",
     "output_type": "stream",
     "text": [
      "unable to find candidates for iteration 19 3585\n",
      "unable to find candidates for iteration 19 3586\n",
      "unable to find candidates for iteration 19 3587\n",
      "unable to find candidates for iteration 19 3588\n",
      "unable to find candidates for iteration 19 3711\n",
      "unable to find candidates for iteration 19 6129\n",
      "unable to find candidates for iteration 19 7428\n",
      "unable to find candidates for iteration 19 7429\n"
     ]
    },
    {
     "data": {
      "text/plain": [
       "  0%|          | 0/8680 [00:00<?, ?it/s]"
      ],
      "application/vnd.jupyter.widget-view+json": {
       "version_major": 2,
       "version_minor": 0,
       "model_id": "92be7ee6bad54959b580f0ca9b9839b1"
      }
     },
     "metadata": {},
     "output_type": "display_data"
    },
    {
     "name": "stdout",
     "output_type": "stream",
     "text": [
      "unable to find candidates for iteration 20 3581\n",
      "unable to find candidates for iteration 20 3585\n",
      "unable to find candidates for iteration 20 3586\n",
      "unable to find candidates for iteration 20 3587\n",
      "unable to find candidates for iteration 20 3588\n",
      "unable to find candidates for iteration 20 3665\n",
      "unable to find candidates for iteration 20 3666\n"
     ]
    },
    {
     "data": {
      "text/plain": [
       "  0%|          | 0/8748 [00:00<?, ?it/s]"
      ],
      "application/vnd.jupyter.widget-view+json": {
       "version_major": 2,
       "version_minor": 0,
       "model_id": "102a3149c76b4120ae5f55f5b3c86636"
      }
     },
     "metadata": {},
     "output_type": "display_data"
    },
    {
     "name": "stdout",
     "output_type": "stream",
     "text": [
      "unable to find candidates for iteration 21 3585\n",
      "unable to find candidates for iteration 21 3586\n",
      "unable to find candidates for iteration 21 3587\n",
      "unable to find candidates for iteration 21 3588\n",
      "unable to find candidates for iteration 21 3711\n",
      "unable to find candidates for iteration 21 7416\n",
      "unable to find candidates for iteration 21 10711\n"
     ]
    },
    {
     "data": {
      "text/plain": [
       "  0%|          | 0/8788 [00:00<?, ?it/s]"
      ],
      "application/vnd.jupyter.widget-view+json": {
       "version_major": 2,
       "version_minor": 0,
       "model_id": "ca5ac5653610433ca1c0bf1e6856e6b5"
      }
     },
     "metadata": {},
     "output_type": "display_data"
    },
    {
     "name": "stdout",
     "output_type": "stream",
     "text": [
      "unable to find candidates for iteration 22 3585\n",
      "unable to find candidates for iteration 22 3586\n",
      "unable to find candidates for iteration 22 3587\n",
      "unable to find candidates for iteration 22 3588\n",
      "unable to find candidates for iteration 22 3710\n",
      "unable to find candidates for iteration 22 3715\n",
      "unable to find candidates for iteration 22 7440\n",
      "unable to find candidates for iteration 22 7442\n",
      "unable to find candidates for iteration 22 10234\n"
     ]
    },
    {
     "data": {
      "text/plain": [
       "  0%|          | 0/8815 [00:00<?, ?it/s]"
      ],
      "application/vnd.jupyter.widget-view+json": {
       "version_major": 2,
       "version_minor": 0,
       "model_id": "04041b5e2c6a4d35aea333aa30fd570f"
      }
     },
     "metadata": {},
     "output_type": "display_data"
    },
    {
     "name": "stdout",
     "output_type": "stream",
     "text": [
      "unable to find candidates for iteration 23 3585\n",
      "unable to find candidates for iteration 23 3586\n",
      "unable to find candidates for iteration 23 3587\n",
      "unable to find candidates for iteration 23 3588\n",
      "unable to find candidates for iteration 23 3701\n",
      "unable to find candidates for iteration 23 7429\n",
      "unable to find candidates for iteration 23 7430\n",
      "unable to find candidates for iteration 23 7431\n"
     ]
    },
    {
     "data": {
      "text/plain": [
       "  0%|          | 0/8821 [00:00<?, ?it/s]"
      ],
      "application/vnd.jupyter.widget-view+json": {
       "version_major": 2,
       "version_minor": 0,
       "model_id": "096d285512494c8bb32a2d318e0d9530"
      }
     },
     "metadata": {},
     "output_type": "display_data"
    },
    {
     "name": "stdout",
     "output_type": "stream",
     "text": [
      "unable to find candidates for iteration 24 3585\n",
      "unable to find candidates for iteration 24 3586\n",
      "unable to find candidates for iteration 24 3587\n",
      "unable to find candidates for iteration 24 3588\n",
      "unable to find candidates for iteration 24 3710\n",
      "unable to find candidates for iteration 24 3715\n",
      "unable to find candidates for iteration 24 7445\n"
     ]
    },
    {
     "data": {
      "text/plain": [
       "  0%|          | 0/8831 [00:00<?, ?it/s]"
      ],
      "application/vnd.jupyter.widget-view+json": {
       "version_major": 2,
       "version_minor": 0,
       "model_id": "145d725f0f70420fab069453ab61ffed"
      }
     },
     "metadata": {},
     "output_type": "display_data"
    },
    {
     "name": "stdout",
     "output_type": "stream",
     "text": [
      "unable to find candidates for iteration 25 3585\n",
      "unable to find candidates for iteration 25 3586\n",
      "unable to find candidates for iteration 25 3587\n",
      "unable to find candidates for iteration 25 3588\n",
      "unable to find candidates for iteration 25 3638\n",
      "unable to find candidates for iteration 25 3643\n",
      "unable to find candidates for iteration 25 3654\n",
      "unable to find candidates for iteration 25 10760\n",
      "unable to find candidates for iteration 25 10762\n"
     ]
    },
    {
     "data": {
      "text/plain": [
       "  0%|          | 0/8824 [00:00<?, ?it/s]"
      ],
      "application/vnd.jupyter.widget-view+json": {
       "version_major": 2,
       "version_minor": 0,
       "model_id": "fc23c78e97e642048bb9af5cf6c4ad5e"
      }
     },
     "metadata": {},
     "output_type": "display_data"
    },
    {
     "name": "stdout",
     "output_type": "stream",
     "text": [
      "unable to find candidates for iteration 26 3585\n",
      "unable to find candidates for iteration 26 3586\n",
      "unable to find candidates for iteration 26 3587\n",
      "unable to find candidates for iteration 26 3588\n",
      "unable to find candidates for iteration 26 3711\n",
      "unable to find candidates for iteration 26 10226\n"
     ]
    },
    {
     "data": {
      "text/plain": [
       "  0%|          | 0/8883 [00:00<?, ?it/s]"
      ],
      "application/vnd.jupyter.widget-view+json": {
       "version_major": 2,
       "version_minor": 0,
       "model_id": "5fac94cc72c5484fb44b0ce24e7fbea9"
      }
     },
     "metadata": {},
     "output_type": "display_data"
    },
    {
     "name": "stdout",
     "output_type": "stream",
     "text": [
      "unable to find candidates for iteration 27 3585\n",
      "unable to find candidates for iteration 27 3586\n",
      "unable to find candidates for iteration 27 3587\n",
      "unable to find candidates for iteration 27 3588\n",
      "unable to find candidates for iteration 27 3711\n",
      "unable to find candidates for iteration 27 7435\n",
      "unable to find candidates for iteration 27 10226\n"
     ]
    },
    {
     "data": {
      "text/plain": [
       "  0%|          | 0/9071 [00:00<?, ?it/s]"
      ],
      "application/vnd.jupyter.widget-view+json": {
       "version_major": 2,
       "version_minor": 0,
       "model_id": "6bee478f7a9e4b80ba46d44b896a3d9b"
      }
     },
     "metadata": {},
     "output_type": "display_data"
    },
    {
     "name": "stdout",
     "output_type": "stream",
     "text": [
      "unable to find candidates for iteration 28 3585\n",
      "unable to find candidates for iteration 28 3586\n",
      "unable to find candidates for iteration 28 3587\n",
      "unable to find candidates for iteration 28 3588\n",
      "unable to find candidates for iteration 28 3617\n",
      "unable to find candidates for iteration 28 3654\n",
      "unable to find candidates for iteration 28 10719\n"
     ]
    },
    {
     "data": {
      "text/plain": [
       "  0%|          | 0/9191 [00:00<?, ?it/s]"
      ],
      "application/vnd.jupyter.widget-view+json": {
       "version_major": 2,
       "version_minor": 0,
       "model_id": "80a01a03ca87496c80d6337b49b86d6c"
      }
     },
     "metadata": {},
     "output_type": "display_data"
    },
    {
     "name": "stdout",
     "output_type": "stream",
     "text": [
      "unable to find candidates for iteration 29 7440\n",
      "unable to find candidates for iteration 29 10234\n"
     ]
    },
    {
     "data": {
      "text/plain": [
       "  0%|          | 0/9239 [00:00<?, ?it/s]"
      ],
      "application/vnd.jupyter.widget-view+json": {
       "version_major": 2,
       "version_minor": 0,
       "model_id": "43a4fcc779d24c16b6aa6fc9ab075692"
      }
     },
     "metadata": {},
     "output_type": "display_data"
    },
    {
     "name": "stdout",
     "output_type": "stream",
     "text": [
      "unable to find candidates for iteration 30 6131\n",
      "unable to find candidates for iteration 30 10706\n"
     ]
    },
    {
     "data": {
      "text/plain": [
       "  0%|          | 0/9305 [00:00<?, ?it/s]"
      ],
      "application/vnd.jupyter.widget-view+json": {
       "version_major": 2,
       "version_minor": 0,
       "model_id": "7c2edbdc74e148a59b00827d3adc7dd7"
      }
     },
     "metadata": {},
     "output_type": "display_data"
    },
    {
     "name": "stdout",
     "output_type": "stream",
     "text": [
      "unable to find candidates for iteration 31 6131\n",
      "unable to find candidates for iteration 31 10706\n"
     ]
    },
    {
     "data": {
      "text/plain": [
       "  0%|          | 0/9741 [00:00<?, ?it/s]"
      ],
      "application/vnd.jupyter.widget-view+json": {
       "version_major": 2,
       "version_minor": 0,
       "model_id": "3e08b61b4d434e7e938f263a1b313002"
      }
     },
     "metadata": {},
     "output_type": "display_data"
    },
    {
     "name": "stdout",
     "output_type": "stream",
     "text": [
      "unable to find candidates for iteration 32 6123\n",
      "unable to find candidates for iteration 32 7420\n"
     ]
    },
    {
     "data": {
      "text/plain": [
       "  0%|          | 0/9741 [00:00<?, ?it/s]"
      ],
      "application/vnd.jupyter.widget-view+json": {
       "version_major": 2,
       "version_minor": 0,
       "model_id": "a012e8d338ba47f8813bf0cb289ca169"
      }
     },
     "metadata": {},
     "output_type": "display_data"
    },
    {
     "name": "stdout",
     "output_type": "stream",
     "text": [
      "unable to find candidates for iteration 33 7410\n",
      "unable to find candidates for iteration 33 7411\n",
      "unable to find candidates for iteration 33 7416\n",
      "unable to find candidates for iteration 33 10205\n",
      "unable to find candidates for iteration 33 10698\n"
     ]
    },
    {
     "data": {
      "text/plain": [
       "  0%|          | 0/9845 [00:00<?, ?it/s]"
      ],
      "application/vnd.jupyter.widget-view+json": {
       "version_major": 2,
       "version_minor": 0,
       "model_id": "c6559457c1be46f6a35039c5bbbd75a0"
      }
     },
     "metadata": {},
     "output_type": "display_data"
    },
    {
     "name": "stdout",
     "output_type": "stream",
     "text": [
      "unable to find candidates for iteration 34 6139\n",
      "unable to find candidates for iteration 34 7380\n",
      "unable to find candidates for iteration 34 10768\n"
     ]
    },
    {
     "data": {
      "text/plain": [
       "  0%|          | 0/9656 [00:00<?, ?it/s]"
      ],
      "application/vnd.jupyter.widget-view+json": {
       "version_major": 2,
       "version_minor": 0,
       "model_id": "4b246d76b3174223aa585256921b1cac"
      }
     },
     "metadata": {},
     "output_type": "display_data"
    },
    {
     "name": "stdout",
     "output_type": "stream",
     "text": [
      "unable to find candidates for iteration 35 7801\n",
      "unable to find candidates for iteration 35 10718\n"
     ]
    },
    {
     "data": {
      "text/plain": [
       "  0%|          | 0/9730 [00:00<?, ?it/s]"
      ],
      "application/vnd.jupyter.widget-view+json": {
       "version_major": 2,
       "version_minor": 0,
       "model_id": "12ab7bd7107b48a59cc2e772d86017ec"
      }
     },
     "metadata": {},
     "output_type": "display_data"
    },
    {
     "name": "stdout",
     "output_type": "stream",
     "text": [
      "unable to find candidates for iteration 36 6139\n",
      "unable to find candidates for iteration 36 7380\n",
      "unable to find candidates for iteration 36 7383\n",
      "unable to find candidates for iteration 36 7403\n",
      "unable to find candidates for iteration 36 7795\n"
     ]
    },
    {
     "data": {
      "text/plain": [
       "  0%|          | 0/25978 [00:00<?, ?it/s]"
      ],
      "application/vnd.jupyter.widget-view+json": {
       "version_major": 2,
       "version_minor": 0,
       "model_id": "876cbdcb2c0d4eef8a2e97d00bebff0b"
      }
     },
     "metadata": {},
     "output_type": "display_data"
    },
    {
     "name": "stdout",
     "output_type": "stream",
     "text": [
      "unable to find candidates for iteration 37 7442\n",
      "unable to find candidates for iteration 37 10234\n"
     ]
    },
    {
     "data": {
      "text/plain": [
       "  0%|          | 0/8802 [00:00<?, ?it/s]"
      ],
      "application/vnd.jupyter.widget-view+json": {
       "version_major": 2,
       "version_minor": 0,
       "model_id": "a697bd5c0287430dad96a548730d6fea"
      }
     },
     "metadata": {},
     "output_type": "display_data"
    },
    {
     "name": "stdout",
     "output_type": "stream",
     "text": [
      "unable to find candidates for iteration 38 10221\n",
      "unable to find candidates for iteration 38 10702\n",
      "unable to find candidates for iteration 38 10706\n"
     ]
    },
    {
     "data": {
      "text/plain": [
       "  0%|          | 0/8903 [00:00<?, ?it/s]"
      ],
      "application/vnd.jupyter.widget-view+json": {
       "version_major": 2,
       "version_minor": 0,
       "model_id": "4bb43e6f47254bf2997e4bbb0bd8a65d"
      }
     },
     "metadata": {},
     "output_type": "display_data"
    },
    {
     "name": "stdout",
     "output_type": "stream",
     "text": [
      "unable to find candidates for iteration 39 10723\n"
     ]
    },
    {
     "data": {
      "text/plain": [
       "  0%|          | 0/8992 [00:00<?, ?it/s]"
      ],
      "application/vnd.jupyter.widget-view+json": {
       "version_major": 2,
       "version_minor": 0,
       "model_id": "dca8ce7b8b6746d19d0d1895475f85e9"
      }
     },
     "metadata": {},
     "output_type": "display_data"
    },
    {
     "name": "stdout",
     "output_type": "stream",
     "text": [
      "unable to find candidates for iteration 40 10710\n"
     ]
    },
    {
     "data": {
      "text/plain": [
       "  0%|          | 0/8978 [00:00<?, ?it/s]"
      ],
      "application/vnd.jupyter.widget-view+json": {
       "version_major": 2,
       "version_minor": 0,
       "model_id": "039e0ab1c5904caca27b4d7b8a0c06e3"
      }
     },
     "metadata": {},
     "output_type": "display_data"
    },
    {
     "name": "stdout",
     "output_type": "stream",
     "text": [
      "unable to find candidates for iteration 41 10226\n",
      "unable to find candidates for iteration 41 10633\n",
      "unable to find candidates for iteration 41 10654\n",
      "unable to find candidates for iteration 41 10694\n",
      "unable to find candidates for iteration 41 10697\n",
      "unable to find candidates for iteration 41 10732\n"
     ]
    },
    {
     "data": {
      "text/plain": [
       "  0%|          | 0/8964 [00:00<?, ?it/s]"
      ],
      "application/vnd.jupyter.widget-view+json": {
       "version_major": 2,
       "version_minor": 0,
       "model_id": "d66aaf59fb894cb5b7619ae79d1a0191"
      }
     },
     "metadata": {},
     "output_type": "display_data"
    },
    {
     "name": "stdout",
     "output_type": "stream",
     "text": [
      "unable to find candidates for iteration 42 10682\n",
      "unable to find candidates for iteration 42 10707\n",
      "unable to find candidates for iteration 42 10708\n",
      "unable to find candidates for iteration 42 10723\n"
     ]
    },
    {
     "data": {
      "text/plain": [
       "  0%|          | 0/8939 [00:00<?, ?it/s]"
      ],
      "application/vnd.jupyter.widget-view+json": {
       "version_major": 2,
       "version_minor": 0,
       "model_id": "b0ecf5508c934e49a7283516fa53853c"
      }
     },
     "metadata": {},
     "output_type": "display_data"
    },
    {
     "name": "stdout",
     "output_type": "stream",
     "text": [
      "unable to find candidates for iteration 43 10619\n",
      "unable to find candidates for iteration 43 10633\n",
      "unable to find candidates for iteration 43 10651\n"
     ]
    },
    {
     "data": {
      "text/plain": [
       "  0%|          | 0/8916 [00:00<?, ?it/s]"
      ],
      "application/vnd.jupyter.widget-view+json": {
       "version_major": 2,
       "version_minor": 0,
       "model_id": "8b01a30e7c8a4c82852d18c97c6a3eb5"
      }
     },
     "metadata": {},
     "output_type": "display_data"
    },
    {
     "name": "stdout",
     "output_type": "stream",
     "text": [
      "unable to find candidates for iteration 44 10214\n",
      "unable to find candidates for iteration 44 10674\n",
      "unable to find candidates for iteration 44 10692\n",
      "unable to find candidates for iteration 44 10713\n"
     ]
    },
    {
     "data": {
      "text/plain": [
       "  0%|          | 0/9116 [00:00<?, ?it/s]"
      ],
      "application/vnd.jupyter.widget-view+json": {
       "version_major": 2,
       "version_minor": 0,
       "model_id": "c33c9c350e2a4522902d0883b99992d5"
      }
     },
     "metadata": {},
     "output_type": "display_data"
    },
    {
     "name": "stdout",
     "output_type": "stream",
     "text": [
      "unable to find candidates for iteration 45 10639\n",
      "unable to find candidates for iteration 45 10640\n",
      "unable to find candidates for iteration 45 10746\n"
     ]
    },
    {
     "data": {
      "text/plain": [
       "  0%|          | 0/9118 [00:00<?, ?it/s]"
      ],
      "application/vnd.jupyter.widget-view+json": {
       "version_major": 2,
       "version_minor": 0,
       "model_id": "90a10e55cf864176a4c202b212b717cb"
      }
     },
     "metadata": {},
     "output_type": "display_data"
    },
    {
     "name": "stdout",
     "output_type": "stream",
     "text": [
      "unable to find candidates for iteration 46 10645\n",
      "unable to find candidates for iteration 46 10646\n",
      "unable to find candidates for iteration 46 10718\n"
     ]
    },
    {
     "data": {
      "text/plain": [
       "  0%|          | 0/9974 [00:00<?, ?it/s]"
      ],
      "application/vnd.jupyter.widget-view+json": {
       "version_major": 2,
       "version_minor": 0,
       "model_id": "9ff9561d401a49bfb4bf5862ca537a3e"
      }
     },
     "metadata": {},
     "output_type": "display_data"
    },
    {
     "data": {
      "text/plain": [
       "  0%|          | 0/9966 [00:00<?, ?it/s]"
      ],
      "application/vnd.jupyter.widget-view+json": {
       "version_major": 2,
       "version_minor": 0,
       "model_id": "af612b0547fb420b8db168d9ea150f61"
      }
     },
     "metadata": {},
     "output_type": "display_data"
    },
    {
     "data": {
      "text/plain": [
       "  0%|          | 0/10186 [00:00<?, ?it/s]"
      ],
      "application/vnd.jupyter.widget-view+json": {
       "version_major": 2,
       "version_minor": 0,
       "model_id": "f433afe21ebf4455b9a18f6d342d99c0"
      }
     },
     "metadata": {},
     "output_type": "display_data"
    },
    {
     "data": {
      "text/plain": [
       "  0%|          | 0/11443 [00:00<?, ?it/s]"
      ],
      "application/vnd.jupyter.widget-view+json": {
       "version_major": 2,
       "version_minor": 0,
       "model_id": "272a6e639b6c455a8594c7134851c937"
      }
     },
     "metadata": {},
     "output_type": "display_data"
    },
    {
     "data": {
      "text/plain": [
       "  0%|          | 0/11835 [00:00<?, ?it/s]"
      ],
      "application/vnd.jupyter.widget-view+json": {
       "version_major": 2,
       "version_minor": 0,
       "model_id": "a66379e3befe4fb6b4d9c215752b8ab0"
      }
     },
     "metadata": {},
     "output_type": "display_data"
    },
    {
     "name": "stdout",
     "output_type": "stream",
     "text": [
      "unable to find candidates for iteration 51 15923\n",
      "unable to find candidates for iteration 51 23475\n"
     ]
    },
    {
     "data": {
      "text/plain": [
       "  0%|          | 0/12301 [00:00<?, ?it/s]"
      ],
      "application/vnd.jupyter.widget-view+json": {
       "version_major": 2,
       "version_minor": 0,
       "model_id": "99bca5bd84d54624bb3c3c6050006d8f"
      }
     },
     "metadata": {},
     "output_type": "display_data"
    },
    {
     "name": "stdout",
     "output_type": "stream",
     "text": [
      "unable to find candidates for iteration 52 15940\n",
      "unable to find candidates for iteration 52 22804\n",
      "unable to find candidates for iteration 52 23490\n"
     ]
    },
    {
     "data": {
      "text/plain": [
       "  0%|          | 0/12391 [00:00<?, ?it/s]"
      ],
      "application/vnd.jupyter.widget-view+json": {
       "version_major": 2,
       "version_minor": 0,
       "model_id": "c23818e275ea4e47b07791fc2c8501c3"
      }
     },
     "metadata": {},
     "output_type": "display_data"
    },
    {
     "name": "stdout",
     "output_type": "stream",
     "text": [
      "unable to find candidates for iteration 53 22510\n",
      "unable to find candidates for iteration 53 22647\n"
     ]
    },
    {
     "data": {
      "text/plain": [
       "  0%|          | 0/12371 [00:00<?, ?it/s]"
      ],
      "application/vnd.jupyter.widget-view+json": {
       "version_major": 2,
       "version_minor": 0,
       "model_id": "0fd8e75dd95049fe8418e87385bf6d3e"
      }
     },
     "metadata": {},
     "output_type": "display_data"
    },
    {
     "name": "stdout",
     "output_type": "stream",
     "text": [
      "unable to find candidates for iteration 54 22619\n",
      "unable to find candidates for iteration 54 22621\n",
      "unable to find candidates for iteration 54 22623\n",
      "unable to find candidates for iteration 54 23491\n"
     ]
    },
    {
     "data": {
      "text/plain": [
       "  0%|          | 0/12373 [00:00<?, ?it/s]"
      ],
      "application/vnd.jupyter.widget-view+json": {
       "version_major": 2,
       "version_minor": 0,
       "model_id": "efb4eb6f021f4fad9b9246e2bf66de64"
      }
     },
     "metadata": {},
     "output_type": "display_data"
    },
    {
     "name": "stdout",
     "output_type": "stream",
     "text": [
      "unable to find candidates for iteration 55 15925\n"
     ]
    },
    {
     "data": {
      "text/plain": [
       "  0%|          | 0/13483 [00:00<?, ?it/s]"
      ],
      "application/vnd.jupyter.widget-view+json": {
       "version_major": 2,
       "version_minor": 0,
       "model_id": "60d7b145cd004ef38b75f4fabb989829"
      }
     },
     "metadata": {},
     "output_type": "display_data"
    },
    {
     "data": {
      "text/plain": [
       "  0%|          | 0/13370 [00:00<?, ?it/s]"
      ],
      "application/vnd.jupyter.widget-view+json": {
       "version_major": 2,
       "version_minor": 0,
       "model_id": "6e8fee55686c4e2bbf4c5aede40b5f11"
      }
     },
     "metadata": {},
     "output_type": "display_data"
    },
    {
     "name": "stdout",
     "output_type": "stream",
     "text": [
      "unable to find candidates for iteration 57 23485\n"
     ]
    },
    {
     "data": {
      "text/plain": [
       "  0%|          | 0/13412 [00:00<?, ?it/s]"
      ],
      "application/vnd.jupyter.widget-view+json": {
       "version_major": 2,
       "version_minor": 0,
       "model_id": "41794973af61456eb4ec00cff9a2ae74"
      }
     },
     "metadata": {},
     "output_type": "display_data"
    },
    {
     "name": "stdout",
     "output_type": "stream",
     "text": [
      "unable to find candidates for iteration 58 22276\n"
     ]
    },
    {
     "data": {
      "text/plain": [
       "  0%|          | 0/13434 [00:00<?, ?it/s]"
      ],
      "application/vnd.jupyter.widget-view+json": {
       "version_major": 2,
       "version_minor": 0,
       "model_id": "1f917cd6a2be4cd780d6bb088b6db6b8"
      }
     },
     "metadata": {},
     "output_type": "display_data"
    },
    {
     "name": "stdout",
     "output_type": "stream",
     "text": [
      "unable to find candidates for iteration 59 23491\n"
     ]
    },
    {
     "data": {
      "text/plain": [
       "  0%|          | 0/14173 [00:00<?, ?it/s]"
      ],
      "application/vnd.jupyter.widget-view+json": {
       "version_major": 2,
       "version_minor": 0,
       "model_id": "6fcabbac8686430cbdbf6d16f971be40"
      }
     },
     "metadata": {},
     "output_type": "display_data"
    },
    {
     "name": "stdout",
     "output_type": "stream",
     "text": [
      "unable to find candidates for iteration 60 17814\n",
      "unable to find candidates for iteration 60 24313\n",
      "unable to find candidates for iteration 60 27220\n",
      "unable to find candidates for iteration 60 27269\n",
      "unable to find candidates for iteration 60 27277\n"
     ]
    },
    {
     "data": {
      "text/plain": [
       "  0%|          | 0/14173 [00:00<?, ?it/s]"
      ],
      "application/vnd.jupyter.widget-view+json": {
       "version_major": 2,
       "version_minor": 0,
       "model_id": "85d212ab53c14e70a68ac53550cf24c5"
      }
     },
     "metadata": {},
     "output_type": "display_data"
    },
    {
     "name": "stdout",
     "output_type": "stream",
     "text": [
      "unable to find candidates for iteration 61 15925\n",
      "unable to find candidates for iteration 61 15940\n",
      "unable to find candidates for iteration 61 22292\n",
      "unable to find candidates for iteration 61 22391\n",
      "unable to find candidates for iteration 61 23481\n",
      "unable to find candidates for iteration 61 24248\n",
      "unable to find candidates for iteration 61 27138\n",
      "unable to find candidates for iteration 61 27140\n",
      "unable to find candidates for iteration 61 27256\n"
     ]
    },
    {
     "data": {
      "text/plain": [
       "  0%|          | 0/14173 [00:00<?, ?it/s]"
      ],
      "application/vnd.jupyter.widget-view+json": {
       "version_major": 2,
       "version_minor": 0,
       "model_id": "a72ea92020b94e2cb0b0cbd576a342f2"
      }
     },
     "metadata": {},
     "output_type": "display_data"
    },
    {
     "name": "stdout",
     "output_type": "stream",
     "text": [
      "unable to find candidates for iteration 62 15940\n",
      "unable to find candidates for iteration 62 23474\n",
      "unable to find candidates for iteration 62 24248\n",
      "unable to find candidates for iteration 62 24249\n",
      "unable to find candidates for iteration 62 27138\n",
      "unable to find candidates for iteration 62 27140\n",
      "unable to find candidates for iteration 62 27256\n"
     ]
    },
    {
     "data": {
      "text/plain": [
       "  0%|          | 0/14155 [00:00<?, ?it/s]"
      ],
      "application/vnd.jupyter.widget-view+json": {
       "version_major": 2,
       "version_minor": 0,
       "model_id": "59f159931a124d72a439ec1842a4d6c7"
      }
     },
     "metadata": {},
     "output_type": "display_data"
    },
    {
     "name": "stdout",
     "output_type": "stream",
     "text": [
      "unable to find candidates for iteration 63 15911\n",
      "unable to find candidates for iteration 63 15924\n",
      "unable to find candidates for iteration 63 24199\n",
      "unable to find candidates for iteration 63 24246\n",
      "unable to find candidates for iteration 63 27170\n",
      "unable to find candidates for iteration 63 27171\n",
      "unable to find candidates for iteration 63 27860\n",
      "unable to find candidates for iteration 63 27861\n",
      "unable to find candidates for iteration 63 27869\n"
     ]
    },
    {
     "data": {
      "text/plain": [
       "  0%|          | 0/14672 [00:00<?, ?it/s]"
      ],
      "application/vnd.jupyter.widget-view+json": {
       "version_major": 2,
       "version_minor": 0,
       "model_id": "4e8afd1ea9f04fdb8fce8782e9f41144"
      }
     },
     "metadata": {},
     "output_type": "display_data"
    },
    {
     "name": "stdout",
     "output_type": "stream",
     "text": [
      "unable to find candidates for iteration 64 17826\n",
      "unable to find candidates for iteration 64 27167\n",
      "unable to find candidates for iteration 64 27200\n",
      "unable to find candidates for iteration 64 27202\n",
      "unable to find candidates for iteration 64 27230\n",
      "unable to find candidates for iteration 64 27235\n"
     ]
    },
    {
     "data": {
      "text/plain": [
       "  0%|          | 0/14770 [00:00<?, ?it/s]"
      ],
      "application/vnd.jupyter.widget-view+json": {
       "version_major": 2,
       "version_minor": 0,
       "model_id": "4c11c376ff0f40769bd1791d8c9c1280"
      }
     },
     "metadata": {},
     "output_type": "display_data"
    },
    {
     "name": "stdout",
     "output_type": "stream",
     "text": [
      "unable to find candidates for iteration 65 24310\n",
      "unable to find candidates for iteration 65 24354\n",
      "unable to find candidates for iteration 65 27254\n",
      "unable to find candidates for iteration 65 27863\n"
     ]
    },
    {
     "data": {
      "text/plain": [
       "  0%|          | 0/32942 [00:00<?, ?it/s]"
      ],
      "application/vnd.jupyter.widget-view+json": {
       "version_major": 2,
       "version_minor": 0,
       "model_id": "1bfc325b33f14f93acdbca509b099161"
      }
     },
     "metadata": {},
     "output_type": "display_data"
    },
    {
     "name": "stdout",
     "output_type": "stream",
     "text": [
      "unable to find candidates for iteration 66 24354\n",
      "unable to find candidates for iteration 66 27254\n",
      "unable to find candidates for iteration 66 27863\n",
      "unable to find candidates for iteration 66 36044\n",
      "unable to find candidates for iteration 66 36051\n",
      "unable to find candidates for iteration 66 47472\n",
      "unable to find candidates for iteration 66 47493\n",
      "unable to find candidates for iteration 66 47495\n",
      "unable to find candidates for iteration 66 47496\n"
     ]
    },
    {
     "data": {
      "text/plain": [
       "  0%|          | 0/14928 [00:00<?, ?it/s]"
      ],
      "application/vnd.jupyter.widget-view+json": {
       "version_major": 2,
       "version_minor": 0,
       "model_id": "23b19b7ad4ab458e8b8746d1fc404391"
      }
     },
     "metadata": {},
     "output_type": "display_data"
    },
    {
     "name": "stdout",
     "output_type": "stream",
     "text": [
      "unable to find candidates for iteration 67 23491\n"
     ]
    },
    {
     "data": {
      "text/plain": [
       "  0%|          | 0/35032 [00:00<?, ?it/s]"
      ],
      "application/vnd.jupyter.widget-view+json": {
       "version_major": 2,
       "version_minor": 0,
       "model_id": "1088a12a3a7345e1abe9322b85a3b2f3"
      }
     },
     "metadata": {},
     "output_type": "display_data"
    },
    {
     "name": "stdout",
     "output_type": "stream",
     "text": [
      "unable to find candidates for iteration 68 24318\n",
      "unable to find candidates for iteration 68 27280\n",
      "unable to find candidates for iteration 68 32592\n",
      "unable to find candidates for iteration 68 47466\n",
      "unable to find candidates for iteration 68 47473\n",
      "unable to find candidates for iteration 68 47493\n",
      "unable to find candidates for iteration 68 47495\n",
      "unable to find candidates for iteration 68 47496\n"
     ]
    },
    {
     "data": {
      "text/plain": [
       "  0%|          | 0/15014 [00:00<?, ?it/s]"
      ],
      "application/vnd.jupyter.widget-view+json": {
       "version_major": 2,
       "version_minor": 0,
       "model_id": "eb91df2e0dae47fda4e063566b28d36b"
      }
     },
     "metadata": {},
     "output_type": "display_data"
    },
    {
     "name": "stdout",
     "output_type": "stream",
     "text": [
      "unable to find candidates for iteration 69 22275\n",
      "unable to find candidates for iteration 69 24323\n"
     ]
    },
    {
     "data": {
      "text/plain": [
       "  0%|          | 0/14588 [00:00<?, ?it/s]"
      ],
      "application/vnd.jupyter.widget-view+json": {
       "version_major": 2,
       "version_minor": 0,
       "model_id": "bda86641fa8545d2a206ca2faf4648c4"
      }
     },
     "metadata": {},
     "output_type": "display_data"
    },
    {
     "name": "stdout",
     "output_type": "stream",
     "text": [
      "unable to find candidates for iteration 70 22292\n",
      "unable to find candidates for iteration 70 24224\n",
      "unable to find candidates for iteration 70 24276\n",
      "unable to find candidates for iteration 70 27161\n",
      "unable to find candidates for iteration 70 27203\n",
      "unable to find candidates for iteration 70 27204\n",
      "unable to find candidates for iteration 70 27235\n",
      "unable to find candidates for iteration 70 27243\n",
      "unable to find candidates for iteration 70 27863\n",
      "unable to find candidates for iteration 70 28818\n",
      "unable to find candidates for iteration 70 32594\n",
      "unable to find candidates for iteration 70 32595\n"
     ]
    },
    {
     "data": {
      "text/plain": [
       "  0%|          | 0/14590 [00:00<?, ?it/s]"
      ],
      "application/vnd.jupyter.widget-view+json": {
       "version_major": 2,
       "version_minor": 0,
       "model_id": "7e0c1533df254d80aedbdf42d89270f0"
      }
     },
     "metadata": {},
     "output_type": "display_data"
    },
    {
     "name": "stdout",
     "output_type": "stream",
     "text": [
      "unable to find candidates for iteration 71 22534\n",
      "unable to find candidates for iteration 71 24306\n",
      "unable to find candidates for iteration 71 27259\n",
      "unable to find candidates for iteration 71 27269\n",
      "unable to find candidates for iteration 71 27272\n",
      "unable to find candidates for iteration 71 27274\n",
      "unable to find candidates for iteration 71 32592\n",
      "unable to find candidates for iteration 71 32604\n"
     ]
    },
    {
     "data": {
      "text/plain": [
       "  0%|          | 0/15544 [00:00<?, ?it/s]"
      ],
      "application/vnd.jupyter.widget-view+json": {
       "version_major": 2,
       "version_minor": 0,
       "model_id": "aeca54cb493a47a6aabea8d7ef5afd97"
      }
     },
     "metadata": {},
     "output_type": "display_data"
    },
    {
     "name": "stdout",
     "output_type": "stream",
     "text": [
      "unable to find candidates for iteration 72 24207\n",
      "unable to find candidates for iteration 72 24280\n",
      "unable to find candidates for iteration 72 27198\n",
      "unable to find candidates for iteration 72 27200\n",
      "unable to find candidates for iteration 72 27860\n",
      "unable to find candidates for iteration 72 27861\n",
      "unable to find candidates for iteration 72 32605\n"
     ]
    },
    {
     "data": {
      "text/plain": [
       "  0%|          | 0/15437 [00:00<?, ?it/s]"
      ],
      "application/vnd.jupyter.widget-view+json": {
       "version_major": 2,
       "version_minor": 0,
       "model_id": "d0486588af814aa9af1c6e9d366493aa"
      }
     },
     "metadata": {},
     "output_type": "display_data"
    },
    {
     "name": "stdout",
     "output_type": "stream",
     "text": [
      "unable to find candidates for iteration 73 24304\n",
      "unable to find candidates for iteration 73 24305\n",
      "unable to find candidates for iteration 73 27216\n",
      "unable to find candidates for iteration 73 27269\n",
      "unable to find candidates for iteration 73 27272\n",
      "unable to find candidates for iteration 73 27857\n",
      "unable to find candidates for iteration 73 37144\n",
      "unable to find candidates for iteration 73 37145\n",
      "unable to find candidates for iteration 73 37212\n"
     ]
    },
    {
     "data": {
      "text/plain": [
       "  0%|          | 0/14855 [00:00<?, ?it/s]"
      ],
      "application/vnd.jupyter.widget-view+json": {
       "version_major": 2,
       "version_minor": 0,
       "model_id": "e1e4bc602c664852874edc46a3183ae5"
      }
     },
     "metadata": {},
     "output_type": "display_data"
    },
    {
     "name": "stdout",
     "output_type": "stream",
     "text": [
      "unable to find candidates for iteration 74 27162\n",
      "unable to find candidates for iteration 74 27855\n",
      "unable to find candidates for iteration 74 28810\n",
      "unable to find candidates for iteration 74 36984\n",
      "unable to find candidates for iteration 74 37094\n",
      "unable to find candidates for iteration 74 37097\n",
      "unable to find candidates for iteration 74 38673\n"
     ]
    },
    {
     "data": {
      "text/plain": [
       "  0%|          | 0/14663 [00:00<?, ?it/s]"
      ],
      "application/vnd.jupyter.widget-view+json": {
       "version_major": 2,
       "version_minor": 0,
       "model_id": "18b664fdf2db4cebb4b005667ec3a840"
      }
     },
     "metadata": {},
     "output_type": "display_data"
    },
    {
     "name": "stdout",
     "output_type": "stream",
     "text": [
      "unable to find candidates for iteration 75 27280\n",
      "unable to find candidates for iteration 75 32596\n",
      "unable to find candidates for iteration 75 37196\n",
      "unable to find candidates for iteration 75 37197\n",
      "unable to find candidates for iteration 75 37271\n",
      "unable to find candidates for iteration 75 37288\n",
      "unable to find candidates for iteration 75 38400\n"
     ]
    },
    {
     "data": {
      "text/plain": [
       "  0%|          | 0/14675 [00:00<?, ?it/s]"
      ],
      "application/vnd.jupyter.widget-view+json": {
       "version_major": 2,
       "version_minor": 0,
       "model_id": "c6904af6168444aaa5ab284133e0d9f4"
      }
     },
     "metadata": {},
     "output_type": "display_data"
    },
    {
     "name": "stdout",
     "output_type": "stream",
     "text": [
      "unable to find candidates for iteration 76 28824\n",
      "unable to find candidates for iteration 76 32594\n",
      "unable to find candidates for iteration 76 32595\n",
      "unable to find candidates for iteration 76 37189\n",
      "unable to find candidates for iteration 76 37191\n",
      "unable to find candidates for iteration 76 37273\n",
      "unable to find candidates for iteration 76 38410\n",
      "unable to find candidates for iteration 76 38413\n"
     ]
    },
    {
     "data": {
      "text/plain": [
       "  0%|          | 0/14722 [00:00<?, ?it/s]"
      ],
      "application/vnd.jupyter.widget-view+json": {
       "version_major": 2,
       "version_minor": 0,
       "model_id": "a9c76cee3946441a8ca383c0a609a666"
      }
     },
     "metadata": {},
     "output_type": "display_data"
    },
    {
     "name": "stdout",
     "output_type": "stream",
     "text": [
      "unable to find candidates for iteration 77 27169\n",
      "unable to find candidates for iteration 77 27170\n",
      "unable to find candidates for iteration 77 36062\n",
      "unable to find candidates for iteration 77 36770\n",
      "unable to find candidates for iteration 77 37003\n",
      "unable to find candidates for iteration 77 37005\n",
      "unable to find candidates for iteration 77 37101\n",
      "unable to find candidates for iteration 77 37148\n",
      "unable to find candidates for iteration 77 38659\n"
     ]
    },
    {
     "data": {
      "text/plain": [
       "  0%|          | 0/16553 [00:00<?, ?it/s]"
      ],
      "application/vnd.jupyter.widget-view+json": {
       "version_major": 2,
       "version_minor": 0,
       "model_id": "7db655cdb033423996080d7971b3d035"
      }
     },
     "metadata": {},
     "output_type": "display_data"
    },
    {
     "name": "stdout",
     "output_type": "stream",
     "text": [
      "unable to find candidates for iteration 78 27116\n",
      "unable to find candidates for iteration 78 27186\n",
      "unable to find candidates for iteration 78 27235\n",
      "unable to find candidates for iteration 78 27860\n",
      "unable to find candidates for iteration 78 28801\n",
      "unable to find candidates for iteration 78 32597\n",
      "unable to find candidates for iteration 78 36573\n",
      "unable to find candidates for iteration 78 36919\n",
      "unable to find candidates for iteration 78 37033\n",
      "unable to find candidates for iteration 78 37035\n",
      "unable to find candidates for iteration 78 37097\n",
      "unable to find candidates for iteration 78 37098\n",
      "unable to find candidates for iteration 78 38613\n"
     ]
    },
    {
     "data": {
      "text/plain": [
       "  0%|          | 0/14350 [00:00<?, ?it/s]"
      ],
      "application/vnd.jupyter.widget-view+json": {
       "version_major": 2,
       "version_minor": 0,
       "model_id": "e47b3a2cf9b248aa86e6f12b951fbef3"
      }
     },
     "metadata": {},
     "output_type": "display_data"
    },
    {
     "name": "stdout",
     "output_type": "stream",
     "text": [
      "unable to find candidates for iteration 79 27179\n",
      "unable to find candidates for iteration 79 27180\n",
      "unable to find candidates for iteration 79 27230\n",
      "unable to find candidates for iteration 79 27235\n",
      "unable to find candidates for iteration 79 27861\n",
      "unable to find candidates for iteration 79 28801\n",
      "unable to find candidates for iteration 79 28845\n",
      "unable to find candidates for iteration 79 36617\n",
      "unable to find candidates for iteration 79 37007\n",
      "unable to find candidates for iteration 79 37010\n",
      "unable to find candidates for iteration 79 37038\n",
      "unable to find candidates for iteration 79 37094\n",
      "unable to find candidates for iteration 79 37097\n",
      "unable to find candidates for iteration 79 37107\n",
      "unable to find candidates for iteration 79 38592\n",
      "unable to find candidates for iteration 79 38613\n",
      "unable to find candidates for iteration 79 38617\n"
     ]
    },
    {
     "data": {
      "text/plain": [
       "  0%|          | 0/14033 [00:00<?, ?it/s]"
      ],
      "application/vnd.jupyter.widget-view+json": {
       "version_major": 2,
       "version_minor": 0,
       "model_id": "0cc777c240c64aecbf4cd34b68e0fce2"
      }
     },
     "metadata": {},
     "output_type": "display_data"
    },
    {
     "name": "stdout",
     "output_type": "stream",
     "text": [
      "unable to find candidates for iteration 80 27853\n",
      "unable to find candidates for iteration 80 28810\n",
      "unable to find candidates for iteration 80 36569\n",
      "unable to find candidates for iteration 80 36979\n",
      "unable to find candidates for iteration 80 37026\n",
      "unable to find candidates for iteration 80 37028\n",
      "unable to find candidates for iteration 80 37094\n",
      "unable to find candidates for iteration 80 37097\n",
      "unable to find candidates for iteration 80 38611\n",
      "unable to find candidates for iteration 80 38630\n",
      "unable to find candidates for iteration 80 38632\n",
      "unable to find candidates for iteration 80 38633\n"
     ]
    },
    {
     "data": {
      "text/plain": [
       "  0%|          | 0/14344 [00:00<?, ?it/s]"
      ],
      "application/vnd.jupyter.widget-view+json": {
       "version_major": 2,
       "version_minor": 0,
       "model_id": "521460e6d2344f25a0bb3afc3b398182"
      }
     },
     "metadata": {},
     "output_type": "display_data"
    },
    {
     "name": "stdout",
     "output_type": "stream",
     "text": [
      "unable to find candidates for iteration 81 28801\n",
      "unable to find candidates for iteration 81 32597\n",
      "unable to find candidates for iteration 81 32610\n",
      "unable to find candidates for iteration 81 34776\n",
      "unable to find candidates for iteration 81 36573\n",
      "unable to find candidates for iteration 81 36623\n",
      "unable to find candidates for iteration 81 36919\n",
      "unable to find candidates for iteration 81 37031\n",
      "unable to find candidates for iteration 81 37033\n",
      "unable to find candidates for iteration 81 37097\n",
      "unable to find candidates for iteration 81 37098\n",
      "unable to find candidates for iteration 81 38583\n"
     ]
    },
    {
     "data": {
      "text/plain": [
       "  0%|          | 0/14360 [00:00<?, ?it/s]"
      ],
      "application/vnd.jupyter.widget-view+json": {
       "version_major": 2,
       "version_minor": 0,
       "model_id": "9de35001584b49de8a9d0b982d397cf5"
      }
     },
     "metadata": {},
     "output_type": "display_data"
    },
    {
     "name": "stdout",
     "output_type": "stream",
     "text": [
      "unable to find candidates for iteration 82 28801\n",
      "unable to find candidates for iteration 82 36054\n",
      "unable to find candidates for iteration 82 36573\n",
      "unable to find candidates for iteration 82 36623\n",
      "unable to find candidates for iteration 82 36625\n",
      "unable to find candidates for iteration 82 37026\n",
      "unable to find candidates for iteration 82 37028\n",
      "unable to find candidates for iteration 82 37097\n",
      "unable to find candidates for iteration 82 37098\n",
      "unable to find candidates for iteration 82 38526\n",
      "unable to find candidates for iteration 82 38529\n",
      "unable to find candidates for iteration 82 38580\n",
      "unable to find candidates for iteration 82 38582\n"
     ]
    },
    {
     "data": {
      "text/plain": [
       "  0%|          | 0/14367 [00:00<?, ?it/s]"
      ],
      "application/vnd.jupyter.widget-view+json": {
       "version_major": 2,
       "version_minor": 0,
       "model_id": "1c760b49abf143058073967ca4ecc444"
      }
     },
     "metadata": {},
     "output_type": "display_data"
    },
    {
     "name": "stdout",
     "output_type": "stream",
     "text": [
      "unable to find candidates for iteration 83 34766\n",
      "unable to find candidates for iteration 83 37148\n",
      "unable to find candidates for iteration 83 37197\n",
      "unable to find candidates for iteration 83 37198\n",
      "unable to find candidates for iteration 83 37290\n",
      "unable to find candidates for iteration 83 37292\n",
      "unable to find candidates for iteration 83 38400\n"
     ]
    },
    {
     "data": {
      "text/plain": [
       "  0%|          | 0/13937 [00:00<?, ?it/s]"
      ],
      "application/vnd.jupyter.widget-view+json": {
       "version_major": 2,
       "version_minor": 0,
       "model_id": "b59f3865a7654c35b741f0f280b4e833"
      }
     },
     "metadata": {},
     "output_type": "display_data"
    },
    {
     "name": "stdout",
     "output_type": "stream",
     "text": [
      "unable to find candidates for iteration 84 36613\n",
      "unable to find candidates for iteration 84 36650\n",
      "unable to find candidates for iteration 84 37001\n",
      "unable to find candidates for iteration 84 37003\n",
      "unable to find candidates for iteration 84 37094\n",
      "unable to find candidates for iteration 84 37097\n",
      "unable to find candidates for iteration 84 37107\n",
      "unable to find candidates for iteration 84 38599\n",
      "unable to find candidates for iteration 84 38618\n",
      "unable to find candidates for iteration 84 38620\n"
     ]
    },
    {
     "data": {
      "text/plain": [
       "  0%|          | 0/14924 [00:00<?, ?it/s]"
      ],
      "application/vnd.jupyter.widget-view+json": {
       "version_major": 2,
       "version_minor": 0,
       "model_id": "8fb6a37e25b744699409ed80df43bfc6"
      }
     },
     "metadata": {},
     "output_type": "display_data"
    },
    {
     "name": "stdout",
     "output_type": "stream",
     "text": [
      "unable to find candidates for iteration 85 32610\n",
      "unable to find candidates for iteration 85 34785\n",
      "unable to find candidates for iteration 85 36569\n",
      "unable to find candidates for iteration 85 36606\n",
      "unable to find candidates for iteration 85 36984\n",
      "unable to find candidates for iteration 85 36986\n",
      "unable to find candidates for iteration 85 37031\n",
      "unable to find candidates for iteration 85 37033\n",
      "unable to find candidates for iteration 85 37094\n",
      "unable to find candidates for iteration 85 37097\n",
      "unable to find candidates for iteration 85 37644\n",
      "unable to find candidates for iteration 85 38608\n",
      "unable to find candidates for iteration 85 38630\n",
      "unable to find candidates for iteration 85 43692\n"
     ]
    },
    {
     "data": {
      "text/plain": [
       "  0%|          | 0/14900 [00:00<?, ?it/s]"
      ],
      "application/vnd.jupyter.widget-view+json": {
       "version_major": 2,
       "version_minor": 0,
       "model_id": "1b10a29561ef4b7bb55e6ac25425ed2c"
      }
     },
     "metadata": {},
     "output_type": "display_data"
    },
    {
     "name": "stdout",
     "output_type": "stream",
     "text": [
      "unable to find candidates for iteration 86 34746\n",
      "unable to find candidates for iteration 86 34765\n",
      "unable to find candidates for iteration 86 34766\n",
      "unable to find candidates for iteration 86 36708\n",
      "unable to find candidates for iteration 86 36711\n",
      "unable to find candidates for iteration 86 37112\n",
      "unable to find candidates for iteration 86 37113\n",
      "unable to find candidates for iteration 86 37122\n",
      "unable to find candidates for iteration 86 38441\n",
      "unable to find candidates for iteration 86 38503\n",
      "unable to find candidates for iteration 86 38505\n",
      "unable to find candidates for iteration 86 38506\n",
      "unable to find candidates for iteration 86 43724\n"
     ]
    },
    {
     "data": {
      "text/plain": [
       "  0%|          | 0/14466 [00:00<?, ?it/s]"
      ],
      "application/vnd.jupyter.widget-view+json": {
       "version_major": 2,
       "version_minor": 0,
       "model_id": "f53ca624e41d4be0873cbba9c1b75501"
      }
     },
     "metadata": {},
     "output_type": "display_data"
    },
    {
     "name": "stdout",
     "output_type": "stream",
     "text": [
      "unable to find candidates for iteration 87 34772\n",
      "unable to find candidates for iteration 87 36919\n",
      "unable to find candidates for iteration 87 37010\n",
      "unable to find candidates for iteration 87 37038\n",
      "unable to find candidates for iteration 87 37094\n",
      "unable to find candidates for iteration 87 37097\n",
      "unable to find candidates for iteration 87 37107\n",
      "unable to find candidates for iteration 87 38589\n",
      "unable to find candidates for iteration 87 38613\n"
     ]
    },
    {
     "data": {
      "text/plain": [
       "  0%|          | 0/14731 [00:00<?, ?it/s]"
      ],
      "application/vnd.jupyter.widget-view+json": {
       "version_major": 2,
       "version_minor": 0,
       "model_id": "a6f80e2048ab49589952ba38ff703b11"
      }
     },
     "metadata": {},
     "output_type": "display_data"
    },
    {
     "name": "stdout",
     "output_type": "stream",
     "text": [
      "unable to find candidates for iteration 88 36044\n",
      "unable to find candidates for iteration 88 36051\n",
      "unable to find candidates for iteration 88 36761\n",
      "unable to find candidates for iteration 88 36763\n",
      "unable to find candidates for iteration 88 37177\n",
      "unable to find candidates for iteration 88 37226\n",
      "unable to find candidates for iteration 88 37241\n",
      "unable to find candidates for iteration 88 37333\n",
      "unable to find candidates for iteration 88 37645\n",
      "unable to find candidates for iteration 88 38465\n",
      "unable to find candidates for iteration 88 38466\n",
      "unable to find candidates for iteration 88 38545\n",
      "unable to find candidates for iteration 88 38548\n",
      "unable to find candidates for iteration 88 38588\n"
     ]
    },
    {
     "data": {
      "text/plain": [
       "  0%|          | 0/14552 [00:00<?, ?it/s]"
      ],
      "application/vnd.jupyter.widget-view+json": {
       "version_major": 2,
       "version_minor": 0,
       "model_id": "f3d829d7e2d747c68590fb91bbcb81e2"
      }
     },
     "metadata": {},
     "output_type": "display_data"
    },
    {
     "name": "stdout",
     "output_type": "stream",
     "text": [
      "unable to find candidates for iteration 89 36849\n",
      "unable to find candidates for iteration 89 36851\n",
      "unable to find candidates for iteration 89 36863\n",
      "unable to find candidates for iteration 89 37213\n",
      "unable to find candidates for iteration 89 37224\n",
      "unable to find candidates for iteration 89 37251\n",
      "unable to find candidates for iteration 89 37363\n",
      "unable to find candidates for iteration 89 37662\n",
      "unable to find candidates for iteration 89 37678\n",
      "unable to find candidates for iteration 89 38362\n",
      "unable to find candidates for iteration 89 38369\n",
      "unable to find candidates for iteration 89 38370\n",
      "unable to find candidates for iteration 89 43715\n",
      "unable to find candidates for iteration 89 43723\n",
      "unable to find candidates for iteration 89 43738\n"
     ]
    },
    {
     "data": {
      "text/plain": [
       "  0%|          | 0/14538 [00:00<?, ?it/s]"
      ],
      "application/vnd.jupyter.widget-view+json": {
       "version_major": 2,
       "version_minor": 0,
       "model_id": "42f07b474dff4601805b72f0e297611a"
      }
     },
     "metadata": {},
     "output_type": "display_data"
    },
    {
     "name": "stdout",
     "output_type": "stream",
     "text": [
      "unable to find candidates for iteration 90 36569\n",
      "unable to find candidates for iteration 90 36583\n",
      "unable to find candidates for iteration 90 36952\n",
      "unable to find candidates for iteration 90 37033\n",
      "unable to find candidates for iteration 90 37035\n",
      "unable to find candidates for iteration 90 37081\n",
      "unable to find candidates for iteration 90 37091\n",
      "unable to find candidates for iteration 90 37092\n",
      "unable to find candidates for iteration 90 38641\n",
      "unable to find candidates for iteration 90 38642\n",
      "unable to find candidates for iteration 90 38652\n",
      "unable to find candidates for iteration 90 43692\n",
      "unable to find candidates for iteration 90 44376\n",
      "unable to find candidates for iteration 90 44399\n",
      "unable to find candidates for iteration 90 47493\n",
      "unable to find candidates for iteration 90 47495\n",
      "unable to find candidates for iteration 90 47496\n",
      "unable to find candidates for iteration 90 47555\n",
      "unable to find candidates for iteration 90 47567\n"
     ]
    },
    {
     "data": {
      "text/plain": [
       "  0%|          | 0/14535 [00:00<?, ?it/s]"
      ],
      "application/vnd.jupyter.widget-view+json": {
       "version_major": 2,
       "version_minor": 0,
       "model_id": "0df6f7a98818486b91204eeb162ccd11"
      }
     },
     "metadata": {},
     "output_type": "display_data"
    },
    {
     "name": "stdout",
     "output_type": "stream",
     "text": [
      "unable to find candidates for iteration 91 36569\n",
      "unable to find candidates for iteration 91 36984\n",
      "unable to find candidates for iteration 91 37094\n",
      "unable to find candidates for iteration 91 37097\n",
      "unable to find candidates for iteration 91 38608\n",
      "unable to find candidates for iteration 91 38630\n",
      "unable to find candidates for iteration 91 38632\n",
      "unable to find candidates for iteration 91 38633\n",
      "unable to find candidates for iteration 91 43692\n",
      "unable to find candidates for iteration 91 43724\n",
      "unable to find candidates for iteration 91 44372\n",
      "unable to find candidates for iteration 91 47149\n",
      "unable to find candidates for iteration 91 47493\n",
      "unable to find candidates for iteration 91 47495\n",
      "unable to find candidates for iteration 91 47496\n",
      "unable to find candidates for iteration 91 47551\n",
      "unable to find candidates for iteration 91 47583\n"
     ]
    },
    {
     "data": {
      "text/plain": [
       "  0%|          | 0/35965 [00:00<?, ?it/s]"
      ],
      "application/vnd.jupyter.widget-view+json": {
       "version_major": 2,
       "version_minor": 0,
       "model_id": "7fffc037ee7147dbbe78847db350a9b0"
      }
     },
     "metadata": {},
     "output_type": "display_data"
    },
    {
     "name": "stdout",
     "output_type": "stream",
     "text": [
      "unable to find candidates for iteration 92 36635\n",
      "unable to find candidates for iteration 92 37035\n",
      "unable to find candidates for iteration 92 37098\n",
      "unable to find candidates for iteration 92 37099\n",
      "unable to find candidates for iteration 92 38561\n",
      "unable to find candidates for iteration 92 38563\n",
      "unable to find candidates for iteration 92 38569\n",
      "unable to find candidates for iteration 92 38593\n",
      "unable to find candidates for iteration 92 38595\n",
      "unable to find candidates for iteration 92 38678\n",
      "unable to find candidates for iteration 92 47153\n",
      "unable to find candidates for iteration 92 47160\n",
      "unable to find candidates for iteration 92 47493\n",
      "unable to find candidates for iteration 92 47495\n",
      "unable to find candidates for iteration 92 47496\n",
      "unable to find candidates for iteration 92 47509\n",
      "unable to find candidates for iteration 92 47518\n",
      "unable to find candidates for iteration 92 47545\n",
      "unable to find candidates for iteration 92 47548\n",
      "unable to find candidates for iteration 92 62609\n"
     ]
    },
    {
     "data": {
      "text/plain": [
       "  0%|          | 0/14435 [00:00<?, ?it/s]"
      ],
      "application/vnd.jupyter.widget-view+json": {
       "version_major": 2,
       "version_minor": 0,
       "model_id": "dc97907e2e29487c8cafcc8956babfea"
      }
     },
     "metadata": {},
     "output_type": "display_data"
    },
    {
     "name": "stdout",
     "output_type": "stream",
     "text": [
      "unable to find candidates for iteration 93 36802\n",
      "unable to find candidates for iteration 93 37196\n",
      "unable to find candidates for iteration 93 37197\n",
      "unable to find candidates for iteration 93 37271\n",
      "unable to find candidates for iteration 93 37288\n",
      "unable to find candidates for iteration 93 37672\n",
      "unable to find candidates for iteration 93 38400\n",
      "unable to find candidates for iteration 93 43708\n",
      "unable to find candidates for iteration 93 43728\n",
      "unable to find candidates for iteration 93 47466\n",
      "unable to find candidates for iteration 93 47493\n",
      "unable to find candidates for iteration 93 47495\n",
      "unable to find candidates for iteration 93 47496\n"
     ]
    },
    {
     "data": {
      "text/plain": [
       "  0%|          | 0/14327 [00:00<?, ?it/s]"
      ],
      "application/vnd.jupyter.widget-view+json": {
       "version_major": 2,
       "version_minor": 0,
       "model_id": "fe57ee2e176b44bf88d5741e85487d2c"
      }
     },
     "metadata": {},
     "output_type": "display_data"
    },
    {
     "name": "stdout",
     "output_type": "stream",
     "text": [
      "unable to find candidates for iteration 94 34752\n",
      "unable to find candidates for iteration 94 36784\n",
      "unable to find candidates for iteration 94 36787\n",
      "unable to find candidates for iteration 94 37081\n",
      "unable to find candidates for iteration 94 37087\n",
      "unable to find candidates for iteration 94 37149\n",
      "unable to find candidates for iteration 94 37150\n",
      "unable to find candidates for iteration 94 37651\n",
      "unable to find candidates for iteration 94 38442\n",
      "unable to find candidates for iteration 94 47468\n",
      "unable to find candidates for iteration 94 47486\n",
      "unable to find candidates for iteration 94 47493\n",
      "unable to find candidates for iteration 94 47495\n",
      "unable to find candidates for iteration 94 47496\n"
     ]
    },
    {
     "data": {
      "text/plain": [
       "  0%|          | 0/13947 [00:00<?, ?it/s]"
      ],
      "application/vnd.jupyter.widget-view+json": {
       "version_major": 2,
       "version_minor": 0,
       "model_id": "1784cbb761d44ad8b8aef5b04609c104"
      }
     },
     "metadata": {},
     "output_type": "display_data"
    },
    {
     "name": "stdout",
     "output_type": "stream",
     "text": [
      "unable to find candidates for iteration 95 36817\n",
      "unable to find candidates for iteration 95 36830\n",
      "unable to find candidates for iteration 95 37178\n",
      "unable to find candidates for iteration 95 37205\n",
      "unable to find candidates for iteration 95 38393\n",
      "unable to find candidates for iteration 95 38394\n",
      "unable to find candidates for iteration 95 44376\n",
      "unable to find candidates for iteration 95 45633\n",
      "unable to find candidates for iteration 95 45676\n",
      "unable to find candidates for iteration 95 47493\n",
      "unable to find candidates for iteration 95 47495\n",
      "unable to find candidates for iteration 95 47496\n",
      "unable to find candidates for iteration 95 47503\n",
      "unable to find candidates for iteration 95 48334\n"
     ]
    },
    {
     "data": {
      "text/plain": [
       "  0%|          | 0/12887 [00:00<?, ?it/s]"
      ],
      "application/vnd.jupyter.widget-view+json": {
       "version_major": 2,
       "version_minor": 0,
       "model_id": "3bf4614f72344e8c9f1039065ee58196"
      }
     },
     "metadata": {},
     "output_type": "display_data"
    },
    {
     "name": "stdout",
     "output_type": "stream",
     "text": [
      "unable to find candidates for iteration 96 38407\n",
      "unable to find candidates for iteration 96 38410\n",
      "unable to find candidates for iteration 96 38460\n",
      "unable to find candidates for iteration 96 45676\n",
      "unable to find candidates for iteration 96 47465\n",
      "unable to find candidates for iteration 96 47493\n",
      "unable to find candidates for iteration 96 47495\n",
      "unable to find candidates for iteration 96 47496\n",
      "unable to find candidates for iteration 96 47503\n"
     ]
    },
    {
     "data": {
      "text/plain": [
       "  0%|          | 0/12418 [00:00<?, ?it/s]"
      ],
      "application/vnd.jupyter.widget-view+json": {
       "version_major": 2,
       "version_minor": 0,
       "model_id": "568dba89fd37439b96504c24d002fdeb"
      }
     },
     "metadata": {},
     "output_type": "display_data"
    },
    {
     "name": "stdout",
     "output_type": "stream",
     "text": [
      "unable to find candidates for iteration 97 38630\n",
      "unable to find candidates for iteration 97 43692\n",
      "unable to find candidates for iteration 97 47493\n",
      "unable to find candidates for iteration 97 47495\n",
      "unable to find candidates for iteration 97 47496\n",
      "unable to find candidates for iteration 97 47531\n",
      "unable to find candidates for iteration 97 47551\n",
      "unable to find candidates for iteration 97 47576\n",
      "unable to find candidates for iteration 97 47577\n",
      "unable to find candidates for iteration 97 47578\n",
      "unable to find candidates for iteration 97 47583\n",
      "unable to find candidates for iteration 97 47632\n",
      "unable to find candidates for iteration 97 48284\n",
      "unable to find candidates for iteration 97 48308\n",
      "unable to find candidates for iteration 97 50010\n"
     ]
    },
    {
     "data": {
      "text/plain": [
       "  0%|          | 0/12218 [00:00<?, ?it/s]"
      ],
      "application/vnd.jupyter.widget-view+json": {
       "version_major": 2,
       "version_minor": 0,
       "model_id": "6a64b512321d4b869e63643a2a8753c9"
      }
     },
     "metadata": {},
     "output_type": "display_data"
    },
    {
     "name": "stdout",
     "output_type": "stream",
     "text": [
      "unable to find candidates for iteration 98 43706\n",
      "unable to find candidates for iteration 98 45644\n",
      "unable to find candidates for iteration 98 45678\n",
      "unable to find candidates for iteration 98 45953\n",
      "unable to find candidates for iteration 98 47493\n",
      "unable to find candidates for iteration 98 47495\n",
      "unable to find candidates for iteration 98 47496\n",
      "unable to find candidates for iteration 98 47503\n",
      "unable to find candidates for iteration 98 47667\n",
      "unable to find candidates for iteration 98 48323\n"
     ]
    },
    {
     "data": {
      "text/plain": [
       "  0%|          | 0/12080 [00:00<?, ?it/s]"
      ],
      "application/vnd.jupyter.widget-view+json": {
       "version_major": 2,
       "version_minor": 0,
       "model_id": "777a315a606b48368dbc009f0265c5ac"
      }
     },
     "metadata": {},
     "output_type": "display_data"
    },
    {
     "name": "stdout",
     "output_type": "stream",
     "text": [
      "unable to find candidates for iteration 99 40459\n",
      "unable to find candidates for iteration 99 45646\n",
      "unable to find candidates for iteration 99 45649\n",
      "unable to find candidates for iteration 99 45675\n",
      "unable to find candidates for iteration 99 47186\n",
      "unable to find candidates for iteration 99 47193\n",
      "unable to find candidates for iteration 99 47493\n",
      "unable to find candidates for iteration 99 47495\n",
      "unable to find candidates for iteration 99 47496\n",
      "unable to find candidates for iteration 99 47503\n",
      "unable to find candidates for iteration 99 50008\n"
     ]
    },
    {
     "data": {
      "text/plain": [
       "  0%|          | 0/35330 [00:00<?, ?it/s]"
      ],
      "application/vnd.jupyter.widget-view+json": {
       "version_major": 2,
       "version_minor": 0,
       "model_id": "a4bb9c7574934aa0971dc848c7c49789"
      }
     },
     "metadata": {},
     "output_type": "display_data"
    },
    {
     "name": "stdout",
     "output_type": "stream",
     "text": [
      "unable to find candidates for iteration 100 43728\n",
      "unable to find candidates for iteration 100 44382\n",
      "unable to find candidates for iteration 100 45667\n",
      "unable to find candidates for iteration 100 45678\n",
      "unable to find candidates for iteration 100 47185\n",
      "unable to find candidates for iteration 100 47466\n",
      "unable to find candidates for iteration 100 47473\n",
      "unable to find candidates for iteration 100 47493\n",
      "unable to find candidates for iteration 100 47495\n",
      "unable to find candidates for iteration 100 47496\n",
      "unable to find candidates for iteration 100 48329\n",
      "unable to find candidates for iteration 100 48544\n",
      "unable to find candidates for iteration 100 48551\n",
      "unable to find candidates for iteration 100 62622\n"
     ]
    },
    {
     "data": {
      "text/plain": [
       "  0%|          | 0/12570 [00:00<?, ?it/s]"
      ],
      "application/vnd.jupyter.widget-view+json": {
       "version_major": 2,
       "version_minor": 0,
       "model_id": "b1954951e5e0481a942d28d1163d7c9a"
      }
     },
     "metadata": {},
     "output_type": "display_data"
    },
    {
     "name": "stdout",
     "output_type": "stream",
     "text": [
      "unable to find candidates for iteration 101 44362\n",
      "unable to find candidates for iteration 101 44377\n",
      "unable to find candidates for iteration 101 45637\n",
      "unable to find candidates for iteration 101 45639\n",
      "unable to find candidates for iteration 101 45662\n",
      "unable to find candidates for iteration 101 47493\n",
      "unable to find candidates for iteration 101 47495\n",
      "unable to find candidates for iteration 101 47496\n",
      "unable to find candidates for iteration 101 47555\n",
      "unable to find candidates for iteration 101 47567\n",
      "unable to find candidates for iteration 101 47573\n",
      "unable to find candidates for iteration 101 48284\n",
      "unable to find candidates for iteration 101 48298\n",
      "unable to find candidates for iteration 101 48300\n",
      "unable to find candidates for iteration 101 48518\n",
      "unable to find candidates for iteration 101 49998\n",
      "unable to find candidates for iteration 101 50000\n"
     ]
    },
    {
     "data": {
      "text/plain": [
       "  0%|          | 0/37385 [00:00<?, ?it/s]"
      ],
      "application/vnd.jupyter.widget-view+json": {
       "version_major": 2,
       "version_minor": 0,
       "model_id": "64296b10f9834c7587248cd5ddb17465"
      }
     },
     "metadata": {},
     "output_type": "display_data"
    },
    {
     "name": "stdout",
     "output_type": "stream",
     "text": [
      "unable to find candidates for iteration 102 41922\n",
      "unable to find candidates for iteration 102 43702\n",
      "unable to find candidates for iteration 102 45670\n",
      "unable to find candidates for iteration 102 47147\n",
      "unable to find candidates for iteration 102 47493\n",
      "unable to find candidates for iteration 102 47495\n",
      "unable to find candidates for iteration 102 47496\n",
      "unable to find candidates for iteration 102 47612\n",
      "unable to find candidates for iteration 102 48308\n",
      "unable to find candidates for iteration 102 77495\n"
     ]
    },
    {
     "data": {
      "text/plain": [
       "  0%|          | 0/12700 [00:00<?, ?it/s]"
      ],
      "application/vnd.jupyter.widget-view+json": {
       "version_major": 2,
       "version_minor": 0,
       "model_id": "35ca5c280a0e49639c00aa21bc0d4045"
      }
     },
     "metadata": {},
     "output_type": "display_data"
    },
    {
     "name": "stdout",
     "output_type": "stream",
     "text": [
      "unable to find candidates for iteration 103 43701\n",
      "unable to find candidates for iteration 103 44362\n",
      "unable to find candidates for iteration 103 44407\n",
      "unable to find candidates for iteration 103 45637\n",
      "unable to find candidates for iteration 103 45660\n",
      "unable to find candidates for iteration 103 47493\n",
      "unable to find candidates for iteration 103 47495\n",
      "unable to find candidates for iteration 103 47496\n",
      "unable to find candidates for iteration 103 47555\n",
      "unable to find candidates for iteration 103 47567\n",
      "unable to find candidates for iteration 103 47568\n",
      "unable to find candidates for iteration 103 47569\n",
      "unable to find candidates for iteration 103 47570\n",
      "unable to find candidates for iteration 103 48284\n",
      "unable to find candidates for iteration 103 48285\n",
      "unable to find candidates for iteration 103 48298\n",
      "unable to find candidates for iteration 103 48518\n",
      "unable to find candidates for iteration 103 49998\n",
      "unable to find candidates for iteration 103 50000\n",
      "unable to find candidates for iteration 103 54915\n"
     ]
    },
    {
     "data": {
      "text/plain": [
       "  0%|          | 0/12785 [00:00<?, ?it/s]"
      ],
      "application/vnd.jupyter.widget-view+json": {
       "version_major": 2,
       "version_minor": 0,
       "model_id": "9396d18b690e4ee59490ff1fa7d39f92"
      }
     },
     "metadata": {},
     "output_type": "display_data"
    },
    {
     "name": "stdout",
     "output_type": "stream",
     "text": [
      "unable to find candidates for iteration 104 45911\n",
      "unable to find candidates for iteration 104 45917\n",
      "unable to find candidates for iteration 104 47172\n",
      "unable to find candidates for iteration 104 47475\n",
      "unable to find candidates for iteration 104 47493\n",
      "unable to find candidates for iteration 104 47495\n",
      "unable to find candidates for iteration 104 47496\n",
      "unable to find candidates for iteration 104 47498\n",
      "unable to find candidates for iteration 104 47499\n",
      "unable to find candidates for iteration 104 47522\n",
      "unable to find candidates for iteration 104 50005\n",
      "unable to find candidates for iteration 104 54927\n"
     ]
    },
    {
     "data": {
      "text/plain": [
       "  0%|          | 0/12800 [00:00<?, ?it/s]"
      ],
      "application/vnd.jupyter.widget-view+json": {
       "version_major": 2,
       "version_minor": 0,
       "model_id": "ca27a65e5f66470a82e71ea0f3bed653"
      }
     },
     "metadata": {},
     "output_type": "display_data"
    },
    {
     "name": "stdout",
     "output_type": "stream",
     "text": [
      "unable to find candidates for iteration 105 44372\n",
      "unable to find candidates for iteration 105 47492\n",
      "unable to find candidates for iteration 105 47493\n",
      "unable to find candidates for iteration 105 47494\n",
      "unable to find candidates for iteration 105 47495\n",
      "unable to find candidates for iteration 105 47496\n",
      "unable to find candidates for iteration 105 47521\n",
      "unable to find candidates for iteration 105 47523\n",
      "unable to find candidates for iteration 105 47538\n",
      "unable to find candidates for iteration 105 47628\n",
      "unable to find candidates for iteration 105 48518\n",
      "unable to find candidates for iteration 105 48545\n",
      "unable to find candidates for iteration 105 50003\n",
      "unable to find candidates for iteration 105 54915\n"
     ]
    },
    {
     "data": {
      "text/plain": [
       "  0%|          | 0/12705 [00:00<?, ?it/s]"
      ],
      "application/vnd.jupyter.widget-view+json": {
       "version_major": 2,
       "version_minor": 0,
       "model_id": "344467319b3b48b380820fb9d3a68afa"
      }
     },
     "metadata": {},
     "output_type": "display_data"
    },
    {
     "name": "stdout",
     "output_type": "stream",
     "text": [
      "unable to find candidates for iteration 106 43716\n",
      "unable to find candidates for iteration 106 44414\n",
      "unable to find candidates for iteration 106 45612\n",
      "unable to find candidates for iteration 106 45637\n",
      "unable to find candidates for iteration 106 47472\n",
      "unable to find candidates for iteration 106 47493\n",
      "unable to find candidates for iteration 106 47495\n",
      "unable to find candidates for iteration 106 47496\n",
      "unable to find candidates for iteration 106 47517\n",
      "unable to find candidates for iteration 106 47548\n"
     ]
    },
    {
     "data": {
      "text/plain": [
       "  0%|          | 0/12625 [00:00<?, ?it/s]"
      ],
      "application/vnd.jupyter.widget-view+json": {
       "version_major": 2,
       "version_minor": 0,
       "model_id": "65cc1098308d4b74bb6985863a38a1dd"
      }
     },
     "metadata": {},
     "output_type": "display_data"
    },
    {
     "name": "stdout",
     "output_type": "stream",
     "text": [
      "unable to find candidates for iteration 107 45611\n",
      "unable to find candidates for iteration 107 45612\n",
      "unable to find candidates for iteration 107 45618\n",
      "unable to find candidates for iteration 107 47493\n",
      "unable to find candidates for iteration 107 47495\n",
      "unable to find candidates for iteration 107 47496\n",
      "unable to find candidates for iteration 107 47548\n"
     ]
    },
    {
     "data": {
      "text/plain": [
       "  0%|          | 0/12731 [00:00<?, ?it/s]"
      ],
      "application/vnd.jupyter.widget-view+json": {
       "version_major": 2,
       "version_minor": 0,
       "model_id": "4b31247f0456415dbdb57dd692c46c6f"
      }
     },
     "metadata": {},
     "output_type": "display_data"
    },
    {
     "name": "stdout",
     "output_type": "stream",
     "text": [
      "unable to find candidates for iteration 108 47492\n",
      "unable to find candidates for iteration 108 47493\n",
      "unable to find candidates for iteration 108 47494\n",
      "unable to find candidates for iteration 108 47495\n",
      "unable to find candidates for iteration 108 47496\n",
      "unable to find candidates for iteration 108 47591\n",
      "unable to find candidates for iteration 108 47593\n",
      "unable to find candidates for iteration 108 50003\n",
      "unable to find candidates for iteration 108 50018\n",
      "unable to find candidates for iteration 108 58709\n"
     ]
    },
    {
     "data": {
      "text/plain": [
       "  0%|          | 0/12734 [00:00<?, ?it/s]"
      ],
      "application/vnd.jupyter.widget-view+json": {
       "version_major": 2,
       "version_minor": 0,
       "model_id": "635bb841e7dc49ff873597828e112b09"
      }
     },
     "metadata": {},
     "output_type": "display_data"
    },
    {
     "name": "stdout",
     "output_type": "stream",
     "text": [
      "unable to find candidates for iteration 109 47493\n",
      "unable to find candidates for iteration 109 47495\n",
      "unable to find candidates for iteration 109 47496\n",
      "unable to find candidates for iteration 109 47555\n",
      "unable to find candidates for iteration 109 47565\n",
      "unable to find candidates for iteration 109 47567\n",
      "unable to find candidates for iteration 109 47568\n",
      "unable to find candidates for iteration 109 47569\n",
      "unable to find candidates for iteration 109 48284\n",
      "unable to find candidates for iteration 109 48298\n",
      "unable to find candidates for iteration 109 48518\n",
      "unable to find candidates for iteration 109 49998\n",
      "unable to find candidates for iteration 109 50000\n",
      "unable to find candidates for iteration 109 54915\n"
     ]
    },
    {
     "data": {
      "text/plain": [
       "  0%|          | 0/12945 [00:00<?, ?it/s]"
      ],
      "application/vnd.jupyter.widget-view+json": {
       "version_major": 2,
       "version_minor": 0,
       "model_id": "a72b4dce83f34131bc937d6f3539f91e"
      }
     },
     "metadata": {},
     "output_type": "display_data"
    },
    {
     "name": "stdout",
     "output_type": "stream",
     "text": [
      "unable to find candidates for iteration 110 47153\n",
      "unable to find candidates for iteration 110 47493\n",
      "unable to find candidates for iteration 110 47495\n",
      "unable to find candidates for iteration 110 47496\n",
      "unable to find candidates for iteration 110 47514\n",
      "unable to find candidates for iteration 110 47548\n",
      "unable to find candidates for iteration 110 47550\n",
      "unable to find candidates for iteration 110 47554\n",
      "unable to find candidates for iteration 110 47570\n",
      "unable to find candidates for iteration 110 48545\n",
      "unable to find candidates for iteration 110 54915\n",
      "unable to find candidates for iteration 110 58671\n"
     ]
    },
    {
     "data": {
      "text/plain": [
       "  0%|          | 0/13439 [00:00<?, ?it/s]"
      ],
      "application/vnd.jupyter.widget-view+json": {
       "version_major": 2,
       "version_minor": 0,
       "model_id": "5790e418e52e462f900b6ab2d9618156"
      }
     },
     "metadata": {},
     "output_type": "display_data"
    },
    {
     "name": "stdout",
     "output_type": "stream",
     "text": [
      "unable to find candidates for iteration 111 48284\n",
      "unable to find candidates for iteration 111 48298\n",
      "unable to find candidates for iteration 111 48300\n",
      "unable to find candidates for iteration 111 48516\n",
      "unable to find candidates for iteration 111 49998\n",
      "unable to find candidates for iteration 111 50000\n",
      "unable to find candidates for iteration 111 54915\n"
     ]
    },
    {
     "data": {
      "text/plain": [
       "  0%|          | 0/13650 [00:00<?, ?it/s]"
      ],
      "application/vnd.jupyter.widget-view+json": {
       "version_major": 2,
       "version_minor": 0,
       "model_id": "2a09fe49eb764e11952c5d3d65836678"
      }
     },
     "metadata": {},
     "output_type": "display_data"
    },
    {
     "name": "stdout",
     "output_type": "stream",
     "text": [
      "unable to find candidates for iteration 112 50027\n"
     ]
    },
    {
     "data": {
      "text/plain": [
       "  0%|          | 0/13889 [00:00<?, ?it/s]"
      ],
      "application/vnd.jupyter.widget-view+json": {
       "version_major": 2,
       "version_minor": 0,
       "model_id": "f0e371092505404a9a0eba32f97f8917"
      }
     },
     "metadata": {},
     "output_type": "display_data"
    },
    {
     "name": "stdout",
     "output_type": "stream",
     "text": [
      "unable to find candidates for iteration 113 54915\n"
     ]
    },
    {
     "data": {
      "text/plain": [
       "  0%|          | 0/14013 [00:00<?, ?it/s]"
      ],
      "application/vnd.jupyter.widget-view+json": {
       "version_major": 2,
       "version_minor": 0,
       "model_id": "04f90afff8d949de87589bd5c29ca230"
      }
     },
     "metadata": {},
     "output_type": "display_data"
    },
    {
     "name": "stdout",
     "output_type": "stream",
     "text": [
      "unable to find candidates for iteration 114 62660\n"
     ]
    },
    {
     "data": {
      "text/plain": [
       "  0%|          | 0/14661 [00:00<?, ?it/s]"
      ],
      "application/vnd.jupyter.widget-view+json": {
       "version_major": 2,
       "version_minor": 0,
       "model_id": "3380b2619f634c4695ca47dfbf9c3b44"
      }
     },
     "metadata": {},
     "output_type": "display_data"
    },
    {
     "name": "stdout",
     "output_type": "stream",
     "text": [
      "unable to find candidates for iteration 115 54915\n",
      "unable to find candidates for iteration 115 58671\n"
     ]
    },
    {
     "data": {
      "text/plain": [
       "  0%|          | 0/15236 [00:00<?, ?it/s]"
      ],
      "application/vnd.jupyter.widget-view+json": {
       "version_major": 2,
       "version_minor": 0,
       "model_id": "6ef50bec9c634c0abeb39c2707f7069c"
      }
     },
     "metadata": {},
     "output_type": "display_data"
    },
    {
     "data": {
      "text/plain": [
       "  0%|          | 0/15240 [00:00<?, ?it/s]"
      ],
      "application/vnd.jupyter.widget-view+json": {
       "version_major": 2,
       "version_minor": 0,
       "model_id": "cdb5988b3c2d42c1b90b2bda673a9403"
      }
     },
     "metadata": {},
     "output_type": "display_data"
    },
    {
     "data": {
      "text/plain": [
       "  0%|          | 0/13970 [00:00<?, ?it/s]"
      ],
      "application/vnd.jupyter.widget-view+json": {
       "version_major": 2,
       "version_minor": 0,
       "model_id": "7ab5f0ac92204a8b8034e0501bf5bd67"
      }
     },
     "metadata": {},
     "output_type": "display_data"
    },
    {
     "name": "stdout",
     "output_type": "stream",
     "text": [
      "unable to find candidates for iteration 118 54915\n",
      "unable to find candidates for iteration 118 58700\n",
      "unable to find candidates for iteration 118 65121\n"
     ]
    },
    {
     "data": {
      "text/plain": [
       "  0%|          | 0/13705 [00:00<?, ?it/s]"
      ],
      "application/vnd.jupyter.widget-view+json": {
       "version_major": 2,
       "version_minor": 0,
       "model_id": "d5b9aa49c1e446e69933095b469b7594"
      }
     },
     "metadata": {},
     "output_type": "display_data"
    },
    {
     "data": {
      "text/plain": [
       "  0%|          | 0/13578 [00:00<?, ?it/s]"
      ],
      "application/vnd.jupyter.widget-view+json": {
       "version_major": 2,
       "version_minor": 0,
       "model_id": "581d05bef25c41ac8bf781a439f24259"
      }
     },
     "metadata": {},
     "output_type": "display_data"
    },
    {
     "name": "stdout",
     "output_type": "stream",
     "text": [
      "unable to find candidates for iteration 120 58699\n"
     ]
    },
    {
     "data": {
      "text/plain": [
       "  0%|          | 0/13278 [00:00<?, ?it/s]"
      ],
      "application/vnd.jupyter.widget-view+json": {
       "version_major": 2,
       "version_minor": 0,
       "model_id": "0d14e4398df24469bce7962f9c103dca"
      }
     },
     "metadata": {},
     "output_type": "display_data"
    },
    {
     "name": "stdout",
     "output_type": "stream",
     "text": [
      "unable to find candidates for iteration 121 58379\n",
      "unable to find candidates for iteration 121 58405\n",
      "unable to find candidates for iteration 121 58681\n",
      "unable to find candidates for iteration 121 62605\n",
      "unable to find candidates for iteration 121 62609\n"
     ]
    },
    {
     "data": {
      "text/plain": [
       "  0%|          | 0/13168 [00:00<?, ?it/s]"
      ],
      "application/vnd.jupyter.widget-view+json": {
       "version_major": 2,
       "version_minor": 0,
       "model_id": "c5f4c13231c040228a9845ca97389a45"
      }
     },
     "metadata": {},
     "output_type": "display_data"
    },
    {
     "name": "stdout",
     "output_type": "stream",
     "text": [
      "unable to find candidates for iteration 122 58681\n"
     ]
    },
    {
     "data": {
      "text/plain": [
       "  0%|          | 0/12950 [00:00<?, ?it/s]"
      ],
      "application/vnd.jupyter.widget-view+json": {
       "version_major": 2,
       "version_minor": 0,
       "model_id": "db6f91a2b6c14947806330ba195c5b2f"
      }
     },
     "metadata": {},
     "output_type": "display_data"
    },
    {
     "name": "stdout",
     "output_type": "stream",
     "text": [
      "unable to find candidates for iteration 123 63015\n",
      "unable to find candidates for iteration 123 63026\n"
     ]
    },
    {
     "data": {
      "text/plain": [
       "  0%|          | 0/12613 [00:00<?, ?it/s]"
      ],
      "application/vnd.jupyter.widget-view+json": {
       "version_major": 2,
       "version_minor": 0,
       "model_id": "9b12f5e4f4cf4329a472f8b93447052a"
      }
     },
     "metadata": {},
     "output_type": "display_data"
    },
    {
     "name": "stdout",
     "output_type": "stream",
     "text": [
      "unable to find candidates for iteration 124 58395\n",
      "unable to find candidates for iteration 124 63015\n",
      "unable to find candidates for iteration 124 63026\n"
     ]
    },
    {
     "data": {
      "text/plain": [
       "  0%|          | 0/12779 [00:00<?, ?it/s]"
      ],
      "application/vnd.jupyter.widget-view+json": {
       "version_major": 2,
       "version_minor": 0,
       "model_id": "13ae2ba882ba4b88b5aa1ef5e575f62d"
      }
     },
     "metadata": {},
     "output_type": "display_data"
    },
    {
     "name": "stdout",
     "output_type": "stream",
     "text": [
      "unable to find candidates for iteration 125 58397\n",
      "unable to find candidates for iteration 125 63004\n",
      "unable to find candidates for iteration 125 63006\n",
      "unable to find candidates for iteration 125 65087\n"
     ]
    },
    {
     "data": {
      "text/plain": [
       "  0%|          | 0/12662 [00:00<?, ?it/s]"
      ],
      "application/vnd.jupyter.widget-view+json": {
       "version_major": 2,
       "version_minor": 0,
       "model_id": "ef8e42df11514e8b99d14b6f1b798691"
      }
     },
     "metadata": {},
     "output_type": "display_data"
    },
    {
     "name": "stdout",
     "output_type": "stream",
     "text": [
      "unable to find candidates for iteration 126 58362\n",
      "unable to find candidates for iteration 126 58393\n",
      "unable to find candidates for iteration 126 58667\n",
      "unable to find candidates for iteration 126 58687\n",
      "unable to find candidates for iteration 126 65087\n",
      "unable to find candidates for iteration 126 65115\n"
     ]
    },
    {
     "data": {
      "text/plain": [
       "  0%|          | 0/12661 [00:00<?, ?it/s]"
      ],
      "application/vnd.jupyter.widget-view+json": {
       "version_major": 2,
       "version_minor": 0,
       "model_id": "612a382496634f23b918022c9eed4d08"
      }
     },
     "metadata": {},
     "output_type": "display_data"
    },
    {
     "name": "stdout",
     "output_type": "stream",
     "text": [
      "unable to find candidates for iteration 127 63013\n",
      "unable to find candidates for iteration 127 63015\n",
      "unable to find candidates for iteration 127 65120\n",
      "unable to find candidates for iteration 127 65121\n"
     ]
    },
    {
     "data": {
      "text/plain": [
       "  0%|          | 0/12628 [00:00<?, ?it/s]"
      ],
      "application/vnd.jupyter.widget-view+json": {
       "version_major": 2,
       "version_minor": 0,
       "model_id": "495bdc3da9b74444a27c41099cee059c"
      }
     },
     "metadata": {},
     "output_type": "display_data"
    },
    {
     "name": "stdout",
     "output_type": "stream",
     "text": [
      "unable to find candidates for iteration 128 62614\n",
      "unable to find candidates for iteration 128 65100\n",
      "unable to find candidates for iteration 128 65118\n"
     ]
    },
    {
     "data": {
      "text/plain": [
       "  0%|          | 0/13078 [00:00<?, ?it/s]"
      ],
      "application/vnd.jupyter.widget-view+json": {
       "version_major": 2,
       "version_minor": 0,
       "model_id": "74ed1fd3a5e14aa0a5b17cec43c76260"
      }
     },
     "metadata": {},
     "output_type": "display_data"
    },
    {
     "name": "stdout",
     "output_type": "stream",
     "text": [
      "unable to find candidates for iteration 129 65087\n",
      "unable to find candidates for iteration 129 65116\n"
     ]
    },
    {
     "data": {
      "text/plain": [
       "  0%|          | 0/13464 [00:00<?, ?it/s]"
      ],
      "application/vnd.jupyter.widget-view+json": {
       "version_major": 2,
       "version_minor": 0,
       "model_id": "d282e575cbf94f75888b0944c54efc55"
      }
     },
     "metadata": {},
     "output_type": "display_data"
    },
    {
     "name": "stdout",
     "output_type": "stream",
     "text": [
      "unable to find candidates for iteration 130 63009\n"
     ]
    },
    {
     "data": {
      "text/plain": [
       "  0%|          | 0/13073 [00:00<?, ?it/s]"
      ],
      "application/vnd.jupyter.widget-view+json": {
       "version_major": 2,
       "version_minor": 0,
       "model_id": "e7b864a988e54e9883cf436a083b278e"
      }
     },
     "metadata": {},
     "output_type": "display_data"
    },
    {
     "name": "stdout",
     "output_type": "stream",
     "text": [
      "unable to find candidates for iteration 131 62631\n",
      "unable to find candidates for iteration 131 65113\n"
     ]
    },
    {
     "data": {
      "text/plain": [
       "  0%|          | 0/12777 [00:00<?, ?it/s]"
      ],
      "application/vnd.jupyter.widget-view+json": {
       "version_major": 2,
       "version_minor": 0,
       "model_id": "101d9f1982b642059e1aded65ab5d847"
      }
     },
     "metadata": {},
     "output_type": "display_data"
    },
    {
     "name": "stdout",
     "output_type": "stream",
     "text": [
      "unable to find candidates for iteration 132 62622\n",
      "unable to find candidates for iteration 132 63015\n",
      "unable to find candidates for iteration 132 63026\n"
     ]
    },
    {
     "data": {
      "text/plain": [
       "  0%|          | 0/12825 [00:00<?, ?it/s]"
      ],
      "application/vnd.jupyter.widget-view+json": {
       "version_major": 2,
       "version_minor": 0,
       "model_id": "2b068d9dc19545cb909c7d96a51c634b"
      }
     },
     "metadata": {},
     "output_type": "display_data"
    },
    {
     "name": "stdout",
     "output_type": "stream",
     "text": [
      "unable to find candidates for iteration 133 63015\n",
      "unable to find candidates for iteration 133 63026\n"
     ]
    },
    {
     "data": {
      "text/plain": [
       "  0%|          | 0/12829 [00:00<?, ?it/s]"
      ],
      "application/vnd.jupyter.widget-view+json": {
       "version_major": 2,
       "version_minor": 0,
       "model_id": "a0d607199f9b49d79507c3aaa3c9ccec"
      }
     },
     "metadata": {},
     "output_type": "display_data"
    },
    {
     "name": "stdout",
     "output_type": "stream",
     "text": [
      "unable to find candidates for iteration 134 63015\n",
      "unable to find candidates for iteration 134 63026\n",
      "unable to find candidates for iteration 134 65092\n"
     ]
    },
    {
     "data": {
      "text/plain": [
       "  0%|          | 0/12869 [00:00<?, ?it/s]"
      ],
      "application/vnd.jupyter.widget-view+json": {
       "version_major": 2,
       "version_minor": 0,
       "model_id": "7c07388a44264a8da2d416ac0bd69df0"
      }
     },
     "metadata": {},
     "output_type": "display_data"
    },
    {
     "data": {
      "text/plain": [
       "  0%|          | 0/12260 [00:00<?, ?it/s]"
      ],
      "application/vnd.jupyter.widget-view+json": {
       "version_major": 2,
       "version_minor": 0,
       "model_id": "4e667fb031514ed19b1475670df0b2a3"
      }
     },
     "metadata": {},
     "output_type": "display_data"
    },
    {
     "name": "stdout",
     "output_type": "stream",
     "text": [
      "unable to find candidates for iteration 136 72545\n",
      "unable to find candidates for iteration 136 72548\n",
      "unable to find candidates for iteration 136 72689\n"
     ]
    },
    {
     "data": {
      "text/plain": [
       "  0%|          | 0/12285 [00:00<?, ?it/s]"
      ],
      "application/vnd.jupyter.widget-view+json": {
       "version_major": 2,
       "version_minor": 0,
       "model_id": "ae26515ebb474c71b6d6db19ca343a31"
      }
     },
     "metadata": {},
     "output_type": "display_data"
    },
    {
     "name": "stdout",
     "output_type": "stream",
     "text": [
      "unable to find candidates for iteration 137 72590\n",
      "unable to find candidates for iteration 137 72639\n",
      "unable to find candidates for iteration 137 72673\n",
      "unable to find candidates for iteration 137 72674\n",
      "unable to find candidates for iteration 137 72675\n",
      "unable to find candidates for iteration 137 77399\n",
      "unable to find candidates for iteration 137 77402\n",
      "unable to find candidates for iteration 137 77448\n",
      "unable to find candidates for iteration 137 77452\n"
     ]
    },
    {
     "data": {
      "text/plain": [
       "  0%|          | 0/12308 [00:00<?, ?it/s]"
      ],
      "application/vnd.jupyter.widget-view+json": {
       "version_major": 2,
       "version_minor": 0,
       "model_id": "4b752d767cda407f82904f6016853cfd"
      }
     },
     "metadata": {},
     "output_type": "display_data"
    },
    {
     "name": "stdout",
     "output_type": "stream",
     "text": [
      "unable to find candidates for iteration 138 72780\n",
      "unable to find candidates for iteration 138 77666\n",
      "unable to find candidates for iteration 138 77668\n",
      "unable to find candidates for iteration 138 77690\n"
     ]
    },
    {
     "data": {
      "text/plain": [
       "  0%|          | 0/12166 [00:00<?, ?it/s]"
      ],
      "application/vnd.jupyter.widget-view+json": {
       "version_major": 2,
       "version_minor": 0,
       "model_id": "f07d59c68ef14fc381abe73416cdb1d6"
      }
     },
     "metadata": {},
     "output_type": "display_data"
    },
    {
     "name": "stdout",
     "output_type": "stream",
     "text": [
      "unable to find candidates for iteration 139 72628\n",
      "unable to find candidates for iteration 139 72699\n",
      "unable to find candidates for iteration 139 72701\n",
      "unable to find candidates for iteration 139 72703\n",
      "unable to find candidates for iteration 139 76973\n",
      "unable to find candidates for iteration 139 76974\n",
      "unable to find candidates for iteration 139 77381\n",
      "unable to find candidates for iteration 139 77388\n",
      "unable to find candidates for iteration 139 77503\n"
     ]
    },
    {
     "data": {
      "text/plain": [
       "  0%|          | 0/11840 [00:00<?, ?it/s]"
      ],
      "application/vnd.jupyter.widget-view+json": {
       "version_major": 2,
       "version_minor": 0,
       "model_id": "f3cca43121554042ad484015f5127ef0"
      }
     },
     "metadata": {},
     "output_type": "display_data"
    },
    {
     "name": "stdout",
     "output_type": "stream",
     "text": [
      "unable to find candidates for iteration 140 72783\n",
      "unable to find candidates for iteration 140 76926\n",
      "unable to find candidates for iteration 140 76931\n",
      "unable to find candidates for iteration 140 76933\n",
      "unable to find candidates for iteration 140 76939\n",
      "unable to find candidates for iteration 140 76949\n",
      "unable to find candidates for iteration 140 77662\n",
      "unable to find candidates for iteration 140 77747\n"
     ]
    },
    {
     "data": {
      "text/plain": [
       "  0%|          | 0/12081 [00:00<?, ?it/s]"
      ],
      "application/vnd.jupyter.widget-view+json": {
       "version_major": 2,
       "version_minor": 0,
       "model_id": "d15186c40d904b32bfb5a533be89357c"
      }
     },
     "metadata": {},
     "output_type": "display_data"
    },
    {
     "name": "stdout",
     "output_type": "stream",
     "text": [
      "unable to find candidates for iteration 141 72554\n",
      "unable to find candidates for iteration 141 72561\n",
      "unable to find candidates for iteration 141 72612\n",
      "unable to find candidates for iteration 141 72650\n",
      "unable to find candidates for iteration 141 72652\n",
      "unable to find candidates for iteration 141 72655\n",
      "unable to find candidates for iteration 141 76937\n",
      "unable to find candidates for iteration 141 76952\n",
      "unable to find candidates for iteration 141 77315\n",
      "unable to find candidates for iteration 141 77317\n",
      "unable to find candidates for iteration 141 77363\n",
      "unable to find candidates for iteration 141 77364\n",
      "unable to find candidates for iteration 141 77401\n",
      "unable to find candidates for iteration 141 77404\n"
     ]
    },
    {
     "data": {
      "text/plain": [
       "  0%|          | 0/12247 [00:00<?, ?it/s]"
      ],
      "application/vnd.jupyter.widget-view+json": {
       "version_major": 2,
       "version_minor": 0,
       "model_id": "dea1aa3daafb4581a6bdcb3d3f1651de"
      }
     },
     "metadata": {},
     "output_type": "display_data"
    },
    {
     "name": "stdout",
     "output_type": "stream",
     "text": [
      "unable to find candidates for iteration 142 72676\n",
      "unable to find candidates for iteration 142 72678\n",
      "unable to find candidates for iteration 142 76931\n",
      "unable to find candidates for iteration 142 76964\n",
      "unable to find candidates for iteration 142 76966\n",
      "unable to find candidates for iteration 142 77445\n",
      "unable to find candidates for iteration 142 77447\n",
      "unable to find candidates for iteration 142 77461\n",
      "unable to find candidates for iteration 142 77465\n"
     ]
    },
    {
     "data": {
      "text/plain": [
       "  0%|          | 0/12448 [00:00<?, ?it/s]"
      ],
      "application/vnd.jupyter.widget-view+json": {
       "version_major": 2,
       "version_minor": 0,
       "model_id": "59bfb5bed2a44896a7688f731bc65c18"
      }
     },
     "metadata": {},
     "output_type": "display_data"
    },
    {
     "name": "stdout",
     "output_type": "stream",
     "text": [
      "unable to find candidates for iteration 143 72377\n",
      "unable to find candidates for iteration 143 72383\n",
      "unable to find candidates for iteration 143 72552\n",
      "unable to find candidates for iteration 143 72556\n",
      "unable to find candidates for iteration 143 72646\n",
      "unable to find candidates for iteration 143 72684\n",
      "unable to find candidates for iteration 143 72796\n",
      "unable to find candidates for iteration 143 75189\n",
      "unable to find candidates for iteration 143 76945\n",
      "unable to find candidates for iteration 143 77195\n",
      "unable to find candidates for iteration 143 77304\n",
      "unable to find candidates for iteration 143 77306\n",
      "unable to find candidates for iteration 143 77329\n",
      "unable to find candidates for iteration 143 77396\n"
     ]
    },
    {
     "data": {
      "text/plain": [
       "  0%|          | 0/12984 [00:00<?, ?it/s]"
      ],
      "application/vnd.jupyter.widget-view+json": {
       "version_major": 2,
       "version_minor": 0,
       "model_id": "7e332423ec6341109a801dbfb811f5d8"
      }
     },
     "metadata": {},
     "output_type": "display_data"
    },
    {
     "name": "stdout",
     "output_type": "stream",
     "text": [
      "unable to find candidates for iteration 144 72377\n",
      "unable to find candidates for iteration 144 72497\n",
      "unable to find candidates for iteration 144 72535\n",
      "unable to find candidates for iteration 144 72537\n",
      "unable to find candidates for iteration 144 72639\n",
      "unable to find candidates for iteration 144 72818\n"
     ]
    },
    {
     "data": {
      "text/plain": [
       "  0%|          | 0/13622 [00:00<?, ?it/s]"
      ],
      "application/vnd.jupyter.widget-view+json": {
       "version_major": 2,
       "version_minor": 0,
       "model_id": "57d82b029f7c4f70831f7365eeeec669"
      }
     },
     "metadata": {},
     "output_type": "display_data"
    },
    {
     "name": "stdout",
     "output_type": "stream",
     "text": [
      "unable to find candidates for iteration 145 72746\n",
      "unable to find candidates for iteration 145 72781\n",
      "unable to find candidates for iteration 145 75170\n"
     ]
    },
    {
     "data": {
      "text/plain": [
       "  0%|          | 0/16449 [00:00<?, ?it/s]"
      ],
      "application/vnd.jupyter.widget-view+json": {
       "version_major": 2,
       "version_minor": 0,
       "model_id": "7d8b91db73b04abd992591cbdb426b65"
      }
     },
     "metadata": {},
     "output_type": "display_data"
    },
    {
     "name": "stdout",
     "output_type": "stream",
     "text": [
      "unable to find candidates for iteration 146 75906\n",
      "unable to find candidates for iteration 146 82187\n"
     ]
    },
    {
     "data": {
      "text/plain": [
       "  0%|          | 0/44436 [00:00<?, ?it/s]"
      ],
      "application/vnd.jupyter.widget-view+json": {
       "version_major": 2,
       "version_minor": 0,
       "model_id": "eaed1ef68a8d4f9c84a8ce6156e74eec"
      }
     },
     "metadata": {},
     "output_type": "display_data"
    },
    {
     "name": "stdout",
     "output_type": "stream",
     "text": [
      "unable to find candidates for iteration 147 75906\n",
      "unable to find candidates for iteration 147 82187\n",
      "unable to find candidates for iteration 147 87943\n",
      "unable to find candidates for iteration 147 94029\n",
      "unable to find candidates for iteration 147 94035\n",
      "unable to find candidates for iteration 147 94070\n",
      "unable to find candidates for iteration 147 94075\n"
     ]
    },
    {
     "data": {
      "text/plain": [
       "  0%|          | 0/16567 [00:00<?, ?it/s]"
      ],
      "application/vnd.jupyter.widget-view+json": {
       "version_major": 2,
       "version_minor": 0,
       "model_id": "450f81f6f563423dba86a667b26fb67b"
      }
     },
     "metadata": {},
     "output_type": "display_data"
    },
    {
     "name": "stdout",
     "output_type": "stream",
     "text": [
      "unable to find candidates for iteration 148 75887\n",
      "unable to find candidates for iteration 148 75899\n",
      "unable to find candidates for iteration 148 76931\n",
      "unable to find candidates for iteration 148 76939\n",
      "unable to find candidates for iteration 148 82216\n",
      "unable to find candidates for iteration 148 87916\n"
     ]
    },
    {
     "data": {
      "text/plain": [
       "  0%|          | 0/16573 [00:00<?, ?it/s]"
      ],
      "application/vnd.jupyter.widget-view+json": {
       "version_major": 2,
       "version_minor": 0,
       "model_id": "73de8a251c2d442ebd9abeaf143404f9"
      }
     },
     "metadata": {},
     "output_type": "display_data"
    },
    {
     "name": "stdout",
     "output_type": "stream",
     "text": [
      "unable to find candidates for iteration 149 76947\n",
      "unable to find candidates for iteration 149 76960\n",
      "unable to find candidates for iteration 149 76961\n",
      "unable to find candidates for iteration 149 82212\n",
      "unable to find candidates for iteration 149 82213\n",
      "unable to find candidates for iteration 149 87849\n",
      "unable to find candidates for iteration 149 87916\n"
     ]
    },
    {
     "data": {
      "text/plain": [
       "  0%|          | 0/17704 [00:00<?, ?it/s]"
      ],
      "application/vnd.jupyter.widget-view+json": {
       "version_major": 2,
       "version_minor": 0,
       "model_id": "2f574d78e2c3426da9ccd34999158cf1"
      }
     },
     "metadata": {},
     "output_type": "display_data"
    },
    {
     "name": "stdout",
     "output_type": "stream",
     "text": [
      "unable to find candidates for iteration 150 77056\n",
      "unable to find candidates for iteration 150 82208\n",
      "unable to find candidates for iteration 150 87099\n",
      "unable to find candidates for iteration 150 87916\n"
     ]
    },
    {
     "data": {
      "text/plain": [
       "  0%|          | 0/19849 [00:00<?, ?it/s]"
      ],
      "application/vnd.jupyter.widget-view+json": {
       "version_major": 2,
       "version_minor": 0,
       "model_id": "6507ff77a8d345dc873029cd479aa774"
      }
     },
     "metadata": {},
     "output_type": "display_data"
    },
    {
     "name": "stdout",
     "output_type": "stream",
     "text": [
      "unable to find candidates for iteration 151 77045\n",
      "unable to find candidates for iteration 151 77046\n",
      "unable to find candidates for iteration 151 82180\n",
      "unable to find candidates for iteration 151 82195\n",
      "unable to find candidates for iteration 151 82383\n",
      "unable to find candidates for iteration 151 87041\n",
      "unable to find candidates for iteration 151 87094\n",
      "unable to find candidates for iteration 151 93656\n",
      "unable to find candidates for iteration 151 93768\n",
      "unable to find candidates for iteration 151 93797\n",
      "unable to find candidates for iteration 151 93952\n",
      "unable to find candidates for iteration 151 93969\n",
      "unable to find candidates for iteration 151 94225\n",
      "unable to find candidates for iteration 151 94230\n"
     ]
    },
    {
     "data": {
      "text/plain": [
       "  0%|          | 0/20002 [00:00<?, ?it/s]"
      ],
      "application/vnd.jupyter.widget-view+json": {
       "version_major": 2,
       "version_minor": 0,
       "model_id": "92b2ed35fbb740558e28d61d054bb0f0"
      }
     },
     "metadata": {},
     "output_type": "display_data"
    },
    {
     "name": "stdout",
     "output_type": "stream",
     "text": [
      "unable to find candidates for iteration 152 81388\n",
      "unable to find candidates for iteration 152 87066\n",
      "unable to find candidates for iteration 152 87856\n",
      "unable to find candidates for iteration 152 87919\n",
      "unable to find candidates for iteration 152 94334\n",
      "unable to find candidates for iteration 152 94377\n",
      "unable to find candidates for iteration 152 94383\n",
      "unable to find candidates for iteration 152 94412\n",
      "unable to find candidates for iteration 152 94418\n",
      "unable to find candidates for iteration 152 94619\n"
     ]
    },
    {
     "data": {
      "text/plain": [
       "  0%|          | 0/20885 [00:00<?, ?it/s]"
      ],
      "application/vnd.jupyter.widget-view+json": {
       "version_major": 2,
       "version_minor": 0,
       "model_id": "c3f749b6f2b04454bd96f038d28591d8"
      }
     },
     "metadata": {},
     "output_type": "display_data"
    },
    {
     "name": "stdout",
     "output_type": "stream",
     "text": [
      "unable to find candidates for iteration 153 81373\n",
      "unable to find candidates for iteration 153 81385\n",
      "unable to find candidates for iteration 153 82206\n",
      "unable to find candidates for iteration 153 94351\n",
      "unable to find candidates for iteration 153 94358\n",
      "unable to find candidates for iteration 153 94413\n",
      "unable to find candidates for iteration 153 94419\n",
      "unable to find candidates for iteration 153 94427\n",
      "unable to find candidates for iteration 153 94626\n",
      "unable to find candidates for iteration 153 94631\n",
      "unable to find candidates for iteration 153 94711\n",
      "unable to find candidates for iteration 153 94728\n",
      "unable to find candidates for iteration 153 99177\n"
     ]
    },
    {
     "data": {
      "text/plain": [
       "  0%|          | 0/51195 [00:00<?, ?it/s]"
      ],
      "application/vnd.jupyter.widget-view+json": {
       "version_major": 2,
       "version_minor": 0,
       "model_id": "875212d4795940d08ae90c1856ecb55e"
      }
     },
     "metadata": {},
     "output_type": "display_data"
    },
    {
     "name": "stdout",
     "output_type": "stream",
     "text": [
      "unable to find candidates for iteration 154 81379\n",
      "unable to find candidates for iteration 154 82120\n",
      "unable to find candidates for iteration 154 82216\n",
      "unable to find candidates for iteration 154 87033\n",
      "unable to find candidates for iteration 154 87861\n",
      "unable to find candidates for iteration 154 87916\n",
      "unable to find candidates for iteration 154 94464\n",
      "unable to find candidates for iteration 154 94467\n",
      "unable to find candidates for iteration 154 94469\n",
      "unable to find candidates for iteration 154 94599\n",
      "unable to find candidates for iteration 154 94617\n",
      "unable to find candidates for iteration 154 94643\n",
      "unable to find candidates for iteration 154 94649\n",
      "unable to find candidates for iteration 154 94746\n",
      "unable to find candidates for iteration 154 94790\n",
      "unable to find candidates for iteration 154 94794\n",
      "unable to find candidates for iteration 154 94876\n",
      "unable to find candidates for iteration 154 94989\n",
      "unable to find candidates for iteration 154 107847\n",
      "unable to find candidates for iteration 154 118705\n",
      "unable to find candidates for iteration 154 122366\n"
     ]
    },
    {
     "data": {
      "text/plain": [
       "  0%|          | 0/21127 [00:00<?, ?it/s]"
      ],
      "application/vnd.jupyter.widget-view+json": {
       "version_major": 2,
       "version_minor": 0,
       "model_id": "e6aed37302c84b418917de4edc027075"
      }
     },
     "metadata": {},
     "output_type": "display_data"
    },
    {
     "name": "stdout",
     "output_type": "stream",
     "text": [
      "unable to find candidates for iteration 155 81379\n",
      "unable to find candidates for iteration 155 82092\n",
      "unable to find candidates for iteration 155 82216\n",
      "unable to find candidates for iteration 155 82493\n",
      "unable to find candidates for iteration 155 82572\n",
      "unable to find candidates for iteration 155 87033\n",
      "unable to find candidates for iteration 155 87916\n",
      "unable to find candidates for iteration 155 89224\n",
      "unable to find candidates for iteration 155 94458\n",
      "unable to find candidates for iteration 155 94460\n",
      "unable to find candidates for iteration 155 94464\n",
      "unable to find candidates for iteration 155 94467\n",
      "unable to find candidates for iteration 155 94610\n",
      "unable to find candidates for iteration 155 94612\n",
      "unable to find candidates for iteration 155 94616\n",
      "unable to find candidates for iteration 155 94617\n",
      "unable to find candidates for iteration 155 94643\n",
      "unable to find candidates for iteration 155 94746\n",
      "unable to find candidates for iteration 155 94762\n",
      "unable to find candidates for iteration 155 94790\n",
      "unable to find candidates for iteration 155 94876\n",
      "unable to find candidates for iteration 155 94989\n",
      "unable to find candidates for iteration 155 94999\n",
      "unable to find candidates for iteration 155 96008\n",
      "unable to find candidates for iteration 155 96010\n"
     ]
    },
    {
     "data": {
      "text/plain": [
       "  0%|          | 0/21437 [00:00<?, ?it/s]"
      ],
      "application/vnd.jupyter.widget-view+json": {
       "version_major": 2,
       "version_minor": 0,
       "model_id": "f03dd6a3eb7f464e956cee51b6eada5c"
      }
     },
     "metadata": {},
     "output_type": "display_data"
    },
    {
     "name": "stdout",
     "output_type": "stream",
     "text": [
      "unable to find candidates for iteration 156 79565\n",
      "unable to find candidates for iteration 156 79576\n",
      "unable to find candidates for iteration 156 81621\n",
      "unable to find candidates for iteration 156 82179\n",
      "unable to find candidates for iteration 156 82180\n",
      "unable to find candidates for iteration 156 82567\n",
      "unable to find candidates for iteration 156 87918\n",
      "unable to find candidates for iteration 156 89215\n",
      "unable to find candidates for iteration 156 93603\n",
      "unable to find candidates for iteration 156 93606\n",
      "unable to find candidates for iteration 156 93771\n",
      "unable to find candidates for iteration 156 93774\n",
      "unable to find candidates for iteration 156 93798\n",
      "unable to find candidates for iteration 156 93802\n",
      "unable to find candidates for iteration 156 93889\n",
      "unable to find candidates for iteration 156 93963\n",
      "unable to find candidates for iteration 156 93968\n",
      "unable to find candidates for iteration 156 94074\n",
      "unable to find candidates for iteration 156 94092\n",
      "unable to find candidates for iteration 156 94099\n",
      "unable to find candidates for iteration 156 94754\n",
      "unable to find candidates for iteration 156 94764\n",
      "unable to find candidates for iteration 156 94769\n",
      "unable to find candidates for iteration 156 94908\n",
      "unable to find candidates for iteration 156 94912\n",
      "unable to find candidates for iteration 156 94921\n",
      "unable to find candidates for iteration 156 95031\n",
      "unable to find candidates for iteration 156 95035\n",
      "unable to find candidates for iteration 156 95069\n",
      "unable to find candidates for iteration 156 96070\n",
      "unable to find candidates for iteration 156 96101\n",
      "unable to find candidates for iteration 156 99133\n",
      "unable to find candidates for iteration 156 99192\n"
     ]
    },
    {
     "data": {
      "text/plain": [
       "  0%|          | 0/22322 [00:00<?, ?it/s]"
      ],
      "application/vnd.jupyter.widget-view+json": {
       "version_major": 2,
       "version_minor": 0,
       "model_id": "aea8c457c35d41c2bf8b63bb87860b17"
      }
     },
     "metadata": {},
     "output_type": "display_data"
    },
    {
     "name": "stdout",
     "output_type": "stream",
     "text": [
      "unable to find candidates for iteration 157 82216\n",
      "unable to find candidates for iteration 157 82482\n",
      "unable to find candidates for iteration 157 82539\n",
      "unable to find candidates for iteration 157 87820\n",
      "unable to find candidates for iteration 157 87916\n",
      "unable to find candidates for iteration 157 93336\n",
      "unable to find candidates for iteration 157 93340\n",
      "unable to find candidates for iteration 157 93485\n",
      "unable to find candidates for iteration 157 94133\n",
      "unable to find candidates for iteration 157 94158\n",
      "unable to find candidates for iteration 157 94277\n",
      "unable to find candidates for iteration 157 94360\n",
      "unable to find candidates for iteration 157 94465\n",
      "unable to find candidates for iteration 157 94569\n",
      "unable to find candidates for iteration 157 94582\n",
      "unable to find candidates for iteration 157 94587\n",
      "unable to find candidates for iteration 157 94605\n",
      "unable to find candidates for iteration 157 94621\n",
      "unable to find candidates for iteration 157 94628\n",
      "unable to find candidates for iteration 157 94640\n",
      "unable to find candidates for iteration 157 94646\n",
      "unable to find candidates for iteration 157 94713\n",
      "unable to find candidates for iteration 157 94718\n",
      "unable to find candidates for iteration 157 94731\n",
      "unable to find candidates for iteration 157 94735\n",
      "unable to find candidates for iteration 157 94810\n",
      "unable to find candidates for iteration 157 94968\n",
      "unable to find candidates for iteration 157 99225\n"
     ]
    },
    {
     "data": {
      "text/plain": [
       "  0%|          | 0/22684 [00:00<?, ?it/s]"
      ],
      "application/vnd.jupyter.widget-view+json": {
       "version_major": 2,
       "version_minor": 0,
       "model_id": "c3a0c65f0bd3465c915c06b5a51053fd"
      }
     },
     "metadata": {},
     "output_type": "display_data"
    },
    {
     "name": "stdout",
     "output_type": "stream",
     "text": [
      "unable to find candidates for iteration 158 81369\n",
      "unable to find candidates for iteration 158 82092\n",
      "unable to find candidates for iteration 158 82109\n",
      "unable to find candidates for iteration 158 82216\n",
      "unable to find candidates for iteration 158 82511\n",
      "unable to find candidates for iteration 158 82512\n",
      "unable to find candidates for iteration 158 82552\n",
      "unable to find candidates for iteration 158 87916\n",
      "unable to find candidates for iteration 158 89159\n",
      "unable to find candidates for iteration 158 89224\n",
      "unable to find candidates for iteration 158 93248\n",
      "unable to find candidates for iteration 158 93348\n",
      "unable to find candidates for iteration 158 93491\n",
      "unable to find candidates for iteration 158 94150\n",
      "unable to find candidates for iteration 158 94299\n",
      "unable to find candidates for iteration 158 94475\n",
      "unable to find candidates for iteration 158 94479\n",
      "unable to find candidates for iteration 158 94575\n",
      "unable to find candidates for iteration 158 94582\n",
      "unable to find candidates for iteration 158 94587\n",
      "unable to find candidates for iteration 158 94588\n",
      "unable to find candidates for iteration 158 94592\n",
      "unable to find candidates for iteration 158 94605\n",
      "unable to find candidates for iteration 158 94615\n",
      "unable to find candidates for iteration 158 94621\n",
      "unable to find candidates for iteration 158 94634\n",
      "unable to find candidates for iteration 158 94640\n",
      "unable to find candidates for iteration 158 94731\n",
      "unable to find candidates for iteration 158 94746\n",
      "unable to find candidates for iteration 158 94810\n",
      "unable to find candidates for iteration 158 94968\n",
      "unable to find candidates for iteration 158 94976\n",
      "unable to find candidates for iteration 158 95994\n",
      "unable to find candidates for iteration 158 99182\n",
      "unable to find candidates for iteration 158 99184\n",
      "unable to find candidates for iteration 158 99238\n"
     ]
    },
    {
     "data": {
      "text/plain": [
       "  0%|          | 0/27377 [00:00<?, ?it/s]"
      ],
      "application/vnd.jupyter.widget-view+json": {
       "version_major": 2,
       "version_minor": 0,
       "model_id": "034ae19d9df340c79ce2512a50c34207"
      }
     },
     "metadata": {},
     "output_type": "display_data"
    },
    {
     "name": "stdout",
     "output_type": "stream",
     "text": [
      "unable to find candidates for iteration 159 79541\n",
      "unable to find candidates for iteration 159 79576\n",
      "unable to find candidates for iteration 159 82184\n",
      "unable to find candidates for iteration 159 82553\n",
      "unable to find candidates for iteration 159 82555\n",
      "unable to find candidates for iteration 159 82567\n",
      "unable to find candidates for iteration 159 82585\n",
      "unable to find candidates for iteration 159 87103\n",
      "unable to find candidates for iteration 159 87918\n",
      "unable to find candidates for iteration 159 89169\n",
      "unable to find candidates for iteration 159 93560\n",
      "unable to find candidates for iteration 159 93563\n",
      "unable to find candidates for iteration 159 93643\n",
      "unable to find candidates for iteration 159 93645\n",
      "unable to find candidates for iteration 159 93796\n",
      "unable to find candidates for iteration 159 93798\n",
      "unable to find candidates for iteration 159 93956\n",
      "unable to find candidates for iteration 159 93958\n",
      "unable to find candidates for iteration 159 93963\n",
      "unable to find candidates for iteration 159 94074\n",
      "unable to find candidates for iteration 159 94480\n",
      "unable to find candidates for iteration 159 94775\n",
      "unable to find candidates for iteration 159 94779\n",
      "unable to find candidates for iteration 159 94790\n",
      "unable to find candidates for iteration 159 94794\n",
      "unable to find candidates for iteration 159 94968\n",
      "unable to find candidates for iteration 159 95069\n",
      "unable to find candidates for iteration 159 96072\n",
      "unable to find candidates for iteration 159 96073\n",
      "unable to find candidates for iteration 159 99183\n"
     ]
    },
    {
     "data": {
      "text/plain": [
       "  0%|          | 0/22418 [00:00<?, ?it/s]"
      ],
      "application/vnd.jupyter.widget-view+json": {
       "version_major": 2,
       "version_minor": 0,
       "model_id": "949519febde74afda772019e3dc25f85"
      }
     },
     "metadata": {},
     "output_type": "display_data"
    },
    {
     "name": "stdout",
     "output_type": "stream",
     "text": [
      "unable to find candidates for iteration 160 79576\n",
      "unable to find candidates for iteration 160 82184\n",
      "unable to find candidates for iteration 160 82473\n",
      "unable to find candidates for iteration 160 82553\n",
      "unable to find candidates for iteration 160 82555\n",
      "unable to find candidates for iteration 160 82567\n",
      "unable to find candidates for iteration 160 82585\n",
      "unable to find candidates for iteration 160 86791\n",
      "unable to find candidates for iteration 160 87103\n",
      "unable to find candidates for iteration 160 87918\n",
      "unable to find candidates for iteration 160 89169\n",
      "unable to find candidates for iteration 160 93560\n",
      "unable to find candidates for iteration 160 93563\n",
      "unable to find candidates for iteration 160 93628\n",
      "unable to find candidates for iteration 160 93643\n",
      "unable to find candidates for iteration 160 93645\n",
      "unable to find candidates for iteration 160 93798\n",
      "unable to find candidates for iteration 160 93880\n",
      "unable to find candidates for iteration 160 93956\n",
      "unable to find candidates for iteration 160 93963\n",
      "unable to find candidates for iteration 160 94074\n",
      "unable to find candidates for iteration 160 94078\n",
      "unable to find candidates for iteration 160 94480\n",
      "unable to find candidates for iteration 160 94775\n",
      "unable to find candidates for iteration 160 94779\n",
      "unable to find candidates for iteration 160 94790\n",
      "unable to find candidates for iteration 160 94794\n",
      "unable to find candidates for iteration 160 94968\n",
      "unable to find candidates for iteration 160 95069\n",
      "unable to find candidates for iteration 160 99183\n"
     ]
    },
    {
     "data": {
      "text/plain": [
       "  0%|          | 0/22440 [00:00<?, ?it/s]"
      ],
      "application/vnd.jupyter.widget-view+json": {
       "version_major": 2,
       "version_minor": 0,
       "model_id": "e835a4e27d9f4b74b711272a448b6f66"
      }
     },
     "metadata": {},
     "output_type": "display_data"
    },
    {
     "name": "stdout",
     "output_type": "stream",
     "text": [
      "unable to find candidates for iteration 161 79541\n",
      "unable to find candidates for iteration 161 79576\n",
      "unable to find candidates for iteration 161 82184\n",
      "unable to find candidates for iteration 161 82185\n",
      "unable to find candidates for iteration 161 82553\n",
      "unable to find candidates for iteration 161 82555\n",
      "unable to find candidates for iteration 161 82567\n",
      "unable to find candidates for iteration 161 82585\n",
      "unable to find candidates for iteration 161 87103\n",
      "unable to find candidates for iteration 161 87918\n",
      "unable to find candidates for iteration 161 89169\n",
      "unable to find candidates for iteration 161 93558\n",
      "unable to find candidates for iteration 161 93560\n",
      "unable to find candidates for iteration 161 93563\n",
      "unable to find candidates for iteration 161 93643\n",
      "unable to find candidates for iteration 161 93645\n",
      "unable to find candidates for iteration 161 93796\n",
      "unable to find candidates for iteration 161 93798\n",
      "unable to find candidates for iteration 161 93956\n",
      "unable to find candidates for iteration 161 93958\n",
      "unable to find candidates for iteration 161 94074\n",
      "unable to find candidates for iteration 161 94111\n",
      "unable to find candidates for iteration 161 94480\n",
      "unable to find candidates for iteration 161 94775\n",
      "unable to find candidates for iteration 161 94779\n",
      "unable to find candidates for iteration 161 94790\n",
      "unable to find candidates for iteration 161 94794\n",
      "unable to find candidates for iteration 161 94968\n",
      "unable to find candidates for iteration 161 94983\n",
      "unable to find candidates for iteration 161 96071\n",
      "unable to find candidates for iteration 161 99183\n"
     ]
    },
    {
     "data": {
      "text/plain": [
       "  0%|          | 0/22537 [00:00<?, ?it/s]"
      ],
      "application/vnd.jupyter.widget-view+json": {
       "version_major": 2,
       "version_minor": 0,
       "model_id": "9dbd6b48ba51475fbe05ea01eeeb2643"
      }
     },
     "metadata": {},
     "output_type": "display_data"
    },
    {
     "name": "stdout",
     "output_type": "stream",
     "text": [
      "unable to find candidates for iteration 162 82092\n",
      "unable to find candidates for iteration 162 82216\n",
      "unable to find candidates for iteration 162 82493\n",
      "unable to find candidates for iteration 162 82572\n",
      "unable to find candidates for iteration 162 86811\n",
      "unable to find candidates for iteration 162 87033\n",
      "unable to find candidates for iteration 162 87853\n",
      "unable to find candidates for iteration 162 87916\n",
      "unable to find candidates for iteration 162 89159\n",
      "unable to find candidates for iteration 162 89184\n",
      "unable to find candidates for iteration 162 89224\n",
      "unable to find candidates for iteration 162 93261\n",
      "unable to find candidates for iteration 162 93262\n",
      "unable to find candidates for iteration 162 93265\n",
      "unable to find candidates for iteration 162 93266\n",
      "unable to find candidates for iteration 162 93366\n",
      "unable to find candidates for iteration 162 93509\n",
      "unable to find candidates for iteration 162 93777\n",
      "unable to find candidates for iteration 162 93779\n",
      "unable to find candidates for iteration 162 94379\n",
      "unable to find candidates for iteration 162 94386\n",
      "unable to find candidates for iteration 162 94439\n",
      "unable to find candidates for iteration 162 94444\n",
      "unable to find candidates for iteration 162 94447\n",
      "unable to find candidates for iteration 162 94610\n",
      "unable to find candidates for iteration 162 94616\n",
      "unable to find candidates for iteration 162 94619\n",
      "unable to find candidates for iteration 162 94626\n",
      "unable to find candidates for iteration 162 94627\n",
      "unable to find candidates for iteration 162 94630\n",
      "unable to find candidates for iteration 162 94633\n",
      "unable to find candidates for iteration 162 94746\n",
      "unable to find candidates for iteration 162 94762\n",
      "unable to find candidates for iteration 162 94764\n",
      "unable to find candidates for iteration 162 94768\n",
      "unable to find candidates for iteration 162 94769\n",
      "unable to find candidates for iteration 162 94852\n",
      "unable to find candidates for iteration 162 94989\n",
      "unable to find candidates for iteration 162 94999\n",
      "unable to find candidates for iteration 162 99138\n"
     ]
    },
    {
     "data": {
      "text/plain": [
       "  0%|          | 0/22557 [00:00<?, ?it/s]"
      ],
      "application/vnd.jupyter.widget-view+json": {
       "version_major": 2,
       "version_minor": 0,
       "model_id": "b3dcff52cba146269d40ea05b3fad9de"
      }
     },
     "metadata": {},
     "output_type": "display_data"
    },
    {
     "name": "stdout",
     "output_type": "stream",
     "text": [
      "unable to find candidates for iteration 163 82216\n",
      "unable to find candidates for iteration 163 82430\n",
      "unable to find candidates for iteration 163 82493\n",
      "unable to find candidates for iteration 163 86811\n",
      "unable to find candidates for iteration 163 87033\n",
      "unable to find candidates for iteration 163 87853\n",
      "unable to find candidates for iteration 163 87916\n",
      "unable to find candidates for iteration 163 89159\n",
      "unable to find candidates for iteration 163 89224\n",
      "unable to find candidates for iteration 163 93265\n",
      "unable to find candidates for iteration 163 93266\n",
      "unable to find candidates for iteration 163 93270\n",
      "unable to find candidates for iteration 163 93519\n",
      "unable to find candidates for iteration 163 93549\n",
      "unable to find candidates for iteration 163 93552\n",
      "unable to find candidates for iteration 163 93586\n",
      "unable to find candidates for iteration 163 93766\n",
      "unable to find candidates for iteration 163 93770\n",
      "unable to find candidates for iteration 163 94373\n",
      "unable to find candidates for iteration 163 94454\n",
      "unable to find candidates for iteration 163 94464\n",
      "unable to find candidates for iteration 163 94599\n",
      "unable to find candidates for iteration 163 94612\n",
      "unable to find candidates for iteration 163 94617\n",
      "unable to find candidates for iteration 163 94622\n",
      "unable to find candidates for iteration 163 94630\n",
      "unable to find candidates for iteration 163 94631\n",
      "unable to find candidates for iteration 163 94636\n",
      "unable to find candidates for iteration 163 94637\n",
      "unable to find candidates for iteration 163 94639\n",
      "unable to find candidates for iteration 163 94757\n",
      "unable to find candidates for iteration 163 94762\n",
      "unable to find candidates for iteration 163 94774\n",
      "unable to find candidates for iteration 163 94779\n",
      "unable to find candidates for iteration 163 94781\n",
      "unable to find candidates for iteration 163 94786\n",
      "unable to find candidates for iteration 163 94876\n",
      "unable to find candidates for iteration 163 95005\n",
      "unable to find candidates for iteration 163 96008\n",
      "unable to find candidates for iteration 163 96010\n",
      "unable to find candidates for iteration 163 99187\n"
     ]
    },
    {
     "data": {
      "text/plain": [
       "  0%|          | 0/22575 [00:00<?, ?it/s]"
      ],
      "application/vnd.jupyter.widget-view+json": {
       "version_major": 2,
       "version_minor": 0,
       "model_id": "3fa1eeb7d0594933a65c0f16b98bf3db"
      }
     },
     "metadata": {},
     "output_type": "display_data"
    },
    {
     "name": "stdout",
     "output_type": "stream",
     "text": [
      "unable to find candidates for iteration 164 82092\n",
      "unable to find candidates for iteration 164 82216\n",
      "unable to find candidates for iteration 164 82493\n",
      "unable to find candidates for iteration 164 86811\n",
      "unable to find candidates for iteration 164 86833\n",
      "unable to find candidates for iteration 164 86998\n",
      "unable to find candidates for iteration 164 87033\n",
      "unable to find candidates for iteration 164 87853\n",
      "unable to find candidates for iteration 164 87861\n",
      "unable to find candidates for iteration 164 87916\n",
      "unable to find candidates for iteration 164 89159\n",
      "unable to find candidates for iteration 164 89184\n",
      "unable to find candidates for iteration 164 89224\n",
      "unable to find candidates for iteration 164 93261\n",
      "unable to find candidates for iteration 164 93549\n",
      "unable to find candidates for iteration 164 93770\n",
      "unable to find candidates for iteration 164 94373\n",
      "unable to find candidates for iteration 164 94379\n",
      "unable to find candidates for iteration 164 94449\n",
      "unable to find candidates for iteration 164 94453\n",
      "unable to find candidates for iteration 164 94454\n",
      "unable to find candidates for iteration 164 94458\n",
      "unable to find candidates for iteration 164 94600\n",
      "unable to find candidates for iteration 164 94616\n",
      "unable to find candidates for iteration 164 94617\n",
      "unable to find candidates for iteration 164 94622\n",
      "unable to find candidates for iteration 164 94630\n",
      "unable to find candidates for iteration 164 94631\n",
      "unable to find candidates for iteration 164 94633\n",
      "unable to find candidates for iteration 164 94636\n",
      "unable to find candidates for iteration 164 94639\n",
      "unable to find candidates for iteration 164 94757\n",
      "unable to find candidates for iteration 164 94768\n",
      "unable to find candidates for iteration 164 94774\n",
      "unable to find candidates for iteration 164 94775\n",
      "unable to find candidates for iteration 164 94779\n",
      "unable to find candidates for iteration 164 95005\n",
      "unable to find candidates for iteration 164 96010\n"
     ]
    },
    {
     "data": {
      "text/plain": [
       "  0%|          | 0/22556 [00:00<?, ?it/s]"
      ],
      "application/vnd.jupyter.widget-view+json": {
       "version_major": 2,
       "version_minor": 0,
       "model_id": "ce57b7448bbd461880639675ec1220da"
      }
     },
     "metadata": {},
     "output_type": "display_data"
    },
    {
     "name": "stdout",
     "output_type": "stream",
     "text": [
      "unable to find candidates for iteration 165 81622\n",
      "unable to find candidates for iteration 165 81627\n",
      "unable to find candidates for iteration 165 82221\n",
      "unable to find candidates for iteration 165 82552\n",
      "unable to find candidates for iteration 165 87833\n",
      "unable to find candidates for iteration 165 87916\n",
      "unable to find candidates for iteration 165 93355\n",
      "unable to find candidates for iteration 165 93412\n",
      "unable to find candidates for iteration 165 93491\n",
      "unable to find candidates for iteration 165 93495\n",
      "unable to find candidates for iteration 165 93533\n",
      "unable to find candidates for iteration 165 93536\n",
      "unable to find candidates for iteration 165 93685\n",
      "unable to find candidates for iteration 165 93902\n",
      "unable to find candidates for iteration 165 93964\n",
      "unable to find candidates for iteration 165 93969\n",
      "unable to find candidates for iteration 165 94010\n",
      "unable to find candidates for iteration 165 94015\n",
      "unable to find candidates for iteration 165 94073\n",
      "unable to find candidates for iteration 165 94134\n",
      "unable to find candidates for iteration 165 94333\n",
      "unable to find candidates for iteration 165 94722\n",
      "unable to find candidates for iteration 165 94727\n",
      "unable to find candidates for iteration 165 94743\n",
      "unable to find candidates for iteration 165 94834\n",
      "unable to find candidates for iteration 165 94838\n",
      "unable to find candidates for iteration 165 94851\n",
      "unable to find candidates for iteration 165 94937\n",
      "unable to find candidates for iteration 165 94940\n",
      "unable to find candidates for iteration 165 94953\n",
      "unable to find candidates for iteration 165 94978\n",
      "unable to find candidates for iteration 165 94981\n",
      "unable to find candidates for iteration 165 94986\n",
      "unable to find candidates for iteration 165 94990\n",
      "unable to find candidates for iteration 165 95019\n",
      "unable to find candidates for iteration 165 95027\n",
      "unable to find candidates for iteration 165 95076\n",
      "unable to find candidates for iteration 165 96003\n"
     ]
    },
    {
     "data": {
      "text/plain": [
       "  0%|          | 0/22421 [00:00<?, ?it/s]"
      ],
      "application/vnd.jupyter.widget-view+json": {
       "version_major": 2,
       "version_minor": 0,
       "model_id": "fe3cac63cd9b466bbbaea4bace114c35"
      }
     },
     "metadata": {},
     "output_type": "display_data"
    },
    {
     "name": "stdout",
     "output_type": "stream",
     "text": [
      "unable to find candidates for iteration 166 82193\n",
      "unable to find candidates for iteration 166 82214\n",
      "unable to find candidates for iteration 166 87130\n",
      "unable to find candidates for iteration 166 87916\n",
      "unable to find candidates for iteration 166 93416\n",
      "unable to find candidates for iteration 166 93514\n",
      "unable to find candidates for iteration 166 93566\n",
      "unable to find candidates for iteration 166 93570\n",
      "unable to find candidates for iteration 166 93803\n",
      "unable to find candidates for iteration 166 93807\n",
      "unable to find candidates for iteration 166 94004\n",
      "unable to find candidates for iteration 166 94050\n",
      "unable to find candidates for iteration 166 94051\n",
      "unable to find candidates for iteration 166 94212\n",
      "unable to find candidates for iteration 166 94218\n",
      "unable to find candidates for iteration 166 94311\n",
      "unable to find candidates for iteration 166 94321\n",
      "unable to find candidates for iteration 166 94582\n",
      "unable to find candidates for iteration 166 94587\n",
      "unable to find candidates for iteration 166 94627\n",
      "unable to find candidates for iteration 166 94633\n",
      "unable to find candidates for iteration 166 94644\n",
      "unable to find candidates for iteration 166 94650\n",
      "unable to find candidates for iteration 166 94772\n",
      "unable to find candidates for iteration 166 94785\n",
      "unable to find candidates for iteration 166 94791\n",
      "unable to find candidates for iteration 166 94792\n",
      "unable to find candidates for iteration 166 94989\n",
      "unable to find candidates for iteration 166 95995\n",
      "unable to find candidates for iteration 166 96013\n"
     ]
    },
    {
     "data": {
      "text/plain": [
       "  0%|          | 0/22426 [00:00<?, ?it/s]"
      ],
      "application/vnd.jupyter.widget-view+json": {
       "version_major": 2,
       "version_minor": 0,
       "model_id": "edf62ab97f034b49a8beffbec231c921"
      }
     },
     "metadata": {},
     "output_type": "display_data"
    },
    {
     "name": "stdout",
     "output_type": "stream",
     "text": [
      "unable to find candidates for iteration 167 81670\n",
      "unable to find candidates for iteration 167 82457\n",
      "unable to find candidates for iteration 167 82552\n",
      "unable to find candidates for iteration 167 82572\n",
      "unable to find candidates for iteration 167 87110\n",
      "unable to find candidates for iteration 167 87916\n",
      "unable to find candidates for iteration 167 89172\n",
      "unable to find candidates for iteration 167 93392\n",
      "unable to find candidates for iteration 167 93619\n",
      "unable to find candidates for iteration 167 93669\n",
      "unable to find candidates for iteration 167 93785\n",
      "unable to find candidates for iteration 167 93986\n",
      "unable to find candidates for iteration 167 93993\n",
      "unable to find candidates for iteration 167 94063\n",
      "unable to find candidates for iteration 167 94205\n",
      "unable to find candidates for iteration 167 94306\n",
      "unable to find candidates for iteration 167 94311\n",
      "unable to find candidates for iteration 167 94582\n",
      "unable to find candidates for iteration 167 94587\n",
      "unable to find candidates for iteration 167 94605\n",
      "unable to find candidates for iteration 167 94655\n",
      "unable to find candidates for iteration 167 94673\n",
      "unable to find candidates for iteration 167 94785\n",
      "unable to find candidates for iteration 167 94802\n",
      "unable to find candidates for iteration 167 94819\n",
      "unable to find candidates for iteration 167 94828\n",
      "unable to find candidates for iteration 167 94989\n",
      "unable to find candidates for iteration 167 94999\n"
     ]
    },
    {
     "data": {
      "text/plain": [
       "  0%|          | 0/22497 [00:00<?, ?it/s]"
      ],
      "application/vnd.jupyter.widget-view+json": {
       "version_major": 2,
       "version_minor": 0,
       "model_id": "67270b74e07e403d8247f9fda42cc763"
      }
     },
     "metadata": {},
     "output_type": "display_data"
    },
    {
     "name": "stdout",
     "output_type": "stream",
     "text": [
      "unable to find candidates for iteration 168 81365\n",
      "unable to find candidates for iteration 168 81647\n",
      "unable to find candidates for iteration 168 82112\n",
      "unable to find candidates for iteration 168 82113\n",
      "unable to find candidates for iteration 168 82177\n",
      "unable to find candidates for iteration 168 82537\n",
      "unable to find candidates for iteration 168 86858\n",
      "unable to find candidates for iteration 168 87918\n",
      "unable to find candidates for iteration 168 89214\n",
      "unable to find candidates for iteration 168 93392\n",
      "unable to find candidates for iteration 168 93396\n",
      "unable to find candidates for iteration 168 93638\n",
      "unable to find candidates for iteration 168 93709\n",
      "unable to find candidates for iteration 168 93783\n",
      "unable to find candidates for iteration 168 93922\n",
      "unable to find candidates for iteration 168 93990\n",
      "unable to find candidates for iteration 168 94535\n",
      "unable to find candidates for iteration 168 94679\n",
      "unable to find candidates for iteration 168 94684\n",
      "unable to find candidates for iteration 168 94699\n",
      "unable to find candidates for iteration 168 94782\n",
      "unable to find candidates for iteration 168 94963\n",
      "unable to find candidates for iteration 168 94987\n",
      "unable to find candidates for iteration 168 94997\n",
      "unable to find candidates for iteration 168 95012\n",
      "unable to find candidates for iteration 168 95015\n"
     ]
    },
    {
     "data": {
      "text/plain": [
       "  0%|          | 0/22492 [00:00<?, ?it/s]"
      ],
      "application/vnd.jupyter.widget-view+json": {
       "version_major": 2,
       "version_minor": 0,
       "model_id": "ddfca0ecc6dd4fc29f8f53c872d0704b"
      }
     },
     "metadata": {},
     "output_type": "display_data"
    },
    {
     "name": "stdout",
     "output_type": "stream",
     "text": [
      "unable to find candidates for iteration 169 82178\n",
      "unable to find candidates for iteration 169 82237\n",
      "unable to find candidates for iteration 169 86824\n",
      "unable to find candidates for iteration 169 87046\n",
      "unable to find candidates for iteration 169 87918\n",
      "unable to find candidates for iteration 169 87940\n",
      "unable to find candidates for iteration 169 93226\n",
      "unable to find candidates for iteration 169 93230\n",
      "unable to find candidates for iteration 169 93376\n",
      "unable to find candidates for iteration 169 93455\n",
      "unable to find candidates for iteration 169 93457\n",
      "unable to find candidates for iteration 169 93735\n",
      "unable to find candidates for iteration 169 93738\n",
      "unable to find candidates for iteration 169 93786\n",
      "unable to find candidates for iteration 169 93790\n",
      "unable to find candidates for iteration 169 93942\n",
      "unable to find candidates for iteration 169 94029\n",
      "unable to find candidates for iteration 169 94033\n",
      "unable to find candidates for iteration 169 94035\n",
      "unable to find candidates for iteration 169 94715\n",
      "unable to find candidates for iteration 169 94719\n",
      "unable to find candidates for iteration 169 94728\n",
      "unable to find candidates for iteration 169 94733\n",
      "unable to find candidates for iteration 169 94862\n",
      "unable to find candidates for iteration 169 95020\n",
      "unable to find candidates for iteration 169 95021\n",
      "unable to find candidates for iteration 169 95023\n",
      "unable to find candidates for iteration 169 95029\n",
      "unable to find candidates for iteration 169 95031\n",
      "unable to find candidates for iteration 169 96056\n",
      "unable to find candidates for iteration 169 99060\n",
      "unable to find candidates for iteration 169 99070\n"
     ]
    },
    {
     "data": {
      "text/plain": [
       "  0%|          | 0/22578 [00:00<?, ?it/s]"
      ],
      "application/vnd.jupyter.widget-view+json": {
       "version_major": 2,
       "version_minor": 0,
       "model_id": "54476414d7044f6d9d14ea53cc0a5e49"
      }
     },
     "metadata": {},
     "output_type": "display_data"
    },
    {
     "name": "stdout",
     "output_type": "stream",
     "text": [
      "unable to find candidates for iteration 170 81623\n",
      "unable to find candidates for iteration 170 81651\n",
      "unable to find candidates for iteration 170 82109\n",
      "unable to find candidates for iteration 170 82193\n",
      "unable to find candidates for iteration 170 86820\n",
      "unable to find candidates for iteration 170 87916\n",
      "unable to find candidates for iteration 170 89192\n",
      "unable to find candidates for iteration 170 93416\n",
      "unable to find candidates for iteration 170 93421\n",
      "unable to find candidates for iteration 170 93556\n",
      "unable to find candidates for iteration 170 93712\n",
      "unable to find candidates for iteration 170 94482\n",
      "unable to find candidates for iteration 170 94530\n",
      "unable to find candidates for iteration 170 94637\n",
      "unable to find candidates for iteration 170 94641\n",
      "unable to find candidates for iteration 170 94643\n",
      "unable to find candidates for iteration 170 94680\n",
      "unable to find candidates for iteration 170 94685\n",
      "unable to find candidates for iteration 170 94812\n",
      "unable to find candidates for iteration 170 94928\n",
      "unable to find candidates for iteration 170 95027\n",
      "unable to find candidates for iteration 170 95963\n",
      "unable to find candidates for iteration 170 95968\n",
      "unable to find candidates for iteration 170 99202\n"
     ]
    },
    {
     "data": {
      "text/plain": [
       "  0%|          | 0/22689 [00:00<?, ?it/s]"
      ],
      "application/vnd.jupyter.widget-view+json": {
       "version_major": 2,
       "version_minor": 0,
       "model_id": "77af7df3631b4af7a548331bcd754066"
      }
     },
     "metadata": {},
     "output_type": "display_data"
    },
    {
     "name": "stdout",
     "output_type": "stream",
     "text": [
      "unable to find candidates for iteration 171 82123\n",
      "unable to find candidates for iteration 171 82180\n",
      "unable to find candidates for iteration 171 87918\n",
      "unable to find candidates for iteration 171 89217\n",
      "unable to find candidates for iteration 171 93191\n",
      "unable to find candidates for iteration 171 93205\n",
      "unable to find candidates for iteration 171 93208\n",
      "unable to find candidates for iteration 171 93360\n",
      "unable to find candidates for iteration 171 93473\n",
      "unable to find candidates for iteration 171 93806\n",
      "unable to find candidates for iteration 171 93810\n",
      "unable to find candidates for iteration 171 93912\n",
      "unable to find candidates for iteration 171 93974\n",
      "unable to find candidates for iteration 171 93981\n",
      "unable to find candidates for iteration 171 94085\n",
      "unable to find candidates for iteration 171 94091\n",
      "unable to find candidates for iteration 171 94396\n",
      "unable to find candidates for iteration 171 94764\n",
      "unable to find candidates for iteration 171 94775\n",
      "unable to find candidates for iteration 171 94779\n",
      "unable to find candidates for iteration 171 94921\n",
      "unable to find candidates for iteration 171 95045\n",
      "unable to find candidates for iteration 171 95069\n",
      "unable to find candidates for iteration 171 99081\n",
      "unable to find candidates for iteration 171 99096\n"
     ]
    },
    {
     "data": {
      "text/plain": [
       "  0%|          | 0/24168 [00:00<?, ?it/s]"
      ],
      "application/vnd.jupyter.widget-view+json": {
       "version_major": 2,
       "version_minor": 0,
       "model_id": "b4ae9d517b24456ea0aaf0f483300c37"
      }
     },
     "metadata": {},
     "output_type": "display_data"
    },
    {
     "name": "stdout",
     "output_type": "stream",
     "text": [
      "unable to find candidates for iteration 172 87094\n",
      "unable to find candidates for iteration 172 87957\n",
      "unable to find candidates for iteration 172 93175\n",
      "unable to find candidates for iteration 172 93324\n",
      "unable to find candidates for iteration 172 93363\n",
      "unable to find candidates for iteration 172 93515\n",
      "unable to find candidates for iteration 172 93521\n",
      "unable to find candidates for iteration 172 93768\n",
      "unable to find candidates for iteration 172 93800\n",
      "unable to find candidates for iteration 172 93952\n",
      "unable to find candidates for iteration 172 93958\n",
      "unable to find candidates for iteration 172 93975\n",
      "unable to find candidates for iteration 172 93982\n",
      "unable to find candidates for iteration 172 94244\n",
      "unable to find candidates for iteration 172 94523\n",
      "unable to find candidates for iteration 172 94529\n",
      "unable to find candidates for iteration 172 94571\n",
      "unable to find candidates for iteration 172 94576\n",
      "unable to find candidates for iteration 172 94584\n",
      "unable to find candidates for iteration 172 94589\n",
      "unable to find candidates for iteration 172 94673\n",
      "unable to find candidates for iteration 172 94678\n",
      "unable to find candidates for iteration 172 94691\n",
      "unable to find candidates for iteration 172 94773\n",
      "unable to find candidates for iteration 172 94784\n",
      "unable to find candidates for iteration 172 94789\n",
      "unable to find candidates for iteration 172 94972\n",
      "unable to find candidates for iteration 172 94975\n",
      "unable to find candidates for iteration 172 94981\n",
      "unable to find candidates for iteration 172 94984\n",
      "unable to find candidates for iteration 172 99011\n",
      "unable to find candidates for iteration 172 99052\n",
      "unable to find candidates for iteration 172 99104\n",
      "unable to find candidates for iteration 172 107575\n",
      "unable to find candidates for iteration 172 107905\n",
      "unable to find candidates for iteration 172 107979\n"
     ]
    },
    {
     "data": {
      "text/plain": [
       "  0%|          | 0/24247 [00:00<?, ?it/s]"
      ],
      "application/vnd.jupyter.widget-view+json": {
       "version_major": 2,
       "version_minor": 0,
       "model_id": "7be7aaab3a3745ee8f054751392a1d38"
      }
     },
     "metadata": {},
     "output_type": "display_data"
    },
    {
     "name": "stdout",
     "output_type": "stream",
     "text": [
      "unable to find candidates for iteration 173 87033\n",
      "unable to find candidates for iteration 173 87820\n",
      "unable to find candidates for iteration 173 87911\n",
      "unable to find candidates for iteration 173 87916\n",
      "unable to find candidates for iteration 173 89155\n",
      "unable to find candidates for iteration 173 93466\n",
      "unable to find candidates for iteration 173 93533\n",
      "unable to find candidates for iteration 173 93779\n",
      "unable to find candidates for iteration 173 93782\n",
      "unable to find candidates for iteration 173 94460\n",
      "unable to find candidates for iteration 173 94560\n",
      "unable to find candidates for iteration 173 94588\n",
      "unable to find candidates for iteration 173 94592\n",
      "unable to find candidates for iteration 173 94603\n",
      "unable to find candidates for iteration 173 94610\n",
      "unable to find candidates for iteration 173 94612\n",
      "unable to find candidates for iteration 173 94623\n",
      "unable to find candidates for iteration 173 94630\n",
      "unable to find candidates for iteration 173 94643\n",
      "unable to find candidates for iteration 173 94649\n",
      "unable to find candidates for iteration 173 94702\n",
      "unable to find candidates for iteration 173 94718\n",
      "unable to find candidates for iteration 173 94726\n",
      "unable to find candidates for iteration 173 94786\n",
      "unable to find candidates for iteration 173 94790\n",
      "unable to find candidates for iteration 173 94983\n",
      "unable to find candidates for iteration 173 96003\n",
      "unable to find candidates for iteration 173 96005\n",
      "unable to find candidates for iteration 173 99093\n",
      "unable to find candidates for iteration 173 99095\n",
      "unable to find candidates for iteration 173 99182\n",
      "unable to find candidates for iteration 173 107876\n"
     ]
    },
    {
     "data": {
      "text/plain": [
       "  0%|          | 0/24245 [00:00<?, ?it/s]"
      ],
      "application/vnd.jupyter.widget-view+json": {
       "version_major": 2,
       "version_minor": 0,
       "model_id": "8c382e87e4804223a0b5683c6a63c3f1"
      }
     },
     "metadata": {},
     "output_type": "display_data"
    },
    {
     "name": "stdout",
     "output_type": "stream",
     "text": [
      "unable to find candidates for iteration 174 87033\n",
      "unable to find candidates for iteration 174 87820\n",
      "unable to find candidates for iteration 174 87911\n",
      "unable to find candidates for iteration 174 87916\n",
      "unable to find candidates for iteration 174 89155\n",
      "unable to find candidates for iteration 174 93466\n",
      "unable to find candidates for iteration 174 93533\n",
      "unable to find candidates for iteration 174 93777\n",
      "unable to find candidates for iteration 174 93779\n",
      "unable to find candidates for iteration 174 94447\n",
      "unable to find candidates for iteration 174 94460\n",
      "unable to find candidates for iteration 174 94467\n",
      "unable to find candidates for iteration 174 94560\n",
      "unable to find candidates for iteration 174 94592\n",
      "unable to find candidates for iteration 174 94603\n",
      "unable to find candidates for iteration 174 94610\n",
      "unable to find candidates for iteration 174 94612\n",
      "unable to find candidates for iteration 174 94630\n",
      "unable to find candidates for iteration 174 94643\n",
      "unable to find candidates for iteration 174 94649\n",
      "unable to find candidates for iteration 174 94726\n",
      "unable to find candidates for iteration 174 94786\n",
      "unable to find candidates for iteration 174 94790\n",
      "unable to find candidates for iteration 174 94852\n",
      "unable to find candidates for iteration 174 94976\n",
      "unable to find candidates for iteration 174 94983\n",
      "unable to find candidates for iteration 174 96005\n",
      "unable to find candidates for iteration 174 96006\n",
      "unable to find candidates for iteration 174 99093\n",
      "unable to find candidates for iteration 174 99095\n",
      "unable to find candidates for iteration 174 99182\n",
      "unable to find candidates for iteration 174 99225\n"
     ]
    },
    {
     "data": {
      "text/plain": [
       "  0%|          | 0/24245 [00:00<?, ?it/s]"
      ],
      "application/vnd.jupyter.widget-view+json": {
       "version_major": 2,
       "version_minor": 0,
       "model_id": "fd25f421e35e4db4ac4d5d9f7351ad17"
      }
     },
     "metadata": {},
     "output_type": "display_data"
    },
    {
     "name": "stdout",
     "output_type": "stream",
     "text": [
      "unable to find candidates for iteration 175 86833\n",
      "unable to find candidates for iteration 175 87033\n",
      "unable to find candidates for iteration 175 87911\n",
      "unable to find candidates for iteration 175 87916\n",
      "unable to find candidates for iteration 175 89155\n",
      "unable to find candidates for iteration 175 93533\n",
      "unable to find candidates for iteration 175 93536\n",
      "unable to find candidates for iteration 175 93770\n",
      "unable to find candidates for iteration 175 94453\n",
      "unable to find candidates for iteration 175 94458\n",
      "unable to find candidates for iteration 175 94467\n",
      "unable to find candidates for iteration 175 94472\n",
      "unable to find candidates for iteration 175 94574\n",
      "unable to find candidates for iteration 175 94597\n",
      "unable to find candidates for iteration 175 94603\n",
      "unable to find candidates for iteration 175 94616\n",
      "unable to find candidates for iteration 175 94617\n",
      "unable to find candidates for iteration 175 94622\n",
      "unable to find candidates for iteration 175 94630\n",
      "unable to find candidates for iteration 175 94636\n",
      "unable to find candidates for iteration 175 94649\n",
      "unable to find candidates for iteration 175 94718\n",
      "unable to find candidates for iteration 175 94735\n",
      "unable to find candidates for iteration 175 94794\n",
      "unable to find candidates for iteration 175 94862\n",
      "unable to find candidates for iteration 175 94989\n",
      "unable to find candidates for iteration 175 96007\n",
      "unable to find candidates for iteration 175 99043\n",
      "unable to find candidates for iteration 175 99097\n",
      "unable to find candidates for iteration 175 99182\n",
      "unable to find candidates for iteration 175 99184\n",
      "unable to find candidates for iteration 175 99225\n",
      "unable to find candidates for iteration 175 99239\n"
     ]
    },
    {
     "data": {
      "text/plain": [
       "  0%|          | 0/24204 [00:00<?, ?it/s]"
      ],
      "application/vnd.jupyter.widget-view+json": {
       "version_major": 2,
       "version_minor": 0,
       "model_id": "df3cbf2855754f21952cf9dbbc01f023"
      }
     },
     "metadata": {},
     "output_type": "display_data"
    },
    {
     "name": "stdout",
     "output_type": "stream",
     "text": [
      "unable to find candidates for iteration 176 87033\n",
      "unable to find candidates for iteration 176 87911\n",
      "unable to find candidates for iteration 176 87916\n",
      "unable to find candidates for iteration 176 89155\n",
      "unable to find candidates for iteration 176 93466\n",
      "unable to find candidates for iteration 176 93533\n",
      "unable to find candidates for iteration 176 94453\n",
      "unable to find candidates for iteration 176 94467\n",
      "unable to find candidates for iteration 176 94592\n",
      "unable to find candidates for iteration 176 94597\n",
      "unable to find candidates for iteration 176 94610\n",
      "unable to find candidates for iteration 176 94616\n",
      "unable to find candidates for iteration 176 94617\n",
      "unable to find candidates for iteration 176 94630\n",
      "unable to find candidates for iteration 176 94636\n",
      "unable to find candidates for iteration 176 94649\n",
      "unable to find candidates for iteration 176 94713\n",
      "unable to find candidates for iteration 176 94731\n",
      "unable to find candidates for iteration 176 94790\n",
      "unable to find candidates for iteration 176 94794\n",
      "unable to find candidates for iteration 176 94976\n",
      "unable to find candidates for iteration 176 94983\n",
      "unable to find candidates for iteration 176 96007\n",
      "unable to find candidates for iteration 176 99043\n",
      "unable to find candidates for iteration 176 99095\n",
      "unable to find candidates for iteration 176 99182\n",
      "unable to find candidates for iteration 176 99225\n",
      "unable to find candidates for iteration 176 99239\n"
     ]
    },
    {
     "data": {
      "text/plain": [
       "  0%|          | 0/22788 [00:00<?, ?it/s]"
      ],
      "application/vnd.jupyter.widget-view+json": {
       "version_major": 2,
       "version_minor": 0,
       "model_id": "3b8b6db20fc047419842e2f00e1db956"
      }
     },
     "metadata": {},
     "output_type": "display_data"
    },
    {
     "name": "stdout",
     "output_type": "stream",
     "text": [
      "unable to find candidates for iteration 177 93230\n",
      "unable to find candidates for iteration 177 93376\n",
      "unable to find candidates for iteration 177 93455\n",
      "unable to find candidates for iteration 177 93457\n",
      "unable to find candidates for iteration 177 93731\n",
      "unable to find candidates for iteration 177 93786\n",
      "unable to find candidates for iteration 177 93938\n",
      "unable to find candidates for iteration 177 94020\n",
      "unable to find candidates for iteration 177 94022\n",
      "unable to find candidates for iteration 177 94026\n",
      "unable to find candidates for iteration 177 94715\n",
      "unable to find candidates for iteration 177 94728\n",
      "unable to find candidates for iteration 177 94862\n",
      "unable to find candidates for iteration 177 95020\n",
      "unable to find candidates for iteration 177 95026\n",
      "unable to find candidates for iteration 177 95029\n",
      "unable to find candidates for iteration 177 96043\n",
      "unable to find candidates for iteration 177 96052\n",
      "unable to find candidates for iteration 177 99070\n",
      "unable to find candidates for iteration 177 107595\n",
      "unable to find candidates for iteration 177 107615\n",
      "unable to find candidates for iteration 177 107868\n",
      "unable to find candidates for iteration 177 107911\n",
      "unable to find candidates for iteration 177 107914\n"
     ]
    },
    {
     "data": {
      "text/plain": [
       "  0%|          | 0/22695 [00:00<?, ?it/s]"
      ],
      "application/vnd.jupyter.widget-view+json": {
       "version_major": 2,
       "version_minor": 0,
       "model_id": "b019960a792d4ba18aec329cbc3938f0"
      }
     },
     "metadata": {},
     "output_type": "display_data"
    },
    {
     "name": "stdout",
     "output_type": "stream",
     "text": [
      "unable to find candidates for iteration 178 93456\n",
      "unable to find candidates for iteration 178 93546\n",
      "unable to find candidates for iteration 178 93764\n",
      "unable to find candidates for iteration 178 94467\n",
      "unable to find candidates for iteration 178 94472\n",
      "unable to find candidates for iteration 178 94474\n",
      "unable to find candidates for iteration 178 94599\n",
      "unable to find candidates for iteration 178 94606\n",
      "unable to find candidates for iteration 178 94616\n",
      "unable to find candidates for iteration 178 94617\n",
      "unable to find candidates for iteration 178 94622\n",
      "unable to find candidates for iteration 178 94633\n",
      "unable to find candidates for iteration 178 94636\n",
      "unable to find candidates for iteration 178 94639\n",
      "unable to find candidates for iteration 178 94649\n",
      "unable to find candidates for iteration 178 94768\n",
      "unable to find candidates for iteration 178 94794\n",
      "unable to find candidates for iteration 178 94885\n",
      "unable to find candidates for iteration 178 95005\n",
      "unable to find candidates for iteration 178 107556\n",
      "unable to find candidates for iteration 178 107847\n"
     ]
    },
    {
     "data": {
      "text/plain": [
       "  0%|          | 0/22931 [00:00<?, ?it/s]"
      ],
      "application/vnd.jupyter.widget-view+json": {
       "version_major": 2,
       "version_minor": 0,
       "model_id": "9820c7a783b240d2aaf6d5d3173953c0"
      }
     },
     "metadata": {},
     "output_type": "display_data"
    },
    {
     "name": "stdout",
     "output_type": "stream",
     "text": [
      "unable to find candidates for iteration 179 93425\n",
      "unable to find candidates for iteration 179 93430\n",
      "unable to find candidates for iteration 179 93631\n",
      "unable to find candidates for iteration 179 93820\n",
      "unable to find candidates for iteration 179 93823\n",
      "unable to find candidates for iteration 179 93986\n",
      "unable to find candidates for iteration 179 94015\n",
      "unable to find candidates for iteration 179 94181\n",
      "unable to find candidates for iteration 179 94205\n",
      "unable to find candidates for iteration 179 94288\n",
      "unable to find candidates for iteration 179 94582\n",
      "unable to find candidates for iteration 179 94587\n",
      "unable to find candidates for iteration 179 94605\n",
      "unable to find candidates for iteration 179 94610\n",
      "unable to find candidates for iteration 179 94616\n",
      "unable to find candidates for iteration 179 94627\n",
      "unable to find candidates for iteration 179 94633\n",
      "unable to find candidates for iteration 179 94768\n",
      "unable to find candidates for iteration 179 94774\n",
      "unable to find candidates for iteration 179 94785\n",
      "unable to find candidates for iteration 179 94787\n",
      "unable to find candidates for iteration 179 94791\n",
      "unable to find candidates for iteration 179 94792\n",
      "unable to find candidates for iteration 179 94802\n",
      "unable to find candidates for iteration 179 94809\n",
      "unable to find candidates for iteration 179 94968\n",
      "unable to find candidates for iteration 179 95076\n",
      "unable to find candidates for iteration 179 95993\n",
      "unable to find candidates for iteration 179 99093\n",
      "unable to find candidates for iteration 179 99202\n",
      "unable to find candidates for iteration 179 107798\n",
      "unable to find candidates for iteration 179 107852\n",
      "unable to find candidates for iteration 179 107913\n",
      "unable to find candidates for iteration 179 109894\n"
     ]
    },
    {
     "data": {
      "text/plain": [
       "  0%|          | 0/22788 [00:00<?, ?it/s]"
      ],
      "application/vnd.jupyter.widget-view+json": {
       "version_major": 2,
       "version_minor": 0,
       "model_id": "2e1dd440f5204a3e8ff7ff071ebaf22a"
      }
     },
     "metadata": {},
     "output_type": "display_data"
    },
    {
     "name": "stdout",
     "output_type": "stream",
     "text": [
      "unable to find candidates for iteration 180 93200\n",
      "unable to find candidates for iteration 180 93205\n",
      "unable to find candidates for iteration 180 93208\n",
      "unable to find candidates for iteration 180 93355\n",
      "unable to find candidates for iteration 180 93360\n",
      "unable to find candidates for iteration 180 93482\n",
      "unable to find candidates for iteration 180 93798\n",
      "unable to find candidates for iteration 180 93880\n",
      "unable to find candidates for iteration 180 93884\n",
      "unable to find candidates for iteration 180 93963\n",
      "unable to find candidates for iteration 180 94074\n",
      "unable to find candidates for iteration 180 94078\n",
      "unable to find candidates for iteration 180 94128\n",
      "unable to find candidates for iteration 180 94480\n",
      "unable to find candidates for iteration 180 94779\n",
      "unable to find candidates for iteration 180 94786\n",
      "unable to find candidates for iteration 180 94805\n",
      "unable to find candidates for iteration 180 94976\n",
      "unable to find candidates for iteration 180 94989\n",
      "unable to find candidates for iteration 180 95069\n",
      "unable to find candidates for iteration 180 96076\n",
      "unable to find candidates for iteration 180 99096\n",
      "unable to find candidates for iteration 180 107597\n",
      "unable to find candidates for iteration 180 107826\n",
      "unable to find candidates for iteration 180 107836\n",
      "unable to find candidates for iteration 180 107838\n",
      "unable to find candidates for iteration 180 107899\n",
      "unable to find candidates for iteration 180 109927\n"
     ]
    },
    {
     "data": {
      "text/plain": [
       "  0%|          | 0/22741 [00:00<?, ?it/s]"
      ],
      "application/vnd.jupyter.widget-view+json": {
       "version_major": 2,
       "version_minor": 0,
       "model_id": "fc6afb6d0aa04d90a1f2bed76cf9e582"
      }
     },
     "metadata": {},
     "output_type": "display_data"
    },
    {
     "name": "stdout",
     "output_type": "stream",
     "text": [
      "unable to find candidates for iteration 181 93456\n",
      "unable to find candidates for iteration 181 93546\n",
      "unable to find candidates for iteration 181 93549\n",
      "unable to find candidates for iteration 181 93777\n",
      "unable to find candidates for iteration 181 93779\n",
      "unable to find candidates for iteration 181 94379\n",
      "unable to find candidates for iteration 181 94444\n",
      "unable to find candidates for iteration 181 94447\n",
      "unable to find candidates for iteration 181 94449\n",
      "unable to find candidates for iteration 181 94600\n",
      "unable to find candidates for iteration 181 94610\n",
      "unable to find candidates for iteration 181 94616\n",
      "unable to find candidates for iteration 181 94626\n",
      "unable to find candidates for iteration 181 94627\n",
      "unable to find candidates for iteration 181 94630\n",
      "unable to find candidates for iteration 181 94631\n",
      "unable to find candidates for iteration 181 94633\n",
      "unable to find candidates for iteration 181 94746\n",
      "unable to find candidates for iteration 181 94762\n",
      "unable to find candidates for iteration 181 94769\n",
      "unable to find candidates for iteration 181 94775\n",
      "unable to find candidates for iteration 181 94862\n",
      "unable to find candidates for iteration 181 94989\n",
      "unable to find candidates for iteration 181 94999\n",
      "unable to find candidates for iteration 181 96007\n",
      "unable to find candidates for iteration 181 107556\n",
      "unable to find candidates for iteration 181 107920\n"
     ]
    },
    {
     "data": {
      "text/plain": [
       "  0%|          | 0/22741 [00:00<?, ?it/s]"
      ],
      "application/vnd.jupyter.widget-view+json": {
       "version_major": 2,
       "version_minor": 0,
       "model_id": "c177019c185c4eb49075091cccea13e1"
      }
     },
     "metadata": {},
     "output_type": "display_data"
    },
    {
     "name": "stdout",
     "output_type": "stream",
     "text": [
      "unable to find candidates for iteration 182 93456\n",
      "unable to find candidates for iteration 182 93546\n",
      "unable to find candidates for iteration 182 93549\n",
      "unable to find candidates for iteration 182 93779\n",
      "unable to find candidates for iteration 182 93782\n",
      "unable to find candidates for iteration 182 94386\n",
      "unable to find candidates for iteration 182 94437\n",
      "unable to find candidates for iteration 182 94439\n",
      "unable to find candidates for iteration 182 94574\n",
      "unable to find candidates for iteration 182 94603\n",
      "unable to find candidates for iteration 182 94610\n",
      "unable to find candidates for iteration 182 94619\n",
      "unable to find candidates for iteration 182 94622\n",
      "unable to find candidates for iteration 182 94623\n",
      "unable to find candidates for iteration 182 94626\n",
      "unable to find candidates for iteration 182 94627\n",
      "unable to find candidates for iteration 182 94630\n",
      "unable to find candidates for iteration 182 94740\n",
      "unable to find candidates for iteration 182 94746\n",
      "unable to find candidates for iteration 182 94757\n",
      "unable to find candidates for iteration 182 94764\n",
      "unable to find candidates for iteration 182 94852\n",
      "unable to find candidates for iteration 182 94999\n",
      "unable to find candidates for iteration 182 96005\n",
      "unable to find candidates for iteration 182 96006\n",
      "unable to find candidates for iteration 182 99138\n",
      "unable to find candidates for iteration 182 99239\n",
      "unable to find candidates for iteration 182 107556\n",
      "unable to find candidates for iteration 182 107920\n"
     ]
    },
    {
     "data": {
      "text/plain": [
       "  0%|          | 0/23464 [00:00<?, ?it/s]"
      ],
      "application/vnd.jupyter.widget-view+json": {
       "version_major": 2,
       "version_minor": 0,
       "model_id": "62af9434d71b4d6684e3c0195ce0ec0c"
      }
     },
     "metadata": {},
     "output_type": "display_data"
    },
    {
     "name": "stdout",
     "output_type": "stream",
     "text": [
      "unable to find candidates for iteration 183 94211\n",
      "unable to find candidates for iteration 183 94227\n",
      "unable to find candidates for iteration 183 94232\n",
      "unable to find candidates for iteration 183 94552\n",
      "unable to find candidates for iteration 183 94553\n",
      "unable to find candidates for iteration 183 94557\n",
      "unable to find candidates for iteration 183 94567\n",
      "unable to find candidates for iteration 183 94569\n",
      "unable to find candidates for iteration 183 94583\n",
      "unable to find candidates for iteration 183 94587\n",
      "unable to find candidates for iteration 183 94605\n",
      "unable to find candidates for iteration 183 94713\n",
      "unable to find candidates for iteration 183 94726\n",
      "unable to find candidates for iteration 183 94731\n",
      "unable to find candidates for iteration 183 94968\n",
      "unable to find candidates for iteration 183 99091\n",
      "unable to find candidates for iteration 183 99128\n",
      "unable to find candidates for iteration 183 99225\n",
      "unable to find candidates for iteration 183 99238\n",
      "unable to find candidates for iteration 183 107556\n"
     ]
    },
    {
     "data": {
      "text/plain": [
       "  0%|          | 0/61086 [00:00<?, ?it/s]"
      ],
      "application/vnd.jupyter.widget-view+json": {
       "version_major": 2,
       "version_minor": 0,
       "model_id": "a261b3a906ed416f82eeb0613a556c30"
      }
     },
     "metadata": {},
     "output_type": "display_data"
    },
    {
     "name": "stdout",
     "output_type": "stream",
     "text": [
      "unable to find candidates for iteration 184 94346\n",
      "unable to find candidates for iteration 184 94386\n",
      "unable to find candidates for iteration 184 94397\n",
      "unable to find candidates for iteration 184 94418\n",
      "unable to find candidates for iteration 184 94525\n",
      "unable to find candidates for iteration 184 94540\n",
      "unable to find candidates for iteration 184 94545\n",
      "unable to find candidates for iteration 184 94587\n",
      "unable to find candidates for iteration 184 94605\n",
      "unable to find candidates for iteration 184 94619\n",
      "unable to find candidates for iteration 184 94715\n",
      "unable to find candidates for iteration 184 94719\n",
      "unable to find candidates for iteration 184 94862\n",
      "unable to find candidates for iteration 184 94876\n",
      "unable to find candidates for iteration 184 95987\n",
      "unable to find candidates for iteration 184 99124\n",
      "unable to find candidates for iteration 184 99217\n",
      "unable to find candidates for iteration 184 99246\n",
      "unable to find candidates for iteration 184 104531\n",
      "unable to find candidates for iteration 184 105183\n",
      "unable to find candidates for iteration 184 105194\n",
      "unable to find candidates for iteration 184 105196\n",
      "unable to find candidates for iteration 184 107539\n",
      "unable to find candidates for iteration 184 107887\n",
      "unable to find candidates for iteration 184 107933\n",
      "unable to find candidates for iteration 184 109886\n",
      "unable to find candidates for iteration 184 109888\n",
      "unable to find candidates for iteration 184 122159\n",
      "unable to find candidates for iteration 184 122213\n",
      "unable to find candidates for iteration 184 122216\n",
      "unable to find candidates for iteration 184 142555\n",
      "unable to find candidates for iteration 184 142556\n"
     ]
    },
    {
     "data": {
      "text/plain": [
       "  0%|          | 0/22116 [00:00<?, ?it/s]"
      ],
      "application/vnd.jupyter.widget-view+json": {
       "version_major": 2,
       "version_minor": 0,
       "model_id": "f3b9d7e79082485a8660b2b544f6a0bd"
      }
     },
     "metadata": {},
     "output_type": "display_data"
    },
    {
     "name": "stdout",
     "output_type": "stream",
     "text": [
      "unable to find candidates for iteration 185 99060\n",
      "unable to find candidates for iteration 185 99130\n",
      "unable to find candidates for iteration 185 99162\n",
      "unable to find candidates for iteration 185 104543\n",
      "unable to find candidates for iteration 185 104646\n",
      "unable to find candidates for iteration 185 105366\n",
      "unable to find candidates for iteration 185 105367\n",
      "unable to find candidates for iteration 185 105435\n",
      "unable to find candidates for iteration 185 105470\n",
      "unable to find candidates for iteration 185 107595\n",
      "unable to find candidates for iteration 185 107865\n",
      "unable to find candidates for iteration 185 109891\n",
      "unable to find candidates for iteration 185 109922\n"
     ]
    },
    {
     "data": {
      "text/plain": [
       "  0%|          | 0/21907 [00:00<?, ?it/s]"
      ],
      "application/vnd.jupyter.widget-view+json": {
       "version_major": 2,
       "version_minor": 0,
       "model_id": "44ee4a7d9855486eb3e5947ad7946812"
      }
     },
     "metadata": {},
     "output_type": "display_data"
    },
    {
     "name": "stdout",
     "output_type": "stream",
     "text": [
      "unable to find candidates for iteration 186 99084\n",
      "unable to find candidates for iteration 186 99111\n",
      "unable to find candidates for iteration 186 104539\n",
      "unable to find candidates for iteration 186 104574\n",
      "unable to find candidates for iteration 186 104637\n",
      "unable to find candidates for iteration 186 104642\n",
      "unable to find candidates for iteration 186 105430\n",
      "unable to find candidates for iteration 186 105467\n",
      "unable to find candidates for iteration 186 107595\n",
      "unable to find candidates for iteration 186 107830\n",
      "unable to find candidates for iteration 186 107865\n",
      "unable to find candidates for iteration 186 109947\n"
     ]
    },
    {
     "data": {
      "text/plain": [
       "  0%|          | 0/58019 [00:00<?, ?it/s]"
      ],
      "application/vnd.jupyter.widget-view+json": {
       "version_major": 2,
       "version_minor": 0,
       "model_id": "2594990e2bcb427f8ea2c1d0a63b3abd"
      }
     },
     "metadata": {},
     "output_type": "display_data"
    },
    {
     "name": "stdout",
     "output_type": "stream",
     "text": [
      "unable to find candidates for iteration 187 104554\n",
      "unable to find candidates for iteration 187 104774\n",
      "unable to find candidates for iteration 187 105231\n",
      "unable to find candidates for iteration 187 105237\n",
      "unable to find candidates for iteration 187 122217\n",
      "unable to find candidates for iteration 187 122220\n",
      "unable to find candidates for iteration 187 138596\n",
      "unable to find candidates for iteration 187 138621\n",
      "unable to find candidates for iteration 187 142313\n",
      "unable to find candidates for iteration 187 142348\n",
      "unable to find candidates for iteration 187 142555\n",
      "unable to find candidates for iteration 187 142556\n"
     ]
    },
    {
     "data": {
      "text/plain": [
       "  0%|          | 0/21509 [00:00<?, ?it/s]"
      ],
      "application/vnd.jupyter.widget-view+json": {
       "version_major": 2,
       "version_minor": 0,
       "model_id": "d2a56916370349939ccf641d52838870"
      }
     },
     "metadata": {},
     "output_type": "display_data"
    },
    {
     "name": "stdout",
     "output_type": "stream",
     "text": [
      "unable to find candidates for iteration 188 99096\n",
      "unable to find candidates for iteration 188 99104\n",
      "unable to find candidates for iteration 188 104528\n",
      "unable to find candidates for iteration 188 104578\n",
      "unable to find candidates for iteration 188 104584\n",
      "unable to find candidates for iteration 188 104586\n",
      "unable to find candidates for iteration 188 104604\n",
      "unable to find candidates for iteration 188 105376\n",
      "unable to find candidates for iteration 188 105426\n",
      "unable to find candidates for iteration 188 107841\n",
      "unable to find candidates for iteration 188 107851\n",
      "unable to find candidates for iteration 188 109925\n",
      "unable to find candidates for iteration 188 114880\n",
      "unable to find candidates for iteration 188 114917\n",
      "unable to find candidates for iteration 188 118716\n"
     ]
    },
    {
     "data": {
      "text/plain": [
       "  0%|          | 0/21395 [00:00<?, ?it/s]"
      ],
      "application/vnd.jupyter.widget-view+json": {
       "version_major": 2,
       "version_minor": 0,
       "model_id": "bdc613801d8b4359b4ad5a94f1418c0c"
      }
     },
     "metadata": {},
     "output_type": "display_data"
    },
    {
     "name": "stdout",
     "output_type": "stream",
     "text": [
      "unable to find candidates for iteration 189 104533\n",
      "unable to find candidates for iteration 189 104603\n",
      "unable to find candidates for iteration 189 104616\n",
      "unable to find candidates for iteration 189 105380\n",
      "unable to find candidates for iteration 189 107580\n",
      "unable to find candidates for iteration 189 107597\n",
      "unable to find candidates for iteration 189 107838\n",
      "unable to find candidates for iteration 189 107839\n",
      "unable to find candidates for iteration 189 107899\n",
      "unable to find candidates for iteration 189 109904\n",
      "unable to find candidates for iteration 189 109927\n",
      "unable to find candidates for iteration 189 114714\n",
      "unable to find candidates for iteration 189 114774\n",
      "unable to find candidates for iteration 189 114804\n",
      "unable to find candidates for iteration 189 114842\n",
      "unable to find candidates for iteration 189 114878\n"
     ]
    },
    {
     "data": {
      "text/plain": [
       "  0%|          | 0/21104 [00:00<?, ?it/s]"
      ],
      "application/vnd.jupyter.widget-view+json": {
       "version_major": 2,
       "version_minor": 0,
       "model_id": "03837c69726a45c792f6088270d0e486"
      }
     },
     "metadata": {},
     "output_type": "display_data"
    },
    {
     "name": "stdout",
     "output_type": "stream",
     "text": [
      "unable to find candidates for iteration 190 99084\n",
      "unable to find candidates for iteration 190 99111\n",
      "unable to find candidates for iteration 190 104531\n",
      "unable to find candidates for iteration 190 104568\n",
      "unable to find candidates for iteration 190 104583\n",
      "unable to find candidates for iteration 190 104585\n",
      "unable to find candidates for iteration 190 105410\n",
      "unable to find candidates for iteration 190 107890\n",
      "unable to find candidates for iteration 190 109905\n",
      "unable to find candidates for iteration 190 109921\n",
      "unable to find candidates for iteration 190 109928\n",
      "unable to find candidates for iteration 190 114705\n",
      "unable to find candidates for iteration 190 114764\n",
      "unable to find candidates for iteration 190 114766\n",
      "unable to find candidates for iteration 190 114786\n",
      "unable to find candidates for iteration 190 114827\n",
      "unable to find candidates for iteration 190 114871\n"
     ]
    },
    {
     "data": {
      "text/plain": [
       "  0%|          | 0/20628 [00:00<?, ?it/s]"
      ],
      "application/vnd.jupyter.widget-view+json": {
       "version_major": 2,
       "version_minor": 0,
       "model_id": "edb2ead5b70b455b83ac2d410eb5f402"
      }
     },
     "metadata": {},
     "output_type": "display_data"
    },
    {
     "name": "stdout",
     "output_type": "stream",
     "text": [
      "unable to find candidates for iteration 191 99084\n",
      "unable to find candidates for iteration 191 99111\n",
      "unable to find candidates for iteration 191 99320\n",
      "unable to find candidates for iteration 191 104531\n",
      "unable to find candidates for iteration 191 104568\n",
      "unable to find candidates for iteration 191 104571\n",
      "unable to find candidates for iteration 191 104585\n",
      "unable to find candidates for iteration 191 105410\n",
      "unable to find candidates for iteration 191 109905\n",
      "unable to find candidates for iteration 191 109921\n",
      "unable to find candidates for iteration 191 109930\n",
      "unable to find candidates for iteration 191 114705\n",
      "unable to find candidates for iteration 191 114764\n",
      "unable to find candidates for iteration 191 114804\n",
      "unable to find candidates for iteration 191 114827\n",
      "unable to find candidates for iteration 191 114863\n",
      "unable to find candidates for iteration 191 118716\n"
     ]
    },
    {
     "data": {
      "text/plain": [
       "  0%|          | 0/20001 [00:00<?, ?it/s]"
      ],
      "application/vnd.jupyter.widget-view+json": {
       "version_major": 2,
       "version_minor": 0,
       "model_id": "327e8134dbcb4f52827905799e45e4de"
      }
     },
     "metadata": {},
     "output_type": "display_data"
    },
    {
     "name": "stdout",
     "output_type": "stream",
     "text": [
      "unable to find candidates for iteration 192 104459\n",
      "unable to find candidates for iteration 192 104499\n",
      "unable to find candidates for iteration 192 104501\n",
      "unable to find candidates for iteration 192 105186\n",
      "unable to find candidates for iteration 192 105229\n",
      "unable to find candidates for iteration 192 107508\n",
      "unable to find candidates for iteration 192 107915\n",
      "unable to find candidates for iteration 192 114837\n",
      "unable to find candidates for iteration 192 114839\n",
      "unable to find candidates for iteration 192 114842\n",
      "unable to find candidates for iteration 192 114843\n",
      "unable to find candidates for iteration 192 114942\n",
      "unable to find candidates for iteration 192 114964\n",
      "unable to find candidates for iteration 192 114970\n",
      "unable to find candidates for iteration 192 115078\n"
     ]
    },
    {
     "data": {
      "text/plain": [
       "  0%|          | 0/20006 [00:00<?, ?it/s]"
      ],
      "application/vnd.jupyter.widget-view+json": {
       "version_major": 2,
       "version_minor": 0,
       "model_id": "8b0de799b5ae4d07bed8dd706fd8d06a"
      }
     },
     "metadata": {},
     "output_type": "display_data"
    },
    {
     "name": "stdout",
     "output_type": "stream",
     "text": [
      "unable to find candidates for iteration 193 104524\n",
      "unable to find candidates for iteration 193 104531\n",
      "unable to find candidates for iteration 193 104533\n",
      "unable to find candidates for iteration 193 104548\n",
      "unable to find candidates for iteration 193 105364\n",
      "unable to find candidates for iteration 193 107581\n",
      "unable to find candidates for iteration 193 107866\n",
      "unable to find candidates for iteration 193 109893\n",
      "unable to find candidates for iteration 193 114689\n",
      "unable to find candidates for iteration 193 114691\n",
      "unable to find candidates for iteration 193 114796\n",
      "unable to find candidates for iteration 193 114808\n"
     ]
    },
    {
     "data": {
      "text/plain": [
       "  0%|          | 0/20747 [00:00<?, ?it/s]"
      ],
      "application/vnd.jupyter.widget-view+json": {
       "version_major": 2,
       "version_minor": 0,
       "model_id": "f61fdaf2272145f4970e0005c3ccaf85"
      }
     },
     "metadata": {},
     "output_type": "display_data"
    },
    {
     "name": "stdout",
     "output_type": "stream",
     "text": [
      "unable to find candidates for iteration 194 104539\n",
      "unable to find candidates for iteration 194 104543\n",
      "unable to find candidates for iteration 194 104574\n",
      "unable to find candidates for iteration 194 104639\n",
      "unable to find candidates for iteration 194 104641\n",
      "unable to find candidates for iteration 194 104645\n",
      "unable to find candidates for iteration 194 105430\n",
      "unable to find candidates for iteration 194 105467\n",
      "unable to find candidates for iteration 194 107595\n",
      "unable to find candidates for iteration 194 107830\n",
      "unable to find candidates for iteration 194 107865\n",
      "unable to find candidates for iteration 194 109922\n",
      "unable to find candidates for iteration 194 109932\n",
      "unable to find candidates for iteration 194 114708\n",
      "unable to find candidates for iteration 194 114832\n",
      "unable to find candidates for iteration 194 114837\n"
     ]
    },
    {
     "data": {
      "text/plain": [
       "  0%|          | 0/20748 [00:00<?, ?it/s]"
      ],
      "application/vnd.jupyter.widget-view+json": {
       "version_major": 2,
       "version_minor": 0,
       "model_id": "af05f914b78a4d94883949197cccda01"
      }
     },
     "metadata": {},
     "output_type": "display_data"
    },
    {
     "name": "stdout",
     "output_type": "stream",
     "text": [
      "unable to find candidates for iteration 195 103900\n",
      "unable to find candidates for iteration 195 104514\n",
      "unable to find candidates for iteration 195 104527\n",
      "unable to find candidates for iteration 195 104533\n",
      "unable to find candidates for iteration 195 105335\n",
      "unable to find candidates for iteration 195 107574\n",
      "unable to find candidates for iteration 195 109907\n",
      "unable to find candidates for iteration 195 114675\n",
      "unable to find candidates for iteration 195 114742\n",
      "unable to find candidates for iteration 195 114785\n"
     ]
    },
    {
     "data": {
      "text/plain": [
       "  0%|          | 0/20752 [00:00<?, ?it/s]"
      ],
      "application/vnd.jupyter.widget-view+json": {
       "version_major": 2,
       "version_minor": 0,
       "model_id": "e1c79fdba06d4658a32750b02f73009f"
      }
     },
     "metadata": {},
     "output_type": "display_data"
    },
    {
     "name": "stdout",
     "output_type": "stream",
     "text": [
      "unable to find candidates for iteration 196 103222\n",
      "unable to find candidates for iteration 196 105220\n",
      "unable to find candidates for iteration 196 107556\n",
      "unable to find candidates for iteration 196 114870\n",
      "unable to find candidates for iteration 196 114901\n",
      "unable to find candidates for iteration 196 114905\n",
      "unable to find candidates for iteration 196 114984\n",
      "unable to find candidates for iteration 196 115097\n",
      "unable to find candidates for iteration 196 115104\n",
      "unable to find candidates for iteration 196 115201\n"
     ]
    },
    {
     "data": {
      "text/plain": [
       "  0%|          | 0/20841 [00:00<?, ?it/s]"
      ],
      "application/vnd.jupyter.widget-view+json": {
       "version_major": 2,
       "version_minor": 0,
       "model_id": "b138a8e4237b453e9f6c8f8c5a5537f2"
      }
     },
     "metadata": {},
     "output_type": "display_data"
    },
    {
     "name": "stdout",
     "output_type": "stream",
     "text": [
      "unable to find candidates for iteration 197 104505\n",
      "unable to find candidates for iteration 197 104525\n",
      "unable to find candidates for iteration 197 104541\n",
      "unable to find candidates for iteration 197 105304\n",
      "unable to find candidates for iteration 197 105323\n",
      "unable to find candidates for iteration 197 105324\n",
      "unable to find candidates for iteration 197 107561\n",
      "unable to find candidates for iteration 197 109919\n",
      "unable to find candidates for iteration 197 114689\n",
      "unable to find candidates for iteration 197 114742\n",
      "unable to find candidates for iteration 197 114795\n",
      "unable to find candidates for iteration 197 114825\n",
      "unable to find candidates for iteration 197 114829\n",
      "unable to find candidates for iteration 197 114856\n",
      "unable to find candidates for iteration 197 114865\n"
     ]
    },
    {
     "data": {
      "text/plain": [
       "  0%|          | 0/20837 [00:00<?, ?it/s]"
      ],
      "application/vnd.jupyter.widget-view+json": {
       "version_major": 2,
       "version_minor": 0,
       "model_id": "a9060c64f2204085a38c33586c61a286"
      }
     },
     "metadata": {},
     "output_type": "display_data"
    },
    {
     "name": "stdout",
     "output_type": "stream",
     "text": [
      "unable to find candidates for iteration 198 104497\n",
      "unable to find candidates for iteration 198 104509\n",
      "unable to find candidates for iteration 198 104528\n",
      "unable to find candidates for iteration 198 107561\n",
      "unable to find candidates for iteration 198 107568\n",
      "unable to find candidates for iteration 198 109481\n",
      "unable to find candidates for iteration 198 114681\n",
      "unable to find candidates for iteration 198 114742\n",
      "unable to find candidates for iteration 198 114790\n",
      "unable to find candidates for iteration 198 114804\n",
      "unable to find candidates for iteration 198 114826\n"
     ]
    },
    {
     "data": {
      "text/plain": [
       "  0%|          | 0/20798 [00:00<?, ?it/s]"
      ],
      "application/vnd.jupyter.widget-view+json": {
       "version_major": 2,
       "version_minor": 0,
       "model_id": "07ab141066754f48bab1d9e351c1b4ea"
      }
     },
     "metadata": {},
     "output_type": "display_data"
    },
    {
     "name": "stdout",
     "output_type": "stream",
     "text": [
      "unable to find candidates for iteration 199 104499\n",
      "unable to find candidates for iteration 199 104511\n",
      "unable to find candidates for iteration 199 104531\n",
      "unable to find candidates for iteration 199 105261\n",
      "unable to find candidates for iteration 199 105319\n",
      "unable to find candidates for iteration 199 105332\n",
      "unable to find candidates for iteration 199 107561\n",
      "unable to find candidates for iteration 199 107812\n",
      "unable to find candidates for iteration 199 114681\n",
      "unable to find candidates for iteration 199 114742\n",
      "unable to find candidates for iteration 199 114753\n",
      "unable to find candidates for iteration 199 114790\n",
      "unable to find candidates for iteration 199 114796\n",
      "unable to find candidates for iteration 199 118712\n"
     ]
    },
    {
     "data": {
      "text/plain": [
       "  0%|          | 0/20786 [00:00<?, ?it/s]"
      ],
      "application/vnd.jupyter.widget-view+json": {
       "version_major": 2,
       "version_minor": 0,
       "model_id": "91b2eb750884458da231c1a780980a85"
      }
     },
     "metadata": {},
     "output_type": "display_data"
    },
    {
     "name": "stdout",
     "output_type": "stream",
     "text": [
      "unable to find candidates for iteration 200 104509\n",
      "unable to find candidates for iteration 200 104528\n",
      "unable to find candidates for iteration 200 107544\n",
      "unable to find candidates for iteration 200 107561\n",
      "unable to find candidates for iteration 200 107568\n",
      "unable to find candidates for iteration 200 109481\n",
      "unable to find candidates for iteration 200 114681\n",
      "unable to find candidates for iteration 200 114742\n",
      "unable to find candidates for iteration 200 114790\n",
      "unable to find candidates for iteration 200 114826\n"
     ]
    },
    {
     "data": {
      "text/plain": [
       "  0%|          | 0/20824 [00:00<?, ?it/s]"
      ],
      "application/vnd.jupyter.widget-view+json": {
       "version_major": 2,
       "version_minor": 0,
       "model_id": "2d657a6270114c23a89ed0e70dcded04"
      }
     },
     "metadata": {},
     "output_type": "display_data"
    },
    {
     "name": "stdout",
     "output_type": "stream",
     "text": [
      "unable to find candidates for iteration 201 104468\n",
      "unable to find candidates for iteration 201 105198\n",
      "unable to find candidates for iteration 201 105293\n",
      "unable to find candidates for iteration 201 107891\n",
      "unable to find candidates for iteration 201 107935\n",
      "unable to find candidates for iteration 201 109506\n",
      "unable to find candidates for iteration 201 109885\n",
      "unable to find candidates for iteration 201 114870\n",
      "unable to find candidates for iteration 201 114874\n",
      "unable to find candidates for iteration 201 114877\n",
      "unable to find candidates for iteration 201 114955\n",
      "unable to find candidates for iteration 201 114977\n",
      "unable to find candidates for iteration 201 118720\n",
      "unable to find candidates for iteration 201 121450\n"
     ]
    },
    {
     "data": {
      "text/plain": [
       "  0%|          | 0/20883 [00:00<?, ?it/s]"
      ],
      "application/vnd.jupyter.widget-view+json": {
       "version_major": 2,
       "version_minor": 0,
       "model_id": "3f92c3b059454d5c974704eccd230752"
      }
     },
     "metadata": {},
     "output_type": "display_data"
    },
    {
     "name": "stdout",
     "output_type": "stream",
     "text": [
      "unable to find candidates for iteration 202 104537\n",
      "unable to find candidates for iteration 202 104574\n",
      "unable to find candidates for iteration 202 104626\n",
      "unable to find candidates for iteration 202 104628\n",
      "unable to find candidates for iteration 202 104636\n",
      "unable to find candidates for iteration 202 105346\n",
      "unable to find candidates for iteration 202 105393\n",
      "unable to find candidates for iteration 202 107830\n",
      "unable to find candidates for iteration 202 107905\n",
      "unable to find candidates for iteration 202 107929\n",
      "unable to find candidates for iteration 202 114717\n",
      "unable to find candidates for iteration 202 114780\n",
      "unable to find candidates for iteration 202 114794\n",
      "unable to find candidates for iteration 202 114850\n",
      "unable to find candidates for iteration 202 114871\n",
      "unable to find candidates for iteration 202 114878\n",
      "unable to find candidates for iteration 202 121313\n",
      "unable to find candidates for iteration 202 121315\n",
      "unable to find candidates for iteration 202 121352\n"
     ]
    },
    {
     "data": {
      "text/plain": [
       "  0%|          | 0/19641 [00:00<?, ?it/s]"
      ],
      "application/vnd.jupyter.widget-view+json": {
       "version_major": 2,
       "version_minor": 0,
       "model_id": "6b8bca9850984e809191d6ca7bad7312"
      }
     },
     "metadata": {},
     "output_type": "display_data"
    },
    {
     "name": "stdout",
     "output_type": "stream",
     "text": [
      "unable to find candidates for iteration 203 107881\n",
      "unable to find candidates for iteration 203 111121\n",
      "unable to find candidates for iteration 203 115150\n",
      "unable to find candidates for iteration 203 115160\n",
      "unable to find candidates for iteration 203 115280\n",
      "unable to find candidates for iteration 203 115286\n",
      "unable to find candidates for iteration 203 115335\n",
      "unable to find candidates for iteration 203 121349\n"
     ]
    },
    {
     "data": {
      "text/plain": [
       "  0%|          | 0/19630 [00:00<?, ?it/s]"
      ],
      "application/vnd.jupyter.widget-view+json": {
       "version_major": 2,
       "version_minor": 0,
       "model_id": "7c30ded229264a938057a32f1ff75453"
      }
     },
     "metadata": {},
     "output_type": "display_data"
    },
    {
     "name": "stdout",
     "output_type": "stream",
     "text": [
      "unable to find candidates for iteration 204 107881\n",
      "unable to find candidates for iteration 204 109889\n",
      "unable to find candidates for iteration 204 115150\n",
      "unable to find candidates for iteration 204 115183\n",
      "unable to find candidates for iteration 204 115280\n",
      "unable to find candidates for iteration 204 115286\n",
      "unable to find candidates for iteration 204 115335\n",
      "unable to find candidates for iteration 204 121349\n"
     ]
    },
    {
     "data": {
      "text/plain": [
       "  0%|          | 0/20025 [00:00<?, ?it/s]"
      ],
      "application/vnd.jupyter.widget-view+json": {
       "version_major": 2,
       "version_minor": 0,
       "model_id": "2f9d351bd19a4022a725ec8f4049aa53"
      }
     },
     "metadata": {},
     "output_type": "display_data"
    },
    {
     "name": "stdout",
     "output_type": "stream",
     "text": [
      "unable to find candidates for iteration 205 109513\n",
      "unable to find candidates for iteration 205 109871\n",
      "unable to find candidates for iteration 205 109894\n",
      "unable to find candidates for iteration 205 114788\n",
      "unable to find candidates for iteration 205 114827\n",
      "unable to find candidates for iteration 205 114946\n",
      "unable to find candidates for iteration 205 114949\n",
      "unable to find candidates for iteration 205 115033\n",
      "unable to find candidates for iteration 205 121268\n",
      "unable to find candidates for iteration 205 121270\n"
     ]
    },
    {
     "data": {
      "text/plain": [
       "  0%|          | 0/19975 [00:00<?, ?it/s]"
      ],
      "application/vnd.jupyter.widget-view+json": {
       "version_major": 2,
       "version_minor": 0,
       "model_id": "5fb32a134a50478eb7db367fbae52628"
      }
     },
     "metadata": {},
     "output_type": "display_data"
    },
    {
     "name": "stdout",
     "output_type": "stream",
     "text": [
      "unable to find candidates for iteration 206 109889\n",
      "unable to find candidates for iteration 206 111154\n",
      "unable to find candidates for iteration 206 114666\n",
      "unable to find candidates for iteration 206 114723\n",
      "unable to find candidates for iteration 206 114774\n",
      "unable to find candidates for iteration 206 114849\n",
      "unable to find candidates for iteration 206 121436\n",
      "unable to find candidates for iteration 206 126525\n"
     ]
    },
    {
     "data": {
      "text/plain": [
       "  0%|          | 0/19393 [00:00<?, ?it/s]"
      ],
      "application/vnd.jupyter.widget-view+json": {
       "version_major": 2,
       "version_minor": 0,
       "model_id": "e8b4c8c000984dc89d831577710cea60"
      }
     },
     "metadata": {},
     "output_type": "display_data"
    },
    {
     "name": "stdout",
     "output_type": "stream",
     "text": [
      "unable to find candidates for iteration 207 114723\n",
      "unable to find candidates for iteration 207 114774\n",
      "unable to find candidates for iteration 207 114849\n"
     ]
    },
    {
     "data": {
      "text/plain": [
       "  0%|          | 0/19099 [00:00<?, ?it/s]"
      ],
      "application/vnd.jupyter.widget-view+json": {
       "version_major": 2,
       "version_minor": 0,
       "model_id": "471947263bc7441a8f69f94f76efa78c"
      }
     },
     "metadata": {},
     "output_type": "display_data"
    },
    {
     "name": "stdout",
     "output_type": "stream",
     "text": [
      "unable to find candidates for iteration 208 114796\n",
      "unable to find candidates for iteration 208 114883\n",
      "unable to find candidates for iteration 208 115401\n",
      "unable to find candidates for iteration 208 118720\n",
      "unable to find candidates for iteration 208 121409\n",
      "unable to find candidates for iteration 208 121475\n",
      "unable to find candidates for iteration 208 126510\n",
      "unable to find candidates for iteration 208 126512\n"
     ]
    },
    {
     "data": {
      "text/plain": [
       "  0%|          | 0/17955 [00:00<?, ?it/s]"
      ],
      "application/vnd.jupyter.widget-view+json": {
       "version_major": 2,
       "version_minor": 0,
       "model_id": "475e57a16e5a424fabca478bdbff6b41"
      }
     },
     "metadata": {},
     "output_type": "display_data"
    },
    {
     "name": "stdout",
     "output_type": "stream",
     "text": [
      "unable to find candidates for iteration 209 114731\n",
      "unable to find candidates for iteration 209 114768\n",
      "unable to find candidates for iteration 209 114772\n",
      "unable to find candidates for iteration 209 114861\n",
      "unable to find candidates for iteration 209 114869\n",
      "unable to find candidates for iteration 209 121349\n",
      "unable to find candidates for iteration 209 121445\n"
     ]
    },
    {
     "data": {
      "text/plain": [
       "  0%|          | 0/17093 [00:00<?, ?it/s]"
      ],
      "application/vnd.jupyter.widget-view+json": {
       "version_major": 2,
       "version_minor": 0,
       "model_id": "45794a1223324e6491676636d6f80c56"
      }
     },
     "metadata": {},
     "output_type": "display_data"
    },
    {
     "name": "stdout",
     "output_type": "stream",
     "text": [
      "unable to find candidates for iteration 210 118705\n",
      "unable to find candidates for iteration 210 121308\n",
      "unable to find candidates for iteration 210 121310\n",
      "unable to find candidates for iteration 210 121311\n",
      "unable to find candidates for iteration 210 121439\n"
     ]
    },
    {
     "data": {
      "text/plain": [
       "  0%|          | 0/16583 [00:00<?, ?it/s]"
      ],
      "application/vnd.jupyter.widget-view+json": {
       "version_major": 2,
       "version_minor": 0,
       "model_id": "00669b7a6f6945d08a14ca8e85df2e18"
      }
     },
     "metadata": {},
     "output_type": "display_data"
    },
    {
     "name": "stdout",
     "output_type": "stream",
     "text": [
      "unable to find candidates for iteration 211 121472\n",
      "unable to find candidates for iteration 211 126536\n",
      "unable to find candidates for iteration 211 126539\n"
     ]
    },
    {
     "data": {
      "text/plain": [
       "  0%|          | 0/16398 [00:00<?, ?it/s]"
      ],
      "application/vnd.jupyter.widget-view+json": {
       "version_major": 2,
       "version_minor": 0,
       "model_id": "abd7cb18f103474a85e809282660c970"
      }
     },
     "metadata": {},
     "output_type": "display_data"
    },
    {
     "name": "stdout",
     "output_type": "stream",
     "text": [
      "unable to find candidates for iteration 212 121301\n",
      "unable to find candidates for iteration 212 121305\n"
     ]
    },
    {
     "data": {
      "text/plain": [
       "  0%|          | 0/17052 [00:00<?, ?it/s]"
      ],
      "application/vnd.jupyter.widget-view+json": {
       "version_major": 2,
       "version_minor": 0,
       "model_id": "dec9f0b96e574e8cab0d2f6c066a4841"
      }
     },
     "metadata": {},
     "output_type": "display_data"
    },
    {
     "name": "stdout",
     "output_type": "stream",
     "text": [
      "unable to find candidates for iteration 213 121320\n",
      "unable to find candidates for iteration 213 121324\n",
      "unable to find candidates for iteration 213 126306\n",
      "unable to find candidates for iteration 213 132206\n"
     ]
    },
    {
     "data": {
      "text/plain": [
       "  0%|          | 0/17397 [00:00<?, ?it/s]"
      ],
      "application/vnd.jupyter.widget-view+json": {
       "version_major": 2,
       "version_minor": 0,
       "model_id": "9b5d0a693aa54ec2902d83679d37c1cb"
      }
     },
     "metadata": {},
     "output_type": "display_data"
    },
    {
     "name": "stdout",
     "output_type": "stream",
     "text": [
      "unable to find candidates for iteration 214 121315\n",
      "unable to find candidates for iteration 214 121318\n",
      "unable to find candidates for iteration 214 132181\n",
      "unable to find candidates for iteration 214 132206\n"
     ]
    },
    {
     "data": {
      "text/plain": [
       "  0%|          | 0/17479 [00:00<?, ?it/s]"
      ],
      "application/vnd.jupyter.widget-view+json": {
       "version_major": 2,
       "version_minor": 0,
       "model_id": "95b5a7bf907f452f830870f0bb76eabe"
      }
     },
     "metadata": {},
     "output_type": "display_data"
    },
    {
     "name": "stdout",
     "output_type": "stream",
     "text": [
      "unable to find candidates for iteration 215 121515\n",
      "unable to find candidates for iteration 215 126536\n",
      "unable to find candidates for iteration 215 126539\n",
      "unable to find candidates for iteration 215 126542\n",
      "unable to find candidates for iteration 215 130790\n",
      "unable to find candidates for iteration 215 132228\n"
     ]
    },
    {
     "data": {
      "text/plain": [
       "  0%|          | 0/18032 [00:00<?, ?it/s]"
      ],
      "application/vnd.jupyter.widget-view+json": {
       "version_major": 2,
       "version_minor": 0,
       "model_id": "568f4b5fc4a049fda42ce04d911d7bde"
      }
     },
     "metadata": {},
     "output_type": "display_data"
    },
    {
     "name": "stdout",
     "output_type": "stream",
     "text": [
      "unable to find candidates for iteration 216 125091\n",
      "unable to find candidates for iteration 216 126539\n",
      "unable to find candidates for iteration 216 126542\n",
      "unable to find candidates for iteration 216 130790\n",
      "unable to find candidates for iteration 216 132210\n"
     ]
    },
    {
     "data": {
      "text/plain": [
       "  0%|          | 0/17932 [00:00<?, ?it/s]"
      ],
      "application/vnd.jupyter.widget-view+json": {
       "version_major": 2,
       "version_minor": 0,
       "model_id": "fb72eb455b424bb9a8d3dbc055ef223f"
      }
     },
     "metadata": {},
     "output_type": "display_data"
    },
    {
     "name": "stdout",
     "output_type": "stream",
     "text": [
      "unable to find candidates for iteration 217 121326\n",
      "unable to find candidates for iteration 217 121327\n",
      "unable to find candidates for iteration 217 121352\n",
      "unable to find candidates for iteration 217 127919\n",
      "unable to find candidates for iteration 217 127937\n",
      "unable to find candidates for iteration 217 127955\n",
      "unable to find candidates for iteration 217 130702\n",
      "unable to find candidates for iteration 217 132214\n"
     ]
    },
    {
     "data": {
      "text/plain": [
       "  0%|          | 0/17433 [00:00<?, ?it/s]"
      ],
      "application/vnd.jupyter.widget-view+json": {
       "version_major": 2,
       "version_minor": 0,
       "model_id": "3af0b4139f30451991a08884e6669ca3"
      }
     },
     "metadata": {},
     "output_type": "display_data"
    },
    {
     "name": "stdout",
     "output_type": "stream",
     "text": [
      "unable to find candidates for iteration 218 125035\n",
      "unable to find candidates for iteration 218 130712\n",
      "unable to find candidates for iteration 218 132181\n",
      "unable to find candidates for iteration 218 135463\n",
      "unable to find candidates for iteration 218 135489\n",
      "unable to find candidates for iteration 218 138562\n",
      "unable to find candidates for iteration 218 138563\n"
     ]
    },
    {
     "data": {
      "text/plain": [
       "  0%|          | 0/37778 [00:00<?, ?it/s]"
      ],
      "application/vnd.jupyter.widget-view+json": {
       "version_major": 2,
       "version_minor": 0,
       "model_id": "c30ca5da293644c68a3e4f861a1f1259"
      }
     },
     "metadata": {},
     "output_type": "display_data"
    },
    {
     "name": "stdout",
     "output_type": "stream",
     "text": [
      "unable to find candidates for iteration 219 125103\n",
      "unable to find candidates for iteration 219 127818\n",
      "unable to find candidates for iteration 219 127820\n",
      "unable to find candidates for iteration 219 127821\n",
      "unable to find candidates for iteration 219 127823\n",
      "unable to find candidates for iteration 219 130711\n",
      "unable to find candidates for iteration 219 130790\n",
      "unable to find candidates for iteration 219 135487\n",
      "unable to find candidates for iteration 219 138611\n",
      "unable to find candidates for iteration 219 142346\n",
      "unable to find candidates for iteration 219 142348\n",
      "unable to find candidates for iteration 219 142555\n",
      "unable to find candidates for iteration 219 142556\n"
     ]
    },
    {
     "data": {
      "text/plain": [
       "  0%|          | 0/17718 [00:00<?, ?it/s]"
      ],
      "application/vnd.jupyter.widget-view+json": {
       "version_major": 2,
       "version_minor": 0,
       "model_id": "b486a94be119478c9bbf9a4eaca3ff99"
      }
     },
     "metadata": {},
     "output_type": "display_data"
    },
    {
     "name": "stdout",
     "output_type": "stream",
     "text": [
      "unable to find candidates for iteration 220 132178\n",
      "unable to find candidates for iteration 220 135460\n",
      "unable to find candidates for iteration 220 135463\n",
      "unable to find candidates for iteration 220 135489\n",
      "unable to find candidates for iteration 220 138536\n",
      "unable to find candidates for iteration 220 138561\n"
     ]
    },
    {
     "data": {
      "text/plain": [
       "  0%|          | 0/17717 [00:00<?, ?it/s]"
      ],
      "application/vnd.jupyter.widget-view+json": {
       "version_major": 2,
       "version_minor": 0,
       "model_id": "ec9a6cd2efd444d181f8275699f83faa"
      }
     },
     "metadata": {},
     "output_type": "display_data"
    },
    {
     "name": "stdout",
     "output_type": "stream",
     "text": [
      "unable to find candidates for iteration 221 132178\n",
      "unable to find candidates for iteration 221 132180\n",
      "unable to find candidates for iteration 221 135460\n",
      "unable to find candidates for iteration 221 135463\n",
      "unable to find candidates for iteration 221 135489\n",
      "unable to find candidates for iteration 221 138536\n",
      "unable to find candidates for iteration 221 138561\n"
     ]
    },
    {
     "data": {
      "text/plain": [
       "  0%|          | 0/18525 [00:00<?, ?it/s]"
      ],
      "application/vnd.jupyter.widget-view+json": {
       "version_major": 2,
       "version_minor": 0,
       "model_id": "4fb4ec711d4749299b55358b6e4c88af"
      }
     },
     "metadata": {},
     "output_type": "display_data"
    },
    {
     "name": "stdout",
     "output_type": "stream",
     "text": [
      "unable to find candidates for iteration 222 126481\n",
      "unable to find candidates for iteration 222 132205\n",
      "unable to find candidates for iteration 222 132206\n",
      "unable to find candidates for iteration 222 135460\n",
      "unable to find candidates for iteration 222 135489\n",
      "unable to find candidates for iteration 222 138557\n",
      "unable to find candidates for iteration 222 138558\n",
      "unable to find candidates for iteration 222 138559\n",
      "unable to find candidates for iteration 222 142308\n",
      "unable to find candidates for iteration 222 142520\n",
      "unable to find candidates for iteration 222 142559\n"
     ]
    },
    {
     "data": {
      "text/plain": [
       "  0%|          | 0/18690 [00:00<?, ?it/s]"
      ],
      "application/vnd.jupyter.widget-view+json": {
       "version_major": 2,
       "version_minor": 0,
       "model_id": "97136c0da707426d99b7d99d0b7b2620"
      }
     },
     "metadata": {},
     "output_type": "display_data"
    },
    {
     "name": "stdout",
     "output_type": "stream",
     "text": [
      "unable to find candidates for iteration 223 130790\n",
      "unable to find candidates for iteration 223 132235\n",
      "unable to find candidates for iteration 223 138560\n",
      "unable to find candidates for iteration 223 142348\n",
      "unable to find candidates for iteration 223 142555\n"
     ]
    },
    {
     "data": {
      "text/plain": [
       "  0%|          | 0/18890 [00:00<?, ?it/s]"
      ],
      "application/vnd.jupyter.widget-view+json": {
       "version_major": 2,
       "version_minor": 0,
       "model_id": "5b7cb5d7b49e4d1f9f4d1f87baa89857"
      }
     },
     "metadata": {},
     "output_type": "display_data"
    },
    {
     "name": "stdout",
     "output_type": "stream",
     "text": [
      "unable to find candidates for iteration 224 132201\n",
      "unable to find candidates for iteration 224 132216\n",
      "unable to find candidates for iteration 224 135488\n",
      "unable to find candidates for iteration 224 135489\n",
      "unable to find candidates for iteration 224 138532\n",
      "unable to find candidates for iteration 224 138569\n",
      "unable to find candidates for iteration 224 142328\n",
      "unable to find candidates for iteration 224 142557\n"
     ]
    },
    {
     "data": {
      "text/plain": [
       "  0%|          | 0/19464 [00:00<?, ?it/s]"
      ],
      "application/vnd.jupyter.widget-view+json": {
       "version_major": 2,
       "version_minor": 0,
       "model_id": "bf8665324d32445ba8b79b5d1ef50d25"
      }
     },
     "metadata": {},
     "output_type": "display_data"
    },
    {
     "name": "stdout",
     "output_type": "stream",
     "text": [
      "unable to find candidates for iteration 225 126456\n",
      "unable to find candidates for iteration 225 127878\n",
      "unable to find candidates for iteration 225 127881\n",
      "unable to find candidates for iteration 225 127883\n",
      "unable to find candidates for iteration 225 130714\n",
      "unable to find candidates for iteration 225 130790\n",
      "unable to find candidates for iteration 225 132194\n",
      "unable to find candidates for iteration 225 132235\n",
      "unable to find candidates for iteration 225 138612\n",
      "unable to find candidates for iteration 225 138613\n",
      "unable to find candidates for iteration 225 138616\n",
      "unable to find candidates for iteration 225 142346\n",
      "unable to find candidates for iteration 225 142503\n",
      "unable to find candidates for iteration 225 142524\n",
      "unable to find candidates for iteration 225 142555\n"
     ]
    },
    {
     "data": {
      "text/plain": [
       "  0%|          | 0/19576 [00:00<?, ?it/s]"
      ],
      "application/vnd.jupyter.widget-view+json": {
       "version_major": 2,
       "version_minor": 0,
       "model_id": "dd844cbd08484068acf05d2f917b1969"
      }
     },
     "metadata": {},
     "output_type": "display_data"
    },
    {
     "name": "stdout",
     "output_type": "stream",
     "text": [
      "unable to find candidates for iteration 226 126531\n",
      "unable to find candidates for iteration 226 127834\n",
      "unable to find candidates for iteration 226 127836\n",
      "unable to find candidates for iteration 226 127955\n",
      "unable to find candidates for iteration 226 130704\n",
      "unable to find candidates for iteration 226 130707\n",
      "unable to find candidates for iteration 226 130773\n",
      "unable to find candidates for iteration 226 130790\n",
      "unable to find candidates for iteration 226 132227\n",
      "unable to find candidates for iteration 226 132228\n",
      "unable to find candidates for iteration 226 135487\n",
      "unable to find candidates for iteration 226 138592\n",
      "unable to find candidates for iteration 226 138593\n",
      "unable to find candidates for iteration 226 142351\n",
      "unable to find candidates for iteration 226 142531\n"
     ]
    },
    {
     "data": {
      "text/plain": [
       "  0%|          | 0/19578 [00:00<?, ?it/s]"
      ],
      "application/vnd.jupyter.widget-view+json": {
       "version_major": 2,
       "version_minor": 0,
       "model_id": "87b1b7b13ced4fd3b90b29278a1e4945"
      }
     },
     "metadata": {},
     "output_type": "display_data"
    },
    {
     "name": "stdout",
     "output_type": "stream",
     "text": [
      "unable to find candidates for iteration 227 126439\n",
      "unable to find candidates for iteration 227 126525\n",
      "unable to find candidates for iteration 227 127842\n",
      "unable to find candidates for iteration 227 127844\n",
      "unable to find candidates for iteration 227 127846\n",
      "unable to find candidates for iteration 227 130707\n",
      "unable to find candidates for iteration 227 130790\n",
      "unable to find candidates for iteration 227 132227\n",
      "unable to find candidates for iteration 227 135487\n",
      "unable to find candidates for iteration 227 138592\n",
      "unable to find candidates for iteration 227 139581\n",
      "unable to find candidates for iteration 227 139585\n"
     ]
    },
    {
     "data": {
      "text/plain": [
       "  0%|          | 0/67367 [00:00<?, ?it/s]"
      ],
      "application/vnd.jupyter.widget-view+json": {
       "version_major": 2,
       "version_minor": 0,
       "model_id": "7a579184221c479492bb2fd1161bdde9"
      }
     },
     "metadata": {},
     "output_type": "display_data"
    },
    {
     "name": "stdout",
     "output_type": "stream",
     "text": [
      "unable to find candidates for iteration 228 130711\n",
      "unable to find candidates for iteration 228 130768\n",
      "unable to find candidates for iteration 228 130790\n",
      "unable to find candidates for iteration 228 132234\n",
      "unable to find candidates for iteration 228 135487\n",
      "unable to find candidates for iteration 228 138598\n",
      "unable to find candidates for iteration 228 138600\n",
      "unable to find candidates for iteration 228 139660\n",
      "unable to find candidates for iteration 228 142309\n",
      "unable to find candidates for iteration 228 142341\n",
      "unable to find candidates for iteration 228 142371\n",
      "unable to find candidates for iteration 228 142524\n",
      "unable to find candidates for iteration 228 142552\n",
      "unable to find candidates for iteration 228 142555\n",
      "unable to find candidates for iteration 228 144848\n",
      "unable to find candidates for iteration 228 144892\n"
     ]
    },
    {
     "data": {
      "text/plain": [
       "  0%|          | 0/21679 [00:00<?, ?it/s]"
      ],
      "application/vnd.jupyter.widget-view+json": {
       "version_major": 2,
       "version_minor": 0,
       "model_id": "55c3d0eba0f742a4af1ec36c9f95ac4a"
      }
     },
     "metadata": {},
     "output_type": "display_data"
    },
    {
     "name": "stdout",
     "output_type": "stream",
     "text": [
      "unable to find candidates for iteration 229 132178\n",
      "unable to find candidates for iteration 229 132180\n",
      "unable to find candidates for iteration 229 132205\n",
      "unable to find candidates for iteration 229 132206\n",
      "unable to find candidates for iteration 229 133579\n",
      "unable to find candidates for iteration 229 135460\n",
      "unable to find candidates for iteration 229 135489\n",
      "unable to find candidates for iteration 229 138558\n",
      "unable to find candidates for iteration 229 138559\n",
      "unable to find candidates for iteration 229 142308\n",
      "unable to find candidates for iteration 229 142520\n",
      "unable to find candidates for iteration 229 142552\n",
      "unable to find candidates for iteration 229 142559\n",
      "unable to find candidates for iteration 229 144915\n",
      "unable to find candidates for iteration 229 144922\n",
      "unable to find candidates for iteration 229 144926\n",
      "unable to find candidates for iteration 229 144938\n",
      "unable to find candidates for iteration 229 144955\n",
      "unable to find candidates for iteration 229 144956\n",
      "unable to find candidates for iteration 229 144965\n",
      "unable to find candidates for iteration 229 151221\n"
     ]
    },
    {
     "data": {
      "text/plain": [
       "  0%|          | 0/21834 [00:00<?, ?it/s]"
      ],
      "application/vnd.jupyter.widget-view+json": {
       "version_major": 2,
       "version_minor": 0,
       "model_id": "c4e9e428eec641a7a7f45e77c8b9331a"
      }
     },
     "metadata": {},
     "output_type": "display_data"
    },
    {
     "name": "stdout",
     "output_type": "stream",
     "text": [
      "unable to find candidates for iteration 230 132219\n",
      "unable to find candidates for iteration 230 135487\n",
      "unable to find candidates for iteration 230 138558\n",
      "unable to find candidates for iteration 230 138559\n",
      "unable to find candidates for iteration 230 138560\n",
      "unable to find candidates for iteration 230 139713\n",
      "unable to find candidates for iteration 230 142367\n",
      "unable to find candidates for iteration 230 142555\n",
      "unable to find candidates for iteration 230 144859\n",
      "unable to find candidates for iteration 230 144886\n",
      "unable to find candidates for iteration 230 144896\n",
      "unable to find candidates for iteration 230 144902\n",
      "unable to find candidates for iteration 230 151139\n",
      "unable to find candidates for iteration 230 151326\n"
     ]
    },
    {
     "data": {
      "text/plain": [
       "  0%|          | 0/21748 [00:00<?, ?it/s]"
      ],
      "application/vnd.jupyter.widget-view+json": {
       "version_major": 2,
       "version_minor": 0,
       "model_id": "072553fe8c5949deb52dc7ec9ebc4982"
      }
     },
     "metadata": {},
     "output_type": "display_data"
    },
    {
     "name": "stdout",
     "output_type": "stream",
     "text": [
      "unable to find candidates for iteration 231 133574\n",
      "unable to find candidates for iteration 231 135487\n",
      "unable to find candidates for iteration 231 138598\n",
      "unable to find candidates for iteration 231 138610\n",
      "unable to find candidates for iteration 231 139680\n",
      "unable to find candidates for iteration 231 142494\n",
      "unable to find candidates for iteration 231 143755\n",
      "unable to find candidates for iteration 231 144983\n",
      "unable to find candidates for iteration 231 144999\n",
      "unable to find candidates for iteration 231 151095\n",
      "unable to find candidates for iteration 231 151145\n",
      "unable to find candidates for iteration 231 152228\n"
     ]
    },
    {
     "data": {
      "text/plain": [
       "  0%|          | 0/21673 [00:00<?, ?it/s]"
      ],
      "application/vnd.jupyter.widget-view+json": {
       "version_major": 2,
       "version_minor": 0,
       "model_id": "e34e05d2966f4b8dbb199e71c6a4c34e"
      }
     },
     "metadata": {},
     "output_type": "display_data"
    },
    {
     "name": "stdout",
     "output_type": "stream",
     "text": [
      "unable to find candidates for iteration 232 135488\n",
      "unable to find candidates for iteration 232 138570\n",
      "unable to find candidates for iteration 232 138572\n",
      "unable to find candidates for iteration 232 139617\n",
      "unable to find candidates for iteration 232 142325\n",
      "unable to find candidates for iteration 232 142334\n",
      "unable to find candidates for iteration 232 142524\n",
      "unable to find candidates for iteration 232 142557\n",
      "unable to find candidates for iteration 232 143733\n",
      "unable to find candidates for iteration 232 143735\n",
      "unable to find candidates for iteration 232 151179\n",
      "unable to find candidates for iteration 232 152158\n",
      "unable to find candidates for iteration 232 152187\n",
      "unable to find candidates for iteration 232 152188\n"
     ]
    },
    {
     "data": {
      "text/plain": [
       "  0%|          | 0/21441 [00:00<?, ?it/s]"
      ],
      "application/vnd.jupyter.widget-view+json": {
       "version_major": 2,
       "version_minor": 0,
       "model_id": "5e78b01e86524d719b861af77ab6188f"
      }
     },
     "metadata": {},
     "output_type": "display_data"
    },
    {
     "name": "stdout",
     "output_type": "stream",
     "text": [
      "unable to find candidates for iteration 233 133573\n",
      "unable to find candidates for iteration 233 138612\n",
      "unable to find candidates for iteration 233 138613\n",
      "unable to find candidates for iteration 233 142346\n",
      "unable to find candidates for iteration 233 142524\n",
      "unable to find candidates for iteration 233 142555\n",
      "unable to find candidates for iteration 233 143732\n",
      "unable to find candidates for iteration 233 151033\n",
      "unable to find candidates for iteration 233 152197\n",
      "unable to find candidates for iteration 233 152231\n"
     ]
    },
    {
     "data": {
      "text/plain": [
       "  0%|          | 0/18512 [00:00<?, ?it/s]"
      ],
      "application/vnd.jupyter.widget-view+json": {
       "version_major": 2,
       "version_minor": 0,
       "model_id": "9483c98734274315963c3f0f9a6a046c"
      }
     },
     "metadata": {},
     "output_type": "display_data"
    },
    {
     "name": "stdout",
     "output_type": "stream",
     "text": [
      "unable to find candidates for iteration 234 138609\n",
      "unable to find candidates for iteration 234 142348\n",
      "unable to find candidates for iteration 234 142517\n",
      "unable to find candidates for iteration 234 142555\n",
      "unable to find candidates for iteration 234 143748\n",
      "unable to find candidates for iteration 234 144904\n",
      "unable to find candidates for iteration 234 145004\n",
      "unable to find candidates for iteration 234 151062\n"
     ]
    },
    {
     "data": {
      "text/plain": [
       "  0%|          | 0/18483 [00:00<?, ?it/s]"
      ],
      "application/vnd.jupyter.widget-view+json": {
       "version_major": 2,
       "version_minor": 0,
       "model_id": "546df3f4e5114365aba8c8fca26d1064"
      }
     },
     "metadata": {},
     "output_type": "display_data"
    },
    {
     "name": "stdout",
     "output_type": "stream",
     "text": [
      "unable to find candidates for iteration 235 138609\n",
      "unable to find candidates for iteration 235 138631\n",
      "unable to find candidates for iteration 235 142348\n",
      "unable to find candidates for iteration 235 142555\n",
      "unable to find candidates for iteration 235 143748\n",
      "unable to find candidates for iteration 235 144904\n",
      "unable to find candidates for iteration 235 144907\n",
      "unable to find candidates for iteration 235 145004\n",
      "unable to find candidates for iteration 235 148991\n"
     ]
    },
    {
     "data": {
      "text/plain": [
       "  0%|          | 0/18241 [00:00<?, ?it/s]"
      ],
      "application/vnd.jupyter.widget-view+json": {
       "version_major": 2,
       "version_minor": 0,
       "model_id": "e1ec8bd7a1ed467bab1a4f57ce9f1656"
      }
     },
     "metadata": {},
     "output_type": "display_data"
    },
    {
     "name": "stdout",
     "output_type": "stream",
     "text": [
      "unable to find candidates for iteration 236 142308\n",
      "unable to find candidates for iteration 236 142520\n",
      "unable to find candidates for iteration 236 142559\n",
      "unable to find candidates for iteration 236 143696\n",
      "unable to find candidates for iteration 236 144005\n",
      "unable to find candidates for iteration 236 144915\n",
      "unable to find candidates for iteration 236 144919\n",
      "unable to find candidates for iteration 236 144921\n",
      "unable to find candidates for iteration 236 144926\n",
      "unable to find candidates for iteration 236 144938\n",
      "unable to find candidates for iteration 236 144955\n",
      "unable to find candidates for iteration 236 144956\n",
      "unable to find candidates for iteration 236 144965\n",
      "unable to find candidates for iteration 236 152151\n"
     ]
    },
    {
     "data": {
      "text/plain": [
       "  0%|          | 0/17954 [00:00<?, ?it/s]"
      ],
      "application/vnd.jupyter.widget-view+json": {
       "version_major": 2,
       "version_minor": 0,
       "model_id": "8729dde3e58a4c2cbc4abf6f6bfa254d"
      }
     },
     "metadata": {},
     "output_type": "display_data"
    },
    {
     "name": "stdout",
     "output_type": "stream",
     "text": [
      "unable to find candidates for iteration 237 142315\n",
      "unable to find candidates for iteration 237 142374\n",
      "unable to find candidates for iteration 237 142557\n",
      "unable to find candidates for iteration 237 143654\n",
      "unable to find candidates for iteration 237 144866\n",
      "unable to find candidates for iteration 237 144894\n",
      "unable to find candidates for iteration 237 144926\n",
      "unable to find candidates for iteration 237 148950\n",
      "unable to find candidates for iteration 237 148951\n",
      "unable to find candidates for iteration 237 148952\n",
      "unable to find candidates for iteration 237 149022\n",
      "unable to find candidates for iteration 237 152133\n"
     ]
    },
    {
     "data": {
      "text/plain": [
       "  0%|          | 0/17954 [00:00<?, ?it/s]"
      ],
      "application/vnd.jupyter.widget-view+json": {
       "version_major": 2,
       "version_minor": 0,
       "model_id": "74ca514bd3474ae48055fdb1f250f178"
      }
     },
     "metadata": {},
     "output_type": "display_data"
    },
    {
     "name": "stdout",
     "output_type": "stream",
     "text": [
      "unable to find candidates for iteration 238 142315\n",
      "unable to find candidates for iteration 238 142557\n",
      "unable to find candidates for iteration 238 143654\n",
      "unable to find candidates for iteration 238 144105\n",
      "unable to find candidates for iteration 238 144866\n",
      "unable to find candidates for iteration 238 144883\n",
      "unable to find candidates for iteration 238 144926\n",
      "unable to find candidates for iteration 238 148950\n",
      "unable to find candidates for iteration 238 148951\n",
      "unable to find candidates for iteration 238 148952\n",
      "unable to find candidates for iteration 238 149022\n",
      "unable to find candidates for iteration 238 152133\n"
     ]
    },
    {
     "data": {
      "text/plain": [
       "  0%|          | 0/17573 [00:00<?, ?it/s]"
      ],
      "application/vnd.jupyter.widget-view+json": {
       "version_major": 2,
       "version_minor": 0,
       "model_id": "af071d075c1a4ed99b206da9939c353d"
      }
     },
     "metadata": {},
     "output_type": "display_data"
    },
    {
     "name": "stdout",
     "output_type": "stream",
     "text": [
      "unable to find candidates for iteration 239 142346\n",
      "unable to find candidates for iteration 239 142555\n",
      "unable to find candidates for iteration 239 143724\n",
      "unable to find candidates for iteration 239 144979\n",
      "unable to find candidates for iteration 239 149030\n",
      "unable to find candidates for iteration 239 152228\n"
     ]
    },
    {
     "data": {
      "text/plain": [
       "  0%|          | 0/17561 [00:00<?, ?it/s]"
      ],
      "application/vnd.jupyter.widget-view+json": {
       "version_major": 2,
       "version_minor": 0,
       "model_id": "5f6eba595a97488bb4c6cb9ede900a3f"
      }
     },
     "metadata": {},
     "output_type": "display_data"
    },
    {
     "name": "stdout",
     "output_type": "stream",
     "text": [
      "unable to find candidates for iteration 240 142346\n",
      "unable to find candidates for iteration 240 142503\n",
      "unable to find candidates for iteration 240 142555\n",
      "unable to find candidates for iteration 240 144890\n",
      "unable to find candidates for iteration 240 144995\n",
      "unable to find candidates for iteration 240 149028\n",
      "unable to find candidates for iteration 240 152233\n"
     ]
    },
    {
     "data": {
      "text/plain": [
       "  0%|          | 0/17284 [00:00<?, ?it/s]"
      ],
      "application/vnd.jupyter.widget-view+json": {
       "version_major": 2,
       "version_minor": 0,
       "model_id": "21b5271bf3d94169a310b20f6fe59011"
      }
     },
     "metadata": {},
     "output_type": "display_data"
    },
    {
     "name": "stdout",
     "output_type": "stream",
     "text": [
      "unable to find candidates for iteration 241 144919\n",
      "unable to find candidates for iteration 241 144924\n",
      "unable to find candidates for iteration 241 144983\n",
      "unable to find candidates for iteration 241 148928\n",
      "unable to find candidates for iteration 241 148968\n",
      "unable to find candidates for iteration 241 152158\n",
      "unable to find candidates for iteration 241 152160\n"
     ]
    },
    {
     "data": {
      "text/plain": [
       "  0%|          | 0/17214 [00:00<?, ?it/s]"
      ],
      "application/vnd.jupyter.widget-view+json": {
       "version_major": 2,
       "version_minor": 0,
       "model_id": "1c2cc640ffbc43d89e94cc3b0b7c8af2"
      }
     },
     "metadata": {},
     "output_type": "display_data"
    },
    {
     "name": "stdout",
     "output_type": "stream",
     "text": [
      "unable to find candidates for iteration 242 144096\n",
      "unable to find candidates for iteration 242 144854\n",
      "unable to find candidates for iteration 242 149016\n",
      "unable to find candidates for iteration 242 152172\n",
      "unable to find candidates for iteration 242 152204\n"
     ]
    },
    {
     "data": {
      "text/plain": [
       "  0%|          | 0/17158 [00:00<?, ?it/s]"
      ],
      "application/vnd.jupyter.widget-view+json": {
       "version_major": 2,
       "version_minor": 0,
       "model_id": "7f7b6d174a3540ef9c1cc011c668309e"
      }
     },
     "metadata": {},
     "output_type": "display_data"
    },
    {
     "name": "stdout",
     "output_type": "stream",
     "text": [
      "unable to find candidates for iteration 243 144805\n",
      "unable to find candidates for iteration 243 149026\n",
      "unable to find candidates for iteration 243 149027\n"
     ]
    },
    {
     "data": {
      "text/plain": [
       "  0%|          | 0/17156 [00:00<?, ?it/s]"
      ],
      "application/vnd.jupyter.widget-view+json": {
       "version_major": 2,
       "version_minor": 0,
       "model_id": "4e593c792e5a4201aec03a075ddcb4d5"
      }
     },
     "metadata": {},
     "output_type": "display_data"
    },
    {
     "name": "stdout",
     "output_type": "stream",
     "text": [
      "unable to find candidates for iteration 244 144904\n",
      "unable to find candidates for iteration 244 144907\n",
      "unable to find candidates for iteration 244 149026\n",
      "unable to find candidates for iteration 244 149027\n"
     ]
    },
    {
     "data": {
      "text/plain": [
       "  0%|          | 0/16989 [00:00<?, ?it/s]"
      ],
      "application/vnd.jupyter.widget-view+json": {
       "version_major": 2,
       "version_minor": 0,
       "model_id": "7c04bc95b4624fbe9e37a4198c91739b"
      }
     },
     "metadata": {},
     "output_type": "display_data"
    },
    {
     "name": "stdout",
     "output_type": "stream",
     "text": [
      "unable to find candidates for iteration 245 149002\n",
      "unable to find candidates for iteration 245 149029\n",
      "unable to find candidates for iteration 245 152217\n"
     ]
    },
    {
     "data": {
      "text/plain": [
       "  0%|          | 0/16813 [00:00<?, ?it/s]"
      ],
      "application/vnd.jupyter.widget-view+json": {
       "version_major": 2,
       "version_minor": 0,
       "model_id": "c7b4487a6c2a4d8aae06b00433d9da2d"
      }
     },
     "metadata": {},
     "output_type": "display_data"
    },
    {
     "name": "stdout",
     "output_type": "stream",
     "text": [
      "unable to find candidates for iteration 246 148957\n",
      "unable to find candidates for iteration 246 150048\n",
      "unable to find candidates for iteration 246 152158\n",
      "unable to find candidates for iteration 246 152160\n",
      "unable to find candidates for iteration 246 152169\n",
      "unable to find candidates for iteration 246 158915\n"
     ]
    },
    {
     "data": {
      "text/plain": [
       "  0%|          | 0/15368 [00:00<?, ?it/s]"
      ],
      "application/vnd.jupyter.widget-view+json": {
       "version_major": 2,
       "version_minor": 0,
       "model_id": "293a87f3006d46a28e442a13ae9d90ce"
      }
     },
     "metadata": {},
     "output_type": "display_data"
    },
    {
     "name": "stdout",
     "output_type": "stream",
     "text": [
      "unable to find candidates for iteration 247 152158\n",
      "unable to find candidates for iteration 247 152164\n"
     ]
    },
    {
     "data": {
      "text/plain": [
       "  0%|          | 0/15416 [00:00<?, ?it/s]"
      ],
      "application/vnd.jupyter.widget-view+json": {
       "version_major": 2,
       "version_minor": 0,
       "model_id": "48c44d2f924240b7a575870b62a2d56b"
      }
     },
     "metadata": {},
     "output_type": "display_data"
    },
    {
     "name": "stdout",
     "output_type": "stream",
     "text": [
      "unable to find candidates for iteration 248 152227\n",
      "unable to find candidates for iteration 248 158923\n",
      "unable to find candidates for iteration 248 158963\n"
     ]
    },
    {
     "data": {
      "text/plain": [
       "  0%|          | 0/16330 [00:00<?, ?it/s]"
      ],
      "application/vnd.jupyter.widget-view+json": {
       "version_major": 2,
       "version_minor": 0,
       "model_id": "d75eaa224e3449c199755a51fe2aad57"
      }
     },
     "metadata": {},
     "output_type": "display_data"
    },
    {
     "data": {
      "text/plain": [
       "  0%|          | 0/14447 [00:00<?, ?it/s]"
      ],
      "application/vnd.jupyter.widget-view+json": {
       "version_major": 2,
       "version_minor": 0,
       "model_id": "936f3891d7d04aa9a8f0d903e1839fed"
      }
     },
     "metadata": {},
     "output_type": "display_data"
    },
    {
     "data": {
      "text/plain": [
       "  0%|          | 0/13969 [00:00<?, ?it/s]"
      ],
      "application/vnd.jupyter.widget-view+json": {
       "version_major": 2,
       "version_minor": 0,
       "model_id": "ade47e29810d449da04cc65d9d360b0c"
      }
     },
     "metadata": {},
     "output_type": "display_data"
    },
    {
     "name": "stdout",
     "output_type": "stream",
     "text": [
      "unable to find candidates for iteration 251 158929\n"
     ]
    },
    {
     "data": {
      "text/plain": [
       "  0%|          | 0/13867 [00:00<?, ?it/s]"
      ],
      "application/vnd.jupyter.widget-view+json": {
       "version_major": 2,
       "version_minor": 0,
       "model_id": "1db7ae7795d24baeb1fec8094412cf80"
      }
     },
     "metadata": {},
     "output_type": "display_data"
    },
    {
     "data": {
      "text/plain": [
       "  0%|          | 0/14069 [00:00<?, ?it/s]"
      ],
      "application/vnd.jupyter.widget-view+json": {
       "version_major": 2,
       "version_minor": 0,
       "model_id": "4b53cd6af3fc41b48a56e2b6d0be6091"
      }
     },
     "metadata": {},
     "output_type": "display_data"
    },
    {
     "data": {
      "text/plain": [
       "  0%|          | 0/14072 [00:00<?, ?it/s]"
      ],
      "application/vnd.jupyter.widget-view+json": {
       "version_major": 2,
       "version_minor": 0,
       "model_id": "44ec25a1c06b4d50bb3dcccda00075ad"
      }
     },
     "metadata": {},
     "output_type": "display_data"
    },
    {
     "data": {
      "text/plain": [
       "  0%|          | 0/14205 [00:00<?, ?it/s]"
      ],
      "application/vnd.jupyter.widget-view+json": {
       "version_major": 2,
       "version_minor": 0,
       "model_id": "e17d282cb6e04df49abf9b898558d1b0"
      }
     },
     "metadata": {},
     "output_type": "display_data"
    },
    {
     "name": "stdout",
     "output_type": "stream",
     "text": [
      "unable to find candidates for iteration 255 158931\n"
     ]
    },
    {
     "data": {
      "text/plain": [
       "  0%|          | 0/14356 [00:00<?, ?it/s]"
      ],
      "application/vnd.jupyter.widget-view+json": {
       "version_major": 2,
       "version_minor": 0,
       "model_id": "078ccf7f3be74b2381b84f6aa4ca5259"
      }
     },
     "metadata": {},
     "output_type": "display_data"
    },
    {
     "name": "stdout",
     "output_type": "stream",
     "text": [
      "unable to find candidates for iteration 256 162477\n",
      "unable to find candidates for iteration 256 162484\n",
      "unable to find candidates for iteration 256 162507\n",
      "unable to find candidates for iteration 256 162569\n"
     ]
    },
    {
     "data": {
      "text/plain": [
       "  0%|          | 0/14671 [00:00<?, ?it/s]"
      ],
      "application/vnd.jupyter.widget-view+json": {
       "version_major": 2,
       "version_minor": 0,
       "model_id": "642fad6207894023a4c5c994faa76d09"
      }
     },
     "metadata": {},
     "output_type": "display_data"
    },
    {
     "name": "stdout",
     "output_type": "stream",
     "text": [
      "unable to find candidates for iteration 257 158902\n",
      "unable to find candidates for iteration 257 158923\n",
      "unable to find candidates for iteration 257 162462\n",
      "unable to find candidates for iteration 257 162477\n",
      "unable to find candidates for iteration 257 162480\n",
      "unable to find candidates for iteration 257 162488\n",
      "unable to find candidates for iteration 257 162491\n",
      "unable to find candidates for iteration 257 162560\n"
     ]
    },
    {
     "data": {
      "text/plain": [
       "  0%|          | 0/15270 [00:00<?, ?it/s]"
      ],
      "application/vnd.jupyter.widget-view+json": {
       "version_major": 2,
       "version_minor": 0,
       "model_id": "bc57b7ed7a8044d59b774bf9621d08ed"
      }
     },
     "metadata": {},
     "output_type": "display_data"
    },
    {
     "name": "stdout",
     "output_type": "stream",
     "text": [
      "unable to find candidates for iteration 258 162685\n",
      "unable to find candidates for iteration 258 162688\n",
      "unable to find candidates for iteration 258 170920\n"
     ]
    },
    {
     "data": {
      "text/plain": [
       "  0%|          | 0/19907 [00:00<?, ?it/s]"
      ],
      "application/vnd.jupyter.widget-view+json": {
       "version_major": 2,
       "version_minor": 0,
       "model_id": "518283cb0192439092d3d704ed5fdf4e"
      }
     },
     "metadata": {},
     "output_type": "display_data"
    },
    {
     "name": "stdout",
     "output_type": "stream",
     "text": [
      "unable to find candidates for iteration 259 162469\n",
      "unable to find candidates for iteration 259 162473\n",
      "unable to find candidates for iteration 259 162477\n",
      "unable to find candidates for iteration 259 162480\n"
     ]
    },
    {
     "data": {
      "text/plain": [
       "  0%|          | 0/15433 [00:00<?, ?it/s]"
      ],
      "application/vnd.jupyter.widget-view+json": {
       "version_major": 2,
       "version_minor": 0,
       "model_id": "6cd685b97ce14f27b65a110a78f2290d"
      }
     },
     "metadata": {},
     "output_type": "display_data"
    },
    {
     "name": "stdout",
     "output_type": "stream",
     "text": [
      "unable to find candidates for iteration 260 162572\n",
      "unable to find candidates for iteration 260 162709\n",
      "unable to find candidates for iteration 260 162712\n",
      "unable to find candidates for iteration 260 162734\n"
     ]
    },
    {
     "data": {
      "text/plain": [
       "  0%|          | 0/17350 [00:00<?, ?it/s]"
      ],
      "application/vnd.jupyter.widget-view+json": {
       "version_major": 2,
       "version_minor": 0,
       "model_id": "7c533df5f0ec4d77aa96e5b6281c4c42"
      }
     },
     "metadata": {},
     "output_type": "display_data"
    },
    {
     "name": "stdout",
     "output_type": "stream",
     "text": [
      "unable to find candidates for iteration 261 158975\n",
      "unable to find candidates for iteration 261 162743\n",
      "unable to find candidates for iteration 261 162787\n",
      "unable to find candidates for iteration 261 162790\n",
      "unable to find candidates for iteration 261 170947\n"
     ]
    },
    {
     "data": {
      "text/plain": [
       "  0%|          | 0/14981 [00:00<?, ?it/s]"
      ],
      "application/vnd.jupyter.widget-view+json": {
       "version_major": 2,
       "version_minor": 0,
       "model_id": "b2e4245f0eb04c33a87514d6ee911eb7"
      }
     },
     "metadata": {},
     "output_type": "display_data"
    },
    {
     "name": "stdout",
     "output_type": "stream",
     "text": [
      "unable to find candidates for iteration 262 162662\n",
      "unable to find candidates for iteration 262 162704\n",
      "unable to find candidates for iteration 262 162751\n"
     ]
    },
    {
     "data": {
      "text/plain": [
       "  0%|          | 0/14909 [00:00<?, ?it/s]"
      ],
      "application/vnd.jupyter.widget-view+json": {
       "version_major": 2,
       "version_minor": 0,
       "model_id": "fdd5d31d0fb443b8a8813b95845a5f1d"
      }
     },
     "metadata": {},
     "output_type": "display_data"
    },
    {
     "name": "stdout",
     "output_type": "stream",
     "text": [
      "unable to find candidates for iteration 263 162611\n",
      "unable to find candidates for iteration 263 162612\n",
      "unable to find candidates for iteration 263 162655\n",
      "unable to find candidates for iteration 263 162794\n"
     ]
    },
    {
     "data": {
      "text/plain": [
       "  0%|          | 0/14862 [00:00<?, ?it/s]"
      ],
      "application/vnd.jupyter.widget-view+json": {
       "version_major": 2,
       "version_minor": 0,
       "model_id": "590324b35a2a43009d06de679dc95219"
      }
     },
     "metadata": {},
     "output_type": "display_data"
    },
    {
     "name": "stdout",
     "output_type": "stream",
     "text": [
      "unable to find candidates for iteration 264 162453\n",
      "unable to find candidates for iteration 264 162508\n",
      "unable to find candidates for iteration 264 162539\n"
     ]
    },
    {
     "data": {
      "text/plain": [
       "  0%|          | 0/17401 [00:00<?, ?it/s]"
      ],
      "application/vnd.jupyter.widget-view+json": {
       "version_major": 2,
       "version_minor": 0,
       "model_id": "989ee811e6b943f68f20f04164c17117"
      }
     },
     "metadata": {},
     "output_type": "display_data"
    },
    {
     "name": "stdout",
     "output_type": "stream",
     "text": [
      "unable to find candidates for iteration 265 162709\n",
      "unable to find candidates for iteration 265 174207\n"
     ]
    },
    {
     "data": {
      "text/plain": [
       "  0%|          | 0/11795 [00:00<?, ?it/s]"
      ],
      "application/vnd.jupyter.widget-view+json": {
       "version_major": 2,
       "version_minor": 0,
       "model_id": "5350ca783b384769b1112c165167212e"
      }
     },
     "metadata": {},
     "output_type": "display_data"
    },
    {
     "data": {
      "text/plain": [
       "  0%|          | 0/11824 [00:00<?, ?it/s]"
      ],
      "application/vnd.jupyter.widget-view+json": {
       "version_major": 2,
       "version_minor": 0,
       "model_id": "48e1a72c8e444e31b3da5a42e868725c"
      }
     },
     "metadata": {},
     "output_type": "display_data"
    },
    {
     "name": "stdout",
     "output_type": "stream",
     "text": [
      "unable to find candidates for iteration 267 170879\n",
      "unable to find candidates for iteration 267 173473\n",
      "unable to find candidates for iteration 267 174186\n"
     ]
    },
    {
     "data": {
      "text/plain": [
       "  0%|          | 0/11999 [00:00<?, ?it/s]"
      ],
      "application/vnd.jupyter.widget-view+json": {
       "version_major": 2,
       "version_minor": 0,
       "model_id": "fbd2c4c096744f1e80df86b47d9afb15"
      }
     },
     "metadata": {},
     "output_type": "display_data"
    },
    {
     "name": "stdout",
     "output_type": "stream",
     "text": [
      "unable to find candidates for iteration 268 173304\n",
      "unable to find candidates for iteration 268 173326\n",
      "unable to find candidates for iteration 268 173392\n",
      "unable to find candidates for iteration 268 175179\n"
     ]
    },
    {
     "data": {
      "text/plain": [
       "  0%|          | 0/11923 [00:00<?, ?it/s]"
      ],
      "application/vnd.jupyter.widget-view+json": {
       "version_major": 2,
       "version_minor": 0,
       "model_id": "24b1c18384f347c68f0666c6f9967f93"
      }
     },
     "metadata": {},
     "output_type": "display_data"
    },
    {
     "name": "stdout",
     "output_type": "stream",
     "text": [
      "unable to find candidates for iteration 269 173326\n",
      "unable to find candidates for iteration 269 173391\n",
      "unable to find candidates for iteration 269 175179\n"
     ]
    },
    {
     "data": {
      "text/plain": [
       "  0%|          | 0/11837 [00:00<?, ?it/s]"
      ],
      "application/vnd.jupyter.widget-view+json": {
       "version_major": 2,
       "version_minor": 0,
       "model_id": "1ac8ac58cee44915bc6cb8e1b81c8a90"
      }
     },
     "metadata": {},
     "output_type": "display_data"
    },
    {
     "name": "stdout",
     "output_type": "stream",
     "text": [
      "unable to find candidates for iteration 270 173292\n",
      "unable to find candidates for iteration 270 173310\n",
      "unable to find candidates for iteration 270 173313\n",
      "unable to find candidates for iteration 270 174232\n",
      "unable to find candidates for iteration 270 175175\n"
     ]
    },
    {
     "data": {
      "text/plain": [
       "  0%|          | 0/13820 [00:00<?, ?it/s]"
      ],
      "application/vnd.jupyter.widget-view+json": {
       "version_major": 2,
       "version_minor": 0,
       "model_id": "d0ab8b2b9fc44572829bc1e4f7a0ab33"
      }
     },
     "metadata": {},
     "output_type": "display_data"
    },
    {
     "name": "stdout",
     "output_type": "stream",
     "text": [
      "unable to find candidates for iteration 271 173251\n",
      "unable to find candidates for iteration 271 174190\n"
     ]
    },
    {
     "data": {
      "text/plain": [
       "  0%|          | 0/14163 [00:00<?, ?it/s]"
      ],
      "application/vnd.jupyter.widget-view+json": {
       "version_major": 2,
       "version_minor": 0,
       "model_id": "dda5f4738bdc4c378a20d4f68e79698b"
      }
     },
     "metadata": {},
     "output_type": "display_data"
    },
    {
     "name": "stdout",
     "output_type": "stream",
     "text": [
      "unable to find candidates for iteration 272 173462\n",
      "unable to find candidates for iteration 272 174196\n"
     ]
    },
    {
     "data": {
      "text/plain": [
       "  0%|          | 0/14357 [00:00<?, ?it/s]"
      ],
      "application/vnd.jupyter.widget-view+json": {
       "version_major": 2,
       "version_minor": 0,
       "model_id": "8d001199457c4875bcda8d775cc2cfc8"
      }
     },
     "metadata": {},
     "output_type": "display_data"
    },
    {
     "name": "stdout",
     "output_type": "stream",
     "text": [
      "unable to find candidates for iteration 273 170947\n",
      "unable to find candidates for iteration 273 173358\n",
      "unable to find candidates for iteration 273 173401\n",
      "unable to find candidates for iteration 273 173485\n"
     ]
    },
    {
     "data": {
      "text/plain": [
       "  0%|          | 0/14337 [00:00<?, ?it/s]"
      ],
      "application/vnd.jupyter.widget-view+json": {
       "version_major": 2,
       "version_minor": 0,
       "model_id": "d019a5f1b3f4468daec1a536dc41bb6e"
      }
     },
     "metadata": {},
     "output_type": "display_data"
    },
    {
     "name": "stdout",
     "output_type": "stream",
     "text": [
      "unable to find candidates for iteration 274 173265\n",
      "unable to find candidates for iteration 274 173280\n",
      "unable to find candidates for iteration 274 173319\n",
      "unable to find candidates for iteration 274 174576\n"
     ]
    },
    {
     "data": {
      "text/plain": [
       "  0%|          | 0/14067 [00:00<?, ?it/s]"
      ],
      "application/vnd.jupyter.widget-view+json": {
       "version_major": 2,
       "version_minor": 0,
       "model_id": "578ab079e1ab4b8b940844319817ffb0"
      }
     },
     "metadata": {},
     "output_type": "display_data"
    },
    {
     "name": "stdout",
     "output_type": "stream",
     "text": [
      "unable to find candidates for iteration 275 170924\n",
      "unable to find candidates for iteration 275 173292\n",
      "unable to find candidates for iteration 275 173305\n",
      "unable to find candidates for iteration 275 173397\n"
     ]
    },
    {
     "data": {
      "text/plain": [
       "  0%|          | 0/14479 [00:00<?, ?it/s]"
      ],
      "application/vnd.jupyter.widget-view+json": {
       "version_major": 2,
       "version_minor": 0,
       "model_id": "2438788578234fc88ae2c5b1fa35adcb"
      }
     },
     "metadata": {},
     "output_type": "display_data"
    },
    {
     "name": "stdout",
     "output_type": "stream",
     "text": [
      "unable to find candidates for iteration 276 173455\n",
      "unable to find candidates for iteration 276 174216\n",
      "unable to find candidates for iteration 276 174223\n"
     ]
    },
    {
     "data": {
      "text/plain": [
       "  0%|          | 0/14608 [00:00<?, ?it/s]"
      ],
      "application/vnd.jupyter.widget-view+json": {
       "version_major": 2,
       "version_minor": 0,
       "model_id": "4729a2afb80448239f360ed473e96eda"
      }
     },
     "metadata": {},
     "output_type": "display_data"
    },
    {
     "name": "stdout",
     "output_type": "stream",
     "text": [
      "unable to find candidates for iteration 277 173304\n",
      "unable to find candidates for iteration 277 173388\n",
      "unable to find candidates for iteration 277 174210\n",
      "unable to find candidates for iteration 277 179583\n"
     ]
    },
    {
     "data": {
      "text/plain": [
       "  0%|          | 0/14797 [00:00<?, ?it/s]"
      ],
      "application/vnd.jupyter.widget-view+json": {
       "version_major": 2,
       "version_minor": 0,
       "model_id": "586b2d412a514191b7edb9bbb4050f33"
      }
     },
     "metadata": {},
     "output_type": "display_data"
    },
    {
     "name": "stdout",
     "output_type": "stream",
     "text": [
      "unable to find candidates for iteration 278 173227\n",
      "unable to find candidates for iteration 278 179533\n"
     ]
    },
    {
     "data": {
      "text/plain": [
       "  0%|          | 0/15451 [00:00<?, ?it/s]"
      ],
      "application/vnd.jupyter.widget-view+json": {
       "version_major": 2,
       "version_minor": 0,
       "model_id": "11c0e12252324b178819f04961627f69"
      }
     },
     "metadata": {},
     "output_type": "display_data"
    },
    {
     "name": "stdout",
     "output_type": "stream",
     "text": [
      "unable to find candidates for iteration 279 175233\n",
      "unable to find candidates for iteration 279 179533\n"
     ]
    },
    {
     "data": {
      "text/plain": [
       "  0%|          | 0/27344 [00:00<?, ?it/s]"
      ],
      "application/vnd.jupyter.widget-view+json": {
       "version_major": 2,
       "version_minor": 0,
       "model_id": "5f1978e83dea49ebad43bfc33f3f0313"
      }
     },
     "metadata": {},
     "output_type": "display_data"
    },
    {
     "name": "stdout",
     "output_type": "stream",
     "text": [
      "unable to find candidates for iteration 280 179597\n",
      "unable to find candidates for iteration 280 192692\n",
      "unable to find candidates for iteration 280 193622\n",
      "unable to find candidates for iteration 280 193623\n",
      "unable to find candidates for iteration 280 194433\n",
      "unable to find candidates for iteration 280 194435\n",
      "unable to find candidates for iteration 280 194436\n",
      "unable to find candidates for iteration 280 194485\n",
      "unable to find candidates for iteration 280 200317\n",
      "unable to find candidates for iteration 280 200358\n"
     ]
    },
    {
     "data": {
      "text/plain": [
       "  0%|          | 0/15521 [00:00<?, ?it/s]"
      ],
      "application/vnd.jupyter.widget-view+json": {
       "version_major": 2,
       "version_minor": 0,
       "model_id": "d4316ba122314df194a99ea081bf725f"
      }
     },
     "metadata": {},
     "output_type": "display_data"
    },
    {
     "name": "stdout",
     "output_type": "stream",
     "text": [
      "unable to find candidates for iteration 281 179597\n"
     ]
    },
    {
     "data": {
      "text/plain": [
       "  0%|          | 0/15562 [00:00<?, ?it/s]"
      ],
      "application/vnd.jupyter.widget-view+json": {
       "version_major": 2,
       "version_minor": 0,
       "model_id": "1a5557212ef443e9b347d967e40ea2b1"
      }
     },
     "metadata": {},
     "output_type": "display_data"
    },
    {
     "name": "stdout",
     "output_type": "stream",
     "text": [
      "unable to find candidates for iteration 282 179549\n",
      "unable to find candidates for iteration 282 179586\n"
     ]
    },
    {
     "data": {
      "text/plain": [
       "  0%|          | 0/15564 [00:00<?, ?it/s]"
      ],
      "application/vnd.jupyter.widget-view+json": {
       "version_major": 2,
       "version_minor": 0,
       "model_id": "7d203c91352b4131b10a6bf43afc79f4"
      }
     },
     "metadata": {},
     "output_type": "display_data"
    },
    {
     "name": "stdout",
     "output_type": "stream",
     "text": [
      "unable to find candidates for iteration 283 179597\n"
     ]
    },
    {
     "data": {
      "text/plain": [
       "  0%|          | 0/18045 [00:00<?, ?it/s]"
      ],
      "application/vnd.jupyter.widget-view+json": {
       "version_major": 2,
       "version_minor": 0,
       "model_id": "89875c4747064535a77dc61f885e7bf7"
      }
     },
     "metadata": {},
     "output_type": "display_data"
    },
    {
     "name": "stdout",
     "output_type": "stream",
     "text": [
      "unable to find candidates for iteration 284 179597\n",
      "unable to find candidates for iteration 284 192691\n",
      "unable to find candidates for iteration 284 193577\n"
     ]
    },
    {
     "data": {
      "text/plain": [
       "  0%|          | 0/15738 [00:00<?, ?it/s]"
      ],
      "application/vnd.jupyter.widget-view+json": {
       "version_major": 2,
       "version_minor": 0,
       "model_id": "10522eb3fd4343f8b3fc2eb2181ced9b"
      }
     },
     "metadata": {},
     "output_type": "display_data"
    },
    {
     "name": "stdout",
     "output_type": "stream",
     "text": [
      "unable to find candidates for iteration 285 179567\n",
      "unable to find candidates for iteration 285 179598\n"
     ]
    },
    {
     "data": {
      "text/plain": [
       "  0%|          | 0/15814 [00:00<?, ?it/s]"
      ],
      "application/vnd.jupyter.widget-view+json": {
       "version_major": 2,
       "version_minor": 0,
       "model_id": "28fa640b4dd345da9d5833d6c1b24b40"
      }
     },
     "metadata": {},
     "output_type": "display_data"
    },
    {
     "name": "stdout",
     "output_type": "stream",
     "text": [
      "unable to find candidates for iteration 286 179561\n",
      "unable to find candidates for iteration 286 179568\n",
      "unable to find candidates for iteration 286 190186\n",
      "unable to find candidates for iteration 286 190187\n"
     ]
    },
    {
     "data": {
      "text/plain": [
       "  0%|          | 0/16544 [00:00<?, ?it/s]"
      ],
      "application/vnd.jupyter.widget-view+json": {
       "version_major": 2,
       "version_minor": 0,
       "model_id": "62b8d8f65ca241a0a9c2ad5bfd57ec28"
      }
     },
     "metadata": {},
     "output_type": "display_data"
    },
    {
     "name": "stdout",
     "output_type": "stream",
     "text": [
      "unable to find candidates for iteration 287 179586\n",
      "unable to find candidates for iteration 287 179597\n",
      "unable to find candidates for iteration 287 190178\n"
     ]
    },
    {
     "data": {
      "text/plain": [
       "  0%|          | 0/17834 [00:00<?, ?it/s]"
      ],
      "application/vnd.jupyter.widget-view+json": {
       "version_major": 2,
       "version_minor": 0,
       "model_id": "c799be9fbe20498bb72c6ecec6ba22de"
      }
     },
     "metadata": {},
     "output_type": "display_data"
    },
    {
     "name": "stdout",
     "output_type": "stream",
     "text": [
      "unable to find candidates for iteration 288 179511\n",
      "unable to find candidates for iteration 288 179549\n",
      "unable to find candidates for iteration 288 179573\n",
      "unable to find candidates for iteration 288 190232\n",
      "unable to find candidates for iteration 288 190234\n",
      "unable to find candidates for iteration 288 193675\n",
      "unable to find candidates for iteration 288 194326\n",
      "unable to find candidates for iteration 288 194327\n",
      "unable to find candidates for iteration 288 194329\n"
     ]
    },
    {
     "data": {
      "text/plain": [
       "  0%|          | 0/17544 [00:00<?, ?it/s]"
      ],
      "application/vnd.jupyter.widget-view+json": {
       "version_major": 2,
       "version_minor": 0,
       "model_id": "622771741cc8419ea6d01de9acd2d7e3"
      }
     },
     "metadata": {},
     "output_type": "display_data"
    },
    {
     "name": "stdout",
     "output_type": "stream",
     "text": [
      "unable to find candidates for iteration 289 179558\n",
      "unable to find candidates for iteration 289 179575\n",
      "unable to find candidates for iteration 289 186647\n",
      "unable to find candidates for iteration 289 188853\n",
      "unable to find candidates for iteration 289 188854\n",
      "unable to find candidates for iteration 289 188878\n",
      "unable to find candidates for iteration 289 193673\n",
      "unable to find candidates for iteration 289 193698\n",
      "unable to find candidates for iteration 289 193731\n",
      "unable to find candidates for iteration 289 194336\n"
     ]
    },
    {
     "data": {
      "text/plain": [
       "  0%|          | 0/17166 [00:00<?, ?it/s]"
      ],
      "application/vnd.jupyter.widget-view+json": {
       "version_major": 2,
       "version_minor": 0,
       "model_id": "89ec79abe1b14ded88a049a157230aad"
      }
     },
     "metadata": {},
     "output_type": "display_data"
    },
    {
     "name": "stdout",
     "output_type": "stream",
     "text": [
      "unable to find candidates for iteration 290 183919\n",
      "unable to find candidates for iteration 290 183920\n",
      "unable to find candidates for iteration 290 188853\n",
      "unable to find candidates for iteration 290 188854\n",
      "unable to find candidates for iteration 290 190217\n",
      "unable to find candidates for iteration 290 190218\n",
      "unable to find candidates for iteration 290 192696\n",
      "unable to find candidates for iteration 290 193697\n",
      "unable to find candidates for iteration 290 193727\n",
      "unable to find candidates for iteration 290 194331\n",
      "unable to find candidates for iteration 290 194333\n"
     ]
    },
    {
     "data": {
      "text/plain": [
       "  0%|          | 0/18797 [00:00<?, ?it/s]"
      ],
      "application/vnd.jupyter.widget-view+json": {
       "version_major": 2,
       "version_minor": 0,
       "model_id": "b82f054931a0428e81b6847c7e65eced"
      }
     },
     "metadata": {},
     "output_type": "display_data"
    },
    {
     "name": "stdout",
     "output_type": "stream",
     "text": [
      "unable to find candidates for iteration 291 183882\n",
      "unable to find candidates for iteration 291 183991\n",
      "unable to find candidates for iteration 291 188861\n",
      "unable to find candidates for iteration 291 194351\n",
      "unable to find candidates for iteration 291 194364\n",
      "unable to find candidates for iteration 291 194365\n",
      "unable to find candidates for iteration 291 200222\n",
      "unable to find candidates for iteration 291 200330\n"
     ]
    },
    {
     "data": {
      "text/plain": [
       "  0%|          | 0/18865 [00:00<?, ?it/s]"
      ],
      "application/vnd.jupyter.widget-view+json": {
       "version_major": 2,
       "version_minor": 0,
       "model_id": "982a7d41f0fe49cfa44832e0a5d53bcf"
      }
     },
     "metadata": {},
     "output_type": "display_data"
    },
    {
     "name": "stdout",
     "output_type": "stream",
     "text": [
      "unable to find candidates for iteration 292 183900\n",
      "unable to find candidates for iteration 292 186664\n",
      "unable to find candidates for iteration 292 188832\n",
      "unable to find candidates for iteration 292 188880\n",
      "unable to find candidates for iteration 292 190234\n",
      "unable to find candidates for iteration 292 190235\n",
      "unable to find candidates for iteration 292 192694\n",
      "unable to find candidates for iteration 292 193284\n",
      "unable to find candidates for iteration 292 194326\n",
      "unable to find candidates for iteration 292 194327\n",
      "unable to find candidates for iteration 292 194329\n",
      "unable to find candidates for iteration 292 200174\n",
      "unable to find candidates for iteration 292 200181\n",
      "unable to find candidates for iteration 292 200249\n"
     ]
    },
    {
     "data": {
      "text/plain": [
       "  0%|          | 0/18863 [00:00<?, ?it/s]"
      ],
      "application/vnd.jupyter.widget-view+json": {
       "version_major": 2,
       "version_minor": 0,
       "model_id": "1e1d72a6d4374851b800e47ad2a7b9df"
      }
     },
     "metadata": {},
     "output_type": "display_data"
    },
    {
     "name": "stdout",
     "output_type": "stream",
     "text": [
      "unable to find candidates for iteration 293 183884\n",
      "unable to find candidates for iteration 293 186639\n",
      "unable to find candidates for iteration 293 190262\n",
      "unable to find candidates for iteration 293 190264\n",
      "unable to find candidates for iteration 293 190270\n",
      "unable to find candidates for iteration 293 193281\n",
      "unable to find candidates for iteration 293 193357\n",
      "unable to find candidates for iteration 293 193647\n",
      "unable to find candidates for iteration 293 193648\n",
      "unable to find candidates for iteration 293 194323\n",
      "unable to find candidates for iteration 293 194324\n",
      "unable to find candidates for iteration 293 194326\n",
      "unable to find candidates for iteration 293 197257\n",
      "unable to find candidates for iteration 293 197260\n",
      "unable to find candidates for iteration 293 200074\n",
      "unable to find candidates for iteration 293 200134\n"
     ]
    },
    {
     "data": {
      "text/plain": [
       "  0%|          | 0/113317 [00:00<?, ?it/s]"
      ],
      "application/vnd.jupyter.widget-view+json": {
       "version_major": 2,
       "version_minor": 0,
       "model_id": "3b45b214ff9a42008441ed86c94d28ff"
      }
     },
     "metadata": {},
     "output_type": "display_data"
    },
    {
     "name": "stdout",
     "output_type": "stream",
     "text": [
      "unable to find candidates for iteration 294 190270\n",
      "unable to find candidates for iteration 294 190280\n",
      "unable to find candidates for iteration 294 190281\n",
      "unable to find candidates for iteration 294 192720\n",
      "unable to find candidates for iteration 294 193603\n",
      "unable to find candidates for iteration 294 193660\n",
      "unable to find candidates for iteration 294 194396\n",
      "unable to find candidates for iteration 294 194397\n",
      "unable to find candidates for iteration 294 200134\n",
      "unable to find candidates for iteration 294 200288\n",
      "unable to find candidates for iteration 294 200315\n",
      "unable to find candidates for iteration 294 254779\n"
     ]
    },
    {
     "data": {
      "text/plain": [
       "  0%|          | 0/17799 [00:00<?, ?it/s]"
      ],
      "application/vnd.jupyter.widget-view+json": {
       "version_major": 2,
       "version_minor": 0,
       "model_id": "e547ad516d734292953fea4acdb2662d"
      }
     },
     "metadata": {},
     "output_type": "display_data"
    },
    {
     "name": "stdout",
     "output_type": "stream",
     "text": [
      "unable to find candidates for iteration 295 190214\n",
      "unable to find candidates for iteration 295 190268\n",
      "unable to find candidates for iteration 295 190269\n",
      "unable to find candidates for iteration 295 194331\n",
      "unable to find candidates for iteration 295 194333\n",
      "unable to find candidates for iteration 295 197257\n",
      "unable to find candidates for iteration 295 200074\n",
      "unable to find candidates for iteration 295 200126\n"
     ]
    },
    {
     "data": {
      "text/plain": [
       "  0%|          | 0/17458 [00:00<?, ?it/s]"
      ],
      "application/vnd.jupyter.widget-view+json": {
       "version_major": 2,
       "version_minor": 0,
       "model_id": "c66427774a584b5e848f677dff7f3ab1"
      }
     },
     "metadata": {},
     "output_type": "display_data"
    },
    {
     "name": "stdout",
     "output_type": "stream",
     "text": [
      "unable to find candidates for iteration 296 186644\n",
      "unable to find candidates for iteration 296 190270\n",
      "unable to find candidates for iteration 296 190281\n",
      "unable to find candidates for iteration 296 190283\n",
      "unable to find candidates for iteration 296 192765\n",
      "unable to find candidates for iteration 296 193611\n",
      "unable to find candidates for iteration 296 193672\n",
      "unable to find candidates for iteration 296 194372\n",
      "unable to find candidates for iteration 296 194373\n",
      "unable to find candidates for iteration 296 194375\n",
      "unable to find candidates for iteration 296 197244\n",
      "unable to find candidates for iteration 296 200131\n",
      "unable to find candidates for iteration 296 200268\n",
      "unable to find candidates for iteration 296 200285\n"
     ]
    },
    {
     "data": {
      "text/plain": [
       "  0%|          | 0/17123 [00:00<?, ?it/s]"
      ],
      "application/vnd.jupyter.widget-view+json": {
       "version_major": 2,
       "version_minor": 0,
       "model_id": "3b5311e442de4985b8ba0703b04842d5"
      }
     },
     "metadata": {},
     "output_type": "display_data"
    },
    {
     "name": "stdout",
     "output_type": "stream",
     "text": [
      "unable to find candidates for iteration 297 186656\n",
      "unable to find candidates for iteration 297 188818\n",
      "unable to find candidates for iteration 297 188835\n",
      "unable to find candidates for iteration 297 188867\n",
      "unable to find candidates for iteration 297 190250\n",
      "unable to find candidates for iteration 297 190251\n",
      "unable to find candidates for iteration 297 191187\n",
      "unable to find candidates for iteration 297 192726\n",
      "unable to find candidates for iteration 297 192732\n",
      "unable to find candidates for iteration 297 192734\n",
      "unable to find candidates for iteration 297 192744\n",
      "unable to find candidates for iteration 297 194379\n",
      "unable to find candidates for iteration 297 194383\n",
      "unable to find candidates for iteration 297 197250\n",
      "unable to find candidates for iteration 297 200163\n",
      "unable to find candidates for iteration 297 200261\n"
     ]
    },
    {
     "data": {
      "text/plain": [
       "  0%|          | 0/17123 [00:00<?, ?it/s]"
      ],
      "application/vnd.jupyter.widget-view+json": {
       "version_major": 2,
       "version_minor": 0,
       "model_id": "618aaeb8b07746b7890a77f6ea73f5c4"
      }
     },
     "metadata": {},
     "output_type": "display_data"
    },
    {
     "name": "stdout",
     "output_type": "stream",
     "text": [
      "unable to find candidates for iteration 298 188819\n",
      "unable to find candidates for iteration 298 188820\n",
      "unable to find candidates for iteration 298 188835\n",
      "unable to find candidates for iteration 298 188867\n",
      "unable to find candidates for iteration 298 190059\n",
      "unable to find candidates for iteration 298 190248\n",
      "unable to find candidates for iteration 298 190250\n",
      "unable to find candidates for iteration 298 192729\n",
      "unable to find candidates for iteration 298 193636\n",
      "unable to find candidates for iteration 298 193687\n",
      "unable to find candidates for iteration 298 194377\n",
      "unable to find candidates for iteration 298 194379\n",
      "unable to find candidates for iteration 298 197250\n",
      "unable to find candidates for iteration 298 198546\n",
      "unable to find candidates for iteration 298 198593\n",
      "unable to find candidates for iteration 298 200159\n",
      "unable to find candidates for iteration 298 200164\n"
     ]
    },
    {
     "data": {
      "text/plain": [
       "  0%|          | 0/16173 [00:00<?, ?it/s]"
      ],
      "application/vnd.jupyter.widget-view+json": {
       "version_major": 2,
       "version_minor": 0,
       "model_id": "cb16a80a54f949398e8acae5094a3edc"
      }
     },
     "metadata": {},
     "output_type": "display_data"
    },
    {
     "name": "stdout",
     "output_type": "stream",
     "text": [
      "unable to find candidates for iteration 299 188812\n",
      "unable to find candidates for iteration 299 188813\n",
      "unable to find candidates for iteration 299 190247\n",
      "unable to find candidates for iteration 299 190248\n",
      "unable to find candidates for iteration 299 190252\n",
      "unable to find candidates for iteration 299 193634\n",
      "unable to find candidates for iteration 299 193661\n",
      "unable to find candidates for iteration 299 193664\n",
      "unable to find candidates for iteration 299 193677\n",
      "unable to find candidates for iteration 299 194390\n",
      "unable to find candidates for iteration 299 194391\n",
      "unable to find candidates for iteration 299 194393\n",
      "unable to find candidates for iteration 299 198546\n",
      "unable to find candidates for iteration 299 198593\n",
      "unable to find candidates for iteration 299 198600\n",
      "unable to find candidates for iteration 299 200167\n",
      "unable to find candidates for iteration 299 200179\n",
      "unable to find candidates for iteration 299 200208\n",
      "unable to find candidates for iteration 299 200261\n",
      "unable to find candidates for iteration 299 200291\n"
     ]
    },
    {
     "data": {
      "text/plain": [
       "  0%|          | 0/15505 [00:00<?, ?it/s]"
      ],
      "application/vnd.jupyter.widget-view+json": {
       "version_major": 2,
       "version_minor": 0,
       "model_id": "d93d7407c020411cb3347743c8d995b1"
      }
     },
     "metadata": {},
     "output_type": "display_data"
    },
    {
     "name": "stdout",
     "output_type": "stream",
     "text": [
      "unable to find candidates for iteration 300 190237\n",
      "unable to find candidates for iteration 300 190238\n",
      "unable to find candidates for iteration 300 190252\n",
      "unable to find candidates for iteration 300 193281\n",
      "unable to find candidates for iteration 300 193671\n",
      "unable to find candidates for iteration 300 194319\n",
      "unable to find candidates for iteration 300 194321\n",
      "unable to find candidates for iteration 300 197200\n",
      "unable to find candidates for iteration 300 198558\n",
      "unable to find candidates for iteration 300 198596\n",
      "unable to find candidates for iteration 300 200100\n",
      "unable to find candidates for iteration 300 200166\n",
      "unable to find candidates for iteration 300 200249\n"
     ]
    },
    {
     "data": {
      "text/plain": [
       "  0%|          | 0/15383 [00:00<?, ?it/s]"
      ],
      "application/vnd.jupyter.widget-view+json": {
       "version_major": 2,
       "version_minor": 0,
       "model_id": "ddbc2a01a4974f76b427bb0df3b1c7f7"
      }
     },
     "metadata": {},
     "output_type": "display_data"
    },
    {
     "name": "stdout",
     "output_type": "stream",
     "text": [
      "unable to find candidates for iteration 301 191208\n",
      "unable to find candidates for iteration 301 192765\n",
      "unable to find candidates for iteration 301 193609\n",
      "unable to find candidates for iteration 301 193672\n",
      "unable to find candidates for iteration 301 194373\n",
      "unable to find candidates for iteration 301 194375\n",
      "unable to find candidates for iteration 301 197244\n",
      "unable to find candidates for iteration 301 198382\n",
      "unable to find candidates for iteration 301 198517\n",
      "unable to find candidates for iteration 301 200131\n",
      "unable to find candidates for iteration 301 200268\n"
     ]
    },
    {
     "data": {
      "text/plain": [
       "  0%|          | 0/15613 [00:00<?, ?it/s]"
      ],
      "application/vnd.jupyter.widget-view+json": {
       "version_major": 2,
       "version_minor": 0,
       "model_id": "73826a66ce4b4478a83a10ff859e8eae"
      }
     },
     "metadata": {},
     "output_type": "display_data"
    },
    {
     "name": "stdout",
     "output_type": "stream",
     "text": [
      "unable to find candidates for iteration 302 193650\n",
      "unable to find candidates for iteration 302 193651\n",
      "unable to find candidates for iteration 302 194315\n",
      "unable to find candidates for iteration 302 194318\n",
      "unable to find candidates for iteration 302 194455\n",
      "unable to find candidates for iteration 302 197213\n",
      "unable to find candidates for iteration 302 198411\n",
      "unable to find candidates for iteration 302 198541\n",
      "unable to find candidates for iteration 302 198596\n",
      "unable to find candidates for iteration 302 200146\n",
      "unable to find candidates for iteration 302 200187\n"
     ]
    },
    {
     "data": {
      "text/plain": [
       "  0%|          | 0/15799 [00:00<?, ?it/s]"
      ],
      "application/vnd.jupyter.widget-view+json": {
       "version_major": 2,
       "version_minor": 0,
       "model_id": "10bc903647c54248b0f61426791e37f2"
      }
     },
     "metadata": {},
     "output_type": "display_data"
    },
    {
     "name": "stdout",
     "output_type": "stream",
     "text": [
      "unable to find candidates for iteration 303 192731\n",
      "unable to find candidates for iteration 303 193357\n",
      "unable to find candidates for iteration 303 193634\n",
      "unable to find candidates for iteration 303 194344\n",
      "unable to find candidates for iteration 303 197259\n",
      "unable to find candidates for iteration 303 198439\n",
      "unable to find candidates for iteration 303 198500\n",
      "unable to find candidates for iteration 303 198593\n",
      "unable to find candidates for iteration 303 198616\n",
      "unable to find candidates for iteration 303 200120\n"
     ]
    },
    {
     "data": {
      "text/plain": [
       "  0%|          | 0/15928 [00:00<?, ?it/s]"
      ],
      "application/vnd.jupyter.widget-view+json": {
       "version_major": 2,
       "version_minor": 0,
       "model_id": "6283ec6f1a3c4968a4b2a61af199f75f"
      }
     },
     "metadata": {},
     "output_type": "display_data"
    },
    {
     "name": "stdout",
     "output_type": "stream",
     "text": [
      "unable to find candidates for iteration 304 194324\n",
      "unable to find candidates for iteration 304 194326\n",
      "unable to find candidates for iteration 304 198512\n",
      "unable to find candidates for iteration 304 198562\n",
      "unable to find candidates for iteration 304 200175\n",
      "unable to find candidates for iteration 304 204411\n",
      "unable to find candidates for iteration 304 205691\n",
      "unable to find candidates for iteration 304 205723\n"
     ]
    },
    {
     "data": {
      "text/plain": [
       "  0%|          | 0/16022 [00:00<?, ?it/s]"
      ],
      "application/vnd.jupyter.widget-view+json": {
       "version_major": 2,
       "version_minor": 0,
       "model_id": "b3e9e2b83fcf4abd9c7d1459dae6bd2f"
      }
     },
     "metadata": {},
     "output_type": "display_data"
    },
    {
     "name": "stdout",
     "output_type": "stream",
     "text": [
      "unable to find candidates for iteration 305 193626\n",
      "unable to find candidates for iteration 305 193627\n",
      "unable to find candidates for iteration 305 193628\n",
      "unable to find candidates for iteration 305 193695\n",
      "unable to find candidates for iteration 305 194350\n",
      "unable to find candidates for iteration 305 194424\n",
      "unable to find candidates for iteration 305 197260\n",
      "unable to find candidates for iteration 305 198411\n",
      "unable to find candidates for iteration 305 198517\n",
      "unable to find candidates for iteration 305 198593\n",
      "unable to find candidates for iteration 305 200120\n",
      "unable to find candidates for iteration 305 200273\n",
      "unable to find candidates for iteration 305 200360\n",
      "unable to find candidates for iteration 305 205681\n",
      "unable to find candidates for iteration 305 205707\n"
     ]
    },
    {
     "data": {
      "text/plain": [
       "  0%|          | 0/14899 [00:00<?, ?it/s]"
      ],
      "application/vnd.jupyter.widget-view+json": {
       "version_major": 2,
       "version_minor": 0,
       "model_id": "64e90b21f42740afb4a0a85c508fe585"
      }
     },
     "metadata": {},
     "output_type": "display_data"
    },
    {
     "name": "stdout",
     "output_type": "stream",
     "text": [
      "unable to find candidates for iteration 306 197166\n",
      "unable to find candidates for iteration 306 198583\n",
      "unable to find candidates for iteration 306 198600\n",
      "unable to find candidates for iteration 306 198661\n",
      "unable to find candidates for iteration 306 198734\n",
      "unable to find candidates for iteration 306 200238\n",
      "unable to find candidates for iteration 306 200250\n",
      "unable to find candidates for iteration 306 200390\n",
      "unable to find candidates for iteration 306 205755\n"
     ]
    },
    {
     "data": {
      "text/plain": [
       "  0%|          | 0/17582 [00:00<?, ?it/s]"
      ],
      "application/vnd.jupyter.widget-view+json": {
       "version_major": 2,
       "version_minor": 0,
       "model_id": "fa855b5fb2d749d79bfb9659ce40836d"
      }
     },
     "metadata": {},
     "output_type": "display_data"
    },
    {
     "name": "stdout",
     "output_type": "stream",
     "text": [
      "unable to find candidates for iteration 307 197188\n",
      "unable to find candidates for iteration 307 197190\n",
      "unable to find candidates for iteration 307 197202\n",
      "unable to find candidates for iteration 307 198437\n",
      "unable to find candidates for iteration 307 198512\n",
      "unable to find candidates for iteration 307 198568\n",
      "unable to find candidates for iteration 307 198571\n",
      "unable to find candidates for iteration 307 200118\n",
      "unable to find candidates for iteration 307 200180\n",
      "unable to find candidates for iteration 307 200184\n",
      "unable to find candidates for iteration 307 200245\n",
      "unable to find candidates for iteration 307 204411\n",
      "unable to find candidates for iteration 307 204413\n",
      "unable to find candidates for iteration 307 205723\n"
     ]
    },
    {
     "data": {
      "text/plain": [
       "  0%|          | 0/19392 [00:00<?, ?it/s]"
      ],
      "application/vnd.jupyter.widget-view+json": {
       "version_major": 2,
       "version_minor": 0,
       "model_id": "bdb79d7269ad4f5090d066a928a909c3"
      }
     },
     "metadata": {},
     "output_type": "display_data"
    },
    {
     "name": "stdout",
     "output_type": "stream",
     "text": [
      "unable to find candidates for iteration 308 197225\n",
      "unable to find candidates for iteration 308 198356\n",
      "unable to find candidates for iteration 308 198413\n",
      "unable to find candidates for iteration 308 198596\n",
      "unable to find candidates for iteration 308 200136\n",
      "unable to find candidates for iteration 308 200159\n",
      "unable to find candidates for iteration 308 200288\n",
      "unable to find candidates for iteration 308 200322\n",
      "unable to find candidates for iteration 308 204448\n"
     ]
    },
    {
     "data": {
      "text/plain": [
       "  0%|          | 0/19334 [00:00<?, ?it/s]"
      ],
      "application/vnd.jupyter.widget-view+json": {
       "version_major": 2,
       "version_minor": 0,
       "model_id": "57dcdcf2b9884ebb994078cd8a975491"
      }
     },
     "metadata": {},
     "output_type": "display_data"
    },
    {
     "name": "stdout",
     "output_type": "stream",
     "text": [
      "unable to find candidates for iteration 309 198406\n",
      "unable to find candidates for iteration 309 198539\n",
      "unable to find candidates for iteration 309 198596\n",
      "unable to find candidates for iteration 309 200074\n",
      "unable to find candidates for iteration 309 200141\n",
      "unable to find candidates for iteration 309 204404\n",
      "unable to find candidates for iteration 309 204406\n",
      "unable to find candidates for iteration 309 214757\n",
      "unable to find candidates for iteration 309 214758\n",
      "unable to find candidates for iteration 309 214760\n"
     ]
    },
    {
     "data": {
      "text/plain": [
       "  0%|          | 0/19111 [00:00<?, ?it/s]"
      ],
      "application/vnd.jupyter.widget-view+json": {
       "version_major": 2,
       "version_minor": 0,
       "model_id": "44c30585c30c4365962d5d0081d83004"
      }
     },
     "metadata": {},
     "output_type": "display_data"
    },
    {
     "name": "stdout",
     "output_type": "stream",
     "text": [
      "unable to find candidates for iteration 310 198359\n",
      "unable to find candidates for iteration 310 198407\n",
      "unable to find candidates for iteration 310 198418\n",
      "unable to find candidates for iteration 310 198517\n",
      "unable to find candidates for iteration 310 200131\n",
      "unable to find candidates for iteration 310 200147\n",
      "unable to find candidates for iteration 310 200285\n",
      "unable to find candidates for iteration 310 200310\n",
      "unable to find candidates for iteration 310 200729\n",
      "unable to find candidates for iteration 310 200838\n",
      "unable to find candidates for iteration 310 204446\n",
      "unable to find candidates for iteration 310 205701\n",
      "unable to find candidates for iteration 310 214846\n",
      "unable to find candidates for iteration 310 214847\n",
      "unable to find candidates for iteration 310 214850\n"
     ]
    },
    {
     "data": {
      "text/plain": [
       "  0%|          | 0/18141 [00:00<?, ?it/s]"
      ],
      "application/vnd.jupyter.widget-view+json": {
       "version_major": 2,
       "version_minor": 0,
       "model_id": "b166026b93a34a52ac388c5e5fd87187"
      }
     },
     "metadata": {},
     "output_type": "display_data"
    },
    {
     "name": "stdout",
     "output_type": "stream",
     "text": [
      "unable to find candidates for iteration 311 200136\n",
      "unable to find candidates for iteration 311 200157\n",
      "unable to find candidates for iteration 311 200288\n",
      "unable to find candidates for iteration 311 200726\n",
      "unable to find candidates for iteration 311 204448\n",
      "unable to find candidates for iteration 311 205703\n",
      "unable to find candidates for iteration 311 214852\n",
      "unable to find candidates for iteration 311 214854\n",
      "unable to find candidates for iteration 311 214944\n"
     ]
    },
    {
     "data": {
      "text/plain": [
       "  0%|          | 0/17424 [00:00<?, ?it/s]"
      ],
      "application/vnd.jupyter.widget-view+json": {
       "version_major": 2,
       "version_minor": 0,
       "model_id": "fbe4ef5d6c6147c2addcf0a006fdf1a2"
      }
     },
     "metadata": {},
     "output_type": "display_data"
    },
    {
     "name": "stdout",
     "output_type": "stream",
     "text": [
      "unable to find candidates for iteration 312 200339\n",
      "unable to find candidates for iteration 312 200884\n",
      "unable to find candidates for iteration 312 204429\n",
      "unable to find candidates for iteration 312 205749\n",
      "unable to find candidates for iteration 312 205750\n",
      "unable to find candidates for iteration 312 214260\n"
     ]
    },
    {
     "data": {
      "text/plain": [
       "  0%|          | 0/17269 [00:00<?, ?it/s]"
      ],
      "application/vnd.jupyter.widget-view+json": {
       "version_major": 2,
       "version_minor": 0,
       "model_id": "986b53040c6048dfa0df04a53ee6d6c1"
      }
     },
     "metadata": {},
     "output_type": "display_data"
    },
    {
     "name": "stdout",
     "output_type": "stream",
     "text": [
      "unable to find candidates for iteration 313 200884\n",
      "unable to find candidates for iteration 313 200885\n",
      "unable to find candidates for iteration 313 204417\n",
      "unable to find candidates for iteration 313 204418\n",
      "unable to find candidates for iteration 313 205695\n",
      "unable to find candidates for iteration 313 205709\n",
      "unable to find candidates for iteration 313 205710\n",
      "unable to find candidates for iteration 313 205728\n",
      "unable to find candidates for iteration 313 214126\n",
      "unable to find candidates for iteration 313 214127\n",
      "unable to find candidates for iteration 313 216353\n"
     ]
    },
    {
     "data": {
      "text/plain": [
       "  0%|          | 0/18496 [00:00<?, ?it/s]"
      ],
      "application/vnd.jupyter.widget-view+json": {
       "version_major": 2,
       "version_minor": 0,
       "model_id": "9f302439bb7a4745ac44fcde40fd1d91"
      }
     },
     "metadata": {},
     "output_type": "display_data"
    },
    {
     "name": "stdout",
     "output_type": "stream",
     "text": [
      "unable to find candidates for iteration 314 204408\n",
      "unable to find candidates for iteration 314 204411\n",
      "unable to find candidates for iteration 314 204480\n",
      "unable to find candidates for iteration 314 216367\n"
     ]
    },
    {
     "data": {
      "text/plain": [
       "  0%|          | 0/18751 [00:00<?, ?it/s]"
      ],
      "application/vnd.jupyter.widget-view+json": {
       "version_major": 2,
       "version_minor": 0,
       "model_id": "3c3ef3975adf43258937b547b85f8210"
      }
     },
     "metadata": {},
     "output_type": "display_data"
    },
    {
     "name": "stdout",
     "output_type": "stream",
     "text": [
      "unable to find candidates for iteration 315 204376\n",
      "unable to find candidates for iteration 315 205729\n"
     ]
    },
    {
     "data": {
      "text/plain": [
       "  0%|          | 0/18771 [00:00<?, ?it/s]"
      ],
      "application/vnd.jupyter.widget-view+json": {
       "version_major": 2,
       "version_minor": 0,
       "model_id": "facee9025a6c4fb29164a33dfe999df9"
      }
     },
     "metadata": {},
     "output_type": "display_data"
    },
    {
     "name": "stdout",
     "output_type": "stream",
     "text": [
      "unable to find candidates for iteration 316 204429\n",
      "unable to find candidates for iteration 316 204431\n",
      "unable to find candidates for iteration 316 208808\n",
      "unable to find candidates for iteration 316 208809\n",
      "unable to find candidates for iteration 316 214292\n"
     ]
    },
    {
     "data": {
      "text/plain": [
       "  0%|          | 0/19289 [00:00<?, ?it/s]"
      ],
      "application/vnd.jupyter.widget-view+json": {
       "version_major": 2,
       "version_minor": 0,
       "model_id": "affec31a5f69431d8662eff53c6cce8c"
      }
     },
     "metadata": {},
     "output_type": "display_data"
    },
    {
     "name": "stdout",
     "output_type": "stream",
     "text": [
      "unable to find candidates for iteration 317 204429\n",
      "unable to find candidates for iteration 317 205744\n",
      "unable to find candidates for iteration 317 208792\n",
      "unable to find candidates for iteration 317 214245\n",
      "unable to find candidates for iteration 317 214246\n",
      "unable to find candidates for iteration 317 214247\n",
      "unable to find candidates for iteration 317 214265\n",
      "unable to find candidates for iteration 317 216364\n"
     ]
    },
    {
     "data": {
      "text/plain": [
       "  0%|          | 0/19290 [00:00<?, ?it/s]"
      ],
      "application/vnd.jupyter.widget-view+json": {
       "version_major": 2,
       "version_minor": 0,
       "model_id": "cb1324e3e8e74b1eb4a965c064c050c3"
      }
     },
     "metadata": {},
     "output_type": "display_data"
    },
    {
     "name": "stdout",
     "output_type": "stream",
     "text": [
      "unable to find candidates for iteration 318 204457\n",
      "unable to find candidates for iteration 318 205724\n",
      "unable to find candidates for iteration 318 205725\n",
      "unable to find candidates for iteration 318 208795\n",
      "unable to find candidates for iteration 318 214089\n",
      "unable to find candidates for iteration 318 214098\n",
      "unable to find candidates for iteration 318 214171\n",
      "unable to find candidates for iteration 318 214172\n",
      "unable to find candidates for iteration 318 214174\n",
      "unable to find candidates for iteration 318 214175\n",
      "unable to find candidates for iteration 318 214206\n",
      "unable to find candidates for iteration 318 214262\n"
     ]
    },
    {
     "data": {
      "text/plain": [
       "  0%|          | 0/19304 [00:00<?, ?it/s]"
      ],
      "application/vnd.jupyter.widget-view+json": {
       "version_major": 2,
       "version_minor": 0,
       "model_id": "b851182a88bd46429b6f2dbd18332ea5"
      }
     },
     "metadata": {},
     "output_type": "display_data"
    },
    {
     "name": "stdout",
     "output_type": "stream",
     "text": [
      "unable to find candidates for iteration 319 208745\n",
      "unable to find candidates for iteration 319 214035\n",
      "unable to find candidates for iteration 319 214037\n"
     ]
    },
    {
     "data": {
      "text/plain": [
       "  0%|          | 0/19387 [00:00<?, ?it/s]"
      ],
      "application/vnd.jupyter.widget-view+json": {
       "version_major": 2,
       "version_minor": 0,
       "model_id": "be21939d07fe46ce9af85cd4a7e8109c"
      }
     },
     "metadata": {},
     "output_type": "display_data"
    },
    {
     "name": "stdout",
     "output_type": "stream",
     "text": [
      "unable to find candidates for iteration 320 214234\n",
      "unable to find candidates for iteration 320 214235\n",
      "unable to find candidates for iteration 320 214236\n"
     ]
    },
    {
     "data": {
      "text/plain": [
       "  0%|          | 0/20149 [00:00<?, ?it/s]"
      ],
      "application/vnd.jupyter.widget-view+json": {
       "version_major": 2,
       "version_minor": 0,
       "model_id": "03339371c7954e11a3328f963d1c91c9"
      }
     },
     "metadata": {},
     "output_type": "display_data"
    },
    {
     "name": "stdout",
     "output_type": "stream",
     "text": [
      "unable to find candidates for iteration 321 214190\n",
      "unable to find candidates for iteration 321 214250\n",
      "unable to find candidates for iteration 321 214252\n",
      "unable to find candidates for iteration 321 214254\n",
      "unable to find candidates for iteration 321 216389\n"
     ]
    },
    {
     "data": {
      "text/plain": [
       "  0%|          | 0/20133 [00:00<?, ?it/s]"
      ],
      "application/vnd.jupyter.widget-view+json": {
       "version_major": 2,
       "version_minor": 0,
       "model_id": "8c99e247423f4b418411673cccca3264"
      }
     },
     "metadata": {},
     "output_type": "display_data"
    },
    {
     "name": "stdout",
     "output_type": "stream",
     "text": [
      "unable to find candidates for iteration 322 214099\n",
      "unable to find candidates for iteration 322 214114\n",
      "unable to find candidates for iteration 322 214115\n"
     ]
    },
    {
     "data": {
      "text/plain": [
       "  0%|          | 0/20287 [00:00<?, ?it/s]"
      ],
      "application/vnd.jupyter.widget-view+json": {
       "version_major": 2,
       "version_minor": 0,
       "model_id": "2cd5721df61b412e8bc900bb60be3650"
      }
     },
     "metadata": {},
     "output_type": "display_data"
    },
    {
     "name": "stdout",
     "output_type": "stream",
     "text": [
      "unable to find candidates for iteration 323 214220\n",
      "unable to find candidates for iteration 323 214230\n",
      "unable to find candidates for iteration 323 214232\n",
      "unable to find candidates for iteration 323 214233\n",
      "unable to find candidates for iteration 323 214269\n",
      "unable to find candidates for iteration 323 216384\n"
     ]
    },
    {
     "data": {
      "text/plain": [
       "  0%|          | 0/20404 [00:00<?, ?it/s]"
      ],
      "application/vnd.jupyter.widget-view+json": {
       "version_major": 2,
       "version_minor": 0,
       "model_id": "bf00e83b083e47229be78b17c3119d36"
      }
     },
     "metadata": {},
     "output_type": "display_data"
    },
    {
     "name": "stdout",
     "output_type": "stream",
     "text": [
      "unable to find candidates for iteration 324 214351\n",
      "unable to find candidates for iteration 324 214352\n",
      "unable to find candidates for iteration 324 214354\n",
      "unable to find candidates for iteration 324 214412\n",
      "unable to find candidates for iteration 324 216438\n",
      "unable to find candidates for iteration 324 216440\n",
      "unable to find candidates for iteration 324 218865\n",
      "unable to find candidates for iteration 324 218867\n",
      "unable to find candidates for iteration 324 227333\n"
     ]
    },
    {
     "data": {
      "text/plain": [
       "  0%|          | 0/20330 [00:00<?, ?it/s]"
      ],
      "application/vnd.jupyter.widget-view+json": {
       "version_major": 2,
       "version_minor": 0,
       "model_id": "b34c7c4f97f543e6a24e8e88613cdcf1"
      }
     },
     "metadata": {},
     "output_type": "display_data"
    },
    {
     "name": "stdout",
     "output_type": "stream",
     "text": [
      "unable to find candidates for iteration 325 214137\n",
      "unable to find candidates for iteration 325 214139\n",
      "unable to find candidates for iteration 325 214180\n",
      "unable to find candidates for iteration 325 216377\n",
      "unable to find candidates for iteration 325 217323\n",
      "unable to find candidates for iteration 325 218796\n",
      "unable to find candidates for iteration 325 218798\n",
      "unable to find candidates for iteration 325 218800\n",
      "unable to find candidates for iteration 325 219109\n",
      "unable to find candidates for iteration 325 227279\n"
     ]
    },
    {
     "data": {
      "text/plain": [
       "  0%|          | 0/17806 [00:00<?, ?it/s]"
      ],
      "application/vnd.jupyter.widget-view+json": {
       "version_major": 2,
       "version_minor": 0,
       "model_id": "3e3ee35cc81b457ebea8b05502c48d1f"
      }
     },
     "metadata": {},
     "output_type": "display_data"
    },
    {
     "name": "stdout",
     "output_type": "stream",
     "text": [
      "unable to find candidates for iteration 326 214030\n",
      "unable to find candidates for iteration 326 214032\n",
      "unable to find candidates for iteration 326 214035\n",
      "unable to find candidates for iteration 326 214095\n",
      "unable to find candidates for iteration 326 214099\n",
      "unable to find candidates for iteration 326 216357\n",
      "unable to find candidates for iteration 326 217347\n",
      "unable to find candidates for iteration 326 218696\n",
      "unable to find candidates for iteration 326 218698\n",
      "unable to find candidates for iteration 326 227279\n"
     ]
    },
    {
     "data": {
      "text/plain": [
       "  0%|          | 0/17838 [00:00<?, ?it/s]"
      ],
      "application/vnd.jupyter.widget-view+json": {
       "version_major": 2,
       "version_minor": 0,
       "model_id": "758467760b4d4dbba68f30b7d641c970"
      }
     },
     "metadata": {},
     "output_type": "display_data"
    },
    {
     "name": "stdout",
     "output_type": "stream",
     "text": [
      "unable to find candidates for iteration 327 214258\n",
      "unable to find candidates for iteration 327 214260\n",
      "unable to find candidates for iteration 327 214274\n",
      "unable to find candidates for iteration 327 217317\n",
      "unable to find candidates for iteration 327 217359\n",
      "unable to find candidates for iteration 327 218578\n",
      "unable to find candidates for iteration 327 218755\n",
      "unable to find candidates for iteration 327 218757\n",
      "unable to find candidates for iteration 327 218759\n",
      "unable to find candidates for iteration 327 227281\n"
     ]
    },
    {
     "data": {
      "text/plain": [
       "  0%|          | 0/16122 [00:00<?, ?it/s]"
      ],
      "application/vnd.jupyter.widget-view+json": {
       "version_major": 2,
       "version_minor": 0,
       "model_id": "66e25713276f469a9ff4d2e7e9e3ec3e"
      }
     },
     "metadata": {},
     "output_type": "display_data"
    },
    {
     "name": "stdout",
     "output_type": "stream",
     "text": [
      "unable to find candidates for iteration 328 218729\n",
      "unable to find candidates for iteration 328 218731\n",
      "unable to find candidates for iteration 328 218733\n",
      "unable to find candidates for iteration 328 227278\n",
      "unable to find candidates for iteration 328 227279\n"
     ]
    },
    {
     "data": {
      "text/plain": [
       "  0%|          | 0/15998 [00:00<?, ?it/s]"
      ],
      "application/vnd.jupyter.widget-view+json": {
       "version_major": 2,
       "version_minor": 0,
       "model_id": "5e669e22f7c34c9fbf2b33a271df6dac"
      }
     },
     "metadata": {},
     "output_type": "display_data"
    },
    {
     "name": "stdout",
     "output_type": "stream",
     "text": [
      "unable to find candidates for iteration 329 218802\n",
      "unable to find candidates for iteration 329 218804\n",
      "unable to find candidates for iteration 329 218806\n",
      "unable to find candidates for iteration 329 219142\n",
      "unable to find candidates for iteration 329 227278\n",
      "unable to find candidates for iteration 329 227279\n"
     ]
    },
    {
     "data": {
      "text/plain": [
       "  0%|          | 0/15692 [00:00<?, ?it/s]"
      ],
      "application/vnd.jupyter.widget-view+json": {
       "version_major": 2,
       "version_minor": 0,
       "model_id": "ae3f99127a984b249f4ffd9888091761"
      }
     },
     "metadata": {},
     "output_type": "display_data"
    },
    {
     "name": "stdout",
     "output_type": "stream",
     "text": [
      "unable to find candidates for iteration 330 218854\n",
      "unable to find candidates for iteration 330 218856\n",
      "unable to find candidates for iteration 330 219157\n",
      "unable to find candidates for iteration 330 227276\n",
      "unable to find candidates for iteration 330 227279\n"
     ]
    },
    {
     "data": {
      "text/plain": [
       "  0%|          | 0/13822 [00:00<?, ?it/s]"
      ],
      "application/vnd.jupyter.widget-view+json": {
       "version_major": 2,
       "version_minor": 0,
       "model_id": "28da0abbe4a14ddca8d67919c0020c48"
      }
     },
     "metadata": {},
     "output_type": "display_data"
    },
    {
     "name": "stdout",
     "output_type": "stream",
     "text": [
      "unable to find candidates for iteration 331 227280\n",
      "unable to find candidates for iteration 331 227291\n"
     ]
    },
    {
     "data": {
      "text/plain": [
       "  0%|          | 0/13824 [00:00<?, ?it/s]"
      ],
      "application/vnd.jupyter.widget-view+json": {
       "version_major": 2,
       "version_minor": 0,
       "model_id": "12bbb17d9a1647e1b7ad6a71934a294d"
      }
     },
     "metadata": {},
     "output_type": "display_data"
    },
    {
     "name": "stdout",
     "output_type": "stream",
     "text": [
      "unable to find candidates for iteration 332 227279\n"
     ]
    },
    {
     "data": {
      "text/plain": [
       "  0%|          | 0/13827 [00:00<?, ?it/s]"
      ],
      "application/vnd.jupyter.widget-view+json": {
       "version_major": 2,
       "version_minor": 0,
       "model_id": "5171a5d04f8141b1863e3bfa8d26e3fc"
      }
     },
     "metadata": {},
     "output_type": "display_data"
    },
    {
     "name": "stdout",
     "output_type": "stream",
     "text": [
      "unable to find candidates for iteration 333 227278\n",
      "unable to find candidates for iteration 333 227279\n"
     ]
    },
    {
     "data": {
      "text/plain": [
       "  0%|          | 0/13817 [00:00<?, ?it/s]"
      ],
      "application/vnd.jupyter.widget-view+json": {
       "version_major": 2,
       "version_minor": 0,
       "model_id": "0c0f6fdf23f4485fab40ac4fcafcae53"
      }
     },
     "metadata": {},
     "output_type": "display_data"
    },
    {
     "name": "stdout",
     "output_type": "stream",
     "text": [
      "unable to find candidates for iteration 334 227280\n",
      "unable to find candidates for iteration 334 232445\n"
     ]
    },
    {
     "data": {
      "text/plain": [
       "  0%|          | 0/13916 [00:00<?, ?it/s]"
      ],
      "application/vnd.jupyter.widget-view+json": {
       "version_major": 2,
       "version_minor": 0,
       "model_id": "bb1d5b34b0ca4800a99cb017c954057c"
      }
     },
     "metadata": {},
     "output_type": "display_data"
    },
    {
     "name": "stdout",
     "output_type": "stream",
     "text": [
      "unable to find candidates for iteration 335 227281\n",
      "unable to find candidates for iteration 335 232447\n"
     ]
    },
    {
     "data": {
      "text/plain": [
       "  0%|          | 0/14060 [00:00<?, ?it/s]"
      ],
      "application/vnd.jupyter.widget-view+json": {
       "version_major": 2,
       "version_minor": 0,
       "model_id": "21490c104e8e4745b2af3a9b207bec80"
      }
     },
     "metadata": {},
     "output_type": "display_data"
    },
    {
     "name": "stdout",
     "output_type": "stream",
     "text": [
      "unable to find candidates for iteration 336 227279\n"
     ]
    },
    {
     "data": {
      "text/plain": [
       "  0%|          | 0/14060 [00:00<?, ?it/s]"
      ],
      "application/vnd.jupyter.widget-view+json": {
       "version_major": 2,
       "version_minor": 0,
       "model_id": "8dce3f153d9247b690a4f87c449ef69f"
      }
     },
     "metadata": {},
     "output_type": "display_data"
    },
    {
     "name": "stdout",
     "output_type": "stream",
     "text": [
      "unable to find candidates for iteration 337 227281\n"
     ]
    },
    {
     "data": {
      "text/plain": [
       "  0%|          | 0/13784 [00:00<?, ?it/s]"
      ],
      "application/vnd.jupyter.widget-view+json": {
       "version_major": 2,
       "version_minor": 0,
       "model_id": "55feb9ca4781473e8c916edcc31cfde7"
      }
     },
     "metadata": {},
     "output_type": "display_data"
    },
    {
     "name": "stdout",
     "output_type": "stream",
     "text": [
      "unable to find candidates for iteration 338 227281\n"
     ]
    },
    {
     "data": {
      "text/plain": [
       "  0%|          | 0/13736 [00:00<?, ?it/s]"
      ],
      "application/vnd.jupyter.widget-view+json": {
       "version_major": 2,
       "version_minor": 0,
       "model_id": "749e5aca15854965961573e16a070cd3"
      }
     },
     "metadata": {},
     "output_type": "display_data"
    },
    {
     "name": "stdout",
     "output_type": "stream",
     "text": [
      "unable to find candidates for iteration 339 227281\n"
     ]
    },
    {
     "data": {
      "text/plain": [
       "  0%|          | 0/13136 [00:00<?, ?it/s]"
      ],
      "application/vnd.jupyter.widget-view+json": {
       "version_major": 2,
       "version_minor": 0,
       "model_id": "7d477b9d7747410faf3514f9675f0e01"
      }
     },
     "metadata": {},
     "output_type": "display_data"
    },
    {
     "name": "stdout",
     "output_type": "stream",
     "text": [
      "unable to find candidates for iteration 340 227281\n",
      "unable to find candidates for iteration 340 227298\n"
     ]
    },
    {
     "data": {
      "text/plain": [
       "  0%|          | 0/11923 [00:00<?, ?it/s]"
      ],
      "application/vnd.jupyter.widget-view+json": {
       "version_major": 2,
       "version_minor": 0,
       "model_id": "5c0f102eee7f4e66ac328acd7f8de4e9"
      }
     },
     "metadata": {},
     "output_type": "display_data"
    },
    {
     "name": "stdout",
     "output_type": "stream",
     "text": [
      "unable to find candidates for iteration 341 227278\n",
      "unable to find candidates for iteration 341 227279\n"
     ]
    },
    {
     "data": {
      "text/plain": [
       "  0%|          | 0/11906 [00:00<?, ?it/s]"
      ],
      "application/vnd.jupyter.widget-view+json": {
       "version_major": 2,
       "version_minor": 0,
       "model_id": "3688b3853aa94b43b80ed04ae73e11f2"
      }
     },
     "metadata": {},
     "output_type": "display_data"
    },
    {
     "name": "stdout",
     "output_type": "stream",
     "text": [
      "unable to find candidates for iteration 342 235241\n",
      "unable to find candidates for iteration 342 236209\n"
     ]
    },
    {
     "data": {
      "text/plain": [
       "  0%|          | 0/11785 [00:00<?, ?it/s]"
      ],
      "application/vnd.jupyter.widget-view+json": {
       "version_major": 2,
       "version_minor": 0,
       "model_id": "43ee7ae6db794eaea127fdf699d8feeb"
      }
     },
     "metadata": {},
     "output_type": "display_data"
    },
    {
     "name": "stdout",
     "output_type": "stream",
     "text": [
      "unable to find candidates for iteration 343 236114\n"
     ]
    },
    {
     "data": {
      "text/plain": [
       "  0%|          | 0/11214 [00:00<?, ?it/s]"
      ],
      "application/vnd.jupyter.widget-view+json": {
       "version_major": 2,
       "version_minor": 0,
       "model_id": "430133d4c6e24c86a36f5147d1523ce7"
      }
     },
     "metadata": {},
     "output_type": "display_data"
    },
    {
     "name": "stdout",
     "output_type": "stream",
     "text": [
      "unable to find candidates for iteration 344 236114\n"
     ]
    },
    {
     "data": {
      "text/plain": [
       "  0%|          | 0/11011 [00:00<?, ?it/s]"
      ],
      "application/vnd.jupyter.widget-view+json": {
       "version_major": 2,
       "version_minor": 0,
       "model_id": "34feb35b64b6449f8fd971e01d2ca37b"
      }
     },
     "metadata": {},
     "output_type": "display_data"
    },
    {
     "name": "stdout",
     "output_type": "stream",
     "text": [
      "unable to find candidates for iteration 345 232987\n",
      "unable to find candidates for iteration 345 236151\n"
     ]
    },
    {
     "data": {
      "text/plain": [
       "  0%|          | 0/10580 [00:00<?, ?it/s]"
      ],
      "application/vnd.jupyter.widget-view+json": {
       "version_major": 2,
       "version_minor": 0,
       "model_id": "73d7dab9c37a429e8a3d894bb119c018"
      }
     },
     "metadata": {},
     "output_type": "display_data"
    },
    {
     "name": "stdout",
     "output_type": "stream",
     "text": [
      "unable to find candidates for iteration 346 236087\n",
      "unable to find candidates for iteration 346 236114\n",
      "unable to find candidates for iteration 346 241653\n"
     ]
    },
    {
     "data": {
      "text/plain": [
       "  0%|          | 0/10284 [00:00<?, ?it/s]"
      ],
      "application/vnd.jupyter.widget-view+json": {
       "version_major": 2,
       "version_minor": 0,
       "model_id": "d41a19925e1347f081b8c08acfde7c47"
      }
     },
     "metadata": {},
     "output_type": "display_data"
    },
    {
     "name": "stdout",
     "output_type": "stream",
     "text": [
      "unable to find candidates for iteration 347 232990\n",
      "unable to find candidates for iteration 347 235210\n",
      "unable to find candidates for iteration 347 235211\n",
      "unable to find candidates for iteration 347 241616\n"
     ]
    },
    {
     "data": {
      "text/plain": [
       "  0%|          | 0/10299 [00:00<?, ?it/s]"
      ],
      "application/vnd.jupyter.widget-view+json": {
       "version_major": 2,
       "version_minor": 0,
       "model_id": "7dcb721399ff4561a99aa10eb9278bf6"
      }
     },
     "metadata": {},
     "output_type": "display_data"
    },
    {
     "name": "stdout",
     "output_type": "stream",
     "text": [
      "unable to find candidates for iteration 348 235162\n",
      "unable to find candidates for iteration 348 235172\n",
      "unable to find candidates for iteration 348 236114\n",
      "unable to find candidates for iteration 348 236136\n"
     ]
    },
    {
     "data": {
      "text/plain": [
       "  0%|          | 0/10236 [00:00<?, ?it/s]"
      ],
      "application/vnd.jupyter.widget-view+json": {
       "version_major": 2,
       "version_minor": 0,
       "model_id": "873f91e8a7ac400293c887c16eb24999"
      }
     },
     "metadata": {},
     "output_type": "display_data"
    },
    {
     "name": "stdout",
     "output_type": "stream",
     "text": [
      "unable to find candidates for iteration 349 235191\n",
      "unable to find candidates for iteration 349 236115\n"
     ]
    },
    {
     "data": {
      "text/plain": [
       "  0%|          | 0/11876 [00:00<?, ?it/s]"
      ],
      "application/vnd.jupyter.widget-view+json": {
       "version_major": 2,
       "version_minor": 0,
       "model_id": "327415c8a42447219fba018945f80f79"
      }
     },
     "metadata": {},
     "output_type": "display_data"
    },
    {
     "name": "stdout",
     "output_type": "stream",
     "text": [
      "unable to find candidates for iteration 350 235185\n",
      "unable to find candidates for iteration 350 235191\n",
      "unable to find candidates for iteration 350 236115\n",
      "unable to find candidates for iteration 350 244606\n"
     ]
    },
    {
     "data": {
      "text/plain": [
       "  0%|          | 0/12170 [00:00<?, ?it/s]"
      ],
      "application/vnd.jupyter.widget-view+json": {
       "version_major": 2,
       "version_minor": 0,
       "model_id": "7ecb2d3f59b64db8bf3f770e4c014ecb"
      }
     },
     "metadata": {},
     "output_type": "display_data"
    },
    {
     "name": "stdout",
     "output_type": "stream",
     "text": [
      "unable to find candidates for iteration 351 236114\n",
      "unable to find candidates for iteration 351 244604\n"
     ]
    },
    {
     "data": {
      "text/plain": [
       "  0%|          | 0/11883 [00:00<?, ?it/s]"
      ],
      "application/vnd.jupyter.widget-view+json": {
       "version_major": 2,
       "version_minor": 0,
       "model_id": "439e712b93ad402d9c287cbad5f9e020"
      }
     },
     "metadata": {},
     "output_type": "display_data"
    },
    {
     "name": "stdout",
     "output_type": "stream",
     "text": [
      "unable to find candidates for iteration 352 236114\n",
      "unable to find candidates for iteration 352 241648\n",
      "unable to find candidates for iteration 352 244552\n",
      "unable to find candidates for iteration 352 244589\n"
     ]
    },
    {
     "data": {
      "text/plain": [
       "  0%|          | 0/11553 [00:00<?, ?it/s]"
      ],
      "application/vnd.jupyter.widget-view+json": {
       "version_major": 2,
       "version_minor": 0,
       "model_id": "c00406629f244c5e92350bb5f6892b2f"
      }
     },
     "metadata": {},
     "output_type": "display_data"
    },
    {
     "name": "stdout",
     "output_type": "stream",
     "text": [
      "unable to find candidates for iteration 353 236087\n",
      "unable to find candidates for iteration 353 236114\n",
      "unable to find candidates for iteration 353 241651\n",
      "unable to find candidates for iteration 353 241653\n",
      "unable to find candidates for iteration 353 243815\n"
     ]
    },
    {
     "data": {
      "text/plain": [
       "  0%|          | 0/11058 [00:00<?, ?it/s]"
      ],
      "application/vnd.jupyter.widget-view+json": {
       "version_major": 2,
       "version_minor": 0,
       "model_id": "20f30ed195be46d6889e0c6e64db85c3"
      }
     },
     "metadata": {},
     "output_type": "display_data"
    },
    {
     "name": "stdout",
     "output_type": "stream",
     "text": [
      "unable to find candidates for iteration 354 241650\n",
      "unable to find candidates for iteration 354 243726\n",
      "unable to find candidates for iteration 354 243768\n",
      "unable to find candidates for iteration 354 244548\n"
     ]
    },
    {
     "data": {
      "text/plain": [
       "  0%|          | 0/11081 [00:00<?, ?it/s]"
      ],
      "application/vnd.jupyter.widget-view+json": {
       "version_major": 2,
       "version_minor": 0,
       "model_id": "028f5ec3fec34899ab24c90bf02878ce"
      }
     },
     "metadata": {},
     "output_type": "display_data"
    },
    {
     "name": "stdout",
     "output_type": "stream",
     "text": [
      "unable to find candidates for iteration 355 241591\n",
      "unable to find candidates for iteration 355 241617\n",
      "unable to find candidates for iteration 355 243783\n",
      "unable to find candidates for iteration 355 244562\n"
     ]
    },
    {
     "data": {
      "text/plain": [
       "  0%|          | 0/11036 [00:00<?, ?it/s]"
      ],
      "application/vnd.jupyter.widget-view+json": {
       "version_major": 2,
       "version_minor": 0,
       "model_id": "88bf541cc3874d2abb61d2680bd8e6bb"
      }
     },
     "metadata": {},
     "output_type": "display_data"
    },
    {
     "data": {
      "text/plain": [
       "  0%|          | 0/11073 [00:00<?, ?it/s]"
      ],
      "application/vnd.jupyter.widget-view+json": {
       "version_major": 2,
       "version_minor": 0,
       "model_id": "dad252e1a2f64ef9b86075d14e9b3215"
      }
     },
     "metadata": {},
     "output_type": "display_data"
    },
    {
     "name": "stdout",
     "output_type": "stream",
     "text": [
      "unable to find candidates for iteration 357 243778\n",
      "unable to find candidates for iteration 357 243818\n",
      "unable to find candidates for iteration 357 244560\n"
     ]
    },
    {
     "data": {
      "text/plain": [
       "  0%|          | 0/12448 [00:00<?, ?it/s]"
      ],
      "application/vnd.jupyter.widget-view+json": {
       "version_major": 2,
       "version_minor": 0,
       "model_id": "f66e33046ff14bafb516496df10f0d3d"
      }
     },
     "metadata": {},
     "output_type": "display_data"
    },
    {
     "name": "stdout",
     "output_type": "stream",
     "text": [
      "unable to find candidates for iteration 358 243795\n",
      "unable to find candidates for iteration 358 243798\n",
      "unable to find candidates for iteration 358 243809\n",
      "unable to find candidates for iteration 358 244601\n",
      "unable to find candidates for iteration 358 244602\n",
      "unable to find candidates for iteration 358 244797\n",
      "unable to find candidates for iteration 358 244833\n"
     ]
    },
    {
     "data": {
      "text/plain": [
       "  0%|          | 0/12451 [00:00<?, ?it/s]"
      ],
      "application/vnd.jupyter.widget-view+json": {
       "version_major": 2,
       "version_minor": 0,
       "model_id": "bd91303545f74c848d2dd335c0082f69"
      }
     },
     "metadata": {},
     "output_type": "display_data"
    },
    {
     "name": "stdout",
     "output_type": "stream",
     "text": [
      "unable to find candidates for iteration 359 241626\n",
      "unable to find candidates for iteration 359 243760\n",
      "unable to find candidates for iteration 359 243803\n",
      "unable to find candidates for iteration 359 244593\n",
      "unable to find candidates for iteration 359 244840\n"
     ]
    },
    {
     "data": {
      "text/plain": [
       "  0%|          | 0/12515 [00:00<?, ?it/s]"
      ],
      "application/vnd.jupyter.widget-view+json": {
       "version_major": 2,
       "version_minor": 0,
       "model_id": "803c7250a468419dae4277408aaeb15a"
      }
     },
     "metadata": {},
     "output_type": "display_data"
    },
    {
     "name": "stdout",
     "output_type": "stream",
     "text": [
      "unable to find candidates for iteration 360 241641\n",
      "unable to find candidates for iteration 360 243774\n",
      "unable to find candidates for iteration 360 243798\n",
      "unable to find candidates for iteration 360 243812\n",
      "unable to find candidates for iteration 360 244602\n"
     ]
    },
    {
     "data": {
      "text/plain": [
       "  0%|          | 0/12948 [00:00<?, ?it/s]"
      ],
      "application/vnd.jupyter.widget-view+json": {
       "version_major": 2,
       "version_minor": 0,
       "model_id": "eec69dc072c5468c85f25aa24f27b0a7"
      }
     },
     "metadata": {},
     "output_type": "display_data"
    },
    {
     "name": "stdout",
     "output_type": "stream",
     "text": [
      "unable to find candidates for iteration 361 241596\n",
      "unable to find candidates for iteration 361 243760\n",
      "unable to find candidates for iteration 361 243803\n",
      "unable to find candidates for iteration 361 244549\n",
      "unable to find candidates for iteration 361 244840\n"
     ]
    },
    {
     "data": {
      "text/plain": [
       "  0%|          | 0/13005 [00:00<?, ?it/s]"
      ],
      "application/vnd.jupyter.widget-view+json": {
       "version_major": 2,
       "version_minor": 0,
       "model_id": "87cf0fd3800c420eb57380ef91b46c08"
      }
     },
     "metadata": {},
     "output_type": "display_data"
    },
    {
     "name": "stdout",
     "output_type": "stream",
     "text": [
      "unable to find candidates for iteration 362 243784\n",
      "unable to find candidates for iteration 362 243798\n",
      "unable to find candidates for iteration 362 243799\n",
      "unable to find candidates for iteration 362 244615\n",
      "unable to find candidates for iteration 362 244837\n",
      "unable to find candidates for iteration 362 247974\n",
      "unable to find candidates for iteration 362 247976\n",
      "unable to find candidates for iteration 362 247981\n",
      "unable to find candidates for iteration 362 247982\n"
     ]
    },
    {
     "data": {
      "text/plain": [
       "  0%|          | 0/13128 [00:00<?, ?it/s]"
      ],
      "application/vnd.jupyter.widget-view+json": {
       "version_major": 2,
       "version_minor": 0,
       "model_id": "7f66e060d8864e3695051c951bb81111"
      }
     },
     "metadata": {},
     "output_type": "display_data"
    },
    {
     "name": "stdout",
     "output_type": "stream",
     "text": [
      "unable to find candidates for iteration 363 243704\n",
      "unable to find candidates for iteration 363 243799\n",
      "unable to find candidates for iteration 363 243800\n",
      "unable to find candidates for iteration 363 244526\n",
      "unable to find candidates for iteration 363 244527\n",
      "unable to find candidates for iteration 363 244590\n",
      "unable to find candidates for iteration 363 247952\n"
     ]
    },
    {
     "data": {
      "text/plain": [
       "  0%|          | 0/13134 [00:00<?, ?it/s]"
      ],
      "application/vnd.jupyter.widget-view+json": {
       "version_major": 2,
       "version_minor": 0,
       "model_id": "35e069448f2b4327b3d77d7b9cb78461"
      }
     },
     "metadata": {},
     "output_type": "display_data"
    },
    {
     "name": "stdout",
     "output_type": "stream",
     "text": [
      "unable to find candidates for iteration 364 243767\n",
      "unable to find candidates for iteration 364 243770\n",
      "unable to find candidates for iteration 364 243784\n",
      "unable to find candidates for iteration 364 243803\n",
      "unable to find candidates for iteration 364 243810\n",
      "unable to find candidates for iteration 364 244549\n",
      "unable to find candidates for iteration 364 244584\n",
      "unable to find candidates for iteration 364 244793\n",
      "unable to find candidates for iteration 364 244826\n",
      "unable to find candidates for iteration 364 244840\n"
     ]
    },
    {
     "data": {
      "text/plain": [
       "  0%|          | 0/13307 [00:00<?, ?it/s]"
      ],
      "application/vnd.jupyter.widget-view+json": {
       "version_major": 2,
       "version_minor": 0,
       "model_id": "334a1d912bde40faad5f76b3df64debe"
      }
     },
     "metadata": {},
     "output_type": "display_data"
    },
    {
     "name": "stdout",
     "output_type": "stream",
     "text": [
      "unable to find candidates for iteration 365 243758\n",
      "unable to find candidates for iteration 365 243770\n",
      "unable to find candidates for iteration 365 243799\n",
      "unable to find candidates for iteration 365 244615\n",
      "unable to find candidates for iteration 365 244837\n"
     ]
    },
    {
     "data": {
      "text/plain": [
       "  0%|          | 0/13738 [00:00<?, ?it/s]"
      ],
      "application/vnd.jupyter.widget-view+json": {
       "version_major": 2,
       "version_minor": 0,
       "model_id": "e4c5120e9c2242178db0f498fd6003ed"
      }
     },
     "metadata": {},
     "output_type": "display_data"
    },
    {
     "name": "stdout",
     "output_type": "stream",
     "text": [
      "unable to find candidates for iteration 366 243785\n",
      "unable to find candidates for iteration 366 243798\n",
      "unable to find candidates for iteration 366 244578\n",
      "unable to find candidates for iteration 366 247964\n",
      "unable to find candidates for iteration 366 254779\n"
     ]
    },
    {
     "data": {
      "text/plain": [
       "  0%|          | 0/13476 [00:00<?, ?it/s]"
      ],
      "application/vnd.jupyter.widget-view+json": {
       "version_major": 2,
       "version_minor": 0,
       "model_id": "45230091da2e4e21bc8c12d6f3073542"
      }
     },
     "metadata": {},
     "output_type": "display_data"
    },
    {
     "name": "stdout",
     "output_type": "stream",
     "text": [
      "unable to find candidates for iteration 367 243747\n",
      "unable to find candidates for iteration 367 243748\n",
      "unable to find candidates for iteration 367 243749\n",
      "unable to find candidates for iteration 367 243803\n",
      "unable to find candidates for iteration 367 243817\n",
      "unable to find candidates for iteration 367 244566\n",
      "unable to find candidates for iteration 367 244825\n",
      "unable to find candidates for iteration 367 244840\n",
      "unable to find candidates for iteration 367 247980\n"
     ]
    },
    {
     "data": {
      "text/plain": [
       "  0%|          | 0/13095 [00:00<?, ?it/s]"
      ],
      "application/vnd.jupyter.widget-view+json": {
       "version_major": 2,
       "version_minor": 0,
       "model_id": "7e9a2bf36f4e4baebd340be7971f3cbf"
      }
     },
     "metadata": {},
     "output_type": "display_data"
    },
    {
     "name": "stdout",
     "output_type": "stream",
     "text": [
      "unable to find candidates for iteration 368 244593\n",
      "unable to find candidates for iteration 368 244840\n"
     ]
    },
    {
     "data": {
      "text/plain": [
       "  0%|          | 0/13539 [00:00<?, ?it/s]"
      ],
      "application/vnd.jupyter.widget-view+json": {
       "version_major": 2,
       "version_minor": 0,
       "model_id": "1f6a1e78a3a449c5a921849485279ef2"
      }
     },
     "metadata": {},
     "output_type": "display_data"
    },
    {
     "name": "stdout",
     "output_type": "stream",
     "text": [
      "unable to find candidates for iteration 369 247951\n",
      "unable to find candidates for iteration 369 247986\n",
      "unable to find candidates for iteration 369 254779\n"
     ]
    },
    {
     "data": {
      "text/plain": [
       "  0%|          | 0/13607 [00:00<?, ?it/s]"
      ],
      "application/vnd.jupyter.widget-view+json": {
       "version_major": 2,
       "version_minor": 0,
       "model_id": "0d0ea1b5a95a494f8b5c62080514346a"
      }
     },
     "metadata": {},
     "output_type": "display_data"
    },
    {
     "data": {
      "text/plain": [
       "  0%|          | 0/13735 [00:00<?, ?it/s]"
      ],
      "application/vnd.jupyter.widget-view+json": {
       "version_major": 2,
       "version_minor": 0,
       "model_id": "5701be2034004064a2838379b2c0667a"
      }
     },
     "metadata": {},
     "output_type": "display_data"
    },
    {
     "data": {
      "text/plain": [
       "  0%|          | 0/14102 [00:00<?, ?it/s]"
      ],
      "application/vnd.jupyter.widget-view+json": {
       "version_major": 2,
       "version_minor": 0,
       "model_id": "c9c6cab7c51a4b3687e05888bb9b6b60"
      }
     },
     "metadata": {},
     "output_type": "display_data"
    },
    {
     "name": "stdout",
     "output_type": "stream",
     "text": [
      "unable to find candidates for iteration 372 254960\n",
      "unable to find candidates for iteration 372 259363\n"
     ]
    },
    {
     "data": {
      "text/plain": [
       "  0%|          | 0/14867 [00:00<?, ?it/s]"
      ],
      "application/vnd.jupyter.widget-view+json": {
       "version_major": 2,
       "version_minor": 0,
       "model_id": "f84c5208efc74d6dabec84641d6d5510"
      }
     },
     "metadata": {},
     "output_type": "display_data"
    },
    {
     "name": "stdout",
     "output_type": "stream",
     "text": [
      "unable to find candidates for iteration 373 254779\n",
      "unable to find candidates for iteration 373 254930\n",
      "unable to find candidates for iteration 373 254948\n",
      "unable to find candidates for iteration 373 261771\n"
     ]
    },
    {
     "data": {
      "text/plain": [
       "  0%|          | 0/14869 [00:00<?, ?it/s]"
      ],
      "application/vnd.jupyter.widget-view+json": {
       "version_major": 2,
       "version_minor": 0,
       "model_id": "a95ae188b9134074b832ddd3a803d335"
      }
     },
     "metadata": {},
     "output_type": "display_data"
    },
    {
     "name": "stdout",
     "output_type": "stream",
     "text": [
      "unable to find candidates for iteration 374 254779\n",
      "unable to find candidates for iteration 374 254930\n",
      "unable to find candidates for iteration 374 254948\n",
      "unable to find candidates for iteration 374 261743\n",
      "unable to find candidates for iteration 374 261766\n",
      "unable to find candidates for iteration 374 261771\n"
     ]
    },
    {
     "data": {
      "text/plain": [
       "  0%|          | 0/14846 [00:00<?, ?it/s]"
      ],
      "application/vnd.jupyter.widget-view+json": {
       "version_major": 2,
       "version_minor": 0,
       "model_id": "a7995ff04e10419b97e98fcbaf30663b"
      }
     },
     "metadata": {},
     "output_type": "display_data"
    },
    {
     "name": "stdout",
     "output_type": "stream",
     "text": [
      "unable to find candidates for iteration 375 254939\n",
      "unable to find candidates for iteration 375 259431\n",
      "unable to find candidates for iteration 375 261799\n"
     ]
    },
    {
     "data": {
      "text/plain": [
       "  0%|          | 0/14625 [00:00<?, ?it/s]"
      ],
      "application/vnd.jupyter.widget-view+json": {
       "version_major": 2,
       "version_minor": 0,
       "model_id": "1f557041edcb4d929fbcf17dc05542b1"
      }
     },
     "metadata": {},
     "output_type": "display_data"
    },
    {
     "name": "stdout",
     "output_type": "stream",
     "text": [
      "unable to find candidates for iteration 376 254925\n",
      "unable to find candidates for iteration 376 261799\n"
     ]
    },
    {
     "data": {
      "text/plain": [
       "  0%|          | 0/14613 [00:00<?, ?it/s]"
      ],
      "application/vnd.jupyter.widget-view+json": {
       "version_major": 2,
       "version_minor": 0,
       "model_id": "c40b6c61c2164f98a51d2fef60eaaf31"
      }
     },
     "metadata": {},
     "output_type": "display_data"
    },
    {
     "name": "stdout",
     "output_type": "stream",
     "text": [
      "unable to find candidates for iteration 377 259436\n",
      "unable to find candidates for iteration 377 261796\n"
     ]
    },
    {
     "data": {
      "text/plain": [
       "  0%|          | 0/14612 [00:00<?, ?it/s]"
      ],
      "application/vnd.jupyter.widget-view+json": {
       "version_major": 2,
       "version_minor": 0,
       "model_id": "52b981d2647c4891ad5efe7e5043fdd1"
      }
     },
     "metadata": {},
     "output_type": "display_data"
    },
    {
     "name": "stdout",
     "output_type": "stream",
     "text": [
      "unable to find candidates for iteration 378 254925\n",
      "unable to find candidates for iteration 378 261796\n"
     ]
    },
    {
     "data": {
      "text/plain": [
       "  0%|          | 0/14606 [00:00<?, ?it/s]"
      ],
      "application/vnd.jupyter.widget-view+json": {
       "version_major": 2,
       "version_minor": 0,
       "model_id": "7bdfe8022a3548e68ff1ee5452319270"
      }
     },
     "metadata": {},
     "output_type": "display_data"
    },
    {
     "name": "stdout",
     "output_type": "stream",
     "text": [
      "unable to find candidates for iteration 379 259415\n",
      "unable to find candidates for iteration 379 261811\n",
      "unable to find candidates for iteration 379 261830\n"
     ]
    },
    {
     "data": {
      "text/plain": [
       "  0%|          | 0/14180 [00:00<?, ?it/s]"
      ],
      "application/vnd.jupyter.widget-view+json": {
       "version_major": 2,
       "version_minor": 0,
       "model_id": "3844e76d33ef48f2a964a6302ea8cd8c"
      }
     },
     "metadata": {},
     "output_type": "display_data"
    },
    {
     "name": "stdout",
     "output_type": "stream",
     "text": [
      "unable to find candidates for iteration 380 254930\n",
      "unable to find candidates for iteration 380 261811\n"
     ]
    },
    {
     "data": {
      "text/plain": [
       "  0%|          | 0/14063 [00:00<?, ?it/s]"
      ],
      "application/vnd.jupyter.widget-view+json": {
       "version_major": 2,
       "version_minor": 0,
       "model_id": "20bb055494da4a9dacacda51176d4dd4"
      }
     },
     "metadata": {},
     "output_type": "display_data"
    },
    {
     "name": "stdout",
     "output_type": "stream",
     "text": [
      "unable to find candidates for iteration 381 254930\n",
      "unable to find candidates for iteration 381 261798\n"
     ]
    },
    {
     "data": {
      "text/plain": [
       "  0%|          | 0/14116 [00:00<?, ?it/s]"
      ],
      "application/vnd.jupyter.widget-view+json": {
       "version_major": 2,
       "version_minor": 0,
       "model_id": "cf8dfbe5954e426cad5f0ce649d4e1d0"
      }
     },
     "metadata": {},
     "output_type": "display_data"
    },
    {
     "name": "stdout",
     "output_type": "stream",
     "text": [
      "unable to find candidates for iteration 382 259343\n"
     ]
    },
    {
     "data": {
      "text/plain": [
       "  0%|          | 0/14116 [00:00<?, ?it/s]"
      ],
      "application/vnd.jupyter.widget-view+json": {
       "version_major": 2,
       "version_minor": 0,
       "model_id": "24d5b39d8d904788bebed95d345121b7"
      }
     },
     "metadata": {},
     "output_type": "display_data"
    },
    {
     "data": {
      "text/plain": [
       "  0%|          | 0/14080 [00:00<?, ?it/s]"
      ],
      "application/vnd.jupyter.widget-view+json": {
       "version_major": 2,
       "version_minor": 0,
       "model_id": "c2f92dbb3c1c437182ab71e72ead3ce2"
      }
     },
     "metadata": {},
     "output_type": "display_data"
    },
    {
     "name": "stdout",
     "output_type": "stream",
     "text": [
      "unable to find candidates for iteration 384 254946\n"
     ]
    },
    {
     "data": {
      "text/plain": [
       "  0%|          | 0/13721 [00:00<?, ?it/s]"
      ],
      "application/vnd.jupyter.widget-view+json": {
       "version_major": 2,
       "version_minor": 0,
       "model_id": "c37b843e90e0417e92b99e797bfc64cc"
      }
     },
     "metadata": {},
     "output_type": "display_data"
    },
    {
     "name": "stdout",
     "output_type": "stream",
     "text": [
      "unable to find candidates for iteration 385 259339\n"
     ]
    },
    {
     "data": {
      "text/plain": [
       "  0%|          | 0/13487 [00:00<?, ?it/s]"
      ],
      "application/vnd.jupyter.widget-view+json": {
       "version_major": 2,
       "version_minor": 0,
       "model_id": "9857431034644b7c94ef44b992c0bd7f"
      }
     },
     "metadata": {},
     "output_type": "display_data"
    },
    {
     "name": "stdout",
     "output_type": "stream",
     "text": [
      "unable to find candidates for iteration 386 259430\n"
     ]
    },
    {
     "data": {
      "text/plain": [
       "  0%|          | 0/13396 [00:00<?, ?it/s]"
      ],
      "application/vnd.jupyter.widget-view+json": {
       "version_major": 2,
       "version_minor": 0,
       "model_id": "5426c424cb484d0caa2108f5aa500c0d"
      }
     },
     "metadata": {},
     "output_type": "display_data"
    },
    {
     "name": "stdout",
     "output_type": "stream",
     "text": [
      "unable to find candidates for iteration 387 254950\n",
      "unable to find candidates for iteration 387 261744\n",
      "unable to find candidates for iteration 387 261794\n"
     ]
    },
    {
     "data": {
      "text/plain": [
       "  0%|          | 0/13203 [00:00<?, ?it/s]"
      ],
      "application/vnd.jupyter.widget-view+json": {
       "version_major": 2,
       "version_minor": 0,
       "model_id": "aa41a9a95d414ceaa79d0b9494d5c835"
      }
     },
     "metadata": {},
     "output_type": "display_data"
    },
    {
     "name": "stdout",
     "output_type": "stream",
     "text": [
      "unable to find candidates for iteration 388 254788\n",
      "unable to find candidates for iteration 388 254916\n",
      "unable to find candidates for iteration 388 254945\n",
      "unable to find candidates for iteration 388 261883\n"
     ]
    },
    {
     "data": {
      "text/plain": [
       "  0%|          | 0/13232 [00:00<?, ?it/s]"
      ],
      "application/vnd.jupyter.widget-view+json": {
       "version_major": 2,
       "version_minor": 0,
       "model_id": "3debdf46fe214712a8ccd479d07707fc"
      }
     },
     "metadata": {},
     "output_type": "display_data"
    },
    {
     "name": "stdout",
     "output_type": "stream",
     "text": [
      "unable to find candidates for iteration 389 254779\n",
      "unable to find candidates for iteration 389 254930\n",
      "unable to find candidates for iteration 389 261743\n",
      "unable to find candidates for iteration 389 261771\n"
     ]
    },
    {
     "data": {
      "text/plain": [
       "  0%|          | 0/12925 [00:00<?, ?it/s]"
      ],
      "application/vnd.jupyter.widget-view+json": {
       "version_major": 2,
       "version_minor": 0,
       "model_id": "4111cd7063cb4eb3a0a0974bdee722b1"
      }
     },
     "metadata": {},
     "output_type": "display_data"
    },
    {
     "name": "stdout",
     "output_type": "stream",
     "text": [
      "unable to find candidates for iteration 390 259431\n",
      "unable to find candidates for iteration 390 261799\n"
     ]
    },
    {
     "data": {
      "text/plain": [
       "  0%|          | 0/23275 [00:00<?, ?it/s]"
      ],
      "application/vnd.jupyter.widget-view+json": {
       "version_major": 2,
       "version_minor": 0,
       "model_id": "45ac3676c4db4b26aa6e371186c33664"
      }
     },
     "metadata": {},
     "output_type": "display_data"
    },
    {
     "name": "stdout",
     "output_type": "stream",
     "text": [
      "unable to find candidates for iteration 391 261782\n",
      "unable to find candidates for iteration 391 261791\n"
     ]
    },
    {
     "data": {
      "text/plain": [
       "  0%|          | 0/13737 [00:00<?, ?it/s]"
      ],
      "application/vnd.jupyter.widget-view+json": {
       "version_major": 2,
       "version_minor": 0,
       "model_id": "ce3e556fcb14428fb64d9ac7073051d6"
      }
     },
     "metadata": {},
     "output_type": "display_data"
    },
    {
     "name": "stdout",
     "output_type": "stream",
     "text": [
      "unable to find candidates for iteration 392 261883\n"
     ]
    },
    {
     "data": {
      "text/plain": [
       "  0%|          | 0/12696 [00:00<?, ?it/s]"
      ],
      "application/vnd.jupyter.widget-view+json": {
       "version_major": 2,
       "version_minor": 0,
       "model_id": "5c66170e5147475291d6760e28dda191"
      }
     },
     "metadata": {},
     "output_type": "display_data"
    },
    {
     "name": "stdout",
     "output_type": "stream",
     "text": [
      "unable to find candidates for iteration 393 261883\n"
     ]
    },
    {
     "data": {
      "text/plain": [
       "  0%|          | 0/28097 [00:00<?, ?it/s]"
      ],
      "application/vnd.jupyter.widget-view+json": {
       "version_major": 2,
       "version_minor": 0,
       "model_id": "5b25a42962a84427b96a0a611bcb7a8e"
      }
     },
     "metadata": {},
     "output_type": "display_data"
    },
    {
     "data": {
      "text/plain": [
       "  0%|          | 0/27693 [00:00<?, ?it/s]"
      ],
      "application/vnd.jupyter.widget-view+json": {
       "version_major": 2,
       "version_minor": 0,
       "model_id": "49391231e8af4023b4a976306287c421"
      }
     },
     "metadata": {},
     "output_type": "display_data"
    },
    {
     "name": "stdout",
     "output_type": "stream",
     "text": [
      "unable to find candidates for iteration 395 261772\n",
      "unable to find candidates for iteration 395 261781\n",
      "unable to find candidates for iteration 395 274428\n",
      "unable to find candidates for iteration 395 286112\n"
     ]
    },
    {
     "data": {
      "text/plain": [
       "  0%|          | 0/11292 [00:00<?, ?it/s]"
      ],
      "application/vnd.jupyter.widget-view+json": {
       "version_major": 2,
       "version_minor": 0,
       "model_id": "c3e86a22891a4656a528e255557c23bc"
      }
     },
     "metadata": {},
     "output_type": "display_data"
    },
    {
     "name": "stdout",
     "output_type": "stream",
     "text": [
      "unable to find candidates for iteration 396 270158\n"
     ]
    },
    {
     "data": {
      "text/plain": [
       "  0%|          | 0/10427 [00:00<?, ?it/s]"
      ],
      "application/vnd.jupyter.widget-view+json": {
       "version_major": 2,
       "version_minor": 0,
       "model_id": "eb11f0c749314ff89d00102da593c5ab"
      }
     },
     "metadata": {},
     "output_type": "display_data"
    },
    {
     "name": "stdout",
     "output_type": "stream",
     "text": [
      "unable to find candidates for iteration 397 261871\n",
      "unable to find candidates for iteration 397 270147\n"
     ]
    },
    {
     "data": {
      "text/plain": [
       "  0%|          | 0/8927 [00:00<?, ?it/s]"
      ],
      "application/vnd.jupyter.widget-view+json": {
       "version_major": 2,
       "version_minor": 0,
       "model_id": "a8df24468aa44cc4b5a0b95e2dd32219"
      }
     },
     "metadata": {},
     "output_type": "display_data"
    },
    {
     "data": {
      "text/plain": [
       "  0%|          | 0/12273 [00:00<?, ?it/s]"
      ],
      "application/vnd.jupyter.widget-view+json": {
       "version_major": 2,
       "version_minor": 0,
       "model_id": "41cea0a73945476991fa87eed3ff8981"
      }
     },
     "metadata": {},
     "output_type": "display_data"
    },
    {
     "name": "stdout",
     "output_type": "stream",
     "text": [
      "unable to find candidates for iteration 399 270219\n",
      "unable to find candidates for iteration 399 274487\n"
     ]
    },
    {
     "data": {
      "text/plain": [
       "  0%|          | 0/12841 [00:00<?, ?it/s]"
      ],
      "application/vnd.jupyter.widget-view+json": {
       "version_major": 2,
       "version_minor": 0,
       "model_id": "732300e79a5d42c58cacd97513334370"
      }
     },
     "metadata": {},
     "output_type": "display_data"
    },
    {
     "name": "stdout",
     "output_type": "stream",
     "text": [
      "unable to find candidates for iteration 400 270193\n"
     ]
    },
    {
     "data": {
      "text/plain": [
       "  0%|          | 0/14878 [00:00<?, ?it/s]"
      ],
      "application/vnd.jupyter.widget-view+json": {
       "version_major": 2,
       "version_minor": 0,
       "model_id": "86720b331e854340be9de4441fe7daa6"
      }
     },
     "metadata": {},
     "output_type": "display_data"
    },
    {
     "data": {
      "text/plain": [
       "  0%|          | 0/14033 [00:00<?, ?it/s]"
      ],
      "application/vnd.jupyter.widget-view+json": {
       "version_major": 2,
       "version_minor": 0,
       "model_id": "a35d138a09654b9e9704b9e5ef54ac7c"
      }
     },
     "metadata": {},
     "output_type": "display_data"
    },
    {
     "name": "stdout",
     "output_type": "stream",
     "text": [
      "unable to find candidates for iteration 402 274395\n",
      "unable to find candidates for iteration 402 274437\n"
     ]
    },
    {
     "data": {
      "text/plain": [
       "  0%|          | 0/14168 [00:00<?, ?it/s]"
      ],
      "application/vnd.jupyter.widget-view+json": {
       "version_major": 2,
       "version_minor": 0,
       "model_id": "5e338f79db15446393554cd62a1972fb"
      }
     },
     "metadata": {},
     "output_type": "display_data"
    },
    {
     "name": "stdout",
     "output_type": "stream",
     "text": [
      "unable to find candidates for iteration 403 278162\n"
     ]
    },
    {
     "data": {
      "text/plain": [
       "  0%|          | 0/14304 [00:00<?, ?it/s]"
      ],
      "application/vnd.jupyter.widget-view+json": {
       "version_major": 2,
       "version_minor": 0,
       "model_id": "0c0aa3691f104231841826cfd9b7400c"
      }
     },
     "metadata": {},
     "output_type": "display_data"
    },
    {
     "name": "stdout",
     "output_type": "stream",
     "text": [
      "unable to find candidates for iteration 404 268838\n",
      "unable to find candidates for iteration 404 270182\n",
      "unable to find candidates for iteration 404 278159\n",
      "unable to find candidates for iteration 404 278162\n"
     ]
    },
    {
     "data": {
      "text/plain": [
       "  0%|          | 0/14133 [00:00<?, ?it/s]"
      ],
      "application/vnd.jupyter.widget-view+json": {
       "version_major": 2,
       "version_minor": 0,
       "model_id": "e7162ddb25324a47852dc0d160d4a9e2"
      }
     },
     "metadata": {},
     "output_type": "display_data"
    },
    {
     "name": "stdout",
     "output_type": "stream",
     "text": [
      "unable to find candidates for iteration 405 270218\n",
      "unable to find candidates for iteration 405 270219\n",
      "unable to find candidates for iteration 405 274436\n",
      "unable to find candidates for iteration 405 278153\n",
      "unable to find candidates for iteration 405 278211\n"
     ]
    },
    {
     "data": {
      "text/plain": [
       "  0%|          | 0/27547 [00:00<?, ?it/s]"
      ],
      "application/vnd.jupyter.widget-view+json": {
       "version_major": 2,
       "version_minor": 0,
       "model_id": "66c0458d8c60430e88b97bc489f5c51a"
      }
     },
     "metadata": {},
     "output_type": "display_data"
    },
    {
     "name": "stdout",
     "output_type": "stream",
     "text": [
      "unable to find candidates for iteration 406 274501\n",
      "unable to find candidates for iteration 406 278192\n",
      "unable to find candidates for iteration 406 278199\n",
      "unable to find candidates for iteration 406 286114\n",
      "unable to find candidates for iteration 406 295579\n",
      "unable to find candidates for iteration 406 295584\n",
      "unable to find candidates for iteration 406 295589\n",
      "unable to find candidates for iteration 406 295596\n"
     ]
    },
    {
     "data": {
      "text/plain": [
       "  0%|          | 0/20970 [00:00<?, ?it/s]"
      ],
      "application/vnd.jupyter.widget-view+json": {
       "version_major": 2,
       "version_minor": 0,
       "model_id": "5d4eead1ef1b48ed907b7fe29a035958"
      }
     },
     "metadata": {},
     "output_type": "display_data"
    },
    {
     "name": "stdout",
     "output_type": "stream",
     "text": [
      "unable to find candidates for iteration 407 274466\n",
      "unable to find candidates for iteration 407 286100\n",
      "unable to find candidates for iteration 407 286116\n",
      "unable to find candidates for iteration 407 286117\n"
     ]
    },
    {
     "data": {
      "text/plain": [
       "  0%|          | 0/13573 [00:00<?, ?it/s]"
      ],
      "application/vnd.jupyter.widget-view+json": {
       "version_major": 2,
       "version_minor": 0,
       "model_id": "4cdfc32bb3c5469db2fbc6bb3a4583b1"
      }
     },
     "metadata": {},
     "output_type": "display_data"
    },
    {
     "name": "stdout",
     "output_type": "stream",
     "text": [
      "unable to find candidates for iteration 408 274437\n",
      "unable to find candidates for iteration 408 278170\n"
     ]
    },
    {
     "data": {
      "text/plain": [
       "  0%|          | 0/13472 [00:00<?, ?it/s]"
      ],
      "application/vnd.jupyter.widget-view+json": {
       "version_major": 2,
       "version_minor": 0,
       "model_id": "8bb11ce364ad463398f215d9b4e6093b"
      }
     },
     "metadata": {},
     "output_type": "display_data"
    },
    {
     "name": "stdout",
     "output_type": "stream",
     "text": [
      "unable to find candidates for iteration 409 274384\n"
     ]
    },
    {
     "data": {
      "text/plain": [
       "  0%|          | 0/13434 [00:00<?, ?it/s]"
      ],
      "application/vnd.jupyter.widget-view+json": {
       "version_major": 2,
       "version_minor": 0,
       "model_id": "d546ea7ab0c04a908dd5635fd9f7c901"
      }
     },
     "metadata": {},
     "output_type": "display_data"
    },
    {
     "name": "stdout",
     "output_type": "stream",
     "text": [
      "unable to find candidates for iteration 410 274385\n"
     ]
    },
    {
     "data": {
      "text/plain": [
       "  0%|          | 0/13422 [00:00<?, ?it/s]"
      ],
      "application/vnd.jupyter.widget-view+json": {
       "version_major": 2,
       "version_minor": 0,
       "model_id": "ae3e416c6f704001a3651e75b467c4f2"
      }
     },
     "metadata": {},
     "output_type": "display_data"
    },
    {
     "name": "stdout",
     "output_type": "stream",
     "text": [
      "unable to find candidates for iteration 411 274388\n",
      "unable to find candidates for iteration 411 276230\n"
     ]
    },
    {
     "data": {
      "text/plain": [
       "  0%|          | 0/13410 [00:00<?, ?it/s]"
      ],
      "application/vnd.jupyter.widget-view+json": {
       "version_major": 2,
       "version_minor": 0,
       "model_id": "279d27cc4c2d46e09c33a53a79f59682"
      }
     },
     "metadata": {},
     "output_type": "display_data"
    },
    {
     "name": "stdout",
     "output_type": "stream",
     "text": [
      "unable to find candidates for iteration 412 274436\n",
      "unable to find candidates for iteration 412 276185\n",
      "unable to find candidates for iteration 412 276270\n"
     ]
    },
    {
     "data": {
      "text/plain": [
       "  0%|          | 0/13398 [00:00<?, ?it/s]"
      ],
      "application/vnd.jupyter.widget-view+json": {
       "version_major": 2,
       "version_minor": 0,
       "model_id": "82e3cd48d6ca4a27b7f6f3ed95e7ae4f"
      }
     },
     "metadata": {},
     "output_type": "display_data"
    },
    {
     "name": "stdout",
     "output_type": "stream",
     "text": [
      "unable to find candidates for iteration 413 274427\n",
      "unable to find candidates for iteration 413 276185\n"
     ]
    },
    {
     "data": {
      "text/plain": [
       "  0%|          | 0/13396 [00:00<?, ?it/s]"
      ],
      "application/vnd.jupyter.widget-view+json": {
       "version_major": 2,
       "version_minor": 0,
       "model_id": "dd71319bc26e4c3db4a3ec0f956c029d"
      }
     },
     "metadata": {},
     "output_type": "display_data"
    },
    {
     "name": "stdout",
     "output_type": "stream",
     "text": [
      "unable to find candidates for iteration 414 276212\n"
     ]
    },
    {
     "data": {
      "text/plain": [
       "  0%|          | 0/13343 [00:00<?, ?it/s]"
      ],
      "application/vnd.jupyter.widget-view+json": {
       "version_major": 2,
       "version_minor": 0,
       "model_id": "1ad453ab09bb4e598fd6e80d3583ef8c"
      }
     },
     "metadata": {},
     "output_type": "display_data"
    },
    {
     "name": "stdout",
     "output_type": "stream",
     "text": [
      "unable to find candidates for iteration 415 276261\n",
      "unable to find candidates for iteration 415 276280\n"
     ]
    },
    {
     "data": {
      "text/plain": [
       "  0%|          | 0/13424 [00:00<?, ?it/s]"
      ],
      "application/vnd.jupyter.widget-view+json": {
       "version_major": 2,
       "version_minor": 0,
       "model_id": "ddacde96ffdf48499a89ffe1482c4bdc"
      }
     },
     "metadata": {},
     "output_type": "display_data"
    },
    {
     "name": "stdout",
     "output_type": "stream",
     "text": [
      "unable to find candidates for iteration 416 276283\n",
      "unable to find candidates for iteration 416 276297\n",
      "unable to find candidates for iteration 416 276349\n",
      "unable to find candidates for iteration 416 276406\n",
      "unable to find candidates for iteration 416 278166\n",
      "unable to find candidates for iteration 416 278192\n",
      "unable to find candidates for iteration 416 278239\n"
     ]
    },
    {
     "data": {
      "text/plain": [
       "  0%|          | 0/13429 [00:00<?, ?it/s]"
      ],
      "application/vnd.jupyter.widget-view+json": {
       "version_major": 2,
       "version_minor": 0,
       "model_id": "2ef4d90df9664a6babe1d023b93b6c46"
      }
     },
     "metadata": {},
     "output_type": "display_data"
    },
    {
     "name": "stdout",
     "output_type": "stream",
     "text": [
      "unable to find candidates for iteration 417 276283\n",
      "unable to find candidates for iteration 417 276297\n",
      "unable to find candidates for iteration 417 276349\n",
      "unable to find candidates for iteration 417 276406\n",
      "unable to find candidates for iteration 417 278166\n",
      "unable to find candidates for iteration 417 278192\n",
      "unable to find candidates for iteration 417 278239\n"
     ]
    },
    {
     "data": {
      "text/plain": [
       "  0%|          | 0/13493 [00:00<?, ?it/s]"
      ],
      "application/vnd.jupyter.widget-view+json": {
       "version_major": 2,
       "version_minor": 0,
       "model_id": "c47a9a422ab3468da3a4c9cd1a931f38"
      }
     },
     "metadata": {},
     "output_type": "display_data"
    },
    {
     "name": "stdout",
     "output_type": "stream",
     "text": [
      "unable to find candidates for iteration 418 276283\n"
     ]
    },
    {
     "data": {
      "text/plain": [
       "  0%|          | 0/15239 [00:00<?, ?it/s]"
      ],
      "application/vnd.jupyter.widget-view+json": {
       "version_major": 2,
       "version_minor": 0,
       "model_id": "85665e68b10e4b4fad4624a867e39d1d"
      }
     },
     "metadata": {},
     "output_type": "display_data"
    },
    {
     "name": "stdout",
     "output_type": "stream",
     "text": [
      "unable to find candidates for iteration 419 274430\n",
      "unable to find candidates for iteration 419 276297\n",
      "unable to find candidates for iteration 419 286112\n",
      "unable to find candidates for iteration 419 286116\n",
      "unable to find candidates for iteration 419 286117\n"
     ]
    },
    {
     "data": {
      "text/plain": [
       "  0%|          | 0/15571 [00:00<?, ?it/s]"
      ],
      "application/vnd.jupyter.widget-view+json": {
       "version_major": 2,
       "version_minor": 0,
       "model_id": "972d1a1f9a1a46f5911bf3165c9a339f"
      }
     },
     "metadata": {},
     "output_type": "display_data"
    },
    {
     "name": "stdout",
     "output_type": "stream",
     "text": [
      "unable to find candidates for iteration 420 274430\n",
      "unable to find candidates for iteration 420 276297\n",
      "unable to find candidates for iteration 420 286112\n",
      "unable to find candidates for iteration 420 286116\n",
      "unable to find candidates for iteration 420 286117\n"
     ]
    },
    {
     "data": {
      "text/plain": [
       "  0%|          | 0/15118 [00:00<?, ?it/s]"
      ],
      "application/vnd.jupyter.widget-view+json": {
       "version_major": 2,
       "version_minor": 0,
       "model_id": "9176bce182d0437da084f29396f3ac5d"
      }
     },
     "metadata": {},
     "output_type": "display_data"
    },
    {
     "name": "stdout",
     "output_type": "stream",
     "text": [
      "unable to find candidates for iteration 421 274431\n",
      "unable to find candidates for iteration 421 276297\n",
      "unable to find candidates for iteration 421 286029\n",
      "unable to find candidates for iteration 421 286112\n",
      "unable to find candidates for iteration 421 286134\n",
      "unable to find candidates for iteration 421 286135\n",
      "unable to find candidates for iteration 421 286173\n"
     ]
    },
    {
     "data": {
      "text/plain": [
       "  0%|          | 0/15157 [00:00<?, ?it/s]"
      ],
      "application/vnd.jupyter.widget-view+json": {
       "version_major": 2,
       "version_minor": 0,
       "model_id": "b30c86b97fa142e9a8452d90aec9376c"
      }
     },
     "metadata": {},
     "output_type": "display_data"
    },
    {
     "name": "stdout",
     "output_type": "stream",
     "text": [
      "unable to find candidates for iteration 422 274427\n",
      "unable to find candidates for iteration 422 276297\n",
      "unable to find candidates for iteration 422 278153\n",
      "unable to find candidates for iteration 422 286133\n",
      "unable to find candidates for iteration 422 286134\n",
      "unable to find candidates for iteration 422 286135\n",
      "unable to find candidates for iteration 422 286173\n"
     ]
    },
    {
     "data": {
      "text/plain": [
       "  0%|          | 0/25682 [00:00<?, ?it/s]"
      ],
      "application/vnd.jupyter.widget-view+json": {
       "version_major": 2,
       "version_minor": 0,
       "model_id": "9b0322d21f44431cba441be7a56d456f"
      }
     },
     "metadata": {},
     "output_type": "display_data"
    },
    {
     "name": "stdout",
     "output_type": "stream",
     "text": [
      "unable to find candidates for iteration 423 274430\n",
      "unable to find candidates for iteration 423 274808\n",
      "unable to find candidates for iteration 423 286112\n",
      "unable to find candidates for iteration 423 286116\n",
      "unable to find candidates for iteration 423 286117\n",
      "unable to find candidates for iteration 423 295604\n",
      "unable to find candidates for iteration 423 295605\n"
     ]
    },
    {
     "data": {
      "text/plain": [
       "  0%|          | 0/14992 [00:00<?, ?it/s]"
      ],
      "application/vnd.jupyter.widget-view+json": {
       "version_major": 2,
       "version_minor": 0,
       "model_id": "1b1e3727caa1424592686b379c67856e"
      }
     },
     "metadata": {},
     "output_type": "display_data"
    },
    {
     "name": "stdout",
     "output_type": "stream",
     "text": [
      "unable to find candidates for iteration 424 274430\n",
      "unable to find candidates for iteration 424 274808\n",
      "unable to find candidates for iteration 424 276297\n",
      "unable to find candidates for iteration 424 286112\n",
      "unable to find candidates for iteration 424 286117\n"
     ]
    },
    {
     "data": {
      "text/plain": [
       "  0%|          | 0/14310 [00:00<?, ?it/s]"
      ],
      "application/vnd.jupyter.widget-view+json": {
       "version_major": 2,
       "version_minor": 0,
       "model_id": "894d14efb81049a5be6208780ca95703"
      }
     },
     "metadata": {},
     "output_type": "display_data"
    },
    {
     "name": "stdout",
     "output_type": "stream",
     "text": [
      "unable to find candidates for iteration 425 274554\n",
      "unable to find candidates for iteration 425 274898\n",
      "unable to find candidates for iteration 425 278165\n",
      "unable to find candidates for iteration 425 286195\n",
      "unable to find candidates for iteration 425 286196\n"
     ]
    },
    {
     "data": {
      "text/plain": [
       "  0%|          | 0/11239 [00:00<?, ?it/s]"
      ],
      "application/vnd.jupyter.widget-view+json": {
       "version_major": 2,
       "version_minor": 0,
       "model_id": "c3de3217c57644daad599c22ce068239"
      }
     },
     "metadata": {},
     "output_type": "display_data"
    },
    {
     "name": "stdout",
     "output_type": "stream",
     "text": [
      "unable to find candidates for iteration 426 286102\n",
      "unable to find candidates for iteration 426 286189\n",
      "unable to find candidates for iteration 426 286265\n"
     ]
    },
    {
     "data": {
      "text/plain": [
       "  0%|          | 0/10623 [00:00<?, ?it/s]"
      ],
      "application/vnd.jupyter.widget-view+json": {
       "version_major": 2,
       "version_minor": 0,
       "model_id": "72a79a9172334cf8b1f1bba4e2c30418"
      }
     },
     "metadata": {},
     "output_type": "display_data"
    },
    {
     "name": "stdout",
     "output_type": "stream",
     "text": [
      "unable to find candidates for iteration 427 286214\n",
      "unable to find candidates for iteration 427 286215\n"
     ]
    },
    {
     "data": {
      "text/plain": [
       "  0%|          | 0/10176 [00:00<?, ?it/s]"
      ],
      "application/vnd.jupyter.widget-view+json": {
       "version_major": 2,
       "version_minor": 0,
       "model_id": "a69478d00da54e41985b9cf879df269c"
      }
     },
     "metadata": {},
     "output_type": "display_data"
    },
    {
     "name": "stdout",
     "output_type": "stream",
     "text": [
      "unable to find candidates for iteration 428 286200\n"
     ]
    },
    {
     "data": {
      "text/plain": [
       "  0%|          | 0/9979 [00:00<?, ?it/s]"
      ],
      "application/vnd.jupyter.widget-view+json": {
       "version_major": 2,
       "version_minor": 0,
       "model_id": "f9ea2f8bff6a4bbb8f346d52cd8485e9"
      }
     },
     "metadata": {},
     "output_type": "display_data"
    },
    {
     "name": "stdout",
     "output_type": "stream",
     "text": [
      "unable to find candidates for iteration 429 286099\n",
      "unable to find candidates for iteration 429 286109\n",
      "unable to find candidates for iteration 429 286112\n",
      "unable to find candidates for iteration 429 286122\n",
      "unable to find candidates for iteration 429 286138\n",
      "unable to find candidates for iteration 429 286140\n",
      "unable to find candidates for iteration 429 286161\n",
      "unable to find candidates for iteration 429 286173\n"
     ]
    },
    {
     "data": {
      "text/plain": [
       "  0%|          | 0/9010 [00:00<?, ?it/s]"
      ],
      "application/vnd.jupyter.widget-view+json": {
       "version_major": 2,
       "version_minor": 0,
       "model_id": "70a2f5e1182040bcbfce207f4a561438"
      }
     },
     "metadata": {},
     "output_type": "display_data"
    },
    {
     "name": "stdout",
     "output_type": "stream",
     "text": [
      "unable to find candidates for iteration 430 286200\n"
     ]
    },
    {
     "data": {
      "text/plain": [
       "  0%|          | 0/8860 [00:00<?, ?it/s]"
      ],
      "application/vnd.jupyter.widget-view+json": {
       "version_major": 2,
       "version_minor": 0,
       "model_id": "aa03e53c2f2048a0bad5caf609c58ab0"
      }
     },
     "metadata": {},
     "output_type": "display_data"
    },
    {
     "name": "stdout",
     "output_type": "stream",
     "text": [
      "unable to find candidates for iteration 431 286200\n"
     ]
    },
    {
     "data": {
      "text/plain": [
       "  0%|          | 0/7680 [00:00<?, ?it/s]"
      ],
      "application/vnd.jupyter.widget-view+json": {
       "version_major": 2,
       "version_minor": 0,
       "model_id": "6c765665606641afa394516b887a7fb5"
      }
     },
     "metadata": {},
     "output_type": "display_data"
    },
    {
     "name": "stdout",
     "output_type": "stream",
     "text": [
      "unable to find candidates for iteration 432 286102\n",
      "unable to find candidates for iteration 432 286265\n"
     ]
    },
    {
     "data": {
      "text/plain": [
       "  0%|          | 0/7692 [00:00<?, ?it/s]"
      ],
      "application/vnd.jupyter.widget-view+json": {
       "version_major": 2,
       "version_minor": 0,
       "model_id": "15a8eb4c91ce44d8943773f9da35ef0a"
      }
     },
     "metadata": {},
     "output_type": "display_data"
    },
    {
     "name": "stdout",
     "output_type": "stream",
     "text": [
      "unable to find candidates for iteration 433 286208\n",
      "unable to find candidates for iteration 433 286209\n"
     ]
    },
    {
     "data": {
      "text/plain": [
       "  0%|          | 0/8537 [00:00<?, ?it/s]"
      ],
      "application/vnd.jupyter.widget-view+json": {
       "version_major": 2,
       "version_minor": 0,
       "model_id": "866865cbf6ff4f6b9e7f19568d48ebe9"
      }
     },
     "metadata": {},
     "output_type": "display_data"
    },
    {
     "name": "stdout",
     "output_type": "stream",
     "text": [
      "unable to find candidates for iteration 434 286214\n",
      "unable to find candidates for iteration 434 286215\n"
     ]
    },
    {
     "data": {
      "text/plain": [
       "  0%|          | 0/8584 [00:00<?, ?it/s]"
      ],
      "application/vnd.jupyter.widget-view+json": {
       "version_major": 2,
       "version_minor": 0,
       "model_id": "7fff65ac8e264bb0909f2a0f99912643"
      }
     },
     "metadata": {},
     "output_type": "display_data"
    },
    {
     "name": "stdout",
     "output_type": "stream",
     "text": [
      "unable to find candidates for iteration 435 286214\n",
      "unable to find candidates for iteration 435 286215\n"
     ]
    },
    {
     "data": {
      "text/plain": [
       "  0%|          | 0/8081 [00:00<?, ?it/s]"
      ],
      "application/vnd.jupyter.widget-view+json": {
       "version_major": 2,
       "version_minor": 0,
       "model_id": "041e6e9a9f7746b8aa30f0a461df2b30"
      }
     },
     "metadata": {},
     "output_type": "display_data"
    },
    {
     "name": "stdout",
     "output_type": "stream",
     "text": [
      "unable to find candidates for iteration 436 286124\n"
     ]
    },
    {
     "data": {
      "text/plain": [
       "  0%|          | 0/7268 [00:00<?, ?it/s]"
      ],
      "application/vnd.jupyter.widget-view+json": {
       "version_major": 2,
       "version_minor": 0,
       "model_id": "4f161a3890ea4556b8234052d3e135d7"
      }
     },
     "metadata": {},
     "output_type": "display_data"
    },
    {
     "data": {
      "text/plain": [
       "  0%|          | 0/7038 [00:00<?, ?it/s]"
      ],
      "application/vnd.jupyter.widget-view+json": {
       "version_major": 2,
       "version_minor": 0,
       "model_id": "739013e4e0b94aaeb6b72ea08556653b"
      }
     },
     "metadata": {},
     "output_type": "display_data"
    },
    {
     "name": "stdout",
     "output_type": "stream",
     "text": [
      "unable to find candidates for iteration 438 292542\n"
     ]
    },
    {
     "data": {
      "text/plain": [
       "  0%|          | 0/7121 [00:00<?, ?it/s]"
      ],
      "application/vnd.jupyter.widget-view+json": {
       "version_major": 2,
       "version_minor": 0,
       "model_id": "6a915bfce8ce4d628bcb68097b1d932d"
      }
     },
     "metadata": {},
     "output_type": "display_data"
    },
    {
     "name": "stdout",
     "output_type": "stream",
     "text": [
      "unable to find candidates for iteration 439 292542\n"
     ]
    },
    {
     "data": {
      "text/plain": [
       "  0%|          | 0/7083 [00:00<?, ?it/s]"
      ],
      "application/vnd.jupyter.widget-view+json": {
       "version_major": 2,
       "version_minor": 0,
       "model_id": "695c4837cab74528946ef7799bbffa13"
      }
     },
     "metadata": {},
     "output_type": "display_data"
    },
    {
     "data": {
      "text/plain": [
       "  0%|          | 0/7232 [00:00<?, ?it/s]"
      ],
      "application/vnd.jupyter.widget-view+json": {
       "version_major": 2,
       "version_minor": 0,
       "model_id": "8ab5dc886c42476aab76600a0b9ffebf"
      }
     },
     "metadata": {},
     "output_type": "display_data"
    },
    {
     "name": "stdout",
     "output_type": "stream",
     "text": [
      "unable to find candidates for iteration 441 292543\n",
      "unable to find candidates for iteration 441 295585\n"
     ]
    },
    {
     "data": {
      "text/plain": [
       "  0%|          | 0/7054 [00:00<?, ?it/s]"
      ],
      "application/vnd.jupyter.widget-view+json": {
       "version_major": 2,
       "version_minor": 0,
       "model_id": "3ebd18d3c17e4f5e8770efe22b0d0c6c"
      }
     },
     "metadata": {},
     "output_type": "display_data"
    },
    {
     "name": "stdout",
     "output_type": "stream",
     "text": [
      "unable to find candidates for iteration 442 295596\n"
     ]
    },
    {
     "data": {
      "text/plain": [
       "  0%|          | 0/7085 [00:00<?, ?it/s]"
      ],
      "application/vnd.jupyter.widget-view+json": {
       "version_major": 2,
       "version_minor": 0,
       "model_id": "acc120d2b5934f30b9f017c6a2a3e545"
      }
     },
     "metadata": {},
     "output_type": "display_data"
    },
    {
     "name": "stdout",
     "output_type": "stream",
     "text": [
      "unable to find candidates for iteration 443 295589\n"
     ]
    },
    {
     "data": {
      "text/plain": [
       "  0%|          | 0/7002 [00:00<?, ?it/s]"
      ],
      "application/vnd.jupyter.widget-view+json": {
       "version_major": 2,
       "version_minor": 0,
       "model_id": "551d58ad02cf4f029078e37db604b4ea"
      }
     },
     "metadata": {},
     "output_type": "display_data"
    },
    {
     "name": "stdout",
     "output_type": "stream",
     "text": [
      "unable to find candidates for iteration 444 292529\n",
      "unable to find candidates for iteration 444 295585\n"
     ]
    },
    {
     "data": {
      "text/plain": [
       "  0%|          | 0/23699 [00:00<?, ?it/s]"
      ],
      "application/vnd.jupyter.widget-view+json": {
       "version_major": 2,
       "version_minor": 0,
       "model_id": "58630394aaeb4b9a9e46eebfbda4d9be"
      }
     },
     "metadata": {},
     "output_type": "display_data"
    },
    {
     "data": {
      "text/plain": [
       "  0%|          | 0/6307 [00:00<?, ?it/s]"
      ],
      "application/vnd.jupyter.widget-view+json": {
       "version_major": 2,
       "version_minor": 0,
       "model_id": "cc72cea1e20b46419c77d843d18d3727"
      }
     },
     "metadata": {},
     "output_type": "display_data"
    },
    {
     "data": {
      "text/plain": [
       "  0%|          | 0/6006 [00:00<?, ?it/s]"
      ],
      "application/vnd.jupyter.widget-view+json": {
       "version_major": 2,
       "version_minor": 0,
       "model_id": "b89b783aab994d32aba120d65403efa6"
      }
     },
     "metadata": {},
     "output_type": "display_data"
    },
    {
     "name": "stdout",
     "output_type": "stream",
     "text": [
      "unable to find candidates for iteration 447 292542\n"
     ]
    },
    {
     "data": {
      "text/plain": [
       "  0%|          | 0/5768 [00:00<?, ?it/s]"
      ],
      "application/vnd.jupyter.widget-view+json": {
       "version_major": 2,
       "version_minor": 0,
       "model_id": "c849db876cf64889b408a3ca28d3be6f"
      }
     },
     "metadata": {},
     "output_type": "display_data"
    },
    {
     "data": {
      "text/plain": [
       "  0%|          | 0/5478 [00:00<?, ?it/s]"
      ],
      "application/vnd.jupyter.widget-view+json": {
       "version_major": 2,
       "version_minor": 0,
       "model_id": "d2c7189fe25c4e029d10dae67aa7dbf6"
      }
     },
     "metadata": {},
     "output_type": "display_data"
    },
    {
     "data": {
      "text/plain": [
       "  0%|          | 0/5424 [00:00<?, ?it/s]"
      ],
      "application/vnd.jupyter.widget-view+json": {
       "version_major": 2,
       "version_minor": 0,
       "model_id": "ed45164f76f7438d8374032f0a293fd2"
      }
     },
     "metadata": {},
     "output_type": "display_data"
    },
    {
     "data": {
      "text/plain": [
       "  0%|          | 0/4924 [00:00<?, ?it/s]"
      ],
      "application/vnd.jupyter.widget-view+json": {
       "version_major": 2,
       "version_minor": 0,
       "model_id": "b3656d85a56744d2ae9721422d6fb32c"
      }
     },
     "metadata": {},
     "output_type": "display_data"
    },
    {
     "data": {
      "text/plain": [
       "  0%|          | 0/4379 [00:00<?, ?it/s]"
      ],
      "application/vnd.jupyter.widget-view+json": {
       "version_major": 2,
       "version_minor": 0,
       "model_id": "eca9184e93304149aece12988fdae52b"
      }
     },
     "metadata": {},
     "output_type": "display_data"
    },
    {
     "data": {
      "text/plain": [
       "  0%|          | 0/4428 [00:00<?, ?it/s]"
      ],
      "application/vnd.jupyter.widget-view+json": {
       "version_major": 2,
       "version_minor": 0,
       "model_id": "e7eb3f8bfbf74cadb8c676cc0f24e3e4"
      }
     },
     "metadata": {},
     "output_type": "display_data"
    },
    {
     "data": {
      "text/plain": [
       "  0%|          | 0/4331 [00:00<?, ?it/s]"
      ],
      "application/vnd.jupyter.widget-view+json": {
       "version_major": 2,
       "version_minor": 0,
       "model_id": "793b05088e5b4aeba2098e774ef310d7"
      }
     },
     "metadata": {},
     "output_type": "display_data"
    },
    {
     "data": {
      "text/plain": [
       "  0%|          | 0/4777 [00:00<?, ?it/s]"
      ],
      "application/vnd.jupyter.widget-view+json": {
       "version_major": 2,
       "version_minor": 0,
       "model_id": "2e320761f3294ddaa043b1c1569470f1"
      }
     },
     "metadata": {},
     "output_type": "display_data"
    },
    {
     "data": {
      "text/plain": [
       "  0%|          | 0/5714 [00:00<?, ?it/s]"
      ],
      "application/vnd.jupyter.widget-view+json": {
       "version_major": 2,
       "version_minor": 0,
       "model_id": "0956ad6314364b7885897f6b7b2c8198"
      }
     },
     "metadata": {},
     "output_type": "display_data"
    },
    {
     "data": {
      "text/plain": [
       "  0%|          | 0/5716 [00:00<?, ?it/s]"
      ],
      "application/vnd.jupyter.widget-view+json": {
       "version_major": 2,
       "version_minor": 0,
       "model_id": "f3b264d727f1400da062b6aace949e74"
      }
     },
     "metadata": {},
     "output_type": "display_data"
    },
    {
     "data": {
      "text/plain": [
       "  0%|          | 0/6586 [00:00<?, ?it/s]"
      ],
      "application/vnd.jupyter.widget-view+json": {
       "version_major": 2,
       "version_minor": 0,
       "model_id": "b16b42c1af2f4d81b26fe21f77eb43c3"
      }
     },
     "metadata": {},
     "output_type": "display_data"
    },
    {
     "data": {
      "text/plain": [
       "  0%|          | 0/6613 [00:00<?, ?it/s]"
      ],
      "application/vnd.jupyter.widget-view+json": {
       "version_major": 2,
       "version_minor": 0,
       "model_id": "5808053d2e9447cc81e2f21e67ca4ccd"
      }
     },
     "metadata": {},
     "output_type": "display_data"
    },
    {
     "data": {
      "text/plain": [
       "  0%|          | 0/6658 [00:00<?, ?it/s]"
      ],
      "application/vnd.jupyter.widget-view+json": {
       "version_major": 2,
       "version_minor": 0,
       "model_id": "92910f56757943958487345a29cf755c"
      }
     },
     "metadata": {},
     "output_type": "display_data"
    },
    {
     "data": {
      "text/plain": [
       "  0%|          | 0/6630 [00:00<?, ?it/s]"
      ],
      "application/vnd.jupyter.widget-view+json": {
       "version_major": 2,
       "version_minor": 0,
       "model_id": "03eba4c9dc904d288d77d8821283ba85"
      }
     },
     "metadata": {},
     "output_type": "display_data"
    },
    {
     "data": {
      "text/plain": [
       "  0%|          | 0/6488 [00:00<?, ?it/s]"
      ],
      "application/vnd.jupyter.widget-view+json": {
       "version_major": 2,
       "version_minor": 0,
       "model_id": "118fb21e2b3e418bbf9b3e8999b865ae"
      }
     },
     "metadata": {},
     "output_type": "display_data"
    },
    {
     "data": {
      "text/plain": [
       "  0%|          | 0/6424 [00:00<?, ?it/s]"
      ],
      "application/vnd.jupyter.widget-view+json": {
       "version_major": 2,
       "version_minor": 0,
       "model_id": "6d3c01ed0b7c4414820f0ae03b59d0b1"
      }
     },
     "metadata": {},
     "output_type": "display_data"
    },
    {
     "data": {
      "text/plain": [
       "  0%|          | 0/6472 [00:00<?, ?it/s]"
      ],
      "application/vnd.jupyter.widget-view+json": {
       "version_major": 2,
       "version_minor": 0,
       "model_id": "638c6b87df0940299942eb6579d17d2d"
      }
     },
     "metadata": {},
     "output_type": "display_data"
    },
    {
     "data": {
      "text/plain": [
       "  0%|          | 0/6523 [00:00<?, ?it/s]"
      ],
      "application/vnd.jupyter.widget-view+json": {
       "version_major": 2,
       "version_minor": 0,
       "model_id": "d8e06fd8be1b4ae3973afe692ebbcac2"
      }
     },
     "metadata": {},
     "output_type": "display_data"
    },
    {
     "data": {
      "text/plain": [
       "  0%|          | 0/6640 [00:00<?, ?it/s]"
      ],
      "application/vnd.jupyter.widget-view+json": {
       "version_major": 2,
       "version_minor": 0,
       "model_id": "a03a768364c3475fb8c6efcc73f06a73"
      }
     },
     "metadata": {},
     "output_type": "display_data"
    },
    {
     "data": {
      "text/plain": [
       "  0%|          | 0/6625 [00:00<?, ?it/s]"
      ],
      "application/vnd.jupyter.widget-view+json": {
       "version_major": 2,
       "version_minor": 0,
       "model_id": "0f50195da0c6471d9f2921be3d8df417"
      }
     },
     "metadata": {},
     "output_type": "display_data"
    },
    {
     "data": {
      "text/plain": [
       "  0%|          | 0/6589 [00:00<?, ?it/s]"
      ],
      "application/vnd.jupyter.widget-view+json": {
       "version_major": 2,
       "version_minor": 0,
       "model_id": "8b8a463beec049a0977fe30a9c0fedec"
      }
     },
     "metadata": {},
     "output_type": "display_data"
    },
    {
     "name": "stdout",
     "output_type": "stream",
     "text": [
      "unable to find candidates for iteration 468 300771\n"
     ]
    },
    {
     "data": {
      "text/plain": [
       "  0%|          | 0/6582 [00:00<?, ?it/s]"
      ],
      "application/vnd.jupyter.widget-view+json": {
       "version_major": 2,
       "version_minor": 0,
       "model_id": "0f3d38e2a0a3415b9e2e3e02ad493b5d"
      }
     },
     "metadata": {},
     "output_type": "display_data"
    },
    {
     "data": {
      "text/plain": [
       "  0%|          | 0/6587 [00:00<?, ?it/s]"
      ],
      "application/vnd.jupyter.widget-view+json": {
       "version_major": 2,
       "version_minor": 0,
       "model_id": "2c9d2590b7824c31994b786a0c413802"
      }
     },
     "metadata": {},
     "output_type": "display_data"
    },
    {
     "data": {
      "text/plain": [
       "  0%|          | 0/6533 [00:00<?, ?it/s]"
      ],
      "application/vnd.jupyter.widget-view+json": {
       "version_major": 2,
       "version_minor": 0,
       "model_id": "93477bac73b14123ae164642acc43871"
      }
     },
     "metadata": {},
     "output_type": "display_data"
    },
    {
     "data": {
      "text/plain": [
       "  0%|          | 0/6547 [00:00<?, ?it/s]"
      ],
      "application/vnd.jupyter.widget-view+json": {
       "version_major": 2,
       "version_minor": 0,
       "model_id": "7aa23bd90dad418d8f59dfa77094dfff"
      }
     },
     "metadata": {},
     "output_type": "display_data"
    },
    {
     "data": {
      "text/plain": [
       "  0%|          | 0/6591 [00:00<?, ?it/s]"
      ],
      "application/vnd.jupyter.widget-view+json": {
       "version_major": 2,
       "version_minor": 0,
       "model_id": "041c6476c5d74358974f7b08cafc8ac2"
      }
     },
     "metadata": {},
     "output_type": "display_data"
    },
    {
     "name": "stdout",
     "output_type": "stream",
     "text": [
      "unable to find candidates for iteration 473 300771\n"
     ]
    },
    {
     "data": {
      "text/plain": [
       "  0%|          | 0/7120 [00:00<?, ?it/s]"
      ],
      "application/vnd.jupyter.widget-view+json": {
       "version_major": 2,
       "version_minor": 0,
       "model_id": "a7e60990df43495ca941e7b919b6c82e"
      }
     },
     "metadata": {},
     "output_type": "display_data"
    },
    {
     "name": "stdout",
     "output_type": "stream",
     "text": [
      "unable to find candidates for iteration 474 300768\n"
     ]
    },
    {
     "data": {
      "text/plain": [
       "  0%|          | 0/7119 [00:00<?, ?it/s]"
      ],
      "application/vnd.jupyter.widget-view+json": {
       "version_major": 2,
       "version_minor": 0,
       "model_id": "39d41631558f4215a26d6bc1564487f4"
      }
     },
     "metadata": {},
     "output_type": "display_data"
    },
    {
     "data": {
      "text/plain": [
       "  0%|          | 0/21944 [00:00<?, ?it/s]"
      ],
      "application/vnd.jupyter.widget-view+json": {
       "version_major": 2,
       "version_minor": 0,
       "model_id": "caa6607c7b754371bfd6e5b38bb0b644"
      }
     },
     "metadata": {},
     "output_type": "display_data"
    },
    {
     "data": {
      "text/plain": [
       "  0%|          | 0/8041 [00:00<?, ?it/s]"
      ],
      "application/vnd.jupyter.widget-view+json": {
       "version_major": 2,
       "version_minor": 0,
       "model_id": "6e4bc12d68204f25ae63f8c448bbe30c"
      }
     },
     "metadata": {},
     "output_type": "display_data"
    },
    {
     "data": {
      "text/plain": [
       "  0%|          | 0/9347 [00:00<?, ?it/s]"
      ],
      "application/vnd.jupyter.widget-view+json": {
       "version_major": 2,
       "version_minor": 0,
       "model_id": "2762663ca74c4377ac4ca3787a746cae"
      }
     },
     "metadata": {},
     "output_type": "display_data"
    },
    {
     "data": {
      "text/plain": [
       "  0%|          | 0/9069 [00:00<?, ?it/s]"
      ],
      "application/vnd.jupyter.widget-view+json": {
       "version_major": 2,
       "version_minor": 0,
       "model_id": "95bb6b39b5454e4db84ba330dc871089"
      }
     },
     "metadata": {},
     "output_type": "display_data"
    },
    {
     "data": {
      "text/plain": [
       "  0%|          | 0/9036 [00:00<?, ?it/s]"
      ],
      "application/vnd.jupyter.widget-view+json": {
       "version_major": 2,
       "version_minor": 0,
       "model_id": "4e7610f917394f2d8f608491aaa7b89a"
      }
     },
     "metadata": {},
     "output_type": "display_data"
    },
    {
     "name": "stdout",
     "output_type": "stream",
     "text": [
      "unable to find candidates for iteration 480 302310\n"
     ]
    },
    {
     "data": {
      "text/plain": [
       "  0%|          | 0/8494 [00:00<?, ?it/s]"
      ],
      "application/vnd.jupyter.widget-view+json": {
       "version_major": 2,
       "version_minor": 0,
       "model_id": "bb7ca69f9114437daa0620faee3bd243"
      }
     },
     "metadata": {},
     "output_type": "display_data"
    },
    {
     "data": {
      "text/plain": [
       "  0%|          | 0/9936 [00:00<?, ?it/s]"
      ],
      "application/vnd.jupyter.widget-view+json": {
       "version_major": 2,
       "version_minor": 0,
       "model_id": "b28f39be957c4172b7e37af910db9bef"
      }
     },
     "metadata": {},
     "output_type": "display_data"
    },
    {
     "name": "stdout",
     "output_type": "stream",
     "text": [
      "unable to find candidates for iteration 482 313904\n",
      "unable to find candidates for iteration 482 313905\n",
      "unable to find candidates for iteration 482 313906\n"
     ]
    },
    {
     "data": {
      "text/plain": [
       "  0%|          | 0/9834 [00:00<?, ?it/s]"
      ],
      "application/vnd.jupyter.widget-view+json": {
       "version_major": 2,
       "version_minor": 0,
       "model_id": "1c728def298d4672bd804e08dd24496c"
      }
     },
     "metadata": {},
     "output_type": "display_data"
    },
    {
     "name": "stdout",
     "output_type": "stream",
     "text": [
      "unable to find candidates for iteration 483 313904\n",
      "unable to find candidates for iteration 483 313905\n",
      "unable to find candidates for iteration 483 313906\n"
     ]
    },
    {
     "data": {
      "text/plain": [
       "  0%|          | 0/9800 [00:00<?, ?it/s]"
      ],
      "application/vnd.jupyter.widget-view+json": {
       "version_major": 2,
       "version_minor": 0,
       "model_id": "3b289ffb7a7745efa53304afb7b3f1aa"
      }
     },
     "metadata": {},
     "output_type": "display_data"
    },
    {
     "name": "stdout",
     "output_type": "stream",
     "text": [
      "unable to find candidates for iteration 484 313906\n",
      "unable to find candidates for iteration 484 313907\n"
     ]
    },
    {
     "data": {
      "text/plain": [
       "  0%|          | 0/10112 [00:00<?, ?it/s]"
      ],
      "application/vnd.jupyter.widget-view+json": {
       "version_major": 2,
       "version_minor": 0,
       "model_id": "8cbd17ab9dc7468ca0610c33a71e312c"
      }
     },
     "metadata": {},
     "output_type": "display_data"
    },
    {
     "name": "stdout",
     "output_type": "stream",
     "text": [
      "unable to find candidates for iteration 485 313875\n"
     ]
    },
    {
     "data": {
      "text/plain": [
       "  0%|          | 0/10180 [00:00<?, ?it/s]"
      ],
      "application/vnd.jupyter.widget-view+json": {
       "version_major": 2,
       "version_minor": 0,
       "model_id": "084d10a620f447afabb979c685db97ae"
      }
     },
     "metadata": {},
     "output_type": "display_data"
    },
    {
     "name": "stdout",
     "output_type": "stream",
     "text": [
      "unable to find candidates for iteration 486 313903\n",
      "unable to find candidates for iteration 486 313904\n",
      "unable to find candidates for iteration 486 313905\n",
      "unable to find candidates for iteration 486 313927\n"
     ]
    },
    {
     "data": {
      "text/plain": [
       "  0%|          | 0/10182 [00:00<?, ?it/s]"
      ],
      "application/vnd.jupyter.widget-view+json": {
       "version_major": 2,
       "version_minor": 0,
       "model_id": "3b093a59191243c48fe757c356dfe2d2"
      }
     },
     "metadata": {},
     "output_type": "display_data"
    },
    {
     "name": "stdout",
     "output_type": "stream",
     "text": [
      "unable to find candidates for iteration 487 313904\n",
      "unable to find candidates for iteration 487 313905\n",
      "unable to find candidates for iteration 487 313927\n"
     ]
    },
    {
     "data": {
      "text/plain": [
       "  0%|          | 0/10246 [00:00<?, ?it/s]"
      ],
      "application/vnd.jupyter.widget-view+json": {
       "version_major": 2,
       "version_minor": 0,
       "model_id": "a515f7fbc9514e2fb43dd1f74bf91b49"
      }
     },
     "metadata": {},
     "output_type": "display_data"
    },
    {
     "data": {
      "text/plain": [
       "  0%|          | 0/10416 [00:00<?, ?it/s]"
      ],
      "application/vnd.jupyter.widget-view+json": {
       "version_major": 2,
       "version_minor": 0,
       "model_id": "98f50c642e2c4e088d619f7876dd7ab1"
      }
     },
     "metadata": {},
     "output_type": "display_data"
    },
    {
     "name": "stdout",
     "output_type": "stream",
     "text": [
      "unable to find candidates for iteration 489 313876\n"
     ]
    },
    {
     "data": {
      "text/plain": [
       "  0%|          | 0/10475 [00:00<?, ?it/s]"
      ],
      "application/vnd.jupyter.widget-view+json": {
       "version_major": 2,
       "version_minor": 0,
       "model_id": "390298ab376f44b4b65310e39beae95e"
      }
     },
     "metadata": {},
     "output_type": "display_data"
    },
    {
     "name": "stdout",
     "output_type": "stream",
     "text": [
      "unable to find candidates for iteration 490 311993\n",
      "unable to find candidates for iteration 490 313855\n"
     ]
    },
    {
     "data": {
      "text/plain": [
       "  0%|          | 0/10519 [00:00<?, ?it/s]"
      ],
      "application/vnd.jupyter.widget-view+json": {
       "version_major": 2,
       "version_minor": 0,
       "model_id": "e4c1ffb022c84ac9aa5158b523cc65a8"
      }
     },
     "metadata": {},
     "output_type": "display_data"
    },
    {
     "name": "stdout",
     "output_type": "stream",
     "text": [
      "unable to find candidates for iteration 491 313922\n"
     ]
    },
    {
     "data": {
      "text/plain": [
       "  0%|          | 0/10528 [00:00<?, ?it/s]"
      ],
      "application/vnd.jupyter.widget-view+json": {
       "version_major": 2,
       "version_minor": 0,
       "model_id": "cac3a21ca2f540008b3769c5e1598aaa"
      }
     },
     "metadata": {},
     "output_type": "display_data"
    },
    {
     "name": "stdout",
     "output_type": "stream",
     "text": [
      "unable to find candidates for iteration 492 312064\n",
      "unable to find candidates for iteration 492 313860\n"
     ]
    },
    {
     "data": {
      "text/plain": [
       "  0%|          | 0/33058 [00:00<?, ?it/s]"
      ],
      "application/vnd.jupyter.widget-view+json": {
       "version_major": 2,
       "version_minor": 0,
       "model_id": "78c67ed3f57d4e1e88b7f7621d92d45b"
      }
     },
     "metadata": {},
     "output_type": "display_data"
    },
    {
     "name": "stdout",
     "output_type": "stream",
     "text": [
      "unable to find candidates for iteration 493 313859\n"
     ]
    },
    {
     "data": {
      "text/plain": [
       "  0%|          | 0/10672 [00:00<?, ?it/s]"
      ],
      "application/vnd.jupyter.widget-view+json": {
       "version_major": 2,
       "version_minor": 0,
       "model_id": "12b4ed653cd346f79d99fcc72875a395"
      }
     },
     "metadata": {},
     "output_type": "display_data"
    },
    {
     "name": "stdout",
     "output_type": "stream",
     "text": [
      "unable to find candidates for iteration 494 313859\n"
     ]
    },
    {
     "data": {
      "text/plain": [
       "  0%|          | 0/10916 [00:00<?, ?it/s]"
      ],
      "application/vnd.jupyter.widget-view+json": {
       "version_major": 2,
       "version_minor": 0,
       "model_id": "74ce796c61104baeb420a9c8ba4198ea"
      }
     },
     "metadata": {},
     "output_type": "display_data"
    },
    {
     "name": "stdout",
     "output_type": "stream",
     "text": [
      "unable to find candidates for iteration 495 312074\n"
     ]
    },
    {
     "data": {
      "text/plain": [
       "  0%|          | 0/10969 [00:00<?, ?it/s]"
      ],
      "application/vnd.jupyter.widget-view+json": {
       "version_major": 2,
       "version_minor": 0,
       "model_id": "922ea5ae88f24db687b76657e13f369c"
      }
     },
     "metadata": {},
     "output_type": "display_data"
    },
    {
     "name": "stdout",
     "output_type": "stream",
     "text": [
      "unable to find candidates for iteration 496 313837\n"
     ]
    },
    {
     "data": {
      "text/plain": [
       "  0%|          | 0/10452 [00:00<?, ?it/s]"
      ],
      "application/vnd.jupyter.widget-view+json": {
       "version_major": 2,
       "version_minor": 0,
       "model_id": "d237d7623b7e4b13969490921a25aa7c"
      }
     },
     "metadata": {},
     "output_type": "display_data"
    },
    {
     "name": "stdout",
     "output_type": "stream",
     "text": [
      "unable to find candidates for iteration 497 309940\n",
      "unable to find candidates for iteration 497 314004\n",
      "unable to find candidates for iteration 497 314013\n"
     ]
    },
    {
     "data": {
      "text/plain": [
       "  0%|          | 0/9794 [00:00<?, ?it/s]"
      ],
      "application/vnd.jupyter.widget-view+json": {
       "version_major": 2,
       "version_minor": 0,
       "model_id": "b53d9e8674024b85829f122d905b2a3c"
      }
     },
     "metadata": {},
     "output_type": "display_data"
    },
    {
     "name": "stdout",
     "output_type": "stream",
     "text": [
      "unable to find candidates for iteration 498 310011\n",
      "unable to find candidates for iteration 498 313080\n",
      "unable to find candidates for iteration 498 313909\n",
      "unable to find candidates for iteration 498 313937\n"
     ]
    },
    {
     "data": {
      "text/plain": [
       "  0%|          | 0/9338 [00:00<?, ?it/s]"
      ],
      "application/vnd.jupyter.widget-view+json": {
       "version_major": 2,
       "version_minor": 0,
       "model_id": "cbfe8269b6d94bf1ba8500416fa68f6d"
      }
     },
     "metadata": {},
     "output_type": "display_data"
    },
    {
     "name": "stdout",
     "output_type": "stream",
     "text": [
      "unable to find candidates for iteration 499 312018\n",
      "unable to find candidates for iteration 499 313054\n",
      "unable to find candidates for iteration 499 313903\n",
      "unable to find candidates for iteration 499 313904\n",
      "unable to find candidates for iteration 499 313905\n"
     ]
    },
    {
     "data": {
      "text/plain": [
       "  0%|          | 0/8985 [00:00<?, ?it/s]"
      ],
      "application/vnd.jupyter.widget-view+json": {
       "version_major": 2,
       "version_minor": 0,
       "model_id": "dbe13f98968f4bb290c9e6e377b60145"
      }
     },
     "metadata": {},
     "output_type": "display_data"
    },
    {
     "name": "stdout",
     "output_type": "stream",
     "text": [
      "unable to find candidates for iteration 500 313052\n",
      "unable to find candidates for iteration 500 313909\n",
      "unable to find candidates for iteration 500 313913\n",
      "unable to find candidates for iteration 500 313914\n"
     ]
    },
    {
     "data": {
      "text/plain": [
       "  0%|          | 0/8440 [00:00<?, ?it/s]"
      ],
      "application/vnd.jupyter.widget-view+json": {
       "version_major": 2,
       "version_minor": 0,
       "model_id": "b7d15e79ee354223ac60dd3882a75227"
      }
     },
     "metadata": {},
     "output_type": "display_data"
    },
    {
     "name": "stdout",
     "output_type": "stream",
     "text": [
      "unable to find candidates for iteration 501 312033\n",
      "unable to find candidates for iteration 501 313061\n",
      "unable to find candidates for iteration 501 313937\n"
     ]
    },
    {
     "data": {
      "text/plain": [
       "  0%|          | 0/8424 [00:00<?, ?it/s]"
      ],
      "application/vnd.jupyter.widget-view+json": {
       "version_major": 2,
       "version_minor": 0,
       "model_id": "bcc97be4894445a4bace903533a11fd1"
      }
     },
     "metadata": {},
     "output_type": "display_data"
    },
    {
     "name": "stdout",
     "output_type": "stream",
     "text": [
      "unable to find candidates for iteration 502 311845\n",
      "unable to find candidates for iteration 502 313839\n",
      "unable to find candidates for iteration 502 313859\n"
     ]
    },
    {
     "data": {
      "text/plain": [
       "  0%|          | 0/25375 [00:00<?, ?it/s]"
      ],
      "application/vnd.jupyter.widget-view+json": {
       "version_major": 2,
       "version_minor": 0,
       "model_id": "4d57c0b77a7d44f8b6d158a63507b70d"
      }
     },
     "metadata": {},
     "output_type": "display_data"
    },
    {
     "name": "stdout",
     "output_type": "stream",
     "text": [
      "unable to find candidates for iteration 503 313052\n",
      "unable to find candidates for iteration 503 313068\n",
      "unable to find candidates for iteration 503 313074\n",
      "unable to find candidates for iteration 503 313075\n",
      "unable to find candidates for iteration 503 313909\n",
      "unable to find candidates for iteration 503 313920\n",
      "unable to find candidates for iteration 503 313930\n",
      "unable to find candidates for iteration 503 321927\n"
     ]
    },
    {
     "data": {
      "text/plain": [
       "  0%|          | 0/8214 [00:00<?, ?it/s]"
      ],
      "application/vnd.jupyter.widget-view+json": {
       "version_major": 2,
       "version_minor": 0,
       "model_id": "c62987aca1624573b121c5314d19f2d5"
      }
     },
     "metadata": {},
     "output_type": "display_data"
    },
    {
     "name": "stdout",
     "output_type": "stream",
     "text": [
      "unable to find candidates for iteration 504 313077\n",
      "unable to find candidates for iteration 504 313910\n"
     ]
    },
    {
     "data": {
      "text/plain": [
       "  0%|          | 0/8275 [00:00<?, ?it/s]"
      ],
      "application/vnd.jupyter.widget-view+json": {
       "version_major": 2,
       "version_minor": 0,
       "model_id": "7466583f61254390b51dd47c892904e0"
      }
     },
     "metadata": {},
     "output_type": "display_data"
    },
    {
     "name": "stdout",
     "output_type": "stream",
     "text": [
      "unable to find candidates for iteration 505 314004\n",
      "unable to find candidates for iteration 505 321924\n"
     ]
    },
    {
     "data": {
      "text/plain": [
       "  0%|          | 0/8454 [00:00<?, ?it/s]"
      ],
      "application/vnd.jupyter.widget-view+json": {
       "version_major": 2,
       "version_minor": 0,
       "model_id": "749caf9168f34ab681eeae3b9ba5ae6c"
      }
     },
     "metadata": {},
     "output_type": "display_data"
    },
    {
     "name": "stdout",
     "output_type": "stream",
     "text": [
      "unable to find candidates for iteration 506 318726\n"
     ]
    },
    {
     "data": {
      "text/plain": [
       "  0%|          | 0/8961 [00:00<?, ?it/s]"
      ],
      "application/vnd.jupyter.widget-view+json": {
       "version_major": 2,
       "version_minor": 0,
       "model_id": "082b1b85fe5944ed9e3cd512525e0dc1"
      }
     },
     "metadata": {},
     "output_type": "display_data"
    },
    {
     "name": "stdout",
     "output_type": "stream",
     "text": [
      "unable to find candidates for iteration 507 320549\n",
      "unable to find candidates for iteration 507 321928\n"
     ]
    },
    {
     "data": {
      "text/plain": [
       "  0%|          | 0/8984 [00:00<?, ?it/s]"
      ],
      "application/vnd.jupyter.widget-view+json": {
       "version_major": 2,
       "version_minor": 0,
       "model_id": "12aa269a7edc45e2b72a5132389adc61"
      }
     },
     "metadata": {},
     "output_type": "display_data"
    },
    {
     "name": "stdout",
     "output_type": "stream",
     "text": [
      "unable to find candidates for iteration 508 318759\n",
      "unable to find candidates for iteration 508 320569\n"
     ]
    },
    {
     "data": {
      "text/plain": [
       "  0%|          | 0/41657 [00:00<?, ?it/s]"
      ],
      "application/vnd.jupyter.widget-view+json": {
       "version_major": 2,
       "version_minor": 0,
       "model_id": "f756b10508d445108ba06b0f965902d8"
      }
     },
     "metadata": {},
     "output_type": "display_data"
    },
    {
     "name": "stdout",
     "output_type": "stream",
     "text": [
      "unable to find candidates for iteration 509 320528\n",
      "unable to find candidates for iteration 509 320554\n",
      "unable to find candidates for iteration 509 320574\n"
     ]
    },
    {
     "data": {
      "text/plain": [
       "  0%|          | 0/9464 [00:00<?, ?it/s]"
      ],
      "application/vnd.jupyter.widget-view+json": {
       "version_major": 2,
       "version_minor": 0,
       "model_id": "6f6fbb0adf3d4457804411ae769ac563"
      }
     },
     "metadata": {},
     "output_type": "display_data"
    },
    {
     "name": "stdout",
     "output_type": "stream",
     "text": [
      "unable to find candidates for iteration 510 320524\n",
      "unable to find candidates for iteration 510 320526\n",
      "unable to find candidates for iteration 510 320559\n"
     ]
    },
    {
     "data": {
      "text/plain": [
       "  0%|          | 0/9437 [00:00<?, ?it/s]"
      ],
      "application/vnd.jupyter.widget-view+json": {
       "version_major": 2,
       "version_minor": 0,
       "model_id": "e472ee9c4e744e63baeb6d13abc97bb0"
      }
     },
     "metadata": {},
     "output_type": "display_data"
    },
    {
     "name": "stdout",
     "output_type": "stream",
     "text": [
      "unable to find candidates for iteration 511 321924\n",
      "unable to find candidates for iteration 511 321935\n",
      "unable to find candidates for iteration 511 321936\n"
     ]
    },
    {
     "data": {
      "text/plain": [
       "  0%|          | 0/9407 [00:00<?, ?it/s]"
      ],
      "application/vnd.jupyter.widget-view+json": {
       "version_major": 2,
       "version_minor": 0,
       "model_id": "7b07d3ee4707410b9c68601d7b4a2b28"
      }
     },
     "metadata": {},
     "output_type": "display_data"
    },
    {
     "name": "stdout",
     "output_type": "stream",
     "text": [
      "unable to find candidates for iteration 512 321938\n"
     ]
    },
    {
     "data": {
      "text/plain": [
       "  0%|          | 0/9586 [00:00<?, ?it/s]"
      ],
      "application/vnd.jupyter.widget-view+json": {
       "version_major": 2,
       "version_minor": 0,
       "model_id": "c31ed48c1f504d84bf2bf64322c64e79"
      }
     },
     "metadata": {},
     "output_type": "display_data"
    },
    {
     "name": "stdout",
     "output_type": "stream",
     "text": [
      "unable to find candidates for iteration 513 320473\n",
      "unable to find candidates for iteration 513 320475\n",
      "unable to find candidates for iteration 513 320528\n"
     ]
    },
    {
     "data": {
      "text/plain": [
       "  0%|          | 0/10005 [00:00<?, ?it/s]"
      ],
      "application/vnd.jupyter.widget-view+json": {
       "version_major": 2,
       "version_minor": 0,
       "model_id": "710895d64bcd4ffb9915d099ff693fb8"
      }
     },
     "metadata": {},
     "output_type": "display_data"
    },
    {
     "data": {
      "text/plain": [
       "  0%|          | 0/10199 [00:00<?, ?it/s]"
      ],
      "application/vnd.jupyter.widget-view+json": {
       "version_major": 2,
       "version_minor": 0,
       "model_id": "d5841a45050449618ded3e5d0fb6eef3"
      }
     },
     "metadata": {},
     "output_type": "display_data"
    },
    {
     "name": "stdout",
     "output_type": "stream",
     "text": [
      "unable to find candidates for iteration 515 321927\n"
     ]
    },
    {
     "data": {
      "text/plain": [
       "  0%|          | 0/10200 [00:00<?, ?it/s]"
      ],
      "application/vnd.jupyter.widget-view+json": {
       "version_major": 2,
       "version_minor": 0,
       "model_id": "9181c4e30b29439a88a31756176cd2cb"
      }
     },
     "metadata": {},
     "output_type": "display_data"
    },
    {
     "data": {
      "text/plain": [
       "  0%|          | 0/34738 [00:00<?, ?it/s]"
      ],
      "application/vnd.jupyter.widget-view+json": {
       "version_major": 2,
       "version_minor": 0,
       "model_id": "bfee0900806545358bb8a414d41237bc"
      }
     },
     "metadata": {},
     "output_type": "display_data"
    },
    {
     "name": "stdout",
     "output_type": "stream",
     "text": [
      "unable to find candidates for iteration 517 320583\n"
     ]
    },
    {
     "data": {
      "text/plain": [
       "  0%|          | 0/144643 [00:00<?, ?it/s]"
      ],
      "application/vnd.jupyter.widget-view+json": {
       "version_major": 2,
       "version_minor": 0,
       "model_id": "ad13a5d33fab420abbd539f727d15e2d"
      }
     },
     "metadata": {},
     "output_type": "display_data"
    },
    {
     "name": "stdout",
     "output_type": "stream",
     "text": [
      "unable to find candidates for iteration 518 321937\n",
      "unable to find candidates for iteration 518 381632\n",
      "unable to find candidates for iteration 518 443583\n",
      "unable to find candidates for iteration 518 443589\n",
      "unable to find candidates for iteration 518 443590\n",
      "unable to find candidates for iteration 518 443593\n",
      "unable to find candidates for iteration 518 443595\n",
      "unable to find candidates for iteration 518 443598\n",
      "unable to find candidates for iteration 518 443600\n",
      "unable to find candidates for iteration 518 443616\n",
      "unable to find candidates for iteration 518 443618\n",
      "unable to find candidates for iteration 518 443622\n",
      "unable to find candidates for iteration 518 443624\n",
      "unable to find candidates for iteration 518 443648\n",
      "unable to find candidates for iteration 518 443664\n",
      "unable to find candidates for iteration 518 443666\n",
      "unable to find candidates for iteration 518 443747\n",
      "unable to find candidates for iteration 518 443799\n",
      "unable to find candidates for iteration 518 443802\n",
      "unable to find candidates for iteration 518 443842\n",
      "unable to find candidates for iteration 518 443850\n",
      "unable to find candidates for iteration 518 443852\n",
      "unable to find candidates for iteration 518 462259\n",
      "unable to find candidates for iteration 518 462266\n"
     ]
    },
    {
     "data": {
      "text/plain": [
       "  0%|          | 0/11301 [00:00<?, ?it/s]"
      ],
      "application/vnd.jupyter.widget-view+json": {
       "version_major": 2,
       "version_minor": 0,
       "model_id": "8aab49229e2d46d2b631a280ef276846"
      }
     },
     "metadata": {},
     "output_type": "display_data"
    },
    {
     "name": "stdout",
     "output_type": "stream",
     "text": [
      "unable to find candidates for iteration 519 320524\n",
      "unable to find candidates for iteration 519 320562\n"
     ]
    },
    {
     "data": {
      "text/plain": [
       "  0%|          | 0/14910 [00:00<?, ?it/s]"
      ],
      "application/vnd.jupyter.widget-view+json": {
       "version_major": 2,
       "version_minor": 0,
       "model_id": "dc8d4577bbaf4202a8adcb7004789eb9"
      }
     },
     "metadata": {},
     "output_type": "display_data"
    },
    {
     "name": "stdout",
     "output_type": "stream",
     "text": [
      "unable to find candidates for iteration 520 321931\n"
     ]
    },
    {
     "data": {
      "text/plain": [
       "  0%|          | 0/16448 [00:00<?, ?it/s]"
      ],
      "application/vnd.jupyter.widget-view+json": {
       "version_major": 2,
       "version_minor": 0,
       "model_id": "f1a27e6350e840b19701c990bbf14c09"
      }
     },
     "metadata": {},
     "output_type": "display_data"
    },
    {
     "name": "stdout",
     "output_type": "stream",
     "text": [
      "unable to find candidates for iteration 521 321922\n",
      "unable to find candidates for iteration 521 321933\n"
     ]
    },
    {
     "data": {
      "text/plain": [
       "  0%|          | 0/37216 [00:00<?, ?it/s]"
      ],
      "application/vnd.jupyter.widget-view+json": {
       "version_major": 2,
       "version_minor": 0,
       "model_id": "fb41513e6bd74671994e367385517a49"
      }
     },
     "metadata": {},
     "output_type": "display_data"
    },
    {
     "name": "stdout",
     "output_type": "stream",
     "text": [
      "unable to find candidates for iteration 522 320559\n",
      "unable to find candidates for iteration 522 321923\n",
      "unable to find candidates for iteration 522 345341\n"
     ]
    },
    {
     "data": {
      "text/plain": [
       "  0%|          | 0/16539 [00:00<?, ?it/s]"
      ],
      "application/vnd.jupyter.widget-view+json": {
       "version_major": 2,
       "version_minor": 0,
       "model_id": "97d504cb4e3843268f825495949981f1"
      }
     },
     "metadata": {},
     "output_type": "display_data"
    },
    {
     "name": "stdout",
     "output_type": "stream",
     "text": [
      "unable to find candidates for iteration 523 321924\n"
     ]
    },
    {
     "data": {
      "text/plain": [
       "  0%|          | 0/16535 [00:00<?, ?it/s]"
      ],
      "application/vnd.jupyter.widget-view+json": {
       "version_major": 2,
       "version_minor": 0,
       "model_id": "380b4ae5368c48fea2f14fb127fdbb81"
      }
     },
     "metadata": {},
     "output_type": "display_data"
    },
    {
     "name": "stdout",
     "output_type": "stream",
     "text": [
      "unable to find candidates for iteration 524 323412\n",
      "unable to find candidates for iteration 524 323413\n",
      "unable to find candidates for iteration 524 324977\n",
      "unable to find candidates for iteration 524 324978\n"
     ]
    },
    {
     "data": {
      "text/plain": [
       "  0%|          | 0/15948 [00:00<?, ?it/s]"
      ],
      "application/vnd.jupyter.widget-view+json": {
       "version_major": 2,
       "version_minor": 0,
       "model_id": "8a0b549a3a764769b945f33f7235741f"
      }
     },
     "metadata": {},
     "output_type": "display_data"
    },
    {
     "name": "stdout",
     "output_type": "stream",
     "text": [
      "unable to find candidates for iteration 525 323403\n",
      "unable to find candidates for iteration 525 324949\n"
     ]
    },
    {
     "data": {
      "text/plain": [
       "  0%|          | 0/15673 [00:00<?, ?it/s]"
      ],
      "application/vnd.jupyter.widget-view+json": {
       "version_major": 2,
       "version_minor": 0,
       "model_id": "9d94245f3ac34acdb39c4673a314724b"
      }
     },
     "metadata": {},
     "output_type": "display_data"
    },
    {
     "data": {
      "text/plain": [
       "  0%|          | 0/16290 [00:00<?, ?it/s]"
      ],
      "application/vnd.jupyter.widget-view+json": {
       "version_major": 2,
       "version_minor": 0,
       "model_id": "0cfd8d0ba01f4831b88db8df7d9b036b"
      }
     },
     "metadata": {},
     "output_type": "display_data"
    },
    {
     "data": {
      "text/plain": [
       "  0%|          | 0/16151 [00:00<?, ?it/s]"
      ],
      "application/vnd.jupyter.widget-view+json": {
       "version_major": 2,
       "version_minor": 0,
       "model_id": "10f72d1db6dc47f2a02dda824507fa09"
      }
     },
     "metadata": {},
     "output_type": "display_data"
    },
    {
     "name": "stdout",
     "output_type": "stream",
     "text": [
      "unable to find candidates for iteration 528 324963\n"
     ]
    },
    {
     "data": {
      "text/plain": [
       "  0%|          | 0/16307 [00:00<?, ?it/s]"
      ],
      "application/vnd.jupyter.widget-view+json": {
       "version_major": 2,
       "version_minor": 0,
       "model_id": "6cac698cbe174677a73d76804b5052ff"
      }
     },
     "metadata": {},
     "output_type": "display_data"
    },
    {
     "data": {
      "text/plain": [
       "  0%|          | 0/16398 [00:00<?, ?it/s]"
      ],
      "application/vnd.jupyter.widget-view+json": {
       "version_major": 2,
       "version_minor": 0,
       "model_id": "d704dee2d9104055a1424fcf5366822f"
      }
     },
     "metadata": {},
     "output_type": "display_data"
    },
    {
     "name": "stdout",
     "output_type": "stream",
     "text": [
      "unable to find candidates for iteration 530 324963\n",
      "unable to find candidates for iteration 530 331701\n"
     ]
    },
    {
     "data": {
      "text/plain": [
       "  0%|          | 0/16534 [00:00<?, ?it/s]"
      ],
      "application/vnd.jupyter.widget-view+json": {
       "version_major": 2,
       "version_minor": 0,
       "model_id": "e9488437eee944baaf00ad2ed6b80f1f"
      }
     },
     "metadata": {},
     "output_type": "display_data"
    },
    {
     "data": {
      "text/plain": [
       "  0%|          | 0/17001 [00:00<?, ?it/s]"
      ],
      "application/vnd.jupyter.widget-view+json": {
       "version_major": 2,
       "version_minor": 0,
       "model_id": "69fa3565a9d742cebcb05a251ba6aedd"
      }
     },
     "metadata": {},
     "output_type": "display_data"
    },
    {
     "name": "stdout",
     "output_type": "stream",
     "text": [
      "unable to find candidates for iteration 532 331718\n",
      "unable to find candidates for iteration 532 331720\n",
      "unable to find candidates for iteration 532 331721\n",
      "unable to find candidates for iteration 532 331765\n"
     ]
    },
    {
     "data": {
      "text/plain": [
       "  0%|          | 0/16984 [00:00<?, ?it/s]"
      ],
      "application/vnd.jupyter.widget-view+json": {
       "version_major": 2,
       "version_minor": 0,
       "model_id": "5c41c90e0f154ef0a09b50314dbece47"
      }
     },
     "metadata": {},
     "output_type": "display_data"
    },
    {
     "name": "stdout",
     "output_type": "stream",
     "text": [
      "unable to find candidates for iteration 533 331720\n",
      "unable to find candidates for iteration 533 331721\n"
     ]
    },
    {
     "data": {
      "text/plain": [
       "  0%|          | 0/16310 [00:00<?, ?it/s]"
      ],
      "application/vnd.jupyter.widget-view+json": {
       "version_major": 2,
       "version_minor": 0,
       "model_id": "c47224322aa14d1489161f43b44105d5"
      }
     },
     "metadata": {},
     "output_type": "display_data"
    },
    {
     "data": {
      "text/plain": [
       "  0%|          | 0/16901 [00:00<?, ?it/s]"
      ],
      "application/vnd.jupyter.widget-view+json": {
       "version_major": 2,
       "version_minor": 0,
       "model_id": "97c4da8cab4445f4906eb8b227437eb5"
      }
     },
     "metadata": {},
     "output_type": "display_data"
    },
    {
     "name": "stdout",
     "output_type": "stream",
     "text": [
      "unable to find candidates for iteration 535 341882\n",
      "unable to find candidates for iteration 535 345258\n",
      "unable to find candidates for iteration 535 345259\n"
     ]
    },
    {
     "data": {
      "text/plain": [
       "  0%|          | 0/16876 [00:00<?, ?it/s]"
      ],
      "application/vnd.jupyter.widget-view+json": {
       "version_major": 2,
       "version_minor": 0,
       "model_id": "d6c2b9cabee04e798941b37bf2bcd0b1"
      }
     },
     "metadata": {},
     "output_type": "display_data"
    },
    {
     "name": "stdout",
     "output_type": "stream",
     "text": [
      "unable to find candidates for iteration 536 331721\n",
      "unable to find candidates for iteration 536 331722\n",
      "unable to find candidates for iteration 536 341833\n",
      "unable to find candidates for iteration 536 345319\n",
      "unable to find candidates for iteration 536 345320\n"
     ]
    },
    {
     "data": {
      "text/plain": [
       "  0%|          | 0/16868 [00:00<?, ?it/s]"
      ],
      "application/vnd.jupyter.widget-view+json": {
       "version_major": 2,
       "version_minor": 0,
       "model_id": "b7d53b7ef8f9453fac20bb9e4a7d1fc0"
      }
     },
     "metadata": {},
     "output_type": "display_data"
    },
    {
     "name": "stdout",
     "output_type": "stream",
     "text": [
      "unable to find candidates for iteration 537 331682\n",
      "unable to find candidates for iteration 537 341829\n",
      "unable to find candidates for iteration 537 345330\n",
      "unable to find candidates for iteration 537 345331\n"
     ]
    },
    {
     "data": {
      "text/plain": [
       "  0%|          | 0/16616 [00:00<?, ?it/s]"
      ],
      "application/vnd.jupyter.widget-view+json": {
       "version_major": 2,
       "version_minor": 0,
       "model_id": "e9596e956651423f8c58bd9b0719d993"
      }
     },
     "metadata": {},
     "output_type": "display_data"
    },
    {
     "name": "stdout",
     "output_type": "stream",
     "text": [
      "unable to find candidates for iteration 538 331677\n",
      "unable to find candidates for iteration 538 331720\n",
      "unable to find candidates for iteration 538 331721\n",
      "unable to find candidates for iteration 538 336429\n",
      "unable to find candidates for iteration 538 341847\n",
      "unable to find candidates for iteration 538 345342\n"
     ]
    },
    {
     "data": {
      "text/plain": [
       "  0%|          | 0/16624 [00:00<?, ?it/s]"
      ],
      "application/vnd.jupyter.widget-view+json": {
       "version_major": 2,
       "version_minor": 0,
       "model_id": "ddada634af19479eb465a75108a4a25d"
      }
     },
     "metadata": {},
     "output_type": "display_data"
    },
    {
     "name": "stdout",
     "output_type": "stream",
     "text": [
      "unable to find candidates for iteration 539 341846\n"
     ]
    },
    {
     "data": {
      "text/plain": [
       "  0%|          | 0/33426 [00:00<?, ?it/s]"
      ],
      "application/vnd.jupyter.widget-view+json": {
       "version_major": 2,
       "version_minor": 0,
       "model_id": "f7f63a8158dc4a47b3623a2f74ca8100"
      }
     },
     "metadata": {},
     "output_type": "display_data"
    },
    {
     "name": "stdout",
     "output_type": "stream",
     "text": [
      "unable to find candidates for iteration 540 331765\n",
      "unable to find candidates for iteration 540 331840\n",
      "unable to find candidates for iteration 540 336474\n",
      "unable to find candidates for iteration 540 345250\n",
      "unable to find candidates for iteration 540 345296\n",
      "unable to find candidates for iteration 540 360775\n"
     ]
    },
    {
     "data": {
      "text/plain": [
       "  0%|          | 0/15833 [00:00<?, ?it/s]"
      ],
      "application/vnd.jupyter.widget-view+json": {
       "version_major": 2,
       "version_minor": 0,
       "model_id": "85ab56e00b5b400e88ce463eeecb9da5"
      }
     },
     "metadata": {},
     "output_type": "display_data"
    },
    {
     "name": "stdout",
     "output_type": "stream",
     "text": [
      "unable to find candidates for iteration 541 336431\n",
      "unable to find candidates for iteration 541 341823\n",
      "unable to find candidates for iteration 541 341846\n",
      "unable to find candidates for iteration 541 345358\n"
     ]
    },
    {
     "data": {
      "text/plain": [
       "  0%|          | 0/15458 [00:00<?, ?it/s]"
      ],
      "application/vnd.jupyter.widget-view+json": {
       "version_major": 2,
       "version_minor": 0,
       "model_id": "e64aa2b752ec4479b157d3616da94706"
      }
     },
     "metadata": {},
     "output_type": "display_data"
    },
    {
     "name": "stdout",
     "output_type": "stream",
     "text": [
      "unable to find candidates for iteration 542 336429\n",
      "unable to find candidates for iteration 542 341847\n",
      "unable to find candidates for iteration 542 345346\n"
     ]
    },
    {
     "data": {
      "text/plain": [
       "  0%|          | 0/15422 [00:00<?, ?it/s]"
      ],
      "application/vnd.jupyter.widget-view+json": {
       "version_major": 2,
       "version_minor": 0,
       "model_id": "07c11edb7e8e4c2da979802ba87013bf"
      }
     },
     "metadata": {},
     "output_type": "display_data"
    },
    {
     "name": "stdout",
     "output_type": "stream",
     "text": [
      "unable to find candidates for iteration 543 336432\n",
      "unable to find candidates for iteration 543 341847\n",
      "unable to find candidates for iteration 543 345339\n",
      "unable to find candidates for iteration 543 345340\n"
     ]
    },
    {
     "data": {
      "text/plain": [
       "  0%|          | 0/15653 [00:00<?, ?it/s]"
      ],
      "application/vnd.jupyter.widget-view+json": {
       "version_major": 2,
       "version_minor": 0,
       "model_id": "d264dc6635dc4d6eb923e5415b7c5155"
      }
     },
     "metadata": {},
     "output_type": "display_data"
    },
    {
     "name": "stdout",
     "output_type": "stream",
     "text": [
      "unable to find candidates for iteration 544 336474\n",
      "unable to find candidates for iteration 544 341847\n",
      "unable to find candidates for iteration 544 341887\n",
      "unable to find candidates for iteration 544 345248\n"
     ]
    },
    {
     "data": {
      "text/plain": [
       "  0%|          | 0/15636 [00:00<?, ?it/s]"
      ],
      "application/vnd.jupyter.widget-view+json": {
       "version_major": 2,
       "version_minor": 0,
       "model_id": "9c04aa95d1c84b6eb241ae3bde190cc5"
      }
     },
     "metadata": {},
     "output_type": "display_data"
    },
    {
     "name": "stdout",
     "output_type": "stream",
     "text": [
      "unable to find candidates for iteration 545 335380\n",
      "unable to find candidates for iteration 545 341839\n",
      "unable to find candidates for iteration 545 345345\n",
      "unable to find candidates for iteration 545 345346\n"
     ]
    },
    {
     "data": {
      "text/plain": [
       "  0%|          | 0/15781 [00:00<?, ?it/s]"
      ],
      "application/vnd.jupyter.widget-view+json": {
       "version_major": 2,
       "version_minor": 0,
       "model_id": "10e179dd34a44693b658cbfb1298c0d9"
      }
     },
     "metadata": {},
     "output_type": "display_data"
    },
    {
     "name": "stdout",
     "output_type": "stream",
     "text": [
      "unable to find candidates for iteration 546 345325\n",
      "unable to find candidates for iteration 546 345351\n"
     ]
    },
    {
     "data": {
      "text/plain": [
       "  0%|          | 0/15846 [00:00<?, ?it/s]"
      ],
      "application/vnd.jupyter.widget-view+json": {
       "version_major": 2,
       "version_minor": 0,
       "model_id": "dfeaf9872c6c439fbcc412676ebe103a"
      }
     },
     "metadata": {},
     "output_type": "display_data"
    },
    {
     "name": "stdout",
     "output_type": "stream",
     "text": [
      "unable to find candidates for iteration 547 341847\n",
      "unable to find candidates for iteration 547 341932\n",
      "unable to find candidates for iteration 547 345347\n",
      "unable to find candidates for iteration 547 345348\n"
     ]
    },
    {
     "data": {
      "text/plain": [
       "  0%|          | 0/15037 [00:00<?, ?it/s]"
      ],
      "application/vnd.jupyter.widget-view+json": {
       "version_major": 2,
       "version_minor": 0,
       "model_id": "f69fe5a3c1df4c3d9ecb12c73bf234c0"
      }
     },
     "metadata": {},
     "output_type": "display_data"
    },
    {
     "name": "stdout",
     "output_type": "stream",
     "text": [
      "unable to find candidates for iteration 548 341872\n",
      "unable to find candidates for iteration 548 341972\n",
      "unable to find candidates for iteration 548 341974\n",
      "unable to find candidates for iteration 548 345277\n"
     ]
    },
    {
     "data": {
      "text/plain": [
       "  0%|          | 0/14183 [00:00<?, ?it/s]"
      ],
      "application/vnd.jupyter.widget-view+json": {
       "version_major": 2,
       "version_minor": 0,
       "model_id": "225a9a6bb603476fada06a27919ea850"
      }
     },
     "metadata": {},
     "output_type": "display_data"
    },
    {
     "name": "stdout",
     "output_type": "stream",
     "text": [
      "unable to find candidates for iteration 549 341830\n",
      "unable to find candidates for iteration 549 341937\n",
      "unable to find candidates for iteration 549 345324\n",
      "unable to find candidates for iteration 549 345327\n"
     ]
    },
    {
     "data": {
      "text/plain": [
       "  0%|          | 0/14086 [00:00<?, ?it/s]"
      ],
      "application/vnd.jupyter.widget-view+json": {
       "version_major": 2,
       "version_minor": 0,
       "model_id": "faf2c2e6591748e9a58ea8df2f9b8c96"
      }
     },
     "metadata": {},
     "output_type": "display_data"
    },
    {
     "data": {
      "text/plain": [
       "  0%|          | 0/13293 [00:00<?, ?it/s]"
      ],
      "application/vnd.jupyter.widget-view+json": {
       "version_major": 2,
       "version_minor": 0,
       "model_id": "e3352f1cc9b54a83b1989700d07de22d"
      }
     },
     "metadata": {},
     "output_type": "display_data"
    },
    {
     "data": {
      "text/plain": [
       "  0%|          | 0/11555 [00:00<?, ?it/s]"
      ],
      "application/vnd.jupyter.widget-view+json": {
       "version_major": 2,
       "version_minor": 0,
       "model_id": "206c9864d4fc45329b62a117bb78cf9b"
      }
     },
     "metadata": {},
     "output_type": "display_data"
    },
    {
     "data": {
      "text/plain": [
       "  0%|          | 0/11589 [00:00<?, ?it/s]"
      ],
      "application/vnd.jupyter.widget-view+json": {
       "version_major": 2,
       "version_minor": 0,
       "model_id": "7abe88218398473abbfa5fa5046a212b"
      }
     },
     "metadata": {},
     "output_type": "display_data"
    },
    {
     "name": "stdout",
     "output_type": "stream",
     "text": [
      "unable to find candidates for iteration 553 355048\n",
      "unable to find candidates for iteration 553 355066\n"
     ]
    },
    {
     "data": {
      "text/plain": [
       "  0%|          | 0/11610 [00:00<?, ?it/s]"
      ],
      "application/vnd.jupyter.widget-view+json": {
       "version_major": 2,
       "version_minor": 0,
       "model_id": "7619b8f5e10b4645900dd32776a6519e"
      }
     },
     "metadata": {},
     "output_type": "display_data"
    },
    {
     "data": {
      "text/plain": [
       "  0%|          | 0/11270 [00:00<?, ?it/s]"
      ],
      "application/vnd.jupyter.widget-view+json": {
       "version_major": 2,
       "version_minor": 0,
       "model_id": "bc001495ca394423961b3bf4b1662a9b"
      }
     },
     "metadata": {},
     "output_type": "display_data"
    },
    {
     "data": {
      "text/plain": [
       "  0%|          | 0/11164 [00:00<?, ?it/s]"
      ],
      "application/vnd.jupyter.widget-view+json": {
       "version_major": 2,
       "version_minor": 0,
       "model_id": "46c60f5f18aa4f0d874df0b062038a3a"
      }
     },
     "metadata": {},
     "output_type": "display_data"
    },
    {
     "data": {
      "text/plain": [
       "  0%|          | 0/11089 [00:00<?, ?it/s]"
      ],
      "application/vnd.jupyter.widget-view+json": {
       "version_major": 2,
       "version_minor": 0,
       "model_id": "47af7ba338784327afa19607bd7b99da"
      }
     },
     "metadata": {},
     "output_type": "display_data"
    },
    {
     "data": {
      "text/plain": [
       "  0%|          | 0/10431 [00:00<?, ?it/s]"
      ],
      "application/vnd.jupyter.widget-view+json": {
       "version_major": 2,
       "version_minor": 0,
       "model_id": "7d7c79801da54fe5b4487636b7147feb"
      }
     },
     "metadata": {},
     "output_type": "display_data"
    },
    {
     "data": {
      "text/plain": [
       "  0%|          | 0/10317 [00:00<?, ?it/s]"
      ],
      "application/vnd.jupyter.widget-view+json": {
       "version_major": 2,
       "version_minor": 0,
       "model_id": "401a21e05a904c4c954a822cdff7bccf"
      }
     },
     "metadata": {},
     "output_type": "display_data"
    },
    {
     "name": "stdout",
     "output_type": "stream",
     "text": [
      "unable to find candidates for iteration 559 355559\n",
      "unable to find candidates for iteration 559 355581\n"
     ]
    },
    {
     "data": {
      "text/plain": [
       "  0%|          | 0/9622 [00:00<?, ?it/s]"
      ],
      "application/vnd.jupyter.widget-view+json": {
       "version_major": 2,
       "version_minor": 0,
       "model_id": "e273751e6bee43249e9a2fe4a32b3175"
      }
     },
     "metadata": {},
     "output_type": "display_data"
    },
    {
     "name": "stdout",
     "output_type": "stream",
     "text": [
      "unable to find candidates for iteration 560 355568\n"
     ]
    },
    {
     "data": {
      "text/plain": [
       "  0%|          | 0/9589 [00:00<?, ?it/s]"
      ],
      "application/vnd.jupyter.widget-view+json": {
       "version_major": 2,
       "version_minor": 0,
       "model_id": "85cce95d1e514a79914eb20f45368c5f"
      }
     },
     "metadata": {},
     "output_type": "display_data"
    },
    {
     "name": "stdout",
     "output_type": "stream",
     "text": [
      "unable to find candidates for iteration 561 358691\n"
     ]
    },
    {
     "data": {
      "text/plain": [
       "  0%|          | 0/10119 [00:00<?, ?it/s]"
      ],
      "application/vnd.jupyter.widget-view+json": {
       "version_major": 2,
       "version_minor": 0,
       "model_id": "8f98e6e9cc5441a48c6fd694e2dedef6"
      }
     },
     "metadata": {},
     "output_type": "display_data"
    },
    {
     "name": "stdout",
     "output_type": "stream",
     "text": [
      "unable to find candidates for iteration 562 355069\n",
      "unable to find candidates for iteration 562 355566\n",
      "unable to find candidates for iteration 562 360671\n"
     ]
    },
    {
     "data": {
      "text/plain": [
       "  0%|          | 0/10146 [00:00<?, ?it/s]"
      ],
      "application/vnd.jupyter.widget-view+json": {
       "version_major": 2,
       "version_minor": 0,
       "model_id": "aca1665e30a9430cbac3807556f82518"
      }
     },
     "metadata": {},
     "output_type": "display_data"
    },
    {
     "name": "stdout",
     "output_type": "stream",
     "text": [
      "unable to find candidates for iteration 563 355558\n",
      "unable to find candidates for iteration 563 358714\n",
      "unable to find candidates for iteration 563 360697\n"
     ]
    },
    {
     "data": {
      "text/plain": [
       "  0%|          | 0/54059 [00:00<?, ?it/s]"
      ],
      "application/vnd.jupyter.widget-view+json": {
       "version_major": 2,
       "version_minor": 0,
       "model_id": "f5ad174cc4df46949bdda9704b05831a"
      }
     },
     "metadata": {},
     "output_type": "display_data"
    },
    {
     "name": "stdout",
     "output_type": "stream",
     "text": [
      "unable to find candidates for iteration 564 355576\n",
      "unable to find candidates for iteration 564 358738\n",
      "unable to find candidates for iteration 564 358739\n",
      "unable to find candidates for iteration 564 360676\n",
      "unable to find candidates for iteration 564 360690\n",
      "unable to find candidates for iteration 564 360704\n",
      "unable to find candidates for iteration 564 381657\n"
     ]
    },
    {
     "data": {
      "text/plain": [
       "  0%|          | 0/10691 [00:00<?, ?it/s]"
      ],
      "application/vnd.jupyter.widget-view+json": {
       "version_major": 2,
       "version_minor": 0,
       "model_id": "c9e466c25e9541bfbe0cf179311d20b5"
      }
     },
     "metadata": {},
     "output_type": "display_data"
    },
    {
     "name": "stdout",
     "output_type": "stream",
     "text": [
      "unable to find candidates for iteration 565 355578\n",
      "unable to find candidates for iteration 565 358741\n",
      "unable to find candidates for iteration 565 358742\n",
      "unable to find candidates for iteration 565 360690\n",
      "unable to find candidates for iteration 565 360693\n"
     ]
    },
    {
     "data": {
      "text/plain": [
       "  0%|          | 0/10711 [00:00<?, ?it/s]"
      ],
      "application/vnd.jupyter.widget-view+json": {
       "version_major": 2,
       "version_minor": 0,
       "model_id": "36513b4324c54fbb98536abc7802d813"
      }
     },
     "metadata": {},
     "output_type": "display_data"
    },
    {
     "name": "stdout",
     "output_type": "stream",
     "text": [
      "unable to find candidates for iteration 566 355575\n",
      "unable to find candidates for iteration 566 358738\n",
      "unable to find candidates for iteration 566 358739\n",
      "unable to find candidates for iteration 566 360676\n",
      "unable to find candidates for iteration 566 360677\n",
      "unable to find candidates for iteration 566 360704\n",
      "unable to find candidates for iteration 566 362451\n",
      "unable to find candidates for iteration 566 362465\n"
     ]
    },
    {
     "data": {
      "text/plain": [
       "  0%|          | 0/10759 [00:00<?, ?it/s]"
      ],
      "application/vnd.jupyter.widget-view+json": {
       "version_major": 2,
       "version_minor": 0,
       "model_id": "a503ef8e4b584bd2a6e32bd078e74430"
      }
     },
     "metadata": {},
     "output_type": "display_data"
    },
    {
     "name": "stdout",
     "output_type": "stream",
     "text": [
      "unable to find candidates for iteration 567 362454\n"
     ]
    },
    {
     "data": {
      "text/plain": [
       "  0%|          | 0/10697 [00:00<?, ?it/s]"
      ],
      "application/vnd.jupyter.widget-view+json": {
       "version_major": 2,
       "version_minor": 0,
       "model_id": "370950b69c364baea8a3494ad3684191"
      }
     },
     "metadata": {},
     "output_type": "display_data"
    },
    {
     "name": "stdout",
     "output_type": "stream",
     "text": [
      "unable to find candidates for iteration 568 355559\n",
      "unable to find candidates for iteration 568 355560\n",
      "unable to find candidates for iteration 568 355581\n",
      "unable to find candidates for iteration 568 360696\n",
      "unable to find candidates for iteration 568 360697\n",
      "unable to find candidates for iteration 568 362461\n",
      "unable to find candidates for iteration 568 362492\n"
     ]
    },
    {
     "data": {
      "text/plain": [
       "  0%|          | 0/10673 [00:00<?, ?it/s]"
      ],
      "application/vnd.jupyter.widget-view+json": {
       "version_major": 2,
       "version_minor": 0,
       "model_id": "5728e363e0744d1d8c76652173ce911a"
      }
     },
     "metadata": {},
     "output_type": "display_data"
    },
    {
     "name": "stdout",
     "output_type": "stream",
     "text": [
      "unable to find candidates for iteration 569 355055\n",
      "unable to find candidates for iteration 569 355539\n",
      "unable to find candidates for iteration 569 358697\n",
      "unable to find candidates for iteration 569 362512\n"
     ]
    },
    {
     "data": {
      "text/plain": [
       "  0%|          | 0/20626 [00:00<?, ?it/s]"
      ],
      "application/vnd.jupyter.widget-view+json": {
       "version_major": 2,
       "version_minor": 0,
       "model_id": "6bc321a8a6a84908820e1aede6fdb6ac"
      }
     },
     "metadata": {},
     "output_type": "display_data"
    },
    {
     "name": "stdout",
     "output_type": "stream",
     "text": [
      "unable to find candidates for iteration 570 358694\n",
      "unable to find candidates for iteration 570 358711\n",
      "unable to find candidates for iteration 570 360733\n",
      "unable to find candidates for iteration 570 360746\n",
      "unable to find candidates for iteration 570 362534\n"
     ]
    },
    {
     "data": {
      "text/plain": [
       "  0%|          | 0/13527 [00:00<?, ?it/s]"
      ],
      "application/vnd.jupyter.widget-view+json": {
       "version_major": 2,
       "version_minor": 0,
       "model_id": "f244f6c474c54dea901babc5c28dbec1"
      }
     },
     "metadata": {},
     "output_type": "display_data"
    },
    {
     "name": "stdout",
     "output_type": "stream",
     "text": [
      "unable to find candidates for iteration 571 358733\n",
      "unable to find candidates for iteration 571 358736\n",
      "unable to find candidates for iteration 571 360690\n",
      "unable to find candidates for iteration 571 362480\n"
     ]
    },
    {
     "data": {
      "text/plain": [
       "  0%|          | 0/11634 [00:00<?, ?it/s]"
      ],
      "application/vnd.jupyter.widget-view+json": {
       "version_major": 2,
       "version_minor": 0,
       "model_id": "c0b8a10110ec403888541d7d950895df"
      }
     },
     "metadata": {},
     "output_type": "display_data"
    },
    {
     "name": "stdout",
     "output_type": "stream",
     "text": [
      "unable to find candidates for iteration 572 358740\n",
      "unable to find candidates for iteration 572 358741\n",
      "unable to find candidates for iteration 572 360674\n",
      "unable to find candidates for iteration 572 360690\n",
      "unable to find candidates for iteration 572 362475\n",
      "unable to find candidates for iteration 572 362477\n"
     ]
    },
    {
     "data": {
      "text/plain": [
       "  0%|          | 0/12574 [00:00<?, ?it/s]"
      ],
      "application/vnd.jupyter.widget-view+json": {
       "version_major": 2,
       "version_minor": 0,
       "model_id": "273dc0e1d32647c3a9640c14138f1077"
      }
     },
     "metadata": {},
     "output_type": "display_data"
    },
    {
     "name": "stdout",
     "output_type": "stream",
     "text": [
      "unable to find candidates for iteration 573 358740\n",
      "unable to find candidates for iteration 573 360674\n",
      "unable to find candidates for iteration 573 362451\n",
      "unable to find candidates for iteration 573 362477\n"
     ]
    },
    {
     "data": {
      "text/plain": [
       "  0%|          | 0/11755 [00:00<?, ?it/s]"
      ],
      "application/vnd.jupyter.widget-view+json": {
       "version_major": 2,
       "version_minor": 0,
       "model_id": "055b086c7d664c5b91860937c96ab2e7"
      }
     },
     "metadata": {},
     "output_type": "display_data"
    },
    {
     "name": "stdout",
     "output_type": "stream",
     "text": [
      "unable to find candidates for iteration 574 358739\n",
      "unable to find candidates for iteration 574 358740\n",
      "unable to find candidates for iteration 574 362451\n",
      "unable to find candidates for iteration 574 362477\n"
     ]
    },
    {
     "data": {
      "text/plain": [
       "  0%|          | 0/12026 [00:00<?, ?it/s]"
      ],
      "application/vnd.jupyter.widget-view+json": {
       "version_major": 2,
       "version_minor": 0,
       "model_id": "80d89bb0cb9b45d08f6c4f6dbd1945dd"
      }
     },
     "metadata": {},
     "output_type": "display_data"
    },
    {
     "name": "stdout",
     "output_type": "stream",
     "text": [
      "unable to find candidates for iteration 575 358742\n",
      "unable to find candidates for iteration 575 358743\n",
      "unable to find candidates for iteration 575 360689\n",
      "unable to find candidates for iteration 575 362473\n",
      "unable to find candidates for iteration 575 362475\n"
     ]
    },
    {
     "data": {
      "text/plain": [
       "  0%|          | 0/12183 [00:00<?, ?it/s]"
      ],
      "application/vnd.jupyter.widget-view+json": {
       "version_major": 2,
       "version_minor": 0,
       "model_id": "7f2f9621294248a78e5f5cfd0fffe800"
      }
     },
     "metadata": {},
     "output_type": "display_data"
    },
    {
     "name": "stdout",
     "output_type": "stream",
     "text": [
      "unable to find candidates for iteration 576 360700\n",
      "unable to find candidates for iteration 576 362492\n"
     ]
    },
    {
     "data": {
      "text/plain": [
       "  0%|          | 0/12707 [00:00<?, ?it/s]"
      ],
      "application/vnd.jupyter.widget-view+json": {
       "version_major": 2,
       "version_minor": 0,
       "model_id": "cf160ed7bd8e437e808224df5fd9b734"
      }
     },
     "metadata": {},
     "output_type": "display_data"
    },
    {
     "name": "stdout",
     "output_type": "stream",
     "text": [
      "unable to find candidates for iteration 577 362473\n",
      "unable to find candidates for iteration 577 362475\n"
     ]
    },
    {
     "data": {
      "text/plain": [
       "  0%|          | 0/12697 [00:00<?, ?it/s]"
      ],
      "application/vnd.jupyter.widget-view+json": {
       "version_major": 2,
       "version_minor": 0,
       "model_id": "d7f0ce7f9fb94ae682112e0862465a29"
      }
     },
     "metadata": {},
     "output_type": "display_data"
    },
    {
     "name": "stdout",
     "output_type": "stream",
     "text": [
      "unable to find candidates for iteration 578 360685\n",
      "unable to find candidates for iteration 578 360701\n",
      "unable to find candidates for iteration 578 362471\n",
      "unable to find candidates for iteration 578 362472\n"
     ]
    },
    {
     "data": {
      "text/plain": [
       "  0%|          | 0/12699 [00:00<?, ?it/s]"
      ],
      "application/vnd.jupyter.widget-view+json": {
       "version_major": 2,
       "version_minor": 0,
       "model_id": "6a30d43f3b4f4e269e223f8f137bc1da"
      }
     },
     "metadata": {},
     "output_type": "display_data"
    },
    {
     "name": "stdout",
     "output_type": "stream",
     "text": [
      "unable to find candidates for iteration 579 360676\n",
      "unable to find candidates for iteration 579 360693\n",
      "unable to find candidates for iteration 579 360704\n",
      "unable to find candidates for iteration 579 362451\n"
     ]
    },
    {
     "data": {
      "text/plain": [
       "  0%|          | 0/12715 [00:00<?, ?it/s]"
      ],
      "application/vnd.jupyter.widget-view+json": {
       "version_major": 2,
       "version_minor": 0,
       "model_id": "1112b3223ead4dce864bb4ff6a3b6124"
      }
     },
     "metadata": {},
     "output_type": "display_data"
    },
    {
     "name": "stdout",
     "output_type": "stream",
     "text": [
      "unable to find candidates for iteration 580 362475\n"
     ]
    },
    {
     "data": {
      "text/plain": [
       "  0%|          | 0/13377 [00:00<?, ?it/s]"
      ],
      "application/vnd.jupyter.widget-view+json": {
       "version_major": 2,
       "version_minor": 0,
       "model_id": "cc45cb6fd5bd4b3db49e0f5bbbffa6a4"
      }
     },
     "metadata": {},
     "output_type": "display_data"
    },
    {
     "name": "stdout",
     "output_type": "stream",
     "text": [
      "unable to find candidates for iteration 581 360733\n",
      "unable to find candidates for iteration 581 362510\n",
      "unable to find candidates for iteration 581 362520\n"
     ]
    },
    {
     "data": {
      "text/plain": [
       "  0%|          | 0/13396 [00:00<?, ?it/s]"
      ],
      "application/vnd.jupyter.widget-view+json": {
       "version_major": 2,
       "version_minor": 0,
       "model_id": "38c538a7accf4dc7b3089bae5d5afab7"
      }
     },
     "metadata": {},
     "output_type": "display_data"
    },
    {
     "data": {
      "text/plain": [
       "  0%|          | 0/13180 [00:00<?, ?it/s]"
      ],
      "application/vnd.jupyter.widget-view+json": {
       "version_major": 2,
       "version_minor": 0,
       "model_id": "13f37072fd244bba8211610c3978727f"
      }
     },
     "metadata": {},
     "output_type": "display_data"
    },
    {
     "name": "stdout",
     "output_type": "stream",
     "text": [
      "unable to find candidates for iteration 583 362436\n"
     ]
    },
    {
     "data": {
      "text/plain": [
       "  0%|          | 0/13192 [00:00<?, ?it/s]"
      ],
      "application/vnd.jupyter.widget-view+json": {
       "version_major": 2,
       "version_minor": 0,
       "model_id": "63ee2040631f48a2b6c2366b4296437a"
      }
     },
     "metadata": {},
     "output_type": "display_data"
    },
    {
     "name": "stdout",
     "output_type": "stream",
     "text": [
      "unable to find candidates for iteration 584 362486\n"
     ]
    },
    {
     "data": {
      "text/plain": [
       "  0%|          | 0/12784 [00:00<?, ?it/s]"
      ],
      "application/vnd.jupyter.widget-view+json": {
       "version_major": 2,
       "version_minor": 0,
       "model_id": "3f76c3b9a2c546838042c80a8e4c7a95"
      }
     },
     "metadata": {},
     "output_type": "display_data"
    },
    {
     "data": {
      "text/plain": [
       "  0%|          | 0/12728 [00:00<?, ?it/s]"
      ],
      "application/vnd.jupyter.widget-view+json": {
       "version_major": 2,
       "version_minor": 0,
       "model_id": "50bd4c9e360e42648790f8706795fa2f"
      }
     },
     "metadata": {},
     "output_type": "display_data"
    },
    {
     "data": {
      "text/plain": [
       "  0%|          | 0/12749 [00:00<?, ?it/s]"
      ],
      "application/vnd.jupyter.widget-view+json": {
       "version_major": 2,
       "version_minor": 0,
       "model_id": "93dbbfa41ab8433ea5ddd498d3aac52f"
      }
     },
     "metadata": {},
     "output_type": "display_data"
    },
    {
     "data": {
      "text/plain": [
       "  0%|          | 0/12796 [00:00<?, ?it/s]"
      ],
      "application/vnd.jupyter.widget-view+json": {
       "version_major": 2,
       "version_minor": 0,
       "model_id": "bd8589da579e43c2baa8066df0e9bd38"
      }
     },
     "metadata": {},
     "output_type": "display_data"
    },
    {
     "data": {
      "text/plain": [
       "  0%|          | 0/12933 [00:00<?, ?it/s]"
      ],
      "application/vnd.jupyter.widget-view+json": {
       "version_major": 2,
       "version_minor": 0,
       "model_id": "d1643bc703a441e08ae411f5345c096a"
      }
     },
     "metadata": {},
     "output_type": "display_data"
    },
    {
     "data": {
      "text/plain": [
       "  0%|          | 0/13192 [00:00<?, ?it/s]"
      ],
      "application/vnd.jupyter.widget-view+json": {
       "version_major": 2,
       "version_minor": 0,
       "model_id": "f84e9565b29f4c25babe3a17d81df15b"
      }
     },
     "metadata": {},
     "output_type": "display_data"
    },
    {
     "data": {
      "text/plain": [
       "  0%|          | 0/13224 [00:00<?, ?it/s]"
      ],
      "application/vnd.jupyter.widget-view+json": {
       "version_major": 2,
       "version_minor": 0,
       "model_id": "c66f5d8e41d84f2dbdac7d2a7e1322de"
      }
     },
     "metadata": {},
     "output_type": "display_data"
    },
    {
     "name": "stdout",
     "output_type": "stream",
     "text": [
      "unable to find candidates for iteration 591 370229\n",
      "unable to find candidates for iteration 591 370230\n"
     ]
    },
    {
     "data": {
      "text/plain": [
       "  0%|          | 0/13040 [00:00<?, ?it/s]"
      ],
      "application/vnd.jupyter.widget-view+json": {
       "version_major": 2,
       "version_minor": 0,
       "model_id": "28153fa976684a269bc402f1cece02fb"
      }
     },
     "metadata": {},
     "output_type": "display_data"
    },
    {
     "data": {
      "text/plain": [
       "  0%|          | 0/13042 [00:00<?, ?it/s]"
      ],
      "application/vnd.jupyter.widget-view+json": {
       "version_major": 2,
       "version_minor": 0,
       "model_id": "bdbaf4cf4063431888e388ab48d3adb0"
      }
     },
     "metadata": {},
     "output_type": "display_data"
    },
    {
     "data": {
      "text/plain": [
       "  0%|          | 0/13002 [00:00<?, ?it/s]"
      ],
      "application/vnd.jupyter.widget-view+json": {
       "version_major": 2,
       "version_minor": 0,
       "model_id": "b193602cdad5487ab02f516cbbe2943a"
      }
     },
     "metadata": {},
     "output_type": "display_data"
    },
    {
     "data": {
      "text/plain": [
       "  0%|          | 0/13001 [00:00<?, ?it/s]"
      ],
      "application/vnd.jupyter.widget-view+json": {
       "version_major": 2,
       "version_minor": 0,
       "model_id": "cf66d2dd00424a26a310fd79df5a4cd0"
      }
     },
     "metadata": {},
     "output_type": "display_data"
    },
    {
     "name": "stdout",
     "output_type": "stream",
     "text": [
      "unable to find candidates for iteration 595 375269\n"
     ]
    },
    {
     "data": {
      "text/plain": [
       "  0%|          | 0/13549 [00:00<?, ?it/s]"
      ],
      "application/vnd.jupyter.widget-view+json": {
       "version_major": 2,
       "version_minor": 0,
       "model_id": "df23a37bf5ff49ac81bb94295726a6e5"
      }
     },
     "metadata": {},
     "output_type": "display_data"
    },
    {
     "name": "stdout",
     "output_type": "stream",
     "text": [
      "unable to find candidates for iteration 596 370218\n",
      "unable to find candidates for iteration 596 375251\n",
      "unable to find candidates for iteration 596 377150\n"
     ]
    },
    {
     "data": {
      "text/plain": [
       "  0%|          | 0/14198 [00:00<?, ?it/s]"
      ],
      "application/vnd.jupyter.widget-view+json": {
       "version_major": 2,
       "version_minor": 0,
       "model_id": "117e5e7f49fc4b22bf09d49bb31c47d7"
      }
     },
     "metadata": {},
     "output_type": "display_data"
    },
    {
     "data": {
      "text/plain": [
       "  0%|          | 0/14101 [00:00<?, ?it/s]"
      ],
      "application/vnd.jupyter.widget-view+json": {
       "version_major": 2,
       "version_minor": 0,
       "model_id": "98d438c1324b407f92b15bf2b8b05ac4"
      }
     },
     "metadata": {},
     "output_type": "display_data"
    },
    {
     "data": {
      "text/plain": [
       "  0%|          | 0/14543 [00:00<?, ?it/s]"
      ],
      "application/vnd.jupyter.widget-view+json": {
       "version_major": 2,
       "version_minor": 0,
       "model_id": "02666ef5450f4163916d17a2841bf052"
      }
     },
     "metadata": {},
     "output_type": "display_data"
    },
    {
     "name": "stdout",
     "output_type": "stream",
     "text": [
      "unable to find candidates for iteration 599 370255\n",
      "unable to find candidates for iteration 599 370256\n",
      "unable to find candidates for iteration 599 370257\n",
      "unable to find candidates for iteration 599 375247\n",
      "unable to find candidates for iteration 599 377071\n"
     ]
    },
    {
     "data": {
      "text/plain": [
       "  0%|          | 0/14876 [00:00<?, ?it/s]"
      ],
      "application/vnd.jupyter.widget-view+json": {
       "version_major": 2,
       "version_minor": 0,
       "model_id": "25508aba360e42e99551ff385cb21850"
      }
     },
     "metadata": {},
     "output_type": "display_data"
    },
    {
     "name": "stdout",
     "output_type": "stream",
     "text": [
      "unable to find candidates for iteration 600 370252\n",
      "unable to find candidates for iteration 600 370253\n"
     ]
    },
    {
     "data": {
      "text/plain": [
       "  0%|          | 0/14854 [00:00<?, ?it/s]"
      ],
      "application/vnd.jupyter.widget-view+json": {
       "version_major": 2,
       "version_minor": 0,
       "model_id": "13ab293639164b21bb5e0ef47d3339a7"
      }
     },
     "metadata": {},
     "output_type": "display_data"
    },
    {
     "name": "stdout",
     "output_type": "stream",
     "text": [
      "unable to find candidates for iteration 601 372926\n",
      "unable to find candidates for iteration 601 375261\n",
      "unable to find candidates for iteration 601 381620\n"
     ]
    },
    {
     "data": {
      "text/plain": [
       "  0%|          | 0/14728 [00:00<?, ?it/s]"
      ],
      "application/vnd.jupyter.widget-view+json": {
       "version_major": 2,
       "version_minor": 0,
       "model_id": "6f296924b4ad470193c07f561bb20ebf"
      }
     },
     "metadata": {},
     "output_type": "display_data"
    },
    {
     "name": "stdout",
     "output_type": "stream",
     "text": [
      "unable to find candidates for iteration 602 377095\n",
      "unable to find candidates for iteration 602 381612\n"
     ]
    },
    {
     "data": {
      "text/plain": [
       "  0%|          | 0/29262 [00:00<?, ?it/s]"
      ],
      "application/vnd.jupyter.widget-view+json": {
       "version_major": 2,
       "version_minor": 0,
       "model_id": "19e5b0e64cd94ecbac061d1df528acd1"
      }
     },
     "metadata": {},
     "output_type": "display_data"
    },
    {
     "name": "stdout",
     "output_type": "stream",
     "text": [
      "unable to find candidates for iteration 603 381612\n",
      "unable to find candidates for iteration 603 390673\n",
      "unable to find candidates for iteration 603 394035\n",
      "unable to find candidates for iteration 603 394036\n",
      "unable to find candidates for iteration 603 395568\n"
     ]
    },
    {
     "data": {
      "text/plain": [
       "  0%|          | 0/14822 [00:00<?, ?it/s]"
      ],
      "application/vnd.jupyter.widget-view+json": {
       "version_major": 2,
       "version_minor": 0,
       "model_id": "b17b6951518c4981a85fbd4dde559d9f"
      }
     },
     "metadata": {},
     "output_type": "display_data"
    },
    {
     "name": "stdout",
     "output_type": "stream",
     "text": [
      "unable to find candidates for iteration 604 380107\n"
     ]
    },
    {
     "data": {
      "text/plain": [
       "  0%|          | 0/14508 [00:00<?, ?it/s]"
      ],
      "application/vnd.jupyter.widget-view+json": {
       "version_major": 2,
       "version_minor": 0,
       "model_id": "8610861153254eddafcee1aea5935447"
      }
     },
     "metadata": {},
     "output_type": "display_data"
    },
    {
     "name": "stdout",
     "output_type": "stream",
     "text": [
      "unable to find candidates for iteration 605 381608\n",
      "unable to find candidates for iteration 605 381652\n"
     ]
    },
    {
     "data": {
      "text/plain": [
       "  0%|          | 0/14872 [00:00<?, ?it/s]"
      ],
      "application/vnd.jupyter.widget-view+json": {
       "version_major": 2,
       "version_minor": 0,
       "model_id": "ec3b84e5f1864e71b7aa9dc8b64ae002"
      }
     },
     "metadata": {},
     "output_type": "display_data"
    },
    {
     "name": "stdout",
     "output_type": "stream",
     "text": [
      "unable to find candidates for iteration 606 372949\n",
      "unable to find candidates for iteration 606 375233\n",
      "unable to find candidates for iteration 606 375235\n",
      "unable to find candidates for iteration 606 381580\n"
     ]
    },
    {
     "data": {
      "text/plain": [
       "  0%|          | 0/14362 [00:00<?, ?it/s]"
      ],
      "application/vnd.jupyter.widget-view+json": {
       "version_major": 2,
       "version_minor": 0,
       "model_id": "70b62e2be06f4e78a70606622900827b"
      }
     },
     "metadata": {},
     "output_type": "display_data"
    },
    {
     "name": "stdout",
     "output_type": "stream",
     "text": [
      "unable to find candidates for iteration 607 372914\n"
     ]
    },
    {
     "data": {
      "text/plain": [
       "  0%|          | 0/15041 [00:00<?, ?it/s]"
      ],
      "application/vnd.jupyter.widget-view+json": {
       "version_major": 2,
       "version_minor": 0,
       "model_id": "a5f86a67f2a34e3ba7c20414c4c4ed25"
      }
     },
     "metadata": {},
     "output_type": "display_data"
    },
    {
     "name": "stdout",
     "output_type": "stream",
     "text": [
      "unable to find candidates for iteration 608 372949\n",
      "unable to find candidates for iteration 608 376152\n",
      "unable to find candidates for iteration 608 376225\n",
      "unable to find candidates for iteration 608 376227\n",
      "unable to find candidates for iteration 608 376229\n",
      "unable to find candidates for iteration 608 380101\n"
     ]
    },
    {
     "data": {
      "text/plain": [
       "  0%|          | 0/14351 [00:00<?, ?it/s]"
      ],
      "application/vnd.jupyter.widget-view+json": {
       "version_major": 2,
       "version_minor": 0,
       "model_id": "8a5cc2fa59184aedaa49892c76a546b9"
      }
     },
     "metadata": {},
     "output_type": "display_data"
    },
    {
     "name": "stdout",
     "output_type": "stream",
     "text": [
      "unable to find candidates for iteration 609 376268\n",
      "unable to find candidates for iteration 609 376269\n",
      "unable to find candidates for iteration 609 376270\n",
      "unable to find candidates for iteration 609 380098\n",
      "unable to find candidates for iteration 609 380100\n",
      "unable to find candidates for iteration 609 381634\n",
      "unable to find candidates for iteration 609 381649\n"
     ]
    },
    {
     "data": {
      "text/plain": [
       "  0%|          | 0/14285 [00:00<?, ?it/s]"
      ],
      "application/vnd.jupyter.widget-view+json": {
       "version_major": 2,
       "version_minor": 0,
       "model_id": "365779712c0d484c902597028172184b"
      }
     },
     "metadata": {},
     "output_type": "display_data"
    },
    {
     "name": "stdout",
     "output_type": "stream",
     "text": [
      "unable to find candidates for iteration 610 375255\n",
      "unable to find candidates for iteration 610 376264\n",
      "unable to find candidates for iteration 610 376265\n",
      "unable to find candidates for iteration 610 376268\n",
      "unable to find candidates for iteration 610 376273\n",
      "unable to find candidates for iteration 610 376301\n",
      "unable to find candidates for iteration 610 381627\n"
     ]
    },
    {
     "data": {
      "text/plain": [
       "  0%|          | 0/14033 [00:00<?, ?it/s]"
      ],
      "application/vnd.jupyter.widget-view+json": {
       "version_major": 2,
       "version_minor": 0,
       "model_id": "452cde58b0da4ab5bb27b2584be58c11"
      }
     },
     "metadata": {},
     "output_type": "display_data"
    },
    {
     "name": "stdout",
     "output_type": "stream",
     "text": [
      "unable to find candidates for iteration 611 376152\n",
      "unable to find candidates for iteration 611 376211\n",
      "unable to find candidates for iteration 611 376213\n",
      "unable to find candidates for iteration 611 381563\n"
     ]
    },
    {
     "data": {
      "text/plain": [
       "  0%|          | 0/13970 [00:00<?, ?it/s]"
      ],
      "application/vnd.jupyter.widget-view+json": {
       "version_major": 2,
       "version_minor": 0,
       "model_id": "00b8f5dfddae4d01b7a43e909cd92d5e"
      }
     },
     "metadata": {},
     "output_type": "display_data"
    },
    {
     "name": "stdout",
     "output_type": "stream",
     "text": [
      "unable to find candidates for iteration 612 376284\n",
      "unable to find candidates for iteration 612 376285\n",
      "unable to find candidates for iteration 612 376287\n",
      "unable to find candidates for iteration 612 380348\n",
      "unable to find candidates for iteration 612 381634\n"
     ]
    },
    {
     "data": {
      "text/plain": [
       "  0%|          | 0/13717 [00:00<?, ?it/s]"
      ],
      "application/vnd.jupyter.widget-view+json": {
       "version_major": 2,
       "version_minor": 0,
       "model_id": "fb43e3a0fe864428b8c36191bfda054a"
      }
     },
     "metadata": {},
     "output_type": "display_data"
    },
    {
     "name": "stdout",
     "output_type": "stream",
     "text": [
      "unable to find candidates for iteration 613 376152\n",
      "unable to find candidates for iteration 613 376225\n",
      "unable to find candidates for iteration 613 376227\n",
      "unable to find candidates for iteration 613 376229\n",
      "unable to find candidates for iteration 613 380101\n"
     ]
    },
    {
     "data": {
      "text/plain": [
       "  0%|          | 0/13624 [00:00<?, ?it/s]"
      ],
      "application/vnd.jupyter.widget-view+json": {
       "version_major": 2,
       "version_minor": 0,
       "model_id": "6f2504389a8146a18e23a4fdddf9a64d"
      }
     },
     "metadata": {},
     "output_type": "display_data"
    },
    {
     "name": "stdout",
     "output_type": "stream",
     "text": [
      "unable to find candidates for iteration 614 376209\n",
      "unable to find candidates for iteration 614 376210\n"
     ]
    },
    {
     "data": {
      "text/plain": [
       "  0%|          | 0/12685 [00:00<?, ?it/s]"
      ],
      "application/vnd.jupyter.widget-view+json": {
       "version_major": 2,
       "version_minor": 0,
       "model_id": "6a696f63cc9f4dfea90331b0e636509c"
      }
     },
     "metadata": {},
     "output_type": "display_data"
    },
    {
     "name": "stdout",
     "output_type": "stream",
     "text": [
      "unable to find candidates for iteration 615 376152\n",
      "unable to find candidates for iteration 615 376209\n",
      "unable to find candidates for iteration 615 376210\n",
      "unable to find candidates for iteration 615 377045\n",
      "unable to find candidates for iteration 615 380160\n",
      "unable to find candidates for iteration 615 381582\n"
     ]
    },
    {
     "data": {
      "text/plain": [
       "  0%|          | 0/12071 [00:00<?, ?it/s]"
      ],
      "application/vnd.jupyter.widget-view+json": {
       "version_major": 2,
       "version_minor": 0,
       "model_id": "bde12c790d4d4603936728f812926598"
      }
     },
     "metadata": {},
     "output_type": "display_data"
    },
    {
     "data": {
      "text/plain": [
       "  0%|          | 0/12019 [00:00<?, ?it/s]"
      ],
      "application/vnd.jupyter.widget-view+json": {
       "version_major": 2,
       "version_minor": 0,
       "model_id": "233688b47a8b4146bc6b046a92014e7b"
      }
     },
     "metadata": {},
     "output_type": "display_data"
    },
    {
     "name": "stdout",
     "output_type": "stream",
     "text": [
      "unable to find candidates for iteration 617 380091\n"
     ]
    },
    {
     "data": {
      "text/plain": [
       "  0%|          | 0/11889 [00:00<?, ?it/s]"
      ],
      "application/vnd.jupyter.widget-view+json": {
       "version_major": 2,
       "version_minor": 0,
       "model_id": "55ef74a2d75d453c8d26aed8da64c707"
      }
     },
     "metadata": {},
     "output_type": "display_data"
    },
    {
     "data": {
      "text/plain": [
       "  0%|          | 0/15647 [00:00<?, ?it/s]"
      ],
      "application/vnd.jupyter.widget-view+json": {
       "version_major": 2,
       "version_minor": 0,
       "model_id": "583f08ab4b7f41898c6151a65abaab1b"
      }
     },
     "metadata": {},
     "output_type": "display_data"
    },
    {
     "name": "stdout",
     "output_type": "stream",
     "text": [
      "unable to find candidates for iteration 619 381563\n",
      "unable to find candidates for iteration 619 381927\n",
      "unable to find candidates for iteration 619 381938\n"
     ]
    },
    {
     "data": {
      "text/plain": [
       "  0%|          | 0/10769 [00:00<?, ?it/s]"
      ],
      "application/vnd.jupyter.widget-view+json": {
       "version_major": 2,
       "version_minor": 0,
       "model_id": "48b3a1fc796649bba32eae0a5f66cf32"
      }
     },
     "metadata": {},
     "output_type": "display_data"
    },
    {
     "name": "stdout",
     "output_type": "stream",
     "text": [
      "unable to find candidates for iteration 620 380077\n",
      "unable to find candidates for iteration 620 380100\n",
      "unable to find candidates for iteration 620 380102\n",
      "unable to find candidates for iteration 620 381612\n",
      "unable to find candidates for iteration 620 381934\n"
     ]
    },
    {
     "data": {
      "text/plain": [
       "  0%|          | 0/10861 [00:00<?, ?it/s]"
      ],
      "application/vnd.jupyter.widget-view+json": {
       "version_major": 2,
       "version_minor": 0,
       "model_id": "c457e1b351e544fcaad77c2a04107772"
      }
     },
     "metadata": {},
     "output_type": "display_data"
    },
    {
     "name": "stdout",
     "output_type": "stream",
     "text": [
      "unable to find candidates for iteration 621 380079\n",
      "unable to find candidates for iteration 621 380100\n"
     ]
    },
    {
     "data": {
      "text/plain": [
       "  0%|          | 0/10875 [00:00<?, ?it/s]"
      ],
      "application/vnd.jupyter.widget-view+json": {
       "version_major": 2,
       "version_minor": 0,
       "model_id": "214e45eafc894d63975f143cebf06d4b"
      }
     },
     "metadata": {},
     "output_type": "display_data"
    },
    {
     "name": "stdout",
     "output_type": "stream",
     "text": [
      "unable to find candidates for iteration 622 380100\n",
      "unable to find candidates for iteration 622 381649\n",
      "unable to find candidates for iteration 622 381915\n",
      "unable to find candidates for iteration 622 381917\n",
      "unable to find candidates for iteration 622 382294\n"
     ]
    },
    {
     "data": {
      "text/plain": [
       "  0%|          | 0/10189 [00:00<?, ?it/s]"
      ],
      "application/vnd.jupyter.widget-view+json": {
       "version_major": 2,
       "version_minor": 0,
       "model_id": "95585afa484b434ba984b42db1c6f967"
      }
     },
     "metadata": {},
     "output_type": "display_data"
    },
    {
     "name": "stdout",
     "output_type": "stream",
     "text": [
      "unable to find candidates for iteration 623 380079\n",
      "unable to find candidates for iteration 623 381651\n",
      "unable to find candidates for iteration 623 382275\n"
     ]
    },
    {
     "data": {
      "text/plain": [
       "  0%|          | 0/9910 [00:00<?, ?it/s]"
      ],
      "application/vnd.jupyter.widget-view+json": {
       "version_major": 2,
       "version_minor": 0,
       "model_id": "ecb095fa0d36444cbb767faf44fba510"
      }
     },
     "metadata": {},
     "output_type": "display_data"
    },
    {
     "name": "stdout",
     "output_type": "stream",
     "text": [
      "unable to find candidates for iteration 624 381563\n",
      "unable to find candidates for iteration 624 381928\n",
      "unable to find candidates for iteration 624 381940\n",
      "unable to find candidates for iteration 624 382268\n",
      "unable to find candidates for iteration 624 385680\n"
     ]
    },
    {
     "data": {
      "text/plain": [
       "  0%|          | 0/9527 [00:00<?, ?it/s]"
      ],
      "application/vnd.jupyter.widget-view+json": {
       "version_major": 2,
       "version_minor": 0,
       "model_id": "ddd47705123a485bb03990f2853a8ae2"
      }
     },
     "metadata": {},
     "output_type": "display_data"
    },
    {
     "name": "stdout",
     "output_type": "stream",
     "text": [
      "unable to find candidates for iteration 625 381634\n",
      "unable to find candidates for iteration 625 381939\n",
      "unable to find candidates for iteration 625 381940\n",
      "unable to find candidates for iteration 625 381952\n",
      "unable to find candidates for iteration 625 382268\n",
      "unable to find candidates for iteration 625 382273\n",
      "unable to find candidates for iteration 625 382275\n",
      "unable to find candidates for iteration 625 390633\n",
      "unable to find candidates for iteration 625 390659\n",
      "unable to find candidates for iteration 625 390660\n"
     ]
    },
    {
     "data": {
      "text/plain": [
       "  0%|          | 0/9099 [00:00<?, ?it/s]"
      ],
      "application/vnd.jupyter.widget-view+json": {
       "version_major": 2,
       "version_minor": 0,
       "model_id": "2fe08c7286c64acd9a692676eeb74b39"
      }
     },
     "metadata": {},
     "output_type": "display_data"
    },
    {
     "name": "stdout",
     "output_type": "stream",
     "text": [
      "unable to find candidates for iteration 626 385680\n"
     ]
    },
    {
     "data": {
      "text/plain": [
       "  0%|          | 0/9134 [00:00<?, ?it/s]"
      ],
      "application/vnd.jupyter.widget-view+json": {
       "version_major": 2,
       "version_minor": 0,
       "model_id": "3bf35ce0c1434655b4010f481b6eb032"
      }
     },
     "metadata": {},
     "output_type": "display_data"
    },
    {
     "name": "stdout",
     "output_type": "stream",
     "text": [
      "unable to find candidates for iteration 627 385666\n",
      "unable to find candidates for iteration 627 385668\n",
      "unable to find candidates for iteration 627 390639\n"
     ]
    },
    {
     "data": {
      "text/plain": [
       "  0%|          | 0/9688 [00:00<?, ?it/s]"
      ],
      "application/vnd.jupyter.widget-view+json": {
       "version_major": 2,
       "version_minor": 0,
       "model_id": "10928b113bdc47a5a066c395c2245def"
      }
     },
     "metadata": {},
     "output_type": "display_data"
    },
    {
     "name": "stdout",
     "output_type": "stream",
     "text": [
      "unable to find candidates for iteration 628 385680\n",
      "unable to find candidates for iteration 628 390671\n"
     ]
    },
    {
     "data": {
      "text/plain": [
       "  0%|          | 0/9964 [00:00<?, ?it/s]"
      ],
      "application/vnd.jupyter.widget-view+json": {
       "version_major": 2,
       "version_minor": 0,
       "model_id": "0b48d943cf5a440dbf84fea0edbaf966"
      }
     },
     "metadata": {},
     "output_type": "display_data"
    },
    {
     "data": {
      "text/plain": [
       "  0%|          | 0/10009 [00:00<?, ?it/s]"
      ],
      "application/vnd.jupyter.widget-view+json": {
       "version_major": 2,
       "version_minor": 0,
       "model_id": "1b60718ef3e3463a8600f4c85ac0c25d"
      }
     },
     "metadata": {},
     "output_type": "display_data"
    },
    {
     "name": "stdout",
     "output_type": "stream",
     "text": [
      "unable to find candidates for iteration 630 385680\n"
     ]
    },
    {
     "data": {
      "text/plain": [
       "  0%|          | 0/10119 [00:00<?, ?it/s]"
      ],
      "application/vnd.jupyter.widget-view+json": {
       "version_major": 2,
       "version_minor": 0,
       "model_id": "500160f590f54ed5add5b926cc0ac5ac"
      }
     },
     "metadata": {},
     "output_type": "display_data"
    },
    {
     "name": "stdout",
     "output_type": "stream",
     "text": [
      "unable to find candidates for iteration 631 385680\n",
      "unable to find candidates for iteration 631 390671\n"
     ]
    },
    {
     "data": {
      "text/plain": [
       "  0%|          | 0/9654 [00:00<?, ?it/s]"
      ],
      "application/vnd.jupyter.widget-view+json": {
       "version_major": 2,
       "version_minor": 0,
       "model_id": "3c7c99240cdc47f2aab943b7d39e3194"
      }
     },
     "metadata": {},
     "output_type": "display_data"
    },
    {
     "name": "stdout",
     "output_type": "stream",
     "text": [
      "unable to find candidates for iteration 632 385678\n",
      "unable to find candidates for iteration 632 385679\n"
     ]
    },
    {
     "data": {
      "text/plain": [
       "  0%|          | 0/9612 [00:00<?, ?it/s]"
      ],
      "application/vnd.jupyter.widget-view+json": {
       "version_major": 2,
       "version_minor": 0,
       "model_id": "0c99ff1f9e544bc0bc4350bec5d6dca3"
      }
     },
     "metadata": {},
     "output_type": "display_data"
    },
    {
     "name": "stdout",
     "output_type": "stream",
     "text": [
      "unable to find candidates for iteration 633 390672\n",
      "unable to find candidates for iteration 633 390673\n"
     ]
    },
    {
     "data": {
      "text/plain": [
       "  0%|          | 0/9570 [00:00<?, ?it/s]"
      ],
      "application/vnd.jupyter.widget-view+json": {
       "version_major": 2,
       "version_minor": 0,
       "model_id": "9e746dc9dbf445a18181653f9209afce"
      }
     },
     "metadata": {},
     "output_type": "display_data"
    },
    {
     "name": "stdout",
     "output_type": "stream",
     "text": [
      "unable to find candidates for iteration 634 390679\n",
      "unable to find candidates for iteration 634 394031\n",
      "unable to find candidates for iteration 634 394095\n"
     ]
    },
    {
     "data": {
      "text/plain": [
       "  0%|          | 0/9457 [00:00<?, ?it/s]"
      ],
      "application/vnd.jupyter.widget-view+json": {
       "version_major": 2,
       "version_minor": 0,
       "model_id": "7c21ac77a5434ed295736db4b7747730"
      }
     },
     "metadata": {},
     "output_type": "display_data"
    },
    {
     "data": {
      "text/plain": [
       "  0%|          | 0/9315 [00:00<?, ?it/s]"
      ],
      "application/vnd.jupyter.widget-view+json": {
       "version_major": 2,
       "version_minor": 0,
       "model_id": "e913172fb1c449e484cfbe807d04aecd"
      }
     },
     "metadata": {},
     "output_type": "display_data"
    },
    {
     "name": "stdout",
     "output_type": "stream",
     "text": [
      "unable to find candidates for iteration 636 390643\n",
      "unable to find candidates for iteration 636 390668\n",
      "unable to find candidates for iteration 636 394037\n",
      "unable to find candidates for iteration 636 394101\n"
     ]
    },
    {
     "data": {
      "text/plain": [
       "  0%|          | 0/9046 [00:00<?, ?it/s]"
      ],
      "application/vnd.jupyter.widget-view+json": {
       "version_major": 2,
       "version_minor": 0,
       "model_id": "2585fb8e52cd485ea1157a9ce26730af"
      }
     },
     "metadata": {},
     "output_type": "display_data"
    },
    {
     "name": "stdout",
     "output_type": "stream",
     "text": [
      "unable to find candidates for iteration 637 394106\n",
      "unable to find candidates for iteration 637 394117\n",
      "unable to find candidates for iteration 637 394120\n"
     ]
    },
    {
     "data": {
      "text/plain": [
       "  0%|          | 0/8986 [00:00<?, ?it/s]"
      ],
      "application/vnd.jupyter.widget-view+json": {
       "version_major": 2,
       "version_minor": 0,
       "model_id": "1a7bd2c9f6e34731bce149d74e99dcc7"
      }
     },
     "metadata": {},
     "output_type": "display_data"
    },
    {
     "name": "stdout",
     "output_type": "stream",
     "text": [
      "unable to find candidates for iteration 638 390633\n",
      "unable to find candidates for iteration 638 390659\n",
      "unable to find candidates for iteration 638 390660\n"
     ]
    },
    {
     "data": {
      "text/plain": [
       "  0%|          | 0/8967 [00:00<?, ?it/s]"
      ],
      "application/vnd.jupyter.widget-view+json": {
       "version_major": 2,
       "version_minor": 0,
       "model_id": "d7f9b02f553c49b7821a340062fe1e63"
      }
     },
     "metadata": {},
     "output_type": "display_data"
    },
    {
     "name": "stdout",
     "output_type": "stream",
     "text": [
      "unable to find candidates for iteration 639 394110\n",
      "unable to find candidates for iteration 639 394119\n"
     ]
    },
    {
     "data": {
      "text/plain": [
       "  0%|          | 0/9122 [00:00<?, ?it/s]"
      ],
      "application/vnd.jupyter.widget-view+json": {
       "version_major": 2,
       "version_minor": 0,
       "model_id": "099e87fee39345208d052f6c517a26ec"
      }
     },
     "metadata": {},
     "output_type": "display_data"
    },
    {
     "name": "stdout",
     "output_type": "stream",
     "text": [
      "unable to find candidates for iteration 640 390674\n",
      "unable to find candidates for iteration 640 395579\n"
     ]
    },
    {
     "data": {
      "text/plain": [
       "  0%|          | 0/8594 [00:00<?, ?it/s]"
      ],
      "application/vnd.jupyter.widget-view+json": {
       "version_major": 2,
       "version_minor": 0,
       "model_id": "c773fdd28e3d47ec9423d2d9092a44f5"
      }
     },
     "metadata": {},
     "output_type": "display_data"
    },
    {
     "name": "stdout",
     "output_type": "stream",
     "text": [
      "unable to find candidates for iteration 641 390662\n",
      "unable to find candidates for iteration 641 390673\n",
      "unable to find candidates for iteration 641 394039\n",
      "unable to find candidates for iteration 641 394040\n",
      "unable to find candidates for iteration 641 395568\n",
      "unable to find candidates for iteration 641 395570\n"
     ]
    },
    {
     "data": {
      "text/plain": [
       "  0%|          | 0/8558 [00:00<?, ?it/s]"
      ],
      "application/vnd.jupyter.widget-view+json": {
       "version_major": 2,
       "version_minor": 0,
       "model_id": "f4a65bca272545bd8620078fe4c90c72"
      }
     },
     "metadata": {},
     "output_type": "display_data"
    },
    {
     "name": "stdout",
     "output_type": "stream",
     "text": [
      "unable to find candidates for iteration 642 390650\n",
      "unable to find candidates for iteration 642 394113\n",
      "unable to find candidates for iteration 642 395568\n"
     ]
    },
    {
     "data": {
      "text/plain": [
       "  0%|          | 0/8427 [00:00<?, ?it/s]"
      ],
      "application/vnd.jupyter.widget-view+json": {
       "version_major": 2,
       "version_minor": 0,
       "model_id": "3d0cff2fe8a64da2940d2c430a3262ce"
      }
     },
     "metadata": {},
     "output_type": "display_data"
    },
    {
     "name": "stdout",
     "output_type": "stream",
     "text": [
      "unable to find candidates for iteration 643 394106\n",
      "unable to find candidates for iteration 643 394120\n"
     ]
    },
    {
     "data": {
      "text/plain": [
       "  0%|          | 0/8493 [00:00<?, ?it/s]"
      ],
      "application/vnd.jupyter.widget-view+json": {
       "version_major": 2,
       "version_minor": 0,
       "model_id": "6151162595c843fb9d8684a2c64be3ca"
      }
     },
     "metadata": {},
     "output_type": "display_data"
    },
    {
     "name": "stdout",
     "output_type": "stream",
     "text": [
      "unable to find candidates for iteration 644 390674\n",
      "unable to find candidates for iteration 644 395568\n"
     ]
    },
    {
     "data": {
      "text/plain": [
       "  0%|          | 0/8498 [00:00<?, ?it/s]"
      ],
      "application/vnd.jupyter.widget-view+json": {
       "version_major": 2,
       "version_minor": 0,
       "model_id": "4135e5d99d5147789e4f3ddc5a7101e4"
      }
     },
     "metadata": {},
     "output_type": "display_data"
    },
    {
     "name": "stdout",
     "output_type": "stream",
     "text": [
      "unable to find candidates for iteration 645 390674\n",
      "unable to find candidates for iteration 645 395568\n"
     ]
    },
    {
     "data": {
      "text/plain": [
       "  0%|          | 0/8500 [00:00<?, ?it/s]"
      ],
      "application/vnd.jupyter.widget-view+json": {
       "version_major": 2,
       "version_minor": 0,
       "model_id": "1f5ba7d5885a41e1888b8c6264cf71ed"
      }
     },
     "metadata": {},
     "output_type": "display_data"
    },
    {
     "name": "stdout",
     "output_type": "stream",
     "text": [
      "unable to find candidates for iteration 646 390639\n",
      "unable to find candidates for iteration 646 394090\n"
     ]
    },
    {
     "data": {
      "text/plain": [
       "  0%|          | 0/8620 [00:00<?, ?it/s]"
      ],
      "application/vnd.jupyter.widget-view+json": {
       "version_major": 2,
       "version_minor": 0,
       "model_id": "240b97409bba49ff801f744db8ca9b13"
      }
     },
     "metadata": {},
     "output_type": "display_data"
    },
    {
     "name": "stdout",
     "output_type": "stream",
     "text": [
      "unable to find candidates for iteration 647 390637\n",
      "unable to find candidates for iteration 647 390639\n",
      "unable to find candidates for iteration 647 394028\n"
     ]
    },
    {
     "data": {
      "text/plain": [
       "  0%|          | 0/9102 [00:00<?, ?it/s]"
      ],
      "application/vnd.jupyter.widget-view+json": {
       "version_major": 2,
       "version_minor": 0,
       "model_id": "a7c1a5541baa4038bd8cc7826fc1bae9"
      }
     },
     "metadata": {},
     "output_type": "display_data"
    },
    {
     "name": "stdout",
     "output_type": "stream",
     "text": [
      "unable to find candidates for iteration 648 390660\n",
      "unable to find candidates for iteration 648 394113\n",
      "unable to find candidates for iteration 648 395568\n"
     ]
    },
    {
     "data": {
      "text/plain": [
       "  0%|          | 0/8970 [00:00<?, ?it/s]"
      ],
      "application/vnd.jupyter.widget-view+json": {
       "version_major": 2,
       "version_minor": 0,
       "model_id": "5cb97fb8fc7348b2a714068b336841f9"
      }
     },
     "metadata": {},
     "output_type": "display_data"
    },
    {
     "name": "stdout",
     "output_type": "stream",
     "text": [
      "unable to find candidates for iteration 649 390672\n",
      "unable to find candidates for iteration 649 395560\n",
      "unable to find candidates for iteration 649 395565\n",
      "unable to find candidates for iteration 649 395571\n",
      "unable to find candidates for iteration 649 395576\n",
      "unable to find candidates for iteration 649 395577\n",
      "unable to find candidates for iteration 649 395584\n",
      "unable to find candidates for iteration 649 395585\n"
     ]
    },
    {
     "data": {
      "text/plain": [
       "  0%|          | 0/8972 [00:00<?, ?it/s]"
      ],
      "application/vnd.jupyter.widget-view+json": {
       "version_major": 2,
       "version_minor": 0,
       "model_id": "020eee7a978f4c34a1909d54fa6af4a2"
      }
     },
     "metadata": {},
     "output_type": "display_data"
    },
    {
     "name": "stdout",
     "output_type": "stream",
     "text": [
      "unable to find candidates for iteration 650 390672\n",
      "unable to find candidates for iteration 650 390673\n",
      "unable to find candidates for iteration 650 393776\n",
      "unable to find candidates for iteration 650 395565\n",
      "unable to find candidates for iteration 650 395577\n",
      "unable to find candidates for iteration 650 395584\n",
      "unable to find candidates for iteration 650 395585\n"
     ]
    },
    {
     "data": {
      "text/plain": [
       "  0%|          | 0/9060 [00:00<?, ?it/s]"
      ],
      "application/vnd.jupyter.widget-view+json": {
       "version_major": 2,
       "version_minor": 0,
       "model_id": "2cf7ba28e8ff42bdb0c9c2360f773cda"
      }
     },
     "metadata": {},
     "output_type": "display_data"
    },
    {
     "name": "stdout",
     "output_type": "stream",
     "text": [
      "unable to find candidates for iteration 651 393770\n"
     ]
    },
    {
     "data": {
      "text/plain": [
       "  0%|          | 0/8902 [00:00<?, ?it/s]"
      ],
      "application/vnd.jupyter.widget-view+json": {
       "version_major": 2,
       "version_minor": 0,
       "model_id": "cada4d2008144312a6b233681a37c916"
      }
     },
     "metadata": {},
     "output_type": "display_data"
    },
    {
     "name": "stdout",
     "output_type": "stream",
     "text": [
      "unable to find candidates for iteration 652 394115\n"
     ]
    },
    {
     "data": {
      "text/plain": [
       "  0%|          | 0/8741 [00:00<?, ?it/s]"
      ],
      "application/vnd.jupyter.widget-view+json": {
       "version_major": 2,
       "version_minor": 0,
       "model_id": "658a16126ddd4e00b0f0da139159ecfb"
      }
     },
     "metadata": {},
     "output_type": "display_data"
    },
    {
     "name": "stdout",
     "output_type": "stream",
     "text": [
      "unable to find candidates for iteration 653 393756\n",
      "unable to find candidates for iteration 653 393762\n",
      "unable to find candidates for iteration 653 395559\n",
      "unable to find candidates for iteration 653 395568\n"
     ]
    },
    {
     "data": {
      "text/plain": [
       "  0%|          | 0/11708 [00:00<?, ?it/s]"
      ],
      "application/vnd.jupyter.widget-view+json": {
       "version_major": 2,
       "version_minor": 0,
       "model_id": "55d7b632cbbf4ba8a91b30b9639250e0"
      }
     },
     "metadata": {},
     "output_type": "display_data"
    },
    {
     "name": "stdout",
     "output_type": "stream",
     "text": [
      "unable to find candidates for iteration 654 394041\n",
      "unable to find candidates for iteration 654 395568\n"
     ]
    },
    {
     "data": {
      "text/plain": [
       "  0%|          | 0/14046 [00:00<?, ?it/s]"
      ],
      "application/vnd.jupyter.widget-view+json": {
       "version_major": 2,
       "version_minor": 0,
       "model_id": "34520ef4795b4903a2bc0ef80ab4e7d7"
      }
     },
     "metadata": {},
     "output_type": "display_data"
    },
    {
     "name": "stdout",
     "output_type": "stream",
     "text": [
      "unable to find candidates for iteration 655 393775\n",
      "unable to find candidates for iteration 655 394115\n",
      "unable to find candidates for iteration 655 395568\n"
     ]
    },
    {
     "data": {
      "text/plain": [
       "  0%|          | 0/6044 [00:00<?, ?it/s]"
      ],
      "application/vnd.jupyter.widget-view+json": {
       "version_major": 2,
       "version_minor": 0,
       "model_id": "5573e918876841ed80e51e19c0b9edb3"
      }
     },
     "metadata": {},
     "output_type": "display_data"
    },
    {
     "name": "stdout",
     "output_type": "stream",
     "text": [
      "unable to find candidates for iteration 656 395561\n",
      "unable to find candidates for iteration 656 395568\n"
     ]
    },
    {
     "data": {
      "text/plain": [
       "  0%|          | 0/5954 [00:00<?, ?it/s]"
      ],
      "application/vnd.jupyter.widget-view+json": {
       "version_major": 2,
       "version_minor": 0,
       "model_id": "6c0d3ce59f1c449da947047325db5239"
      }
     },
     "metadata": {},
     "output_type": "display_data"
    },
    {
     "name": "stdout",
     "output_type": "stream",
     "text": [
      "unable to find candidates for iteration 657 395568\n"
     ]
    },
    {
     "data": {
      "text/plain": [
       "  0%|          | 0/5587 [00:00<?, ?it/s]"
      ],
      "application/vnd.jupyter.widget-view+json": {
       "version_major": 2,
       "version_minor": 0,
       "model_id": "739116b35a754046861f849200189684"
      }
     },
     "metadata": {},
     "output_type": "display_data"
    },
    {
     "data": {
      "text/plain": [
       "  0%|          | 0/5546 [00:00<?, ?it/s]"
      ],
      "application/vnd.jupyter.widget-view+json": {
       "version_major": 2,
       "version_minor": 0,
       "model_id": "1ba20e9c4843425d8e5525f93f55074f"
      }
     },
     "metadata": {},
     "output_type": "display_data"
    },
    {
     "data": {
      "text/plain": [
       "  0%|          | 0/5610 [00:00<?, ?it/s]"
      ],
      "application/vnd.jupyter.widget-view+json": {
       "version_major": 2,
       "version_minor": 0,
       "model_id": "b3f7e7c17c7f40f7aae7b256dec83ee0"
      }
     },
     "metadata": {},
     "output_type": "display_data"
    },
    {
     "data": {
      "text/plain": [
       "  0%|          | 0/6197 [00:00<?, ?it/s]"
      ],
      "application/vnd.jupyter.widget-view+json": {
       "version_major": 2,
       "version_minor": 0,
       "model_id": "aad8534a8f6447d89dffc32a9f56398b"
      }
     },
     "metadata": {},
     "output_type": "display_data"
    },
    {
     "data": {
      "text/plain": [
       "  0%|          | 0/6228 [00:00<?, ?it/s]"
      ],
      "application/vnd.jupyter.widget-view+json": {
       "version_major": 2,
       "version_minor": 0,
       "model_id": "dc5a8c8aeb9d4fcf9cc91634f9a36955"
      }
     },
     "metadata": {},
     "output_type": "display_data"
    },
    {
     "data": {
      "text/plain": [
       "  0%|          | 0/6327 [00:00<?, ?it/s]"
      ],
      "application/vnd.jupyter.widget-view+json": {
       "version_major": 2,
       "version_minor": 0,
       "model_id": "209d515ca7f349dda650384c841ac783"
      }
     },
     "metadata": {},
     "output_type": "display_data"
    },
    {
     "data": {
      "text/plain": [
       "  0%|          | 0/6353 [00:00<?, ?it/s]"
      ],
      "application/vnd.jupyter.widget-view+json": {
       "version_major": 2,
       "version_minor": 0,
       "model_id": "684f76911ae5407ebb848d19eff26878"
      }
     },
     "metadata": {},
     "output_type": "display_data"
    },
    {
     "data": {
      "text/plain": [
       "  0%|          | 0/13916 [00:00<?, ?it/s]"
      ],
      "application/vnd.jupyter.widget-view+json": {
       "version_major": 2,
       "version_minor": 0,
       "model_id": "7f1f07a23440432781b4dadaaa6ef852"
      }
     },
     "metadata": {},
     "output_type": "display_data"
    },
    {
     "data": {
      "text/plain": [
       "  0%|          | 0/6364 [00:00<?, ?it/s]"
      ],
      "application/vnd.jupyter.widget-view+json": {
       "version_major": 2,
       "version_minor": 0,
       "model_id": "1c65f2b6ed174d798f1092314dbf5828"
      }
     },
     "metadata": {},
     "output_type": "display_data"
    },
    {
     "data": {
      "text/plain": [
       "  0%|          | 0/6357 [00:00<?, ?it/s]"
      ],
      "application/vnd.jupyter.widget-view+json": {
       "version_major": 2,
       "version_minor": 0,
       "model_id": "d0c3a2cb9c1644d988977a76d43e29a9"
      }
     },
     "metadata": {},
     "output_type": "display_data"
    },
    {
     "data": {
      "text/plain": [
       "  0%|          | 0/6354 [00:00<?, ?it/s]"
      ],
      "application/vnd.jupyter.widget-view+json": {
       "version_major": 2,
       "version_minor": 0,
       "model_id": "6e5bb0069d5a467abe6481aa5bd95beb"
      }
     },
     "metadata": {},
     "output_type": "display_data"
    },
    {
     "data": {
      "text/plain": [
       "  0%|          | 0/8365 [00:00<?, ?it/s]"
      ],
      "application/vnd.jupyter.widget-view+json": {
       "version_major": 2,
       "version_minor": 0,
       "model_id": "b00305cda96d48b78033f0bc805d9887"
      }
     },
     "metadata": {},
     "output_type": "display_data"
    },
    {
     "data": {
      "text/plain": [
       "  0%|          | 0/6377 [00:00<?, ?it/s]"
      ],
      "application/vnd.jupyter.widget-view+json": {
       "version_major": 2,
       "version_minor": 0,
       "model_id": "80923640196c4885b328572ffbabadfd"
      }
     },
     "metadata": {},
     "output_type": "display_data"
    },
    {
     "data": {
      "text/plain": [
       "  0%|          | 0/6412 [00:00<?, ?it/s]"
      ],
      "application/vnd.jupyter.widget-view+json": {
       "version_major": 2,
       "version_minor": 0,
       "model_id": "856ca8bc197f4501a70d5f38f07256e8"
      }
     },
     "metadata": {},
     "output_type": "display_data"
    },
    {
     "data": {
      "text/plain": [
       "  0%|          | 0/5689 [00:00<?, ?it/s]"
      ],
      "application/vnd.jupyter.widget-view+json": {
       "version_major": 2,
       "version_minor": 0,
       "model_id": "9c11b1c39e034e7bb9fbe33b2792b5d0"
      }
     },
     "metadata": {},
     "output_type": "display_data"
    },
    {
     "data": {
      "text/plain": [
       "  0%|          | 0/5337 [00:00<?, ?it/s]"
      ],
      "application/vnd.jupyter.widget-view+json": {
       "version_major": 2,
       "version_minor": 0,
       "model_id": "38d7f0082e404fa98d960d2ba3227222"
      }
     },
     "metadata": {},
     "output_type": "display_data"
    },
    {
     "data": {
      "text/plain": [
       "  0%|          | 0/5196 [00:00<?, ?it/s]"
      ],
      "application/vnd.jupyter.widget-view+json": {
       "version_major": 2,
       "version_minor": 0,
       "model_id": "4558be6de1514530ba920c7e996f3aae"
      }
     },
     "metadata": {},
     "output_type": "display_data"
    },
    {
     "data": {
      "text/plain": [
       "  0%|          | 0/5135 [00:00<?, ?it/s]"
      ],
      "application/vnd.jupyter.widget-view+json": {
       "version_major": 2,
       "version_minor": 0,
       "model_id": "b485f44ff5514b02bd86ff825c6733d0"
      }
     },
     "metadata": {},
     "output_type": "display_data"
    },
    {
     "data": {
      "text/plain": [
       "  0%|          | 0/5273 [00:00<?, ?it/s]"
      ],
      "application/vnd.jupyter.widget-view+json": {
       "version_major": 2,
       "version_minor": 0,
       "model_id": "534c1b1198cb43cbb9fffcb329cde762"
      }
     },
     "metadata": {},
     "output_type": "display_data"
    },
    {
     "data": {
      "text/plain": [
       "  0%|          | 0/5151 [00:00<?, ?it/s]"
      ],
      "application/vnd.jupyter.widget-view+json": {
       "version_major": 2,
       "version_minor": 0,
       "model_id": "7e2ed738d5a842efa1ee978ffe11c5a7"
      }
     },
     "metadata": {},
     "output_type": "display_data"
    },
    {
     "data": {
      "text/plain": [
       "  0%|          | 0/14438 [00:00<?, ?it/s]"
      ],
      "application/vnd.jupyter.widget-view+json": {
       "version_major": 2,
       "version_minor": 0,
       "model_id": "daf6d138d9ae47f09f2c288238165f4e"
      }
     },
     "metadata": {},
     "output_type": "display_data"
    },
    {
     "data": {
      "text/plain": [
       "  0%|          | 0/5103 [00:00<?, ?it/s]"
      ],
      "application/vnd.jupyter.widget-view+json": {
       "version_major": 2,
       "version_minor": 0,
       "model_id": "d06cce201e0b47329dbdf9ccb886756b"
      }
     },
     "metadata": {},
     "output_type": "display_data"
    },
    {
     "data": {
      "text/plain": [
       "  0%|          | 0/5051 [00:00<?, ?it/s]"
      ],
      "application/vnd.jupyter.widget-view+json": {
       "version_major": 2,
       "version_minor": 0,
       "model_id": "b08b3565bd7c49b2adaa87aa12cdd187"
      }
     },
     "metadata": {},
     "output_type": "display_data"
    },
    {
     "data": {
      "text/plain": [
       "  0%|          | 0/4937 [00:00<?, ?it/s]"
      ],
      "application/vnd.jupyter.widget-view+json": {
       "version_major": 2,
       "version_minor": 0,
       "model_id": "fe351fd68fb544e28e1d2bc6c1cb6894"
      }
     },
     "metadata": {},
     "output_type": "display_data"
    },
    {
     "data": {
      "text/plain": [
       "  0%|          | 0/3964 [00:00<?, ?it/s]"
      ],
      "application/vnd.jupyter.widget-view+json": {
       "version_major": 2,
       "version_minor": 0,
       "model_id": "de5f01c843524b1d9641a954f3226e97"
      }
     },
     "metadata": {},
     "output_type": "display_data"
    },
    {
     "data": {
      "text/plain": [
       "  0%|          | 0/3738 [00:00<?, ?it/s]"
      ],
      "application/vnd.jupyter.widget-view+json": {
       "version_major": 2,
       "version_minor": 0,
       "model_id": "e25d48c0f82b4fceb96f4214fbc71247"
      }
     },
     "metadata": {},
     "output_type": "display_data"
    },
    {
     "data": {
      "text/plain": [
       "  0%|          | 0/3619 [00:00<?, ?it/s]"
      ],
      "application/vnd.jupyter.widget-view+json": {
       "version_major": 2,
       "version_minor": 0,
       "model_id": "bc970152f5db4d9ebe2a5f558eaaa32d"
      }
     },
     "metadata": {},
     "output_type": "display_data"
    },
    {
     "data": {
      "text/plain": [
       "  0%|          | 0/3617 [00:00<?, ?it/s]"
      ],
      "application/vnd.jupyter.widget-view+json": {
       "version_major": 2,
       "version_minor": 0,
       "model_id": "cd7db1030dcf4fc9ba75e6bc39a56d0b"
      }
     },
     "metadata": {},
     "output_type": "display_data"
    },
    {
     "data": {
      "text/plain": [
       "  0%|          | 0/3617 [00:00<?, ?it/s]"
      ],
      "application/vnd.jupyter.widget-view+json": {
       "version_major": 2,
       "version_minor": 0,
       "model_id": "41439dd73e754de39a86b86ca72cca1c"
      }
     },
     "metadata": {},
     "output_type": "display_data"
    },
    {
     "data": {
      "text/plain": [
       "  0%|          | 0/3873 [00:00<?, ?it/s]"
      ],
      "application/vnd.jupyter.widget-view+json": {
       "version_major": 2,
       "version_minor": 0,
       "model_id": "4eebf0ea8a45479f96746329ba3ac173"
      }
     },
     "metadata": {},
     "output_type": "display_data"
    },
    {
     "data": {
      "text/plain": [
       "  0%|          | 0/3752 [00:00<?, ?it/s]"
      ],
      "application/vnd.jupyter.widget-view+json": {
       "version_major": 2,
       "version_minor": 0,
       "model_id": "16665a02077d4e7db84fdf67051ba127"
      }
     },
     "metadata": {},
     "output_type": "display_data"
    },
    {
     "data": {
      "text/plain": [
       "  0%|          | 0/3761 [00:00<?, ?it/s]"
      ],
      "application/vnd.jupyter.widget-view+json": {
       "version_major": 2,
       "version_minor": 0,
       "model_id": "69bba86c7a674b3a84ded1b3fd02ce95"
      }
     },
     "metadata": {},
     "output_type": "display_data"
    },
    {
     "data": {
      "text/plain": [
       "  0%|          | 0/3777 [00:00<?, ?it/s]"
      ],
      "application/vnd.jupyter.widget-view+json": {
       "version_major": 2,
       "version_minor": 0,
       "model_id": "7ee6e4649d674f4cae2e020ea9a02926"
      }
     },
     "metadata": {},
     "output_type": "display_data"
    },
    {
     "data": {
      "text/plain": [
       "  0%|          | 0/3804 [00:00<?, ?it/s]"
      ],
      "application/vnd.jupyter.widget-view+json": {
       "version_major": 2,
       "version_minor": 0,
       "model_id": "423acaee5d3d42db932f2cee1d9b4780"
      }
     },
     "metadata": {},
     "output_type": "display_data"
    },
    {
     "data": {
      "text/plain": [
       "  0%|          | 0/3954 [00:00<?, ?it/s]"
      ],
      "application/vnd.jupyter.widget-view+json": {
       "version_major": 2,
       "version_minor": 0,
       "model_id": "3a98ea4f08c04bd4b54dde170a0a4cf5"
      }
     },
     "metadata": {},
     "output_type": "display_data"
    },
    {
     "data": {
      "text/plain": [
       "  0%|          | 0/3979 [00:00<?, ?it/s]"
      ],
      "application/vnd.jupyter.widget-view+json": {
       "version_major": 2,
       "version_minor": 0,
       "model_id": "2e5fc83caccd470aa59e6d7ccc1f0a3e"
      }
     },
     "metadata": {},
     "output_type": "display_data"
    },
    {
     "data": {
      "text/plain": [
       "  0%|          | 0/4135 [00:00<?, ?it/s]"
      ],
      "application/vnd.jupyter.widget-view+json": {
       "version_major": 2,
       "version_minor": 0,
       "model_id": "dcb01c36150b4309bf641ac3d9cd6295"
      }
     },
     "metadata": {},
     "output_type": "display_data"
    },
    {
     "data": {
      "text/plain": [
       "  0%|          | 0/4071 [00:00<?, ?it/s]"
      ],
      "application/vnd.jupyter.widget-view+json": {
       "version_major": 2,
       "version_minor": 0,
       "model_id": "b9be776e49e94d47a88dc88fde1ba5f9"
      }
     },
     "metadata": {},
     "output_type": "display_data"
    },
    {
     "data": {
      "text/plain": [
       "  0%|          | 0/4079 [00:00<?, ?it/s]"
      ],
      "application/vnd.jupyter.widget-view+json": {
       "version_major": 2,
       "version_minor": 0,
       "model_id": "420ba9bcf13a4d35ad499ada9ee46249"
      }
     },
     "metadata": {},
     "output_type": "display_data"
    },
    {
     "data": {
      "text/plain": [
       "  0%|          | 0/4070 [00:00<?, ?it/s]"
      ],
      "application/vnd.jupyter.widget-view+json": {
       "version_major": 2,
       "version_minor": 0,
       "model_id": "48413e6147dc4ac6be94275782c64a7a"
      }
     },
     "metadata": {},
     "output_type": "display_data"
    },
    {
     "data": {
      "text/plain": [
       "  0%|          | 0/4127 [00:00<?, ?it/s]"
      ],
      "application/vnd.jupyter.widget-view+json": {
       "version_major": 2,
       "version_minor": 0,
       "model_id": "71af0626647c4631a5411335a1baad91"
      }
     },
     "metadata": {},
     "output_type": "display_data"
    },
    {
     "data": {
      "text/plain": [
       "  0%|          | 0/4398 [00:00<?, ?it/s]"
      ],
      "application/vnd.jupyter.widget-view+json": {
       "version_major": 2,
       "version_minor": 0,
       "model_id": "3d9ce2757c0546b29ec81ce0eadeda5c"
      }
     },
     "metadata": {},
     "output_type": "display_data"
    },
    {
     "data": {
      "text/plain": [
       "  0%|          | 0/4410 [00:00<?, ?it/s]"
      ],
      "application/vnd.jupyter.widget-view+json": {
       "version_major": 2,
       "version_minor": 0,
       "model_id": "867201abdd6b4e6292782c682edb6dfc"
      }
     },
     "metadata": {},
     "output_type": "display_data"
    },
    {
     "data": {
      "text/plain": [
       "  0%|          | 0/4498 [00:00<?, ?it/s]"
      ],
      "application/vnd.jupyter.widget-view+json": {
       "version_major": 2,
       "version_minor": 0,
       "model_id": "31233ece02ab4bc2b728d82ce7117f01"
      }
     },
     "metadata": {},
     "output_type": "display_data"
    },
    {
     "data": {
      "text/plain": [
       "  0%|          | 0/44028 [00:00<?, ?it/s]"
      ],
      "application/vnd.jupyter.widget-view+json": {
       "version_major": 2,
       "version_minor": 0,
       "model_id": "c4cb42ea686d41268d46fa3b425b4c76"
      }
     },
     "metadata": {},
     "output_type": "display_data"
    },
    {
     "name": "stdout",
     "output_type": "stream",
     "text": [
      "unable to find candidates for iteration 702 416438\n",
      "unable to find candidates for iteration 702 416475\n",
      "unable to find candidates for iteration 702 435186\n",
      "unable to find candidates for iteration 702 443573\n",
      "unable to find candidates for iteration 702 443616\n",
      "unable to find candidates for iteration 702 443618\n",
      "unable to find candidates for iteration 702 443622\n",
      "unable to find candidates for iteration 702 443624\n",
      "unable to find candidates for iteration 702 443682\n",
      "unable to find candidates for iteration 702 443684\n",
      "unable to find candidates for iteration 702 443740\n",
      "unable to find candidates for iteration 702 443741\n",
      "unable to find candidates for iteration 702 443744\n",
      "unable to find candidates for iteration 702 443748\n",
      "unable to find candidates for iteration 702 443774\n",
      "unable to find candidates for iteration 702 443776\n",
      "unable to find candidates for iteration 702 443827\n",
      "unable to find candidates for iteration 702 443932\n"
     ]
    },
    {
     "data": {
      "text/plain": [
       "  0%|          | 0/5852 [00:00<?, ?it/s]"
      ],
      "application/vnd.jupyter.widget-view+json": {
       "version_major": 2,
       "version_minor": 0,
       "model_id": "6ca9c0619c134c789ad912514064333b"
      }
     },
     "metadata": {},
     "output_type": "display_data"
    },
    {
     "data": {
      "text/plain": [
       "  0%|          | 0/4435 [00:00<?, ?it/s]"
      ],
      "application/vnd.jupyter.widget-view+json": {
       "version_major": 2,
       "version_minor": 0,
       "model_id": "6981505aab9d4e36aee8e67b15ff35de"
      }
     },
     "metadata": {},
     "output_type": "display_data"
    },
    {
     "data": {
      "text/plain": [
       "  0%|          | 0/4441 [00:00<?, ?it/s]"
      ],
      "application/vnd.jupyter.widget-view+json": {
       "version_major": 2,
       "version_minor": 0,
       "model_id": "c261805714874516aefe84fbda3d33a8"
      }
     },
     "metadata": {},
     "output_type": "display_data"
    },
    {
     "data": {
      "text/plain": [
       "  0%|          | 0/4435 [00:00<?, ?it/s]"
      ],
      "application/vnd.jupyter.widget-view+json": {
       "version_major": 2,
       "version_minor": 0,
       "model_id": "227b660a55e4405e8bfe75deb669a39d"
      }
     },
     "metadata": {},
     "output_type": "display_data"
    },
    {
     "data": {
      "text/plain": [
       "  0%|          | 0/4499 [00:00<?, ?it/s]"
      ],
      "application/vnd.jupyter.widget-view+json": {
       "version_major": 2,
       "version_minor": 0,
       "model_id": "f5698ba339f9420d8235599737068c89"
      }
     },
     "metadata": {},
     "output_type": "display_data"
    },
    {
     "data": {
      "text/plain": [
       "  0%|          | 0/4437 [00:00<?, ?it/s]"
      ],
      "application/vnd.jupyter.widget-view+json": {
       "version_major": 2,
       "version_minor": 0,
       "model_id": "9a6541a3c9db43df81f96cacda7c9fe2"
      }
     },
     "metadata": {},
     "output_type": "display_data"
    },
    {
     "name": "stdout",
     "output_type": "stream",
     "text": [
      "unable to find candidates for iteration 708 409095\n"
     ]
    },
    {
     "data": {
      "text/plain": [
       "  0%|          | 0/4602 [00:00<?, ?it/s]"
      ],
      "application/vnd.jupyter.widget-view+json": {
       "version_major": 2,
       "version_minor": 0,
       "model_id": "c458ded6ef17476f8163caf0dcef6db0"
      }
     },
     "metadata": {},
     "output_type": "display_data"
    },
    {
     "data": {
      "text/plain": [
       "  0%|          | 0/4957 [00:00<?, ?it/s]"
      ],
      "application/vnd.jupyter.widget-view+json": {
       "version_major": 2,
       "version_minor": 0,
       "model_id": "53124ef8f54f4ee28ded0ab0e426640e"
      }
     },
     "metadata": {},
     "output_type": "display_data"
    },
    {
     "data": {
      "text/plain": [
       "  0%|          | 0/5153 [00:00<?, ?it/s]"
      ],
      "application/vnd.jupyter.widget-view+json": {
       "version_major": 2,
       "version_minor": 0,
       "model_id": "467cbba1e44345a9a4990e87088e5b30"
      }
     },
     "metadata": {},
     "output_type": "display_data"
    },
    {
     "data": {
      "text/plain": [
       "  0%|          | 0/5253 [00:00<?, ?it/s]"
      ],
      "application/vnd.jupyter.widget-view+json": {
       "version_major": 2,
       "version_minor": 0,
       "model_id": "69329969835c43f9bba7e2978d8dd0d1"
      }
     },
     "metadata": {},
     "output_type": "display_data"
    },
    {
     "data": {
      "text/plain": [
       "  0%|          | 0/5357 [00:00<?, ?it/s]"
      ],
      "application/vnd.jupyter.widget-view+json": {
       "version_major": 2,
       "version_minor": 0,
       "model_id": "d7668d5f5d2a46cd812be37f48183bc2"
      }
     },
     "metadata": {},
     "output_type": "display_data"
    },
    {
     "data": {
      "text/plain": [
       "  0%|          | 0/5396 [00:00<?, ?it/s]"
      ],
      "application/vnd.jupyter.widget-view+json": {
       "version_major": 2,
       "version_minor": 0,
       "model_id": "9320c6e16bed49a08ad1b881f63f291c"
      }
     },
     "metadata": {},
     "output_type": "display_data"
    },
    {
     "data": {
      "text/plain": [
       "  0%|          | 0/5579 [00:00<?, ?it/s]"
      ],
      "application/vnd.jupyter.widget-view+json": {
       "version_major": 2,
       "version_minor": 0,
       "model_id": "55db09d561274fb7b994161186dc450f"
      }
     },
     "metadata": {},
     "output_type": "display_data"
    },
    {
     "data": {
      "text/plain": [
       "  0%|          | 0/5396 [00:00<?, ?it/s]"
      ],
      "application/vnd.jupyter.widget-view+json": {
       "version_major": 2,
       "version_minor": 0,
       "model_id": "18fcd4bfcc4f4eb084d4a8ccd9ec1f3f"
      }
     },
     "metadata": {},
     "output_type": "display_data"
    },
    {
     "data": {
      "text/plain": [
       "  0%|          | 0/5313 [00:00<?, ?it/s]"
      ],
      "application/vnd.jupyter.widget-view+json": {
       "version_major": 2,
       "version_minor": 0,
       "model_id": "3f4f01c58ffc4433a206a5ec352e78c9"
      }
     },
     "metadata": {},
     "output_type": "display_data"
    },
    {
     "data": {
      "text/plain": [
       "  0%|          | 0/5444 [00:00<?, ?it/s]"
      ],
      "application/vnd.jupyter.widget-view+json": {
       "version_major": 2,
       "version_minor": 0,
       "model_id": "03ad71b8a69b4cc6a49fea80a62eacad"
      }
     },
     "metadata": {},
     "output_type": "display_data"
    },
    {
     "data": {
      "text/plain": [
       "  0%|          | 0/5380 [00:00<?, ?it/s]"
      ],
      "application/vnd.jupyter.widget-view+json": {
       "version_major": 2,
       "version_minor": 0,
       "model_id": "369ed7bf4fec4122a9d8613e90e134b3"
      }
     },
     "metadata": {},
     "output_type": "display_data"
    },
    {
     "data": {
      "text/plain": [
       "  0%|          | 0/5398 [00:00<?, ?it/s]"
      ],
      "application/vnd.jupyter.widget-view+json": {
       "version_major": 2,
       "version_minor": 0,
       "model_id": "8e2f632f9f7944d38e52f98b6ca968d6"
      }
     },
     "metadata": {},
     "output_type": "display_data"
    },
    {
     "data": {
      "text/plain": [
       "  0%|          | 0/5391 [00:00<?, ?it/s]"
      ],
      "application/vnd.jupyter.widget-view+json": {
       "version_major": 2,
       "version_minor": 0,
       "model_id": "c442ce17664646b487ddcd340cab104d"
      }
     },
     "metadata": {},
     "output_type": "display_data"
    },
    {
     "data": {
      "text/plain": [
       "  0%|          | 0/5415 [00:00<?, ?it/s]"
      ],
      "application/vnd.jupyter.widget-view+json": {
       "version_major": 2,
       "version_minor": 0,
       "model_id": "2fa9fcc9fe0e4c5e89dd0381cdeadf95"
      }
     },
     "metadata": {},
     "output_type": "display_data"
    },
    {
     "data": {
      "text/plain": [
       "  0%|          | 0/6102 [00:00<?, ?it/s]"
      ],
      "application/vnd.jupyter.widget-view+json": {
       "version_major": 2,
       "version_minor": 0,
       "model_id": "f456b05b00b049b98f4de1cf56e382bf"
      }
     },
     "metadata": {},
     "output_type": "display_data"
    },
    {
     "name": "stdout",
     "output_type": "stream",
     "text": [
      "unable to find candidates for iteration 723 416437\n"
     ]
    },
    {
     "data": {
      "text/plain": [
       "  0%|          | 0/6144 [00:00<?, ?it/s]"
      ],
      "application/vnd.jupyter.widget-view+json": {
       "version_major": 2,
       "version_minor": 0,
       "model_id": "709d36d906ed448ba46cfdde52978fed"
      }
     },
     "metadata": {},
     "output_type": "display_data"
    },
    {
     "name": "stdout",
     "output_type": "stream",
     "text": [
      "unable to find candidates for iteration 724 416423\n"
     ]
    },
    {
     "data": {
      "text/plain": [
       "  0%|          | 0/6165 [00:00<?, ?it/s]"
      ],
      "application/vnd.jupyter.widget-view+json": {
       "version_major": 2,
       "version_minor": 0,
       "model_id": "6042e7d8ef85474290cb08843c5c3271"
      }
     },
     "metadata": {},
     "output_type": "display_data"
    },
    {
     "name": "stdout",
     "output_type": "stream",
     "text": [
      "unable to find candidates for iteration 725 416427\n",
      "unable to find candidates for iteration 725 416474\n"
     ]
    },
    {
     "data": {
      "text/plain": [
       "  0%|          | 0/6412 [00:00<?, ?it/s]"
      ],
      "application/vnd.jupyter.widget-view+json": {
       "version_major": 2,
       "version_minor": 0,
       "model_id": "dae7887a04d748809f2173a3c55966fa"
      }
     },
     "metadata": {},
     "output_type": "display_data"
    },
    {
     "name": "stdout",
     "output_type": "stream",
     "text": [
      "unable to find candidates for iteration 726 416478\n"
     ]
    },
    {
     "data": {
      "text/plain": [
       "  0%|          | 0/6695 [00:00<?, ?it/s]"
      ],
      "application/vnd.jupyter.widget-view+json": {
       "version_major": 2,
       "version_minor": 0,
       "model_id": "17a130d81ed943509db206191ce3cf43"
      }
     },
     "metadata": {},
     "output_type": "display_data"
    },
    {
     "name": "stdout",
     "output_type": "stream",
     "text": [
      "unable to find candidates for iteration 727 413819\n",
      "unable to find candidates for iteration 727 416482\n"
     ]
    },
    {
     "data": {
      "text/plain": [
       "  0%|          | 0/6729 [00:00<?, ?it/s]"
      ],
      "application/vnd.jupyter.widget-view+json": {
       "version_major": 2,
       "version_minor": 0,
       "model_id": "63c42c1ef5c94ae2a44c45a5cc9b8e13"
      }
     },
     "metadata": {},
     "output_type": "display_data"
    },
    {
     "name": "stdout",
     "output_type": "stream",
     "text": [
      "unable to find candidates for iteration 728 413785\n",
      "unable to find candidates for iteration 728 416458\n"
     ]
    },
    {
     "data": {
      "text/plain": [
       "  0%|          | 0/26698 [00:00<?, ?it/s]"
      ],
      "application/vnd.jupyter.widget-view+json": {
       "version_major": 2,
       "version_minor": 0,
       "model_id": "ba411f1f44944690a64e488455e53fb0"
      }
     },
     "metadata": {},
     "output_type": "display_data"
    },
    {
     "name": "stdout",
     "output_type": "stream",
     "text": [
      "unable to find candidates for iteration 729 413821\n",
      "unable to find candidates for iteration 729 416423\n",
      "unable to find candidates for iteration 729 429101\n",
      "unable to find candidates for iteration 729 429104\n",
      "unable to find candidates for iteration 729 429144\n",
      "unable to find candidates for iteration 729 429147\n",
      "unable to find candidates for iteration 729 429302\n",
      "unable to find candidates for iteration 729 434949\n",
      "unable to find candidates for iteration 729 434954\n",
      "unable to find candidates for iteration 729 435022\n",
      "unable to find candidates for iteration 729 435191\n"
     ]
    },
    {
     "data": {
      "text/plain": [
       "  0%|          | 0/6966 [00:00<?, ?it/s]"
      ],
      "application/vnd.jupyter.widget-view+json": {
       "version_major": 2,
       "version_minor": 0,
       "model_id": "a18410af62d84d80a2754163ba21faa4"
      }
     },
     "metadata": {},
     "output_type": "display_data"
    },
    {
     "name": "stdout",
     "output_type": "stream",
     "text": [
      "unable to find candidates for iteration 730 416396\n",
      "unable to find candidates for iteration 730 416399\n",
      "unable to find candidates for iteration 730 416447\n"
     ]
    },
    {
     "data": {
      "text/plain": [
       "  0%|          | 0/7903 [00:00<?, ?it/s]"
      ],
      "application/vnd.jupyter.widget-view+json": {
       "version_major": 2,
       "version_minor": 0,
       "model_id": "1bd91b5f22174ea88ac2663a2f3e7858"
      }
     },
     "metadata": {},
     "output_type": "display_data"
    },
    {
     "name": "stdout",
     "output_type": "stream",
     "text": [
      "unable to find candidates for iteration 731 416440\n",
      "unable to find candidates for iteration 731 416473\n"
     ]
    },
    {
     "data": {
      "text/plain": [
       "  0%|          | 0/9006 [00:00<?, ?it/s]"
      ],
      "application/vnd.jupyter.widget-view+json": {
       "version_major": 2,
       "version_minor": 0,
       "model_id": "0995031e8bad41e486398a2c2a3b9642"
      }
     },
     "metadata": {},
     "output_type": "display_data"
    },
    {
     "name": "stdout",
     "output_type": "stream",
     "text": [
      "unable to find candidates for iteration 732 413819\n",
      "unable to find candidates for iteration 732 416386\n",
      "unable to find candidates for iteration 732 416435\n"
     ]
    },
    {
     "data": {
      "text/plain": [
       "  0%|          | 0/9426 [00:00<?, ?it/s]"
      ],
      "application/vnd.jupyter.widget-view+json": {
       "version_major": 2,
       "version_minor": 0,
       "model_id": "0198c012f6674699abfe8ae2b82b5374"
      }
     },
     "metadata": {},
     "output_type": "display_data"
    },
    {
     "name": "stdout",
     "output_type": "stream",
     "text": [
      "unable to find candidates for iteration 733 416450\n",
      "unable to find candidates for iteration 733 416451\n"
     ]
    },
    {
     "data": {
      "text/plain": [
       "  0%|          | 0/9649 [00:00<?, ?it/s]"
      ],
      "application/vnd.jupyter.widget-view+json": {
       "version_major": 2,
       "version_minor": 0,
       "model_id": "939ec3d1ea6e4b228f494620a52c08be"
      }
     },
     "metadata": {},
     "output_type": "display_data"
    },
    {
     "name": "stdout",
     "output_type": "stream",
     "text": [
      "unable to find candidates for iteration 734 413817\n",
      "unable to find candidates for iteration 734 416386\n"
     ]
    },
    {
     "data": {
      "text/plain": [
       "  0%|          | 0/10159 [00:00<?, ?it/s]"
      ],
      "application/vnd.jupyter.widget-view+json": {
       "version_major": 2,
       "version_minor": 0,
       "model_id": "2f38b3d6a72c40a3859d630b8e53e53b"
      }
     },
     "metadata": {},
     "output_type": "display_data"
    },
    {
     "name": "stdout",
     "output_type": "stream",
     "text": [
      "unable to find candidates for iteration 735 416390\n"
     ]
    },
    {
     "data": {
      "text/plain": [
       "  0%|          | 0/27206 [00:00<?, ?it/s]"
      ],
      "application/vnd.jupyter.widget-view+json": {
       "version_major": 2,
       "version_minor": 0,
       "model_id": "092b68ec6c0b44a786b23aa230cc65d9"
      }
     },
     "metadata": {},
     "output_type": "display_data"
    },
    {
     "name": "stdout",
     "output_type": "stream",
     "text": [
      "unable to find candidates for iteration 736 416390\n",
      "unable to find candidates for iteration 736 429075\n",
      "unable to find candidates for iteration 736 429130\n",
      "unable to find candidates for iteration 736 434740\n",
      "unable to find candidates for iteration 736 434744\n",
      "unable to find candidates for iteration 736 434945\n",
      "unable to find candidates for iteration 736 434950\n",
      "unable to find candidates for iteration 736 434955\n",
      "unable to find candidates for iteration 736 435038\n"
     ]
    },
    {
     "data": {
      "text/plain": [
       "  0%|          | 0/10323 [00:00<?, ?it/s]"
      ],
      "application/vnd.jupyter.widget-view+json": {
       "version_major": 2,
       "version_minor": 0,
       "model_id": "2dd55e4a9423412f8d7f3b33924984ef"
      }
     },
     "metadata": {},
     "output_type": "display_data"
    },
    {
     "name": "stdout",
     "output_type": "stream",
     "text": [
      "unable to find candidates for iteration 737 416390\n"
     ]
    },
    {
     "data": {
      "text/plain": [
       "  0%|          | 0/10344 [00:00<?, ?it/s]"
      ],
      "application/vnd.jupyter.widget-view+json": {
       "version_major": 2,
       "version_minor": 0,
       "model_id": "5e33f86aa2b3445eb37c2b09011e694a"
      }
     },
     "metadata": {},
     "output_type": "display_data"
    },
    {
     "name": "stdout",
     "output_type": "stream",
     "text": [
      "unable to find candidates for iteration 738 416476\n"
     ]
    },
    {
     "data": {
      "text/plain": [
       "  0%|          | 0/10238 [00:00<?, ?it/s]"
      ],
      "application/vnd.jupyter.widget-view+json": {
       "version_major": 2,
       "version_minor": 0,
       "model_id": "f7dc9117b1df49838dbdabcc46514f6f"
      }
     },
     "metadata": {},
     "output_type": "display_data"
    },
    {
     "name": "stdout",
     "output_type": "stream",
     "text": [
      "unable to find candidates for iteration 739 416422\n",
      "unable to find candidates for iteration 739 416425\n",
      "unable to find candidates for iteration 739 423600\n"
     ]
    },
    {
     "data": {
      "text/plain": [
       "  0%|          | 0/12486 [00:00<?, ?it/s]"
      ],
      "application/vnd.jupyter.widget-view+json": {
       "version_major": 2,
       "version_minor": 0,
       "model_id": "f8fbf1f02bf341448091fdf85eb4fa50"
      }
     },
     "metadata": {},
     "output_type": "display_data"
    },
    {
     "name": "stdout",
     "output_type": "stream",
     "text": [
      "unable to find candidates for iteration 740 416440\n",
      "unable to find candidates for iteration 740 416476\n"
     ]
    },
    {
     "data": {
      "text/plain": [
       "  0%|          | 0/12484 [00:00<?, ?it/s]"
      ],
      "application/vnd.jupyter.widget-view+json": {
       "version_major": 2,
       "version_minor": 0,
       "model_id": "7fa9d0d2b588454a81b5f6e9634bc51c"
      }
     },
     "metadata": {},
     "output_type": "display_data"
    },
    {
     "name": "stdout",
     "output_type": "stream",
     "text": [
      "unable to find candidates for iteration 741 416440\n",
      "unable to find candidates for iteration 741 416476\n"
     ]
    },
    {
     "data": {
      "text/plain": [
       "  0%|          | 0/20949 [00:00<?, ?it/s]"
      ],
      "application/vnd.jupyter.widget-view+json": {
       "version_major": 2,
       "version_minor": 0,
       "model_id": "23f3cd4963994caca7bf46f77d8d7a58"
      }
     },
     "metadata": {},
     "output_type": "display_data"
    },
    {
     "name": "stdout",
     "output_type": "stream",
     "text": [
      "unable to find candidates for iteration 742 429113\n",
      "unable to find candidates for iteration 742 429136\n",
      "unable to find candidates for iteration 742 429269\n",
      "unable to find candidates for iteration 742 434959\n",
      "unable to find candidates for iteration 742 435163\n",
      "unable to find candidates for iteration 742 435166\n",
      "unable to find candidates for iteration 742 436105\n",
      "unable to find candidates for iteration 742 436109\n",
      "unable to find candidates for iteration 742 436113\n",
      "unable to find candidates for iteration 742 436235\n",
      "unable to find candidates for iteration 742 436241\n"
     ]
    },
    {
     "data": {
      "text/plain": [
       "  0%|          | 0/20759 [00:00<?, ?it/s]"
      ],
      "application/vnd.jupyter.widget-view+json": {
       "version_major": 2,
       "version_minor": 0,
       "model_id": "7233c1ecf09a44b8982de21d32a58183"
      }
     },
     "metadata": {},
     "output_type": "display_data"
    },
    {
     "name": "stdout",
     "output_type": "stream",
     "text": [
      "unable to find candidates for iteration 743 429118\n",
      "unable to find candidates for iteration 743 429191\n",
      "unable to find candidates for iteration 743 429200\n",
      "unable to find candidates for iteration 743 429349\n",
      "unable to find candidates for iteration 743 429350\n",
      "unable to find candidates for iteration 743 429353\n",
      "unable to find candidates for iteration 743 435175\n",
      "unable to find candidates for iteration 743 435177\n"
     ]
    },
    {
     "data": {
      "text/plain": [
       "  0%|          | 0/28553 [00:00<?, ?it/s]"
      ],
      "application/vnd.jupyter.widget-view+json": {
       "version_major": 2,
       "version_minor": 0,
       "model_id": "3530c6bdb86b4fef80df8b302b219422"
      }
     },
     "metadata": {},
     "output_type": "display_data"
    },
    {
     "name": "stdout",
     "output_type": "stream",
     "text": [
      "unable to find candidates for iteration 744 429114\n",
      "unable to find candidates for iteration 744 429118\n",
      "unable to find candidates for iteration 744 429191\n",
      "unable to find candidates for iteration 744 429346\n",
      "unable to find candidates for iteration 744 429349\n",
      "unable to find candidates for iteration 744 435175\n",
      "unable to find candidates for iteration 744 435177\n",
      "unable to find candidates for iteration 744 436332\n",
      "unable to find candidates for iteration 744 441421\n",
      "unable to find candidates for iteration 744 441428\n",
      "unable to find candidates for iteration 744 441447\n",
      "unable to find candidates for iteration 744 441558\n",
      "unable to find candidates for iteration 744 441628\n",
      "unable to find candidates for iteration 744 441739\n",
      "unable to find candidates for iteration 744 443608\n",
      "unable to find candidates for iteration 744 443609\n",
      "unable to find candidates for iteration 744 443613\n",
      "unable to find candidates for iteration 744 443614\n",
      "unable to find candidates for iteration 744 443616\n",
      "unable to find candidates for iteration 744 443618\n",
      "unable to find candidates for iteration 744 443622\n",
      "unable to find candidates for iteration 744 443624\n",
      "unable to find candidates for iteration 744 443663\n",
      "unable to find candidates for iteration 744 443665\n",
      "unable to find candidates for iteration 744 443706\n",
      "unable to find candidates for iteration 744 443710\n",
      "unable to find candidates for iteration 744 443713\n",
      "unable to find candidates for iteration 744 443716\n",
      "unable to find candidates for iteration 744 443757\n",
      "unable to find candidates for iteration 744 443893\n",
      "unable to find candidates for iteration 744 443895\n",
      "unable to find candidates for iteration 744 443897\n",
      "unable to find candidates for iteration 744 444310\n",
      "unable to find candidates for iteration 744 444425\n",
      "unable to find candidates for iteration 744 444427\n"
     ]
    },
    {
     "data": {
      "text/plain": [
       "  0%|          | 0/23066 [00:00<?, ?it/s]"
      ],
      "application/vnd.jupyter.widget-view+json": {
       "version_major": 2,
       "version_minor": 0,
       "model_id": "aa91775955ac40159a6db0cf85c71605"
      }
     },
     "metadata": {},
     "output_type": "display_data"
    },
    {
     "name": "stdout",
     "output_type": "stream",
     "text": [
      "unable to find candidates for iteration 745 429140\n",
      "unable to find candidates for iteration 745 429143\n",
      "unable to find candidates for iteration 745 429243\n",
      "unable to find candidates for iteration 745 429294\n",
      "unable to find candidates for iteration 745 429356\n",
      "unable to find candidates for iteration 745 434924\n",
      "unable to find candidates for iteration 745 435029\n",
      "unable to find candidates for iteration 745 435034\n",
      "unable to find candidates for iteration 745 435191\n",
      "unable to find candidates for iteration 745 441159\n",
      "unable to find candidates for iteration 745 441164\n",
      "unable to find candidates for iteration 745 441271\n",
      "unable to find candidates for iteration 745 441275\n",
      "unable to find candidates for iteration 745 441428\n",
      "unable to find candidates for iteration 745 441429\n",
      "unable to find candidates for iteration 745 441436\n",
      "unable to find candidates for iteration 745 441487\n",
      "unable to find candidates for iteration 745 441671\n",
      "unable to find candidates for iteration 745 441705\n",
      "unable to find candidates for iteration 745 441797\n",
      "unable to find candidates for iteration 745 443554\n",
      "unable to find candidates for iteration 745 443559\n",
      "unable to find candidates for iteration 745 443562\n",
      "unable to find candidates for iteration 745 443609\n",
      "unable to find candidates for iteration 745 443616\n",
      "unable to find candidates for iteration 745 443618\n",
      "unable to find candidates for iteration 745 443622\n",
      "unable to find candidates for iteration 745 443623\n",
      "unable to find candidates for iteration 745 443624\n",
      "unable to find candidates for iteration 745 443625\n",
      "unable to find candidates for iteration 745 443645\n",
      "unable to find candidates for iteration 745 443650\n",
      "unable to find candidates for iteration 745 443675\n",
      "unable to find candidates for iteration 745 443689\n",
      "unable to find candidates for iteration 745 443716\n",
      "unable to find candidates for iteration 745 443720\n",
      "unable to find candidates for iteration 745 443721\n",
      "unable to find candidates for iteration 745 443781\n"
     ]
    },
    {
     "data": {
      "text/plain": [
       "  0%|          | 0/23189 [00:00<?, ?it/s]"
      ],
      "application/vnd.jupyter.widget-view+json": {
       "version_major": 2,
       "version_minor": 0,
       "model_id": "9c6dd34a0eeb4e0ab829e34812215179"
      }
     },
     "metadata": {},
     "output_type": "display_data"
    },
    {
     "name": "stdout",
     "output_type": "stream",
     "text": [
      "unable to find candidates for iteration 746 429114\n",
      "unable to find candidates for iteration 746 429189\n",
      "unable to find candidates for iteration 746 429191\n",
      "unable to find candidates for iteration 746 429196\n",
      "unable to find candidates for iteration 746 429343\n",
      "unable to find candidates for iteration 746 429346\n",
      "unable to find candidates for iteration 746 435175\n",
      "unable to find candidates for iteration 746 435177\n",
      "unable to find candidates for iteration 746 440848\n",
      "unable to find candidates for iteration 746 441129\n",
      "unable to find candidates for iteration 746 441277\n",
      "unable to find candidates for iteration 746 441325\n",
      "unable to find candidates for iteration 746 441424\n",
      "unable to find candidates for iteration 746 441425\n",
      "unable to find candidates for iteration 746 441447\n",
      "unable to find candidates for iteration 746 441558\n",
      "unable to find candidates for iteration 746 441628\n",
      "unable to find candidates for iteration 746 441739\n",
      "unable to find candidates for iteration 746 443608\n",
      "unable to find candidates for iteration 746 443609\n",
      "unable to find candidates for iteration 746 443613\n",
      "unable to find candidates for iteration 746 443614\n",
      "unable to find candidates for iteration 746 443616\n",
      "unable to find candidates for iteration 746 443618\n",
      "unable to find candidates for iteration 746 443622\n",
      "unable to find candidates for iteration 746 443624\n",
      "unable to find candidates for iteration 746 443663\n",
      "unable to find candidates for iteration 746 443665\n",
      "unable to find candidates for iteration 746 443692\n",
      "unable to find candidates for iteration 746 443706\n",
      "unable to find candidates for iteration 746 443710\n",
      "unable to find candidates for iteration 746 443713\n",
      "unable to find candidates for iteration 746 443897\n"
     ]
    },
    {
     "data": {
      "text/plain": [
       "  0%|          | 0/22769 [00:00<?, ?it/s]"
      ],
      "application/vnd.jupyter.widget-view+json": {
       "version_major": 2,
       "version_minor": 0,
       "model_id": "4d3b517f37224bf9958dd4f0365f0cdd"
      }
     },
     "metadata": {},
     "output_type": "display_data"
    },
    {
     "name": "stdout",
     "output_type": "stream",
     "text": [
      "unable to find candidates for iteration 747 429195\n",
      "unable to find candidates for iteration 747 429208\n",
      "unable to find candidates for iteration 747 429356\n",
      "unable to find candidates for iteration 747 429359\n",
      "unable to find candidates for iteration 747 435175\n",
      "unable to find candidates for iteration 747 435177\n",
      "unable to find candidates for iteration 747 441285\n",
      "unable to find candidates for iteration 747 441289\n",
      "unable to find candidates for iteration 747 441429\n",
      "unable to find candidates for iteration 747 441430\n",
      "unable to find candidates for iteration 747 441631\n",
      "unable to find candidates for iteration 747 443604\n",
      "unable to find candidates for iteration 747 443606\n",
      "unable to find candidates for iteration 747 443609\n",
      "unable to find candidates for iteration 747 443613\n",
      "unable to find candidates for iteration 747 443614\n",
      "unable to find candidates for iteration 747 443616\n",
      "unable to find candidates for iteration 747 443618\n",
      "unable to find candidates for iteration 747 443622\n",
      "unable to find candidates for iteration 747 443624\n",
      "unable to find candidates for iteration 747 443710\n",
      "unable to find candidates for iteration 747 443713\n",
      "unable to find candidates for iteration 747 443716\n",
      "unable to find candidates for iteration 747 444227\n",
      "unable to find candidates for iteration 747 444312\n",
      "unable to find candidates for iteration 747 444432\n"
     ]
    },
    {
     "data": {
      "text/plain": [
       "  0%|          | 0/22783 [00:00<?, ?it/s]"
      ],
      "application/vnd.jupyter.widget-view+json": {
       "version_major": 2,
       "version_minor": 0,
       "model_id": "e2bf537e84a34268b270d120d8953cf0"
      }
     },
     "metadata": {},
     "output_type": "display_data"
    },
    {
     "name": "stdout",
     "output_type": "stream",
     "text": [
      "unable to find candidates for iteration 748 429374\n",
      "unable to find candidates for iteration 748 429443\n",
      "unable to find candidates for iteration 748 429447\n",
      "unable to find candidates for iteration 748 429557\n",
      "unable to find candidates for iteration 748 434938\n",
      "unable to find candidates for iteration 748 435048\n",
      "unable to find candidates for iteration 748 435052\n",
      "unable to find candidates for iteration 748 435154\n",
      "unable to find candidates for iteration 748 435157\n",
      "unable to find candidates for iteration 748 440941\n",
      "unable to find candidates for iteration 748 441184\n",
      "unable to find candidates for iteration 748 441289\n",
      "unable to find candidates for iteration 748 441292\n",
      "unable to find candidates for iteration 748 441323\n",
      "unable to find candidates for iteration 748 441327\n",
      "unable to find candidates for iteration 748 441397\n",
      "unable to find candidates for iteration 748 441446\n",
      "unable to find candidates for iteration 748 441533\n",
      "unable to find candidates for iteration 748 441536\n",
      "unable to find candidates for iteration 748 441596\n",
      "unable to find candidates for iteration 748 441597\n",
      "unable to find candidates for iteration 748 441649\n",
      "unable to find candidates for iteration 748 443465\n",
      "unable to find candidates for iteration 748 443550\n",
      "unable to find candidates for iteration 748 443551\n",
      "unable to find candidates for iteration 748 443553\n",
      "unable to find candidates for iteration 748 443554\n",
      "unable to find candidates for iteration 748 443559\n",
      "unable to find candidates for iteration 748 443616\n",
      "unable to find candidates for iteration 748 443618\n",
      "unable to find candidates for iteration 748 443622\n",
      "unable to find candidates for iteration 748 443624\n",
      "unable to find candidates for iteration 748 443675\n",
      "unable to find candidates for iteration 748 444523\n"
     ]
    },
    {
     "data": {
      "text/plain": [
       "  0%|          | 0/23673 [00:00<?, ?it/s]"
      ],
      "application/vnd.jupyter.widget-view+json": {
       "version_major": 2,
       "version_minor": 0,
       "model_id": "c5116dedc30f4691ba7fea64f49dc3e5"
      }
     },
     "metadata": {},
     "output_type": "display_data"
    },
    {
     "name": "stdout",
     "output_type": "stream",
     "text": [
      "unable to find candidates for iteration 749 429102\n",
      "unable to find candidates for iteration 749 429110\n",
      "unable to find candidates for iteration 749 429113\n",
      "unable to find candidates for iteration 749 429124\n",
      "unable to find candidates for iteration 749 429292\n",
      "unable to find candidates for iteration 749 435114\n",
      "unable to find candidates for iteration 749 435288\n",
      "unable to find candidates for iteration 749 436562\n",
      "unable to find candidates for iteration 749 441285\n",
      "unable to find candidates for iteration 749 441312\n",
      "unable to find candidates for iteration 749 441324\n",
      "unable to find candidates for iteration 749 441333\n",
      "unable to find candidates for iteration 749 441337\n",
      "unable to find candidates for iteration 749 441355\n",
      "unable to find candidates for iteration 749 441462\n",
      "unable to find candidates for iteration 749 441466\n",
      "unable to find candidates for iteration 749 441481\n",
      "unable to find candidates for iteration 749 441628\n",
      "unable to find candidates for iteration 749 441631\n",
      "unable to find candidates for iteration 749 441765\n",
      "unable to find candidates for iteration 749 441768\n",
      "unable to find candidates for iteration 749 443597\n",
      "unable to find candidates for iteration 749 443606\n",
      "unable to find candidates for iteration 749 443609\n",
      "unable to find candidates for iteration 749 443613\n",
      "unable to find candidates for iteration 749 443614\n",
      "unable to find candidates for iteration 749 443616\n",
      "unable to find candidates for iteration 749 443618\n",
      "unable to find candidates for iteration 749 443622\n",
      "unable to find candidates for iteration 749 443624\n",
      "unable to find candidates for iteration 749 443646\n",
      "unable to find candidates for iteration 749 443657\n",
      "unable to find candidates for iteration 749 443692\n",
      "unable to find candidates for iteration 749 443746\n",
      "unable to find candidates for iteration 749 443748\n",
      "unable to find candidates for iteration 749 443750\n",
      "unable to find candidates for iteration 749 443752\n",
      "unable to find candidates for iteration 749 444210\n",
      "unable to find candidates for iteration 749 444214\n",
      "unable to find candidates for iteration 749 444217\n",
      "unable to find candidates for iteration 749 444219\n",
      "unable to find candidates for iteration 749 444292\n",
      "unable to find candidates for iteration 749 444391\n"
     ]
    },
    {
     "data": {
      "text/plain": [
       "  0%|          | 0/23754 [00:00<?, ?it/s]"
      ],
      "application/vnd.jupyter.widget-view+json": {
       "version_major": 2,
       "version_minor": 0,
       "model_id": "f7b375ce3f4144c68ceb495a5b4b2cf6"
      }
     },
     "metadata": {},
     "output_type": "display_data"
    },
    {
     "name": "stdout",
     "output_type": "stream",
     "text": [
      "unable to find candidates for iteration 750 429094\n",
      "unable to find candidates for iteration 750 429140\n",
      "unable to find candidates for iteration 750 435070\n",
      "unable to find candidates for iteration 750 435144\n",
      "unable to find candidates for iteration 750 435148\n",
      "unable to find candidates for iteration 750 435161\n",
      "unable to find candidates for iteration 750 436290\n",
      "unable to find candidates for iteration 750 441202\n",
      "unable to find candidates for iteration 750 441228\n",
      "unable to find candidates for iteration 750 441399\n",
      "unable to find candidates for iteration 750 441402\n",
      "unable to find candidates for iteration 750 441436\n",
      "unable to find candidates for iteration 750 441439\n",
      "unable to find candidates for iteration 750 441586\n",
      "unable to find candidates for iteration 750 441595\n",
      "unable to find candidates for iteration 750 441598\n",
      "unable to find candidates for iteration 750 441632\n",
      "unable to find candidates for iteration 750 443616\n",
      "unable to find candidates for iteration 750 443618\n",
      "unable to find candidates for iteration 750 443622\n",
      "unable to find candidates for iteration 750 443624\n",
      "unable to find candidates for iteration 750 443652\n",
      "unable to find candidates for iteration 750 443718\n",
      "unable to find candidates for iteration 750 443921\n",
      "unable to find candidates for iteration 750 444159\n",
      "unable to find candidates for iteration 750 444160\n",
      "unable to find candidates for iteration 750 444218\n",
      "unable to find candidates for iteration 750 444248\n"
     ]
    },
    {
     "data": {
      "text/plain": [
       "  0%|          | 0/23694 [00:00<?, ?it/s]"
      ],
      "application/vnd.jupyter.widget-view+json": {
       "version_major": 2,
       "version_minor": 0,
       "model_id": "0ac356bda63c4ee48b7ed5071a2f4df0"
      }
     },
     "metadata": {},
     "output_type": "display_data"
    },
    {
     "name": "stdout",
     "output_type": "stream",
     "text": [
      "unable to find candidates for iteration 751 434948\n",
      "unable to find candidates for iteration 751 435018\n",
      "unable to find candidates for iteration 751 435023\n",
      "unable to find candidates for iteration 751 435104\n",
      "unable to find candidates for iteration 751 435108\n",
      "unable to find candidates for iteration 751 435127\n",
      "unable to find candidates for iteration 751 441134\n",
      "unable to find candidates for iteration 751 441174\n",
      "unable to find candidates for iteration 751 441347\n",
      "unable to find candidates for iteration 751 441351\n",
      "unable to find candidates for iteration 751 441373\n",
      "unable to find candidates for iteration 751 441422\n",
      "unable to find candidates for iteration 751 441517\n",
      "unable to find candidates for iteration 751 441552\n",
      "unable to find candidates for iteration 751 441563\n",
      "unable to find candidates for iteration 751 441597\n",
      "unable to find candidates for iteration 751 443586\n",
      "unable to find candidates for iteration 751 443616\n",
      "unable to find candidates for iteration 751 443618\n",
      "unable to find candidates for iteration 751 443622\n",
      "unable to find candidates for iteration 751 443624\n",
      "unable to find candidates for iteration 751 443658\n",
      "unable to find candidates for iteration 751 443659\n",
      "unable to find candidates for iteration 751 443765\n",
      "unable to find candidates for iteration 751 443872\n",
      "unable to find candidates for iteration 751 443874\n",
      "unable to find candidates for iteration 751 444222\n"
     ]
    },
    {
     "data": {
      "text/plain": [
       "  0%|          | 0/24286 [00:00<?, ?it/s]"
      ],
      "application/vnd.jupyter.widget-view+json": {
       "version_major": 2,
       "version_minor": 0,
       "model_id": "f74d3011d94549c2a931d2ddcce504fa"
      }
     },
     "metadata": {},
     "output_type": "display_data"
    },
    {
     "name": "stdout",
     "output_type": "stream",
     "text": [
      "unable to find candidates for iteration 752 429127\n",
      "unable to find candidates for iteration 752 435058\n",
      "unable to find candidates for iteration 752 435139\n",
      "unable to find candidates for iteration 752 435141\n",
      "unable to find candidates for iteration 752 435157\n",
      "unable to find candidates for iteration 752 435161\n",
      "unable to find candidates for iteration 752 435186\n",
      "unable to find candidates for iteration 752 441094\n",
      "unable to find candidates for iteration 752 441399\n",
      "unable to find candidates for iteration 752 441402\n",
      "unable to find candidates for iteration 752 441403\n",
      "unable to find candidates for iteration 752 441432\n",
      "unable to find candidates for iteration 752 441595\n",
      "unable to find candidates for iteration 752 441598\n",
      "unable to find candidates for iteration 752 443573\n",
      "unable to find candidates for iteration 752 443616\n",
      "unable to find candidates for iteration 752 443618\n",
      "unable to find candidates for iteration 752 443622\n",
      "unable to find candidates for iteration 752 443624\n",
      "unable to find candidates for iteration 752 443718\n",
      "unable to find candidates for iteration 752 443738\n",
      "unable to find candidates for iteration 752 443740\n",
      "unable to find candidates for iteration 752 443744\n",
      "unable to find candidates for iteration 752 443748\n",
      "unable to find candidates for iteration 752 443822\n",
      "unable to find candidates for iteration 752 443932\n",
      "unable to find candidates for iteration 752 444144\n",
      "unable to find candidates for iteration 752 444156\n",
      "unable to find candidates for iteration 752 444209\n",
      "unable to find candidates for iteration 752 444213\n",
      "unable to find candidates for iteration 752 448878\n"
     ]
    },
    {
     "data": {
      "text/plain": [
       "  0%|          | 0/25291 [00:00<?, ?it/s]"
      ],
      "application/vnd.jupyter.widget-view+json": {
       "version_major": 2,
       "version_minor": 0,
       "model_id": "b41163e646c1495697d63568bda9adf6"
      }
     },
     "metadata": {},
     "output_type": "display_data"
    },
    {
     "name": "stdout",
     "output_type": "stream",
     "text": [
      "unable to find candidates for iteration 753 429127\n",
      "unable to find candidates for iteration 753 435053\n",
      "unable to find candidates for iteration 753 435058\n",
      "unable to find candidates for iteration 753 435139\n",
      "unable to find candidates for iteration 753 435141\n",
      "unable to find candidates for iteration 753 435154\n",
      "unable to find candidates for iteration 753 435157\n",
      "unable to find candidates for iteration 753 435186\n",
      "unable to find candidates for iteration 753 441094\n",
      "unable to find candidates for iteration 753 441193\n",
      "unable to find candidates for iteration 753 441283\n",
      "unable to find candidates for iteration 753 441397\n",
      "unable to find candidates for iteration 753 441399\n",
      "unable to find candidates for iteration 753 441403\n",
      "unable to find candidates for iteration 753 441432\n",
      "unable to find candidates for iteration 753 441594\n",
      "unable to find candidates for iteration 753 441595\n",
      "unable to find candidates for iteration 753 441624\n",
      "unable to find candidates for iteration 753 443573\n",
      "unable to find candidates for iteration 753 443616\n",
      "unable to find candidates for iteration 753 443618\n",
      "unable to find candidates for iteration 753 443622\n",
      "unable to find candidates for iteration 753 443624\n",
      "unable to find candidates for iteration 753 443740\n",
      "unable to find candidates for iteration 753 443744\n",
      "unable to find candidates for iteration 753 443748\n",
      "unable to find candidates for iteration 753 443827\n",
      "unable to find candidates for iteration 753 443932\n",
      "unable to find candidates for iteration 753 444140\n",
      "unable to find candidates for iteration 753 444144\n",
      "unable to find candidates for iteration 753 444156\n",
      "unable to find candidates for iteration 753 444230\n",
      "unable to find candidates for iteration 753 444519\n",
      "unable to find candidates for iteration 753 448877\n",
      "unable to find candidates for iteration 753 448878\n"
     ]
    },
    {
     "data": {
      "text/plain": [
       "  0%|          | 0/26073 [00:00<?, ?it/s]"
      ],
      "application/vnd.jupyter.widget-view+json": {
       "version_major": 2,
       "version_minor": 0,
       "model_id": "45fe33df402741bba54c9f066df81393"
      }
     },
     "metadata": {},
     "output_type": "display_data"
    },
    {
     "name": "stdout",
     "output_type": "stream",
     "text": [
      "unable to find candidates for iteration 754 429127\n",
      "unable to find candidates for iteration 754 435058\n",
      "unable to find candidates for iteration 754 435139\n",
      "unable to find candidates for iteration 754 435141\n",
      "unable to find candidates for iteration 754 435157\n",
      "unable to find candidates for iteration 754 435186\n",
      "unable to find candidates for iteration 754 441094\n",
      "unable to find candidates for iteration 754 441193\n",
      "unable to find candidates for iteration 754 441283\n",
      "unable to find candidates for iteration 754 441397\n",
      "unable to find candidates for iteration 754 441399\n",
      "unable to find candidates for iteration 754 441403\n",
      "unable to find candidates for iteration 754 441432\n",
      "unable to find candidates for iteration 754 441595\n",
      "unable to find candidates for iteration 754 443573\n",
      "unable to find candidates for iteration 754 443616\n",
      "unable to find candidates for iteration 754 443618\n",
      "unable to find candidates for iteration 754 443622\n",
      "unable to find candidates for iteration 754 443624\n",
      "unable to find candidates for iteration 754 443718\n",
      "unable to find candidates for iteration 754 443740\n",
      "unable to find candidates for iteration 754 443744\n",
      "unable to find candidates for iteration 754 443748\n",
      "unable to find candidates for iteration 754 443827\n",
      "unable to find candidates for iteration 754 443932\n",
      "unable to find candidates for iteration 754 444140\n",
      "unable to find candidates for iteration 754 444144\n",
      "unable to find candidates for iteration 754 444156\n",
      "unable to find candidates for iteration 754 444209\n",
      "unable to find candidates for iteration 754 444230\n",
      "unable to find candidates for iteration 754 444486\n",
      "unable to find candidates for iteration 754 444517\n",
      "unable to find candidates for iteration 754 444519\n",
      "unable to find candidates for iteration 754 448877\n",
      "unable to find candidates for iteration 754 448878\n"
     ]
    },
    {
     "data": {
      "text/plain": [
       "  0%|          | 0/26255 [00:00<?, ?it/s]"
      ],
      "application/vnd.jupyter.widget-view+json": {
       "version_major": 2,
       "version_minor": 0,
       "model_id": "d053df6a312d4489b386c31c7865e9d4"
      }
     },
     "metadata": {},
     "output_type": "display_data"
    },
    {
     "name": "stdout",
     "output_type": "stream",
     "text": [
      "unable to find candidates for iteration 755 429366\n",
      "unable to find candidates for iteration 755 434943\n",
      "unable to find candidates for iteration 755 435062\n",
      "unable to find candidates for iteration 755 435067\n",
      "unable to find candidates for iteration 755 440953\n",
      "unable to find candidates for iteration 755 440958\n",
      "unable to find candidates for iteration 755 441053\n",
      "unable to find candidates for iteration 755 441194\n",
      "unable to find candidates for iteration 755 441305\n",
      "unable to find candidates for iteration 755 441379\n",
      "unable to find candidates for iteration 755 441381\n",
      "unable to find candidates for iteration 755 441430\n",
      "unable to find candidates for iteration 755 441431\n",
      "unable to find candidates for iteration 755 443465\n",
      "unable to find candidates for iteration 755 443518\n",
      "unable to find candidates for iteration 755 443520\n",
      "unable to find candidates for iteration 755 443547\n",
      "unable to find candidates for iteration 755 443549\n",
      "unable to find candidates for iteration 755 443550\n",
      "unable to find candidates for iteration 755 443553\n",
      "unable to find candidates for iteration 755 443554\n",
      "unable to find candidates for iteration 755 443616\n",
      "unable to find candidates for iteration 755 443618\n",
      "unable to find candidates for iteration 755 443622\n",
      "unable to find candidates for iteration 755 443624\n",
      "unable to find candidates for iteration 755 443628\n",
      "unable to find candidates for iteration 755 443630\n",
      "unable to find candidates for iteration 755 443631\n",
      "unable to find candidates for iteration 755 443633\n",
      "unable to find candidates for iteration 755 443634\n",
      "unable to find candidates for iteration 755 443675\n",
      "unable to find candidates for iteration 755 443686\n",
      "unable to find candidates for iteration 755 443698\n",
      "unable to find candidates for iteration 755 443706\n",
      "unable to find candidates for iteration 755 443866\n",
      "unable to find candidates for iteration 755 444533\n",
      "unable to find candidates for iteration 755 444721\n",
      "unable to find candidates for iteration 755 444824\n",
      "unable to find candidates for iteration 755 444827\n"
     ]
    },
    {
     "data": {
      "text/plain": [
       "  0%|          | 0/26384 [00:00<?, ?it/s]"
      ],
      "application/vnd.jupyter.widget-view+json": {
       "version_major": 2,
       "version_minor": 0,
       "model_id": "f79e99d115dd47b2ad1b7889146c242a"
      }
     },
     "metadata": {},
     "output_type": "display_data"
    },
    {
     "name": "stdout",
     "output_type": "stream",
     "text": [
      "unable to find candidates for iteration 756 434949\n",
      "unable to find candidates for iteration 756 435069\n",
      "unable to find candidates for iteration 756 435205\n",
      "unable to find candidates for iteration 756 440941\n",
      "unable to find candidates for iteration 756 440945\n",
      "unable to find candidates for iteration 756 441037\n",
      "unable to find candidates for iteration 756 441194\n",
      "unable to find candidates for iteration 756 441199\n",
      "unable to find candidates for iteration 756 441307\n",
      "unable to find candidates for iteration 756 441310\n",
      "unable to find candidates for iteration 756 441404\n",
      "unable to find candidates for iteration 756 441438\n",
      "unable to find candidates for iteration 756 441678\n",
      "unable to find candidates for iteration 756 441797\n",
      "unable to find candidates for iteration 756 443508\n",
      "unable to find candidates for iteration 756 443545\n",
      "unable to find candidates for iteration 756 443547\n",
      "unable to find candidates for iteration 756 443549\n",
      "unable to find candidates for iteration 756 443550\n",
      "unable to find candidates for iteration 756 443553\n",
      "unable to find candidates for iteration 756 443616\n",
      "unable to find candidates for iteration 756 443618\n",
      "unable to find candidates for iteration 756 443622\n",
      "unable to find candidates for iteration 756 443624\n",
      "unable to find candidates for iteration 756 443625\n",
      "unable to find candidates for iteration 756 443627\n",
      "unable to find candidates for iteration 756 443628\n",
      "unable to find candidates for iteration 756 443631\n",
      "unable to find candidates for iteration 756 443633\n",
      "unable to find candidates for iteration 756 443675\n",
      "unable to find candidates for iteration 756 443681\n",
      "unable to find candidates for iteration 756 443706\n",
      "unable to find candidates for iteration 756 443710\n",
      "unable to find candidates for iteration 756 443866\n",
      "unable to find candidates for iteration 756 444536\n",
      "unable to find candidates for iteration 756 444727\n",
      "unable to find candidates for iteration 756 444831\n",
      "unable to find candidates for iteration 756 444833\n",
      "unable to find candidates for iteration 756 453191\n",
      "unable to find candidates for iteration 756 453290\n",
      "unable to find candidates for iteration 756 453292\n",
      "unable to find candidates for iteration 756 453345\n"
     ]
    },
    {
     "data": {
      "text/plain": [
       "  0%|          | 0/27223 [00:00<?, ?it/s]"
      ],
      "application/vnd.jupyter.widget-view+json": {
       "version_major": 2,
       "version_minor": 0,
       "model_id": "ee70cf52e7dc46e7b9a08817cdaab2d1"
      }
     },
     "metadata": {},
     "output_type": "display_data"
    },
    {
     "name": "stdout",
     "output_type": "stream",
     "text": [
      "unable to find candidates for iteration 757 434949\n",
      "unable to find candidates for iteration 757 435067\n",
      "unable to find candidates for iteration 757 435069\n",
      "unable to find candidates for iteration 757 435200\n",
      "unable to find candidates for iteration 757 440945\n",
      "unable to find candidates for iteration 757 441194\n",
      "unable to find candidates for iteration 757 441307\n",
      "unable to find candidates for iteration 757 441384\n",
      "unable to find candidates for iteration 757 441434\n",
      "unable to find candidates for iteration 757 441438\n",
      "unable to find candidates for iteration 757 441536\n",
      "unable to find candidates for iteration 757 441678\n",
      "unable to find candidates for iteration 757 441797\n",
      "unable to find candidates for iteration 757 443514\n",
      "unable to find candidates for iteration 757 443547\n",
      "unable to find candidates for iteration 757 443549\n",
      "unable to find candidates for iteration 757 443550\n",
      "unable to find candidates for iteration 757 443553\n",
      "unable to find candidates for iteration 757 443616\n",
      "unable to find candidates for iteration 757 443618\n",
      "unable to find candidates for iteration 757 443622\n",
      "unable to find candidates for iteration 757 443624\n",
      "unable to find candidates for iteration 757 443627\n",
      "unable to find candidates for iteration 757 443628\n",
      "unable to find candidates for iteration 757 443631\n",
      "unable to find candidates for iteration 757 443633\n",
      "unable to find candidates for iteration 757 443675\n",
      "unable to find candidates for iteration 757 443681\n",
      "unable to find candidates for iteration 757 443706\n",
      "unable to find candidates for iteration 757 443710\n",
      "unable to find candidates for iteration 757 443866\n",
      "unable to find candidates for iteration 757 444516\n",
      "unable to find candidates for iteration 757 444518\n",
      "unable to find candidates for iteration 757 444727\n",
      "unable to find candidates for iteration 757 444831\n",
      "unable to find candidates for iteration 757 453191\n",
      "unable to find candidates for iteration 757 453194\n",
      "unable to find candidates for iteration 757 453292\n",
      "unable to find candidates for iteration 757 453294\n",
      "unable to find candidates for iteration 757 453345\n"
     ]
    },
    {
     "data": {
      "text/plain": [
       "  0%|          | 0/28202 [00:00<?, ?it/s]"
      ],
      "application/vnd.jupyter.widget-view+json": {
       "version_major": 2,
       "version_minor": 0,
       "model_id": "24079deebd3445b79fda9f212af4699a"
      }
     },
     "metadata": {},
     "output_type": "display_data"
    },
    {
     "name": "stdout",
     "output_type": "stream",
     "text": [
      "unable to find candidates for iteration 758 434944\n",
      "unable to find candidates for iteration 758 435001\n",
      "unable to find candidates for iteration 758 435005\n",
      "unable to find candidates for iteration 758 435075\n",
      "unable to find candidates for iteration 758 435156\n",
      "unable to find candidates for iteration 758 441147\n",
      "unable to find candidates for iteration 758 441153\n",
      "unable to find candidates for iteration 758 441250\n",
      "unable to find candidates for iteration 758 441313\n",
      "unable to find candidates for iteration 758 441395\n",
      "unable to find candidates for iteration 758 441398\n",
      "unable to find candidates for iteration 758 441537\n",
      "unable to find candidates for iteration 758 441569\n",
      "unable to find candidates for iteration 758 441570\n",
      "unable to find candidates for iteration 758 443570\n",
      "unable to find candidates for iteration 758 443616\n",
      "unable to find candidates for iteration 758 443618\n",
      "unable to find candidates for iteration 758 443622\n",
      "unable to find candidates for iteration 758 443624\n",
      "unable to find candidates for iteration 758 443626\n",
      "unable to find candidates for iteration 758 443665\n",
      "unable to find candidates for iteration 758 443667\n",
      "unable to find candidates for iteration 758 443668\n",
      "unable to find candidates for iteration 758 443671\n",
      "unable to find candidates for iteration 758 443764\n",
      "unable to find candidates for iteration 758 443801\n",
      "unable to find candidates for iteration 758 443913\n",
      "unable to find candidates for iteration 758 443915\n",
      "unable to find candidates for iteration 758 443918\n",
      "unable to find candidates for iteration 758 444156\n",
      "unable to find candidates for iteration 758 444208\n",
      "unable to find candidates for iteration 758 444211\n",
      "unable to find candidates for iteration 758 444453\n",
      "unable to find candidates for iteration 758 444454\n",
      "unable to find candidates for iteration 758 453301\n",
      "unable to find candidates for iteration 758 453334\n",
      "unable to find candidates for iteration 758 453412\n",
      "unable to find candidates for iteration 758 453493\n",
      "unable to find candidates for iteration 758 453496\n"
     ]
    },
    {
     "data": {
      "text/plain": [
       "  0%|          | 0/22073 [00:00<?, ?it/s]"
      ],
      "application/vnd.jupyter.widget-view+json": {
       "version_major": 2,
       "version_minor": 0,
       "model_id": "8732013adce24f458c7611e8d7ae157f"
      }
     },
     "metadata": {},
     "output_type": "display_data"
    },
    {
     "name": "stdout",
     "output_type": "stream",
     "text": [
      "unable to find candidates for iteration 759 440945\n",
      "unable to find candidates for iteration 759 440953\n",
      "unable to find candidates for iteration 759 441173\n",
      "unable to find candidates for iteration 759 441178\n",
      "unable to find candidates for iteration 759 441277\n",
      "unable to find candidates for iteration 759 441301\n",
      "unable to find candidates for iteration 759 441304\n",
      "unable to find candidates for iteration 759 441671\n",
      "unable to find candidates for iteration 759 441681\n",
      "unable to find candidates for iteration 759 443554\n",
      "unable to find candidates for iteration 759 443559\n",
      "unable to find candidates for iteration 759 443562\n",
      "unable to find candidates for iteration 759 443576\n",
      "unable to find candidates for iteration 759 443616\n",
      "unable to find candidates for iteration 759 443618\n",
      "unable to find candidates for iteration 759 443622\n",
      "unable to find candidates for iteration 759 443624\n",
      "unable to find candidates for iteration 759 443645\n",
      "unable to find candidates for iteration 759 443663\n",
      "unable to find candidates for iteration 759 443665\n",
      "unable to find candidates for iteration 759 443675\n",
      "unable to find candidates for iteration 759 444515\n",
      "unable to find candidates for iteration 759 448871\n",
      "unable to find candidates for iteration 759 453286\n",
      "unable to find candidates for iteration 759 453289\n",
      "unable to find candidates for iteration 759 453344\n",
      "unable to find candidates for iteration 759 453347\n"
     ]
    },
    {
     "data": {
      "text/plain": [
       "  0%|          | 0/22214 [00:00<?, ?it/s]"
      ],
      "application/vnd.jupyter.widget-view+json": {
       "version_major": 2,
       "version_minor": 0,
       "model_id": "a76f353707564961b0cf6d80f842c5ad"
      }
     },
     "metadata": {},
     "output_type": "display_data"
    },
    {
     "name": "stdout",
     "output_type": "stream",
     "text": [
      "unable to find candidates for iteration 760 441424\n",
      "unable to find candidates for iteration 760 441425\n",
      "unable to find candidates for iteration 760 441443\n",
      "unable to find candidates for iteration 760 441517\n",
      "unable to find candidates for iteration 760 441561\n",
      "unable to find candidates for iteration 760 441620\n",
      "unable to find candidates for iteration 760 443573\n",
      "unable to find candidates for iteration 760 443616\n",
      "unable to find candidates for iteration 760 443618\n",
      "unable to find candidates for iteration 760 443622\n",
      "unable to find candidates for iteration 760 443624\n",
      "unable to find candidates for iteration 760 443680\n",
      "unable to find candidates for iteration 760 443756\n",
      "unable to find candidates for iteration 760 443759\n",
      "unable to find candidates for iteration 760 443795\n",
      "unable to find candidates for iteration 760 444140\n",
      "unable to find candidates for iteration 760 444224\n",
      "unable to find candidates for iteration 760 453189\n",
      "unable to find candidates for iteration 760 453193\n",
      "unable to find candidates for iteration 760 453217\n",
      "unable to find candidates for iteration 760 453343\n"
     ]
    },
    {
     "data": {
      "text/plain": [
       "  0%|          | 0/17226 [00:00<?, ?it/s]"
      ],
      "application/vnd.jupyter.widget-view+json": {
       "version_major": 2,
       "version_minor": 0,
       "model_id": "ef36639139964930b320e2d9fec15d3e"
      }
     },
     "metadata": {},
     "output_type": "display_data"
    },
    {
     "name": "stdout",
     "output_type": "stream",
     "text": [
      "unable to find candidates for iteration 761 453502\n",
      "unable to find candidates for iteration 761 453651\n"
     ]
    },
    {
     "data": {
      "text/plain": [
       "  0%|          | 0/16692 [00:00<?, ?it/s]"
      ],
      "application/vnd.jupyter.widget-view+json": {
       "version_major": 2,
       "version_minor": 0,
       "model_id": "4ad7581c9b63467185ddd1e9bca8bee9"
      }
     },
     "metadata": {},
     "output_type": "display_data"
    },
    {
     "name": "stdout",
     "output_type": "stream",
     "text": [
      "unable to find candidates for iteration 762 453317\n",
      "unable to find candidates for iteration 762 453318\n",
      "unable to find candidates for iteration 762 453320\n",
      "unable to find candidates for iteration 762 453345\n"
     ]
    },
    {
     "data": {
      "text/plain": [
       "  0%|          | 0/16619 [00:00<?, ?it/s]"
      ],
      "application/vnd.jupyter.widget-view+json": {
       "version_major": 2,
       "version_minor": 0,
       "model_id": "a77bca7ca9814d10b6e03f0e55bb6846"
      }
     },
     "metadata": {},
     "output_type": "display_data"
    },
    {
     "name": "stdout",
     "output_type": "stream",
     "text": [
      "unable to find candidates for iteration 763 453159\n",
      "unable to find candidates for iteration 763 453163\n",
      "unable to find candidates for iteration 763 453232\n",
      "unable to find candidates for iteration 763 455090\n",
      "unable to find candidates for iteration 763 455097\n",
      "unable to find candidates for iteration 763 455101\n"
     ]
    },
    {
     "data": {
      "text/plain": [
       "  0%|          | 0/16575 [00:00<?, ?it/s]"
      ],
      "application/vnd.jupyter.widget-view+json": {
       "version_major": 2,
       "version_minor": 0,
       "model_id": "48bf7a90ea20407b9ff91cf8cce87b7d"
      }
     },
     "metadata": {},
     "output_type": "display_data"
    },
    {
     "name": "stdout",
     "output_type": "stream",
     "text": [
      "unable to find candidates for iteration 764 450881\n",
      "unable to find candidates for iteration 764 450967\n",
      "unable to find candidates for iteration 764 453157\n",
      "unable to find candidates for iteration 764 453159\n",
      "unable to find candidates for iteration 764 453229\n",
      "unable to find candidates for iteration 764 453232\n",
      "unable to find candidates for iteration 764 454900\n",
      "unable to find candidates for iteration 764 454968\n",
      "unable to find candidates for iteration 764 455090\n",
      "unable to find candidates for iteration 764 455097\n",
      "unable to find candidates for iteration 764 462065\n"
     ]
    },
    {
     "data": {
      "text/plain": [
       "  0%|          | 0/16376 [00:00<?, ?it/s]"
      ],
      "application/vnd.jupyter.widget-view+json": {
       "version_major": 2,
       "version_minor": 0,
       "model_id": "e6903b2e0cf74085ab3641f5180daf10"
      }
     },
     "metadata": {},
     "output_type": "display_data"
    },
    {
     "name": "stdout",
     "output_type": "stream",
     "text": [
      "unable to find candidates for iteration 765 448879\n",
      "unable to find candidates for iteration 765 450838\n",
      "unable to find candidates for iteration 765 450906\n",
      "unable to find candidates for iteration 765 453204\n",
      "unable to find candidates for iteration 765 453217\n",
      "unable to find candidates for iteration 765 453334\n",
      "unable to find candidates for iteration 765 453343\n",
      "unable to find candidates for iteration 765 454912\n",
      "unable to find candidates for iteration 765 455049\n",
      "unable to find candidates for iteration 765 455103\n"
     ]
    },
    {
     "data": {
      "text/plain": [
       "  0%|          | 0/16281 [00:00<?, ?it/s]"
      ],
      "application/vnd.jupyter.widget-view+json": {
       "version_major": 2,
       "version_minor": 0,
       "model_id": "8b6f8d4e12c74f5d8d163a261ab2a68b"
      }
     },
     "metadata": {},
     "output_type": "display_data"
    },
    {
     "name": "stdout",
     "output_type": "stream",
     "text": [
      "unable to find candidates for iteration 766 450853\n",
      "unable to find candidates for iteration 766 450894\n",
      "unable to find candidates for iteration 766 453257\n",
      "unable to find candidates for iteration 766 453327\n",
      "unable to find candidates for iteration 766 453330\n",
      "unable to find candidates for iteration 766 453345\n",
      "unable to find candidates for iteration 766 454883\n",
      "unable to find candidates for iteration 766 455192\n",
      "unable to find candidates for iteration 766 455266\n"
     ]
    },
    {
     "data": {
      "text/plain": [
       "  0%|          | 0/15199 [00:00<?, ?it/s]"
      ],
      "application/vnd.jupyter.widget-view+json": {
       "version_major": 2,
       "version_minor": 0,
       "model_id": "6b1d1a17861e4378b1569def7ca0ed33"
      }
     },
     "metadata": {},
     "output_type": "display_data"
    },
    {
     "name": "stdout",
     "output_type": "stream",
     "text": [
      "unable to find candidates for iteration 767 453082\n",
      "unable to find candidates for iteration 767 453229\n",
      "unable to find candidates for iteration 767 453297\n",
      "unable to find candidates for iteration 767 453345\n",
      "unable to find candidates for iteration 767 455199\n",
      "unable to find candidates for iteration 767 455266\n",
      "unable to find candidates for iteration 767 455313\n",
      "unable to find candidates for iteration 767 455416\n",
      "unable to find candidates for iteration 767 462047\n",
      "unable to find candidates for iteration 767 462258\n"
     ]
    },
    {
     "data": {
      "text/plain": [
       "  0%|          | 0/15100 [00:00<?, ?it/s]"
      ],
      "application/vnd.jupyter.widget-view+json": {
       "version_major": 2,
       "version_minor": 0,
       "model_id": "6e2502d7066d42daad6e77d3fca1c7ce"
      }
     },
     "metadata": {},
     "output_type": "display_data"
    },
    {
     "name": "stdout",
     "output_type": "stream",
     "text": [
      "unable to find candidates for iteration 768 453217\n",
      "unable to find candidates for iteration 768 453221\n",
      "unable to find candidates for iteration 768 453294\n",
      "unable to find candidates for iteration 768 453297\n",
      "unable to find candidates for iteration 768 453345\n",
      "unable to find candidates for iteration 768 455199\n",
      "unable to find candidates for iteration 768 455243\n",
      "unable to find candidates for iteration 768 462047\n"
     ]
    },
    {
     "data": {
      "text/plain": [
       "  0%|          | 0/14838 [00:00<?, ?it/s]"
      ],
      "application/vnd.jupyter.widget-view+json": {
       "version_major": 2,
       "version_minor": 0,
       "model_id": "cf5011122b934a348a18517245dd50ca"
      }
     },
     "metadata": {},
     "output_type": "display_data"
    },
    {
     "name": "stdout",
     "output_type": "stream",
     "text": [
      "unable to find candidates for iteration 769 448880\n",
      "unable to find candidates for iteration 769 450892\n",
      "unable to find candidates for iteration 769 453170\n",
      "unable to find candidates for iteration 769 453249\n",
      "unable to find candidates for iteration 769 454988\n",
      "unable to find candidates for iteration 769 460331\n",
      "unable to find candidates for iteration 769 461654\n"
     ]
    },
    {
     "data": {
      "text/plain": [
       "  0%|          | 0/14585 [00:00<?, ?it/s]"
      ],
      "application/vnd.jupyter.widget-view+json": {
       "version_major": 2,
       "version_minor": 0,
       "model_id": "5c9b7516a4ea4ae9a982bc87730883ec"
      }
     },
     "metadata": {},
     "output_type": "display_data"
    },
    {
     "name": "stdout",
     "output_type": "stream",
     "text": [
      "unable to find candidates for iteration 770 450853\n",
      "unable to find candidates for iteration 770 453257\n",
      "unable to find candidates for iteration 770 453324\n",
      "unable to find candidates for iteration 770 453327\n",
      "unable to find candidates for iteration 770 453345\n",
      "unable to find candidates for iteration 770 462039\n"
     ]
    },
    {
     "data": {
      "text/plain": [
       "  0%|          | 0/14457 [00:00<?, ?it/s]"
      ],
      "application/vnd.jupyter.widget-view+json": {
       "version_major": 2,
       "version_minor": 0,
       "model_id": "12ab32b6ea024c889924f7b6e2a57215"
      }
     },
     "metadata": {},
     "output_type": "display_data"
    },
    {
     "name": "stdout",
     "output_type": "stream",
     "text": [
      "unable to find candidates for iteration 771 450774\n",
      "unable to find candidates for iteration 771 450853\n",
      "unable to find candidates for iteration 771 453322\n",
      "unable to find candidates for iteration 771 453324\n",
      "unable to find candidates for iteration 771 453345\n",
      "unable to find candidates for iteration 771 462039\n"
     ]
    },
    {
     "data": {
      "text/plain": [
       "  0%|          | 0/13342 [00:00<?, ?it/s]"
      ],
      "application/vnd.jupyter.widget-view+json": {
       "version_major": 2,
       "version_minor": 0,
       "model_id": "2adee2d8ff8847438332da7bf200be1f"
      }
     },
     "metadata": {},
     "output_type": "display_data"
    },
    {
     "name": "stdout",
     "output_type": "stream",
     "text": [
      "unable to find candidates for iteration 772 450822\n",
      "unable to find candidates for iteration 772 453198\n",
      "unable to find candidates for iteration 772 453210\n",
      "unable to find candidates for iteration 772 453337\n",
      "unable to find candidates for iteration 772 455063\n",
      "unable to find candidates for iteration 772 455074\n",
      "unable to find candidates for iteration 772 455078\n",
      "unable to find candidates for iteration 772 455082\n",
      "unable to find candidates for iteration 772 455119\n",
      "unable to find candidates for iteration 772 455121\n",
      "unable to find candidates for iteration 772 461658\n",
      "unable to find candidates for iteration 772 462077\n"
     ]
    },
    {
     "data": {
      "text/plain": [
       "  0%|          | 0/12985 [00:00<?, ?it/s]"
      ],
      "application/vnd.jupyter.widget-view+json": {
       "version_major": 2,
       "version_minor": 0,
       "model_id": "a789a38e671d4653af98655e2bcac55c"
      }
     },
     "metadata": {},
     "output_type": "display_data"
    },
    {
     "name": "stdout",
     "output_type": "stream",
     "text": [
      "unable to find candidates for iteration 773 450838\n",
      "unable to find candidates for iteration 773 450903\n",
      "unable to find candidates for iteration 773 453204\n",
      "unable to find candidates for iteration 773 453210\n",
      "unable to find candidates for iteration 773 453343\n",
      "unable to find candidates for iteration 773 454930\n",
      "unable to find candidates for iteration 773 454934\n",
      "unable to find candidates for iteration 773 455059\n",
      "unable to find candidates for iteration 773 455070\n",
      "unable to find candidates for iteration 773 455074\n",
      "unable to find candidates for iteration 773 455119\n",
      "unable to find candidates for iteration 773 455121\n",
      "unable to find candidates for iteration 773 461656\n",
      "unable to find candidates for iteration 773 462077\n"
     ]
    },
    {
     "data": {
      "text/plain": [
       "  0%|          | 0/12049 [00:00<?, ?it/s]"
      ],
      "application/vnd.jupyter.widget-view+json": {
       "version_major": 2,
       "version_minor": 0,
       "model_id": "d8098e00e11e4bf1b94d76d27dbfdf35"
      }
     },
     "metadata": {},
     "output_type": "display_data"
    },
    {
     "name": "stdout",
     "output_type": "stream",
     "text": [
      "unable to find candidates for iteration 774 450824\n",
      "unable to find candidates for iteration 774 450898\n",
      "unable to find candidates for iteration 774 450923\n",
      "unable to find candidates for iteration 774 453203\n",
      "unable to find candidates for iteration 774 453254\n",
      "unable to find candidates for iteration 774 453332\n",
      "unable to find candidates for iteration 774 454914\n",
      "unable to find candidates for iteration 774 454918\n",
      "unable to find candidates for iteration 774 454934\n",
      "unable to find candidates for iteration 774 454939\n",
      "unable to find candidates for iteration 774 455086\n",
      "unable to find candidates for iteration 774 455088\n",
      "unable to find candidates for iteration 774 455119\n",
      "unable to find candidates for iteration 774 455121\n"
     ]
    },
    {
     "data": {
      "text/plain": [
       "  0%|          | 0/12046 [00:00<?, ?it/s]"
      ],
      "application/vnd.jupyter.widget-view+json": {
       "version_major": 2,
       "version_minor": 0,
       "model_id": "ee98847e0f61433cbac385c61dc0c7f4"
      }
     },
     "metadata": {},
     "output_type": "display_data"
    },
    {
     "name": "stdout",
     "output_type": "stream",
     "text": [
      "unable to find candidates for iteration 775 450897\n",
      "unable to find candidates for iteration 775 450898\n",
      "unable to find candidates for iteration 775 450923\n",
      "unable to find candidates for iteration 775 453203\n",
      "unable to find candidates for iteration 775 453254\n",
      "unable to find candidates for iteration 775 453332\n",
      "unable to find candidates for iteration 775 454914\n",
      "unable to find candidates for iteration 775 454918\n",
      "unable to find candidates for iteration 775 454934\n",
      "unable to find candidates for iteration 775 454939\n",
      "unable to find candidates for iteration 775 455086\n",
      "unable to find candidates for iteration 775 455088\n",
      "unable to find candidates for iteration 775 455119\n"
     ]
    }
   ],
   "execution_count": 12
  },
  {
   "metadata": {
    "ExecuteTime": {
     "end_time": "2024-10-12T18:15:06.406872Z",
     "start_time": "2024-10-12T18:15:06.403672Z"
    }
   },
   "cell_type": "code",
   "source": "",
   "id": "6dabf71af2db20ed",
   "outputs": [],
   "execution_count": null
  },
  {
   "metadata": {
    "ExecuteTime": {
     "end_time": "2024-10-12T18:15:06.574358Z",
     "start_time": "2024-10-12T18:15:06.570386Z"
    }
   },
   "cell_type": "code",
   "source": "",
   "id": "8713941107f0f429",
   "outputs": [],
   "execution_count": null
  },
  {
   "metadata": {
    "ExecuteTime": {
     "end_time": "2024-10-12T18:15:06.746430Z",
     "start_time": "2024-10-12T18:15:06.743551Z"
    }
   },
   "cell_type": "code",
   "source": "",
   "id": "90ef184951bba534",
   "outputs": [],
   "execution_count": null
  }
 ],
 "metadata": {
  "kernelspec": {
   "display_name": "Python 3",
   "language": "python",
   "name": "python3"
  },
  "language_info": {
   "codemirror_mode": {
    "name": "ipython",
    "version": 2
   },
   "file_extension": ".py",
   "mimetype": "text/x-python",
   "name": "python",
   "nbconvert_exporter": "python",
   "pygments_lexer": "ipython2",
   "version": "2.7.6"
  }
 },
 "nbformat": 4,
 "nbformat_minor": 5
}
