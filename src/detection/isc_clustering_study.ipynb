{
 "cells": [
  {
   "cell_type": "code",
   "execution_count": null,
   "id": "initial_id",
   "metadata": {
    "collapsed": true
   },
   "outputs": [],
   "source": [
    "import copy\n",
    "import pickle\n",
    "from pathlib import Path\n",
    "\n",
    "import glob2\n",
    "import datetime\n",
    "\n",
    "import numpy as np\n",
    "from scipy.signal import find_peaks\n",
    "from tqdm.notebook import tqdm\n",
    "import tensorflow as tf\n",
    "from skimage.transform import resize\n",
    "from matplotlib import pyplot as plt\n",
    "\n",
    "from detection.clustering import get_valid, get_clusters, get_delta\n",
    "from utils.data_reading.catalogs.ISC import ISC_file\n",
    "from utils.data_reading.sound_data.sound_file_manager import NpyFilesManager\n",
    "from utils.data_reading.sound_data.station import StationsCatalog\n",
    "from utils.physics.bathymetry.bathymetry_grid import BathymetryGrid\n",
    "from utils.physics.sound.sound_model import HomogeneousSoundModel\n",
    "from utils.physics.sound.sound_velocity_grid import MonthlySoundVelocityGridOptimized\n",
    "from utils.transformations.features_extractor import STFTFeaturesExtractor"
   ]
  },
  {
   "metadata": {},
   "cell_type": "code",
   "outputs": [],
   "execution_count": null,
   "source": [
    "year = 2018\n",
    "isc_file = f\"/home/plerolland/Bureau/catalogs/ISC/eqk_isc_{year}.txt\"\n",
    "bathy_model = BathymetryGrid.create_from_NetCDF(\"../../data/geo/GEBCO_2023_sub_ice_topo.nc\", lat_bounds=[-75, 35], lon_bounds=[-20, 180])\n",
    "\n",
    "isc = ISC_file(isc_file)\n",
    "\n",
    "to_del = set()\n",
    "for ID, event in isc.items.items():\n",
    "    if bathy_model.get_nearest_values(event.get_pos()) > 0:\n",
    "        to_del.add(ID)\n",
    "    lat, lon = tuple(isc[ID].get_pos())\n",
    "    if (lat>-5 and lon > 115) or (lat>-30 and lon > 130) or (lat>-45 and lon > 170) or (lat>-20 and lon > 85):\n",
    "        to_del.add(ID)\n",
    "for ID in to_del:\n",
    "    del isc.items[ID]\n",
    "print(f\"{len(to_del)} terrestrial events removed from catalog ({len(isc.items)} remain)\")\n",
    "\n",
    "IDs = list(isc.items.keys())"
   ],
   "id": "bf164e4300269f2f"
  },
  {
   "metadata": {},
   "cell_type": "code",
   "outputs": [],
   "execution_count": null,
   "source": [
    "max_allowed_delta = 50\n",
    "\n",
    "delta = get_delta(isc, max_allowed_delta)"
   ],
   "id": "d4aa757b92ca92c2"
  },
  {
   "metadata": {},
   "cell_type": "code",
   "outputs": [],
   "execution_count": null,
   "source": [
    "# expected run time of 30 min for above conditions\n",
    "allowed_deltas_to_try = list(range(1, max_allowed_delta))\n",
    "valid = {a_d: {ID: {} for ID in IDs} for a_d in allowed_deltas_to_try}\n",
    "for allowed_delta in tqdm(allowed_deltas_to_try):\n",
    "    valid = get_valid(allowed_delta, delta, IDs)"
   ],
   "id": "35f14b95698c0b01"
  },
  {
   "metadata": {},
   "cell_type": "code",
   "outputs": [],
   "execution_count": null,
   "source": [
    "clusters = {}\n",
    "for allowed_delta in tqdm(allowed_deltas_to_try):\n",
    "    clusters[allowed_delta] = get_clusters(IDs, valid[allowed_delta])"
   ],
   "id": "35d46b7361131508"
  },
  {
   "metadata": {},
   "cell_type": "code",
   "outputs": [],
   "execution_count": null,
   "source": [
    "med_nb, med_delta, med_delta_km, med_delta_d, max_nb, max_delta, max_delta_km, max_delta_d = {}, {}, {}, {}, {}, {}, {}, {}\n",
    "\n",
    "for a_d, current_clusters in tqdm(clusters.items()):\n",
    "    nb = []\n",
    "    \n",
    "    d, d_km, d_d = [], [], []\n",
    "    for cluster in tqdm(current_clusters.values(), leave=False):\n",
    "        nb.append(len(cluster))\n",
    "        d_, d_km_, d_d_ = [], [], []\n",
    "        if len(cluster) > 1:\n",
    "            for ID in cluster:\n",
    "                for ID_ in cluster:\n",
    "                    if ID_ not in delta[ID]:  # they were too distant away (in time) to have a delta\n",
    "                        pos1, pos2, date1, date2 = isc[ID].get_pos(), isc[ID_].get_pos(), isc[ID].date, isc[ID_].date\n",
    "                        delta_km[ID][ID_] = np.sqrt((pos1[0]-pos2[0])**2+(pos1[1]-pos2[1])**2)*111\n",
    "                        delta_km[ID_][ID] = delta_km[ID][ID_]\n",
    "                        delta_d[ID][ID_] = np.abs(date1-date2).total_seconds() / 86400\n",
    "                        delta_d[ID_][ID] = delta_d[ID][ID_]\n",
    "                        delta[ID][ID_] = np.sqrt(delta_km[ID][ID_] ** 2 + delta_d[ID][ID_] ** 2)\n",
    "                        delta[ID_][ID] = delta[ID][ID_]\n",
    "                    d_.append(delta[ID][ID_])\n",
    "                    d_km_.append(delta_km[ID][ID_])\n",
    "                    d_d_.append(delta_d[ID][ID_])\n",
    "            d.append(np.max(d_))\n",
    "            d_km.append(np.max(d_km_))\n",
    "            d_d.append(np.max(d_d_))\n",
    "    med_nb[a_d] = np.median(nb)\n",
    "    med_delta[a_d] = np.median(d)\n",
    "    med_delta_km[a_d] = np.median(d_km)\n",
    "    med_delta_d[a_d] = np.median(d_d)\n",
    "    max_nb[a_d] = np.max(nb)\n",
    "    max_delta[a_d] = np.max(d)\n",
    "    max_delta_km[a_d] = np.max(d_km)\n",
    "    max_delta_d[a_d] = np.max(d_d)"
   ],
   "id": "c754b12a97bcd726"
  },
  {
   "metadata": {},
   "cell_type": "code",
   "outputs": [],
   "execution_count": null,
   "source": [
    "plt.scatter(list(med_nb.keys()), list(med_nb.values()), label=\"med nb of events per cluster\")\n",
    "plt.scatter(list(max_nb.keys()), list(max_nb.values()), label=\"max nb of events per cluster\")\n",
    "plt.legend()\n",
    "plt.xlabel(\"max allowed delta\")\n",
    "plt.ylabel(\"nb of events per cluster\")"
   ],
   "id": "2316a408bb002460"
  },
  {
   "metadata": {},
   "cell_type": "code",
   "outputs": [],
   "execution_count": null,
   "source": [
    "plt.scatter(list(med_delta.keys()), list(med_delta.values()), label=\"med delta\")\n",
    "plt.scatter(list(med_delta_km.keys()), list(med_delta_km.values()), label=\"med delta km\")\n",
    "plt.scatter(list(med_delta_d.keys()), list(med_delta_d.values()), label=\"med delta d\")\n",
    "plt.legend()\n",
    "plt.xlabel(\"max allowed delta\")\n",
    "plt.ylabel(\"km or days\")"
   ],
   "id": "b0148083f0edbb4a"
  },
  {
   "metadata": {},
   "cell_type": "code",
   "outputs": [],
   "execution_count": null,
   "source": [
    "plt.scatter(list(max_delta.keys()), list(max_delta.values()), label=\"max delta\")\n",
    "plt.scatter(list(max_delta_km.keys()), list(max_delta_km.values()), label=\"max delta km\")\n",
    "plt.scatter(list(max_delta_d.keys()), list(max_delta_d.values()), label=\"max delta d\")\n",
    "plt.legend()\n",
    "plt.xlabel(\"max allowed delta\")\n",
    "plt.ylabel(\"km or days\")"
   ],
   "id": "724bb6d3c10e5561"
  }
 ],
 "metadata": {
  "kernelspec": {
   "display_name": "Python 3",
   "language": "python",
   "name": "python3"
  },
  "language_info": {
   "codemirror_mode": {
    "name": "ipython",
    "version": 2
   },
   "file_extension": ".py",
   "mimetype": "text/x-python",
   "name": "python",
   "nbconvert_exporter": "python",
   "pygments_lexer": "ipython2",
   "version": "2.7.6"
  }
 },
 "nbformat": 4,
 "nbformat_minor": 5
}
