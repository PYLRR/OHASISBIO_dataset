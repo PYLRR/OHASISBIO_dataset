{
 "cells": [
  {
   "cell_type": "code",
   "id": "initial_id",
   "metadata": {
    "collapsed": true,
    "ExecuteTime": {
     "end_time": "2024-10-07T14:46:05.397708Z",
     "start_time": "2024-10-07T14:46:03.224516Z"
    }
   },
   "source": [
    "import datetime\n",
    "from pathlib import Path\n",
    "import numpy as np\n",
    "from matplotlib import pyplot as plt\n",
    "\n",
    "from tqdm.notebook import tqdm\n",
    "from scipy.stats import chi2, t as student\n",
    "\n",
    "from utils.data_reading.catalogs.ISC import ISC_file\n",
    "from utils.data_reading.catalogs.association import Association\n",
    "from utils.data_reading.catalogs.events import AcousticReception\n",
    "from utils.data_reading.sound_data.station import StationsCatalog\n",
    "from utils.physics.sound.sound_model import HomogeneousSoundModel\n",
    "from utils.physics.sound.sound_velocity_grid import MonthlySoundVelocityGridOptimized"
   ],
   "outputs": [
    {
     "name": "stderr",
     "output_type": "stream",
     "text": [
      "/home/plerolland/.local/lib/python3.10/site-packages/matplotlib/projections/__init__.py:63: UserWarning: Unable to import Axes3D. This may be due to multiple versions of Matplotlib being installed (e.g. as a system package and as a pip package). As a result, the 3D projection is not available.\n",
      "  warnings.warn(\"Unable to import Axes3D. This may be due to multiple versions of \"\n"
     ]
    }
   ],
   "execution_count": 1
  },
  {
   "metadata": {
    "ExecuteTime": {
     "end_time": "2024-09-26T13:33:15.891094Z",
     "start_time": "2024-09-26T13:33:14.712056Z"
    }
   },
   "cell_type": "code",
   "source": [
    "year = 2018\n",
    "RES_FILE = f\"../../data/detections/{year}/matchups_clusters_loc.csv\"\n",
    "\n",
    "sound_model_h = HomogeneousSoundModel()\n",
    "sound_model_g = MonthlySoundVelocityGridOptimized(\n",
    "    [f\"../../data/sound_model/min-velocities_month-{i:02d}.nc\" for i in range(1, 13)], interpolate=True)\n",
    "datasets_yaml = \"/home/plerolland/Bureau/dataset.yaml\"\n",
    "stations_c = StationsCatalog(datasets_yaml).filter_out_undated().filter_out_unlocated()\n",
    "\n",
    "isc_file = f\"/home/plerolland/Bureau/catalogs/ISC/eqk_isc_{year}.txt\"\n",
    "isc = ISC_file(isc_file)"
   ],
   "id": "457d822bce7ab24e",
   "outputs": [],
   "execution_count": 13
  },
  {
   "metadata": {
    "ExecuteTime": {
     "end_time": "2024-09-26T13:34:09.978574Z",
     "start_time": "2024-09-26T13:34:07.569646Z"
    }
   },
   "cell_type": "code",
   "source": [
    "with open(RES_FILE, \"r\") as f:\n",
    "    lines = f.readlines()\n",
    "\n",
    "associations, computed_dates, computed_locs, uncertainties, ref_iscs = [], [], [], [], []\n",
    "\n",
    "for line in tqdm(lines):\n",
    "    line = line.split(\",\")\n",
    "    \n",
    "    associations.append(Association())\n",
    "    computed_dates.append(datetime.datetime.strptime(line[0], \"%Y%m%d_%H%M%S\"))\n",
    "    computed_locs.append((float(line[1]), float(line[2])))\n",
    "    uncertainties.append((float(line[3]), float(line[4]), float(line[5])))\n",
    "    ref_iscs.append(isc[int(line[6])])\n",
    "    \n",
    "    stations, dates = line[7::2], line[8::2]\n",
    "    for station, date in zip(stations, dates):\n",
    "        # date is supposed to be the last element of the line, so it can contain \"\\n\" or be empty if the file was opened and saved with excel\n",
    "        if len(date.strip()) == 0:\n",
    "            continue\n",
    "        date = datetime.datetime.strptime(date.strip(), \"%Y%m%d_%H%M%S\")  \n",
    "        station = stations_c.by_starting_year(int(station.split(\"-\")[-1])).by_names(\"-\".join(station.split(\"-\")[:-1]))[0]\n",
    "        associations[-1].add_event(AcousticReception(station, date))\n",
    "        \n",
    "associations, computed_dates, computed_locs, uncertainties, ref_iscs = np.array(associations), np.array(computed_dates), np.array(computed_locs), np.array(uncertainties), np.array(ref_iscs), "
   ],
   "id": "f58218f5557ff84c",
   "outputs": [
    {
     "data": {
      "text/plain": [
       "  0%|          | 0/5718 [00:00<?, ?it/s]"
      ],
      "application/vnd.jupyter.widget-view+json": {
       "version_major": 2,
       "version_minor": 0,
       "model_id": "a7acee839e6b422caed0392739731f70"
      }
     },
     "metadata": {},
     "output_type": "display_data"
    }
   ],
   "execution_count": 14
  },
  {
   "metadata": {
    "ExecuteTime": {
     "end_time": "2024-09-26T13:50:58.490734Z",
     "start_time": "2024-09-26T13:50:58.356583Z"
    }
   },
   "cell_type": "code",
   "source": [
    "ref_locs = np.array([ref.get_pos() for ref in ref_iscs])\n",
    "\n",
    "diff = []\n",
    "for i in range(len(ref_locs)):\n",
    "    c_lat, c_lon, lat_r, lon_r = computed_locs[i,0], computed_locs[i,1], ref_locs[i,0], ref_locs[i,1]\n",
    "    if np.abs(ref_locs[i,1]-computed_locs[i,1])>180:\n",
    "        lon_r, c_lon = (lon_r+360, c_lon) if lon_r<0 else (lon_r, c_lon+360)\n",
    "    diff.append(np.sqrt((c_lat-lat_r)**2+(c_lon-lon_r)**2))\n",
    "diff = np.array(diff)"
   ],
   "id": "c38cee877cdd5f3f",
   "outputs": [],
   "execution_count": 29
  },
  {
   "metadata": {
    "ExecuteTime": {
     "end_time": "2024-09-26T15:16:16.542239Z",
     "start_time": "2024-09-26T15:16:15.611697Z"
    }
   },
   "cell_type": "code",
   "source": [
    "print(f\"{np.count_nonzero(diff > 1)}/{len(diff)}\")\n",
    "worst = np.argsort(diff)[-4]\n",
    "print(computed_locs[worst], ref_locs[worst], diff[worst])\n",
    "loc_h = associations[worst].compute_source(sound_model_h)\n",
    "\n",
    "\n",
    "alpha = 0.05\n",
    "\n",
    "# EQM = mean quadratic error AKA sigma0 comp\n",
    "\n",
    "J = loc_h.jac\n",
    "param_cov = np.linalg.inv(J.T.dot(J))\n",
    "print(param_cov)\n",
    "res_cov = np.ones((len(loc_h.fun), len(loc_h.fun)))/len(loc_h.fun) - J.dot(param_cov.dot(J.T))\n",
    "EQM = np.sqrt(loc_h.cost)\n",
    "\n",
    "testResiduals = loc_h.fun\n",
    "for i in range(testResiduals.shape[0]):\n",
    "    testResiduals[i] = testResiduals[i]/np.sqrt(EQM * np.abs(res_cov[i,i]))\n",
    "\n",
    "df = len(loc_h.fun) - len(loc_h.x)\n",
    "stud = 2*student.ppf(1-alpha/2, df) # 2* because we test on the entire law student interval of confidence\n",
    "print(testResiduals, stud)"
   ],
   "id": "ba17072e3a0d881f",
   "outputs": [
    {
     "name": "stdout",
     "output_type": "stream",
     "text": [
      "3628/5718\n",
      "[  65.106  -124.4615] [22.8723 61.3477] 179.23760827552346\n",
      "[[ 4.23010058e+04  2.69435585e+02 -8.05820243e+03]\n",
      " [ 2.69435585e+02  1.72203130e+00 -5.12787820e+01]\n",
      " [-8.05820243e+03 -5.12787820e+01  1.53546252e+03]]\n",
      "[0.1321973  0.1321973  1.51355344 9.5425409  2.86611378] 8.60530545982255\n"
     ]
    }
   ],
   "execution_count": 77
  },
  {
   "metadata": {
    "ExecuteTime": {
     "end_time": "2024-09-26T15:14:54.255821Z",
     "start_time": "2024-09-26T15:14:54.124739Z"
    }
   },
   "cell_type": "code",
   "source": [
    "association2 = Association(np.array(associations[worst].events)[[0,2,4]])\n",
    "print(association2.compute_source(sound_model_h))"
   ],
   "id": "c440d6a89e80f5a5",
   "outputs": [
    {
     "name": "stdout",
     "output_type": "stream",
     "text": [
      "     message: `xtol` termination condition is satisfied.\n",
      "     success: True\n",
      "      status: 3\n",
      "         fun: [ 1.244e-05  6.460e-06  1.386e-05]\n",
      "           x: [-1.232e+03 -7.985e+00  5.992e+01]\n",
      "        cost: 1.943196145925608e-10\n",
      "         jac: [[ 3.549e-01  7.358e+01 -1.301e+01]\n",
      "               [-2.966e-01  3.593e+01  1.745e+01]\n",
      "               [-1.000e+00 -7.467e+01  2.947e+00]]\n",
      "        grad: [-1.136e-05  1.126e-04 -8.280e-06]\n",
      "  optimality: 0.014001266115577492\n",
      " active_mask: [0 0 0]\n",
      "        nfev: 20\n",
      "        njev: 18\n"
     ]
    }
   ],
   "execution_count": 74
  },
  {
   "metadata": {
    "ExecuteTime": {
     "end_time": "2024-09-26T15:10:37.579330Z",
     "start_time": "2024-09-26T15:10:31.278373Z"
    }
   },
   "cell_type": "code",
   "source": [
    "for worst in np.argsort(diff)[::-1][:10]:\n",
    "    association2 = Association(np.array(associations[worst].events)[[0,2,3,4]])\n",
    "    loc_h = association2.compute_source(sound_model_h)\n",
    "    print(loc_h.x, loc_h.fun)"
   ],
   "id": "aff3cf0f24c2068b",
   "outputs": [
    {
     "name": "stdout",
     "output_type": "stream",
     "text": [
      "[-8594.35085908    88.99706749   180.        ] [0.07680674 6.66921627 8.10463224 1.51222271]\n",
      "[-8613.68206066    88.483242     180.        ] [ 4.63141767 13.32208765  2.8304072  11.52107718]\n",
      "[-8676.38140438    86.86454252   180.        ] [0.46634388 2.18720906 1.77803641 4.43158936]\n",
      "[-8683.91316853    86.49186342   180.        ] [ 0.20009626  4.73861245 13.89027951  8.95157081]\n",
      "[-6390.51703483    55.48449655    39.31221794] [ 4.32620396  4.04937218 10.5582061  10.28137422]\n",
      "[-9252.05522574    75.03023615   -67.33560666] [11.17382349  1.42357555 12.26703431  0.33036521]\n",
      "[-8656.72185723    87.46326587   180.        ] [3.49996871 0.23409976 0.72570035 4.45976883]\n",
      "[-10010.36555094     70.75843032   -120.09936205] [5.74205583 3.85991721 3.631399   5.51354219]\n",
      "[-309.02606382  -20.49142765   64.88008433] [19.9233995   2.79150076 20.88324627  1.83165499]\n",
      "[-8671.41818902    86.55423619   180.        ] [ 0.59376128 10.66428298 11.46830964  0.21026538]\n"
     ]
    }
   ],
   "execution_count": 67
  },
  {
   "metadata": {
    "ExecuteTime": {
     "end_time": "2024-09-26T15:54:00.057792Z",
     "start_time": "2024-09-26T15:54:00.021877Z"
    }
   },
   "cell_type": "code",
   "source": "",
   "id": "2b71dcb3445bb17c",
   "outputs": [
    {
     "ename": "NameError",
     "evalue": "name 'glob' is not defined",
     "output_type": "error",
     "traceback": [
      "\u001B[0;31m---------------------------------------------------------------------------\u001B[0m",
      "\u001B[0;31mNameError\u001B[0m                                 Traceback (most recent call last)",
      "Cell \u001B[0;32mIn[78], line 1\u001B[0m\n\u001B[0;32m----> 1\u001B[0m \u001B[38;5;28mprint\u001B[39m(\u001B[43mglob\u001B[49m\u001B[38;5;241m.\u001B[39mglob(\u001B[38;5;124m\"\u001B[39m\u001B[38;5;124m*\u001B[39m\u001B[38;5;124m\"\u001B[39m))\n",
      "\u001B[0;31mNameError\u001B[0m: name 'glob' is not defined"
     ]
    }
   ],
   "execution_count": 78
  }
 ],
 "metadata": {
  "kernelspec": {
   "display_name": "Python 3",
   "language": "python",
   "name": "python3"
  },
  "language_info": {
   "codemirror_mode": {
    "name": "ipython",
    "version": 2
   },
   "file_extension": ".py",
   "mimetype": "text/x-python",
   "name": "python",
   "nbconvert_exporter": "python",
   "pygments_lexer": "ipython2",
   "version": "2.7.6"
  }
 },
 "nbformat": 4,
 "nbformat_minor": 5
}
