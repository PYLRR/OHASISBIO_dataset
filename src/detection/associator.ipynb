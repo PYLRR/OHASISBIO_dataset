{
 "cells": [
  {
   "metadata": {
    "ExecuteTime": {
     "end_time": "2024-09-25T14:00:04.664254506Z",
     "start_time": "2024-09-25T13:59:17.053268Z"
    }
   },
   "cell_type": "code",
   "source": [
    "\n",
    "from pathlib import Path\n",
    "\n",
    "import glob2\n",
    "import datetime\n",
    "\n",
    "import numpy as np\n",
    "from tqdm.notebook import tqdm\n",
    "import tensorflow as tf\n",
    "\n",
    "from utils.data_reading.catalogs.ISC import ISC_file\n",
    "from utils.data_reading.sound_data.station import StationsCatalog\n",
    "from utils.physics.bathymetry.bathymetry_grid import BathymetryGrid\n",
    "from utils.physics.sound.sound_model import HomogeneousSoundModel\n",
    "from utils.physics.sound.sound_velocity_grid import MonthlySoundVelocityGridOptimized\n",
    "from utils.transformations.features_extractor import STFTFeaturesExtractor\n",
    "\n",
    "print(tf.config.list_physical_devices())"
   ],
   "id": "46fd83a0a52c0f95",
   "outputs": [
    {
     "name": "stderr",
     "output_type": "stream",
     "text": [
      "2024-09-25 15:59:21.629218: I tensorflow/core/util/port.cc:113] oneDNN custom operations are on. You may see slightly different numerical results due to floating-point round-off errors from different computation orders. To turn them off, set the environment variable `TF_ENABLE_ONEDNN_OPTS=0`.\n",
      "2024-09-25 15:59:21.635459: I external/local_tsl/tsl/cuda/cudart_stub.cc:31] Could not find cuda drivers on your machine, GPU will not be used.\n",
      "2024-09-25 15:59:21.750318: E external/local_xla/xla/stream_executor/cuda/cuda_dnn.cc:9261] Unable to register cuDNN factory: Attempting to register factory for plugin cuDNN when one has already been registered\n",
      "2024-09-25 15:59:21.750408: E external/local_xla/xla/stream_executor/cuda/cuda_fft.cc:607] Unable to register cuFFT factory: Attempting to register factory for plugin cuFFT when one has already been registered\n",
      "2024-09-25 15:59:21.753237: E external/local_xla/xla/stream_executor/cuda/cuda_blas.cc:1515] Unable to register cuBLAS factory: Attempting to register factory for plugin cuBLAS when one has already been registered\n",
      "2024-09-25 15:59:21.770736: I tensorflow/core/platform/cpu_feature_guard.cc:182] This TensorFlow binary is optimized to use available CPU instructions in performance-critical operations.\n",
      "To enable the following instructions: AVX2 AVX_VNNI FMA, in other operations, rebuild TensorFlow with the appropriate compiler flags.\n",
      "2024-09-25 15:59:23.448731: W tensorflow/compiler/tf2tensorrt/utils/py_utils.cc:38] TF-TRT Warning: Could not find TensorRT\n"
     ]
    },
    {
     "name": "stdout",
     "output_type": "stream",
     "text": [
      "[PhysicalDevice(name='/physical_device:CPU:0', device_type='CPU')]\n"
     ]
    },
    {
     "name": "stderr",
     "output_type": "stream",
     "text": [
      "2024-09-25 15:59:24.903514: I external/local_xla/xla/stream_executor/cuda/cuda_executor.cc:901] successful NUMA node read from SysFS had negative value (-1), but there must be at least one NUMA node, so returning NUMA node zero. See more at https://github.com/torvalds/linux/blob/v6.0/Documentation/ABI/testing/sysfs-bus-pci#L344-L355\n",
      "2024-09-25 15:59:24.905231: W tensorflow/core/common_runtime/gpu/gpu_device.cc:2256] Cannot dlopen some GPU libraries. Please make sure the missing libraries mentioned above are installed properly if you would like to use GPU. Follow the guide at https://www.tensorflow.org/install/gpu for how to download and setup the required libraries for your platform.\n",
      "Skipping registering GPU devices...\n"
     ]
    }
   ],
   "execution_count": 1
  },
  {
   "cell_type": "code",
   "id": "initial_id",
   "metadata": {
    "collapsed": true,
    "ExecuteTime": {
     "end_time": "2024-09-25T14:00:02.680382Z",
     "start_time": "2024-09-25T13:59:24.991415Z"
    }
   },
   "source": [
    "datasets_yaml = \"/home/plerolland/Bureau/dataset.yaml\"\n",
    "\n",
    "year = 2018\n",
    "isc_file = f\"/home/plerolland/Bureau/catalogs/ISC/eqk_isc_{year}.txt\"\n",
    "isc = ISC_file(isc_file)\n",
    "\n",
    "sound_model_h = HomogeneousSoundModel()\n",
    "sound_model_g = MonthlySoundVelocityGridOptimized([f\"../../data/sound_model/min-velocities_month-{i:02d}.nc\" for i in range(1,13)], interpolate=True)\n",
    "bathy_model = BathymetryGrid.create_from_NetCDF(\"../../data/geo/GEBCO_2023_sub_ice_topo.nc\", lat_bounds=[-75, 35], lon_bounds=[-20, 180])\n",
    "\n",
    "stations_c = StationsCatalog(datasets_yaml).filter_out_undated().filter_out_unlocated()\n",
    "stft_computer = STFTFeaturesExtractor(None, vmin=60, vmax=140, f_min=5, f_max=60)\n",
    "\n",
    "# output\n",
    "detections_file = f\"../../data/detections/{year}/detections.npy\""
   ],
   "outputs": [],
   "execution_count": 2
  },
  {
   "metadata": {
    "ExecuteTime": {
     "end_time": "2024-09-25T14:46:23.272104Z",
     "start_time": "2024-09-25T14:46:22.950617Z"
    }
   },
   "cell_type": "code",
   "source": [
    "# filter isc events\n",
    "to_del = set()\n",
    "for ID, event in isc.items.items():\n",
    "    if bathy_model.get_nearest_values(event.get_pos()) > 0:\n",
    "        to_del.add(ID)\n",
    "    if isc[ID].get_pos()[0]>-5 and isc[ID].get_pos()[1] > 115 or isc[ID].get_pos()[0]>-30 and isc[ID].get_pos()[1] > 130 or isc[ID].get_pos()[0]>-45 and isc[ID].get_pos()[1] > 170\\\n",
    "            or isc[ID].get_pos()[0]>-20 and isc[ID].get_pos()[1] > 85:\n",
    "        to_del.add(ID)\n",
    "for ID in to_del:\n",
    "    del isc.items[ID]\n",
    "print(f\"{len(to_del)} terrestrial events removed from catalog\")"
   ],
   "id": "5cee0b364d4ef31",
   "outputs": [
    {
     "name": "stdout",
     "output_type": "stream",
     "text": [
      "0 terrestrial events removed from catalog\n"
     ]
    }
   ],
   "execution_count": 58
  },
  {
   "metadata": {},
   "cell_type": "markdown",
   "source": "### Detections computation",
   "id": "88224664cbbfd7d9"
  },
  {
   "metadata": {
    "ExecuteTime": {
     "end_time": "2024-09-25T14:00:33.297811Z",
     "start_time": "2024-09-25T14:00:33.275959Z"
    }
   },
   "cell_type": "code",
   "source": [
    "if not Path(detections_file).is_file():\n",
    "    print(\"starting detection\")\n",
    "    to_read = glob2.glob(f\"../../data/detections/{year}/*.csv\")\n",
    "    \n",
    "    detections = {}\n",
    "    for file in to_read:\n",
    "        with open(file, \"r\") as f:\n",
    "            lines = f.readlines()\n",
    "        lines = [line.strip().split(\",\") for line in lines if len(line.strip())>0]\n",
    "        lines = np.array([[datetime.datetime.strptime(line[0], \"%Y%m%d_%H%M%S\"), float(line[1]), line[2]] for line in lines])\n",
    "        lines[:,2] = [np.array(l.split(\";\")).astype(np.float32) for l in lines[:,2]]\n",
    "        lines = lines[np.argsort(lines[:,0])]\n",
    "    \n",
    "        # merge close detections\n",
    "        to_del = set()\n",
    "        i, j = 0, 0\n",
    "        while j<len(lines):\n",
    "            delta = (np.abs(lines[i,0] - lines[j,0]))\n",
    "            if delta.total_seconds() < 5:\n",
    "                lines[i,0] += delta / 2\n",
    "                to_del.add(j)\n",
    "            else:\n",
    "                i = j\n",
    "            j+=1\n",
    "        lines = np.delete(lines, list(to_del), axis=0)\n",
    "        \n",
    "        \n",
    "        station_name = \"-\".join(file.split(\"_\")[-1].split(\"-\")[:-1])\n",
    "        station_y = int(file.split(\"_\")[-1].split(\"-\")[-1][:-4])\n",
    "        station = stations_c.by_names(station_name).by_starting_year(station_y)[0]\n",
    "        \n",
    "        print(f\"{len(list(to_del))} lines deleted ; {len(lines)} left for station {station}\")\n",
    "        \n",
    "        detections[station] = lines\n",
    "    np.save(detections_file, detections)"
   ],
   "id": "60fd086cd7d6948",
   "outputs": [],
   "execution_count": 5
  },
  {
   "metadata": {
    "ExecuteTime": {
     "end_time": "2024-09-25T14:00:54.417218Z",
     "start_time": "2024-09-25T14:00:33.886048Z"
    }
   },
   "cell_type": "code",
   "source": "detections = np.load(detections_file, allow_pickle=True).item()",
   "id": "9519463085c8ef76",
   "outputs": [],
   "execution_count": 6
  },
  {
   "metadata": {
    "ExecuteTime": {
     "end_time": "2024-09-25T14:02:00.188844Z",
     "start_time": "2024-09-25T14:00:54.451213Z"
    }
   },
   "cell_type": "code",
   "source": [
    "# get inter-station distances\n",
    "basic_sound_model = HomogeneousSoundModel()\n",
    "stations = list(detections.keys())\n",
    "d_h = {s1: {s2: datetime.timedelta(seconds=0) for s2 in stations} for s1 in stations}\n",
    "for s1 in stations:\n",
    "    for s2 in stations:\n",
    "        d_h[s1][s2] = datetime.timedelta(seconds=basic_sound_model.get_sound_travel_time(s1.get_pos(), s2.get_pos()))\n",
    "        print(f\"{s1}-{s2} : {d_h[s1][s2]}\")\n",
    "\n",
    "# merge all detections and sort them by date\n",
    "merged_detections = []\n",
    "for s, dets in detections.items():\n",
    "    for det in dets:\n",
    "        merged_detections.append((det[0], det[1], tuple(det[2]), s))\n",
    "merged_detections = np.array(merged_detections, dtype=np.object_)\n",
    "merged_detections = merged_detections[np.argsort(merged_detections[:,0])]"
   ],
   "id": "f09d0bfbef4d6eb",
   "outputs": [
    {
     "name": "stdout",
     "output_type": "stream",
     "text": [
      "station_ELAN_2018-station_ELAN_2018 : 0:00:00\n",
      "station_ELAN_2018-station_MADE_2018 : 0:40:20.120202\n",
      "station_ELAN_2018-station_MADW_2018 : 0:35:09.529054\n",
      "station_ELAN_2018-station_NEAMS_2018 : 0:35:48.664488\n",
      "station_ELAN_2018-station_RTJ_2018 : 0:41:01.621956\n",
      "station_ELAN_2018-station_SSEIR_2018 : 0:29:30.562140\n",
      "station_ELAN_2018-station_SSWIR_2018 : 0:23:56.077778\n",
      "station_ELAN_2018-station_SWAMS-bot_2018 : 0:19:18.915028\n",
      "station_ELAN_2018-station_WKER2_2018 : 0:12:29.692215\n",
      "station_ELAN_2018-station_MADE_2017 : 0:40:20.778781\n",
      "station_ELAN_2018-station_MADW_2017 : 0:35:09.229006\n",
      "station_ELAN_2018-station_NEAMS_2017 : 0:35:48.721658\n",
      "station_ELAN_2018-station_SSEIR_2017 : 0:29:30.782122\n",
      "station_ELAN_2018-station_SWAMS_2017 : 0:19:19.125930\n",
      "station_ELAN_2018-station_WKER2_2017 : 0:12:29.668607\n",
      "station_ELAN_2018-station_H01W1_2018 : 0:50:45.217739\n",
      "station_ELAN_2018-station_H04N1_2018 : 0:15:34.284465\n",
      "station_ELAN_2018-station_H04S1_2018 : 0:14:46.804349\n",
      "station_ELAN_2018-station_H08S1_2018 : 1:01:41.398639\n",
      "station_MADE_2018-station_ELAN_2018 : 0:40:20.120202\n",
      "station_MADE_2018-station_MADE_2018 : 0:00:00\n",
      "station_MADE_2018-station_MADW_2018 : 0:11:31.149717\n",
      "station_MADE_2018-station_NEAMS_2018 : 0:24:11.728340\n",
      "station_MADE_2018-station_RTJ_2018 : 0:10:42.183449\n",
      "station_MADE_2018-station_SSEIR_2018 : 0:14:27.926231\n",
      "station_MADE_2018-station_SSWIR_2018 : 0:20:52.720608\n",
      "station_MADE_2018-station_SWAMS-bot_2018 : 0:26:18.148212\n",
      "station_MADE_2018-station_WKER2_2018 : 0:28:05.570142\n",
      "station_MADE_2018-station_MADE_2017 : 0:00:00.658584\n",
      "station_MADE_2018-station_MADW_2017 : 0:11:31.153120\n",
      "station_MADE_2018-station_NEAMS_2017 : 0:24:11.654121\n",
      "station_MADE_2018-station_SSEIR_2017 : 0:14:27.798118\n",
      "station_MADE_2018-station_SWAMS_2017 : 0:26:18.090666\n",
      "station_MADE_2018-station_WKER2_2017 : 0:28:05.595911\n",
      "station_MADE_2018-station_H01W1_2018 : 0:56:46.123096\n",
      "station_MADE_2018-station_H04N1_2018 : 0:29:40.877628\n",
      "station_MADE_2018-station_H04S1_2018 : 0:30:23.849616\n",
      "station_MADE_2018-station_H08S1_2018 : 0:23:33.483661\n",
      "station_MADW_2018-station_ELAN_2018 : 0:35:09.529054\n",
      "station_MADW_2018-station_MADE_2018 : 0:11:31.149717\n",
      "station_MADW_2018-station_MADW_2018 : 0:00:00\n",
      "station_MADW_2018-station_NEAMS_2018 : 0:31:27.657789\n",
      "station_MADW_2018-station_RTJ_2018 : 0:21:05.451748\n",
      "station_MADW_2018-station_SSEIR_2018 : 0:18:38.256858\n",
      "station_MADW_2018-station_SSWIR_2018 : 0:11:56.740877\n",
      "station_MADW_2018-station_SWAMS-bot_2018 : 0:26:51.491224\n",
      "station_MADW_2018-station_WKER2_2018 : 0:22:47.492482\n",
      "station_MADW_2018-station_MADE_2017 : 0:11:31.511761\n",
      "station_MADW_2018-station_MADW_2017 : 0:00:00.316780\n",
      "station_MADW_2018-station_NEAMS_2017 : 0:31:27.609195\n",
      "station_MADW_2018-station_SSEIR_2017 : 0:18:38.268479\n",
      "station_MADW_2018-station_SWAMS_2017 : 0:26:51.532587\n",
      "station_MADW_2018-station_WKER2_2017 : 0:22:47.513628\n",
      "station_MADW_2018-station_H01W1_2018 : 1:03:14.310014\n",
      "station_MADW_2018-station_H04N1_2018 : 0:21:31.727144\n",
      "station_MADW_2018-station_H04S1_2018 : 0:22:21.574187\n",
      "station_MADW_2018-station_H08S1_2018 : 0:34:15.996435\n",
      "station_NEAMS_2018-station_ELAN_2018 : 0:35:48.664488\n",
      "station_NEAMS_2018-station_MADE_2018 : 0:24:11.728340\n",
      "station_NEAMS_2018-station_MADW_2018 : 0:31:27.657789\n",
      "station_NEAMS_2018-station_NEAMS_2018 : 0:00:00\n",
      "station_NEAMS_2018-station_RTJ_2018 : 0:15:00.507422\n",
      "station_NEAMS_2018-station_SSEIR_2018 : 0:13:18.323606\n",
      "station_NEAMS_2018-station_SSWIR_2018 : 0:32:10.257096\n",
      "station_NEAMS_2018-station_SWAMS-bot_2018 : 0:16:36.752411\n",
      "station_NEAMS_2018-station_WKER2_2018 : 0:28:49.468885\n",
      "station_NEAMS_2018-station_MADE_2017 : 0:24:12.027941\n",
      "station_NEAMS_2018-station_MADW_2017 : 0:31:27.445664\n",
      "station_NEAMS_2018-station_NEAMS_2017 : 0:00:00.099186\n",
      "station_NEAMS_2018-station_SSEIR_2017 : 0:13:18.237101\n",
      "station_NEAMS_2018-station_SWAMS_2017 : 0:16:36.532328\n",
      "station_NEAMS_2018-station_WKER2_2017 : 0:28:49.489651\n",
      "station_NEAMS_2018-station_H01W1_2018 : 0:32:34.723890\n",
      "station_NEAMS_2018-station_H04N1_2018 : 0:35:24.178900\n",
      "station_NEAMS_2018-station_H04S1_2018 : 0:35:35.590002\n",
      "station_NEAMS_2018-station_H08S1_2018 : 0:32:22.967558\n",
      "station_RTJ_2018-station_ELAN_2018 : 0:41:01.621956\n",
      "station_RTJ_2018-station_MADE_2018 : 0:10:42.183449\n",
      "station_RTJ_2018-station_MADW_2018 : 0:21:05.451748\n",
      "station_RTJ_2018-station_NEAMS_2018 : 0:15:00.507422\n",
      "station_RTJ_2018-station_RTJ_2018 : 0:00:00\n",
      "station_RTJ_2018-station_SSEIR_2018 : 0:11:31.487037\n",
      "station_RTJ_2018-station_SSWIR_2018 : 0:27:12.313066\n",
      "station_RTJ_2018-station_SWAMS-bot_2018 : 0:23:18.732012\n",
      "station_RTJ_2018-station_WKER2_2018 : 0:30:12.085982\n",
      "station_RTJ_2018-station_MADE_2017 : 0:10:42.221519\n",
      "station_RTJ_2018-station_MADW_2017 : 0:21:05.358051\n",
      "station_RTJ_2018-station_NEAMS_2017 : 0:15:00.417380\n",
      "station_RTJ_2018-station_SSEIR_2017 : 0:11:31.268026\n",
      "station_RTJ_2018-station_SWAMS_2017 : 0:23:18.590244\n",
      "station_RTJ_2018-station_WKER2_2017 : 0:30:12.112178\n",
      "station_RTJ_2018-station_H01W1_2018 : 0:47:02.755759\n",
      "station_RTJ_2018-station_H04N1_2018 : 0:34:12.927413\n",
      "station_RTJ_2018-station_H04S1_2018 : 0:34:45.003349\n",
      "station_RTJ_2018-station_H08S1_2018 : 0:20:51.278469\n",
      "station_SSEIR_2018-station_ELAN_2018 : 0:29:30.562140\n",
      "station_SSEIR_2018-station_MADE_2018 : 0:14:27.926231\n",
      "station_SSEIR_2018-station_MADW_2018 : 0:18:38.256858\n",
      "station_SSEIR_2018-station_NEAMS_2018 : 0:13:18.323606\n",
      "station_SSEIR_2018-station_RTJ_2018 : 0:11:31.487037\n",
      "station_SSEIR_2018-station_SSEIR_2018 : 0:00:00\n",
      "station_SSEIR_2018-station_SSWIR_2018 : 0:19:13.218797\n",
      "station_SSEIR_2018-station_SWAMS-bot_2018 : 0:12:20.967319\n",
      "station_SSEIR_2018-station_WKER2_2018 : 0:19:05.507744\n",
      "station_SSEIR_2018-station_MADE_2017 : 0:14:28.468618\n",
      "station_SSEIR_2018-station_MADW_2017 : 0:18:38.012059\n",
      "station_SSEIR_2018-station_NEAMS_2017 : 0:13:18.294015\n",
      "station_SSEIR_2018-station_SSEIR_2017 : 0:00:00.220817\n",
      "station_SSEIR_2018-station_SWAMS_2017 : 0:12:20.865121\n",
      "station_SSEIR_2018-station_WKER2_2017 : 0:19:05.533231\n",
      "station_SSEIR_2018-station_H01W1_2018 : 0:44:36.428265\n",
      "station_SSEIR_2018-station_H04N1_2018 : 0:24:08.509627\n",
      "station_SSEIR_2018-station_H04S1_2018 : 0:24:32.190899\n",
      "station_SSEIR_2018-station_H08S1_2018 : 0:32:18.851878\n",
      "station_SSWIR_2018-station_ELAN_2018 : 0:23:56.077778\n",
      "station_SSWIR_2018-station_MADE_2018 : 0:20:52.720608\n",
      "station_SSWIR_2018-station_MADW_2018 : 0:11:56.740877\n",
      "station_SSWIR_2018-station_NEAMS_2018 : 0:32:10.257096\n",
      "station_SSWIR_2018-station_RTJ_2018 : 0:27:12.313066\n",
      "station_SSWIR_2018-station_SSEIR_2018 : 0:19:13.218797\n",
      "station_SSWIR_2018-station_SSWIR_2018 : 0:00:00\n",
      "station_SSWIR_2018-station_SWAMS-bot_2018 : 0:21:15.892653\n",
      "station_SSWIR_2018-station_WKER2_2018 : 0:12:16.880069\n",
      "station_SSWIR_2018-station_MADE_2017 : 0:20:53.297921\n",
      "station_SSWIR_2018-station_MADW_2017 : 0:11:56.482329\n",
      "station_SSWIR_2018-station_NEAMS_2017 : 0:32:10.244967\n",
      "station_SSWIR_2018-station_SSEIR_2017 : 0:19:13.361214\n",
      "station_SSWIR_2018-station_SWAMS_2017 : 0:21:16.026131\n",
      "station_SSWIR_2018-station_WKER2_2017 : 0:12:16.894610\n",
      "station_SSWIR_2018-station_H01W1_2018 : 1:00:36.964313\n",
      "station_SSWIR_2018-station_H04N1_2018 : 0:09:35.038884\n",
      "station_SSWIR_2018-station_H04S1_2018 : 0:10:25.086332\n",
      "station_SSWIR_2018-station_H08S1_2018 : 0:44:25.857904\n",
      "station_SWAMS-bot_2018-station_ELAN_2018 : 0:19:18.915028\n",
      "station_SWAMS-bot_2018-station_MADE_2018 : 0:26:18.148212\n",
      "station_SWAMS-bot_2018-station_MADW_2018 : 0:26:51.491224\n",
      "station_SWAMS-bot_2018-station_NEAMS_2018 : 0:16:36.752411\n",
      "station_SWAMS-bot_2018-station_RTJ_2018 : 0:23:18.732012\n",
      "station_SWAMS-bot_2018-station_SSEIR_2018 : 0:12:20.967319\n",
      "station_SWAMS-bot_2018-station_SSWIR_2018 : 0:21:15.892653\n",
      "station_SWAMS-bot_2018-station_SWAMS-bot_2018 : 0:00:00\n",
      "station_SWAMS-bot_2018-station_WKER2_2018 : 0:13:18.489472\n",
      "station_SWAMS-bot_2018-station_MADE_2017 : 0:26:18.749479\n",
      "station_SWAMS-bot_2018-station_MADW_2017 : 0:26:51.185589\n",
      "station_SWAMS-bot_2018-station_NEAMS_2017 : 0:16:36.802183\n",
      "station_SWAMS-bot_2018-station_SSEIR_2017 : 0:12:21.154286\n",
      "station_SWAMS-bot_2018-station_SWAMS_2017 : 0:00:00.223688\n",
      "station_SWAMS-bot_2018-station_WKER2_2017 : 0:13:18.504289\n",
      "station_SWAMS-bot_2018-station_H01W1_2018 : 0:39:31.760955\n",
      "station_SWAMS-bot_2018-station_H04N1_2018 : 0:20:43.916435\n",
      "station_SWAMS-bot_2018-station_H04S1_2018 : 0:20:40.667207\n",
      "station_SWAMS-bot_2018-station_H08S1_2018 : 0:44:06.895487\n",
      "station_WKER2_2018-station_ELAN_2018 : 0:12:29.692215\n",
      "station_WKER2_2018-station_MADE_2018 : 0:28:05.570142\n",
      "station_WKER2_2018-station_MADW_2018 : 0:22:47.492482\n",
      "station_WKER2_2018-station_NEAMS_2018 : 0:28:49.468885\n",
      "station_WKER2_2018-station_RTJ_2018 : 0:30:12.085982\n",
      "station_WKER2_2018-station_SSEIR_2018 : 0:19:05.507744\n",
      "station_WKER2_2018-station_SSWIR_2018 : 0:12:16.880069\n",
      "station_WKER2_2018-station_SWAMS-bot_2018 : 0:13:18.489472\n",
      "station_WKER2_2018-station_WKER2_2018 : 0:00:00\n",
      "station_WKER2_2018-station_MADE_2017 : 0:28:06.226562\n",
      "station_WKER2_2018-station_MADW_2017 : 0:22:47.186503\n",
      "station_WKER2_2018-station_NEAMS_2017 : 0:28:49.496257\n",
      "station_WKER2_2018-station_SSEIR_2017 : 0:19:05.723710\n",
      "station_WKER2_2018-station_SWAMS_2017 : 0:13:18.698588\n",
      "station_WKER2_2018-station_WKER2_2017 : 0:00:00.026464\n",
      "station_WKER2_2018-station_H01W1_2018 : 0:51:58.033950\n",
      "station_WKER2_2018-station_H04N1_2018 : 0:07:36.734799\n",
      "station_WKER2_2018-station_H04S1_2018 : 0:07:26.159969\n",
      "station_WKER2_2018-station_H08S1_2018 : 0:50:17.162773\n",
      "station_MADE_2017-station_ELAN_2018 : 0:40:20.778781\n",
      "station_MADE_2017-station_MADE_2018 : 0:00:00.658584\n",
      "station_MADE_2017-station_MADW_2018 : 0:11:31.511761\n",
      "station_MADE_2017-station_NEAMS_2018 : 0:24:12.027941\n",
      "station_MADE_2017-station_RTJ_2018 : 0:10:42.221519\n",
      "station_MADE_2017-station_SSEIR_2018 : 0:14:28.468618\n",
      "station_MADE_2017-station_SSWIR_2018 : 0:20:53.297921\n",
      "station_MADE_2017-station_SWAMS-bot_2018 : 0:26:18.749479\n",
      "station_MADE_2017-station_WKER2_2018 : 0:28:06.226562\n",
      "station_MADE_2017-station_MADE_2017 : 0:00:00\n",
      "station_MADE_2017-station_MADW_2017 : 0:11:31.515416\n",
      "station_MADE_2017-station_NEAMS_2017 : 0:24:11.953695\n",
      "station_MADE_2017-station_SSEIR_2017 : 0:14:28.340427\n",
      "station_MADE_2017-station_SWAMS_2017 : 0:26:18.691896\n",
      "station_MADE_2017-station_WKER2_2017 : 0:28:06.252330\n",
      "station_MADE_2017-station_H01W1_2018 : 0:56:46.412678\n",
      "station_MADE_2017-station_H04N1_2018 : 0:29:41.497045\n",
      "station_MADE_2017-station_H04S1_2018 : 0:30:24.472590\n",
      "station_MADE_2017-station_H08S1_2018 : 0:23:32.916787\n",
      "station_MADW_2017-station_ELAN_2018 : 0:35:09.229006\n",
      "station_MADW_2017-station_MADE_2018 : 0:11:31.153120\n",
      "station_MADW_2017-station_MADW_2018 : 0:00:00.316780\n",
      "station_MADW_2017-station_NEAMS_2018 : 0:31:27.445664\n",
      "station_MADW_2017-station_RTJ_2018 : 0:21:05.358051\n",
      "station_MADW_2017-station_SSEIR_2018 : 0:18:38.012059\n",
      "station_MADW_2017-station_SSWIR_2018 : 0:11:56.482329\n",
      "station_MADW_2017-station_SWAMS-bot_2018 : 0:26:51.185589\n",
      "station_MADW_2017-station_WKER2_2018 : 0:22:47.186503\n",
      "station_MADW_2017-station_MADE_2017 : 0:11:31.515416\n",
      "station_MADW_2017-station_MADW_2017 : 0:00:00\n",
      "station_MADW_2017-station_NEAMS_2017 : 0:31:27.397081\n",
      "station_MADW_2017-station_SSEIR_2017 : 0:18:38.023721\n",
      "station_MADW_2017-station_SWAMS_2017 : 0:26:51.226964\n",
      "station_MADW_2017-station_WKER2_2017 : 0:22:47.207650\n",
      "station_MADW_2017-station_H01W1_2018 : 1:03:14.060715\n",
      "station_MADW_2017-station_H04N1_2018 : 0:21:31.467101\n",
      "station_MADW_2017-station_H04S1_2018 : 0:22:21.312322\n",
      "station_MADW_2017-station_H08S1_2018 : 0:34:16.097332\n",
      "station_NEAMS_2017-station_ELAN_2018 : 0:35:48.721658\n",
      "station_NEAMS_2017-station_MADE_2018 : 0:24:11.654121\n",
      "station_NEAMS_2017-station_MADW_2018 : 0:31:27.609195\n",
      "station_NEAMS_2017-station_NEAMS_2018 : 0:00:00.099186\n",
      "station_NEAMS_2017-station_RTJ_2018 : 0:15:00.417380\n",
      "station_NEAMS_2017-station_SSEIR_2018 : 0:13:18.294015\n",
      "station_NEAMS_2017-station_SSWIR_2018 : 0:32:10.244967\n",
      "station_NEAMS_2017-station_SWAMS-bot_2018 : 0:16:36.802183\n",
      "station_NEAMS_2017-station_WKER2_2018 : 0:28:49.496257\n",
      "station_NEAMS_2017-station_MADE_2017 : 0:24:11.953695\n",
      "station_NEAMS_2017-station_MADW_2017 : 0:31:27.397081\n",
      "station_NEAMS_2017-station_NEAMS_2017 : 0:00:00\n",
      "station_NEAMS_2017-station_SSEIR_2017 : 0:13:18.207486\n",
      "station_NEAMS_2017-station_SWAMS_2017 : 0:16:36.582103\n",
      "station_NEAMS_2017-station_WKER2_2017 : 0:28:49.517024\n",
      "station_NEAMS_2017-station_H01W1_2018 : 0:32:34.796283\n",
      "station_NEAMS_2017-station_H04N1_2018 : 0:35:24.194270\n",
      "station_NEAMS_2017-station_H04S1_2018 : 0:35:35.607776\n",
      "station_NEAMS_2017-station_H08S1_2018 : 0:32:22.868915\n",
      "station_SSEIR_2017-station_ELAN_2018 : 0:29:30.782122\n",
      "station_SSEIR_2017-station_MADE_2018 : 0:14:27.798118\n",
      "station_SSEIR_2017-station_MADW_2018 : 0:18:38.268479\n",
      "station_SSEIR_2017-station_NEAMS_2018 : 0:13:18.237101\n",
      "station_SSEIR_2017-station_RTJ_2018 : 0:11:31.268026\n",
      "station_SSEIR_2017-station_SSEIR_2018 : 0:00:00.220817\n",
      "station_SSEIR_2017-station_SSWIR_2018 : 0:19:13.361214\n",
      "station_SSEIR_2017-station_SWAMS-bot_2018 : 0:12:21.154286\n",
      "station_SSEIR_2017-station_WKER2_2018 : 0:19:05.723710\n",
      "station_SSEIR_2017-station_MADE_2017 : 0:14:28.340427\n",
      "station_SSEIR_2017-station_MADW_2017 : 0:18:38.023721\n",
      "station_SSEIR_2017-station_NEAMS_2017 : 0:13:18.207486\n",
      "station_SSEIR_2017-station_SSEIR_2017 : 0:00:00\n",
      "station_SSEIR_2017-station_SWAMS_2017 : 0:12:21.052056\n",
      "station_SSEIR_2017-station_WKER2_2017 : 0:19:05.749197\n",
      "station_SSEIR_2017-station_H01W1_2018 : 0:44:36.423288\n",
      "station_SSEIR_2017-station_H04N1_2018 : 0:24:08.705486\n",
      "station_SSEIR_2017-station_H04S1_2018 : 0:24:32.389917\n",
      "station_SSEIR_2017-station_H08S1_2018 : 0:32:18.636119\n",
      "station_SWAMS_2017-station_ELAN_2018 : 0:19:19.125930\n",
      "station_SWAMS_2017-station_MADE_2018 : 0:26:18.090666\n",
      "station_SWAMS_2017-station_MADW_2018 : 0:26:51.532587\n",
      "station_SWAMS_2017-station_NEAMS_2018 : 0:16:36.532328\n",
      "station_SWAMS_2017-station_RTJ_2018 : 0:23:18.590244\n",
      "station_SWAMS_2017-station_SSEIR_2018 : 0:12:20.865121\n",
      "station_SWAMS_2017-station_SSWIR_2018 : 0:21:16.026131\n",
      "station_SWAMS_2017-station_SWAMS-bot_2018 : 0:00:00.223688\n",
      "station_SWAMS_2017-station_WKER2_2018 : 0:13:18.698588\n",
      "station_SWAMS_2017-station_MADE_2017 : 0:26:18.691896\n",
      "station_SWAMS_2017-station_MADW_2017 : 0:26:51.226964\n",
      "station_SWAMS_2017-station_NEAMS_2017 : 0:16:36.582103\n",
      "station_SWAMS_2017-station_SSEIR_2017 : 0:12:21.052056\n",
      "station_SWAMS_2017-station_SWAMS_2017 : 0:00:00\n",
      "station_SWAMS_2017-station_WKER2_2017 : 0:13:18.713407\n",
      "station_SWAMS_2017-station_H01W1_2018 : 0:39:31.601208\n",
      "station_SWAMS_2017-station_H04N1_2018 : 0:20:44.116347\n",
      "station_SWAMS_2017-station_H04S1_2018 : 0:20:40.871156\n",
      "station_SWAMS_2017-station_H08S1_2018 : 0:44:06.745668\n",
      "station_WKER2_2017-station_ELAN_2018 : 0:12:29.668607\n",
      "station_WKER2_2017-station_MADE_2018 : 0:28:05.595911\n",
      "station_WKER2_2017-station_MADW_2018 : 0:22:47.513628\n",
      "station_WKER2_2017-station_NEAMS_2018 : 0:28:49.489651\n",
      "station_WKER2_2017-station_RTJ_2018 : 0:30:12.112178\n",
      "station_WKER2_2017-station_SSEIR_2018 : 0:19:05.533231\n",
      "station_WKER2_2017-station_SSWIR_2018 : 0:12:16.894610\n",
      "station_WKER2_2017-station_SWAMS-bot_2018 : 0:13:18.504289\n",
      "station_WKER2_2017-station_WKER2_2018 : 0:00:00.026464\n",
      "station_WKER2_2017-station_MADE_2017 : 0:28:06.252330\n",
      "station_WKER2_2017-station_MADW_2017 : 0:22:47.207650\n",
      "station_WKER2_2017-station_NEAMS_2017 : 0:28:49.517024\n",
      "station_WKER2_2017-station_SSEIR_2017 : 0:19:05.749197\n",
      "station_WKER2_2017-station_SWAMS_2017 : 0:13:18.713407\n",
      "station_WKER2_2017-station_WKER2_2017 : 0:00:00\n",
      "station_WKER2_2017-station_H01W1_2018 : 0:51:58.041062\n",
      "station_WKER2_2017-station_H04N1_2018 : 0:07:36.726578\n",
      "station_WKER2_2017-station_H04S1_2018 : 0:07:26.148988\n",
      "station_WKER2_2017-station_H08S1_2018 : 0:50:17.189236\n",
      "station_H01W1_2018-station_ELAN_2018 : 0:50:45.217739\n",
      "station_H01W1_2018-station_MADE_2018 : 0:56:46.123096\n",
      "station_H01W1_2018-station_MADW_2018 : 1:03:14.310014\n",
      "station_H01W1_2018-station_NEAMS_2018 : 0:32:34.723890\n",
      "station_H01W1_2018-station_RTJ_2018 : 0:47:02.755759\n",
      "station_H01W1_2018-station_SSEIR_2018 : 0:44:36.428265\n",
      "station_H01W1_2018-station_SSWIR_2018 : 1:00:36.964313\n",
      "station_H01W1_2018-station_SWAMS-bot_2018 : 0:39:31.760955\n",
      "station_H01W1_2018-station_WKER2_2018 : 0:51:58.033950\n",
      "station_H01W1_2018-station_MADE_2017 : 0:56:46.412678\n",
      "station_H01W1_2018-station_MADW_2017 : 1:03:14.060715\n",
      "station_H01W1_2018-station_NEAMS_2017 : 0:32:34.796283\n",
      "station_H01W1_2018-station_SSEIR_2017 : 0:44:36.423288\n",
      "station_H01W1_2018-station_SWAMS_2017 : 0:39:31.601208\n",
      "station_H01W1_2018-station_WKER2_2017 : 0:51:58.041062\n",
      "station_H01W1_2018-station_H01W1_2018 : 0:00:00\n",
      "station_H01W1_2018-station_H04N1_2018 : 0:59:34.376670\n",
      "station_H01W1_2018-station_H04S1_2018 : 0:59:19.338094\n",
      "station_H01W1_2018-station_H08S1_2018 : 0:58:42.549003\n",
      "station_H04N1_2018-station_ELAN_2018 : 0:15:34.284465\n",
      "station_H04N1_2018-station_MADE_2018 : 0:29:40.877628\n",
      "station_H04N1_2018-station_MADW_2018 : 0:21:31.727144\n",
      "station_H04N1_2018-station_NEAMS_2018 : 0:35:24.178900\n",
      "station_H04N1_2018-station_RTJ_2018 : 0:34:12.927413\n",
      "station_H04N1_2018-station_SSEIR_2018 : 0:24:08.509627\n",
      "station_H04N1_2018-station_SSWIR_2018 : 0:09:35.038884\n",
      "station_H04N1_2018-station_SWAMS-bot_2018 : 0:20:43.916435\n",
      "station_H04N1_2018-station_WKER2_2018 : 0:07:36.734799\n",
      "station_H04N1_2018-station_MADE_2017 : 0:29:41.497045\n",
      "station_H04N1_2018-station_MADW_2017 : 0:21:31.467101\n",
      "station_H04N1_2018-station_NEAMS_2017 : 0:35:24.194270\n",
      "station_H04N1_2018-station_SSEIR_2017 : 0:24:08.705486\n",
      "station_H04N1_2018-station_SWAMS_2017 : 0:20:44.116347\n",
      "station_H04N1_2018-station_WKER2_2017 : 0:07:36.726578\n",
      "station_H04N1_2018-station_H01W1_2018 : 0:59:34.376670\n",
      "station_H04N1_2018-station_H04N1_2018 : 0:00:00\n",
      "station_H04N1_2018-station_H04S1_2018 : 0:00:51.550741\n",
      "station_H04N1_2018-station_H08S1_2018 : 0:52:59.894887\n",
      "station_H04S1_2018-station_ELAN_2018 : 0:14:46.804349\n",
      "station_H04S1_2018-station_MADE_2018 : 0:30:23.849616\n",
      "station_H04S1_2018-station_MADW_2018 : 0:22:21.574187\n",
      "station_H04S1_2018-station_NEAMS_2018 : 0:35:35.590002\n",
      "station_H04S1_2018-station_RTJ_2018 : 0:34:45.003349\n",
      "station_H04S1_2018-station_SSEIR_2018 : 0:24:32.190899\n",
      "station_H04S1_2018-station_SSWIR_2018 : 0:10:25.086332\n",
      "station_H04S1_2018-station_SWAMS-bot_2018 : 0:20:40.667207\n",
      "station_H04S1_2018-station_WKER2_2018 : 0:07:26.159969\n",
      "station_H04S1_2018-station_MADE_2017 : 0:30:24.472590\n",
      "station_H04S1_2018-station_MADW_2017 : 0:22:21.312322\n",
      "station_H04S1_2018-station_NEAMS_2017 : 0:35:35.607776\n",
      "station_H04S1_2018-station_SSEIR_2017 : 0:24:32.389917\n",
      "station_H04S1_2018-station_SWAMS_2017 : 0:20:40.871156\n",
      "station_H04S1_2018-station_WKER2_2017 : 0:07:26.148988\n",
      "station_H04S1_2018-station_H01W1_2018 : 0:59:19.338094\n",
      "station_H04S1_2018-station_H04N1_2018 : 0:00:51.550741\n",
      "station_H04S1_2018-station_H04S1_2018 : 0:00:00\n",
      "station_H04S1_2018-station_H08S1_2018 : 0:53:40.047165\n",
      "station_H08S1_2018-station_ELAN_2018 : 1:01:41.398639\n",
      "station_H08S1_2018-station_MADE_2018 : 0:23:33.483661\n",
      "station_H08S1_2018-station_MADW_2018 : 0:34:15.996435\n",
      "station_H08S1_2018-station_NEAMS_2018 : 0:32:22.967558\n",
      "station_H08S1_2018-station_RTJ_2018 : 0:20:51.278469\n",
      "station_H08S1_2018-station_SSEIR_2018 : 0:32:18.851878\n",
      "station_H08S1_2018-station_SSWIR_2018 : 0:44:25.857904\n",
      "station_H08S1_2018-station_SWAMS-bot_2018 : 0:44:06.895487\n",
      "station_H08S1_2018-station_WKER2_2018 : 0:50:17.162773\n",
      "station_H08S1_2018-station_MADE_2017 : 0:23:32.916787\n",
      "station_H08S1_2018-station_MADW_2017 : 0:34:16.097332\n",
      "station_H08S1_2018-station_NEAMS_2017 : 0:32:22.868915\n",
      "station_H08S1_2018-station_SSEIR_2017 : 0:32:18.636119\n",
      "station_H08S1_2018-station_SWAMS_2017 : 0:44:06.745668\n",
      "station_H08S1_2018-station_WKER2_2017 : 0:50:17.189236\n",
      "station_H08S1_2018-station_H01W1_2018 : 0:58:42.549003\n",
      "station_H08S1_2018-station_H04N1_2018 : 0:52:59.894887\n",
      "station_H08S1_2018-station_H04S1_2018 : 0:53:40.047165\n",
      "station_H08S1_2018-station_H08S1_2018 : 0:00:00\n"
     ]
    }
   ],
   "execution_count": 7
  },
  {
   "metadata": {},
   "cell_type": "markdown",
   "source": "### Study of clustering",
   "id": "c632e31bed27d765"
  },
  {
   "metadata": {
    "ExecuteTime": {
     "end_time": "2024-09-25T14:02:00.589825Z",
     "start_time": "2024-09-25T14:02:00.584520Z"
    }
   },
   "cell_type": "code",
   "source": "make_study = False",
   "id": "5bdc340ec48f3507",
   "outputs": [],
   "execution_count": 8
  },
  {
   "metadata": {
    "ExecuteTime": {
     "end_time": "2024-09-25T14:46:43.822536Z",
     "start_time": "2024-09-25T14:46:40.346361Z"
    }
   },
   "cell_type": "code",
   "source": [
    "max_allowed_delta = 50\n",
    "\n",
    "# compute distances of close in time events, expected run time ~2 min for 10,000 events with max_allowed_delta = 50 days\n",
    "idx_last_valid = 0\n",
    "delta_km = {}\n",
    "delta_d = {}\n",
    "delta = {}\n",
    "IDs = list(isc.items.keys())\n",
    "for i, (ID, isc_event) in tqdm(enumerate(isc.items.items()), total=len(IDs)):\n",
    "    if i==0:\n",
    "        continue\n",
    "    date, pos = isc_event.date, isc_event.get_pos()\n",
    "    \n",
    "    # peremption of clusters (by date)\n",
    "    while idx_last_valid < i and isc[IDs[idx_last_valid]].date < date - datetime.timedelta(days=max_allowed_delta):\n",
    "        idx_last_valid += 1\n",
    "        \n",
    "    dates, poss = [], []\n",
    "    for idx in range(idx_last_valid, i):\n",
    "        poss.append(isc[IDs[idx]].get_pos())\n",
    "        dates.append(isc[IDs[idx]].date)\n",
    "    dates, poss = np.array(dates), np.array(poss)\n",
    "    # approximation of 1) loxodromy and 2) constant deg to km conversion ; acceptable because small distances and \"far\" from pole\n",
    "    deltas_km = np.sqrt((poss[:,0]-pos[0])**2+(poss[:,1]-pos[1])**2)*111\n",
    "    deltas_d = np.array([d.total_seconds() / 86400 for d in np.abs(dates - date)])\n",
    "    deltas = np.sqrt(deltas_km ** 2 + deltas_d ** 2)\n",
    "    \n",
    "    for idx in range(idx_last_valid, i):\n",
    "        ID_ = IDs[idx]\n",
    "        delta_km.setdefault(ID, {})[ID_] = deltas_km[idx-idx_last_valid]\n",
    "        delta_d.setdefault(ID, {})[ID_] = deltas_d[idx-idx_last_valid]\n",
    "        delta.setdefault(ID, {})[ID_] = deltas[idx-idx_last_valid]\n",
    "\n",
    "# make it symmetric, expected run time ~ 40 s for above conditions\n",
    "for ID in IDs:\n",
    "    for ID_ in delta.setdefault(ID, {}).keys():\n",
    "        delta_km.setdefault(ID_, {})[ID] = delta_km[ID][ID_]\n",
    "        delta_d.setdefault(ID_, {})[ID] = delta_d[ID][ID_]\n",
    "        delta.setdefault(ID_, {})[ID] = delta[ID][ID_]"
   ],
   "id": "6b07cbb3fbcf488e",
   "outputs": [
    {
     "data": {
      "text/plain": [
       "  0%|          | 0/1467 [00:00<?, ?it/s]"
      ],
      "application/vnd.jupyter.widget-view+json": {
       "version_major": 2,
       "version_minor": 0,
       "model_id": "71d3cf5f633a4f99b0806abdf6913852"
      }
     },
     "metadata": {},
     "output_type": "display_data"
    }
   ],
   "execution_count": 59
  },
  {
   "metadata": {
    "ExecuteTime": {
     "end_time": "2024-09-25T14:02:18.330864Z",
     "start_time": "2024-09-25T14:02:18.323449Z"
    }
   },
   "cell_type": "code",
   "source": [
    "# expected run time of 30 min for above conditions\n",
    "def get_valid(allowed_delta, delta, IDs):\n",
    "    valid = {ID: {} for ID in IDs}\n",
    "    for ID in tqdm(IDs, leave=False):\n",
    "        for ID_ in IDs:\n",
    "            if (ID_ in delta[ID] and delta[ID][ID_] < allowed_delta) or ID == ID_:\n",
    "                valid[ID][ID_] = True\n",
    "    return valid\n",
    "\n",
    "if make_study:\n",
    "    allowed_deltas_to_try = list(range(1, max_allowed_delta))\n",
    "    valid = {a_d: {ID: {} for ID in IDs} for a_d in allowed_deltas_to_try}\n",
    "    for allowed_delta in tqdm(allowed_deltas_to_try):\n",
    "        valid = get_valid(allowed_delta, delta, IDs)"
   ],
   "id": "ca5de342a87d71b4",
   "outputs": [],
   "execution_count": 10
  },
  {
   "metadata": {
    "ExecuteTime": {
     "end_time": "2024-09-25T14:02:18.465820Z",
     "start_time": "2024-09-25T14:02:18.458437Z"
    }
   },
   "cell_type": "code",
   "source": [
    "def add_to_cluster(current_clusters, ID_to_cluster, ID, cluster_idx):\n",
    "    current_clusters[cluster_idx].append(ID)\n",
    "    ID_to_cluster[ID] = cluster_idx\n",
    "\n",
    "def merge_clusters(current_clusters, ID_to_cluster, cluster_1_idx, cluster_2_idx):\n",
    "    for ID in current_clusters[cluster_2_idx]:\n",
    "        add_to_cluster(current_clusters, ID_to_cluster, ID, cluster_1_idx)\n",
    "    del current_clusters[cluster_2_idx]\n",
    "    \n",
    "def get_clusters(IDs, valid):\n",
    "    clusters = {}\n",
    "    ID_to_cluster = {}\n",
    "    for ID in tqdm(IDs, leave=False):\n",
    "        if ID not in ID_to_cluster:\n",
    "            new_cluster_key = np.max(list(clusters.keys())+[0])+1 # + [0] to handle empty list case\n",
    "            clusters[new_cluster_key] = []\n",
    "            add_to_cluster(clusters, ID_to_cluster, ID, new_cluster_key)\n",
    "        \n",
    "        for ID_ in valid[ID].keys():\n",
    "            if ID_ in ID_to_cluster:\n",
    "                if ID in ID_to_cluster and ID_to_cluster[ID] != ID_to_cluster[ID_]:\n",
    "                    merge_clusters(clusters, ID_to_cluster, ID_to_cluster[ID], ID_to_cluster[ID_])\n",
    "            else:\n",
    "                add_to_cluster(clusters, ID_to_cluster, ID_, ID_to_cluster[ID])         \n",
    "    return clusters\n",
    "\n",
    "if make_study:\n",
    "    clusters = {}\n",
    "    for allowed_delta in tqdm(allowed_deltas_to_try):\n",
    "        clusters[allowed_delta] = get_clusters(IDs, valid[allowed_delta])"
   ],
   "id": "dd496ab9f4f2e63a",
   "outputs": [],
   "execution_count": 11
  },
  {
   "metadata": {
    "ExecuteTime": {
     "end_time": "2024-09-25T14:02:18.752203Z",
     "start_time": "2024-09-25T14:02:18.742640Z"
    }
   },
   "cell_type": "code",
   "source": [
    "if make_study:\n",
    "    med_nb, med_delta, med_delta_km, med_delta_d, max_nb, max_delta, max_delta_km, max_delta_d = {}, {}, {}, {}, {}, {}, {}, {}\n",
    "    \n",
    "    for a_d, current_clusters in tqdm(clusters.items()):\n",
    "        nb = []\n",
    "        \n",
    "        d, d_km, d_d = [], [], []\n",
    "        for cluster in tqdm(current_clusters.values(), leave=False):\n",
    "            nb.append(len(cluster))\n",
    "            d_, d_km_, d_d_ = [], [], []\n",
    "            if len(cluster) > 1:\n",
    "                for ID in cluster:\n",
    "                    for ID_ in cluster:\n",
    "                        if ID_ not in delta[ID]:  # they were too distant away (in time) to have a delta\n",
    "                            pos1, pos2, date1, date2 = isc[ID].get_pos(), isc[ID_].get_pos(), isc[ID].date, isc[ID_].date\n",
    "                            delta_km[ID][ID_] = np.sqrt((pos1[0]-pos2[0])**2+(pos1[1]-pos2[1])**2)*111\n",
    "                            delta_km[ID_][ID] = delta_km[ID][ID_]\n",
    "                            delta_d[ID][ID_] = np.abs(date1-date2).total_seconds() / 86400\n",
    "                            delta_d[ID_][ID] = delta_d[ID][ID_]\n",
    "                            delta[ID][ID_] = np.sqrt(delta_km[ID][ID_] ** 2 + delta_d[ID][ID_] ** 2)\n",
    "                            delta[ID_][ID] = delta[ID][ID_]\n",
    "                        d_.append(delta[ID][ID_])\n",
    "                        d_km_.append(delta_km[ID][ID_])\n",
    "                        d_d_.append(delta_d[ID][ID_])\n",
    "                d.append(np.max(d_))\n",
    "                d_km.append(np.max(d_km_))\n",
    "                d_d.append(np.max(d_d_))\n",
    "        med_nb[a_d] = np.median(nb)\n",
    "        med_delta[a_d] = np.median(d)\n",
    "        med_delta_km[a_d] = np.median(d_km)\n",
    "        med_delta_d[a_d] = np.median(d_d)\n",
    "        max_nb[a_d] = np.max(nb)\n",
    "        max_delta[a_d] = np.max(d)\n",
    "        max_delta_km[a_d] = np.max(d_km)\n",
    "        max_delta_d[a_d] = np.max(d_d)"
   ],
   "id": "8d4c42964ea357e3",
   "outputs": [],
   "execution_count": 12
  },
  {
   "metadata": {
    "ExecuteTime": {
     "end_time": "2024-09-25T14:02:18.773014Z",
     "start_time": "2024-09-25T14:02:18.767699Z"
    }
   },
   "cell_type": "code",
   "source": [
    "from matplotlib import pyplot as plt\n",
    "\n",
    "if make_study:\n",
    "    plt.scatter(list(med_nb.keys()), list(med_nb.values()), label=\"med nb of events per cluster\")\n",
    "    plt.scatter(list(max_nb.keys()), list(max_nb.values()), label=\"max nb of events per cluster\")\n",
    "    plt.legend()\n",
    "    plt.xlabel(\"max allowed delta\")\n",
    "    plt.ylabel(\"nb of events per cluster\")"
   ],
   "id": "d20c929b04a3e48",
   "outputs": [],
   "execution_count": 13
  },
  {
   "metadata": {
    "ExecuteTime": {
     "end_time": "2024-09-25T14:02:18.930573Z",
     "start_time": "2024-09-25T14:02:18.922903Z"
    }
   },
   "cell_type": "code",
   "source": [
    "if make_study:\n",
    "    plt.scatter(list(med_delta.keys()), list(med_delta.values()), label=\"med delta\")\n",
    "    plt.scatter(list(med_delta_km.keys()), list(med_delta_km.values()), label=\"med delta km\")\n",
    "    plt.scatter(list(med_delta_d.keys()), list(med_delta_d.values()), label=\"med delta d\")\n",
    "    plt.legend()\n",
    "    plt.xlabel(\"max allowed delta\")\n",
    "    plt.ylabel(\"km or days\")"
   ],
   "id": "6084b57b0f513f2f",
   "outputs": [],
   "execution_count": 14
  },
  {
   "metadata": {
    "ExecuteTime": {
     "end_time": "2024-09-25T14:02:19.311221Z",
     "start_time": "2024-09-25T14:02:19.303363Z"
    }
   },
   "cell_type": "code",
   "source": [
    "if make_study:\n",
    "    plt.scatter(list(max_delta.keys()), list(max_delta.values()), label=\"max delta\")\n",
    "    plt.scatter(list(max_delta_km.keys()), list(max_delta_km.values()), label=\"max delta km\")\n",
    "    plt.scatter(list(max_delta_d.keys()), list(max_delta_d.values()), label=\"max delta d\")\n",
    "    plt.legend()\n",
    "    plt.xlabel(\"max allowed delta\")\n",
    "    plt.ylabel(\"km or days\")"
   ],
   "id": "637b938300b6515e",
   "outputs": [],
   "execution_count": 15
  },
  {
   "metadata": {
    "ExecuteTime": {
     "end_time": "2024-09-25T14:48:13.670727Z",
     "start_time": "2024-09-25T14:48:12.802417Z"
    }
   },
   "cell_type": "code",
   "source": [
    "allowed_delta = 30\n",
    "valid_ = get_valid(allowed_delta, delta, IDs)\n",
    "clusters_ = get_clusters(IDs, valid_)"
   ],
   "id": "6bade5f863ab41ea",
   "outputs": [
    {
     "data": {
      "text/plain": [
       "  0%|          | 0/1467 [00:00<?, ?it/s]"
      ],
      "application/vnd.jupyter.widget-view+json": {
       "version_major": 2,
       "version_minor": 0,
       "model_id": "cbc137a5d1354618bec135b869d26579"
      }
     },
     "metadata": {},
     "output_type": "display_data"
    },
    {
     "data": {
      "text/plain": [
       "  0%|          | 0/1467 [00:00<?, ?it/s]"
      ],
      "application/vnd.jupyter.widget-view+json": {
       "version_major": 2,
       "version_minor": 0,
       "model_id": "a1590f1248394393b73b4ef68f4938a5"
      }
     },
     "metadata": {},
     "output_type": "display_data"
    }
   ],
   "execution_count": 65
  },
  {
   "metadata": {
    "ExecuteTime": {
     "end_time": "2024-09-25T14:48:14.190577Z",
     "start_time": "2024-09-25T14:48:14.167701Z"
    }
   },
   "cell_type": "code",
   "source": [
    "res = \"\"\n",
    "for id, cluster in clusters_.items():\n",
    "    if len(cluster)>1:\n",
    "        for ID in cluster:\n",
    "            res += f\"{isc[ID].get_pos()[0]},{isc[ID].get_pos()[1]},{id}\\n\"\n",
    "with open(\"res.csv\", \"w\") as f:\n",
    "    f.write(res)\n",
    "    \n",
    "date_min = [np.min([isc[ID].date for ID in cluster]) for cluster in clusters_.values()]\n",
    "clusters_ = list(clusters_.values())\n",
    "clusters_ = [clusters_[i] for i in np.argsort(date_min)]"
   ],
   "id": "e9c273ef6dccede7",
   "outputs": [],
   "execution_count": 66
  },
  {
   "metadata": {
    "ExecuteTime": {
     "end_time": "2024-09-25T14:48:15.310733Z",
     "start_time": "2024-09-25T14:48:15.090122Z"
    }
   },
   "cell_type": "code",
   "source": [
    "MIN_PROBA = 0.4\n",
    "merged_detections_kept = merged_detections[merged_detections[:,1]>MIN_PROBA]\n",
    "print(f\"{len(merged_detections_kept)} detections kept out of {len(merged_detections)}\")"
   ],
   "id": "8d96e37470f7c6e2",
   "outputs": [
    {
     "name": "stdout",
     "output_type": "stream",
     "text": [
      "473199 detections kept out of 5229255\n"
     ]
    }
   ],
   "execution_count": 67
  },
  {
   "metadata": {
    "ExecuteTime": {
     "end_time": "2024-09-25T15:28:50.350442Z",
     "start_time": "2024-09-25T15:28:50.338720Z"
    }
   },
   "cell_type": "code",
   "source": [
    "def find_candidates(detections, detection, d_h, seen_dates, tolerance, min_p=0):\n",
    "    date, embedding, s1 = detection[0], detection[2], detection[-1]\n",
    "    if date in seen_dates:\n",
    "        return []\n",
    "    candidates = []\n",
    "    for s2 in detections.keys():\n",
    "        candidates.append([])\n",
    "        detections_s2 = detections[s2]\n",
    "        idx_min = np.searchsorted(detections[s2][:,0], date + d_h[s1][s2] - tolerance, side='right')\n",
    "        idx = idx_min  # note : iterating like this instead of finding max with searchsorted is way more efficent\n",
    "        while idx < len(detections[s2]) and detections[s2][idx,0] < date + d_h[s1][s2] + tolerance:\n",
    "            det = detections_s2[idx]\n",
    "            if det[0] not in seen_dates and det[1]>min_p:\n",
    "                delta_embedding = np.sqrt(np.sum(np.square(det[2] - embedding))) / np.sqrt(16)\n",
    "                if det[0] not in seen_dates:\n",
    "                    candidates[-1].append((det[0], det[1], delta_embedding, s2))\n",
    "            idx += 1\n",
    "        if len(candidates[-1]) == 0:\n",
    "            candidates = candidates[:-1]\n",
    "        else:\n",
    "            candidates[-1] = np.array(candidates[-1])\n",
    "    return candidates\n",
    "\n",
    "def best_matchup(scores, nb, to_skip=0):\n",
    "    scores_merged = []\n",
    "    for i in range(len(scores)):\n",
    "        for j, s in enumerate(scores[i]):\n",
    "            scores_merged.append((i, j, s))\n",
    "\n",
    "    scores_merged.sort(key=lambda x: x[2])\n",
    "    selected = []\n",
    "    chosen_idxs = set()\n",
    "    idx = 0\n",
    "    n_skipped = 0\n",
    "    while len(selected) != nb:\n",
    "        i, j, s = scores_merged[idx]\n",
    "        if i not in chosen_idxs:\n",
    "            if len(selected) == nb - 1:\n",
    "                if n_skipped < to_skip:\n",
    "                    n_skipped += 1\n",
    "                    continue\n",
    "            selected.append((i, j))\n",
    "            chosen_idxs.add(i)\n",
    "        idx += 1\n",
    "    return selected"
   ],
   "id": "8b5eb55928d64a93",
   "outputs": [],
   "execution_count": 97
  },
  {
   "metadata": {
    "jupyter": {
     "is_executing": true
    },
    "ExecuteTime": {
     "start_time": "2024-09-25T15:28:51.329779Z"
    }
   },
   "cell_type": "code",
   "source": [
    "import copy\n",
    "from associator import locate\n",
    "\n",
    "TOLERANCE = datetime.timedelta(seconds=50)\n",
    "NB = 4\n",
    "RES_FILE = \"matchups_clusters.csv\"\n",
    "MIN_PROBA_MATES = 0.2\n",
    "\n",
    "for cluster in tqdm(clusters_):\n",
    "    # 1 ) update expected time shift between hydrophones\n",
    "    # 2 ) define allowed deviation from this estimate\n",
    "    # 3 ) look for first event or two matching this (high expectation of nb of stations ?), using time bounds of +/-selected_allowed_delta days\n",
    "    # 4 ) use the time shift of this event as a new baseline\n",
    "    # 5 ) detect all events\n",
    "    if len(cluster) > 1:\n",
    "        centroid = np.mean([isc[ID].get_pos() for ID in cluster], axis=0)\n",
    "        dates = [isc[ID].date for ID in cluster]\n",
    "        date_min, date_max = np.min(dates), np.max(dates)\n",
    "        date_mid = date_min + (date_max - date_min)/2\n",
    "        \n",
    "        expected = {s: sound_model_h.get_sound_travel_time(centroid, s.get_pos(), date=date_mid) for s in stations}\n",
    "        # d_h[s1][s2] = given a detection on s1, time to wait before getting it on s2 (can be negative)\n",
    "        d_h = {s1: {s2: datetime.timedelta(seconds=expected[s2]-expected[s1]) for s2 in stations} for s1 in stations}\n",
    "        \n",
    "        # in bounds search! (inter-search)\n",
    "        idx_detections, seen_dates = {s: 0 for s in stations}, set()\n",
    "        idx_min = np.searchsorted(merged_detections_kept[:,0], date_min, side='right')\n",
    "        idx_max = np.searchsorted(merged_detections_kept[:,0], date_max, side='left')\n",
    "        print(idx_min, idx_max)\n",
    "        for idx in tqdm(range(idx_min, idx_max), leave=False):\n",
    "            detection = merged_detections_kept[idx]\n",
    "            candidates = find_candidates(detections, detection, d_h, seen_dates=seen_dates, tolerance=TOLERANCE, min_p=MIN_PROBA_MATES)\n",
    "            #print(len(candidates))\n",
    "            if len(candidates) < NB:\n",
    "                continue\n",
    "            scores = [c[:, 2] for c in candidates]\n",
    "            best_m = best_matchup(scores, nb=NB)\n",
    "            \n",
    "            matchup = [detection] + [candidates[i][j] for i, j in best_m]\n",
    "            loc_res = locate(matchup, sound_model_h, 500)\n",
    "    \n",
    "            # in case it worked, go further\n",
    "            if loc_res:\n",
    "                loc_res = locate(matchup, sound_model_g, 300, initial_pos=loc_res.x[1:])\n",
    "                if loc_res:\n",
    "                    det_times = [date] + [c[0] for c in matchup]\n",
    "                    date_event = np.min(det_times) + datetime.timedelta(seconds=loc_res.x[0])\n",
    "    \n",
    "                    # add other stations\n",
    "                    changed = False\n",
    "                    loc_res_updated = copy.deepcopy(loc_res)\n",
    "                    matchup_updated = copy.deepcopy(matchup)\n",
    "    \n",
    "                    seen_stations = set([c[-1] for c in matchup])\n",
    "                    for c in candidates:\n",
    "                        if c[0][-1] in seen_stations:\n",
    "                            continue\n",
    "                        expected_time = date_event + datetime.timedelta(\n",
    "                            seconds=sound_model_h.get_sound_travel_time(c[0][-1].get_pos(), loc_res_updated.x[1:]))\n",
    "                        found = False\n",
    "                        for chosen in c:\n",
    "                            if np.abs(chosen[0] - expected_time).total_seconds() < 10:\n",
    "                                found = True\n",
    "                                break\n",
    "                        if not found:\n",
    "                            continue\n",
    "                        matchup_updated = matchup_updated + [chosen]\n",
    "                        loc_res_new = locate(matchup_updated, sound_model_h, 500)\n",
    "                        if loc_res_new:  # update location\n",
    "                            changed = True\n",
    "                            seen_stations.add(chosen[-1])\n",
    "                            loc_res_updated = loc_res_new\n",
    "                        else:  # rollback\n",
    "                            matchup_updated = matchup_updated[:-1]\n",
    "    \n",
    "                    if changed:\n",
    "                        loc_res_new = locate(matchup_updated, sound_model_g, 300, initial_pos=loc_res_updated.x[1:])\n",
    "                        if loc_res_new:\n",
    "                            loc_res = loc_res_new\n",
    "                            matchup = matchup_updated\n",
    "                    if loc_res:\n",
    "                        det_times = [date] + [c[0] for c in matchup]\n",
    "                        for d in det_times:\n",
    "                            seen_dates.add(d)  # to avoid using the same detection twice\n",
    "                        date_event = np.min(det_times) + datetime.timedelta(seconds=loc_res.x[0])\n",
    "                        try:\n",
    "                            J = loc_res.jac\n",
    "                            cov = np.linalg.inv(J.T.dot(J))\n",
    "                            var = np.sqrt(np.diagonal(cov))\n",
    "                        except:\n",
    "                            var = [-1, -1, -1]\n",
    "    \n",
    "                        to_write = f'{date_event.strftime(\"%Y%m%d_%H%M%S\")},{loc_res.x[1]:.4f},{loc_res.x[2]:.4f},{var[0]:.4f},{var[1]:.4f},{var[2]:.4f}'\n",
    "                        for d, _, _, s in matchup:\n",
    "                            to_write += f',{s.name}-{s.date_start.year},{d.strftime(\"%Y%m%d_%H%M%S\")}'\n",
    "                        with open(RES_FILE, \"a\") as f:\n",
    "                            f.write(to_write + \"\\n\")"
   ],
   "id": "bf7f5e0cd51d7605",
   "outputs": [
    {
     "data": {
      "text/plain": [
       "  0%|          | 0/776 [00:00<?, ?it/s]"
      ],
      "application/vnd.jupyter.widget-view+json": {
       "version_major": 2,
       "version_minor": 0,
       "model_id": "8d5968cd4a994c4cad08e94049dd6978"
      }
     },
     "metadata": {},
     "output_type": "display_data"
    },
    {
     "name": "stdout",
     "output_type": "stream",
     "text": [
      "4211 16335\n"
     ]
    },
    {
     "data": {
      "text/plain": [
       "  0%|          | 0/12124 [00:00<?, ?it/s]"
      ],
      "application/vnd.jupyter.widget-view+json": {
       "version_major": 2,
       "version_minor": 0,
       "model_id": "2f7daa46f03f4d93b23e24cd12f301fb"
      }
     },
     "metadata": {},
     "output_type": "display_data"
    }
   ],
   "execution_count": null
  },
  {
   "metadata": {},
   "cell_type": "code",
   "outputs": [],
   "execution_count": null,
   "source": "",
   "id": "be8760fa83f85c21"
  }
 ],
 "metadata": {
  "kernelspec": {
   "display_name": "Python 3",
   "language": "python",
   "name": "python3"
  },
  "language_info": {
   "codemirror_mode": {
    "name": "ipython",
    "version": 2
   },
   "file_extension": ".py",
   "mimetype": "text/x-python",
   "name": "python",
   "nbconvert_exporter": "python",
   "pygments_lexer": "ipython2",
   "version": "2.7.6"
  }
 },
 "nbformat": 4,
 "nbformat_minor": 5
}
