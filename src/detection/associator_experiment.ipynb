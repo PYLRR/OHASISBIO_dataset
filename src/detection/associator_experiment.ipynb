{
 "cells": [
  {
   "cell_type": "code",
   "id": "initial_id",
   "metadata": {
    "collapsed": true,
    "ExecuteTime": {
     "end_time": "2024-10-11T16:09:55.366933768Z",
     "start_time": "2024-10-11T16:09:49.349832Z"
    }
   },
   "source": [
    "import copy\n",
    "import datetime\n",
    "import pickle\n",
    "from pathlib import Path\n",
    "\n",
    "import glob2\n",
    "import numpy as np\n",
    "from tqdm.notebook import tqdm\n",
    "\n",
    "from matplotlib import pyplot as plt\n",
    "from scipy.stats import t as student\n",
    "from associator import locate\n",
    "from utils.data_reading.catalogs.ISC import ISC_file\n",
    "from utils.data_reading.sound_data.station import StationsCatalog\n",
    "from utils.physics.bathymetry.bathymetry_grid import BathymetryGrid\n",
    "from utils.physics.sound.sound_model import HomogeneousSoundModel\n",
    "from utils.physics.sound.sound_velocity_grid import MonthlySoundVelocityGridOptimized\n",
    "from utils.data_reading.sound_data.sound_file_manager import NpyFilesManager\n",
    "\n",
    "from utils.transformations.features_extractor import STFTFeaturesExtractor\n",
    "import torch\n",
    "from torchvision.transforms import Resize\n",
    "from utils.training.embedder import Embedder, EmbedderSegmenter\n"
   ],
   "outputs": [
    {
     "name": "stderr",
     "output_type": "stream",
     "text": [
      "/home/plerolland/.local/lib/python3.10/site-packages/matplotlib/projections/__init__.py:63: UserWarning: Unable to import Axes3D. This may be due to multiple versions of Matplotlib being installed (e.g. as a system package and as a pip package). As a result, the 3D projection is not available.\n",
      "  warnings.warn(\"Unable to import Axes3D. This may be due to multiple versions of \"\n"
     ]
    }
   ],
   "execution_count": null
  },
  {
   "metadata": {
    "ExecuteTime": {
     "end_time": "2024-10-08T17:04:55.436247Z",
     "start_time": "2024-10-08T17:04:54.965129Z"
    }
   },
   "cell_type": "code",
   "source": [
    "datasets_yaml = \"/home/plerolland/Bureau/dataset.yaml\"\n",
    "sound_model_h = HomogeneousSoundModel()\n",
    "sound_model_g = MonthlySoundVelocityGridOptimized(\n",
    "    [f\"../../data/sound_model/min-velocities_month-{i:02d}.nc\" for i in range(1, 13)], interpolate=True)\n",
    "#bathy_model = BathymetryGrid.create_from_NetCDF(\"../../data/geo/GEBCO_2023_sub_ice_topo.nc\", lat_bounds=[-75, 35],\n",
    "#                                                lon_bounds=[-20, 180])\n",
    "year = 2012\n",
    "stations_c = StationsCatalog(datasets_yaml).filter_out_undated().filter_out_unlocated().starts_before(datetime.datetime(year+1,1,1)).ends_after(datetime.datetime(year,1,1))\n",
    "#isc_file = f\"/home/plerolland/Bureau/catalogs/ISC/eqk_isc_{year}.txt\"\n",
    "#isc = ISC_file(isc_file)\n",
    "MIN_P = 0.4\n",
    "MIN_P_MATES = 0.2\n",
    "NB = 3\n",
    "TOLERANCE = datetime.timedelta(seconds=20)\n",
    "ALLOWED_DELTA = 30  # for ISC clustering\n",
    "TIME_DELTA_SEARCH = datetime.timedelta(seconds=5*86400)\n",
    "RES_FILE = f\"../../data/detections/{year}/matchups_clusters_loc.csv\"\n",
    "\n",
    "TIME_RES = 0.5 # duration, in s, of a sample in the associator results\n",
    "HALF_FOCUS_SIZE = 32  # window to compare for associator\n",
    "MAX_SHIFT = 32  # max allowed shift resulting from associator\n",
    "\n",
    "embedder_checkpoint = \"../../data/model_saves/embedder/torch_save_segmenter\"\n",
    "model_embedder = torch.load(embedder_checkpoint, map_location='cpu')"
   ],
   "id": "3cb8959628953d39",
   "outputs": [],
   "execution_count": 2
  },
  {
   "metadata": {
    "ExecuteTime": {
     "end_time": "2024-10-08T17:05:31.646116Z",
     "start_time": "2024-10-08T17:04:55.522593Z"
    }
   },
   "cell_type": "code",
   "source": [
    "to_read = glob2.glob(f\"../../data/detections/{year}/*.p\")\n",
    "detections = {}\n",
    "\n",
    "for file in tqdm(to_read):\n",
    "    info = file.split(\"_\")[-1][:-2].split(\"-\")\n",
    "    name, year = \"-\".join(info[:-1]), int(info[-1])\n",
    "    station = stations_c.by_starting_year(year).by_names(name)[0]\n",
    "    detections[station] = []\n",
    "    with open(file, \"rb\") as f:\n",
    "        while True:\n",
    "            try:\n",
    "                detections[station].append(pickle.load(f))\n",
    "            except EOFError:\n",
    "                break\n",
    "    detections[station] = np.array(detections[station], dtype=np.object_)\n",
    "    detections[station] = detections[station][np.argsort(detections[station][:,0])]"
   ],
   "id": "d3fad9f84a8a4dfa",
   "outputs": [
    {
     "data": {
      "text/plain": [
       "  0%|          | 0/15 [00:00<?, ?it/s]"
      ],
      "application/vnd.jupyter.widget-view+json": {
       "version_major": 2,
       "version_minor": 0,
       "model_id": "338cdd4165414796904304519f5111fb"
      }
     },
     "metadata": {},
     "output_type": "display_data"
    }
   ],
   "execution_count": 3
  },
  {
   "metadata": {
    "ExecuteTime": {
     "end_time": "2024-10-08T17:05:31.790209Z",
     "start_time": "2024-10-08T17:05:31.663783Z"
    }
   },
   "cell_type": "code",
   "source": [
    "year = 2012\n",
    "station = list(detections.keys())[0]\n",
    "embedding_manager = NpyFilesManager(f\"../../data/detections/{year}/embedding_{year}_{station.name}-{station.date_start.year}\")\n",
    "manager = station.get_manager()\n",
    "stft_computer = STFTFeaturesExtractor(manager, vmin=60, vmax=140)"
   ],
   "id": "3a86d3d0a5fa97ca",
   "outputs": [],
   "execution_count": 4
  },
  {
   "metadata": {
    "ExecuteTime": {
     "end_time": "2024-10-08T17:05:34.335555Z",
     "start_time": "2024-10-08T17:05:31.823537Z"
    }
   },
   "cell_type": "code",
   "source": [
    "dets = detections[station]\n",
    "dets = dets[np.argsort(dets[:,1])[::-1]]\n",
    "det = dets[1]\n",
    "\n",
    "print(dets[0])\n",
    "delta = datetime.timedelta(seconds=60)\n",
    "\n",
    "data = manager.getSegment(det[0]-delta, det[0]+delta)\n",
    "embedding = embedding_manager.getSegment(det[0]-delta, det[0]+delta)\n",
    "\n",
    "print(embedding.shape)\n",
    "f, t, spectro = stft_computer._get_features(data)\n",
    "plt.imshow(spectro, aspect=\"auto\", extent=(t[0],t[-1],f[-1],f[0]), cmap=\"jet\", vmin=0, vmax=255)\n",
    "plt.figure()\n",
    "plt.imshow(embedding, aspect=\"auto\", extent=(t[0],t[-1],0, 15), cmap=\"jet\", vmin=-1, vmax=1)\n",
    "\n",
    "data = 2*(spectro[np.newaxis, :, :] / 255 - 0.5).astype(np.float32)\n",
    "data = Resize((64, data.shape[-1]))(torch.from_numpy(data))\n",
    "with torch.no_grad():\n",
    "    res = model_embedder(data)\n",
    "plt.figure()\n",
    "plt.imshow(res, aspect=\"auto\", extent=(t[0],t[-1],0, 15), cmap=\"jet\", vmin=-1, vmax=1)"
   ],
   "id": "be8cd0d7687c5bb1",
   "outputs": [
    {
     "name": "stdout",
     "output_type": "stream",
     "text": [
      "[datetime.datetime(2012, 12, 9, 15, 21, 56, 743590) 0.954]\n",
      "(16, 239)\n"
     ]
    },
    {
     "data": {
      "text/plain": [
       "<matplotlib.image.AxesImage at 0x75b6c742d840>"
      ]
     },
     "execution_count": 5,
     "metadata": {},
     "output_type": "execute_result"
    },
    {
     "data": {
      "text/plain": [
       "<Figure size 640x480 with 1 Axes>"
      ],
      "image/png": "[encoded data removed]"
     },
     "metadata": {},
     "output_type": "display_data"
    },
    {
     "data": {
      "text/plain": [
       "<Figure size 640x480 with 1 Axes>"
      ],
      "image/png": "[encoded data removed]"
     },
     "metadata": {},
     "output_type": "display_data"
    },
    {
     "data": {
      "text/plain": [
       "<Figure size 640x480 with 1 Axes>"
      ],
      "image/png": "[encoded data removed]"
     },
     "metadata": {},
     "output_type": "display_data"
    }
   ],
   "execution_count": 5
  },
  {
   "metadata": {
    "ExecuteTime": {
     "end_time": "2024-10-08T17:05:35.618726Z",
     "start_time": "2024-10-08T17:05:34.419722Z"
    }
   },
   "cell_type": "code",
   "source": [
    "from huge_dataset_project.PickLoader import PickFile\n",
    "from huge_dataset_project.InputLoader import InputFile\n",
    "from scipy.signal import find_peaks\n",
    "\n",
    "\n",
    "def get_embedding(embedding_managers, station, date):\n",
    "    m = embedding_managers[station]\n",
    "    return m.getSegment(date-datetime.timedelta(seconds=TIME_RES*(MAX_SHIFT+HALF_FOCUS_SIZE+1)), date+datetime.timedelta(seconds=TIME_RES*(MAX_SHIFT+HALF_FOCUS_SIZE+1)))\n",
    "\n",
    "def get_closest_detection(detection_dates, date):\n",
    "    idx = np.searchsorted(detection_dates, date)\n",
    "    if idx > 0 and np.abs(detection_dates[idx-1] - date) < np.abs(detection_dates[idx] - date):\n",
    "        idx = idx - 1\n",
    "    elif idx < len(detection_dates)-1 and np.abs(detection_dates[idx+1] - date) < np.abs(detection_dates[idx] - date):\n",
    "        idx = idx + 1\n",
    "    return idx\n",
    "\n",
    "def find_shift(anchor_embedding, detection_embedding, max_diff=0.4):\n",
    "    center = embedding_anchor.shape[1]//2\n",
    "    anchor_embedding = anchor_embedding[:, center-HALF_FOCUS_SIZE:center+HALF_FOCUS_SIZE]\n",
    "    \n",
    "    detection_embedding = [detection_embedding[:, center+i-HALF_FOCUS_SIZE:center+i+HALF_FOCUS_SIZE] for i in range(-MAX_SHIFT, MAX_SHIFT+1)]\n",
    "    differences = np.sqrt(np.sum((np.array(detection_embedding)-anchor_embedding[np.newaxis,:,:])**2, axis=(1,2))) / np.sqrt(HALF_FOCUS_SIZE*2*16*2)\n",
    "\n",
    "    peaks, _ = find_peaks(-differences, height=-max_diff)\n",
    "    peaks_s = np.round((peaks - len(differences)//2)*TIME_RES).astype(np.int32)\n",
    "    if len(peaks_s)>0:\n",
    "        idx = np.argmin(np.abs(peaks_s))\n",
    "        peak, height = peaks_s[idx], differences[peaks[idx]]\n",
    "    else:\n",
    "        peak, height = 0, None\n",
    "    \n",
    "    return datetime.timedelta(seconds=int(peak)), height, differences\n",
    "\n",
    "picks = PickFile(\"/home/plerolland/Documents/Seismic_catalogs/Indian/2012/2012_SEIR_12Dec_29S.pick\")\n",
    "picks = PickFile(\"/home/plerolland/Documents/Seismic_catalogs/Indian/2012/2012_SPA_04Apr_37S.pick\")\n",
    "np.random.seed(0)\n",
    "np.random.shuffle(picks.picks)\n",
    "input = InputFile(\"/home/plerolland/Documents/Seismic_catalogs/Indian/2012/2012_SEIR_Network.input\")\n",
    "input.hydrophone_letters = list(input.hydrophone_letters)"
   ],
   "id": "1c2161325fa0d458",
   "outputs": [],
   "execution_count": 6
  },
  {
   "metadata": {
    "ExecuteTime": {
     "end_time": "2024-10-08T17:50:28.089971Z",
     "start_time": "2024-10-08T17:15:41.944428Z"
    }
   },
   "cell_type": "code",
   "source": [
    "expected_locs = {}\n",
    "locs = {}\n",
    "peaks = {}\n",
    "\n",
    "embedding_managers = {s : NpyFilesManager(f\"../../data/detections_long/{year}/embedding_{year}_{s.name}-{s.date_start.year}\") for s in stations_c.by_names(input.hydrophone_names)}\n",
    "\n",
    "for pick in tqdm(picks.picks[:]):\n",
    "    expected_det_stations = [input.hydrophone_names[input.hydrophone_letters.index(h)] for h in pick.hydrophones if h in input.hydrophone_letters]\n",
    "    expected_det_stations = [stations_c.by_date(pick.detection_times[i]).by_names(expected_det_stations[i])[0] for i in range(len(expected_det_stations))]\n",
    "   # expected_det_dates =  {expected_det_stations[i] : pick.detection_times[i] for i in range(len(expected_det_stations))}\n",
    "    expected_det_dates =  {s : pick.est_source_time + datetime.timedelta(seconds=sound_model_g.get_sound_travel_time(pick.est_source_pos,s.get_pos(), date=pick.est_source_time)) for s in expected_det_stations}\n",
    "    observed_dets = {}\n",
    "    \n",
    "    deltas = []\n",
    "    for s in expected_det_stations:\n",
    "        idx = get_closest_detection(detections[s][:,0], expected_det_dates[s])\n",
    "        delta = np.abs(detections[s][idx,0] - expected_det_dates[s]).total_seconds()\n",
    "        if delta < 30:\n",
    "            observed_dets[s] = detections[s][idx]\n",
    "            deltas.append(delta)\n",
    "            \n",
    "    stations = list(observed_dets.keys())\n",
    "    if len(stations) < 4:\n",
    "        continue  # undetected\n",
    "    \n",
    "    # we keep the closest detection and try to shift the others, to match at best this one\n",
    "    anchor = stations[np.argmin(deltas)]\n",
    "    embedding_anchor = get_embedding(embedding_managers, anchor, observed_dets[anchor][0])\n",
    "    for s in stations:\n",
    "        if s == anchor:\n",
    "            continue\n",
    "        embedding = get_embedding(embedding_managers, s, observed_dets[s][0])\n",
    "        shift, peak_height, diff = find_shift(embedding_anchor, embedding)\n",
    "        peaks.setdefault(pick.est_source_time, {})[s] = shift, peak_height, diff\n",
    "        observed_dets[s][0] += shift\n",
    "        \n",
    "    det_pos = [s.get_pos() for s in observed_dets.keys()]\n",
    "    det_times = np.array(list(observed_dets.values()))[:,0]\n",
    "    try:\n",
    "        r = sound_model_g.localize_common_source(det_pos, det_times)\n",
    "    except:\n",
    "        r = None\n",
    "    locs[pick.est_source_time] = r\n",
    "    expected_locs[pick.est_source_time] = [pick.est_source_time] + list(pick.est_source_pos)"
   ],
   "id": "27a9ea2766b67337",
   "outputs": [
    {
     "data": {
      "text/plain": [
       "  0%|          | 0/1626 [00:00<?, ?it/s]"
      ],
      "application/vnd.jupyter.widget-view+json": {
       "version_major": 2,
       "version_minor": 0,
       "model_id": "71b9b7126ba7474ba791cb192b462851"
      }
     },
     "metadata": {},
     "output_type": "display_data"
    }
   ],
   "execution_count": 8
  },
  {
   "metadata": {
    "ExecuteTime": {
     "end_time": "2024-10-08T18:00:59.665305Z",
     "start_time": "2024-10-08T18:00:59.512314Z"
    }
   },
   "cell_type": "code",
   "source": [
    "diffs, costs = [], []\n",
    "for i in locs.keys():\n",
    "    if type(locs[i]) == list or locs[i] is None:\n",
    "        continue\n",
    "    diff = np.sqrt(np.sum((np.array(expected_locs[i][1:]) - np.array(locs[i].x[1:]))**2))\n",
    "    if locs[i].cost > 1000:\n",
    "        continue\n",
    "    diffs.append(diff)\n",
    "    costs.append(locs[i].cost)\n",
    "    \n",
    "    print(f\"{costs[-1]:6.2f} - {diffs[-1]:5.2f} - {i} - {[h for s, h, d in peaks[i].values()]}\")\n",
    "    \n",
    "\n",
    "print(len(costs))\n",
    "print(np.mean(diffs))\n",
    "\n",
    "np.save(\"expected_locs_SPA.npy\", expected_locs)\n",
    "np.save(\"locs_SPA.npy\", locs)\n",
    "np.save(\"peaks_SPA.npy\", peaks)"
   ],
   "id": "ad729b763398bde2",
   "outputs": [
    {
     "name": "stdout",
     "output_type": "stream",
     "text": [
      "573.95 -  0.25 - 2012-10-16 14:21:02.200000 - [None, None, None]\n",
      " 21.30 -  0.31 - 2012-04-11 10:40:16 - [0.1434, 0.349, 0.1407, 0.341, 0.139]\n",
      " 30.23 -  0.04 - 2012-03-20 09:24:47.400000 - [0.3337, 0.326, 0.2695, None]\n",
      "517.81 -  0.15 - 2012-04-11 17:29:34.800000 - [None, None, 0.3616, None]\n",
      " 68.87 -  1.32 - 2012-03-16 14:16:01.100000 - [None, None, None, None]\n",
      "127.81 -  0.12 - 2012-04-11 10:56:52.100000 - [0.3884, 0.2544, 0.2258, 0.3633]\n",
      "802.25 -  0.12 - 2012-10-23 11:03:42.400000 - [None, None, None, None]\n",
      "  3.70 -  0.47 - 2012-10-24 05:13:21.200000 - [None, None, None]\n",
      "195.27 -  0.27 - 2012-10-16 00:20:15.600000 - [None, 0.399, 0.3425, None, None, None]\n",
      "244.77 -  0.02 - 2012-04-13 15:32:53.400000 - [None, None, None, None, None]\n",
      "123.89 -  0.17 - 2012-04-16 23:42:17.800000 - [0.2463, None, 0.1387, 0.293, 0.361, 0.3909, 0.2964]\n",
      "223.93 -  0.14 - 2012-03-12 14:02:55.800000 - [None, None, None, None]\n",
      " 58.43 -  0.14 - 2012-10-10 23:13:35.800000 - [0.36, 0.3958, None]\n",
      "218.30 -  0.46 - 2012-03-15 06:34:51.600000 - [None, None, None, None]\n",
      " 89.29 -  0.36 - 2012-10-10 21:58:13.900000 - [0.3357, 0.3647, None, None, None]\n",
      "373.48 -  0.10 - 2012-04-17 02:11:28.400000 - [None, None, None, None, 0.396]\n",
      "  0.00 -  0.31 - 2012-04-13 14:57:32.500000 - [None, None, None]\n",
      " 20.43 -  0.19 - 2012-04-10 10:36:04.700000 - [0.39, None, None, 0.3464]\n",
      " 15.82 -  0.38 - 2012-04-07 10:55:17.200000 - [None, None, None]\n",
      " 53.55 -  0.05 - 2012-03-20 07:49:02.900000 - [None, None, None, None]\n",
      " 79.48 -  0.44 - 2012-04-13 05:41:25.100000 - [0.3018, None, 0.3552, 0.2795, 0.3127, 0.3801]\n",
      "568.21 -  0.22 - 2012-04-16 22:51:38.500000 - [None, 0.3464, 0.3767, None]\n",
      " 52.56 -  0.17 - 2012-10-16 00:38:54.500000 - [None, None, 0.3867, None, None, None, 0.3335]\n",
      "252.68 -  0.03 - 2012-03-18 03:30:22.700000 - [None, None, None, None]\n",
      "141.64 -  0.18 - 2012-04-12 19:36:16.600000 - [None, None, None, None]\n",
      " 19.38 -  0.18 - 2012-04-12 07:19:00.600000 - [0.3843, None, None]\n",
      "245.37 -  0.33 - 2012-11-08 07:56:43.800000 - [None, None, None, None]\n",
      " 73.26 -  0.10 - 2012-03-15 02:47:32.200000 - [None, None, None, None, None]\n",
      "157.37 -  0.44 - 2012-04-13 06:07:51.500000 - [None, None, None, None]\n",
      "670.32 -  0.26 - 2012-10-13 15:09:20.100000 - [0.3677, None, 0.1866, None]\n",
      " 10.31 -  0.16 - 2012-04-13 03:47:31.900000 - [None, None, 0.38]\n",
      " 43.89 -  0.03 - 2012-04-16 01:40:17.500000 - [0.3965, 0.3992, None]\n",
      " 16.78 -  0.18 - 2012-11-09 07:02:07.900000 - [0.3657, None, 0.3965, 0.3784]\n",
      "222.01 -  0.08 - 2012-11-07 02:19:53.300000 - [None, 0.3806, 0.347, 0.296, None]\n",
      " 54.53 -  0.09 - 2012-10-23 15:26:55.800000 - [None, None, None, None]\n",
      " 14.52 -  0.04 - 2012-04-16 04:38:48.100000 - [None, 0.329, None, 0.3394, None, 0.3635]\n",
      " 36.93 -  0.22 - 2012-10-23 10:59:53.300000 - [None, None, None, None]\n",
      " 86.70 -  0.12 - 2012-04-11 09:55:35.500000 - [None, None, 0.3594, 0.3684, 0.323, None]\n",
      "153.31 -  0.06 - 2012-10-16 02:03:50.700000 - [None, None, None]\n",
      "228.94 -  0.30 - 2012-04-10 04:50:12.700000 - [None, None, None, 0.3105]\n",
      " 52.36 -  0.13 - 2012-04-14 15:25:53.500000 - [None, 0.3088, None, None]\n",
      "  0.21 -  0.15 - 2012-04-11 02:45:46.700000 - [None, 0.3228, None]\n",
      "173.55 -  0.36 - 2012-03-19 05:49:06.800000 - [0.3647, 0.377, None, None]\n",
      " 15.36 -  0.12 - 2012-04-16 04:23:13.800000 - [None, 0.2869, 0.2502, None, 0.3765, 0.2903]\n",
      "245.56 -  0.18 - 2012-04-12 03:48:24.300000 - [None, None, None, None, None]\n",
      " 64.42 -  0.24 - 2012-04-16 17:28:27.900000 - [0.2328, 0.2952, 0.3523, None, 0.3782]\n",
      "825.35 -  0.18 - 2012-04-16 14:15:33.700000 - [None, None, None, 0.3735, None, None]\n",
      "249.74 -  0.10 - 2012-04-12 19:10:07.500000 - [0.232, None, 0.2673, None]\n",
      "142.23 -  0.20 - 2012-10-10 19:23:21.900000 - [None, None, None, None]\n",
      " 38.93 -  0.34 - 2012-03-11 09:19:52.500000 - [0.3823, 0.3909, None, 0.2773]\n",
      " 55.33 -  0.02 - 2012-10-16 00:53:39 - [0.3499, 0.367, 0.351, 0.3733, 0.3477, 0.3884, 0.3718]\n",
      " 46.97 -  0.31 - 2012-04-16 22:43:15.100000 - [None, None, None, None]\n",
      "  1.66 -  0.34 - 2012-04-11 23:43:04.400000 - [0.3506, None, None]\n",
      " 25.38 -  0.09 - 2012-04-16 23:53:24 - [0.2896, 0.1805, 0.1501, 0.2698, 0.177, 0.322]\n",
      "124.09 -  0.20 - 2012-04-10 00:49:42.300000 - [None, None, None, None]\n",
      " 63.55 -  0.08 - 2012-11-14 01:45:32.600000 - [None, 0.3337, 0.3325, 0.3677, 0.2927, None]\n",
      " 99.06 -  0.53 - 2012-10-10 15:30:42.800000 - [None, 0.3335, 0.2598, 0.3918, None]\n",
      " 53.65 -  0.12 - 2012-03-15 02:14:47 - [None, 0.3057, None, None]\n",
      " 15.61 -  0.21 - 2012-04-16 06:51:40.700000 - [0.379, None, None]\n",
      "  7.53 -  0.73 - 2012-04-12 05:39:57.900000 - [0.311, 0.3567, None]\n",
      " 72.60 -  0.48 - 2012-04-16 09:45:16.400000 - [None, None, None, None, None]\n",
      "  8.45 -  0.14 - 2012-10-18 01:02:08.500000 - [0.327, None, 0.308, 0.364]\n",
      " 28.12 -  0.20 - 2012-04-10 03:39:35.300000 - [None, None, None, None, None]\n",
      "142.34 -  0.19 - 2012-04-18 10:54:16.300000 - [None, None, None]\n",
      " 47.93 -  0.24 - 2012-04-13 14:40:27.100000 - [None, None, None, None]\n",
      "227.64 -  0.44 - 2012-03-20 10:21:32.100000 - [None, 0.2593, 0.3818, 0.2986, None]\n",
      " 36.04 -  0.08 - 2012-10-16 02:51:36.800000 - [None, None, None]\n",
      " 27.50 -  0.17 - 2012-03-16 20:18:39.600000 - [None, None, 0.3823]\n",
      "  1.29 -  0.20 - 2012-04-16 06:11:57.800000 - [None, None, 0.3748, None, None]\n",
      " 17.99 -  0.07 - 2012-11-14 02:28:07.800000 - [0.4, None, 0.3694, 0.316, 0.3176]\n",
      "614.35 -  0.03 - 2012-04-13 15:48:31.800000 - [None, 0.3362, None, None]\n",
      "285.41 -  0.06 - 2012-03-20 06:00:14 - [0.2915, 0.3481, None, 0.3242]\n",
      " 77.03 -  0.06 - 2012-04-16 04:50:47.500000 - [0.3347, 0.395, 0.3257, 0.3972, 0.38, 0.364]\n",
      "128.26 -  0.06 - 2012-04-16 21:50:45.200000 - [0.2769, 0.3782, 0.1958, 0.2698, 0.3518, 0.3528, 0.3264]\n",
      "119.34 -  0.14 - 2012-10-16 03:03:34.200000 - [None, None, None]\n",
      " 14.35 -  0.17 - 2012-10-16 03:07:25.900000 - [0.323, 0.3281, None, 0.2788, 0.1794]\n",
      "404.53 -  0.15 - 2012-10-16 03:14:24.700000 - [None, 0.342, 0.3784, None]\n",
      " 20.50 -  0.29 - 2012-04-10 21:26:33.800000 - [None, None, None, None]\n",
      " 84.75 -  0.12 - 2012-11-10 07:59:09.600000 - [0.308, 0.3364, 0.257, 0.3306, None, 0.3735, 0.296]\n",
      "268.87 -  0.19 - 2012-03-21 00:58:41.200000 - [None, 0.3633, None, 0.3057]\n",
      "670.07 -  0.22 - 2012-03-21 01:37:06.800000 - [0.3364, 0.344, 0.3193, None]\n",
      "103.16 -  0.22 - 2012-04-13 22:46:56.900000 - [None, None, None]\n",
      "501.81 -  0.17 - 2012-03-21 06:31:11.400000 - [0.2646, 0.351, 0.3848, None, 0.3098]\n",
      " 37.40 -  0.08 - 2012-03-15 05:10:51.200000 - [None, None, None, None]\n",
      " 45.09 -  0.12 - 2012-04-16 04:45:57.200000 - [0.393, 0.3743, 0.3381, 0.3157, 0.3767, 0.3606]\n",
      "173.46 -  0.18 - 2012-03-15 07:50:33.100000 - [None, None, None, None, None]\n",
      "170.02 -  0.09 - 2012-04-11 11:35:52.500000 - [0.2045, 0.1871, None, 0.3782, 0.2598]\n",
      "  6.53 -  0.28 - 2012-10-23 05:53:53.800000 - [0.3616, None, None]\n",
      " 14.58 -  0.24 - 2012-04-15 16:00:50.200000 - [None, None, None]\n",
      "365.92 -  0.43 - 2012-10-13 18:34:42 - [None, None, None]\n",
      " 20.71 -  0.10 - 2012-03-15 00:23:43.900000 - [None, None, None]\n",
      "131.79 -  0.26 - 2012-10-13 14:06:54 - [None, None, None, 0.3752]\n",
      " 84.00 -  0.47 - 2012-04-15 15:53:32.400000 - [0.3923, 0.2822, None, None]\n",
      " 75.24 -  0.12 - 2012-10-10 04:59:04.900000 - [None, 0.3748, None, None]\n",
      " 80.91 -  0.27 - 2012-03-28 22:17:10.600000 - [0.364, None, 0.374, None]\n",
      "120.64 -  0.29 - 2012-03-17 23:22:52.500000 - [None, None, None]\n",
      " 50.40 -  0.27 - 2012-10-29 06:59:01.900000 - [0.3582, 0.331, 0.2454, 0.3557, None]\n",
      " 22.46 -  0.05 - 2012-04-10 21:08:35.400000 - [None, None, None]\n",
      "  0.54 -  0.52 - 2012-04-12 00:28:49.800000 - [0.217, 0.2363, 0.3406]\n",
      "394.75 -  0.39 - 2012-03-15 20:21:41.400000 - [None, 0.3809, 0.3176, 0.3984]\n",
      "  0.04 -  0.11 - 2012-03-11 03:55:46.200000 - [0.344, None, None]\n",
      " 14.98 -  0.25 - 2012-10-16 01:01:20.500000 - [None, None, None]\n",
      " 59.23 -  0.27 - 2012-03-15 05:33:11.800000 - [None, None, None, None, None]\n",
      " 51.00 -  0.48 - 2012-04-13 15:21:03 - [0.3865, 0.3816, 0.3972, None]\n",
      " 11.02 -  0.32 - 2012-04-17 13:05:09 - [None, None, None, None]\n",
      " 78.75 -  0.08 - 2012-10-10 23:05:54.100000 - [None, None, None, None, None]\n",
      " 29.88 -  0.11 - 2012-03-18 00:34:16.600000 - [None, None, None]\n",
      "294.80 -  0.11 - 2012-04-11 10:04:15.300000 - [0.266, 0.2065, 0.311, 0.1974, 0.2107, 0.2466]\n",
      "  2.14 -  0.05 - 2012-04-16 04:57:03.100000 - [None, 0.318, 0.2898, None]\n",
      " 93.28 -  0.22 - 2012-04-13 23:44:44.800000 - [0.3118, 0.3625, None, None]\n",
      "170.37 -  0.15 - 2012-04-12 17:50:48.500000 - [0.3716, None, 0.3906, None, None]\n",
      " 41.58 -  0.15 - 2012-03-20 10:38:34.200000 - [None, 0.3767, 0.3894, None]\n",
      " 37.32 -  1.93 - 2012-03-18 07:23:14.400000 - [0.3281, None, 0.3848]\n",
      " 11.50 -  0.44 - 2012-04-16 14:03:23.500000 - [0.3535, None, None]\n",
      " 30.12 -  0.17 - 2012-10-26 12:47:20.300000 - [None, None, None]\n",
      " 30.77 -  0.06 - 2012-04-14 16:41:07.200000 - [None, None, None]\n",
      "  8.08 -  0.07 - 2012-03-20 15:40:31.500000 - [0.3335, None, None]\n",
      " 64.47 -  0.29 - 2012-10-10 04:29:30.900000 - [None, None, None]\n",
      "  3.98 -  0.20 - 2012-04-13 07:26:51 - [None, None, None, None]\n",
      "128.71 -  0.21 - 2012-04-17 11:19:24.900000 - [None, None, None]\n",
      "157.62 -  8.14 - 2012-04-10 02:16:34.700000 - [None, None, None, 0.355]\n",
      " 89.17 -  0.10 - 2012-04-14 02:37:46 - [None, None, None]\n",
      " 42.08 -  0.19 - 2012-04-13 20:03:41.400000 - [None, None, None]\n",
      "  6.67 -  0.27 - 2012-04-17 00:42:02.300000 - [None, None, None, None]\n",
      " 16.86 -  0.12 - 2012-04-18 10:08:44.200000 - [None, None, 0.2338, 0.2534, None, None]\n",
      " 97.75 -  0.43 - 2012-04-11 12:57:10.100000 - [0.3447, 0.11694, 0.1755, 0.3293]\n",
      " 99.79 -  0.11 - 2012-11-14 01:15:28.500000 - [None, None, None, 0.3958, 0.3726, None]\n",
      " 13.10 -  0.04 - 2012-04-15 22:50:07.200000 - [0.3977, None, None]\n",
      "  6.55 -  0.18 - 2012-03-20 09:59:12.500000 - [None, 0.3757, None]\n",
      "175.17 -  0.04 - 2012-10-26 14:34:03.500000 - [0.1641, 0.3123, 0.2201, 0.1724, 0.359, 0.2847, 0.2363, 0.2316]\n",
      " 59.72 -  0.30 - 2012-04-09 08:08:07.200000 - [None, None, None, None, None]\n",
      " 25.26 -  0.27 - 2012-11-03 09:22:11 - [0.3782, 0.216, 0.2869, 0.2207, 0.2888, 0.3428]\n",
      " 40.70 -  0.30 - 2012-03-15 04:25:41.800000 - [0.3923, None, None]\n",
      "106.16 -  0.30 - 2012-04-15 09:14:17.300000 - [None, None, None]\n",
      " 26.01 -  0.18 - 2012-04-13 00:00:02.800000 - [None, 0.2445, None]\n",
      "300.91 -  0.02 - 2012-03-21 01:29:15.700000 - [None, None, None, None, None]\n",
      "814.09 -  0.04 - 2012-04-11 18:39:38.400000 - [None, None, None, None]\n",
      " 54.48 -  0.40 - 2012-04-11 14:16:35.600000 - [0.3608, 0.383, 0.2947, 0.3875]\n",
      " 68.99 -  0.04 - 2012-04-17 01:54:44 - [0.3582, 0.2659, 0.366, None, None, None]\n",
      " 17.94 -  0.08 - 2012-11-12 23:16:23.900000 - [0.292, 0.3967, 0.2673, 0.2563, 0.2454, None]\n",
      "263.01 -  0.08 - 2012-04-12 20:03:08 - [None, None, None]\n",
      " 36.92 -  0.38 - 2012-04-11 15:40:37.700000 - [None, 0.3936, 0.3923, 0.3967]\n",
      "380.79 -  0.10 - 2012-10-16 04:52:46.600000 - [None, None, 0.281, 0.3027, 0.3398, None, None, 0.3582]\n",
      " 13.79 -  0.06 - 2012-03-16 05:20:18.800000 - [None, None, None, None]\n",
      "  6.36 -  0.02 - 2012-10-18 05:06:34.700000 - [0.3464, None, None]\n",
      " 71.31 -  0.20 - 2012-04-18 06:28:23.100000 - [None, None, None]\n",
      "317.02 -  0.24 - 2012-03-19 23:38:48.100000 - [None, None, 0.3547, None]\n",
      "166.59 -  0.29 - 2012-04-15 02:49:56.200000 - [None, None, None, None]\n",
      "557.58 -  0.06 - 2012-04-16 00:09:24.100000 - [None, None, 0.355]\n",
      " 17.54 -  0.09 - 2012-11-14 02:26:28.500000 - [None, 0.3853, 0.3643, 0.249, 0.2834, 0.3447]\n",
      " 52.79 -  0.19 - 2012-04-11 18:28:33.300000 - [None, 0.2632, 0.3735]\n",
      " 47.43 -  0.05 - 2012-04-12 17:55:31.700000 - [0.3743, 0.3477, None, None]\n",
      " 83.71 -  0.48 - 2012-11-13 07:18:40.900000 - [0.3943, None, 0.2798, None, None]\n",
      "103.25 -  0.07 - 2012-04-13 23:33:52.200000 - [None, None, None, None]\n",
      " 52.37 -  0.08 - 2012-04-16 04:41:34.900000 - [None, 0.3894, 0.3994, 0.4, None]\n",
      " 40.69 -  0.03 - 2012-04-13 03:01:45.200000 - [None, None, None, None]\n",
      "454.52 -  0.24 - 2012-04-10 13:59:06.800000 - [0.2656, None, None]\n",
      "186.72 -  0.13 - 2012-03-15 01:01:01 - [0.2478, 0.291, 0.39]\n",
      " 32.26 -  0.13 - 2012-03-20 08:36:37 - [0.3481, None, None]\n",
      "305.13 -  0.24 - 2012-03-15 02:57:28.700000 - [None, None, None, None]\n",
      " 42.47 -  0.50 - 2012-10-10 23:42:39.800000 - [None, 0.3835, 0.3313, 0.3918, 0.3926]\n",
      " 81.63 -  0.04 - 2012-10-20 08:01:55.900000 - [0.2551, 0.3035, 0.3335, 0.2844, 0.1626, 0.2717, 0.3293]\n",
      " 76.01 -  0.03 - 2012-04-12 01:02:16.800000 - [None, 0.2742, 0.3994]\n",
      "  5.13 -  0.39 - 2012-04-12 18:20:51.700000 - [0.3088, None, None, None]\n",
      "111.66 -  0.54 - 2012-04-12 17:30:43.300000 - [0.3015, None, None]\n",
      "342.10 -  0.10 - 2012-10-26 12:18:08.100000 - [0.327, None, 0.3577, 0.3496, 0.279, 0.3777, 0.36, 0.2559]\n",
      " 34.15 -  0.22 - 2012-03-15 03:51:54.100000 - [None, None, None]\n",
      "226.72 -  0.09 - 2012-10-11 19:40:24.100000 - [None, None, 0.3933]\n",
      "129.24 -  0.10 - 2012-11-12 23:02:16.300000 - [0.325, 0.3525, 0.1536, 0.124, 0.3015, 0.2776, 0.2954, 0.2769]\n",
      " 85.23 -  0.23 - 2012-04-13 14:18:20.800000 - [0.3357, None, None]\n",
      "175.80 -  0.07 - 2012-11-12 23:12:40.600000 - [0.3298, 0.3765, 0.3918, 0.3582, None]\n",
      " 14.99 -  0.49 - 2012-03-17 05:40:10 - [None, None, None]\n",
      " 76.62 -  0.21 - 2012-04-12 18:40:10.900000 - [0.3179, None, None, 0.163, None]\n",
      " 45.51 -  0.15 - 2012-03-21 02:22:31.400000 - [0.3674, None, None, None]\n",
      " 33.88 -  0.41 - 2012-03-11 16:09:39.500000 - [0.366, None, 0.2515, 0.2578]\n",
      " 90.04 -  0.12 - 2012-04-16 05:13:02.800000 - [0.3875, 0.3525, 0.3782, 0.3335, None, None]\n",
      "  3.51 -  0.43 - 2012-04-12 22:47:56.100000 - [None, None, None]\n",
      " 29.72 -  0.39 - 2012-04-11 23:18:09.500000 - [0.3909, None, None]\n",
      " 13.02 -  0.14 - 2012-04-15 00:39:36 - [None, None, 0.3984, None]\n",
      "  7.92 -  0.28 - 2012-04-11 01:45:42.600000 - [None, 0.2722, 0.331, None]\n",
      " 87.84 -  1.18 - 2012-10-26 04:57:40.900000 - [0.3923, None, None, 0.396]\n",
      "446.00 -  0.24 - 2012-10-13 07:41:42.500000 - [None, None, None, None]\n",
      " 51.21 -  0.13 - 2012-03-20 12:11:45.100000 - [0.344, 0.1945, 0.2378, 0.38, 0.3096]\n",
      " 52.46 -  0.07 - 2012-04-16 22:08:19.200000 - [0.187, None, None, None, None]\n",
      " 38.59 -  0.18 - 2012-10-16 00:57:47.600000 - [None, None, 0.301]\n",
      "194.96 -  0.18 - 2012-04-12 00:22:07.800000 - [None, None, None]\n",
      " 67.36 -  0.03 - 2012-11-03 17:09:35 - [0.2773, 0.2134, 0.1796, 0.395, 0.248, 0.3455, 0.3184]\n",
      "  5.68 -  0.12 - 2012-10-10 00:58:04.500000 - [0.3533, None, None]\n",
      "311.94 -  0.49 - 2012-03-15 04:46:46.400000 - [None, None, None]\n",
      "307.44 -  0.16 - 2012-04-16 23:05:20.700000 - [None, None, None, None]\n",
      "328.40 -  0.22 - 2012-03-20 18:44:44 - [None, None, None, None]\n",
      "  0.24 -  0.34 - 2012-04-12 01:13:34.700000 - [None, 0.3694, None]\n",
      " 57.67 -  0.27 - 2012-10-10 04:49:53.600000 - [None, None, None]\n",
      "109.61 -  0.34 - 2012-03-20 08:14:43.100000 - [0.3948, None, None, None]\n",
      "408.10 -  0.66 - 2012-11-08 06:11:54.400000 - [0.342, 0.3735, 0.3667, 0.333]\n",
      " 11.01 -  0.34 - 2012-03-21 04:29:57.600000 - [0.3994, None, 0.381, 0.3892, 0.3337]\n",
      "192.74 -  0.22 - 2012-04-14 13:18:21.400000 - [None, None, None, None]\n",
      " 56.40 -  0.05 - 2012-04-07 22:18:40.200000 - [None, None, None]\n",
      "  3.55 -  0.19 - 2012-10-16 04:36:23.500000 - [None, 0.2993, None]\n",
      " 79.02 -  0.01 - 2012-04-16 13:33:44.400000 - [None, None, None]\n",
      "  4.81 -  0.21 - 2012-03-15 08:13:50.400000 - [None, None, None]\n",
      " 49.39 -  0.23 - 2012-04-17 11:52:34.700000 - [None, 0.379, None, None]\n",
      "721.75 -  0.03 - 2012-04-10 07:15:06.700000 - [0.331, None, None]\n",
      " 30.77 -  0.15 - 2012-11-12 23:06:10.900000 - [0.2266, 0.1149, 0.3552, None, 0.3806, None]\n",
      " 79.10 -  0.18 - 2012-04-12 03:29:03.600000 - [0.3777, 0.3616, None]\n",
      "102.75 -  0.27 - 2012-03-12 10:36:10 - [0.399, None, 0.3784, None]\n",
      "264.72 -  0.12 - 2012-10-10 21:26:45 - [None, None, None, None]\n",
      "413.34 -  0.14 - 2012-03-15 19:01:24.100000 - [None, None, 0.315]\n",
      "260.61 -  0.72 - 2012-03-15 07:37:16.300000 - [None, None, None, None]\n",
      " 11.36 -  0.20 - 2012-04-16 03:21:42.700000 - [0.371, None, 0.376, None]\n",
      "  0.56 -  0.18 - 2012-03-15 13:04:57.700000 - [None, 0.3416, None]\n",
      "227.77 -  0.27 - 2012-04-17 02:02:25.700000 - [None, None, None, None]\n",
      "197.88 -  0.12 - 2012-03-31 08:37:18.800000 - [None, None, 0.3765, 0.3494, None]\n",
      " 42.78 -  0.14 - 2012-10-23 05:59:51 - [0.318, 0.3867, None]\n",
      " 43.68 -  0.22 - 2012-03-19 23:54:07.500000 - [None, None, 0.3774, None, None]\n",
      "221.06 -  0.08 - 2012-11-14 01:04:27.400000 - [0.3628, None, None, 0.3557, None, 0.3992, 0.3535, None, None]\n",
      " 51.44 -  0.01 - 2012-03-21 01:57:32.900000 - [None, None, None, None, None]\n",
      "265.49 -  0.08 - 2012-11-13 23:56:43.700000 - [None, 0.2708, 0.2546, 0.2617, None, None, 0.3467]\n",
      "  1.07 -  0.12 - 2012-03-20 06:59:59 - [None, None, 0.3984]\n",
      " 27.79 -  0.10 - 2012-10-10 22:24:47.800000 - [0.3767, None, 0.3882]\n",
      " 42.14 -  0.09 - 2012-04-12 16:35:27.900000 - [0.3499, 0.3767, 0.3513, None]\n",
      "194.56 -  0.49 - 2012-11-09 04:07:41.100000 - [None, 0.3315, None, None, 0.36]\n",
      "151.94 -  0.13 - 2012-04-12 05:18:16.500000 - [None, None, None]\n",
      "112.60 -  0.40 - 2012-11-13 03:54:49.100000 - [None, 0.2908, 0.3381, 0.3894, None]\n",
      "296.02 -  1.12 - 2012-10-28 01:55:50.300000 - [None, None, None, None]\n",
      " 31.30 -  0.23 - 2012-04-14 17:03:17.300000 - [None, None, None]\n",
      "354.55 -  0.14 - 2012-04-16 06:23:11.400000 - [None, 0.2844, None, 0.2798, None, None]\n",
      " 44.87 -  0.91 - 2012-03-20 07:37:39.100000 - [None, 0.3223, 0.1747, 0.2307]\n",
      "205.99 -  0.31 - 2012-04-12 03:23:36 - [0.3276, 0.2241, None, 0.3953]\n",
      "  4.89 -  0.45 - 2012-04-14 17:08:13.400000 - [None, 0.3303, 0.1526, None]\n",
      "250.52 -  0.16 - 2012-10-23 16:33:09.700000 - [0.2883, None, 0.365, 0.3274]\n",
      "  3.57 -  0.47 - 2012-04-17 01:05:37.200000 - [None, 0.3398, None]\n",
      " 19.95 -  0.09 - 2012-04-16 05:04:33 - [None, 0.351, 0.3145, None, 0.3618, None]\n",
      "105.21 -  0.16 - 2012-10-16 05:12:35.700000 - [None, None, None]\n",
      "123.84 -  0.37 - 2012-04-17 09:47:12.400000 - [None, None, 0.3826, 0.396, 0.2903, None]\n",
      "106.46 -  0.12 - 2012-10-29 13:46:53.200000 - [0.3784, 0.377, 0.3315, 0.331, 0.3074, 0.3523, 0.3706]\n",
      "580.52 -  0.26 - 2012-04-10 03:29:33.600000 - [None, 0.3833, 0.3418, None, None, None]\n",
      " 16.28 -  0.16 - 2012-11-14 02:18:37.600000 - [None, None, 0.322, 0.3867, 0.3464]\n",
      "531.13 -  0.15 - 2012-10-10 23:33:54.500000 - [0.2996, None, 0.3438, None, 0.2944, None]\n",
      " 29.82 -  0.32 - 2012-10-11 09:00:18 - [None, None, None]\n",
      " 94.57 -  0.10 - 2012-10-11 04:22:36 - [None, 0.3032, 0.361, None, None]\n",
      "320.54 -  0.24 - 2012-10-23 13:31:29.300000 - [0.3074, 0.3833, 0.375, None]\n",
      " 98.16 -  0.18 - 2012-04-16 18:25:07.900000 - [None, None, None, None]\n",
      "  4.42 -  0.63 - 2012-04-13 18:00:20.200000 - [None, 0.37, None]\n",
      "226.86 -  0.15 - 2012-10-10 23:18:47.100000 - [None, 0.3975, None]\n",
      "454.26 -  0.13 - 2012-04-09 00:30:54.700000 - [None, None, None, None, None]\n",
      "138.90 -  0.12 - 2012-11-13 10:25:01.200000 - [None, None, 0.2751, 0.3486, 0.396, 0.2688, 0.3901]\n",
      "286.63 -  0.12 - 2012-03-17 12:51:19.200000 - [None, None, None, None]\n",
      "200.17 -  0.04 - 2012-03-20 09:30:34.200000 - [None, 0.2659, None, 0.3494, None]\n",
      "  0.32 -  0.42 - 2012-04-11 17:12:14.400000 - [0.3591, None, None]\n",
      " 54.71 -  0.35 - 2012-04-11 02:07:33.300000 - [0.3765, None, None, None]\n",
      "113.97 -  0.07 - 2012-10-10 18:22:04.200000 - [None, None, None, None]\n",
      "153.50 -  0.10 - 2012-03-21 07:37:40.500000 - [None, None, None, None, None]\n",
      "287.66 -  0.17 - 2012-10-10 23:31:02.900000 - [0.2935, None, 0.2025, 0.251, None, 0.3975]\n",
      " 39.88 -  0.12 - 2012-04-13 00:39:38.300000 - [None, None, None]\n",
      "194.86 -  0.31 - 2012-10-10 21:17:58.700000 - [None, None, None, None]\n",
      "  0.80 -  3.08 - 2012-10-11 04:29:08.800000 - [None, 0.3933, 0.3064]\n",
      " 79.76 -  0.31 - 2012-04-14 16:05:23.800000 - [None, 0.3376, 0.357, None]\n",
      " 69.92 -  0.13 - 2012-04-16 22:17:00.300000 - [0.3972, 0.3826, 0.3574, 0.3486, None, 0.356]\n",
      " 79.12 -  0.16 - 2012-04-16 05:33:38.500000 - [None, 0.3752, 0.2424, None]\n",
      " 29.53 -  0.11 - 2012-04-08 03:52:00.800000 - [None, None, None, None]\n",
      "  3.22 -  8.47 - 2012-04-15 19:14:10.700000 - [None, None, None]\n",
      "142.87 -  0.53 - 2012-04-12 03:40:47.100000 - [None, 0.3318, 0.2947, 0.1963, None]\n",
      " 45.46 -  0.74 - 2012-04-14 13:02:23.100000 - [0.369, None, None]\n",
      "223.69 -  0.16 - 2012-04-16 22:30:05.600000 - [None, None, None, None]\n",
      " 31.38 -  0.11 - 2012-04-12 15:04:03.500000 - [None, 0.2316, 0.1956, 0.3513]\n",
      "107.63 -  0.07 - 2012-10-16 00:16:40 - [0.1941, 0.383, 0.1913, 0.1874, 0.285, 0.3438, 0.284, 0.2769]\n",
      " 38.58 -  0.32 - 2012-04-11 19:03:04.900000 - [None, 0.3875, 0.3552, None, 0.09454]\n",
      "  1.30 -  0.38 - 2012-04-11 10:43:54.100000 - [0.3542, 0.374, 0.2898, 0.321]\n",
      "418.87 -  0.03 - 2012-03-18 16:35:50.600000 - [None, None, None, None]\n",
      "  2.12 -  0.17 - 2012-10-16 05:42:14.700000 - [None, None, 0.2866]\n",
      " 25.04 -  0.13 - 2012-04-12 03:14:22.600000 - [None, 0.364, None, None]\n",
      " 56.27 -  0.13 - 2012-11-14 13:44:25.500000 - [0.3757, 0.364, 0.2698, 0.2158, 0.2969, None]\n",
      " 27.94 -  0.06 - 2012-04-15 02:31:03.900000 - [None, None, None]\n",
      " 42.71 -  0.22 - 2012-03-17 09:36:29.900000 - [0.295, None, None]\n",
      " 25.78 -  0.18 - 2012-03-22 06:03:44.900000 - [0.3818, 0.3757, 0.2515, None, 0.383]\n",
      "  2.25 -  0.65 - 2012-10-16 07:16:33.500000 - [None, None, None]\n",
      " 55.06 -  0.53 - 2012-11-14 02:48:02.100000 - [None, 0.3599, 0.3096, None]\n",
      " 20.18 -  0.26 - 2012-04-12 08:13:40.600000 - [None, None, None]\n",
      " 42.84 -  0.16 - 2012-04-16 06:29:42.100000 - [None, None, None, None, None]\n",
      "144.17 -  0.17 - 2012-03-20 07:24:58.100000 - [0.2605, None, None, 0.341]\n",
      "121.93 -  0.12 - 2012-03-15 03:41:51.200000 - [None, None, 0.3591, None, None]\n",
      " 78.10 -  0.46 - 2012-04-16 12:37:34.100000 - [None, 0.331, None]\n",
      "  1.99 -  0.18 - 2012-10-26 14:14:16.600000 - [None, None, 0.366]\n",
      "141.20 -  0.86 - 2012-11-10 05:56:40.300000 - [0.3535, None, 0.3835, 0.321, None]\n",
      "  4.00 -  0.17 - 2012-04-14 15:01:06.700000 - [None, 0.2837, 0.3135]\n",
      "516.69 -  0.09 - 2012-04-12 20:09:40.500000 - [None, None, None, None, None]\n",
      " 12.74 -  0.16 - 2012-10-10 09:24:12.300000 - [0.3835, None, 0.3972]\n",
      " 20.08 -  0.11 - 2012-04-12 15:38:29.200000 - [None, 0.2668, 0.3032, None]\n",
      " 35.70 -  0.14 - 2012-03-15 06:15:29 - [None, None, None]\n",
      "140.47 -  0.12 - 2012-03-16 15:13:07.400000 - [None, None, None]\n",
      " 29.51 -  0.16 - 2012-04-16 14:54:20.500000 - [None, None, None, None, None]\n",
      "327.21 -  1.86 - 2012-04-17 10:16:54.700000 - [0.38, 0.39, None, 0.3923]\n",
      " 58.51 -  0.20 - 2012-04-13 18:21:50.100000 - [None, None, None]\n",
      " 40.27 -  0.09 - 2012-04-15 09:07:20.100000 - [None, 0.3364, None]\n",
      " 26.80 -  0.39 - 2012-03-16 20:54:10.600000 - [None, None, None, None]\n",
      "135.33 -  0.33 - 2012-04-13 13:35:43.700000 - [0.3784, None, None]\n",
      "  1.31 -  0.19 - 2012-04-13 00:13:34.400000 - [0.327, None, None]\n",
      "436.56 -  0.09 - 2012-10-10 22:08:10.600000 - [None, None, None, None, None]\n",
      " 61.59 -  0.82 - 2012-10-18 06:22:41.600000 - [0.385, 0.3418, 0.2915, None]\n",
      "  8.90 -  0.10 - 2012-04-13 03:12:33.600000 - [None, 0.327, None, None]\n",
      "148.64 -  0.15 - 2012-11-12 23:32:23.400000 - [0.3967, None, 0.1422, 0.2129, None, None, 0.258, None]\n",
      " 37.83 -  0.14 - 2012-04-16 16:12:21.600000 - [None, 0.3784, None]\n",
      "145.95 -  0.33 - 2012-03-20 12:52:35.900000 - [None, 0.2488, 0.395, None, 0.361]\n",
      " 91.84 -  0.10 - 2012-03-16 17:00:22.400000 - [0.3767, None, None]\n",
      "225.03 -  0.12 - 2012-03-18 08:15:47.400000 - [None, None, None, None, None]\n",
      "  1.69 -  0.50 - 2012-04-16 01:18:40.400000 - [None, None, None]\n",
      "389.22 -  0.06 - 2012-10-21 00:15:17.800000 - [0.3599, None, 0.347, None]\n",
      "175.37 -  0.39 - 2012-04-11 06:15:27.500000 - [None, None, None, None]\n",
      "157.89 -  0.11 - 2012-04-11 10:19:04.300000 - [0.1183, 0.2374, 0.3015, 0.2417, 0.2727]\n",
      " 25.36 -  0.20 - 2012-03-15 20:37:04.400000 - [0.316, None, 0.3647, 0.2617, None, 0.2795]\n",
      " 62.17 -  0.19 - 2012-03-20 15:16:53.400000 - [None, 0.3684, None]\n",
      " 27.10 -  0.03 - 2012-04-12 18:06:26.500000 - [0.2886, None, 0.2168, None, None]\n",
      " 12.47 -  0.13 - 2012-11-07 02:27:45.300000 - [None, None, None]\n",
      " 29.45 -  0.08 - 2012-04-14 00:54:11.500000 - [None, None, None, 0.3022]\n",
      " 19.23 -  0.15 - 2012-03-21 22:53:25.100000 - [None, 0.3337, 0.3564]\n",
      "  7.00 -  0.44 - 2012-04-13 01:31:47.200000 - [None, None, None]\n",
      " 71.71 -  0.32 - 2012-04-10 17:38:18 - [0.3716, None, 0.302]\n",
      "  0.00 -  0.28 - 2012-10-10 18:41:55.900000 - [None, None, None]\n",
      " 71.39 -  0.05 - 2012-03-16 04:53:45 - [0.3877, None, None, None]\n",
      " 67.52 -  0.10 - 2012-04-13 12:15:40.400000 - [0.3948, 0.316, None, None]\n",
      "  5.17 -  0.28 - 2012-04-15 16:11:19.600000 - [None, None, None]\n",
      "262.23 -  0.17 - 2012-04-17 00:02:49.200000 - [None, None, 0.306, None, None, None]\n",
      "  0.10 -  0.08 - 2012-10-10 05:30:07.200000 - [None, None, None]\n",
      "325.51 -  0.29 - 2012-03-13 00:47:03.200000 - [None, None, None, None]\n",
      "  1.11 -  0.39 - 2012-03-19 06:37:32 - [0.3857, None, None]\n",
      " 71.72 -  0.10 - 2012-11-13 02:17:12.800000 - [None, None, None, None, None, None]\n",
      " 19.37 -  0.23 - 2012-04-13 12:20:20.900000 - [None, 0.3447, None, 0.3567]\n",
      " 53.67 -  0.11 - 2012-11-12 23:49:13.800000 - [0.3486, None, 0.3381, None, None, 0.355]\n",
      " 41.85 -  0.08 - 2012-03-21 11:26:53.600000 - [0.3093, 0.302, 0.3208, 0.3582]\n",
      "149.86 -  0.31 - 2012-03-16 01:09:19.900000 - [None, None, None, None, None]\n",
      "251.35 -  0.04 - 2012-10-11 00:26:46 - [None, None, 0.337, None]\n",
      " 29.67 -  0.11 - 2012-04-14 14:24:48.100000 - [None, 0.3462, None]\n",
      "123.40 -  0.20 - 2012-11-13 09:02:15.100000 - [None, None, 0.375, 0.3684, 0.3452, 0.3833, 0.3276]\n",
      "  2.46 -  0.18 - 2012-04-13 22:38:35.500000 - [None, None, None]\n",
      " 41.52 -  0.22 - 2012-04-16 22:27:31.800000 - [None, None, None, None]\n",
      " 22.33 -  0.40 - 2012-04-17 13:20:21.300000 - [None, None, None]\n",
      "204.18 -  0.17 - 2012-04-10 03:25:21.600000 - [None, 0.1796, None, 0.269, None]\n",
      " 33.17 -  0.17 - 2012-10-18 04:50:43.800000 - [None, None, None]\n",
      "194.49 -  0.08 - 2012-04-15 15:42:08.500000 - [None, None, None]\n",
      " 34.65 -  0.07 - 2012-11-13 17:46:00.700000 - [None, 0.367, 0.3635, 0.3948, None, None, 0.3276]\n",
      "  4.01 -  0.03 - 2012-03-20 11:16:20.500000 - [None, None, None]\n",
      "  2.34 -  0.19 - 2012-04-12 16:59:50.400000 - [None, None, None]\n",
      "331.07 -  0.17 - 2012-10-11 04:25:42.500000 - [0.3293, 0.3462, 0.3164, 0.3367, 0.3164, None, None, 0.34]\n",
      " 31.44 -  0.23 - 2012-03-11 01:43:56.800000 - [None, None, None]\n",
      "537.06 -  0.04 - 2012-04-16 16:44:51.200000 - [None, None, None, None]\n",
      " 92.21 -  0.32 - 2012-03-15 18:54:26.700000 - [None, 0.393, None]\n",
      "111.35 -  0.09 - 2012-10-12 23:19:41.300000 - [None, None, None]\n",
      "348.54 -  0.04 - 2012-11-13 01:56:13.400000 - [None, 0.1875, 0.177, 0.373, 0.357, 0.3582, 0.3467]\n",
      " 33.41 -  0.05 - 2012-10-20 11:21:58.500000 - [0.2698, 0.3352, 0.3564, 0.374, 0.293, 0.3035, 0.2856]\n",
      "  2.10 -  0.27 - 2012-04-13 19:11:13.300000 - [None, 0.2737, 0.399, None]\n",
      " 73.68 -  0.37 - 2012-03-13 19:33:20.800000 - [0.3875, None, None]\n",
      "122.04 -  0.04 - 2012-04-15 17:24:32.900000 - [0.311, 0.3564, 0.3252, None]\n",
      " 15.62 -  0.13 - 2012-04-15 17:38:44.400000 - [0.2375, 0.2805, None, None]\n",
      "248.80 -  0.12 - 2012-03-20 13:27:14.500000 - [None, None, 0.342, None, 0.3977]\n",
      "  5.74 -  0.30 - 2012-04-13 11:26:34.500000 - [0.2029, None, 0.3933]\n",
      " 13.50 -  0.17 - 2012-10-18 15:43:45.200000 - [None, None, None]\n",
      " 10.04 -  0.26 - 2012-03-23 06:12:40.300000 - [None, None, None]\n",
      "547.17 -  0.29 - 2012-03-15 08:03:10.100000 - [None, None, None, None, None]\n",
      " 91.77 -  0.47 - 2012-04-18 10:01:21.700000 - [None, None, None, None]\n",
      "221.54 -  0.05 - 2012-03-18 17:03:57.500000 - [None, None, 0.3108, None]\n",
      " 72.44 -  0.11 - 2012-11-13 00:03:02.100000 - [0.347, 0.3435, 0.3892, 0.3618, None]\n",
      " 44.01 -  0.05 - 2012-10-16 17:03:29.600000 - [None, None, None]\n",
      "557.58 -  0.06 - 2012-04-16 00:09:24.300000 - [None, None, 0.355]\n",
      "102.57 -  0.19 - 2012-04-16 23:49:22.300000 - [0.3193, 0.38, None, 0.3882, None, None]\n",
      "133.48 -  0.33 - 2012-04-12 15:50:30.600000 - [None, None, 0.235, None, None]\n",
      " 41.89 -  0.39 - 2012-04-16 17:22:13 - [None, 0.355, None, None]\n",
      "337.99 -  0.27 - 2012-03-20 22:48:31.300000 - [None, None, 0.3433, 0.3782, None, None]\n",
      "135.46 -  0.07 - 2012-04-12 07:52:01.400000 - [0.3647, 0.3022, None, 0.3718]\n",
      "431.72 -  0.12 - 2012-03-20 10:51:32.700000 - [0.3467, 0.3438, None, None, 0.3677]\n",
      "  2.17 -  0.09 - 2012-10-10 05:07:38.800000 - [None, 0.374, None]\n",
      "  2.47 -  0.24 - 2012-04-16 23:13:50.100000 - [0.3877, None, None]\n",
      " 11.29 -  0.13 - 2012-04-10 18:14:37.400000 - [None, None, None, None]\n",
      "155.40 -  0.43 - 2012-04-10 14:21:09.700000 - [None, 0.3894, None]\n",
      " 21.58 -  0.17 - 2012-04-15 08:23:47.300000 - [None, None, None]\n",
      "544.19 -  0.03 - 2012-10-16 01:26:38 - [0.2947, None, 0.3582, 0.302, 0.2334, 0.3157, 0.3481, 0.3767]\n",
      "106.72 -  0.28 - 2012-04-12 02:29:45.800000 - [None, None, None]\n",
      "559.25 -  0.20 - 2012-03-31 04:33:57 - [0.3882, None, 0.3848, None, None]\n",
      " 69.67 -  0.06 - 2012-10-14 13:00:24.900000 - [None, 0.27, 0.2788, 0.26, 0.3286, 0.3105, 0.366]\n",
      " 50.81 -  0.21 - 2012-04-14 18:35:29.900000 - [None, None, None]\n",
      " 64.73 -  0.20 - 2012-04-15 16:33:42.600000 - [None, 0.3752, None]\n",
      "  8.88 -  0.02 - 2012-10-10 18:18:13.400000 - [0.3271, None, None, None, 0.261, 0.3892]\n",
      "268.16 -  0.20 - 2012-03-16 13:54:45.900000 - [None, None, None]\n",
      "  8.27 -  7.37 - 2012-04-14 00:33:22.200000 - [0.3325, 0.3428, None]\n",
      " 81.56 -  0.12 - 2012-04-17 00:30:29.900000 - [None, None, None]\n",
      " 59.45 -  0.13 - 2012-10-14 00:28:51.800000 - [None, 0.3965, 0.394, None, None]\n",
      "  7.42 -  0.27 - 2012-04-12 08:54:11.700000 - [None, None, None]\n",
      "  9.51 -  0.27 - 2012-03-22 03:53:12 - [None, None, None, None]\n",
      "504.00 -  0.16 - 2012-10-23 04:48:32.300000 - [None, None, None, None, None]\n",
      "100.45 -  0.12 - 2012-04-17 10:23:01.800000 - [None, None, None, None]\n",
      " 76.62 -  1.40 - 2012-11-08 07:17:38.100000 - [None, None, None, None]\n",
      "134.54 -  0.23 - 2012-04-16 05:19:16.500000 - [0.3875, 0.3584, 0.2927, 0.3875, 0.3782, 0.3682]\n",
      " 91.53 -  0.25 - 2012-04-11 19:32:36.800000 - [None, 0.3794, None]\n",
      " 30.64 -  0.43 - 2012-04-11 09:48:40.800000 - [0.2976, 0.2773, 0.3616, 0.384, 0.1901]\n",
      " 16.76 -  0.13 - 2012-03-18 04:20:31.600000 - [None, None, None]\n",
      "327.30 -  0.07 - 2012-10-12 01:20:31 - [0.3958, None, None]\n",
      " 10.79 -  3.77 - 2012-03-16 22:49:16.400000 - [None, None, None, None]\n",
      " 10.39 - 138.54 - 2012-04-14 20:16:44.800000 - [0.1155, 0.1865, 0.2722]\n",
      " 13.74 -  0.96 - 2012-10-26 16:27:50.700000 - [0.395, None, None, None]\n",
      "105.05 -  0.06 - 2012-04-16 06:40:01.500000 - [None, None, None]\n",
      "439.12 -  0.28 - 2012-04-12 18:26:43.700000 - [0.2009, None, 0.377, None]\n",
      " 11.29 -  0.03 - 2012-10-11 00:16:36 - [0.395, None, 0.359, 0.3901]\n",
      " 17.58 -  0.07 - 2012-04-16 04:32:35.800000 - [None, 0.3557, 0.3071, None, 0.3757, 0.3833]\n",
      "159.75 -  0.17 - 2012-04-16 15:37:27.900000 - [None, None, None, None, None]\n",
      " 33.35 -  0.37 - 2012-03-20 17:23:54.800000 - [0.3972, None, 0.3228, 0.3872]\n",
      "  6.37 -  0.44 - 2012-04-14 22:08:49.200000 - [None, None, None]\n",
      "329.00 -  0.13 - 2012-04-16 23:56:14.800000 - [0.3127, None, None, 0.3625, 0.3486, None]\n",
      " 92.25 -  0.14 - 2012-10-26 16:40:55.800000 - [0.3967, None, 0.3806, 0.3364]\n",
      " 26.68 -  0.11 - 2012-04-15 08:48:51.600000 - [None, None, None]\n",
      "  7.76 -  0.49 - 2012-04-13 00:55:15.200000 - [None, None, None]\n",
      " 26.63 - 18.26 - 2012-11-09 17:46:34.700000 - [None, 0.3975, None, None]\n",
      "385.50 -  0.21 - 2012-03-18 01:22:46.600000 - [None, None, None, None, None]\n",
      "172.90 -  0.35 - 2012-04-15 02:38:10.900000 - [0.3918, None, None, 0.3494]\n",
      "168.49 -  0.58 - 2012-04-13 19:00:53.900000 - [None, 0.3408, 0.2976, None]\n",
      "  1.38 -  0.04 - 2012-10-20 11:29:22.400000 - [None, None, None]\n",
      "  1.32 -  0.09 - 2012-03-17 15:15:18.500000 - [None, 0.3806, None]\n",
      "357.68 -  0.32 - 2012-03-20 09:37:39.900000 - [0.3694, 0.3472, None, 0.3865, None]\n",
      " 91.33 -  0.06 - 2012-03-20 12:35:22.400000 - [None, None, None, None]\n",
      " 23.95 -  0.15 - 2012-11-14 05:11:18.900000 - [0.3994, 0.3926, None, None, None]\n",
      " 33.73 -  0.18 - 2012-10-16 02:50:43.600000 - [0.2842, None, 0.3267, 0.3706]\n",
      "  7.38 -  0.29 - 2012-04-16 17:07:57.100000 - [None, 0.3628, None]\n",
      "131.50 -  0.26 - 2012-04-13 03:55:31.800000 - [None, None, None]\n",
      "137.53 -  0.59 - 2012-04-16 05:20:58.500000 - [None, 0.2632, 0.2751, 0.2299, None]\n",
      "  0.07 -  0.06 - 2012-03-13 13:12:05.500000 - [None, None, None]\n",
      "470.19 -  0.23 - 2012-04-16 16:39:53.900000 - [None, None, None, None, None]\n",
      "161.56 -  0.10 - 2012-10-13 06:33:44.800000 - [None, 0.3867, None]\n",
      " 27.43 -  0.35 - 2012-04-16 06:00:22.800000 - [0.3857, 0.3276, None, 0.2925, None]\n",
      " 62.08 -  0.05 - 2012-04-12 04:57:57.400000 - [None, None, None, None]\n",
      " 50.62 -  0.06 - 2012-10-10 06:26:09.600000 - [None, None, None]\n",
      " 28.83 -  0.08 - 2012-10-10 02:09:09.300000 - [None, None, None]\n",
      " 62.45 -  0.10 - 2012-10-16 05:35:16.600000 - [None, None, None, None]\n",
      "246.57 -  0.13 - 2012-10-24 09:23:47.200000 - [0.3582, 0.3186, None, None, None, None]\n",
      "165.86 -  0.01 - 2012-10-16 02:46:55.600000 - [0.3977, 0.39, 0.3171, 0.36, 0.3833, None, None, 0.3835]\n",
      "180.32 -  0.23 - 2012-10-26 17:21:36.700000 - [None, 0.3499, None, None]\n",
      " 11.09 -  0.20 - 2012-04-12 17:17:12.400000 - [None, 0.3965, None, None]\n",
      " 41.08 -  0.06 - 2012-03-20 12:29:07.600000 - [None, 0.2074, None, 0.3982]\n",
      "286.10 -  0.27 - 2012-04-11 06:05:06.400000 - [None, None, 0.3396]\n",
      "305.17 -  0.92 - 2012-03-20 09:45:24.100000 - [0.3716, None, None, None]\n",
      "334.92 -  0.30 - 2012-03-21 00:06:24.300000 - [0.2607, 0.2805, None, 0.331, 0.3193]\n",
      "  4.40 -  0.19 - 2012-04-16 03:37:34.400000 - [0.3953, 0.2727, 0.288, 0.2822, 0.3865]\n",
      "  0.06 -  1.18 - 2012-10-10 22:57:02 - [None, None, None]\n",
      " 73.21 -  0.08 - 2012-11-13 17:55:40.200000 - [0.3726, None, 0.3147, 0.3433, 0.3274, None, None]\n",
      " 48.19 -  0.18 - 2012-10-24 09:32:43.700000 - [None, 0.2129, None, 0.3582]\n",
      " 11.35 -  0.22 - 2012-04-11 20:44:53.200000 - [None, None, None]\n",
      " 30.39 -  0.32 - 2012-04-12 04:01:10.600000 - [None, 0.365, 0.1282, 0.3484, None]\n",
      " 21.05 -  0.22 - 2012-04-16 17:43:52.900000 - [0.337, None, 0.3726, None]\n",
      "132.76 -  0.26 - 2012-04-09 10:37:09.500000 - [None, None, None]\n",
      "228.31 -  0.27 - 2012-04-11 19:26:55 - [0.3992, None, None, None]\n",
      " 35.79 -  0.09 - 2012-04-09 03:28:59.500000 - [0.3142, None, None]\n",
      "212.80 -  0.19 - 2012-04-09 21:33:40.800000 - [None, None, 0.2969, 0.3948]\n",
      "106.74 -  0.23 - 2012-04-15 07:59:32.100000 - [None, None, None, None]\n",
      " 35.62 -  0.08 - 2012-03-20 04:04:46.800000 - [None, 0.3022, 0.3171, 0.2727, 0.3608, 0.3953, None]\n",
      " 41.48 -  0.16 - 2012-04-13 14:50:29.300000 - [None, None, None, None]\n",
      " 42.80 -  0.12 - 2012-04-17 00:54:59 - [None, None, None, None, None]\n",
      " 10.18 -  0.13 - 2012-04-16 03:05:25.800000 - [0.2993, 0.347, None, None]\n",
      " 42.24 -  1.14 - 2012-04-17 12:03:53 - [None, 0.2249, None]\n",
      "114.08 -  0.17 - 2012-04-17 09:07:44.800000 - [None, None, None, None, None]\n",
      "  3.00 -  0.38 - 2012-04-14 13:05:34 - [None, None, None]\n",
      "100.97 -  0.31 - 2012-04-12 07:46:28.300000 - [0.3374, None, 0.3032, None]\n",
      " 47.35 -  0.26 - 2012-04-14 14:21:20.400000 - [None, 0.389, None]\n",
      " 85.23 -  0.19 - 2012-03-20 13:22:16.800000 - [None, 0.389, None, 0.325]\n",
      "487.13 -  0.13 - 2012-03-20 04:10:53.900000 - [None, None, None, None, None]\n",
      " 54.68 -  0.20 - 2012-11-10 08:08:06.300000 - [None, 0.3442, 0.2491, None, None]\n",
      " 71.40 -  0.07 - 2012-10-10 23:09:02 - [0.3743, None, None, 0.3066, None]\n",
      "332.25 -  0.07 - 2012-03-20 09:34:18 - [0.3843, 0.383, 0.3926, 0.3901, None, 0.3857]\n",
      "276.59 -  8.10 - 2012-04-14 01:44:49.800000 - [0.366, 0.2664, None]\n",
      " 59.06 -  0.21 - 2012-11-03 16:31:51.500000 - [0.3884, 0.2488, 0.328, 0.3767, None, None]\n",
      " 23.14 -  0.32 - 2012-03-15 00:41:40.900000 - [None, None, None, None]\n",
      " 23.80 -  0.32 - 2012-04-16 05:02:33.600000 - [None, 0.3496, None, 0.3833]\n",
      "299.99 -  0.29 - 2012-04-11 09:52:08.300000 - [0.1782, 0.1558, 0.2162, 0.213, 0.1729]\n",
      " 25.14 -  0.05 - 2012-10-16 12:03:46.400000 - [0.2869, 0.374, 0.3633, 0.3647, 0.3994]\n",
      "  7.37 -  0.20 - 2012-04-13 00:18:53.400000 - [None, None, 0.348]\n",
      " 25.71 -  0.03 - 2012-11-12 23:57:48 - [0.3472, 0.3389, 0.2869, 0.3433, None]\n",
      " 23.63 -  0.20 - 2012-10-13 18:19:01.400000 - [None, None, None]\n",
      "  0.87 -  0.19 - 2012-04-14 01:36:58.300000 - [0.343, 0.366, None, None]\n",
      "  6.36 -  0.27 - 2012-04-17 13:31:26.100000 - [None, 0.383, None]\n",
      " 17.40 -  0.23 - 2012-04-15 21:20:00.100000 - [0.3792, None, None]\n",
      "185.82 -  0.08 - 2012-04-12 05:09:30.300000 - [None, None, None]\n",
      " 19.63 -  0.06 - 2012-10-11 00:36:01.400000 - [None, None, None]\n",
      "408.87 -  0.62 - 2012-04-14 08:48:46.800000 - [None, None, None, None, None]\n",
      " 79.51 -  0.01 - 2012-04-13 05:27:48.400000 - [None, None, None]\n",
      "481\n",
      "0.6316486070220846\n"
     ]
    }
   ],
   "execution_count": 12
  },
  {
   "metadata": {
    "ExecuteTime": {
     "end_time": "2024-10-02T12:54:00.844341Z",
     "start_time": "2024-10-02T12:51:46.397246Z"
    }
   },
   "cell_type": "code",
   "source": [
    "expected_locs = {}\n",
    "locs = {}\n",
    "peaks = {}\n",
    "\n",
    "embedding_managers = {s : NpyFilesManager(f\"../../data/detections_long/{year}/embedding_{year}_{s.name}-{s.date_start.year}\") for s in stations_c.by_names(input.hydrophone_names)}\n",
    "\n",
    "for pick in tqdm(picks.picks[:]):\n",
    "    expected_det_stations = [input.hydrophone_names[input.hydrophone_letters.index(h)] for h in pick.hydrophones]\n",
    "    expected_det_stations = [stations_c.by_date(pick.detection_times[i]).by_names(expected_det_stations[i])[0] for i in range(len(expected_det_stations))]\n",
    "   # expected_det_dates =  {expected_det_stations[i] : pick.detection_times[i] for i in range(len(expected_det_stations))}\n",
    "    expected_det_dates =  {s : pick.est_source_time + datetime.timedelta(seconds=sound_model_g.get_sound_travel_time(pick.est_source_pos,s.get_pos(), date=pick.est_source_time)) for s in expected_det_stations}\n",
    "    observed_dets = {}\n",
    "    \n",
    "    deltas = []\n",
    "    heights = []\n",
    "    for s in expected_det_stations:\n",
    "        idx = get_closest_detection(detections[s][:,0], expected_det_dates[s])\n",
    "        delta = np.abs(detections[s][idx,0] - expected_det_dates[s]).total_seconds()\n",
    "        if delta < 10:\n",
    "            observed_dets[s] = detections[s][idx]\n",
    "            deltas.append(delta)\n",
    "            heights.append(detections[s][idx][1])\n",
    "    stations = list(observed_dets.keys())\n",
    "    # we keep the closest detection and try to detect others'\n",
    "    #anchor = stations[np.argmin(deltas)]\n",
    "    anchor = stations[np.argmax(heights)]\n",
    "    observed_dets = {anchor: observed_dets[anchor]}\n",
    "    embedding_anchor = get_embedding(embedding_managers, anchor, observed_dets[anchor][0])\n",
    "    \n",
    "    for s in expected_det_stations:\n",
    "        if s == anchor:\n",
    "            continue\n",
    "        embedding = get_embedding(embedding_managers, s, expected_det_dates[s])\n",
    "        shift, peak_height, differences = find_shift(embedding_anchor, embedding)\n",
    "        peaks.setdefault(pick.est_source_time, {})[s] = shift, peak_height, differences\n",
    "        observed_dets[s] = [expected_det_dates[s]+shift, None]\n",
    "    \n",
    "    stations = list(observed_dets.keys())\n",
    "    if len(stations) < 4:\n",
    "        continue  # undetected\n",
    "        \n",
    "    det_pos = [s.get_pos() for s in observed_dets.keys()]\n",
    "    det_times = np.array(list(observed_dets.values()))[:,0]\n",
    "    try:\n",
    "        r = sound_model_g.localize_common_source(det_pos, det_times)\n",
    "    except:\n",
    "        r = None\n",
    "    locs[pick.est_source_time] = r\n",
    "    expected_locs[pick.est_source_time] = [pick.est_source_time] + list(pick.est_source_pos)"
   ],
   "id": "d90164d1795de083",
   "outputs": [
    {
     "data": {
      "text/plain": [
       "  0%|          | 0/76 [00:00<?, ?it/s]"
      ],
      "application/vnd.jupyter.widget-view+json": {
       "version_major": 2,
       "version_minor": 0,
       "model_id": "f1c77d3e0074435ab32cc97a61edd586"
      }
     },
     "metadata": {},
     "output_type": "display_data"
    }
   ],
   "execution_count": 108
  },
  {
   "metadata": {
    "ExecuteTime": {
     "end_time": "2024-10-07T16:14:10.053281Z",
     "start_time": "2024-10-07T16:14:09.881732Z"
    }
   },
   "cell_type": "code",
   "source": [
    "diffs, costs = [], []\n",
    "for i in locs.keys():\n",
    "    if type(locs[i]) == list or locs[i] is None:\n",
    "        continue\n",
    "    diff = np.sqrt(np.sum((np.array(expected_locs[i][1:]) - np.array(locs[i].x[1:]))**2))\n",
    "    if locs[i].cost > 1000:\n",
    "        continue\n",
    "    diffs.append(diff)\n",
    "    costs.append(locs[i].cost)\n",
    "    \n",
    "    print(f'{costs[-1]:6.2f} - {diffs[-1]:5.2f} - {i} - {[(s.name, shift.total_seconds(), f\"{h or -1:.2f}\") for s, (shift, h, _) in peaks[i].items()]}')\n",
    "    \n",
    "data = list(peaks[datetime.datetime(2012,12,12,4,20,19,700000)].values())[3][2]\n",
    "zoom = 0\n",
    "plt.plot(np.linspace(-30+zoom,30-zoom,len(data)-4*zoom), data[2*zoom:(-2*zoom if zoom > 0 else None)])\n",
    "plt.xlim()\n",
    "\n",
    "print(len(costs))\n",
    "print(np.mean(diffs))\n",
    "#20.15 -  0.02 - 2012-12-12 03:47:52.100000 - [('NEAMS', -1.0, '0.40'), ('SWAMS', -2.0, '0.09'), ('MAD', -4.0, '0.38'), ('WKER1', 0.0, '0.09'), ('WKER3', -5.0, '0.08'), ('NCRO3', 0.0, '0.10'), ('RAMA', 4.0, '0.49'), ('H01W1', 1.0, '0.47')]\n",
    "# 272.86 -  0.06 - 2012-12-12 03:47:52.100000 - [('NEAMS', 14.0, '0.18'), ('SWAMS', -2.0, '0.09'), ('MAD', 12.0, '0.09'), ('WKER1', 0.0, '0.09'), ('WKER3', -5.0, '0.08'), ('NCRO3', 0.0, '0.10'), ('RAMA', -7.0, '0.13'), ('H01W1', 12.0, '0.19')]"
   ],
   "id": "102cf21fa40f44ec",
   "outputs": [
    {
     "name": "stdout",
     "output_type": "stream",
     "text": [
      "283.51 -  0.06 - 2012-12-12 04:20:19.700000 - [('NEAMS', 0.0, '0.27'), ('SWAMS', -1.0, '0.33'), ('MAD', 0.0, '0.28'), ('WKER2', -2.0, '0.31'), ('WKER1', -2.0, '0.36'), ('WKER3', 0.0, '0.30'), ('RAMA', 0.0, '0.34')]\n",
      "  6.63 -  0.11 - 2012-12-12 02:23:55 - [('NEAMS', -10.0, '0.33'), ('MAD', -6.0, '0.33'), ('WKER2', 0.0, '0.26'), ('WKER1', 0.0, '0.36'), ('NCRO3', 0.0, '0.29')]\n",
      "158.49 -  0.06 - 2012-12-12 02:37:07.700000 - [('NEAMS', 0.0, '-1.00'), ('WKER2', 0.0, '-1.00'), ('WKER1', -14.0, '0.40'), ('WKER3', 0.0, '-1.00'), ('NCRO3', -2.0, '0.38'), ('RAMA', 0.0, '-1.00')]\n",
      "161.68 -  0.05 - 2012-12-12 02:32:11.500000 - [('NEAMS', -10.0, '0.38'), ('SWAMS', 0.0, '-1.00'), ('MAD', 0.0, '-1.00'), ('WKER2', -4.0, '0.36'), ('WKER3', -11.0, '0.33')]\n",
      " 60.83 -  0.14 - 2012-12-12 13:42:02.300000 - [('SWAMS', -2.0, '0.36'), ('MAD', -1.0, '0.37'), ('WKER2', 4.0, '0.30'), ('WKER1', -2.0, '0.35'), ('WKER3', 0.0, '-1.00')]\n",
      " 64.99 -  0.04 - 2012-12-12 04:40:54.700000 - [('NEAMS', 0.0, '0.22'), ('SWAMS', -2.0, '0.38'), ('MAD', 0.0, '-1.00'), ('WKER2', 1.0, '0.32'), ('WKER1', 0.0, '0.27'), ('NCRO3', 2.0, '0.37'), ('RAMA', 2.0, '0.37')]\n",
      "112.39 -  0.06 - 2012-12-12 03:09:21.100000 - [('NEAMS', 4.0, '0.33'), ('MAD', -2.0, '0.33'), ('WKER2', 0.0, '0.31'), ('WKER1', 0.0, '0.24'), ('WKER3', 1.0, '0.33'), ('NCRO3', -12.0, '0.33')]\n",
      "204.92 -  0.13 - 2012-12-12 03:52:13.400000 - [('NEAMS', 0.0, '-1.00'), ('SWAMS', 0.0, '-1.00'), ('MAD', 0.0, '-1.00'), ('WKER1', 0.0, '-1.00'), ('WKER3', 0.0, '-1.00'), ('NCRO3', 0.0, '-1.00')]\n",
      " 45.21 -  0.04 - 2012-12-12 05:08:52.100000 - [('NEAMS', -2.0, '0.30'), ('SWAMS', 1.0, '0.34'), ('MAD', -2.0, '0.39'), ('WKER2', 0.0, '0.39'), ('WKER3', 0.0, '-1.00'), ('NCRO3', -2.0, '0.39')]\n",
      " 57.08 -  0.09 - 2012-12-12 03:45:06.500000 - [('NEAMS', 0.0, '0.24'), ('SWAMS', 2.0, '0.37'), ('MAD', -2.0, '0.35'), ('WKER2', 0.0, '0.23'), ('WKER1', 0.0, '0.29'), ('NCRO3', -1.0, '0.34'), ('RAMA', -1.0, '0.39')]\n",
      " 52.20 -  0.07 - 2012-12-12 03:38:22.200000 - [('NEAMS', 0.0, '-1.00'), ('SWAMS', 0.0, '0.36'), ('MAD', 0.0, '0.37'), ('WKER2', 1.0, '0.33'), ('WKER3', 0.0, '0.27'), ('NCRO3', -2.0, '0.37'), ('RAMA', 4.0, '0.34')]\n",
      "106.88 -  0.08 - 2012-12-12 02:57:00.400000 - [('SWAMS', -1.0, '0.38'), ('MAD', -1.0, '0.32'), ('WKER2', -1.0, '0.33'), ('WKER1', -2.0, '0.36'), ('WKER3', -1.0, '0.40'), ('NCRO3', 0.0, '-1.00'), ('RAMA', 2.0, '0.38')]\n",
      " 34.23 -  0.09 - 2012-12-12 07:32:56.400000 - [('NEAMS', -1.0, '0.39'), ('SWAMS', 0.0, '0.28'), ('MAD', -4.0, '0.39'), ('WKER2', 0.0, '0.38'), ('WKER3', 2.0, '0.33'), ('NCRO3', -2.0, '0.37'), ('RAMA', 6.0, '0.40')]\n",
      "140.99 -  0.07 - 2012-12-12 02:35:55.300000 - [('NEAMS', -1.0, '0.33'), ('SWAMS', 0.0, '0.28'), ('MAD', 2.0, '0.38'), ('WKER2', 4.0, '0.38'), ('WKER3', 0.0, '0.38'), ('NCRO3', 0.0, '-1.00'), ('RAMA', -6.0, '0.38')]\n",
      " 95.09 -  0.11 - 2012-12-12 04:14:00 - [('NEAMS', -2.0, '0.38'), ('SWAMS', 0.0, '0.27'), ('WKER2', 0.0, '0.28'), ('WKER1', -2.0, '0.33'), ('WKER3', -2.0, '0.31'), ('NCRO3', 1.0, '0.39'), ('RAMA', -6.0, '0.38')]\n",
      " 31.22 -  0.41 - 2012-12-12 04:49:01.300000 - [('NEAMS', -11.0, '0.37'), ('SWAMS', -14.0, '0.36'), ('WKER1', -2.0, '0.33')]\n",
      " 78.63 -  0.18 - 2012-12-12 04:17:09.500000 - [('NEAMS', 0.0, '-1.00'), ('WKER2', 2.0, '0.38'), ('WKER1', 0.0, '-1.00'), ('WKER3', 0.0, '0.36'), ('NCRO3', -4.0, '0.38'), ('RAMA', 0.0, '-1.00')]\n",
      "100.63 -  0.07 - 2012-12-12 07:42:12.100000 - [('SWAMS', 4.0, '0.34'), ('MAD', 2.0, '0.36'), ('WKER2', 1.0, '0.34'), ('WKER1', 0.0, '-1.00'), ('WKER3', 0.0, '0.26'), ('NCRO3', 0.0, '0.31'), ('RAMA', 0.0, '0.34')]\n",
      "126.05 -  0.14 - 2012-12-12 01:04:22.700000 - [('NEAMS', 0.0, '0.30'), ('MAD', 2.0, '0.37'), ('WKER2', 3.0, '0.39'), ('WKER1', 0.0, '0.34'), ('WKER3', 0.0, '0.24'), ('NCRO3', -8.0, '0.32'), ('RAMA', -2.0, '0.37')]\n",
      " 61.18 -  0.08 - 2012-12-12 04:10:07.900000 - [('NEAMS', 1.0, '0.30'), ('SWAMS', 4.0, '0.37'), ('MAD', -3.0, '0.37'), ('WKER2', 0.0, '-1.00'), ('WKER1', 0.0, '0.35'), ('NCRO3', 0.0, '0.32'), ('RAMA', 0.0, '-1.00')]\n",
      " 40.31 -  0.25 - 2012-12-12 00:54:29.900000 - [('NEAMS', 1.0, '0.39'), ('SWAMS', -2.0, '0.40'), ('MAD', 12.0, '0.38'), ('WKER2', 3.0, '0.34'), ('WKER1', 2.0, '0.39'), ('NCRO3', -4.0, '0.37')]\n",
      "108.93 -  0.01 - 2012-12-12 04:02:46.700000 - [('NEAMS', -3.0, '0.34'), ('SWAMS', 6.0, '0.40'), ('MAD', -2.0, '0.39'), ('WKER2', 0.0, '0.28'), ('WKER3', -5.0, '0.38'), ('NCRO3', 0.0, '0.29')]\n",
      " 64.61 -  0.10 - 2012-12-12 01:39:27.700000 - [('NEAMS', 4.0, '0.33'), ('SWAMS', 0.0, '-1.00'), ('WKER2', 0.0, '0.30'), ('WKER1', -1.0, '0.31'), ('WKER3', -2.0, '0.33')]\n",
      "125.73 -  0.03 - 2012-12-12 02:44:46.400000 - [('NEAMS', 2.0, '0.38'), ('SWAMS', 1.0, '0.36'), ('MAD', 2.0, '0.36'), ('WKER2', 0.0, '0.36'), ('WKER1', 0.0, '0.39'), ('NCRO3', 0.0, '-1.00'), ('RAMA', -4.0, '0.35')]\n",
      "202.45 -  0.15 - 2012-12-12 01:02:28.200000 - [('NEAMS', 0.0, '0.30'), ('SWAMS', 0.0, '0.30'), ('WKER2', 1.0, '0.36'), ('WKER1', 0.0, '0.34'), ('WKER3', 0.0, '0.29'), ('NCRO3', 0.0, '-1.00')]\n",
      " 19.53 -  0.09 - 2012-12-12 01:34:08.600000 - [('NEAMS', 0.0, '0.37'), ('SWAMS', -2.0, '0.40'), ('MAD', -6.0, '0.39'), ('WKER1', 1.0, '0.38'), ('WKER3', 3.0, '0.36')]\n",
      " 93.50 -  0.05 - 2012-12-12 02:49:30.300000 - [('NEAMS', 0.0, '0.24'), ('SWAMS', -4.0, '0.37'), ('MAD', -1.0, '0.35'), ('WKER1', -2.0, '0.34'), ('WKER3', 0.0, '0.28'), ('NCRO3', 0.0, '-1.00'), ('RAMA', 0.0, '0.28')]\n",
      " 54.50 -  0.15 - 2012-12-12 03:27:23 - [('NEAMS', 0.0, '0.30'), ('SWAMS', -6.0, '0.38'), ('MAD', -6.0, '0.36'), ('WKER2', 0.0, '0.40'), ('WKER3', -1.0, '0.34'), ('NCRO3', 0.0, '-1.00'), ('RAMA', 0.0, '0.28')]\n",
      " 71.70 -  0.05 - 2012-12-12 04:46:59.100000 - [('NEAMS', -1.0, '0.40'), ('SWAMS', 4.0, '0.32'), ('MAD', 2.0, '0.34'), ('WKER2', 0.0, '0.38'), ('WKER1', -2.0, '0.35'), ('WKER3', 5.0, '0.39')]\n",
      " 89.15 -  0.08 - 2012-12-12 02:50:05.800000 - [('NEAMS', 0.0, '-1.00'), ('SWAMS', 0.0, '-1.00'), ('WKER2', 0.0, '0.39'), ('WKER1', 0.0, '-1.00'), ('WKER3', 0.0, '-1.00'), ('NCRO3', 0.0, '-1.00'), ('RAMA', 0.0, '-1.00')]\n",
      " 68.38 -  0.10 - 2012-12-12 20:02:21.200000 - [('NEAMS', 0.0, '0.22'), ('SWAMS', -2.0, '0.33'), ('MAD', -2.0, '0.39'), ('WKER2', 0.0, '0.22'), ('WKER1', -4.0, '0.33'), ('WKER3', 0.0, '0.25'), ('H08N1', 4.0, '0.40'), ('RAMA', 0.0, '0.26')]\n",
      " 11.44 -  0.03 - 2012-12-12 01:55:51.200000 - [('NEAMS', 0.0, '0.30'), ('MAD', 0.0, '-1.00'), ('WKER1', 11.0, '0.37'), ('WKER3', 0.0, '0.28')]\n",
      "126.69 -  0.17 - 2012-12-12 03:47:52.100000 - [('NEAMS', -2.0, '0.34'), ('SWAMS', 5.0, '0.36'), ('MAD', 0.0, '0.36'), ('WKER2', 0.0, '0.25'), ('WKER1', -1.0, '0.35'), ('NCRO3', 6.0, '0.35'), ('RAMA', 0.0, '-1.00')]\n",
      "103.34 -  0.06 - 2012-12-12 02:10:11 - [('NEAMS', -4.0, '0.38'), ('SWAMS', 0.0, '-1.00'), ('MAD', 2.0, '0.34'), ('WKER2', 0.0, '0.40'), ('WKER1', -2.0, '0.34'), ('NCRO3', 2.0, '0.32'), ('RAMA', 0.0, '0.34')]\n",
      "192.74 -  0.04 - 2012-12-12 02:38:33.500000 - [('NEAMS', 4.0, '0.36'), ('SWAMS', 4.0, '0.38'), ('MAD', 0.0, '-1.00'), ('WKER2', -13.0, '0.35'), ('WKER1', 6.0, '0.38'), ('WKER3', -8.0, '0.39'), ('RAMA', 0.0, '0.37')]\n",
      " 52.30 -  0.10 - 2012-12-12 05:27:25.700000 - [('NEAMS', 2.0, '0.32'), ('SWAMS', 0.0, '0.39'), ('MAD', 0.0, '0.30'), ('WKER1', 0.0, '0.32'), ('WKER3', 0.0, '0.31'), ('NCRO3', -8.0, '0.37'), ('RAMA', 6.0, '0.38')]\n",
      "134.30 -  0.08 - 2012-12-12 03:10:45.700000 - [('NEAMS', 0.0, '0.32'), ('SWAMS', 0.0, '0.32'), ('MAD', 0.0, '-1.00'), ('WKER2', 0.0, '0.27'), ('WKER1', 0.0, '0.29'), ('NCRO3', -2.0, '0.38'), ('RAMA', 4.0, '0.34')]\n",
      "134.50 -  0.12 - 2012-12-12 00:45:45.100000 - [('NEAMS', -14.0, '0.38'), ('SWAMS', 0.0, '-1.00'), ('WKER3', 8.0, '0.38')]\n",
      " 53.67 -  0.17 - 2012-12-12 01:58:55.800000 - [('NEAMS', 0.0, '0.37'), ('SWAMS', 3.0, '0.37'), ('WKER2', 0.0, '0.30'), ('WKER1', -2.0, '0.34'), ('WKER3', 2.0, '0.37')]\n",
      " 41.11 -  0.01 - 2012-12-12 04:29:43.700000 - [('SWAMS', -2.0, '0.35'), ('MAD', -4.0, '0.35'), ('WKER2', -6.0, '0.39'), ('WKER1', 0.0, '0.30'), ('WKER3', 0.0, '0.34'), ('NCRO3', -6.0, '0.33'), ('RAMA', 2.0, '0.31')]\n",
      "  4.58 -  0.16 - 2012-12-12 02:02:18.300000 - [('NEAMS', 0.0, '0.26'), ('MAD', -2.0, '0.38'), ('WKER1', 0.0, '0.28')]\n",
      " 45.42 -  0.11 - 2012-12-12 04:18:58 - [('NEAMS', 1.0, '0.37'), ('SWAMS', 1.0, '0.36'), ('MAD', -2.0, '0.40'), ('WKER2', 0.0, '0.27'), ('WKER1', 4.0, '0.36'), ('NCRO3', 0.0, '-1.00'), ('RAMA', 1.0, '0.30')]\n",
      " 87.51 -  0.02 - 2012-12-12 02:14:44.700000 - [('NEAMS', -4.0, '0.39'), ('MAD', -7.0, '0.37'), ('WKER2', -5.0, '0.40'), ('WKER1', 0.0, '0.26'), ('WKER3', -2.0, '0.35'), ('NCRO3', -6.0, '0.35')]\n",
      " 41.59 -  0.11 - 2012-12-12 11:15:34.400000 - [('NEAMS', 0.0, '0.36'), ('SWAMS', 0.0, '0.29'), ('MAD', 0.0, '0.27'), ('WKER2', 0.0, '0.29'), ('WKER1', 1.0, '0.35'), ('H08N1', -12.0, '0.35'), ('NCRO3', 2.0, '0.37'), ('RAMA', 2.0, '0.38')]\n",
      " 48.48 -  0.03 - 2012-12-12 01:28:55.400000 - [('SWAMS', -1.0, '0.37'), ('MAD', -1.0, '0.40'), ('WKER2', -2.0, '0.39'), ('WKER1', -2.0, '0.35'), ('WKER3', 0.0, '0.29'), ('NCRO3', 2.0, '0.38')]\n",
      "102.03 -  0.16 - 2012-12-12 01:46:07.900000 - [('NEAMS', 4.0, '0.35'), ('SWAMS', 4.0, '0.38'), ('WKER2', 0.0, '0.26'), ('WKER1', -4.0, '0.38'), ('WKER3', -1.0, '0.38'), ('NCRO3', 0.0, '0.28')]\n",
      " 94.30 -  0.10 - 2012-12-12 02:30:23.600000 - [('NEAMS', 0.0, '0.22'), ('SWAMS', 3.0, '0.31'), ('MAD', -3.0, '0.30'), ('WKER2', 0.0, '0.31'), ('WKER1', 0.0, '0.33'), ('NCRO3', -10.0, '0.36'), ('RAMA', 2.0, '0.31')]\n",
      " 74.35 -  0.14 - 2012-12-12 03:24:29.600000 - [('NEAMS', 0.0, '0.25'), ('MAD', 0.0, '0.21'), ('WKER2', 0.0, '0.27'), ('WKER1', 1.0, '0.31'), ('WKER3', 3.0, '0.36'), ('NCRO3', 0.0, '0.29'), ('H01W1', -10.0, '0.32')]\n",
      " 11.54 -  0.26 - 2012-12-12 02:05:21.400000 - [('NEAMS', 0.0, '0.36'), ('MAD', 0.0, '-1.00'), ('WKER1', 0.0, '0.26'), ('WKER3', 0.0, '0.23')]\n",
      "104.64 -  0.10 - 2012-12-12 02:26:41.400000 - [('SWAMS', 1.0, '0.34'), ('MAD', 2.0, '0.32'), ('WKER2', 0.0, '0.29'), ('WKER1', -1.0, '0.34'), ('WKER3', 0.0, '-1.00'), ('NCRO3', -2.0, '0.34')]\n",
      " 99.64 -  0.09 - 2012-12-12 04:06:28 - [('SWAMS', -4.0, '0.33'), ('MAD', 2.0, '0.38'), ('WKER2', 0.0, '0.28'), ('WKER1', 0.0, '0.36'), ('WKER3', 0.0, '-1.00'), ('NCRO3', 2.0, '0.40'), ('RAMA', 1.0, '0.39')]\n",
      " 74.12 -  0.02 - 2012-12-12 02:24:32.500000 - [('NEAMS', 0.0, '-1.00'), ('SWAMS', -4.0, '0.34'), ('WKER2', 0.0, '0.29'), ('WKER1', 0.0, '0.34'), ('WKER3', 2.0, '0.36'), ('NCRO3', 0.0, '0.30')]\n",
      "651.12 -  0.03 - 2012-12-12 03:34:53.900000 - [('NEAMS', 12.0, '0.40'), ('SWAMS', -6.0, '0.40'), ('MAD', 0.0, '-1.00'), ('WKER1', -11.0, '0.37'), ('WKER3', 0.0, '-1.00'), ('NCRO3', 2.0, '0.33'), ('RAMA', -1.0, '0.30')]\n",
      "299.52 -  0.13 - 2012-12-12 05:58:36.900000 - [('NEAMS', -1.0, '0.37'), ('SWAMS', 8.0, '0.38'), ('MAD', 14.0, '0.38'), ('WKER2', 0.0, '0.38'), ('WKER3', -2.0, '0.40'), ('NCRO3', 0.0, '-1.00'), ('RAMA', -2.0, '0.36')]\n",
      " 33.98 -  0.16 - 2012-12-12 03:14:41.100000 - [('SWAMS', -3.0, '0.36'), ('MAD', 0.0, '-1.00'), ('WKER2', 2.0, '0.38'), ('WKER1', 0.0, '-1.00'), ('WKER3', 0.0, '0.28'), ('NCRO3', 0.0, '-1.00'), ('RAMA', 1.0, '0.37')]\n",
      "104.35 -  0.16 - 2012-12-12 02:18:00 - [('NEAMS', 0.0, '-1.00'), ('SWAMS', 0.0, '0.32'), ('MAD', 0.0, '-1.00'), ('WKER2', 8.0, '0.35'), ('WKER1', 0.0, '-1.00'), ('WKER3', 8.0, '0.39')]\n",
      " 29.64 -  0.08 - 2012-12-12 01:30:47.600000 - [('SWAMS', 0.0, '0.35'), ('MAD', 0.0, '0.25'), ('WKER2', -1.0, '0.37'), ('WKER1', 0.0, '0.26'), ('WKER3', 0.0, '0.37')]\n",
      "153.84 -  0.10 - 2012-12-12 20:02:08 - [('NEAMS', -2.0, '0.37'), ('SWAMS', 6.0, '0.36'), ('WKER2', 4.0, '0.35'), ('WKER1', 0.0, '0.40'), ('WKER3', -6.0, '0.37'), ('NCRO3', 0.0, '0.29'), ('RAMA', 5.0, '0.39')]\n",
      " 57.01 -  0.10 - 2012-12-12 06:08:57.400000 - [('NEAMS', -2.0, '0.31'), ('SWAMS', 0.0, '-1.00'), ('MAD', 0.0, '-1.00'), ('WKER2', 0.0, '0.30'), ('WKER1', 0.0, '0.25'), ('NCRO3', 0.0, '0.39'), ('RAMA', 2.0, '0.36')]\n",
      "110.33 -  0.11 - 2012-12-12 03:56:35.800000 - [('SWAMS', 0.0, '0.18'), ('MAD', 0.0, '0.36'), ('WKER2', 0.0, '0.26'), ('WKER1', 4.0, '0.35'), ('WKER3', 0.0, '0.20'), ('NCRO3', 0.0, '0.28'), ('RAMA', 0.0, '0.33')]\n",
      "60\n",
      "0.10160403708474539\n"
     ]
    },
    {
     "data": {
      "text/plain": [
       "<Figure size 640x480 with 1 Axes>"
      ],
      "image/png": "[encoded data removed]"
     },
     "metadata": {},
     "output_type": "display_data"
    }
   ],
   "execution_count": 23
  },
  {
   "metadata": {
    "ExecuteTime": {
     "end_time": "2024-10-02T22:54:15.427218Z",
     "start_time": "2024-10-02T18:35:00.725655Z"
    }
   },
   "cell_type": "code",
   "source": [
    "diffsT, costsT, nbT = [], [], []\n",
    "\n",
    "embedding_managers = {s : NpyFilesManager(f\"../../data/detections_long/{year}/embedding_{year}_{s.name}-{s.date_start.year}\") for s in stations_c.by_names(input.hydrophone_names)}\n",
    "\n",
    "max_shifts = list(range(8,129,8))\n",
    "half_focus_sizes = list(range(4,133,8))\n",
    "\n",
    "for MAX_SHIFT in tqdm(max_shifts):\n",
    "    for HALF_FOCUS_SIZE in tqdm(half_focus_sizes, leave=False):\n",
    "        def get_embedding(embedding_managers, station, date):\n",
    "            m = embedding_managers[station]\n",
    "            return m.getSegment(date-datetime.timedelta(seconds=TIME_RES*(MAX_SHIFT+HALF_FOCUS_SIZE+1)), date+datetime.timedelta(seconds=TIME_RES*(MAX_SHIFT+HALF_FOCUS_SIZE+1)))\n",
    "        \n",
    "        def get_closest_detection(detection_dates, date):\n",
    "            idx = np.searchsorted(detection_dates, date)\n",
    "            if idx > 0 and np.abs(detection_dates[idx-1] - date) < np.abs(detection_dates[idx] - date):\n",
    "                idx = idx - 1\n",
    "            elif idx < len(detection_dates)-1 and np.abs(detection_dates[idx+1] - date) < np.abs(detection_dates[idx] - date):\n",
    "                idx = idx + 1\n",
    "            return idx\n",
    "        \n",
    "        def find_shift(anchor_embedding, detection_embedding, max_diff=0.3):\n",
    "            center = embedding_anchor.shape[1]//2\n",
    "            anchor_embedding = anchor_embedding[:, center-HALF_FOCUS_SIZE:center+HALF_FOCUS_SIZE]\n",
    "            \n",
    "            detection_embedding = [detection_embedding[:, center+i-HALF_FOCUS_SIZE:center+i+HALF_FOCUS_SIZE] for i in range(-MAX_SHIFT, MAX_SHIFT+1)]\n",
    "            differences = np.sqrt(np.sum((np.array(detection_embedding)-anchor_embedding[np.newaxis,:,:])**2, axis=(1,2))) / np.sqrt(HALF_FOCUS_SIZE*2*16*2)\n",
    "        \n",
    "            peaks, _ = find_peaks(-differences, height=-max_diff)\n",
    "            peaks_s = np.round((peaks - len(differences)//2)*TIME_RES).astype(np.int32)\n",
    "            if len(peaks_s)>0:\n",
    "                idx = np.argmin(np.abs(peaks_s))\n",
    "                peak, height = peaks_s[idx], differences[peaks[idx]]\n",
    "            else:\n",
    "                peak, height = 0, None\n",
    "            \n",
    "            return datetime.timedelta(seconds=int(peak)), height, differences\n",
    "        \n",
    "        expected_locs = {}\n",
    "        locs = {}\n",
    "        peaks = {}\n",
    "        \n",
    "        \n",
    "        \n",
    "        for pick in tqdm(picks.picks[:], leave=False):\n",
    "            expected_det_stations = [input.hydrophone_names[input.hydrophone_letters.index(h)] for h in pick.hydrophones]\n",
    "            expected_det_stations = [stations_c.by_date(pick.detection_times[i]).by_names(expected_det_stations[i])[0] for i in range(len(expected_det_stations))]\n",
    "           # expected_det_dates =  {expected_det_stations[i] : pick.detection_times[i] for i in range(len(expected_det_stations))}\n",
    "            expected_det_dates =  {s : pick.est_source_time + datetime.timedelta(seconds=sound_model_g.get_sound_travel_time(pick.est_source_pos,s.get_pos(), date=pick.est_source_time)) for s in expected_det_stations}\n",
    "            observed_dets = {}\n",
    "            \n",
    "            deltas = []\n",
    "            heights = []\n",
    "            for s in expected_det_stations:\n",
    "                idx = get_closest_detection(detections[s][:,0], expected_det_dates[s])\n",
    "                delta = np.abs(detections[s][idx,0] - expected_det_dates[s]).total_seconds()\n",
    "                if delta < 10:\n",
    "                    observed_dets[s] = detections[s][idx]\n",
    "                    deltas.append(delta)\n",
    "                    heights.append(detections[s][idx][1])\n",
    "            stations = list(observed_dets.keys())\n",
    "            # we keep the closest detection and try to detect others'\n",
    "            #anchor = stations[np.argmin(deltas)]\n",
    "            anchor = stations[np.argmax(heights)]\n",
    "            observed_dets = {anchor: observed_dets[anchor]}\n",
    "            embedding_anchor = get_embedding(embedding_managers, anchor, observed_dets[anchor][0])\n",
    "            \n",
    "            for s in expected_det_stations:\n",
    "                if s == anchor:\n",
    "                    continue\n",
    "                try:\n",
    "                    embedding = get_embedding(embedding_managers, s, expected_det_dates[s])\n",
    "                except:\n",
    "                    continue\n",
    "                shift, peak_height, differences = find_shift(embedding_anchor, embedding)\n",
    "                if not peak_height:\n",
    "                    continue\n",
    "                peaks.setdefault(pick.est_source_time, {})[s] = shift, peak_height, differences\n",
    "                observed_dets[s] = [expected_det_dates[s]+shift, peak_height]\n",
    "            \n",
    "            stations = list(observed_dets.keys())\n",
    "            if len(stations) < 4:\n",
    "                continue  # undetected\n",
    "                \n",
    "            det_pos = [s.get_pos() for s in observed_dets.keys()]\n",
    "            det_times = np.array(list(observed_dets.values()))[:,0]\n",
    "            try:\n",
    "                r = sound_model_g.localize_common_source(det_pos, det_times)\n",
    "            except:\n",
    "                r = None\n",
    "            locs[pick.est_source_time] = r\n",
    "            expected_locs[pick.est_source_time] = [pick.est_source_time] + list(pick.est_source_pos)\n",
    "            \n",
    "        diffs, costs = {}, {}\n",
    "        for i in locs.keys():\n",
    "            if type(locs[i]) == list or locs[i] is None:\n",
    "                continue\n",
    "            diff = np.sqrt(np.sum((np.array(expected_locs[i][1:]) - np.array(locs[i].x[1:]))**2))\n",
    "            if locs[i].cost > 1000:\n",
    "                continue\n",
    "            diffs[i] = diff\n",
    "            costs[i] = locs[i].cost\n",
    "        \n",
    "        costsT.append(costs)\n",
    "        diffsT.append(diffs)\n",
    "        nbT.append(len(list(costs.keys())))"
   ],
   "id": "e3b6f4135784c0bd",
   "outputs": [
    {
     "data": {
      "text/plain": [
       "  0%|          | 0/16 [00:00<?, ?it/s]"
      ],
      "application/vnd.jupyter.widget-view+json": {
       "version_major": 2,
       "version_minor": 0,
       "model_id": "9ef5568065f74a35a7aaaab01b9ebe72"
      }
     },
     "metadata": {},
     "output_type": "display_data"
    },
    {
     "data": {
      "text/plain": [
       "  0%|          | 0/17 [00:00<?, ?it/s]"
      ],
      "application/vnd.jupyter.widget-view+json": {
       "version_major": 2,
       "version_minor": 0,
       "model_id": "d8172d357464479f933c55775b5021c4"
      }
     },
     "metadata": {},
     "output_type": "display_data"
    },
    {
     "data": {
      "text/plain": [
       "  0%|          | 0/76 [00:00<?, ?it/s]"
      ],
      "application/vnd.jupyter.widget-view+json": {
       "version_major": 2,
       "version_minor": 0,
       "model_id": "a26f596324f44a23bd943b639c2def92"
      }
     },
     "metadata": {},
     "output_type": "display_data"
    },
    {
     "data": {
      "text/plain": [
       "  0%|          | 0/76 [00:00<?, ?it/s]"
      ],
      "application/vnd.jupyter.widget-view+json": {
       "version_major": 2,
       "version_minor": 0,
       "model_id": "eb9558595cb54a08afe51db9b3bdcdf0"
      }
     },
     "metadata": {},
     "output_type": "display_data"
    },
    {
     "data": {
      "text/plain": [
       "  0%|          | 0/76 [00:00<?, ?it/s]"
      ],
      "application/vnd.jupyter.widget-view+json": {
       "version_major": 2,
       "version_minor": 0,
       "model_id": "fd2c948f30a942c8a2cd71cf224f0e08"
      }
     },
     "metadata": {},
     "output_type": "display_data"
    },
    {
     "data": {
      "text/plain": [
       "  0%|          | 0/76 [00:00<?, ?it/s]"
      ],
      "application/vnd.jupyter.widget-view+json": {
       "version_major": 2,
       "version_minor": 0,
       "model_id": "31e0d7fd33e94ff78a57df75c05bff14"
      }
     },
     "metadata": {},
     "output_type": "display_data"
    },
    {
     "data": {
      "text/plain": [
       "  0%|          | 0/76 [00:00<?, ?it/s]"
      ],
      "application/vnd.jupyter.widget-view+json": {
       "version_major": 2,
       "version_minor": 0,
       "model_id": "7b19478dcb2d4ec2a9eda0aaf0ae0205"
      }
     },
     "metadata": {},
     "output_type": "display_data"
    },
    {
     "data": {
      "text/plain": [
       "  0%|          | 0/76 [00:00<?, ?it/s]"
      ],
      "application/vnd.jupyter.widget-view+json": {
       "version_major": 2,
       "version_minor": 0,
       "model_id": "0db947b41f224e5a91c12bf46e25dd9f"
      }
     },
     "metadata": {},
     "output_type": "display_data"
    },
    {
     "data": {
      "text/plain": [
       "  0%|          | 0/76 [00:00<?, ?it/s]"
      ],
      "application/vnd.jupyter.widget-view+json": {
       "version_major": 2,
       "version_minor": 0,
       "model_id": "98d1fc64bca949769b808a3805b128e1"
      }
     },
     "metadata": {},
     "output_type": "display_data"
    },
    {
     "data": {
      "text/plain": [
       "  0%|          | 0/76 [00:00<?, ?it/s]"
      ],
      "application/vnd.jupyter.widget-view+json": {
       "version_major": 2,
       "version_minor": 0,
       "model_id": "c59b4180f42c4288bd5a1821641c6946"
      }
     },
     "metadata": {},
     "output_type": "display_data"
    },
    {
     "data": {
      "text/plain": [
       "  0%|          | 0/76 [00:00<?, ?it/s]"
      ],
      "application/vnd.jupyter.widget-view+json": {
       "version_major": 2,
       "version_minor": 0,
       "model_id": "8786009ebe21484c9292ec98acafc6d3"
      }
     },
     "metadata": {},
     "output_type": "display_data"
    },
    {
     "data": {
      "text/plain": [
       "  0%|          | 0/76 [00:00<?, ?it/s]"
      ],
      "application/vnd.jupyter.widget-view+json": {
       "version_major": 2,
       "version_minor": 0,
       "model_id": "dff6226ec8834410a032e200552fe6ad"
      }
     },
     "metadata": {},
     "output_type": "display_data"
    },
    {
     "data": {
      "text/plain": [
       "  0%|          | 0/76 [00:00<?, ?it/s]"
      ],
      "application/vnd.jupyter.widget-view+json": {
       "version_major": 2,
       "version_minor": 0,
       "model_id": "91b83c6d0bf8498393f5825d0876451a"
      }
     },
     "metadata": {},
     "output_type": "display_data"
    },
    {
     "data": {
      "text/plain": [
       "  0%|          | 0/76 [00:00<?, ?it/s]"
      ],
      "application/vnd.jupyter.widget-view+json": {
       "version_major": 2,
       "version_minor": 0,
       "model_id": "325ae0dbfe1a45c2ba1bd220c462bc7d"
      }
     },
     "metadata": {},
     "output_type": "display_data"
    },
    {
     "data": {
      "text/plain": [
       "  0%|          | 0/76 [00:00<?, ?it/s]"
      ],
      "application/vnd.jupyter.widget-view+json": {
       "version_major": 2,
       "version_minor": 0,
       "model_id": "17286e053f714410a25794361f0c13ab"
      }
     },
     "metadata": {},
     "output_type": "display_data"
    },
    {
     "data": {
      "text/plain": [
       "  0%|          | 0/76 [00:00<?, ?it/s]"
      ],
      "application/vnd.jupyter.widget-view+json": {
       "version_major": 2,
       "version_minor": 0,
       "model_id": "95dd57d2f1f44ba8a64b3174bcc487a2"
      }
     },
     "metadata": {},
     "output_type": "display_data"
    },
    {
     "data": {
      "text/plain": [
       "  0%|          | 0/76 [00:00<?, ?it/s]"
      ],
      "application/vnd.jupyter.widget-view+json": {
       "version_major": 2,
       "version_minor": 0,
       "model_id": "6508ebddc6cc4773ab7b01ed408c15fd"
      }
     },
     "metadata": {},
     "output_type": "display_data"
    },
    {
     "data": {
      "text/plain": [
       "  0%|          | 0/76 [00:00<?, ?it/s]"
      ],
      "application/vnd.jupyter.widget-view+json": {
       "version_major": 2,
       "version_minor": 0,
       "model_id": "bdafcd390af0457aab15d0528fef08dd"
      }
     },
     "metadata": {},
     "output_type": "display_data"
    },
    {
     "data": {
      "text/plain": [
       "  0%|          | 0/76 [00:00<?, ?it/s]"
      ],
      "application/vnd.jupyter.widget-view+json": {
       "version_major": 2,
       "version_minor": 0,
       "model_id": "38f2d71f58424d42868355c798d217c4"
      }
     },
     "metadata": {},
     "output_type": "display_data"
    },
    {
     "data": {
      "text/plain": [
       "  0%|          | 0/17 [00:00<?, ?it/s]"
      ],
      "application/vnd.jupyter.widget-view+json": {
       "version_major": 2,
       "version_minor": 0,
       "model_id": "dc3285fe4398481ba61f47d3fbbcf2bf"
      }
     },
     "metadata": {},
     "output_type": "display_data"
    },
    {
     "data": {
      "text/plain": [
       "  0%|          | 0/76 [00:00<?, ?it/s]"
      ],
      "application/vnd.jupyter.widget-view+json": {
       "version_major": 2,
       "version_minor": 0,
       "model_id": "8efd26561cce4cca98a60ee3a323da19"
      }
     },
     "metadata": {},
     "output_type": "display_data"
    },
    {
     "data": {
      "text/plain": [
       "  0%|          | 0/76 [00:00<?, ?it/s]"
      ],
      "application/vnd.jupyter.widget-view+json": {
       "version_major": 2,
       "version_minor": 0,
       "model_id": "492a7910cc9a48599c033a837ec4dd46"
      }
     },
     "metadata": {},
     "output_type": "display_data"
    },
    {
     "data": {
      "text/plain": [
       "  0%|          | 0/76 [00:00<?, ?it/s]"
      ],
      "application/vnd.jupyter.widget-view+json": {
       "version_major": 2,
       "version_minor": 0,
       "model_id": "40a64f35a88d4c5b9047ddae5aac4264"
      }
     },
     "metadata": {},
     "output_type": "display_data"
    },
    {
     "data": {
      "text/plain": [
       "  0%|          | 0/76 [00:00<?, ?it/s]"
      ],
      "application/vnd.jupyter.widget-view+json": {
       "version_major": 2,
       "version_minor": 0,
       "model_id": "3d72b797d4184d20b6ddfebedaaa11b5"
      }
     },
     "metadata": {},
     "output_type": "display_data"
    },
    {
     "data": {
      "text/plain": [
       "  0%|          | 0/76 [00:00<?, ?it/s]"
      ],
      "application/vnd.jupyter.widget-view+json": {
       "version_major": 2,
       "version_minor": 0,
       "model_id": "d0fac30ee9f24bc48a6749875352cfa3"
      }
     },
     "metadata": {},
     "output_type": "display_data"
    },
    {
     "data": {
      "text/plain": [
       "  0%|          | 0/76 [00:00<?, ?it/s]"
      ],
      "application/vnd.jupyter.widget-view+json": {
       "version_major": 2,
       "version_minor": 0,
       "model_id": "abce1ff5aa484592b613148ac46eeac8"
      }
     },
     "metadata": {},
     "output_type": "display_data"
    },
    {
     "data": {
      "text/plain": [
       "  0%|          | 0/76 [00:00<?, ?it/s]"
      ],
      "application/vnd.jupyter.widget-view+json": {
       "version_major": 2,
       "version_minor": 0,
       "model_id": "cb3c453502df480da3a7e6536e702a57"
      }
     },
     "metadata": {},
     "output_type": "display_data"
    },
    {
     "data": {
      "text/plain": [
       "  0%|          | 0/76 [00:00<?, ?it/s]"
      ],
      "application/vnd.jupyter.widget-view+json": {
       "version_major": 2,
       "version_minor": 0,
       "model_id": "51d2b247d3804e02b45459be1b475171"
      }
     },
     "metadata": {},
     "output_type": "display_data"
    },
    {
     "data": {
      "text/plain": [
       "  0%|          | 0/76 [00:00<?, ?it/s]"
      ],
      "application/vnd.jupyter.widget-view+json": {
       "version_major": 2,
       "version_minor": 0,
       "model_id": "1d713277dd2347f2a8b255d6084a26ff"
      }
     },
     "metadata": {},
     "output_type": "display_data"
    },
    {
     "data": {
      "text/plain": [
       "  0%|          | 0/76 [00:00<?, ?it/s]"
      ],
      "application/vnd.jupyter.widget-view+json": {
       "version_major": 2,
       "version_minor": 0,
       "model_id": "a9564e3fb2bd4774aa3e372b59a08617"
      }
     },
     "metadata": {},
     "output_type": "display_data"
    },
    {
     "data": {
      "text/plain": [
       "  0%|          | 0/76 [00:00<?, ?it/s]"
      ],
      "application/vnd.jupyter.widget-view+json": {
       "version_major": 2,
       "version_minor": 0,
       "model_id": "15fede46de734533a109c27c69b8976d"
      }
     },
     "metadata": {},
     "output_type": "display_data"
    },
    {
     "data": {
      "text/plain": [
       "  0%|          | 0/76 [00:00<?, ?it/s]"
      ],
      "application/vnd.jupyter.widget-view+json": {
       "version_major": 2,
       "version_minor": 0,
       "model_id": "2292ede8b86343c3b47a0210b7a83dd5"
      }
     },
     "metadata": {},
     "output_type": "display_data"
    },
    {
     "data": {
      "text/plain": [
       "  0%|          | 0/76 [00:00<?, ?it/s]"
      ],
      "application/vnd.jupyter.widget-view+json": {
       "version_major": 2,
       "version_minor": 0,
       "model_id": "f80862f756e74e0c91fdea07cc6a68f5"
      }
     },
     "metadata": {},
     "output_type": "display_data"
    },
    {
     "data": {
      "text/plain": [
       "  0%|          | 0/76 [00:00<?, ?it/s]"
      ],
      "application/vnd.jupyter.widget-view+json": {
       "version_major": 2,
       "version_minor": 0,
       "model_id": "e2162de2e72444d5a748c39f246569e3"
      }
     },
     "metadata": {},
     "output_type": "display_data"
    },
    {
     "data": {
      "text/plain": [
       "  0%|          | 0/76 [00:00<?, ?it/s]"
      ],
      "application/vnd.jupyter.widget-view+json": {
       "version_major": 2,
       "version_minor": 0,
       "model_id": "414566f27726484786798250d4a1c5de"
      }
     },
     "metadata": {},
     "output_type": "display_data"
    },
    {
     "data": {
      "text/plain": [
       "  0%|          | 0/76 [00:00<?, ?it/s]"
      ],
      "application/vnd.jupyter.widget-view+json": {
       "version_major": 2,
       "version_minor": 0,
       "model_id": "6b8f071ddde34b2cb2183ad784e7fde3"
      }
     },
     "metadata": {},
     "output_type": "display_data"
    },
    {
     "data": {
      "text/plain": [
       "  0%|          | 0/76 [00:00<?, ?it/s]"
      ],
      "application/vnd.jupyter.widget-view+json": {
       "version_major": 2,
       "version_minor": 0,
       "model_id": "47b99cec32b54566ae70bb436ec16a6d"
      }
     },
     "metadata": {},
     "output_type": "display_data"
    },
    {
     "data": {
      "text/plain": [
       "  0%|          | 0/17 [00:00<?, ?it/s]"
      ],
      "application/vnd.jupyter.widget-view+json": {
       "version_major": 2,
       "version_minor": 0,
       "model_id": "a20d425fca4b40be85f43380bc038ec5"
      }
     },
     "metadata": {},
     "output_type": "display_data"
    },
    {
     "data": {
      "text/plain": [
       "  0%|          | 0/76 [00:00<?, ?it/s]"
      ],
      "application/vnd.jupyter.widget-view+json": {
       "version_major": 2,
       "version_minor": 0,
       "model_id": "bf42a5e51c094de9a7a7e698624b3f66"
      }
     },
     "metadata": {},
     "output_type": "display_data"
    },
    {
     "data": {
      "text/plain": [
       "  0%|          | 0/76 [00:00<?, ?it/s]"
      ],
      "application/vnd.jupyter.widget-view+json": {
       "version_major": 2,
       "version_minor": 0,
       "model_id": "0ddf95fdaf2140fca3f3e1f8009a5a8b"
      }
     },
     "metadata": {},
     "output_type": "display_data"
    },
    {
     "data": {
      "text/plain": [
       "  0%|          | 0/76 [00:00<?, ?it/s]"
      ],
      "application/vnd.jupyter.widget-view+json": {
       "version_major": 2,
       "version_minor": 0,
       "model_id": "f16da1fb8e984058b00c1f1d38d6ab86"
      }
     },
     "metadata": {},
     "output_type": "display_data"
    },
    {
     "data": {
      "text/plain": [
       "  0%|          | 0/76 [00:00<?, ?it/s]"
      ],
      "application/vnd.jupyter.widget-view+json": {
       "version_major": 2,
       "version_minor": 0,
       "model_id": "2347f2e499c945d9ae9c81cac9e4615f"
      }
     },
     "metadata": {},
     "output_type": "display_data"
    },
    {
     "data": {
      "text/plain": [
       "  0%|          | 0/76 [00:00<?, ?it/s]"
      ],
      "application/vnd.jupyter.widget-view+json": {
       "version_major": 2,
       "version_minor": 0,
       "model_id": "95e6dab15e894a419bac13086f958279"
      }
     },
     "metadata": {},
     "output_type": "display_data"
    },
    {
     "data": {
      "text/plain": [
       "  0%|          | 0/76 [00:00<?, ?it/s]"
      ],
      "application/vnd.jupyter.widget-view+json": {
       "version_major": 2,
       "version_minor": 0,
       "model_id": "44dae83fd2e5451190edbdb84b8ef322"
      }
     },
     "metadata": {},
     "output_type": "display_data"
    },
    {
     "data": {
      "text/plain": [
       "  0%|          | 0/76 [00:00<?, ?it/s]"
      ],
      "application/vnd.jupyter.widget-view+json": {
       "version_major": 2,
       "version_minor": 0,
       "model_id": "b53ef9254d2e41b8895e749036db06f1"
      }
     },
     "metadata": {},
     "output_type": "display_data"
    },
    {
     "data": {
      "text/plain": [
       "  0%|          | 0/76 [00:00<?, ?it/s]"
      ],
      "application/vnd.jupyter.widget-view+json": {
       "version_major": 2,
       "version_minor": 0,
       "model_id": "62bb50d1e8ba43f3a0d5ab8d857220b9"
      }
     },
     "metadata": {},
     "output_type": "display_data"
    },
    {
     "data": {
      "text/plain": [
       "  0%|          | 0/76 [00:00<?, ?it/s]"
      ],
      "application/vnd.jupyter.widget-view+json": {
       "version_major": 2,
       "version_minor": 0,
       "model_id": "8ea198b4de954e389a2a10eb2e376b03"
      }
     },
     "metadata": {},
     "output_type": "display_data"
    },
    {
     "data": {
      "text/plain": [
       "  0%|          | 0/76 [00:00<?, ?it/s]"
      ],
      "application/vnd.jupyter.widget-view+json": {
       "version_major": 2,
       "version_minor": 0,
       "model_id": "bb74f11b66024394996df0c5f1f10524"
      }
     },
     "metadata": {},
     "output_type": "display_data"
    },
    {
     "data": {
      "text/plain": [
       "  0%|          | 0/76 [00:00<?, ?it/s]"
      ],
      "application/vnd.jupyter.widget-view+json": {
       "version_major": 2,
       "version_minor": 0,
       "model_id": "9d4275ca230248fda791f36604c91944"
      }
     },
     "metadata": {},
     "output_type": "display_data"
    },
    {
     "data": {
      "text/plain": [
       "  0%|          | 0/76 [00:00<?, ?it/s]"
      ],
      "application/vnd.jupyter.widget-view+json": {
       "version_major": 2,
       "version_minor": 0,
       "model_id": "7ea6e6c95ad147bb80bfc15afe977416"
      }
     },
     "metadata": {},
     "output_type": "display_data"
    },
    {
     "data": {
      "text/plain": [
       "  0%|          | 0/76 [00:00<?, ?it/s]"
      ],
      "application/vnd.jupyter.widget-view+json": {
       "version_major": 2,
       "version_minor": 0,
       "model_id": "3e77107d33f24a8cb9b933cfd2c9e2a6"
      }
     },
     "metadata": {},
     "output_type": "display_data"
    },
    {
     "data": {
      "text/plain": [
       "  0%|          | 0/76 [00:00<?, ?it/s]"
      ],
      "application/vnd.jupyter.widget-view+json": {
       "version_major": 2,
       "version_minor": 0,
       "model_id": "2e11b78647864c958ac935111d544cb9"
      }
     },
     "metadata": {},
     "output_type": "display_data"
    },
    {
     "data": {
      "text/plain": [
       "  0%|          | 0/76 [00:00<?, ?it/s]"
      ],
      "application/vnd.jupyter.widget-view+json": {
       "version_major": 2,
       "version_minor": 0,
       "model_id": "19da7655f8f640b3a0c304fc9b3e7f37"
      }
     },
     "metadata": {},
     "output_type": "display_data"
    },
    {
     "data": {
      "text/plain": [
       "  0%|          | 0/76 [00:00<?, ?it/s]"
      ],
      "application/vnd.jupyter.widget-view+json": {
       "version_major": 2,
       "version_minor": 0,
       "model_id": "aa30135b0a8e40b294bdc6be0560cf9f"
      }
     },
     "metadata": {},
     "output_type": "display_data"
    },
    {
     "data": {
      "text/plain": [
       "  0%|          | 0/76 [00:00<?, ?it/s]"
      ],
      "application/vnd.jupyter.widget-view+json": {
       "version_major": 2,
       "version_minor": 0,
       "model_id": "a9e22663158a48e996760e175ddf1371"
      }
     },
     "metadata": {},
     "output_type": "display_data"
    },
    {
     "data": {
      "text/plain": [
       "  0%|          | 0/17 [00:00<?, ?it/s]"
      ],
      "application/vnd.jupyter.widget-view+json": {
       "version_major": 2,
       "version_minor": 0,
       "model_id": "32f1957d50a8436eb29034c6e5c33b96"
      }
     },
     "metadata": {},
     "output_type": "display_data"
    },
    {
     "data": {
      "text/plain": [
       "  0%|          | 0/76 [00:00<?, ?it/s]"
      ],
      "application/vnd.jupyter.widget-view+json": {
       "version_major": 2,
       "version_minor": 0,
       "model_id": "e081df3f3f3c4d419369be6122b37ccb"
      }
     },
     "metadata": {},
     "output_type": "display_data"
    },
    {
     "data": {
      "text/plain": [
       "  0%|          | 0/76 [00:00<?, ?it/s]"
      ],
      "application/vnd.jupyter.widget-view+json": {
       "version_major": 2,
       "version_minor": 0,
       "model_id": "654f45593cf4450b931e7d2adb418a4c"
      }
     },
     "metadata": {},
     "output_type": "display_data"
    },
    {
     "data": {
      "text/plain": [
       "  0%|          | 0/76 [00:00<?, ?it/s]"
      ],
      "application/vnd.jupyter.widget-view+json": {
       "version_major": 2,
       "version_minor": 0,
       "model_id": "dc94ec553dc14a80ae4db5c091ed4fdf"
      }
     },
     "metadata": {},
     "output_type": "display_data"
    },
    {
     "data": {
      "text/plain": [
       "  0%|          | 0/76 [00:00<?, ?it/s]"
      ],
      "application/vnd.jupyter.widget-view+json": {
       "version_major": 2,
       "version_minor": 0,
       "model_id": "c31d65ba911746e790d3db2396e7cb4f"
      }
     },
     "metadata": {},
     "output_type": "display_data"
    },
    {
     "data": {
      "text/plain": [
       "  0%|          | 0/76 [00:00<?, ?it/s]"
      ],
      "application/vnd.jupyter.widget-view+json": {
       "version_major": 2,
       "version_minor": 0,
       "model_id": "a10672eef0fa490daa1f165ff07da52f"
      }
     },
     "metadata": {},
     "output_type": "display_data"
    },
    {
     "data": {
      "text/plain": [
       "  0%|          | 0/76 [00:00<?, ?it/s]"
      ],
      "application/vnd.jupyter.widget-view+json": {
       "version_major": 2,
       "version_minor": 0,
       "model_id": "2905fc5ec51f4c16aa72b7a62d491734"
      }
     },
     "metadata": {},
     "output_type": "display_data"
    },
    {
     "data": {
      "text/plain": [
       "  0%|          | 0/76 [00:00<?, ?it/s]"
      ],
      "application/vnd.jupyter.widget-view+json": {
       "version_major": 2,
       "version_minor": 0,
       "model_id": "cdb5a65c806c411cb2bd29fe317c94ad"
      }
     },
     "metadata": {},
     "output_type": "display_data"
    },
    {
     "data": {
      "text/plain": [
       "  0%|          | 0/76 [00:00<?, ?it/s]"
      ],
      "application/vnd.jupyter.widget-view+json": {
       "version_major": 2,
       "version_minor": 0,
       "model_id": "198b36fc8e654c18978585c3565d14a9"
      }
     },
     "metadata": {},
     "output_type": "display_data"
    },
    {
     "data": {
      "text/plain": [
       "  0%|          | 0/76 [00:00<?, ?it/s]"
      ],
      "application/vnd.jupyter.widget-view+json": {
       "version_major": 2,
       "version_minor": 0,
       "model_id": "e82fa5334cad440cad5abf4e94c5e278"
      }
     },
     "metadata": {},
     "output_type": "display_data"
    },
    {
     "data": {
      "text/plain": [
       "  0%|          | 0/76 [00:00<?, ?it/s]"
      ],
      "application/vnd.jupyter.widget-view+json": {
       "version_major": 2,
       "version_minor": 0,
       "model_id": "170a76a9808d4956a38050722f8bfc72"
      }
     },
     "metadata": {},
     "output_type": "display_data"
    },
    {
     "data": {
      "text/plain": [
       "  0%|          | 0/76 [00:00<?, ?it/s]"
      ],
      "application/vnd.jupyter.widget-view+json": {
       "version_major": 2,
       "version_minor": 0,
       "model_id": "7ee04ea39a0e43d0a42205346fd549ce"
      }
     },
     "metadata": {},
     "output_type": "display_data"
    },
    {
     "data": {
      "text/plain": [
       "  0%|          | 0/76 [00:00<?, ?it/s]"
      ],
      "application/vnd.jupyter.widget-view+json": {
       "version_major": 2,
       "version_minor": 0,
       "model_id": "ad29b0a7aa3e440f8fc0ddeb45fdd9e8"
      }
     },
     "metadata": {},
     "output_type": "display_data"
    },
    {
     "data": {
      "text/plain": [
       "  0%|          | 0/76 [00:00<?, ?it/s]"
      ],
      "application/vnd.jupyter.widget-view+json": {
       "version_major": 2,
       "version_minor": 0,
       "model_id": "fe9b44d2e09543f58e8f4e23430a2e5c"
      }
     },
     "metadata": {},
     "output_type": "display_data"
    },
    {
     "data": {
      "text/plain": [
       "  0%|          | 0/76 [00:00<?, ?it/s]"
      ],
      "application/vnd.jupyter.widget-view+json": {
       "version_major": 2,
       "version_minor": 0,
       "model_id": "1627cfe7dfaf4222a1a3e2367c1f1679"
      }
     },
     "metadata": {},
     "output_type": "display_data"
    },
    {
     "data": {
      "text/plain": [
       "  0%|          | 0/76 [00:00<?, ?it/s]"
      ],
      "application/vnd.jupyter.widget-view+json": {
       "version_major": 2,
       "version_minor": 0,
       "model_id": "402b1b7007c2473bbadc7a41d50f040e"
      }
     },
     "metadata": {},
     "output_type": "display_data"
    },
    {
     "data": {
      "text/plain": [
       "  0%|          | 0/76 [00:00<?, ?it/s]"
      ],
      "application/vnd.jupyter.widget-view+json": {
       "version_major": 2,
       "version_minor": 0,
       "model_id": "de97b8595adc48e7b4d7e9fff0df3af7"
      }
     },
     "metadata": {},
     "output_type": "display_data"
    },
    {
     "data": {
      "text/plain": [
       "  0%|          | 0/76 [00:00<?, ?it/s]"
      ],
      "application/vnd.jupyter.widget-view+json": {
       "version_major": 2,
       "version_minor": 0,
       "model_id": "71fb6c37ee5a467c935fef1627e6f2c8"
      }
     },
     "metadata": {},
     "output_type": "display_data"
    },
    {
     "data": {
      "text/plain": [
       "  0%|          | 0/17 [00:00<?, ?it/s]"
      ],
      "application/vnd.jupyter.widget-view+json": {
       "version_major": 2,
       "version_minor": 0,
       "model_id": "5b07cb05c1864be7a5eb21443c6c88fc"
      }
     },
     "metadata": {},
     "output_type": "display_data"
    },
    {
     "data": {
      "text/plain": [
       "  0%|          | 0/76 [00:00<?, ?it/s]"
      ],
      "application/vnd.jupyter.widget-view+json": {
       "version_major": 2,
       "version_minor": 0,
       "model_id": "30f0bbeef41c46c3b199c1daf51ebfa8"
      }
     },
     "metadata": {},
     "output_type": "display_data"
    },
    {
     "data": {
      "text/plain": [
       "  0%|          | 0/76 [00:00<?, ?it/s]"
      ],
      "application/vnd.jupyter.widget-view+json": {
       "version_major": 2,
       "version_minor": 0,
       "model_id": "c2ce1ac1d174423589c8f0fd82b81222"
      }
     },
     "metadata": {},
     "output_type": "display_data"
    },
    {
     "data": {
      "text/plain": [
       "  0%|          | 0/76 [00:00<?, ?it/s]"
      ],
      "application/vnd.jupyter.widget-view+json": {
       "version_major": 2,
       "version_minor": 0,
       "model_id": "e6d0c223a9834ff99dfa221d9e45b9df"
      }
     },
     "metadata": {},
     "output_type": "display_data"
    },
    {
     "data": {
      "text/plain": [
       "  0%|          | 0/76 [00:00<?, ?it/s]"
      ],
      "application/vnd.jupyter.widget-view+json": {
       "version_major": 2,
       "version_minor": 0,
       "model_id": "c7904a6941e6450faedb9c576d9e1b9e"
      }
     },
     "metadata": {},
     "output_type": "display_data"
    },
    {
     "data": {
      "text/plain": [
       "  0%|          | 0/76 [00:00<?, ?it/s]"
      ],
      "application/vnd.jupyter.widget-view+json": {
       "version_major": 2,
       "version_minor": 0,
       "model_id": "df1db059613e48cdbec5fdf8fd4e3502"
      }
     },
     "metadata": {},
     "output_type": "display_data"
    },
    {
     "data": {
      "text/plain": [
       "  0%|          | 0/76 [00:00<?, ?it/s]"
      ],
      "application/vnd.jupyter.widget-view+json": {
       "version_major": 2,
       "version_minor": 0,
       "model_id": "1969f86ff06c453b8faead494150edde"
      }
     },
     "metadata": {},
     "output_type": "display_data"
    },
    {
     "data": {
      "text/plain": [
       "  0%|          | 0/76 [00:00<?, ?it/s]"
      ],
      "application/vnd.jupyter.widget-view+json": {
       "version_major": 2,
       "version_minor": 0,
       "model_id": "e77a8b8495054707aed155e139fa61fb"
      }
     },
     "metadata": {},
     "output_type": "display_data"
    },
    {
     "data": {
      "text/plain": [
       "  0%|          | 0/76 [00:00<?, ?it/s]"
      ],
      "application/vnd.jupyter.widget-view+json": {
       "version_major": 2,
       "version_minor": 0,
       "model_id": "fb06460d873f4191a95ba29ac4ced8c5"
      }
     },
     "metadata": {},
     "output_type": "display_data"
    },
    {
     "data": {
      "text/plain": [
       "  0%|          | 0/76 [00:00<?, ?it/s]"
      ],
      "application/vnd.jupyter.widget-view+json": {
       "version_major": 2,
       "version_minor": 0,
       "model_id": "65ed1a95e7ef416893b17dd0cf7e9faa"
      }
     },
     "metadata": {},
     "output_type": "display_data"
    },
    {
     "data": {
      "text/plain": [
       "  0%|          | 0/76 [00:00<?, ?it/s]"
      ],
      "application/vnd.jupyter.widget-view+json": {
       "version_major": 2,
       "version_minor": 0,
       "model_id": "9303f9f2e1404f2a909a520d6d65248c"
      }
     },
     "metadata": {},
     "output_type": "display_data"
    },
    {
     "data": {
      "text/plain": [
       "  0%|          | 0/76 [00:00<?, ?it/s]"
      ],
      "application/vnd.jupyter.widget-view+json": {
       "version_major": 2,
       "version_minor": 0,
       "model_id": "2e76b2c37291444d84d2cab50c6172a2"
      }
     },
     "metadata": {},
     "output_type": "display_data"
    },
    {
     "data": {
      "text/plain": [
       "  0%|          | 0/76 [00:00<?, ?it/s]"
      ],
      "application/vnd.jupyter.widget-view+json": {
       "version_major": 2,
       "version_minor": 0,
       "model_id": "98986da795b44327ba45b9fdf4165b51"
      }
     },
     "metadata": {},
     "output_type": "display_data"
    },
    {
     "data": {
      "text/plain": [
       "  0%|          | 0/76 [00:00<?, ?it/s]"
      ],
      "application/vnd.jupyter.widget-view+json": {
       "version_major": 2,
       "version_minor": 0,
       "model_id": "da95600e193d4bdda7b9021dc8f07163"
      }
     },
     "metadata": {},
     "output_type": "display_data"
    },
    {
     "data": {
      "text/plain": [
       "  0%|          | 0/76 [00:00<?, ?it/s]"
      ],
      "application/vnd.jupyter.widget-view+json": {
       "version_major": 2,
       "version_minor": 0,
       "model_id": "09ff5b300a7e4650836645a25e4f575f"
      }
     },
     "metadata": {},
     "output_type": "display_data"
    },
    {
     "data": {
      "text/plain": [
       "  0%|          | 0/76 [00:00<?, ?it/s]"
      ],
      "application/vnd.jupyter.widget-view+json": {
       "version_major": 2,
       "version_minor": 0,
       "model_id": "e5752ff2bb2841d38f35a08391ae4d63"
      }
     },
     "metadata": {},
     "output_type": "display_data"
    },
    {
     "data": {
      "text/plain": [
       "  0%|          | 0/76 [00:00<?, ?it/s]"
      ],
      "application/vnd.jupyter.widget-view+json": {
       "version_major": 2,
       "version_minor": 0,
       "model_id": "a1658f875285469d82412b84ebbfe480"
      }
     },
     "metadata": {},
     "output_type": "display_data"
    },
    {
     "data": {
      "text/plain": [
       "  0%|          | 0/76 [00:00<?, ?it/s]"
      ],
      "application/vnd.jupyter.widget-view+json": {
       "version_major": 2,
       "version_minor": 0,
       "model_id": "aae21e92dcfe406f950de572aa697a3a"
      }
     },
     "metadata": {},
     "output_type": "display_data"
    },
    {
     "data": {
      "text/plain": [
       "  0%|          | 0/17 [00:00<?, ?it/s]"
      ],
      "application/vnd.jupyter.widget-view+json": {
       "version_major": 2,
       "version_minor": 0,
       "model_id": "6eb47aa445d648f898a7e071c0bc2c6b"
      }
     },
     "metadata": {},
     "output_type": "display_data"
    },
    {
     "data": {
      "text/plain": [
       "  0%|          | 0/76 [00:00<?, ?it/s]"
      ],
      "application/vnd.jupyter.widget-view+json": {
       "version_major": 2,
       "version_minor": 0,
       "model_id": "d4b98bec03db490588063acad5aa84d5"
      }
     },
     "metadata": {},
     "output_type": "display_data"
    },
    {
     "data": {
      "text/plain": [
       "  0%|          | 0/76 [00:00<?, ?it/s]"
      ],
      "application/vnd.jupyter.widget-view+json": {
       "version_major": 2,
       "version_minor": 0,
       "model_id": "16ad2556d58b4ea19d279470a34d8ed8"
      }
     },
     "metadata": {},
     "output_type": "display_data"
    },
    {
     "data": {
      "text/plain": [
       "  0%|          | 0/76 [00:00<?, ?it/s]"
      ],
      "application/vnd.jupyter.widget-view+json": {
       "version_major": 2,
       "version_minor": 0,
       "model_id": "57775e4cc29141e98c95bc5a6d9b2891"
      }
     },
     "metadata": {},
     "output_type": "display_data"
    },
    {
     "data": {
      "text/plain": [
       "  0%|          | 0/76 [00:00<?, ?it/s]"
      ],
      "application/vnd.jupyter.widget-view+json": {
       "version_major": 2,
       "version_minor": 0,
       "model_id": "3a901e181f3d45aa94d454052a220edf"
      }
     },
     "metadata": {},
     "output_type": "display_data"
    },
    {
     "data": {
      "text/plain": [
       "  0%|          | 0/76 [00:00<?, ?it/s]"
      ],
      "application/vnd.jupyter.widget-view+json": {
       "version_major": 2,
       "version_minor": 0,
       "model_id": "d28cd6d182854dfe96ba4401f4cbff61"
      }
     },
     "metadata": {},
     "output_type": "display_data"
    },
    {
     "data": {
      "text/plain": [
       "  0%|          | 0/76 [00:00<?, ?it/s]"
      ],
      "application/vnd.jupyter.widget-view+json": {
       "version_major": 2,
       "version_minor": 0,
       "model_id": "ee652cfa06284686915a3631bc3be3b4"
      }
     },
     "metadata": {},
     "output_type": "display_data"
    },
    {
     "data": {
      "text/plain": [
       "  0%|          | 0/76 [00:00<?, ?it/s]"
      ],
      "application/vnd.jupyter.widget-view+json": {
       "version_major": 2,
       "version_minor": 0,
       "model_id": "09c1c35bd96747419bd4e69104d05cd7"
      }
     },
     "metadata": {},
     "output_type": "display_data"
    },
    {
     "data": {
      "text/plain": [
       "  0%|          | 0/76 [00:00<?, ?it/s]"
      ],
      "application/vnd.jupyter.widget-view+json": {
       "version_major": 2,
       "version_minor": 0,
       "model_id": "186927ea23da42e3bf6a35453430a309"
      }
     },
     "metadata": {},
     "output_type": "display_data"
    },
    {
     "data": {
      "text/plain": [
       "  0%|          | 0/76 [00:00<?, ?it/s]"
      ],
      "application/vnd.jupyter.widget-view+json": {
       "version_major": 2,
       "version_minor": 0,
       "model_id": "c7c3994cfa6744ac8ea2c635b2cf04ea"
      }
     },
     "metadata": {},
     "output_type": "display_data"
    },
    {
     "data": {
      "text/plain": [
       "  0%|          | 0/76 [00:00<?, ?it/s]"
      ],
      "application/vnd.jupyter.widget-view+json": {
       "version_major": 2,
       "version_minor": 0,
       "model_id": "a44af2868c6c4a9fa0cf7d790085a6c3"
      }
     },
     "metadata": {},
     "output_type": "display_data"
    },
    {
     "data": {
      "text/plain": [
       "  0%|          | 0/76 [00:00<?, ?it/s]"
      ],
      "application/vnd.jupyter.widget-view+json": {
       "version_major": 2,
       "version_minor": 0,
       "model_id": "5761091125cd4b90860c5b5eb300f09c"
      }
     },
     "metadata": {},
     "output_type": "display_data"
    },
    {
     "data": {
      "text/plain": [
       "  0%|          | 0/76 [00:00<?, ?it/s]"
      ],
      "application/vnd.jupyter.widget-view+json": {
       "version_major": 2,
       "version_minor": 0,
       "model_id": "d5494a9bcdaa443586b9d21d09f1ef92"
      }
     },
     "metadata": {},
     "output_type": "display_data"
    },
    {
     "data": {
      "text/plain": [
       "  0%|          | 0/76 [00:00<?, ?it/s]"
      ],
      "application/vnd.jupyter.widget-view+json": {
       "version_major": 2,
       "version_minor": 0,
       "model_id": "311f2b3eca814875b0013c868ca4ac76"
      }
     },
     "metadata": {},
     "output_type": "display_data"
    },
    {
     "data": {
      "text/plain": [
       "  0%|          | 0/76 [00:00<?, ?it/s]"
      ],
      "application/vnd.jupyter.widget-view+json": {
       "version_major": 2,
       "version_minor": 0,
       "model_id": "fa2e2d2ac44542768bd07395c20abb48"
      }
     },
     "metadata": {},
     "output_type": "display_data"
    },
    {
     "data": {
      "text/plain": [
       "  0%|          | 0/76 [00:00<?, ?it/s]"
      ],
      "application/vnd.jupyter.widget-view+json": {
       "version_major": 2,
       "version_minor": 0,
       "model_id": "7b8de5209f7244b2ade7ac212470014d"
      }
     },
     "metadata": {},
     "output_type": "display_data"
    },
    {
     "data": {
      "text/plain": [
       "  0%|          | 0/76 [00:00<?, ?it/s]"
      ],
      "application/vnd.jupyter.widget-view+json": {
       "version_major": 2,
       "version_minor": 0,
       "model_id": "251f3c651b58475989f9ff354f12b328"
      }
     },
     "metadata": {},
     "output_type": "display_data"
    },
    {
     "data": {
      "text/plain": [
       "  0%|          | 0/76 [00:00<?, ?it/s]"
      ],
      "application/vnd.jupyter.widget-view+json": {
       "version_major": 2,
       "version_minor": 0,
       "model_id": "386b00f553344caea16155e79909b681"
      }
     },
     "metadata": {},
     "output_type": "display_data"
    },
    {
     "data": {
      "text/plain": [
       "  0%|          | 0/17 [00:00<?, ?it/s]"
      ],
      "application/vnd.jupyter.widget-view+json": {
       "version_major": 2,
       "version_minor": 0,
       "model_id": "79eb4bbb8a9140179183eeff4c036f9e"
      }
     },
     "metadata": {},
     "output_type": "display_data"
    },
    {
     "data": {
      "text/plain": [
       "  0%|          | 0/76 [00:00<?, ?it/s]"
      ],
      "application/vnd.jupyter.widget-view+json": {
       "version_major": 2,
       "version_minor": 0,
       "model_id": "9cec6f706eb04e3eb64d0da52ef29249"
      }
     },
     "metadata": {},
     "output_type": "display_data"
    },
    {
     "data": {
      "text/plain": [
       "  0%|          | 0/76 [00:00<?, ?it/s]"
      ],
      "application/vnd.jupyter.widget-view+json": {
       "version_major": 2,
       "version_minor": 0,
       "model_id": "2dd41832fb094a1a99cabc5cd4272806"
      }
     },
     "metadata": {},
     "output_type": "display_data"
    },
    {
     "data": {
      "text/plain": [
       "  0%|          | 0/76 [00:00<?, ?it/s]"
      ],
      "application/vnd.jupyter.widget-view+json": {
       "version_major": 2,
       "version_minor": 0,
       "model_id": "23958f833f9d4afa829f5d8e93a9789a"
      }
     },
     "metadata": {},
     "output_type": "display_data"
    },
    {
     "data": {
      "text/plain": [
       "  0%|          | 0/76 [00:00<?, ?it/s]"
      ],
      "application/vnd.jupyter.widget-view+json": {
       "version_major": 2,
       "version_minor": 0,
       "model_id": "7b97e9a92cea436c9a81cfa8b10f1c2e"
      }
     },
     "metadata": {},
     "output_type": "display_data"
    },
    {
     "data": {
      "text/plain": [
       "  0%|          | 0/76 [00:00<?, ?it/s]"
      ],
      "application/vnd.jupyter.widget-view+json": {
       "version_major": 2,
       "version_minor": 0,
       "model_id": "f16beb7b04574409abe0f228baed1929"
      }
     },
     "metadata": {},
     "output_type": "display_data"
    },
    {
     "data": {
      "text/plain": [
       "  0%|          | 0/76 [00:00<?, ?it/s]"
      ],
      "application/vnd.jupyter.widget-view+json": {
       "version_major": 2,
       "version_minor": 0,
       "model_id": "e49d6dc90fc84ca3808b67e0d3f2dbdc"
      }
     },
     "metadata": {},
     "output_type": "display_data"
    },
    {
     "data": {
      "text/plain": [
       "  0%|          | 0/76 [00:00<?, ?it/s]"
      ],
      "application/vnd.jupyter.widget-view+json": {
       "version_major": 2,
       "version_minor": 0,
       "model_id": "3893913ac5ce4d6eb36db4ee44ad1a3c"
      }
     },
     "metadata": {},
     "output_type": "display_data"
    },
    {
     "data": {
      "text/plain": [
       "  0%|          | 0/76 [00:00<?, ?it/s]"
      ],
      "application/vnd.jupyter.widget-view+json": {
       "version_major": 2,
       "version_minor": 0,
       "model_id": "187729f6feba400b84b075b029735363"
      }
     },
     "metadata": {},
     "output_type": "display_data"
    },
    {
     "data": {
      "text/plain": [
       "  0%|          | 0/76 [00:00<?, ?it/s]"
      ],
      "application/vnd.jupyter.widget-view+json": {
       "version_major": 2,
       "version_minor": 0,
       "model_id": "76233e009d7049c290a27fb5180569b8"
      }
     },
     "metadata": {},
     "output_type": "display_data"
    },
    {
     "data": {
      "text/plain": [
       "  0%|          | 0/76 [00:00<?, ?it/s]"
      ],
      "application/vnd.jupyter.widget-view+json": {
       "version_major": 2,
       "version_minor": 0,
       "model_id": "c03dd1a79d3243febefdc8defff588ef"
      }
     },
     "metadata": {},
     "output_type": "display_data"
    },
    {
     "data": {
      "text/plain": [
       "  0%|          | 0/76 [00:00<?, ?it/s]"
      ],
      "application/vnd.jupyter.widget-view+json": {
       "version_major": 2,
       "version_minor": 0,
       "model_id": "8ad6cbf21e044167bc4d4d0728697868"
      }
     },
     "metadata": {},
     "output_type": "display_data"
    },
    {
     "data": {
      "text/plain": [
       "  0%|          | 0/76 [00:00<?, ?it/s]"
      ],
      "application/vnd.jupyter.widget-view+json": {
       "version_major": 2,
       "version_minor": 0,
       "model_id": "bb787357ba794f7eb7200ab0f7a36d56"
      }
     },
     "metadata": {},
     "output_type": "display_data"
    },
    {
     "data": {
      "text/plain": [
       "  0%|          | 0/76 [00:00<?, ?it/s]"
      ],
      "application/vnd.jupyter.widget-view+json": {
       "version_major": 2,
       "version_minor": 0,
       "model_id": "7c47b718401c4d9fa244b43500af7c21"
      }
     },
     "metadata": {},
     "output_type": "display_data"
    },
    {
     "data": {
      "text/plain": [
       "  0%|          | 0/76 [00:00<?, ?it/s]"
      ],
      "application/vnd.jupyter.widget-view+json": {
       "version_major": 2,
       "version_minor": 0,
       "model_id": "f3ac78d8c11e47fd941b70238d632b13"
      }
     },
     "metadata": {},
     "output_type": "display_data"
    },
    {
     "data": {
      "text/plain": [
       "  0%|          | 0/76 [00:00<?, ?it/s]"
      ],
      "application/vnd.jupyter.widget-view+json": {
       "version_major": 2,
       "version_minor": 0,
       "model_id": "5e59be1cd38d44638606e7f184dd3bc8"
      }
     },
     "metadata": {},
     "output_type": "display_data"
    },
    {
     "data": {
      "text/plain": [
       "  0%|          | 0/76 [00:00<?, ?it/s]"
      ],
      "application/vnd.jupyter.widget-view+json": {
       "version_major": 2,
       "version_minor": 0,
       "model_id": "89e601c8324e4d6d83ba3c8a84d03338"
      }
     },
     "metadata": {},
     "output_type": "display_data"
    },
    {
     "data": {
      "text/plain": [
       "  0%|          | 0/76 [00:00<?, ?it/s]"
      ],
      "application/vnd.jupyter.widget-view+json": {
       "version_major": 2,
       "version_minor": 0,
       "model_id": "7acfbb0aa5a34bc18322d40ca8768fe6"
      }
     },
     "metadata": {},
     "output_type": "display_data"
    },
    {
     "data": {
      "text/plain": [
       "  0%|          | 0/17 [00:00<?, ?it/s]"
      ],
      "application/vnd.jupyter.widget-view+json": {
       "version_major": 2,
       "version_minor": 0,
       "model_id": "22f5084f4b814296b883feb7c5bcad06"
      }
     },
     "metadata": {},
     "output_type": "display_data"
    },
    {
     "data": {
      "text/plain": [
       "  0%|          | 0/76 [00:00<?, ?it/s]"
      ],
      "application/vnd.jupyter.widget-view+json": {
       "version_major": 2,
       "version_minor": 0,
       "model_id": "aacf8d01e29842e9b51c6d48adfae9c9"
      }
     },
     "metadata": {},
     "output_type": "display_data"
    },
    {
     "data": {
      "text/plain": [
       "  0%|          | 0/76 [00:00<?, ?it/s]"
      ],
      "application/vnd.jupyter.widget-view+json": {
       "version_major": 2,
       "version_minor": 0,
       "model_id": "9b52d4615ef546a694aae990ce03fc46"
      }
     },
     "metadata": {},
     "output_type": "display_data"
    },
    {
     "data": {
      "text/plain": [
       "  0%|          | 0/76 [00:00<?, ?it/s]"
      ],
      "application/vnd.jupyter.widget-view+json": {
       "version_major": 2,
       "version_minor": 0,
       "model_id": "f49c75f452e649a782882351e2af73d7"
      }
     },
     "metadata": {},
     "output_type": "display_data"
    },
    {
     "data": {
      "text/plain": [
       "  0%|          | 0/76 [00:00<?, ?it/s]"
      ],
      "application/vnd.jupyter.widget-view+json": {
       "version_major": 2,
       "version_minor": 0,
       "model_id": "5128154ec2f24aeb8b77bdfd0702a859"
      }
     },
     "metadata": {},
     "output_type": "display_data"
    },
    {
     "data": {
      "text/plain": [
       "  0%|          | 0/76 [00:00<?, ?it/s]"
      ],
      "application/vnd.jupyter.widget-view+json": {
       "version_major": 2,
       "version_minor": 0,
       "model_id": "930d21510b6f40a687796be41e443736"
      }
     },
     "metadata": {},
     "output_type": "display_data"
    },
    {
     "data": {
      "text/plain": [
       "  0%|          | 0/76 [00:00<?, ?it/s]"
      ],
      "application/vnd.jupyter.widget-view+json": {
       "version_major": 2,
       "version_minor": 0,
       "model_id": "ed0d6c36e91944ecac8936a1b0ae8dae"
      }
     },
     "metadata": {},
     "output_type": "display_data"
    },
    {
     "data": {
      "text/plain": [
       "  0%|          | 0/76 [00:00<?, ?it/s]"
      ],
      "application/vnd.jupyter.widget-view+json": {
       "version_major": 2,
       "version_minor": 0,
       "model_id": "0c1ce7474897479c8a7fafe2e26169c5"
      }
     },
     "metadata": {},
     "output_type": "display_data"
    },
    {
     "data": {
      "text/plain": [
       "  0%|          | 0/76 [00:00<?, ?it/s]"
      ],
      "application/vnd.jupyter.widget-view+json": {
       "version_major": 2,
       "version_minor": 0,
       "model_id": "1e675f26c90e490097d2c6c6f6fc9ac1"
      }
     },
     "metadata": {},
     "output_type": "display_data"
    },
    {
     "data": {
      "text/plain": [
       "  0%|          | 0/76 [00:00<?, ?it/s]"
      ],
      "application/vnd.jupyter.widget-view+json": {
       "version_major": 2,
       "version_minor": 0,
       "model_id": "f2e31e12e6294292997aaf7ebd3f93ca"
      }
     },
     "metadata": {},
     "output_type": "display_data"
    },
    {
     "data": {
      "text/plain": [
       "  0%|          | 0/76 [00:00<?, ?it/s]"
      ],
      "application/vnd.jupyter.widget-view+json": {
       "version_major": 2,
       "version_minor": 0,
       "model_id": "6ca213e95d854eefaa9cbd16b0dfe791"
      }
     },
     "metadata": {},
     "output_type": "display_data"
    },
    {
     "data": {
      "text/plain": [
       "  0%|          | 0/76 [00:00<?, ?it/s]"
      ],
      "application/vnd.jupyter.widget-view+json": {
       "version_major": 2,
       "version_minor": 0,
       "model_id": "bbc167f34a9c46f4b69ddb0bbbc238f6"
      }
     },
     "metadata": {},
     "output_type": "display_data"
    },
    {
     "data": {
      "text/plain": [
       "  0%|          | 0/76 [00:00<?, ?it/s]"
      ],
      "application/vnd.jupyter.widget-view+json": {
       "version_major": 2,
       "version_minor": 0,
       "model_id": "68b54611fef7465095249c64be33051f"
      }
     },
     "metadata": {},
     "output_type": "display_data"
    },
    {
     "data": {
      "text/plain": [
       "  0%|          | 0/76 [00:00<?, ?it/s]"
      ],
      "application/vnd.jupyter.widget-view+json": {
       "version_major": 2,
       "version_minor": 0,
       "model_id": "ac698a3e5b414f9197eeb23eb9238914"
      }
     },
     "metadata": {},
     "output_type": "display_data"
    },
    {
     "data": {
      "text/plain": [
       "  0%|          | 0/76 [00:00<?, ?it/s]"
      ],
      "application/vnd.jupyter.widget-view+json": {
       "version_major": 2,
       "version_minor": 0,
       "model_id": "327982f052ba47349b7ccc5ede04d5e5"
      }
     },
     "metadata": {},
     "output_type": "display_data"
    },
    {
     "data": {
      "text/plain": [
       "  0%|          | 0/76 [00:00<?, ?it/s]"
      ],
      "application/vnd.jupyter.widget-view+json": {
       "version_major": 2,
       "version_minor": 0,
       "model_id": "8aedc56153f5452c8d0a5a57abece529"
      }
     },
     "metadata": {},
     "output_type": "display_data"
    },
    {
     "data": {
      "text/plain": [
       "  0%|          | 0/76 [00:00<?, ?it/s]"
      ],
      "application/vnd.jupyter.widget-view+json": {
       "version_major": 2,
       "version_minor": 0,
       "model_id": "58989d4d132942a69e2d2d1ef85a0916"
      }
     },
     "metadata": {},
     "output_type": "display_data"
    },
    {
     "data": {
      "text/plain": [
       "  0%|          | 0/76 [00:00<?, ?it/s]"
      ],
      "application/vnd.jupyter.widget-view+json": {
       "version_major": 2,
       "version_minor": 0,
       "model_id": "0276bf53fc4341edb6c16adbb7a5744b"
      }
     },
     "metadata": {},
     "output_type": "display_data"
    },
    {
     "data": {
      "text/plain": [
       "  0%|          | 0/17 [00:00<?, ?it/s]"
      ],
      "application/vnd.jupyter.widget-view+json": {
       "version_major": 2,
       "version_minor": 0,
       "model_id": "d74ee979309846ec99f296c8e25d923e"
      }
     },
     "metadata": {},
     "output_type": "display_data"
    },
    {
     "data": {
      "text/plain": [
       "  0%|          | 0/76 [00:00<?, ?it/s]"
      ],
      "application/vnd.jupyter.widget-view+json": {
       "version_major": 2,
       "version_minor": 0,
       "model_id": "49be12df326449fb9f9cbf5173bcca11"
      }
     },
     "metadata": {},
     "output_type": "display_data"
    },
    {
     "data": {
      "text/plain": [
       "  0%|          | 0/76 [00:00<?, ?it/s]"
      ],
      "application/vnd.jupyter.widget-view+json": {
       "version_major": 2,
       "version_minor": 0,
       "model_id": "d82ce491cf2f412bab37b9e11013ca1c"
      }
     },
     "metadata": {},
     "output_type": "display_data"
    },
    {
     "data": {
      "text/plain": [
       "  0%|          | 0/76 [00:00<?, ?it/s]"
      ],
      "application/vnd.jupyter.widget-view+json": {
       "version_major": 2,
       "version_minor": 0,
       "model_id": "f3aa13c3d0a3437eb63fc27f0e016ef5"
      }
     },
     "metadata": {},
     "output_type": "display_data"
    },
    {
     "data": {
      "text/plain": [
       "  0%|          | 0/76 [00:00<?, ?it/s]"
      ],
      "application/vnd.jupyter.widget-view+json": {
       "version_major": 2,
       "version_minor": 0,
       "model_id": "379a27d5210d44f4aab12a66081f7973"
      }
     },
     "metadata": {},
     "output_type": "display_data"
    },
    {
     "data": {
      "text/plain": [
       "  0%|          | 0/76 [00:00<?, ?it/s]"
      ],
      "application/vnd.jupyter.widget-view+json": {
       "version_major": 2,
       "version_minor": 0,
       "model_id": "43f328c370b84f3b831b8d8936867a16"
      }
     },
     "metadata": {},
     "output_type": "display_data"
    },
    {
     "data": {
      "text/plain": [
       "  0%|          | 0/76 [00:00<?, ?it/s]"
      ],
      "application/vnd.jupyter.widget-view+json": {
       "version_major": 2,
       "version_minor": 0,
       "model_id": "f441dd6dc6b44b56b0ed4f80f3e1b2f6"
      }
     },
     "metadata": {},
     "output_type": "display_data"
    },
    {
     "data": {
      "text/plain": [
       "  0%|          | 0/76 [00:00<?, ?it/s]"
      ],
      "application/vnd.jupyter.widget-view+json": {
       "version_major": 2,
       "version_minor": 0,
       "model_id": "dee2fd5a0dd440e19bc1a4828e0097bf"
      }
     },
     "metadata": {},
     "output_type": "display_data"
    },
    {
     "data": {
      "text/plain": [
       "  0%|          | 0/76 [00:00<?, ?it/s]"
      ],
      "application/vnd.jupyter.widget-view+json": {
       "version_major": 2,
       "version_minor": 0,
       "model_id": "2200f7d2423743078ffcecff4d10b0a6"
      }
     },
     "metadata": {},
     "output_type": "display_data"
    },
    {
     "data": {
      "text/plain": [
       "  0%|          | 0/76 [00:00<?, ?it/s]"
      ],
      "application/vnd.jupyter.widget-view+json": {
       "version_major": 2,
       "version_minor": 0,
       "model_id": "1909c20441ee4fe9a1d9a10b74cc3350"
      }
     },
     "metadata": {},
     "output_type": "display_data"
    },
    {
     "data": {
      "text/plain": [
       "  0%|          | 0/76 [00:00<?, ?it/s]"
      ],
      "application/vnd.jupyter.widget-view+json": {
       "version_major": 2,
       "version_minor": 0,
       "model_id": "0769a0f6952f40b1802130ec1a8acf2e"
      }
     },
     "metadata": {},
     "output_type": "display_data"
    },
    {
     "data": {
      "text/plain": [
       "  0%|          | 0/76 [00:00<?, ?it/s]"
      ],
      "application/vnd.jupyter.widget-view+json": {
       "version_major": 2,
       "version_minor": 0,
       "model_id": "6cd1dc3650df4d418069198bbcd53adb"
      }
     },
     "metadata": {},
     "output_type": "display_data"
    },
    {
     "data": {
      "text/plain": [
       "  0%|          | 0/76 [00:00<?, ?it/s]"
      ],
      "application/vnd.jupyter.widget-view+json": {
       "version_major": 2,
       "version_minor": 0,
       "model_id": "89d76f971f0047429f7048b51be4225a"
      }
     },
     "metadata": {},
     "output_type": "display_data"
    },
    {
     "data": {
      "text/plain": [
       "  0%|          | 0/76 [00:00<?, ?it/s]"
      ],
      "application/vnd.jupyter.widget-view+json": {
       "version_major": 2,
       "version_minor": 0,
       "model_id": "a1f2ba5204ce4cfb89c6fbb9e2369843"
      }
     },
     "metadata": {},
     "output_type": "display_data"
    },
    {
     "data": {
      "text/plain": [
       "  0%|          | 0/76 [00:00<?, ?it/s]"
      ],
      "application/vnd.jupyter.widget-view+json": {
       "version_major": 2,
       "version_minor": 0,
       "model_id": "bf1c0fa543be48189e7103bf26ce7956"
      }
     },
     "metadata": {},
     "output_type": "display_data"
    },
    {
     "data": {
      "text/plain": [
       "  0%|          | 0/76 [00:00<?, ?it/s]"
      ],
      "application/vnd.jupyter.widget-view+json": {
       "version_major": 2,
       "version_minor": 0,
       "model_id": "1e6693a0170149f3b465f02daf81947b"
      }
     },
     "metadata": {},
     "output_type": "display_data"
    },
    {
     "data": {
      "text/plain": [
       "  0%|          | 0/76 [00:00<?, ?it/s]"
      ],
      "application/vnd.jupyter.widget-view+json": {
       "version_major": 2,
       "version_minor": 0,
       "model_id": "c5f563f41c2f4dacab0c7e494b16ea5b"
      }
     },
     "metadata": {},
     "output_type": "display_data"
    },
    {
     "data": {
      "text/plain": [
       "  0%|          | 0/76 [00:00<?, ?it/s]"
      ],
      "application/vnd.jupyter.widget-view+json": {
       "version_major": 2,
       "version_minor": 0,
       "model_id": "2369891359e64fa28c15238d90e3be5b"
      }
     },
     "metadata": {},
     "output_type": "display_data"
    },
    {
     "data": {
      "text/plain": [
       "  0%|          | 0/17 [00:00<?, ?it/s]"
      ],
      "application/vnd.jupyter.widget-view+json": {
       "version_major": 2,
       "version_minor": 0,
       "model_id": "a5dced59060242d190003a269fc8e16a"
      }
     },
     "metadata": {},
     "output_type": "display_data"
    },
    {
     "data": {
      "text/plain": [
       "  0%|          | 0/76 [00:00<?, ?it/s]"
      ],
      "application/vnd.jupyter.widget-view+json": {
       "version_major": 2,
       "version_minor": 0,
       "model_id": "62451dd8e7fd4e96a0e28549d18129df"
      }
     },
     "metadata": {},
     "output_type": "display_data"
    },
    {
     "data": {
      "text/plain": [
       "  0%|          | 0/76 [00:00<?, ?it/s]"
      ],
      "application/vnd.jupyter.widget-view+json": {
       "version_major": 2,
       "version_minor": 0,
       "model_id": "22245374fe1c46758ecdaafd24afea43"
      }
     },
     "metadata": {},
     "output_type": "display_data"
    },
    {
     "data": {
      "text/plain": [
       "  0%|          | 0/76 [00:00<?, ?it/s]"
      ],
      "application/vnd.jupyter.widget-view+json": {
       "version_major": 2,
       "version_minor": 0,
       "model_id": "0b57c340449f40aca9875362a2562815"
      }
     },
     "metadata": {},
     "output_type": "display_data"
    },
    {
     "data": {
      "text/plain": [
       "  0%|          | 0/76 [00:00<?, ?it/s]"
      ],
      "application/vnd.jupyter.widget-view+json": {
       "version_major": 2,
       "version_minor": 0,
       "model_id": "f9e5273b41654c7dbbda4ada5f3f370b"
      }
     },
     "metadata": {},
     "output_type": "display_data"
    },
    {
     "data": {
      "text/plain": [
       "  0%|          | 0/76 [00:00<?, ?it/s]"
      ],
      "application/vnd.jupyter.widget-view+json": {
       "version_major": 2,
       "version_minor": 0,
       "model_id": "af7310eb483f4508b0cbb6f422f8f99d"
      }
     },
     "metadata": {},
     "output_type": "display_data"
    },
    {
     "data": {
      "text/plain": [
       "  0%|          | 0/76 [00:00<?, ?it/s]"
      ],
      "application/vnd.jupyter.widget-view+json": {
       "version_major": 2,
       "version_minor": 0,
       "model_id": "17075c313ac64853b51c04dbcf2c3373"
      }
     },
     "metadata": {},
     "output_type": "display_data"
    },
    {
     "data": {
      "text/plain": [
       "  0%|          | 0/76 [00:00<?, ?it/s]"
      ],
      "application/vnd.jupyter.widget-view+json": {
       "version_major": 2,
       "version_minor": 0,
       "model_id": "0f852359b5f64e6995f64f3772f02aa2"
      }
     },
     "metadata": {},
     "output_type": "display_data"
    },
    {
     "data": {
      "text/plain": [
       "  0%|          | 0/76 [00:00<?, ?it/s]"
      ],
      "application/vnd.jupyter.widget-view+json": {
       "version_major": 2,
       "version_minor": 0,
       "model_id": "392dad79c11441259e726fdfedcd8bab"
      }
     },
     "metadata": {},
     "output_type": "display_data"
    },
    {
     "data": {
      "text/plain": [
       "  0%|          | 0/76 [00:00<?, ?it/s]"
      ],
      "application/vnd.jupyter.widget-view+json": {
       "version_major": 2,
       "version_minor": 0,
       "model_id": "4192caff29dd42b0977b5a1e3f5ab094"
      }
     },
     "metadata": {},
     "output_type": "display_data"
    },
    {
     "data": {
      "text/plain": [
       "  0%|          | 0/76 [00:00<?, ?it/s]"
      ],
      "application/vnd.jupyter.widget-view+json": {
       "version_major": 2,
       "version_minor": 0,
       "model_id": "097c2293a6b84a11b9f1fb9710804188"
      }
     },
     "metadata": {},
     "output_type": "display_data"
    },
    {
     "data": {
      "text/plain": [
       "  0%|          | 0/76 [00:00<?, ?it/s]"
      ],
      "application/vnd.jupyter.widget-view+json": {
       "version_major": 2,
       "version_minor": 0,
       "model_id": "b524157929c84b4099af53077e2fcbc2"
      }
     },
     "metadata": {},
     "output_type": "display_data"
    },
    {
     "data": {
      "text/plain": [
       "  0%|          | 0/76 [00:00<?, ?it/s]"
      ],
      "application/vnd.jupyter.widget-view+json": {
       "version_major": 2,
       "version_minor": 0,
       "model_id": "2117f69ab28847dd96196c05d60c88cb"
      }
     },
     "metadata": {},
     "output_type": "display_data"
    },
    {
     "data": {
      "text/plain": [
       "  0%|          | 0/76 [00:00<?, ?it/s]"
      ],
      "application/vnd.jupyter.widget-view+json": {
       "version_major": 2,
       "version_minor": 0,
       "model_id": "1e9cc267d5ae4f1590d001438bd5592b"
      }
     },
     "metadata": {},
     "output_type": "display_data"
    },
    {
     "data": {
      "text/plain": [
       "  0%|          | 0/76 [00:00<?, ?it/s]"
      ],
      "application/vnd.jupyter.widget-view+json": {
       "version_major": 2,
       "version_minor": 0,
       "model_id": "f00ac02e4b974c0d833993a5478dedbf"
      }
     },
     "metadata": {},
     "output_type": "display_data"
    },
    {
     "data": {
      "text/plain": [
       "  0%|          | 0/76 [00:00<?, ?it/s]"
      ],
      "application/vnd.jupyter.widget-view+json": {
       "version_major": 2,
       "version_minor": 0,
       "model_id": "b8b9dac630cd43009655f52b45376735"
      }
     },
     "metadata": {},
     "output_type": "display_data"
    },
    {
     "data": {
      "text/plain": [
       "  0%|          | 0/76 [00:00<?, ?it/s]"
      ],
      "application/vnd.jupyter.widget-view+json": {
       "version_major": 2,
       "version_minor": 0,
       "model_id": "e35f26e3e17d4ffaaf5518c97a5d6244"
      }
     },
     "metadata": {},
     "output_type": "display_data"
    },
    {
     "data": {
      "text/plain": [
       "  0%|          | 0/76 [00:00<?, ?it/s]"
      ],
      "application/vnd.jupyter.widget-view+json": {
       "version_major": 2,
       "version_minor": 0,
       "model_id": "388da51d657d4e4ca17b14ce6e0f509d"
      }
     },
     "metadata": {},
     "output_type": "display_data"
    },
    {
     "data": {
      "text/plain": [
       "  0%|          | 0/17 [00:00<?, ?it/s]"
      ],
      "application/vnd.jupyter.widget-view+json": {
       "version_major": 2,
       "version_minor": 0,
       "model_id": "8c8982b987aa4c66a68907f7ec6c4632"
      }
     },
     "metadata": {},
     "output_type": "display_data"
    },
    {
     "data": {
      "text/plain": [
       "  0%|          | 0/76 [00:00<?, ?it/s]"
      ],
      "application/vnd.jupyter.widget-view+json": {
       "version_major": 2,
       "version_minor": 0,
       "model_id": "d8f1b2cedcff4a68a3e55b1f768787b8"
      }
     },
     "metadata": {},
     "output_type": "display_data"
    },
    {
     "data": {
      "text/plain": [
       "  0%|          | 0/76 [00:00<?, ?it/s]"
      ],
      "application/vnd.jupyter.widget-view+json": {
       "version_major": 2,
       "version_minor": 0,
       "model_id": "c0aede8cf7d6436ea90fcc9d9e2a8855"
      }
     },
     "metadata": {},
     "output_type": "display_data"
    },
    {
     "data": {
      "text/plain": [
       "  0%|          | 0/76 [00:00<?, ?it/s]"
      ],
      "application/vnd.jupyter.widget-view+json": {
       "version_major": 2,
       "version_minor": 0,
       "model_id": "c2f050d7773d4fb0a922072787f13c3d"
      }
     },
     "metadata": {},
     "output_type": "display_data"
    },
    {
     "data": {
      "text/plain": [
       "  0%|          | 0/76 [00:00<?, ?it/s]"
      ],
      "application/vnd.jupyter.widget-view+json": {
       "version_major": 2,
       "version_minor": 0,
       "model_id": "639423f7838d46de8f7815dfb63a8080"
      }
     },
     "metadata": {},
     "output_type": "display_data"
    },
    {
     "data": {
      "text/plain": [
       "  0%|          | 0/76 [00:00<?, ?it/s]"
      ],
      "application/vnd.jupyter.widget-view+json": {
       "version_major": 2,
       "version_minor": 0,
       "model_id": "fe66a8cbfca84b88b4e98335a39fac29"
      }
     },
     "metadata": {},
     "output_type": "display_data"
    },
    {
     "data": {
      "text/plain": [
       "  0%|          | 0/76 [00:00<?, ?it/s]"
      ],
      "application/vnd.jupyter.widget-view+json": {
       "version_major": 2,
       "version_minor": 0,
       "model_id": "0fbc2b38bd9b4b469e0cd5e9a9bd1549"
      }
     },
     "metadata": {},
     "output_type": "display_data"
    },
    {
     "data": {
      "text/plain": [
       "  0%|          | 0/76 [00:00<?, ?it/s]"
      ],
      "application/vnd.jupyter.widget-view+json": {
       "version_major": 2,
       "version_minor": 0,
       "model_id": "217a935796df4056911f76323d2eeec2"
      }
     },
     "metadata": {},
     "output_type": "display_data"
    },
    {
     "data": {
      "text/plain": [
       "  0%|          | 0/76 [00:00<?, ?it/s]"
      ],
      "application/vnd.jupyter.widget-view+json": {
       "version_major": 2,
       "version_minor": 0,
       "model_id": "c82ba8454cac4ea8b3c05f5726564fa5"
      }
     },
     "metadata": {},
     "output_type": "display_data"
    },
    {
     "data": {
      "text/plain": [
       "  0%|          | 0/76 [00:00<?, ?it/s]"
      ],
      "application/vnd.jupyter.widget-view+json": {
       "version_major": 2,
       "version_minor": 0,
       "model_id": "b8aaec40c828427e948118fd47081643"
      }
     },
     "metadata": {},
     "output_type": "display_data"
    },
    {
     "data": {
      "text/plain": [
       "  0%|          | 0/76 [00:00<?, ?it/s]"
      ],
      "application/vnd.jupyter.widget-view+json": {
       "version_major": 2,
       "version_minor": 0,
       "model_id": "559d91c8351343e885b359abcc1dfba7"
      }
     },
     "metadata": {},
     "output_type": "display_data"
    },
    {
     "data": {
      "text/plain": [
       "  0%|          | 0/76 [00:00<?, ?it/s]"
      ],
      "application/vnd.jupyter.widget-view+json": {
       "version_major": 2,
       "version_minor": 0,
       "model_id": "ede39acc641e4549a320063128b10708"
      }
     },
     "metadata": {},
     "output_type": "display_data"
    },
    {
     "data": {
      "text/plain": [
       "  0%|          | 0/76 [00:00<?, ?it/s]"
      ],
      "application/vnd.jupyter.widget-view+json": {
       "version_major": 2,
       "version_minor": 0,
       "model_id": "76ba5eb475064311bd2abfb58e8358c4"
      }
     },
     "metadata": {},
     "output_type": "display_data"
    },
    {
     "data": {
      "text/plain": [
       "  0%|          | 0/76 [00:00<?, ?it/s]"
      ],
      "application/vnd.jupyter.widget-view+json": {
       "version_major": 2,
       "version_minor": 0,
       "model_id": "a2c0cfdd8a804665821d67dd44f0ce3f"
      }
     },
     "metadata": {},
     "output_type": "display_data"
    },
    {
     "data": {
      "text/plain": [
       "  0%|          | 0/76 [00:00<?, ?it/s]"
      ],
      "application/vnd.jupyter.widget-view+json": {
       "version_major": 2,
       "version_minor": 0,
       "model_id": "cd9ce5133ac345749edaa419fe60c59a"
      }
     },
     "metadata": {},
     "output_type": "display_data"
    },
    {
     "data": {
      "text/plain": [
       "  0%|          | 0/76 [00:00<?, ?it/s]"
      ],
      "application/vnd.jupyter.widget-view+json": {
       "version_major": 2,
       "version_minor": 0,
       "model_id": "decd0696333f4464b13c095c46b130c0"
      }
     },
     "metadata": {},
     "output_type": "display_data"
    },
    {
     "data": {
      "text/plain": [
       "  0%|          | 0/76 [00:00<?, ?it/s]"
      ],
      "application/vnd.jupyter.widget-view+json": {
       "version_major": 2,
       "version_minor": 0,
       "model_id": "017d3ae184ba461cb7e2a983af670f5c"
      }
     },
     "metadata": {},
     "output_type": "display_data"
    },
    {
     "data": {
      "text/plain": [
       "  0%|          | 0/76 [00:00<?, ?it/s]"
      ],
      "application/vnd.jupyter.widget-view+json": {
       "version_major": 2,
       "version_minor": 0,
       "model_id": "16df5bd2595a4b21a17065904cf2fb1e"
      }
     },
     "metadata": {},
     "output_type": "display_data"
    },
    {
     "data": {
      "text/plain": [
       "  0%|          | 0/17 [00:00<?, ?it/s]"
      ],
      "application/vnd.jupyter.widget-view+json": {
       "version_major": 2,
       "version_minor": 0,
       "model_id": "41784ca6373b49f893508923b4232007"
      }
     },
     "metadata": {},
     "output_type": "display_data"
    },
    {
     "data": {
      "text/plain": [
       "  0%|          | 0/76 [00:00<?, ?it/s]"
      ],
      "application/vnd.jupyter.widget-view+json": {
       "version_major": 2,
       "version_minor": 0,
       "model_id": "5fcf0a47ed074882b1e45ca7f283b785"
      }
     },
     "metadata": {},
     "output_type": "display_data"
    },
    {
     "data": {
      "text/plain": [
       "  0%|          | 0/76 [00:00<?, ?it/s]"
      ],
      "application/vnd.jupyter.widget-view+json": {
       "version_major": 2,
       "version_minor": 0,
       "model_id": "4ab956031f434b43a113f1296e255aa7"
      }
     },
     "metadata": {},
     "output_type": "display_data"
    },
    {
     "data": {
      "text/plain": [
       "  0%|          | 0/76 [00:00<?, ?it/s]"
      ],
      "application/vnd.jupyter.widget-view+json": {
       "version_major": 2,
       "version_minor": 0,
       "model_id": "a576d887d4be48aa837ceb4918800a06"
      }
     },
     "metadata": {},
     "output_type": "display_data"
    },
    {
     "data": {
      "text/plain": [
       "  0%|          | 0/76 [00:00<?, ?it/s]"
      ],
      "application/vnd.jupyter.widget-view+json": {
       "version_major": 2,
       "version_minor": 0,
       "model_id": "49d9670266cf4a988c1592b8955ae030"
      }
     },
     "metadata": {},
     "output_type": "display_data"
    },
    {
     "data": {
      "text/plain": [
       "  0%|          | 0/76 [00:00<?, ?it/s]"
      ],
      "application/vnd.jupyter.widget-view+json": {
       "version_major": 2,
       "version_minor": 0,
       "model_id": "05eaae1586a547a0981da980e4757ab0"
      }
     },
     "metadata": {},
     "output_type": "display_data"
    },
    {
     "data": {
      "text/plain": [
       "  0%|          | 0/76 [00:00<?, ?it/s]"
      ],
      "application/vnd.jupyter.widget-view+json": {
       "version_major": 2,
       "version_minor": 0,
       "model_id": "69f34123d9c647af9d82704ddfd0d742"
      }
     },
     "metadata": {},
     "output_type": "display_data"
    },
    {
     "data": {
      "text/plain": [
       "  0%|          | 0/76 [00:00<?, ?it/s]"
      ],
      "application/vnd.jupyter.widget-view+json": {
       "version_major": 2,
       "version_minor": 0,
       "model_id": "f4b40a4ca01e432ab2c0657ce862561a"
      }
     },
     "metadata": {},
     "output_type": "display_data"
    },
    {
     "data": {
      "text/plain": [
       "  0%|          | 0/76 [00:00<?, ?it/s]"
      ],
      "application/vnd.jupyter.widget-view+json": {
       "version_major": 2,
       "version_minor": 0,
       "model_id": "1d77c4bb655147949c9708603a1e47b1"
      }
     },
     "metadata": {},
     "output_type": "display_data"
    },
    {
     "data": {
      "text/plain": [
       "  0%|          | 0/76 [00:00<?, ?it/s]"
      ],
      "application/vnd.jupyter.widget-view+json": {
       "version_major": 2,
       "version_minor": 0,
       "model_id": "3f5c75dcb4ae4d80835055262faf8b21"
      }
     },
     "metadata": {},
     "output_type": "display_data"
    },
    {
     "data": {
      "text/plain": [
       "  0%|          | 0/76 [00:00<?, ?it/s]"
      ],
      "application/vnd.jupyter.widget-view+json": {
       "version_major": 2,
       "version_minor": 0,
       "model_id": "6d6ff02ead2f4980b8879dc5cd0f8e4e"
      }
     },
     "metadata": {},
     "output_type": "display_data"
    },
    {
     "data": {
      "text/plain": [
       "  0%|          | 0/76 [00:00<?, ?it/s]"
      ],
      "application/vnd.jupyter.widget-view+json": {
       "version_major": 2,
       "version_minor": 0,
       "model_id": "3d9d5307824a4869bf12ca1cb6022f1a"
      }
     },
     "metadata": {},
     "output_type": "display_data"
    },
    {
     "data": {
      "text/plain": [
       "  0%|          | 0/76 [00:00<?, ?it/s]"
      ],
      "application/vnd.jupyter.widget-view+json": {
       "version_major": 2,
       "version_minor": 0,
       "model_id": "cf02775d729b4045874d42c7fecc1858"
      }
     },
     "metadata": {},
     "output_type": "display_data"
    },
    {
     "data": {
      "text/plain": [
       "  0%|          | 0/76 [00:00<?, ?it/s]"
      ],
      "application/vnd.jupyter.widget-view+json": {
       "version_major": 2,
       "version_minor": 0,
       "model_id": "7d054bd007dd49a19dac2826e34136da"
      }
     },
     "metadata": {},
     "output_type": "display_data"
    },
    {
     "data": {
      "text/plain": [
       "  0%|          | 0/76 [00:00<?, ?it/s]"
      ],
      "application/vnd.jupyter.widget-view+json": {
       "version_major": 2,
       "version_minor": 0,
       "model_id": "25df14adcc3549c48558188f64a39973"
      }
     },
     "metadata": {},
     "output_type": "display_data"
    },
    {
     "data": {
      "text/plain": [
       "  0%|          | 0/76 [00:00<?, ?it/s]"
      ],
      "application/vnd.jupyter.widget-view+json": {
       "version_major": 2,
       "version_minor": 0,
       "model_id": "e65ae0c4ec8e49eba73a5b7b28d964b1"
      }
     },
     "metadata": {},
     "output_type": "display_data"
    },
    {
     "data": {
      "text/plain": [
       "  0%|          | 0/76 [00:00<?, ?it/s]"
      ],
      "application/vnd.jupyter.widget-view+json": {
       "version_major": 2,
       "version_minor": 0,
       "model_id": "7d4fac35ba4a471ca6cf4a2217472d10"
      }
     },
     "metadata": {},
     "output_type": "display_data"
    },
    {
     "data": {
      "text/plain": [
       "  0%|          | 0/76 [00:00<?, ?it/s]"
      ],
      "application/vnd.jupyter.widget-view+json": {
       "version_major": 2,
       "version_minor": 0,
       "model_id": "5771d95a890f4af898499d0f38b0bd77"
      }
     },
     "metadata": {},
     "output_type": "display_data"
    },
    {
     "data": {
      "text/plain": [
       "  0%|          | 0/17 [00:00<?, ?it/s]"
      ],
      "application/vnd.jupyter.widget-view+json": {
       "version_major": 2,
       "version_minor": 0,
       "model_id": "3ecfa8a7880d4554a9e679db7eb2f116"
      }
     },
     "metadata": {},
     "output_type": "display_data"
    },
    {
     "data": {
      "text/plain": [
       "  0%|          | 0/76 [00:00<?, ?it/s]"
      ],
      "application/vnd.jupyter.widget-view+json": {
       "version_major": 2,
       "version_minor": 0,
       "model_id": "f601dd7638af4337921f41a5d651ecec"
      }
     },
     "metadata": {},
     "output_type": "display_data"
    },
    {
     "data": {
      "text/plain": [
       "  0%|          | 0/76 [00:00<?, ?it/s]"
      ],
      "application/vnd.jupyter.widget-view+json": {
       "version_major": 2,
       "version_minor": 0,
       "model_id": "05436548c01e4400a9836aa89c1c425f"
      }
     },
     "metadata": {},
     "output_type": "display_data"
    },
    {
     "data": {
      "text/plain": [
       "  0%|          | 0/76 [00:00<?, ?it/s]"
      ],
      "application/vnd.jupyter.widget-view+json": {
       "version_major": 2,
       "version_minor": 0,
       "model_id": "4815d6b7e17c43658ccd8b7846390992"
      }
     },
     "metadata": {},
     "output_type": "display_data"
    },
    {
     "data": {
      "text/plain": [
       "  0%|          | 0/76 [00:00<?, ?it/s]"
      ],
      "application/vnd.jupyter.widget-view+json": {
       "version_major": 2,
       "version_minor": 0,
       "model_id": "9d344583a421488a85193c518a7a5ad4"
      }
     },
     "metadata": {},
     "output_type": "display_data"
    },
    {
     "data": {
      "text/plain": [
       "  0%|          | 0/76 [00:00<?, ?it/s]"
      ],
      "application/vnd.jupyter.widget-view+json": {
       "version_major": 2,
       "version_minor": 0,
       "model_id": "8000682b65104ac4bfc6f07559e74768"
      }
     },
     "metadata": {},
     "output_type": "display_data"
    },
    {
     "data": {
      "text/plain": [
       "  0%|          | 0/76 [00:00<?, ?it/s]"
      ],
      "application/vnd.jupyter.widget-view+json": {
       "version_major": 2,
       "version_minor": 0,
       "model_id": "476282852f444eceb43114cec69615ec"
      }
     },
     "metadata": {},
     "output_type": "display_data"
    },
    {
     "data": {
      "text/plain": [
       "  0%|          | 0/76 [00:00<?, ?it/s]"
      ],
      "application/vnd.jupyter.widget-view+json": {
       "version_major": 2,
       "version_minor": 0,
       "model_id": "5c96a5e793db4f3ca82901756723076e"
      }
     },
     "metadata": {},
     "output_type": "display_data"
    },
    {
     "data": {
      "text/plain": [
       "  0%|          | 0/76 [00:00<?, ?it/s]"
      ],
      "application/vnd.jupyter.widget-view+json": {
       "version_major": 2,
       "version_minor": 0,
       "model_id": "2d5f9d7fc2c74ee7bed37cc47ea5ae12"
      }
     },
     "metadata": {},
     "output_type": "display_data"
    },
    {
     "data": {
      "text/plain": [
       "  0%|          | 0/76 [00:00<?, ?it/s]"
      ],
      "application/vnd.jupyter.widget-view+json": {
       "version_major": 2,
       "version_minor": 0,
       "model_id": "5d5dd32601c54818a22c8828ff402551"
      }
     },
     "metadata": {},
     "output_type": "display_data"
    },
    {
     "data": {
      "text/plain": [
       "  0%|          | 0/76 [00:00<?, ?it/s]"
      ],
      "application/vnd.jupyter.widget-view+json": {
       "version_major": 2,
       "version_minor": 0,
       "model_id": "5962d6757b7c4667b54164291007905c"
      }
     },
     "metadata": {},
     "output_type": "display_data"
    },
    {
     "data": {
      "text/plain": [
       "  0%|          | 0/76 [00:00<?, ?it/s]"
      ],
      "application/vnd.jupyter.widget-view+json": {
       "version_major": 2,
       "version_minor": 0,
       "model_id": "998132642a7d4287add5a6767a93868b"
      }
     },
     "metadata": {},
     "output_type": "display_data"
    },
    {
     "data": {
      "text/plain": [
       "  0%|          | 0/76 [00:00<?, ?it/s]"
      ],
      "application/vnd.jupyter.widget-view+json": {
       "version_major": 2,
       "version_minor": 0,
       "model_id": "729231aa56e54506a5f502401fe45997"
      }
     },
     "metadata": {},
     "output_type": "display_data"
    },
    {
     "data": {
      "text/plain": [
       "  0%|          | 0/76 [00:00<?, ?it/s]"
      ],
      "application/vnd.jupyter.widget-view+json": {
       "version_major": 2,
       "version_minor": 0,
       "model_id": "b463ce8376534670afdd6064a082a157"
      }
     },
     "metadata": {},
     "output_type": "display_data"
    },
    {
     "data": {
      "text/plain": [
       "  0%|          | 0/76 [00:00<?, ?it/s]"
      ],
      "application/vnd.jupyter.widget-view+json": {
       "version_major": 2,
       "version_minor": 0,
       "model_id": "cbf40887b18042af9fdc7e53d155ef84"
      }
     },
     "metadata": {},
     "output_type": "display_data"
    },
    {
     "data": {
      "text/plain": [
       "  0%|          | 0/76 [00:00<?, ?it/s]"
      ],
      "application/vnd.jupyter.widget-view+json": {
       "version_major": 2,
       "version_minor": 0,
       "model_id": "b14dde0309474406ab08a63e7d8d11ad"
      }
     },
     "metadata": {},
     "output_type": "display_data"
    },
    {
     "data": {
      "text/plain": [
       "  0%|          | 0/76 [00:00<?, ?it/s]"
      ],
      "application/vnd.jupyter.widget-view+json": {
       "version_major": 2,
       "version_minor": 0,
       "model_id": "7920459185374b80af042250866a3b65"
      }
     },
     "metadata": {},
     "output_type": "display_data"
    },
    {
     "data": {
      "text/plain": [
       "  0%|          | 0/76 [00:00<?, ?it/s]"
      ],
      "application/vnd.jupyter.widget-view+json": {
       "version_major": 2,
       "version_minor": 0,
       "model_id": "45a339ce19d4477aa5e903884374cc49"
      }
     },
     "metadata": {},
     "output_type": "display_data"
    },
    {
     "data": {
      "text/plain": [
       "  0%|          | 0/17 [00:00<?, ?it/s]"
      ],
      "application/vnd.jupyter.widget-view+json": {
       "version_major": 2,
       "version_minor": 0,
       "model_id": "72bde2c13366424aa26e20095e93d5d7"
      }
     },
     "metadata": {},
     "output_type": "display_data"
    },
    {
     "data": {
      "text/plain": [
       "  0%|          | 0/76 [00:00<?, ?it/s]"
      ],
      "application/vnd.jupyter.widget-view+json": {
       "version_major": 2,
       "version_minor": 0,
       "model_id": "2158be54e8f7417989800d0e07f51f45"
      }
     },
     "metadata": {},
     "output_type": "display_data"
    },
    {
     "data": {
      "text/plain": [
       "  0%|          | 0/76 [00:00<?, ?it/s]"
      ],
      "application/vnd.jupyter.widget-view+json": {
       "version_major": 2,
       "version_minor": 0,
       "model_id": "d5df963166a8432ba12d0af6908ebc96"
      }
     },
     "metadata": {},
     "output_type": "display_data"
    },
    {
     "data": {
      "text/plain": [
       "  0%|          | 0/76 [00:00<?, ?it/s]"
      ],
      "application/vnd.jupyter.widget-view+json": {
       "version_major": 2,
       "version_minor": 0,
       "model_id": "dfccf62ccea24d8bb565d001d8cc5f14"
      }
     },
     "metadata": {},
     "output_type": "display_data"
    },
    {
     "data": {
      "text/plain": [
       "  0%|          | 0/76 [00:00<?, ?it/s]"
      ],
      "application/vnd.jupyter.widget-view+json": {
       "version_major": 2,
       "version_minor": 0,
       "model_id": "255371c387d34fcb97d742c5861717e4"
      }
     },
     "metadata": {},
     "output_type": "display_data"
    },
    {
     "data": {
      "text/plain": [
       "  0%|          | 0/76 [00:00<?, ?it/s]"
      ],
      "application/vnd.jupyter.widget-view+json": {
       "version_major": 2,
       "version_minor": 0,
       "model_id": "cbb9f587b3634ed992bce9eaa3274edf"
      }
     },
     "metadata": {},
     "output_type": "display_data"
    },
    {
     "data": {
      "text/plain": [
       "  0%|          | 0/76 [00:00<?, ?it/s]"
      ],
      "application/vnd.jupyter.widget-view+json": {
       "version_major": 2,
       "version_minor": 0,
       "model_id": "a58ff01a19bf4938b23ba56aaf489a56"
      }
     },
     "metadata": {},
     "output_type": "display_data"
    },
    {
     "data": {
      "text/plain": [
       "  0%|          | 0/76 [00:00<?, ?it/s]"
      ],
      "application/vnd.jupyter.widget-view+json": {
       "version_major": 2,
       "version_minor": 0,
       "model_id": "545b7093b61543fca332b406fba9015c"
      }
     },
     "metadata": {},
     "output_type": "display_data"
    },
    {
     "data": {
      "text/plain": [
       "  0%|          | 0/76 [00:00<?, ?it/s]"
      ],
      "application/vnd.jupyter.widget-view+json": {
       "version_major": 2,
       "version_minor": 0,
       "model_id": "f75d78cdb9c64c3da0c287c9b58ca8b3"
      }
     },
     "metadata": {},
     "output_type": "display_data"
    },
    {
     "data": {
      "text/plain": [
       "  0%|          | 0/76 [00:00<?, ?it/s]"
      ],
      "application/vnd.jupyter.widget-view+json": {
       "version_major": 2,
       "version_minor": 0,
       "model_id": "5f9d81b3b36a41b082dc7a535e2caf9e"
      }
     },
     "metadata": {},
     "output_type": "display_data"
    },
    {
     "data": {
      "text/plain": [
       "  0%|          | 0/76 [00:00<?, ?it/s]"
      ],
      "application/vnd.jupyter.widget-view+json": {
       "version_major": 2,
       "version_minor": 0,
       "model_id": "2345d729154c440ea2004ec1c0227f47"
      }
     },
     "metadata": {},
     "output_type": "display_data"
    },
    {
     "data": {
      "text/plain": [
       "  0%|          | 0/76 [00:00<?, ?it/s]"
      ],
      "application/vnd.jupyter.widget-view+json": {
       "version_major": 2,
       "version_minor": 0,
       "model_id": "23be2ca330794d8cb0eab0b4425a48b3"
      }
     },
     "metadata": {},
     "output_type": "display_data"
    },
    {
     "data": {
      "text/plain": [
       "  0%|          | 0/76 [00:00<?, ?it/s]"
      ],
      "application/vnd.jupyter.widget-view+json": {
       "version_major": 2,
       "version_minor": 0,
       "model_id": "a0283be1c1d64ff1ba5ddb0a11392080"
      }
     },
     "metadata": {},
     "output_type": "display_data"
    },
    {
     "data": {
      "text/plain": [
       "  0%|          | 0/76 [00:00<?, ?it/s]"
      ],
      "application/vnd.jupyter.widget-view+json": {
       "version_major": 2,
       "version_minor": 0,
       "model_id": "c3a243bc9d2d4681973301278c28421d"
      }
     },
     "metadata": {},
     "output_type": "display_data"
    },
    {
     "data": {
      "text/plain": [
       "  0%|          | 0/76 [00:00<?, ?it/s]"
      ],
      "application/vnd.jupyter.widget-view+json": {
       "version_major": 2,
       "version_minor": 0,
       "model_id": "a4edf7fdbfcc4f859ef22d6ec9058e06"
      }
     },
     "metadata": {},
     "output_type": "display_data"
    },
    {
     "data": {
      "text/plain": [
       "  0%|          | 0/76 [00:00<?, ?it/s]"
      ],
      "application/vnd.jupyter.widget-view+json": {
       "version_major": 2,
       "version_minor": 0,
       "model_id": "ad7762a2b0c94db48418036df489f681"
      }
     },
     "metadata": {},
     "output_type": "display_data"
    },
    {
     "data": {
      "text/plain": [
       "  0%|          | 0/76 [00:00<?, ?it/s]"
      ],
      "application/vnd.jupyter.widget-view+json": {
       "version_major": 2,
       "version_minor": 0,
       "model_id": "6f30664c499e47e5b72b73f3d798ef2b"
      }
     },
     "metadata": {},
     "output_type": "display_data"
    },
    {
     "data": {
      "text/plain": [
       "  0%|          | 0/76 [00:00<?, ?it/s]"
      ],
      "application/vnd.jupyter.widget-view+json": {
       "version_major": 2,
       "version_minor": 0,
       "model_id": "a6e60365d3024301b49cc32185905760"
      }
     },
     "metadata": {},
     "output_type": "display_data"
    },
    {
     "data": {
      "text/plain": [
       "  0%|          | 0/17 [00:00<?, ?it/s]"
      ],
      "application/vnd.jupyter.widget-view+json": {
       "version_major": 2,
       "version_minor": 0,
       "model_id": "3147d3b6370a41388a44e9784eecbe53"
      }
     },
     "metadata": {},
     "output_type": "display_data"
    },
    {
     "data": {
      "text/plain": [
       "  0%|          | 0/76 [00:00<?, ?it/s]"
      ],
      "application/vnd.jupyter.widget-view+json": {
       "version_major": 2,
       "version_minor": 0,
       "model_id": "d0075bcc9be74d54a40e249803420c3d"
      }
     },
     "metadata": {},
     "output_type": "display_data"
    },
    {
     "data": {
      "text/plain": [
       "  0%|          | 0/76 [00:00<?, ?it/s]"
      ],
      "application/vnd.jupyter.widget-view+json": {
       "version_major": 2,
       "version_minor": 0,
       "model_id": "b376854cdfcc48e1b5ce5e2b5339205f"
      }
     },
     "metadata": {},
     "output_type": "display_data"
    },
    {
     "data": {
      "text/plain": [
       "  0%|          | 0/76 [00:00<?, ?it/s]"
      ],
      "application/vnd.jupyter.widget-view+json": {
       "version_major": 2,
       "version_minor": 0,
       "model_id": "6300f523dcab4e35bd9a39dd5d69c683"
      }
     },
     "metadata": {},
     "output_type": "display_data"
    },
    {
     "data": {
      "text/plain": [
       "  0%|          | 0/76 [00:00<?, ?it/s]"
      ],
      "application/vnd.jupyter.widget-view+json": {
       "version_major": 2,
       "version_minor": 0,
       "model_id": "3e3a7d57a9bd482e96062ab3198a6661"
      }
     },
     "metadata": {},
     "output_type": "display_data"
    },
    {
     "data": {
      "text/plain": [
       "  0%|          | 0/76 [00:00<?, ?it/s]"
      ],
      "application/vnd.jupyter.widget-view+json": {
       "version_major": 2,
       "version_minor": 0,
       "model_id": "cdf4932e7e8c43b0a95bf61dd67580b6"
      }
     },
     "metadata": {},
     "output_type": "display_data"
    },
    {
     "data": {
      "text/plain": [
       "  0%|          | 0/76 [00:00<?, ?it/s]"
      ],
      "application/vnd.jupyter.widget-view+json": {
       "version_major": 2,
       "version_minor": 0,
       "model_id": "aefbc70265de4d4e8cdf573d236e435e"
      }
     },
     "metadata": {},
     "output_type": "display_data"
    },
    {
     "data": {
      "text/plain": [
       "  0%|          | 0/76 [00:00<?, ?it/s]"
      ],
      "application/vnd.jupyter.widget-view+json": {
       "version_major": 2,
       "version_minor": 0,
       "model_id": "4a728158a689455ca365c4a381a10d1c"
      }
     },
     "metadata": {},
     "output_type": "display_data"
    },
    {
     "data": {
      "text/plain": [
       "  0%|          | 0/76 [00:00<?, ?it/s]"
      ],
      "application/vnd.jupyter.widget-view+json": {
       "version_major": 2,
       "version_minor": 0,
       "model_id": "b9bc6e347bad4886bf928a6d076edb5e"
      }
     },
     "metadata": {},
     "output_type": "display_data"
    },
    {
     "data": {
      "text/plain": [
       "  0%|          | 0/76 [00:00<?, ?it/s]"
      ],
      "application/vnd.jupyter.widget-view+json": {
       "version_major": 2,
       "version_minor": 0,
       "model_id": "821ce6dfcae64be6929c3ab4a106dcea"
      }
     },
     "metadata": {},
     "output_type": "display_data"
    },
    {
     "data": {
      "text/plain": [
       "  0%|          | 0/76 [00:00<?, ?it/s]"
      ],
      "application/vnd.jupyter.widget-view+json": {
       "version_major": 2,
       "version_minor": 0,
       "model_id": "bd3a755f251042f7870d1ae2f34c3e8e"
      }
     },
     "metadata": {},
     "output_type": "display_data"
    },
    {
     "data": {
      "text/plain": [
       "  0%|          | 0/76 [00:00<?, ?it/s]"
      ],
      "application/vnd.jupyter.widget-view+json": {
       "version_major": 2,
       "version_minor": 0,
       "model_id": "78403b03c9fb4c0a842b8cf1e5d2d82d"
      }
     },
     "metadata": {},
     "output_type": "display_data"
    },
    {
     "data": {
      "text/plain": [
       "  0%|          | 0/76 [00:00<?, ?it/s]"
      ],
      "application/vnd.jupyter.widget-view+json": {
       "version_major": 2,
       "version_minor": 0,
       "model_id": "bf4fd8f42c914bcd82d1df718328b1e1"
      }
     },
     "metadata": {},
     "output_type": "display_data"
    },
    {
     "data": {
      "text/plain": [
       "  0%|          | 0/76 [00:00<?, ?it/s]"
      ],
      "application/vnd.jupyter.widget-view+json": {
       "version_major": 2,
       "version_minor": 0,
       "model_id": "5c9a35b407424f25acb8d0c300c04052"
      }
     },
     "metadata": {},
     "output_type": "display_data"
    },
    {
     "data": {
      "text/plain": [
       "  0%|          | 0/76 [00:00<?, ?it/s]"
      ],
      "application/vnd.jupyter.widget-view+json": {
       "version_major": 2,
       "version_minor": 0,
       "model_id": "572423272d56443d9ee084d9d0149d73"
      }
     },
     "metadata": {},
     "output_type": "display_data"
    },
    {
     "data": {
      "text/plain": [
       "  0%|          | 0/76 [00:00<?, ?it/s]"
      ],
      "application/vnd.jupyter.widget-view+json": {
       "version_major": 2,
       "version_minor": 0,
       "model_id": "6e58d23aa40844efb6ae6db50060e2cc"
      }
     },
     "metadata": {},
     "output_type": "display_data"
    },
    {
     "data": {
      "text/plain": [
       "  0%|          | 0/76 [00:00<?, ?it/s]"
      ],
      "application/vnd.jupyter.widget-view+json": {
       "version_major": 2,
       "version_minor": 0,
       "model_id": "efc689f29c674a4b93d0a2d158780ffb"
      }
     },
     "metadata": {},
     "output_type": "display_data"
    },
    {
     "data": {
      "text/plain": [
       "  0%|          | 0/76 [00:00<?, ?it/s]"
      ],
      "application/vnd.jupyter.widget-view+json": {
       "version_major": 2,
       "version_minor": 0,
       "model_id": "316acbbac7224da2844fecaa27756f2c"
      }
     },
     "metadata": {},
     "output_type": "display_data"
    },
    {
     "data": {
      "text/plain": [
       "  0%|          | 0/17 [00:00<?, ?it/s]"
      ],
      "application/vnd.jupyter.widget-view+json": {
       "version_major": 2,
       "version_minor": 0,
       "model_id": "32b17d98398a4b01b63ec7e3decdfea8"
      }
     },
     "metadata": {},
     "output_type": "display_data"
    },
    {
     "data": {
      "text/plain": [
       "  0%|          | 0/76 [00:00<?, ?it/s]"
      ],
      "application/vnd.jupyter.widget-view+json": {
       "version_major": 2,
       "version_minor": 0,
       "model_id": "6ca99e0f73cf48be8f4c88f5778886f7"
      }
     },
     "metadata": {},
     "output_type": "display_data"
    },
    {
     "data": {
      "text/plain": [
       "  0%|          | 0/76 [00:00<?, ?it/s]"
      ],
      "application/vnd.jupyter.widget-view+json": {
       "version_major": 2,
       "version_minor": 0,
       "model_id": "67698d0e170d4bbcb4769a76d252494b"
      }
     },
     "metadata": {},
     "output_type": "display_data"
    },
    {
     "data": {
      "text/plain": [
       "  0%|          | 0/76 [00:00<?, ?it/s]"
      ],
      "application/vnd.jupyter.widget-view+json": {
       "version_major": 2,
       "version_minor": 0,
       "model_id": "1b2843063f0a4b95ba307c81e47cb529"
      }
     },
     "metadata": {},
     "output_type": "display_data"
    },
    {
     "data": {
      "text/plain": [
       "  0%|          | 0/76 [00:00<?, ?it/s]"
      ],
      "application/vnd.jupyter.widget-view+json": {
       "version_major": 2,
       "version_minor": 0,
       "model_id": "a531b8c8ded146eba8237a3e03fb4437"
      }
     },
     "metadata": {},
     "output_type": "display_data"
    },
    {
     "data": {
      "text/plain": [
       "  0%|          | 0/76 [00:00<?, ?it/s]"
      ],
      "application/vnd.jupyter.widget-view+json": {
       "version_major": 2,
       "version_minor": 0,
       "model_id": "45799db8a69446349517b07b8fb6fef2"
      }
     },
     "metadata": {},
     "output_type": "display_data"
    },
    {
     "data": {
      "text/plain": [
       "  0%|          | 0/76 [00:00<?, ?it/s]"
      ],
      "application/vnd.jupyter.widget-view+json": {
       "version_major": 2,
       "version_minor": 0,
       "model_id": "76a1d53be75548ac9b176f9a75a41aa6"
      }
     },
     "metadata": {},
     "output_type": "display_data"
    },
    {
     "data": {
      "text/plain": [
       "  0%|          | 0/76 [00:00<?, ?it/s]"
      ],
      "application/vnd.jupyter.widget-view+json": {
       "version_major": 2,
       "version_minor": 0,
       "model_id": "aed6bfe73e6748dd8b1462614e8ec91d"
      }
     },
     "metadata": {},
     "output_type": "display_data"
    },
    {
     "data": {
      "text/plain": [
       "  0%|          | 0/76 [00:00<?, ?it/s]"
      ],
      "application/vnd.jupyter.widget-view+json": {
       "version_major": 2,
       "version_minor": 0,
       "model_id": "e211828f789845f89c4e1e445da666af"
      }
     },
     "metadata": {},
     "output_type": "display_data"
    },
    {
     "data": {
      "text/plain": [
       "  0%|          | 0/76 [00:00<?, ?it/s]"
      ],
      "application/vnd.jupyter.widget-view+json": {
       "version_major": 2,
       "version_minor": 0,
       "model_id": "86bb0a01cd12469ca1ed74eab5f4a6bd"
      }
     },
     "metadata": {},
     "output_type": "display_data"
    },
    {
     "data": {
      "text/plain": [
       "  0%|          | 0/76 [00:00<?, ?it/s]"
      ],
      "application/vnd.jupyter.widget-view+json": {
       "version_major": 2,
       "version_minor": 0,
       "model_id": "a50dd71fe1aa4f10b01fab3a7b5b2e83"
      }
     },
     "metadata": {},
     "output_type": "display_data"
    },
    {
     "data": {
      "text/plain": [
       "  0%|          | 0/76 [00:00<?, ?it/s]"
      ],
      "application/vnd.jupyter.widget-view+json": {
       "version_major": 2,
       "version_minor": 0,
       "model_id": "c0cbbdd3a13c4efa8947fa2aeb00ac72"
      }
     },
     "metadata": {},
     "output_type": "display_data"
    },
    {
     "data": {
      "text/plain": [
       "  0%|          | 0/76 [00:00<?, ?it/s]"
      ],
      "application/vnd.jupyter.widget-view+json": {
       "version_major": 2,
       "version_minor": 0,
       "model_id": "b79991114ba740a4b952435b1cec4b94"
      }
     },
     "metadata": {},
     "output_type": "display_data"
    },
    {
     "data": {
      "text/plain": [
       "  0%|          | 0/76 [00:00<?, ?it/s]"
      ],
      "application/vnd.jupyter.widget-view+json": {
       "version_major": 2,
       "version_minor": 0,
       "model_id": "7e9ba8c4c38a4beaba77cab29e815d0b"
      }
     },
     "metadata": {},
     "output_type": "display_data"
    },
    {
     "data": {
      "text/plain": [
       "  0%|          | 0/76 [00:00<?, ?it/s]"
      ],
      "application/vnd.jupyter.widget-view+json": {
       "version_major": 2,
       "version_minor": 0,
       "model_id": "debceedc640543e5bd43c98b7e6872be"
      }
     },
     "metadata": {},
     "output_type": "display_data"
    },
    {
     "data": {
      "text/plain": [
       "  0%|          | 0/76 [00:00<?, ?it/s]"
      ],
      "application/vnd.jupyter.widget-view+json": {
       "version_major": 2,
       "version_minor": 0,
       "model_id": "b9cdb16b5ab442d9895e2b8d8b151c6f"
      }
     },
     "metadata": {},
     "output_type": "display_data"
    },
    {
     "data": {
      "text/plain": [
       "  0%|          | 0/76 [00:00<?, ?it/s]"
      ],
      "application/vnd.jupyter.widget-view+json": {
       "version_major": 2,
       "version_minor": 0,
       "model_id": "30aecc057e644ef2a1190d44e622cf8e"
      }
     },
     "metadata": {},
     "output_type": "display_data"
    },
    {
     "data": {
      "text/plain": [
       "  0%|          | 0/76 [00:00<?, ?it/s]"
      ],
      "application/vnd.jupyter.widget-view+json": {
       "version_major": 2,
       "version_minor": 0,
       "model_id": "b6a872755d8846868eb82561c220fe77"
      }
     },
     "metadata": {},
     "output_type": "display_data"
    }
   ],
   "execution_count": 7
  },
  {
   "metadata": {
    "ExecuteTime": {
     "end_time": "2024-10-03T06:38:23.205640Z",
     "start_time": "2024-10-03T06:38:23.129396Z"
    }
   },
   "cell_type": "code",
   "source": [
    "np.save(\"costsT.npy\", costsT)\n",
    "np.save(\"diffsT.npy\", diffsT)\n",
    "np.save(\"nbT.npy\", nbT)\n",
    "\n",
    "res = [[-1 for _ in half_focus_sizes] for _ in max_shifts]\n",
    "for i in range(len(max_shifts)):\n",
    "    for j in range(len(half_focus_sizes)):\n",
    "        idx = i*len(half_focus_sizes)+j\n",
    "        \n",
    "        cost, diff, nb = costsT[idx], diffsT[idx], nbT[idx]\n",
    "        cost = np.max(list(cost.values()))\n",
    "        diff = np.mean(list(diff.values()))\n",
    "        \n",
    "        res[i][j] = cost\n",
    "        \n",
    "plt.imshow(res, extent=(max_shifts[0],max_shifts[-1], half_focus_sizes[0], half_focus_sizes[-1]))\n",
    "plt.xlabel(\"max shifts\")\n",
    "plt.ylabel(\"half_focus_sizes\")\n",
    "plt.colorbar()\n",
    "#plt.savefig(\"76_picks_experiment_diffs.png\")"
   ],
   "id": "3e861aceb6b3a93",
   "outputs": [
    {
     "ename": "ValueError",
     "evalue": "zero-size array to reduction operation maximum which has no identity",
     "output_type": "error",
     "traceback": [
      "\u001B[0;31m---------------------------------------------------------------------------\u001B[0m",
      "\u001B[0;31mValueError\u001B[0m                                Traceback (most recent call last)",
      "Cell \u001B[0;32mIn[10], line 11\u001B[0m\n\u001B[1;32m      8\u001B[0m idx \u001B[38;5;241m=\u001B[39m i\u001B[38;5;241m*\u001B[39m\u001B[38;5;28mlen\u001B[39m(half_focus_sizes)\u001B[38;5;241m+\u001B[39mj\n\u001B[1;32m     10\u001B[0m cost, diff, nb \u001B[38;5;241m=\u001B[39m costsT[idx], diffsT[idx], nbT[idx]\n\u001B[0;32m---> 11\u001B[0m cost \u001B[38;5;241m=\u001B[39m \u001B[43mnp\u001B[49m\u001B[38;5;241;43m.\u001B[39;49m\u001B[43mmax\u001B[49m\u001B[43m(\u001B[49m\u001B[38;5;28;43mlist\u001B[39;49m\u001B[43m(\u001B[49m\u001B[43mcost\u001B[49m\u001B[38;5;241;43m.\u001B[39;49m\u001B[43mvalues\u001B[49m\u001B[43m(\u001B[49m\u001B[43m)\u001B[49m\u001B[43m)\u001B[49m\u001B[43m)\u001B[49m\n\u001B[1;32m     12\u001B[0m diff \u001B[38;5;241m=\u001B[39m np\u001B[38;5;241m.\u001B[39mmean(\u001B[38;5;28mlist\u001B[39m(diff\u001B[38;5;241m.\u001B[39mvalues()))\n\u001B[1;32m     14\u001B[0m res[i][j] \u001B[38;5;241m=\u001B[39m cost\n",
      "File \u001B[0;32m~/.local/lib/python3.10/site-packages/numpy/core/fromnumeric.py:2810\u001B[0m, in \u001B[0;36mmax\u001B[0;34m(a, axis, out, keepdims, initial, where)\u001B[0m\n\u001B[1;32m   2692\u001B[0m \u001B[38;5;129m@array_function_dispatch\u001B[39m(_max_dispatcher)\n\u001B[1;32m   2693\u001B[0m \u001B[38;5;129m@set_module\u001B[39m(\u001B[38;5;124m'\u001B[39m\u001B[38;5;124mnumpy\u001B[39m\u001B[38;5;124m'\u001B[39m)\n\u001B[1;32m   2694\u001B[0m \u001B[38;5;28;01mdef\u001B[39;00m \u001B[38;5;21mmax\u001B[39m(a, axis\u001B[38;5;241m=\u001B[39m\u001B[38;5;28;01mNone\u001B[39;00m, out\u001B[38;5;241m=\u001B[39m\u001B[38;5;28;01mNone\u001B[39;00m, keepdims\u001B[38;5;241m=\u001B[39mnp\u001B[38;5;241m.\u001B[39m_NoValue, initial\u001B[38;5;241m=\u001B[39mnp\u001B[38;5;241m.\u001B[39m_NoValue,\n\u001B[1;32m   2695\u001B[0m          where\u001B[38;5;241m=\u001B[39mnp\u001B[38;5;241m.\u001B[39m_NoValue):\n\u001B[1;32m   2696\u001B[0m \u001B[38;5;250m    \u001B[39m\u001B[38;5;124;03m\"\"\"\u001B[39;00m\n\u001B[1;32m   2697\u001B[0m \u001B[38;5;124;03m    Return the maximum of an array or maximum along an axis.\u001B[39;00m\n\u001B[1;32m   2698\u001B[0m \n\u001B[0;32m   (...)\u001B[0m\n\u001B[1;32m   2808\u001B[0m \u001B[38;5;124;03m    5\u001B[39;00m\n\u001B[1;32m   2809\u001B[0m \u001B[38;5;124;03m    \"\"\"\u001B[39;00m\n\u001B[0;32m-> 2810\u001B[0m     \u001B[38;5;28;01mreturn\u001B[39;00m \u001B[43m_wrapreduction\u001B[49m\u001B[43m(\u001B[49m\u001B[43ma\u001B[49m\u001B[43m,\u001B[49m\u001B[43m \u001B[49m\u001B[43mnp\u001B[49m\u001B[38;5;241;43m.\u001B[39;49m\u001B[43mmaximum\u001B[49m\u001B[43m,\u001B[49m\u001B[43m \u001B[49m\u001B[38;5;124;43m'\u001B[39;49m\u001B[38;5;124;43mmax\u001B[39;49m\u001B[38;5;124;43m'\u001B[39;49m\u001B[43m,\u001B[49m\u001B[43m \u001B[49m\u001B[43maxis\u001B[49m\u001B[43m,\u001B[49m\u001B[43m \u001B[49m\u001B[38;5;28;43;01mNone\u001B[39;49;00m\u001B[43m,\u001B[49m\u001B[43m \u001B[49m\u001B[43mout\u001B[49m\u001B[43m,\u001B[49m\n\u001B[1;32m   2811\u001B[0m \u001B[43m                          \u001B[49m\u001B[43mkeepdims\u001B[49m\u001B[38;5;241;43m=\u001B[39;49m\u001B[43mkeepdims\u001B[49m\u001B[43m,\u001B[49m\u001B[43m \u001B[49m\u001B[43minitial\u001B[49m\u001B[38;5;241;43m=\u001B[39;49m\u001B[43minitial\u001B[49m\u001B[43m,\u001B[49m\u001B[43m \u001B[49m\u001B[43mwhere\u001B[49m\u001B[38;5;241;43m=\u001B[39;49m\u001B[43mwhere\u001B[49m\u001B[43m)\u001B[49m\n",
      "File \u001B[0;32m~/.local/lib/python3.10/site-packages/numpy/core/fromnumeric.py:88\u001B[0m, in \u001B[0;36m_wrapreduction\u001B[0;34m(obj, ufunc, method, axis, dtype, out, **kwargs)\u001B[0m\n\u001B[1;32m     85\u001B[0m         \u001B[38;5;28;01melse\u001B[39;00m:\n\u001B[1;32m     86\u001B[0m             \u001B[38;5;28;01mreturn\u001B[39;00m reduction(axis\u001B[38;5;241m=\u001B[39maxis, out\u001B[38;5;241m=\u001B[39mout, \u001B[38;5;241m*\u001B[39m\u001B[38;5;241m*\u001B[39mpasskwargs)\n\u001B[0;32m---> 88\u001B[0m \u001B[38;5;28;01mreturn\u001B[39;00m \u001B[43mufunc\u001B[49m\u001B[38;5;241;43m.\u001B[39;49m\u001B[43mreduce\u001B[49m\u001B[43m(\u001B[49m\u001B[43mobj\u001B[49m\u001B[43m,\u001B[49m\u001B[43m \u001B[49m\u001B[43maxis\u001B[49m\u001B[43m,\u001B[49m\u001B[43m \u001B[49m\u001B[43mdtype\u001B[49m\u001B[43m,\u001B[49m\u001B[43m \u001B[49m\u001B[43mout\u001B[49m\u001B[43m,\u001B[49m\u001B[43m \u001B[49m\u001B[38;5;241;43m*\u001B[39;49m\u001B[38;5;241;43m*\u001B[39;49m\u001B[43mpasskwargs\u001B[49m\u001B[43m)\u001B[49m\n",
      "\u001B[0;31mValueError\u001B[0m: zero-size array to reduction operation maximum which has no identity"
     ]
    }
   ],
   "execution_count": 10
  },
  {
   "metadata": {
    "ExecuteTime": {
     "end_time": "2024-09-30T14:38:04.300160Z",
     "start_time": "2024-09-30T14:38:04.126674Z"
    }
   },
   "cell_type": "code",
   "source": [
    "from matplotlib import pyplot as plt\n",
    "\n",
    "plt.scatter(costs, diffs)"
   ],
   "id": "d3d6a35a5969f286",
   "outputs": [
    {
     "data": {
      "text/plain": [
       "<matplotlib.collections.PathCollection at 0x7b8340284eb0>"
      ]
     },
     "execution_count": 109,
     "metadata": {},
     "output_type": "execute_result"
    },
    {
     "data": {
      "text/plain": [
       "<Figure size 640x480 with 1 Axes>"
      ],
      "image/png": "[encoded data removed]"
     },
     "metadata": {},
     "output_type": "display_data"
    }
   ],
   "execution_count": 109
  },
  {
   "metadata": {
    "ExecuteTime": {
     "end_time": "2024-09-30T17:25:12.330726Z",
     "start_time": "2024-09-30T17:25:12.224275Z"
    }
   },
   "cell_type": "code",
   "source": [
    "diffs, costs = {}, {}\n",
    "for i in locs.keys():\n",
    "    if type(locs[i]) == list or locs[i] is None:\n",
    "        continue\n",
    "    diff = np.sqrt(np.sum((np.array(expected_locs[i][1:]) - np.array(locs[i].x[1:]))**2))\n",
    "    if locs[i].cost > 1000:\n",
    "        continue\n",
    "    diffs[i] = diff\n",
    "    costs[i] = locs[i].cost\n",
    "    \n",
    "    print(f\"{costs[i]:6.2f} - {diffs[i]:5.2f} - {i}\")\n",
    "\n",
    "print(len(costs))"
   ],
   "id": "dea6f7d990899f12",
   "outputs": [
    {
     "name": "stdout",
     "output_type": "stream",
     "text": [
      "272.17 -  0.17 - 2018-10-06 10:40:41.400000\n",
      "276.63 -  0.21 - 2018-10-24 11:14:36.700000\n",
      "  1.22 -  0.07 - 2018-10-03 18:19:58\n",
      " 19.59 -  0.14 - 2018-10-01 18:10:58.700000\n",
      " 77.46 -  0.26 - 2018-10-01 01:41:35.500000\n",
      "222.13 -  0.15 - 2018-10-01 16:13:10.100000\n",
      "  8.19 -  0.04 - 2018-09-29 10:34:33.700000\n",
      "100.21 -  0.21 - 2018-10-08 18:48:25.900000\n",
      " 68.23 -  0.07 - 2018-10-01 14:33:00.600000\n",
      " 75.33 -  0.07 - 2018-10-01 02:45:39\n",
      "331.08 -  0.25 - 2018-10-05 07:55:45.800000\n",
      " 24.24 -  0.32 - 2018-10-02 18:51:26.800000\n",
      "  0.00 -  0.03 - 2018-09-28 08:37:16.300000\n",
      " 17.84 -  0.53 - 2018-09-27 17:25:58.700000\n",
      "113.25 -  0.12 - 2018-10-01 07:42:58\n",
      " 13.51 -  0.03 - 2018-10-03 16:52:21.900000\n",
      "  8.70 -  0.11 - 2018-10-05 04:28:55.800000\n",
      " 35.44 -  0.32 - 2018-10-13 15:37:10.500000\n",
      "156.20 -  0.25 - 2018-10-03 09:45:08.700000\n",
      "  3.73 -  0.58 - 2018-10-11 18:40:30.400000\n",
      "  7.11 -  0.09 - 2018-10-02 00:40:39.100000\n",
      " 15.58 -  0.09 - 2018-10-04 14:27:04.100000\n",
      "  0.15 -  0.03 - 2018-10-20 06:44:29.800000\n",
      " 20.16 -  0.35 - 2018-10-01 21:41:44.200000\n",
      " 16.20 -  0.37 - 2018-10-03 17:46:52.700000\n",
      "  5.14 -  0.43 - 2018-10-09 19:47:17.700000\n",
      "  2.54 -  0.27 - 2018-10-07 20:01:06.500000\n",
      " 47.81 -  0.88 - 2018-10-10 05:17:28.600000\n",
      " 46.64 -  0.59 - 2018-10-06 23:20:22.500000\n",
      " 64.25 -  0.25 - 2018-10-04 03:15:29.900000\n",
      "211.32 -  0.09 - 2018-10-02 06:32:11.900000\n",
      "  0.01 -  0.10 - 2018-10-10 06:19:10.700000\n",
      "157.24 -  0.18 - 2018-10-16 05:05:37\n",
      " 74.28 -  0.16 - 2018-10-10 13:14:47.200000\n",
      " 10.32 -  0.05 - 2018-10-01 14:11:02.600000\n",
      "167.18 -  0.25 - 2018-10-04 05:04:54.500000\n",
      "103.83 -  0.32 - 2018-10-02 22:22:21.100000\n",
      "151.88 -  0.23 - 2018-10-04 06:25:56.500000\n",
      " 37.62 -  0.04 - 2018-10-04 07:58:44.400000\n",
      " 54.91 -  0.06 - 2018-09-28 07:15:10.700000\n",
      "  0.05 -  0.09 - 2018-09-28 06:28:29.800000\n",
      "259.03 -  0.58 - 2018-10-05 09:06:27.600000\n",
      "104.22 -  0.58 - 2018-10-02 16:51:54.500000\n",
      " 40.12 -  0.04 - 2018-10-01 14:31:08.900000\n",
      "  5.26 -  0.04 - 2018-10-01 06:16:31.300000\n",
      " 39.03 -  0.08 - 2018-09-29 05:20:45.200000\n",
      " 13.51 -  0.41 - 2018-10-05 11:20:29.500000\n",
      " 55.75 -  0.22 - 2018-10-15 08:27:20.200000\n",
      "222.32 -  0.19 - 2018-10-02 14:58:45.900000\n",
      " 90.63 -  0.04 - 2018-10-02 16:45:48.400000\n",
      "251.26 -  0.46 - 2018-10-04 10:56:29\n",
      " 47.73 -  0.15 - 2018-10-01 18:38:33.500000\n",
      " 54.70 -  0.22 - 2018-10-07 03:27:11.600000\n",
      "252.49 -  0.04 - 2018-10-07 01:48:52.500000\n",
      "  3.95 -  0.91 - 2018-10-01 19:52:43.900000\n",
      "240.24 -  0.49 - 2018-10-07 15:24:10.200000\n",
      "  0.19 -  0.18 - 2018-09-28 01:12:42.900000\n",
      "140.50 -  0.25 - 2018-10-12 14:01:24.200000\n",
      " 27.19 -  0.14 - 2018-10-14 15:33:08.500000\n",
      " 28.58 -  0.37 - 2018-10-06 04:21:13.100000\n",
      " 10.39 -  0.97 - 2018-10-01 10:04:58.400000\n",
      " 33.70 -  0.02 - 2018-10-01 07:11:28.600000\n",
      " 40.67 -  0.17 - 2018-10-01 07:56:00.200000\n",
      " 12.19 -  0.78 - 2018-10-05 14:23:57\n",
      " 23.37 -  0.04 - 2018-09-28 06:06:32.200000\n",
      "332.67 -  0.17 - 2018-10-02 18:25:56.800000\n",
      " 20.92 -  0.08 - 2018-10-07 10:18:13.300000\n",
      " 54.72 -  0.14 - 2018-10-08 01:38:48.400000\n",
      " 11.63 -  0.06 - 2018-10-01 03:47:32\n",
      " 60.31 -  0.13 - 2018-10-10 02:57:43.200000\n",
      "  5.52 -  0.20 - 2018-09-30 06:54:22.600000\n",
      " 52.31 -  0.14 - 2018-09-30 01:57:27.700000\n",
      " 72.39 -  0.07 - 2018-10-01 14:36:09.200000\n",
      " 22.37 -  0.16 - 2018-10-02 15:41:45\n",
      " 69.76 -  0.06 - 2018-10-06 20:44:01.600000\n",
      " 23.37 -  0.18 - 2018-10-19 23:56:49.400000\n",
      " 56.97 -  0.04 - 2018-10-01 04:03:17.100000\n",
      "515.66 -  0.16 - 2018-10-02 11:14:43.700000\n",
      "  9.09 -  0.01 - 2018-10-12 10:50:01.200000\n",
      " 12.41 -  0.19 - 2018-10-01 02:22:47.600000\n",
      " 62.04 -  0.39 - 2018-10-02 04:19:16.700000\n",
      "120.68 -  0.19 - 2018-09-29 12:16:49.800000\n",
      "  0.01 -  0.35 - 2018-10-04 14:51:50.400000\n",
      "  0.03 -  0.07 - 2018-09-27 14:49:10.700000\n",
      "  0.32 -  0.21 - 2018-10-13 03:10:13\n",
      "114.24 -  0.06 - 2018-10-05 18:59:23.400000\n",
      " 53.84 -  0.11 - 2018-10-06 03:08:13.300000\n",
      " 47.71 -  0.14 - 2018-09-28 14:26:48\n",
      "247.29 -  0.10 - 2018-10-02 20:39:51.900000\n",
      " 51.89 -  0.27 - 2018-10-03 01:06:50.300000\n",
      " 22.15 -  0.15 - 2018-10-03 19:56:13.900000\n",
      " 54.90 -  0.12 - 2018-10-01 02:36:10.900000\n",
      " 61.39 -  0.03 - 2018-09-28 07:08:41.600000\n",
      "179.91 -  0.07 - 2018-10-01 05:50:59.800000\n",
      " 19.50 -  0.96 - 2018-10-04 20:37:19.300000\n",
      " 13.26 -  0.44 - 2018-10-18 05:04:52.200000\n",
      "121.48 -  0.10 - 2018-10-02 20:11:40.800000\n",
      "122.00 -  0.23 - 2018-10-01 14:09:11.300000\n",
      " 80.60 -  0.16 - 2018-10-16 00:30:12.500000\n",
      " 73.51 -  0.13 - 2018-10-03 08:17:10.400000\n",
      "175.06 -  0.36 - 2018-10-07 04:27:52.300000\n",
      "  3.40 -  0.07 - 2018-10-06 04:38:12.200000\n",
      " 30.54 -  0.31 - 2018-10-04 13:49:41.900000\n",
      " 98.80 -  0.08 - 2018-10-12 08:30:01.700000\n",
      "  2.26 -  0.37 - 2018-10-15 14:48:12.800000\n",
      "185.83 -  0.30 - 2018-10-06 04:36:01.900000\n",
      " 16.00 -  0.34 - 2018-10-02 02:43:43.800000\n",
      " 16.30 -  0.20 - 2018-10-15 07:14:52.600000\n",
      "  0.43 -  0.11 - 2018-10-02 12:08:40.800000\n",
      "145.82 -  0.75 - 2018-10-07 13:37:08.200000\n",
      " 21.13 -  0.15 - 2018-10-02 11:04:12.400000\n",
      "  7.23 -  0.11 - 2018-10-25 02:36:39.300000\n",
      " 58.02 -  0.09 - 2018-10-01 05:55:28.100000\n",
      " 50.62 -  0.25 - 2018-10-14 12:44:06.700000\n",
      " 78.07 -  0.05 - 2018-10-08 22:47:26.900000\n",
      " 27.62 -  0.21 - 2018-10-05 21:43:11.700000\n",
      "  1.04 -  0.12 - 2018-10-07 17:10:47.500000\n",
      " 54.17 -  0.18 - 2018-10-07 02:10:20.700000\n",
      "391.91 -  0.22 - 2018-10-06 21:54:03.500000\n",
      "252.74 -  0.16 - 2018-10-07 01:07:38.800000\n",
      "  3.79 -  0.53 - 2018-10-05 18:39:22\n",
      " 25.88 -  0.47 - 2018-10-14 16:31:31.900000\n",
      "  6.08 -  0.14 - 2018-10-06 10:11:56\n",
      "179.31 -  0.14 - 2018-09-29 12:25:48.600000\n",
      " 39.57 -  0.01 - 2018-10-06 11:48:18.400000\n",
      "  7.74 -  0.83 - 2018-10-07 06:52:15.900000\n",
      "105.76 -  0.08 - 2018-10-01 06:57:37\n",
      " 93.18 -  0.12 - 2018-10-01 04:44:59.800000\n",
      " 20.50 -  0.15 - 2018-09-27 15:05:40.700000\n",
      "  0.00 -  0.22 - 2018-10-05 06:28:30.300000\n",
      " 18.66 -  0.08 - 2018-10-01 06:41:38\n",
      "  0.00 -  0.30 - 2018-09-29 03:56:10.200000\n",
      " 49.70 -  0.47 - 2018-10-19 23:03:59.100000\n",
      " 16.19 -  2.64 - 2018-10-07 07:36:42.600000\n",
      " 17.63 -  0.31 - 2018-10-14 18:00:52.400000\n",
      " 13.02 -  0.06 - 2018-10-03 03:53:57.500000\n",
      "  1.29 -  0.43 - 2018-10-03 17:11:09.200000\n",
      "141.29 -  0.16 - 2018-10-03 01:41:23.400000\n",
      "  3.90 -  0.33 - 2018-10-17 07:57:13.300000\n",
      "100.35 -  0.09 - 2018-10-02 11:32:15.100000\n",
      "  1.54 -  0.27 - 2018-10-06 06:21:31.100000\n",
      " 28.80 -  0.05 - 2018-09-28 05:58:48.700000\n",
      "144.15 -  0.45 - 2018-10-02 19:20:01\n",
      "  0.00 -  0.05 - 2018-10-06 00:46:07.100000\n",
      " 87.12 -  0.34 - 2018-10-05 14:05:00.600000\n",
      "  1.26 -  0.12 - 2018-10-01 06:00:44.900000\n",
      "  7.95 -  0.04 - 2018-10-11 06:44:42.500000\n",
      " 56.28 -  0.42 - 2018-10-06 02:33:14.500000\n",
      " 13.48 -  0.14 - 2018-10-02 14:34:36.800000\n",
      "  2.08 -  0.17 - 2018-10-01 06:19:23.900000\n",
      " 80.78 -  1.62 - 2018-10-06 08:48:10.800000\n",
      " 32.97 -  0.22 - 2018-10-15 13:59:36.300000\n",
      " 69.50 -  0.16 - 2018-09-30 03:06:01.500000\n",
      " 30.29 -  0.22 - 2018-10-06 09:35:07.200000\n",
      " 26.12 -  0.06 - 2018-10-02 14:29:42.300000\n",
      " 15.00 -  0.16 - 2018-09-30 23:05:07.100000\n",
      " 26.53 -  0.11 - 2018-10-01 14:09:59.400000\n",
      " 32.82 -  0.23 - 2018-10-05 21:30:51.600000\n",
      " 50.72 -  0.33 - 2018-10-09 13:08:21.100000\n",
      " 57.85 -  0.15 - 2018-10-09 13:05:48.300000\n",
      " 13.08 -  0.06 - 2018-10-04 13:00:29\n",
      " 32.38 -  0.07 - 2018-10-01 14:29:02.500000\n",
      " 66.26 -  0.29 - 2018-10-03 20:45:26.500000\n",
      " 20.82 -  0.05 - 2018-10-01 09:57:57.100000\n",
      "  0.28 -  0.70 - 2018-09-29 04:41:40.900000\n",
      "  5.83 -  0.04 - 2018-10-01 01:03:40.200000\n",
      "140.93 -  0.20 - 2018-10-04 00:35:53.800000\n",
      "132.38 -  0.28 - 2018-10-07 18:47:44.900000\n",
      "158.58 -  0.79 - 2018-10-07 14:25:41\n",
      "  2.94 -  0.07 - 2018-10-03 10:56:02.800000\n",
      " 58.91 -  0.47 - 2018-10-23 18:42:21.200000\n",
      "462.33 -  0.07 - 2018-10-07 05:57:46.700000\n",
      " 35.01 -  0.18 - 2018-10-07 22:09:54.500000\n",
      " 17.30 -  0.18 - 2018-09-30 13:00:36.500000\n",
      " 19.05 -  0.07 - 2018-10-01 14:16:27.800000\n",
      "686.73 -  0.34 - 2018-09-30 13:18:50.500000\n",
      "  1.07 -  0.05 - 2018-10-13 08:11:48.700000\n",
      " 11.63 -  0.11 - 2018-10-02 17:06:57.500000\n",
      " 85.97 -  0.22 - 2018-10-02 09:55:50.500000\n",
      "227.94 -  0.35 - 2018-10-02 04:44:17\n",
      " 47.84 -  0.10 - 2018-10-06 19:05:23.500000\n",
      "152.14 -  0.08 - 2018-10-01 06:27:59.500000\n",
      "  4.54 -  0.20 - 2018-10-02 23:36:42.500000\n",
      " 34.07 -  0.20 - 2018-10-07 07:00:52.800000\n",
      " 39.79 -  0.12 - 2018-10-01 04:35:01.800000\n",
      "446.88 -  0.19 - 2018-10-05 19:10:07.300000\n",
      " 93.02 -  0.06 - 2018-09-28 06:50:34.300000\n",
      "132.28 -  0.31 - 2018-10-01 04:17:51.700000\n",
      " 23.37 -  0.17 - 2018-10-02 01:26:41.400000\n",
      " 15.52 -  0.34 - 2018-09-28 20:34:54.300000\n",
      "  2.34 -  0.13 - 2018-10-07 06:14:51.300000\n",
      " 47.54 -  0.04 - 2018-10-04 17:43:21.100000\n",
      "  0.60 -  0.66 - 2018-10-07 03:54:17.700000\n",
      " 72.02 -  0.16 - 2018-10-02 19:23:16.600000\n",
      " 97.74 -  0.07 - 2018-09-29 03:08:40.600000\n",
      "  9.16 -  0.24 - 2018-10-01 00:47:19.800000\n",
      " 79.15 -  0.02 - 2018-10-01 12:38:17.200000\n",
      "250.42 -  0.17 - 2018-09-30 16:12:45.200000\n",
      "250.70 -  0.09 - 2018-09-28 05:29:51.600000\n",
      " 27.95 -  0.32 - 2018-10-08 14:40:23.800000\n",
      "  3.53 -  0.28 - 2018-10-06 14:15:49.300000\n",
      "288.39 -  0.11 - 2018-10-03 07:51:11.600000\n",
      " 86.60 -  0.25 - 2018-10-02 16:02:36\n",
      " 28.76 -  0.31 - 2018-10-02 20:23:46.300000\n",
      "170.89 -  0.39 - 2018-10-14 05:11:45.500000\n",
      " 40.08 -  0.23 - 2018-10-06 08:15:01.100000\n",
      "194.47 -  0.20 - 2018-10-05 19:42:17.800000\n",
      " 38.94 -  0.27 - 2018-10-02 09:28:48.100000\n",
      " 22.75 -  0.15 - 2018-10-05 23:32:34.900000\n",
      "  0.05 -  0.13 - 2018-10-05 17:35:33.200000\n",
      "257.95 -  0.16 - 2018-10-07 11:13:29.300000\n",
      " 10.79 -  0.14 - 2018-10-02 12:40:50.600000\n",
      "  0.58 -  0.13 - 2018-09-28 11:05:48.800000\n",
      " 47.98 -  0.25 - 2018-10-09 00:18:15.500000\n",
      " 71.81 -  0.25 - 2018-10-02 09:07:08\n",
      " 20.77 -  0.18 - 2018-10-05 13:51:02.300000\n",
      " 67.51 -  0.30 - 2018-10-02 07:24:30.500000\n",
      " 25.18 -  0.10 - 2018-10-14 14:26:23.800000\n",
      " 72.71 -  0.30 - 2018-10-02 09:19:13.600000\n",
      " 18.92 -  0.06 - 2018-10-01 05:32:01.500000\n",
      " 99.79 -  0.75 - 2018-10-03 05:46:42.800000\n",
      " 40.41 -  0.10 - 2018-10-08 00:03:54.900000\n",
      " 63.40 -  0.06 - 2018-10-01 06:05:47\n",
      " 55.94 -  0.02 - 2018-10-11 13:21:36.600000\n",
      "309.32 -  0.25 - 2018-10-14 19:11:37.300000\n",
      "  1.55 -  0.23 - 2018-10-14 14:29:18.500000\n",
      "  2.46 -  0.23 - 2018-10-11 03:58:05.800000\n",
      " 37.26 -  0.10 - 2018-10-24 12:31:58.900000\n",
      " 21.16 -  0.08 - 2018-10-01 07:15:17.900000\n",
      " 44.54 -  0.37 - 2018-10-04 03:56:41.600000\n",
      "190.39 -  0.21 - 2018-10-09 17:32:37.900000\n",
      "195.32 -  0.17 - 2018-10-04 14:53:48.300000\n",
      " 68.38 -  0.16 - 2018-10-05 21:57:10.100000\n",
      "286.05 -  0.31 - 2018-09-30 05:21:57\n",
      " 19.99 -  0.11 - 2018-10-01 00:54:04.900000\n",
      " 65.78 -  0.24 - 2018-10-02 13:10:42.400000\n",
      "451.06 -  0.13 - 2018-10-24 13:42:37.800000\n",
      "  0.01 -  0.67 - 2018-10-09 17:49:43.800000\n",
      "125.86 -  0.24 - 2018-10-05 14:40:35\n",
      " 39.14 -  0.41 - 2018-10-01 06:03:39.300000\n",
      " 47.88 -  1.80 - 2018-10-05 09:45:38\n",
      "170.85 -  0.29 - 2018-10-01 19:56:53.400000\n",
      " 29.70 -  0.25 - 2018-10-06 12:16:46.100000\n",
      " 49.86 -  0.29 - 2018-10-06 06:58:21.200000\n",
      "147.95 -  0.16 - 2018-10-03 03:06:10.100000\n",
      " 70.45 -  0.58 - 2018-10-15 18:37:50.200000\n",
      "136.06 -  0.19 - 2018-10-11 18:21:37.400000\n",
      " 59.30 -  0.29 - 2018-10-07 20:35:58.600000\n",
      "  0.23 -  0.20 - 2018-10-04 04:12:51\n",
      " 61.31 -  0.01 - 2018-10-09 15:53:35.100000\n",
      "  7.66 -  1.04 - 2018-10-03 21:31:27.300000\n",
      "597.72 -  0.26 - 2018-10-08 00:30:26.100000\n",
      "164.32 -  0.53 - 2018-10-09 06:04:17.700000\n",
      "209.49 -  0.20 - 2018-10-02 11:47:53.300000\n",
      " 29.87 -  0.08 - 2018-10-08 03:58:43.200000\n",
      "235.16 -  0.09 - 2018-10-02 15:38:52.200000\n",
      "  1.05 -  0.12 - 2018-10-01 00:41:58.300000\n",
      "187.42 -  0.18 - 2018-10-02 13:18:22.700000\n",
      " 99.17 -  0.12 - 2018-10-14 15:54:18.600000\n",
      " 27.00 -  0.08 - 2018-10-19 16:43:46.200000\n",
      " 23.47 -  0.14 - 2018-10-02 08:46:15.100000\n",
      " 18.65 -  0.03 - 2018-10-08 01:46:40.800000\n",
      " 77.67 -  0.15 - 2018-10-14 14:00:45\n",
      " 23.43 -  0.50 - 2018-10-01 03:32:08.400000\n",
      "155.19 -  0.29 - 2018-10-10 18:59:16.500000\n",
      "176.04 -  0.06 - 2018-10-03 10:01:51.800000\n",
      " 26.60 -  0.08 - 2018-10-02 18:36:24.800000\n",
      " 45.86 -  0.11 - 2018-10-05 07:43:06.700000\n",
      " 11.61 -  0.29 - 2018-09-30 06:11:44.600000\n",
      "  1.38 -  0.15 - 2018-10-01 10:44:06.100000\n",
      "140.09 -  0.37 - 2018-10-01 10:15:47.600000\n",
      "148.89 -  0.29 - 2018-10-02 17:41:05.700000\n",
      " 33.45 -  0.56 - 2018-10-03 14:03:36.300000\n",
      "  6.04 -  0.03 - 2018-10-01 07:17:54.200000\n",
      "  2.41 -  0.21 - 2018-10-04 04:48:16.600000\n",
      "  3.90 -  0.12 - 2018-10-03 01:10:31.200000\n",
      "392.20 -  0.18 - 2018-10-02 11:19:14.400000\n",
      " 54.44 -  0.05 - 2018-09-27 20:11:46.500000\n",
      "  5.12 -  0.10 - 2018-10-27 04:42:48.900000\n",
      " 94.84 -  0.44 - 2018-10-09 16:34:38.200000\n",
      " 96.60 -  0.12 - 2018-10-02 03:00:27.100000\n",
      "173.17 -  0.49 - 2018-09-27 18:26:55.900000\n",
      " 13.12 -  0.04 - 2018-10-03 21:58:36.800000\n",
      "  0.79 -  0.01 - 2018-09-29 01:30:57.400000\n",
      "  2.24 -  0.08 - 2018-10-09 21:26:46\n",
      " 23.62 -  0.28 - 2018-09-29 03:14:01.400000\n",
      " 16.30 -  0.38 - 2018-10-05 14:53:39.300000\n",
      " 79.52 -  0.43 - 2018-10-15 07:06:29.700000\n",
      "  9.88 -  0.29 - 2018-10-09 10:29:24.800000\n",
      " 45.99 -  0.00 - 2018-09-28 15:31:00\n",
      " 10.47 -  0.58 - 2018-10-17 08:21:52.100000\n",
      "122.68 -  0.05 - 2018-10-09 21:51:13.700000\n",
      "  2.32 -  0.04 - 2018-10-06 08:42:06.200000\n",
      "  0.91 -  0.07 - 2018-10-14 14:51:04.700000\n",
      "331.72 -  0.14 - 2018-10-14 12:53:23.300000\n",
      "237.16 -  0.17 - 2018-10-19 01:59:23.600000\n",
      " 28.62 -  0.04 - 2018-10-01 16:11:02.900000\n",
      "246.69 -  0.05 - 2018-10-16 16:21:32.600000\n",
      "161.80 -  0.11 - 2018-10-01 06:17:29.400000\n",
      " 17.19 -  0.25 - 2018-10-03 05:15:59.700000\n",
      " 22.24 -  0.12 - 2018-10-04 19:43:25.800000\n",
      "  2.81 -  0.11 - 2018-10-03 11:21:39\n",
      "  0.33 -  0.03 - 2018-10-01 05:08:00.100000\n",
      "405.41 -  0.16 - 2018-10-02 20:28:20.900000\n",
      " 50.14 -  0.33 - 2018-10-02 05:21:40.900000\n",
      "  0.56 -  0.46 - 2018-10-10 07:40:20.100000\n",
      "  5.65 -  0.15 - 2018-10-18 17:22:51.500000\n",
      "  0.28 -  0.06 - 2018-10-18 23:25:36.700000\n",
      "  0.58 -  0.05 - 2018-09-27 23:15:55.900000\n",
      "  5.69 -  0.11 - 2018-09-30 06:26:52.800000\n",
      " 48.01 -  0.06 - 2018-09-28 09:46:32.400000\n",
      "248.29 -  0.33 - 2018-10-05 18:53:16.300000\n",
      " 63.94 -  0.34 - 2018-09-30 08:03:50.400000\n",
      " 33.74 -  0.12 - 2018-10-02 18:45:42.100000\n",
      "141.55 -  0.22 - 2018-10-02 10:29:01.200000\n",
      "  6.18 -  0.11 - 2018-10-15 14:06:53.200000\n",
      "  9.39 -  0.08 - 2018-09-29 02:51:32\n",
      "  9.78 -  0.05 - 2018-10-05 20:43:56.100000\n",
      " 40.63 -  0.46 - 2018-10-06 09:53:44.800000\n",
      "179.65 -  0.05 - 2018-10-01 06:38:05.400000\n",
      "  2.38 -  0.14 - 2018-09-29 16:30:09.700000\n",
      "  0.16 -  0.37 - 2018-10-05 18:47:42.700000\n",
      " 32.41 -  0.32 - 2018-10-11 01:54:34.200000\n",
      " 36.08 -  0.07 - 2018-10-09 20:56:09.600000\n",
      "  6.65 -  0.03 - 2018-10-01 17:28:30\n",
      "  3.87 -  0.32 - 2018-10-07 09:09:04.700000\n",
      "131.91 -  0.32 - 2018-10-02 06:58:48.700000\n",
      "  0.90 -  0.05 - 2018-10-05 18:03:38.700000\n",
      "  8.36 -  0.02 - 2018-10-04 13:08:20.500000\n",
      " 89.59 -  0.10 - 2018-10-01 03:08:06.400000\n",
      "174.67 -  0.04 - 2018-10-01 02:35:05.600000\n",
      " 18.89 -  0.18 - 2018-10-02 09:09:35.600000\n",
      "129.93 -  0.09 - 2018-10-27 20:09:10.500000\n",
      "  0.56 -  0.43 - 2018-10-01 20:36:40.500000\n",
      "126.42 -  0.19 - 2018-10-06 11:16:50.900000\n",
      " 16.41 -  0.01 - 2018-09-28 08:45:56.100000\n",
      "  2.06 -  0.23 - 2018-10-17 11:32:22.600000\n",
      " 28.14 -  0.06 - 2018-10-08 04:31:17.200000\n",
      " 46.76 -  0.05 - 2018-10-06 09:44:13.400000\n",
      "  9.11 -  0.04 - 2018-10-02 05:37:30.600000\n",
      "116.75 -  0.36 - 2018-10-03 05:55:25.100000\n",
      "  2.88 -  0.08 - 2018-10-12 04:28:38.800000\n",
      " 80.20 -  0.06 - 2018-10-09 11:02:38.100000\n",
      "109.04 -  0.18 - 2018-10-01 20:14:44.400000\n",
      " 25.34 -  0.05 - 2018-10-11 18:10:00.300000\n",
      "265.94 -  0.49 - 2018-10-07 12:19:23.400000\n",
      " 14.94 -  0.07 - 2018-10-02 21:24:36.500000\n",
      "354.37 -  0.15 - 2018-10-02 05:49:02.500000\n",
      "250.85 -  0.26 - 2018-10-01 04:41:30.300000\n",
      " 18.59 -  0.53 - 2018-10-01 12:29:07.900000\n",
      "  5.97 -  0.20 - 2018-10-08 10:32:08.900000\n",
      " 75.45 -  0.15 - 2018-10-07 02:41:27.800000\n",
      " 42.61 -  0.27 - 2018-10-06 21:35:32.500000\n",
      "  2.65 -  0.19 - 2018-09-26 09:01:50.500000\n",
      "235.92 -  0.11 - 2018-10-19 12:07:22.900000\n",
      " 64.48 -  0.03 - 2018-10-01 05:19:20.500000\n",
      "  4.58 -  0.14 - 2018-10-15 07:17:44.500000\n",
      "  2.24 -  0.79 - 2018-10-04 05:36:13.200000\n",
      " 60.16 -  0.23 - 2018-10-02 18:19:30.600000\n",
      "  1.15 -  0.26 - 2018-10-16 02:49:45.700000\n",
      " 74.53 -  0.06 - 2018-10-01 05:13:58.900000\n",
      " 48.31 -  0.09 - 2018-09-27 13:57:36.700000\n",
      " 98.95 -  0.39 - 2018-10-09 15:06:11\n",
      "148.84 -  0.28 - 2018-10-04 05:55:15\n",
      " 23.41 -  0.05 - 2018-10-02 23:11:59.900000\n",
      "280.94 -  0.11 - 2018-10-01 06:50:52.200000\n",
      " 30.81 -  0.04 - 2018-10-18 07:29:06.100000\n",
      "204.26 -  0.24 - 2018-10-15 03:02:43.300000\n",
      "  6.83 -  0.14 - 2018-10-10 16:10:23.400000\n",
      "188.72 -  0.11 - 2018-10-01 13:29:17.400000\n",
      "363.90 -  0.19 - 2018-10-13 10:23:15\n",
      "157.99 -  0.19 - 2018-10-09 15:10:19.700000\n",
      " 41.08 -  0.14 - 2018-09-30 11:21:56.500000\n",
      " 60.38 -  0.01 - 2018-09-30 21:54:20.800000\n",
      "  7.65 -  0.15 - 2018-10-02 12:19:04.500000\n",
      "  9.19 -  0.24 - 2018-10-07 12:03:06.800000\n",
      " 15.27 -  0.10 - 2018-10-06 02:15:59.300000\n",
      " 59.92 -  0.08 - 2018-10-01 18:13:00.100000\n",
      "292.89 -  0.25 - 2018-09-30 22:19:49.400000\n",
      " 46.19 -  0.10 - 2018-10-01 19:23:38.600000\n",
      " 38.70 -  0.25 - 2018-10-11 19:56:57.700000\n",
      " 23.44 -  0.06 - 2018-10-04 19:32:45.600000\n",
      " 11.26 -  0.26 - 2018-10-02 11:30:07.900000\n",
      "  8.20 -  0.31 - 2018-10-02 21:50:51.300000\n",
      "  5.35 -  0.25 - 2018-10-02 14:50:34.300000\n",
      "  9.56 -  0.08 - 2018-10-03 13:31:09.400000\n",
      "124.30 -  0.25 - 2018-10-03 13:20:44.500000\n",
      "189.73 -  0.19 - 2018-10-08 10:16:00.100000\n",
      "354.78 -  0.28 - 2018-10-07 05:49:24.700000\n",
      "  0.48 -  0.11 - 2018-10-16 05:46:41.200000\n",
      " 78.28 -  0.29 - 2018-10-06 11:51:45\n",
      " 55.99 -  0.09 - 2018-09-29 01:10:34.600000\n",
      " 92.87 -  0.24 - 2018-10-03 20:12:43.900000\n",
      " 88.32 -  0.09 - 2018-10-02 11:34:45.900000\n",
      "  4.62 -  0.18 - 2018-10-06 05:09:29.800000\n",
      "118.05 -  0.14 - 2018-10-04 19:41:07.600000\n",
      " 33.27 -  0.22 - 2018-10-09 16:00:19\n",
      "  5.62 -  0.03 - 2018-09-29 03:57:11\n",
      " 11.40 -  0.02 - 2018-10-09 02:39:16.400000\n",
      " 71.26 -  0.36 - 2018-10-05 02:55:01.800000\n",
      " 25.84 -  0.13 - 2018-10-05 11:22:37.100000\n",
      "  3.96 -  0.22 - 2018-10-02 06:19:18.500000\n",
      "305.76 -  0.14 - 2018-10-02 16:17:34.700000\n",
      "387.33 -  0.14 - 2018-10-14 13:49:33.800000\n",
      "  0.56 -  0.08 - 2018-10-04 13:11:00.700000\n",
      "  8.42 -  0.09 - 2018-10-04 12:52:05.300000\n",
      "314.62 -  0.84 - 2018-10-14 07:30:17.200000\n",
      " 81.95 -  0.10 - 2018-09-30 20:07:31.600000\n",
      " 94.47 -  0.13 - 2018-10-05 19:31:41.800000\n",
      "  3.18 -  0.18 - 2018-10-02 00:16:49.400000\n",
      " 26.15 -  0.12 - 2018-10-01 19:50:24.300000\n",
      "186.64 -  0.03 - 2018-10-01 07:21:39.900000\n",
      " 87.54 -  0.07 - 2018-09-27 13:58:44.400000\n",
      " 80.04 -  0.36 - 2018-09-30 23:13:40.800000\n",
      " 74.62 -  0.27 - 2018-10-15 08:18:36.300000\n",
      "  9.44 -  0.26 - 2018-10-05 20:04:38.800000\n",
      " 12.69 -  0.46 - 2018-10-15 06:30:24.700000\n",
      "639.64 -  0.24 - 2018-10-17 02:10:45.600000\n",
      " 21.36 -  0.24 - 2018-10-02 05:31:28.300000\n",
      "  3.32 -  0.07 - 2018-10-01 09:10:58.100000\n",
      "  0.03 -  0.21 - 2018-10-07 06:47:05.600000\n",
      " 61.25 -  0.06 - 2018-09-30 01:46:09.400000\n",
      "  6.09 -  0.10 - 2018-10-01 03:41:22.400000\n",
      "  7.94 -  0.09 - 2018-10-05 17:41:06\n",
      " 42.12 -  0.06 - 2018-10-07 09:15:44.900000\n",
      " 76.75 -  0.28 - 2018-10-17 23:37:47\n",
      "109.18 -  0.32 - 2018-10-12 03:34:51.800000\n",
      "  0.60 -  0.12 - 2018-10-12 10:06:45\n",
      "170.02 -  0.26 - 2018-09-30 17:14:30.200000\n",
      " 37.25 -  0.11 - 2018-10-02 12:05:55.900000\n",
      "181.49 -  0.03 - 2018-10-02 13:41:11.500000\n",
      " 97.22 -  0.18 - 2018-09-30 21:29:12.200000\n",
      "151.09 -  0.28 - 2018-09-30 02:26:36.500000\n",
      " 45.62 -  0.34 - 2018-10-02 12:57:38.200000\n",
      " 47.55 -  0.11 - 2018-10-11 21:35:21.100000\n",
      "136.73 -  0.40 - 2018-10-05 19:32:40.400000\n",
      " 21.63 -  0.01 - 2018-10-01 23:20:36.300000\n",
      "383.57 -  0.13 - 2018-10-04 10:09:02.300000\n",
      "131.16 -  0.30 - 2018-10-06 03:45:52.500000\n",
      "  1.12 -  0.14 - 2018-10-05 10:57:15.700000\n",
      "  0.57 -  0.04 - 2018-10-07 08:38:08.900000\n",
      " 59.22 -  0.06 - 2018-10-27 04:28:18.100000\n",
      "  0.09 -  0.18 - 2018-10-09 05:05:01.800000\n",
      "470.15 -  0.09 - 2018-10-05 14:00:30.300000\n",
      " 77.78 -  0.19 - 2018-10-07 02:50:36.700000\n",
      "282.87 -  0.08 - 2018-10-16 16:16:45.500000\n",
      "  1.90 -  0.04 - 2018-10-02 21:31:43.300000\n",
      " 32.22 -  0.19 - 2018-10-04 12:43:20.600000\n",
      " 19.36 -  0.21 - 2018-10-02 15:31:11.400000\n",
      "  0.71 -  0.16 - 2018-10-05 18:27:00.900000\n",
      " 15.79 -  0.32 - 2018-10-16 23:43:05.900000\n",
      " 14.87 -  0.11 - 2018-10-01 17:53:22.600000\n",
      "249.63 -  0.21 - 2018-10-14 12:48:21.100000\n",
      " 61.18 -  0.53 - 2018-10-08 22:54:08.800000\n",
      " 31.59 -  0.20 - 2018-10-03 05:19:46.800000\n",
      "345.70 -  0.11 - 2018-10-02 12:16:16.700000\n",
      "347.44 -  0.13 - 2018-10-01 08:33:24\n",
      " 43.86 -  0.08 - 2018-10-01 23:37:55.100000\n",
      " 57.35 -  0.23 - 2018-10-05 06:27:06.900000\n",
      "215.50 -  0.28 - 2018-10-02 19:42:53.300000\n",
      " 17.55 -  0.74 - 2018-09-29 01:42:21.200000\n",
      "112.82 -  0.22 - 2018-09-30 23:31:32.600000\n",
      "230.08 -  0.19 - 2018-10-04 16:32:35.600000\n",
      "213.86 -  0.24 - 2018-10-07 14:18:36.700000\n",
      "  1.47 -  0.32 - 2018-10-21 02:19:10.400000\n",
      " 91.96 -  0.05 - 2018-10-05 17:18:03.600000\n",
      " 67.50 -  0.20 - 2018-10-07 09:21:03.800000\n",
      " 28.36 -  0.09 - 2018-09-28 21:12:55.100000\n",
      "  1.61 -  0.07 - 2018-10-01 17:31:49.300000\n",
      " 96.72 -  0.35 - 2018-10-06 12:19:04.700000\n",
      " 16.57 -  0.09 - 2018-10-02 21:39:30.800000\n",
      "  0.03 -  0.20 - 2018-10-01 01:29:53.200000\n",
      "252.34 -  0.08 - 2018-10-12 21:03:46.500000\n",
      "191.57 -  0.66 - 2018-10-06 09:32:53.400000\n",
      " 41.22 -  0.07 - 2018-09-30 22:03:27.700000\n",
      " 26.42 -  0.07 - 2018-10-04 19:00:34.700000\n",
      "  4.33 -  0.38 - 2018-10-09 13:46:39.700000\n",
      "  4.50 -  0.37 - 2018-09-28 20:13:04.500000\n",
      "343.45 -  0.17 - 2018-10-02 09:02:54.600000\n",
      " 64.54 -  0.33 - 2018-09-28 17:10:17.500000\n",
      "496.72 -  0.01 - 2018-10-01 14:23:45.400000\n",
      " 13.41 -  0.07 - 2018-09-27 16:02:06\n",
      "228.12 -  0.17 - 2018-10-02 10:24:48.700000\n",
      "585.47 -  0.32 - 2018-10-14 13:03:05.300000\n",
      " 18.14 -  0.14 - 2018-10-01 14:57:28.200000\n",
      "443.78 -  0.21 - 2018-10-02 21:45:50.700000\n",
      "  9.35 -  0.09 - 2018-10-07 15:34:32.400000\n",
      " 61.17 -  0.65 - 2018-10-07 19:44:36.400000\n",
      " 15.00 -  0.07 - 2018-10-02 11:24:32.900000\n",
      "338.83 -  0.05 - 2018-10-04 19:06:08.900000\n",
      " 48.02 -  0.05 - 2018-10-01 04:55:33.500000\n",
      "  3.88 -  0.19 - 2018-10-10 06:16:38.600000\n",
      " 35.60 -  0.31 - 2018-10-04 22:21:52.700000\n",
      "115.62 -  0.25 - 2018-10-07 11:39:29.900000\n",
      " 22.52 -  0.22 - 2018-10-07 02:06:46.400000\n",
      "  0.00 -  0.14 - 2018-10-02 19:49:50.900000\n",
      "  0.00 -  0.69 - 2018-09-30 23:11:34.100000\n",
      "309.34 -  0.16 - 2018-10-10 05:56:34\n",
      " 73.22 -  0.07 - 2018-10-09 19:59:54.200000\n",
      "204.45 -  0.20 - 2018-10-12 21:32:57.200000\n",
      "421.57 -  0.05 - 2018-10-14 12:46:20.600000\n",
      "  3.60 -  0.03 - 2018-10-04 08:31:21.200000\n",
      " 10.55 -  0.12 - 2018-10-02 21:28:17.600000\n",
      "140.30 -  0.32 - 2018-10-08 05:02:34.800000\n",
      "231.90 -  0.26 - 2018-10-03 07:52:53\n",
      " 12.88 -  0.07 - 2018-10-06 22:33:40.200000\n",
      "  4.14 -  0.07 - 2018-09-30 19:42:19.300000\n",
      "  0.86 -  0.49 - 2018-10-07 11:11:08.800000\n",
      "110.25 -  0.10 - 2018-10-02 15:45:11.900000\n",
      " 36.28 -  0.22 - 2018-10-01 02:15:33.100000\n",
      "121.15 -  0.23 - 2018-10-23 05:29:34.800000\n",
      " 22.59 -  0.13 - 2018-10-13 06:53:41.500000\n",
      "123.01 -  0.31 - 2018-10-03 09:31:27.500000\n",
      "166.44 -  0.19 - 2018-10-06 12:51:06.400000\n",
      " 25.85 -  0.12 - 2018-10-01 05:05:08.800000\n",
      " 36.69 -  0.04 - 2018-10-07 13:21:21.200000\n",
      "320.74 -  0.26 - 2018-10-08 02:06:51.600000\n",
      "113.70 -  0.05 - 2018-10-01 05:39:50.100000\n",
      "  4.74 -  0.41 - 2018-10-03 20:13:52.100000\n",
      "222.90 -  0.51 - 2018-10-06 13:01:10.200000\n",
      " 56.78 -  0.31 - 2018-10-02 07:54:48.700000\n",
      "141.81 -  0.11 - 2018-10-01 09:08:12.200000\n",
      "  0.63 -  0.17 - 2018-10-05 23:36:48.600000\n",
      " 91.98 -  0.21 - 2018-10-05 10:02:14.600000\n",
      "275.38 -  0.52 - 2018-10-03 03:27:10.300000\n",
      " 12.88 -  0.11 - 2018-10-04 10:13:19.700000\n",
      "111.97 -  0.06 - 2018-10-05 09:00:38.600000\n",
      " 65.23 -  0.01 - 2018-10-09 05:01:00.500000\n",
      "  5.80 -  0.08 - 2018-10-06 21:47:47.200000\n",
      "292.24 -  0.08 - 2018-10-02 12:50:16.500000\n",
      " 35.30 -  0.23 - 2018-10-06 10:08:23.700000\n",
      " 14.34 -  0.26 - 2018-10-02 06:06:30.700000\n",
      "138.98 -  0.09 - 2018-10-03 11:49:40.500000\n",
      " 19.22 -  0.13 - 2018-09-30 22:05:44.400000\n",
      "  3.42 -  0.06 - 2018-10-10 03:13:10.300000\n",
      "205.12 -  0.26 - 2018-10-07 15:20:46.800000\n",
      "  0.13 -  0.11 - 2018-10-05 08:26:47.500000\n",
      " 75.87 -  0.48 - 2018-10-06 22:17:07.900000\n",
      " 96.31 -  0.22 - 2018-10-05 18:56:12.300000\n",
      "249.18 -  0.23 - 2018-10-01 03:21:34\n",
      "  2.13 -  0.11 - 2018-10-06 22:00:02.600000\n",
      " 20.01 -  0.13 - 2018-10-01 03:06:16.500000\n",
      "346.21 -  0.23 - 2018-10-11 07:09:07.300000\n",
      "145.31 -  0.05 - 2018-10-02 14:25:57.400000\n",
      "155.34 -  0.22 - 2018-10-03 01:59:36.500000\n",
      "  1.29 -  0.32 - 2018-10-12 08:51:59.100000\n",
      "  0.11 -  0.27 - 2018-10-02 08:57:32.100000\n",
      " 99.04 -  0.23 - 2018-10-14 13:12:58.500000\n",
      " 29.63 -  0.06 - 2018-10-06 00:31:31.800000\n",
      " 66.49 -  0.12 - 2018-10-02 10:59:25.800000\n",
      " 21.89 -  0.17 - 2018-10-02 13:00:06.100000\n",
      " 21.60 -  0.27 - 2018-10-12 19:52:34.800000\n",
      "114.29 -  0.17 - 2018-09-29 03:27:19.700000\n",
      " 13.33 -  0.13 - 2018-10-14 06:59:34\n",
      " 70.71 -  0.10 - 2018-10-10 12:05:39.100000\n",
      " 42.91 -  0.23 - 2018-10-06 13:23:04.700000\n",
      "251.48 -  0.10 - 2018-10-02 11:05:27.800000\n",
      " 22.34 -  0.13 - 2018-10-02 06:24:26\n",
      " 43.24 -  1.71 - 2018-10-07 06:19:38.600000\n",
      "  6.96 -  0.31 - 2018-10-01 16:24:26.500000\n",
      " 58.99 -  0.17 - 2018-10-11 11:25:25.200000\n",
      " 23.71 -  0.14 - 2018-10-11 22:38:44.800000\n",
      " 18.58 -  0.23 - 2018-10-26 09:03:46.300000\n",
      " 81.07 -  0.25 - 2018-10-11 08:12:26.900000\n",
      " 33.03 -  0.32 - 2018-10-12 04:16:33.900000\n",
      " 10.87 -  0.19 - 2018-10-01 13:00:15.500000\n",
      " 23.48 -  0.20 - 2018-10-02 11:45:53.800000\n",
      "  7.76 -  0.23 - 2018-10-07 01:57:19.100000\n",
      "102.68 -  0.12 - 2018-10-07 11:47:52.600000\n",
      "  8.76 -  0.64 - 2018-10-18 14:42:56.400000\n",
      "  0.17 -  0.03 - 2018-10-27 20:12:03.500000\n",
      "  1.05 -  0.13 - 2018-09-30 22:24:37.400000\n",
      " 79.53 -  0.44 - 2018-10-08 18:07:27\n",
      " 38.49 -  0.11 - 2018-10-03 09:27:14.800000\n",
      "212.22 -  0.06 - 2018-10-04 19:03:08.800000\n",
      "  1.33 -  0.67 - 2018-10-07 09:11:40.400000\n",
      "  4.63 -  0.05 - 2018-10-08 01:50:28\n",
      " 15.51 -  0.08 - 2018-10-02 17:57:23.100000\n",
      " 30.71 -  0.37 - 2018-10-05 12:24:53.400000\n",
      "163.22 -  0.16 - 2018-10-05 16:47:51\n",
      " 52.58 -  0.13 - 2018-10-02 19:34:40.300000\n",
      " 10.36 -  0.09 - 2018-10-05 12:18:29.200000\n",
      " 85.08 -  0.16 - 2018-10-07 01:53:11.900000\n",
      "108.67 -  0.35 - 2018-10-11 11:31:50.300000\n",
      " 36.86 -  0.15 - 2018-09-30 12:12:51.900000\n",
      "  8.06 -  0.14 - 2018-10-02 17:53:18.600000\n",
      " 29.93 -  0.03 - 2018-10-01 21:55:27.800000\n",
      " 79.52 -  0.22 - 2018-10-06 21:38:09.400000\n",
      " 58.79 -  0.14 - 2018-10-05 08:07:03.600000\n",
      " 20.61 -  0.38 - 2018-09-30 13:47:45.300000\n",
      " 26.32 -  0.04 - 2018-10-08 00:02:43.400000\n",
      " 10.77 -  0.06 - 2018-10-04 10:00:51.200000\n",
      " 32.51 -  0.01 - 2018-09-28 15:33:45.600000\n",
      " 11.42 -  0.18 - 2018-09-28 06:47:12.800000\n",
      "  3.58 -  0.08 - 2018-10-12 18:57:29.600000\n",
      " 50.55 -  0.02 - 2018-09-28 05:34:59.300000\n",
      "  8.24 -  0.10 - 2018-09-29 02:34:01.800000\n",
      "148.78 -  0.12 - 2018-10-01 07:37:45.800000\n",
      " 95.56 -  0.05 - 2018-10-04 03:01:59.300000\n",
      " 13.26 -  0.14 - 2018-10-12 21:37:54.500000\n",
      " 24.53 -  0.25 - 2018-10-18 17:25:44.800000\n",
      " 28.93 -  0.21 - 2018-10-01 16:55:13.300000\n",
      "  0.07 -  0.22 - 2018-09-29 08:50:39.300000\n",
      " 11.59 -  0.22 - 2018-10-14 00:21:49.200000\n",
      " 21.68 -  0.43 - 2018-10-14 06:10:11.900000\n",
      " 12.55 -  0.04 - 2018-09-30 11:13:41.500000\n",
      " 16.76 -  0.13 - 2018-10-02 05:47:53.200000\n",
      "  1.50 -  0.22 - 2018-10-04 04:39:11.200000\n",
      "135.63 -  0.06 - 2018-10-14 12:32:24.400000\n",
      " 46.60 -  0.51 - 2018-10-08 04:09:27.600000\n",
      " 26.69 -  0.28 - 2018-10-04 12:25:55.800000\n",
      "290.32 -  0.35 - 2018-10-02 01:42:01\n",
      "  1.20 -  0.03 - 2018-10-01 13:15:50\n",
      " 47.67 -  0.10 - 2018-10-01 17:16:29.400000\n",
      " 37.47 -  0.36 - 2018-10-06 22:01:45.800000\n",
      "  5.69 -  0.13 - 2018-10-04 03:20:06.300000\n",
      " 77.94 -  0.06 - 2018-09-30 10:39:15\n",
      " 38.88 -  0.14 - 2018-09-28 21:44:01.300000\n",
      " 56.61 -  0.17 - 2018-10-09 06:18:22.600000\n",
      " 54.56 -  0.07 - 2018-10-02 15:28:40.700000\n",
      " 63.00 -  0.09 - 2018-10-21 08:15:43.400000\n",
      "211.86 -  0.45 - 2018-10-07 03:37:53.800000\n",
      "168.59 -  0.04 - 2018-10-02 07:31:43.400000\n",
      " 61.06 -  0.05 - 2018-10-06 00:59:36\n",
      " 17.02 -  0.06 - 2018-09-29 01:13:04\n",
      " 35.83 -  0.07 - 2018-10-07 09:01:02.200000\n",
      " 40.06 -  0.16 - 2018-10-02 12:32:54.400000\n",
      "  6.42 -  0.16 - 2018-10-09 11:46:26.400000\n",
      "  5.52 -  0.33 - 2018-10-01 04:46:53.500000\n",
      " 17.48 -  0.03 - 2018-10-01 10:24:24.100000\n",
      " 85.16 -  0.13 - 2018-10-01 09:39:31.600000\n",
      " 30.71 -  0.05 - 2018-10-09 04:37:31.900000\n",
      " 64.50 -  0.36 - 2018-10-01 06:33:49.800000\n",
      " 14.41 -  0.04 - 2018-10-01 13:45:41.800000\n",
      "451.45 -  0.09 - 2018-10-06 04:00:48.600000\n",
      " 12.26 -  0.16 - 2018-10-07 06:02:14.800000\n",
      " 78.68 -  0.08 - 2018-10-02 20:02:55.300000\n",
      " 20.16 -  0.08 - 2018-09-29 02:20:46.300000\n",
      "  3.93 -  0.72 - 2018-10-07 19:43:07.500000\n",
      "  0.19 -  1.11 - 2018-10-05 19:17:23.700000\n",
      "  1.52 -  0.12 - 2018-10-01 22:12:32.600000\n",
      " 79.07 -  0.13 - 2018-10-15 06:34:44.200000\n",
      "  1.70 -  0.14 - 2018-10-12 06:37:05.600000\n",
      "  2.01 -  0.12 - 2018-10-07 11:52:04.400000\n",
      " 13.63 -  0.02 - 2018-10-07 08:01:14.900000\n",
      " 60.85 -  0.12 - 2018-10-01 05:03:34.600000\n",
      "180.80 -  0.43 - 2018-10-01 22:33:32.900000\n",
      "186.56 -  0.24 - 2018-10-06 23:54:42.400000\n",
      "  1.43 -  0.04 - 2018-10-02 17:33:59.100000\n",
      "  7.06 -  0.26 - 2018-10-03 08:59:13.700000\n",
      " 71.73 -  0.18 - 2018-10-06 12:07:39.300000\n",
      "  5.76 -  0.13 - 2018-10-02 16:34:13.600000\n",
      "  0.01 -  0.09 - 2018-10-03 03:29:50.100000\n",
      "  0.20 -  0.13 - 2018-09-28 00:18:39.300000\n",
      " 11.64 -  0.04 - 2018-10-11 23:00:38.700000\n",
      " 67.61 -  0.15 - 2018-10-01 07:16:23.300000\n",
      " 31.50 -  0.49 - 2018-10-02 06:41:49.800000\n",
      "202.27 -  0.07 - 2018-10-10 02:55:08.100000\n",
      " 77.55 -  0.05 - 2018-10-01 12:55:41.700000\n",
      "  9.85 -  0.11 - 2018-10-02 09:51:27.600000\n",
      " 40.25 -  0.17 - 2018-10-06 07:32:41.800000\n",
      "  7.77 -  0.10 - 2018-10-02 05:54:31.200000\n",
      " 98.14 -  0.08 - 2018-10-27 01:36:43.700000\n",
      "  4.16 -  0.24 - 2018-10-07 14:44:51.200000\n",
      " 46.71 -  0.03 - 2018-10-01 20:22:33.100000\n",
      "107.80 -  0.48 - 2018-10-07 15:31:05.400000\n",
      "  1.21 -  0.16 - 2018-10-09 21:41:15.600000\n",
      "  7.51 -  0.22 - 2018-10-01 06:07:21.200000\n",
      "132.94 -  0.21 - 2018-10-02 18:24:09.900000\n",
      "  2.27 -  0.23 - 2018-10-06 20:53:04.200000\n",
      " 46.91 -  0.27 - 2018-10-04 01:24:39.200000\n",
      " 17.00 -  0.13 - 2018-10-08 07:01:48.400000\n",
      " 69.30 -  0.05 - 2018-09-28 04:08:35.800000\n",
      " 27.68 -  0.22 - 2018-10-01 04:48:57.100000\n",
      "238.92 -  0.12 - 2018-10-05 08:13:52.200000\n",
      " 21.62 -  0.27 - 2018-10-07 03:52:59.400000\n",
      " 17.81 -  0.12 - 2018-10-02 06:37:56.600000\n",
      "411.63 -  0.17 - 2018-10-07 05:27:40.200000\n",
      "  1.61 -  0.21 - 2018-10-14 13:23:47.400000\n",
      " 32.87 -  0.04 - 2018-10-02 01:14:25\n",
      "  0.83 -  0.55 - 2018-10-01 17:35:40.200000\n",
      " 49.24 -  0.02 - 2018-10-03 21:38:29.400000\n",
      "150.29 -  0.10 - 2018-10-05 03:21:27.900000\n",
      "  0.94 -  0.08 - 2018-10-04 08:49:48\n",
      " 21.58 -  0.33 - 2018-10-06 19:50:53\n",
      "162.07 -  0.12 - 2018-10-01 13:22:05.200000\n",
      "  1.81 -  0.03 - 2018-09-29 06:30:05.300000\n",
      " 21.20 -  0.46 - 2018-10-05 16:01:13.300000\n",
      " 61.72 -  0.12 - 2018-09-30 21:51:24.700000\n",
      "  9.50 -  0.10 - 2018-10-04 14:16:20.200000\n",
      " 11.66 -  0.14 - 2018-10-13 03:27:25.700000\n",
      " 62.47 -  0.10 - 2018-10-02 06:33:40.800000\n",
      " 65.55 -  0.02 - 2018-09-30 01:22:45.500000\n",
      " 10.84 -  0.03 - 2018-10-05 21:06:49.500000\n",
      "227.82 -  0.02 - 2018-10-10 06:13:40.100000\n",
      " 54.63 -  0.18 - 2018-10-11 19:14:25.200000\n",
      " 13.30 -  0.15 - 2018-10-07 11:06:31.700000\n",
      " 50.65 -  0.30 - 2018-09-29 04:36:57.200000\n",
      "  3.34 -  0.05 - 2018-10-12 01:54:54.800000\n",
      " 75.76 -  0.17 - 2018-10-01 00:49:42.400000\n",
      " 54.42 -  0.10 - 2018-10-12 20:12:08.800000\n",
      " 26.45 -  0.04 - 2018-09-29 01:46:34.100000\n",
      "  0.10 -  0.11 - 2018-10-06 12:36:07.400000\n",
      " 54.44 -  0.03 - 2018-10-01 01:36:16.900000\n",
      " 35.64 -  0.06 - 2018-09-28 12:27:52\n",
      " 69.87 -  0.10 - 2018-09-28 20:00:02.900000\n",
      "162.04 -  0.27 - 2018-10-02 13:59:21.100000\n",
      " 38.73 -  0.31 - 2018-10-02 04:25:05.600000\n",
      " 29.45 -  0.04 - 2018-09-29 01:19:52.200000\n",
      " 22.72 -  0.10 - 2018-10-01 04:53:55.300000\n",
      " 62.39 -  0.08 - 2018-10-02 06:18:41.700000\n",
      "421.79 -  0.24 - 2018-10-10 15:50:27.200000\n",
      "427.45 -  0.12 - 2018-10-01 20:57:01.400000\n",
      "  2.94 -  0.14 - 2018-10-02 06:39:53.400000\n",
      "257.32 -  0.29 - 2018-10-01 01:55:14.200000\n",
      "  7.03 -  0.37 - 2018-09-30 18:53:20.200000\n",
      "  8.70 -  0.20 - 2018-10-02 19:40:18.100000\n",
      " 19.95 -  0.05 - 2018-10-04 14:34:14.100000\n",
      "238.98 -  0.27 - 2018-10-07 20:50:17.300000\n",
      " 73.03 -  0.08 - 2018-10-01 06:32:05.300000\n",
      "145.31 -  0.19 - 2018-10-04 03:57:10.400000\n",
      " 21.49 -  0.11 - 2018-09-28 07:23:26.400000\n",
      "454.97 -  0.13 - 2018-10-16 02:41:19.700000\n",
      " 25.14 -  0.03 - 2018-10-14 18:53:26.300000\n",
      "  7.52 -  0.23 - 2018-10-12 09:50:06.600000\n",
      "  0.03 -  0.09 - 2018-10-02 20:00:38.100000\n",
      "  5.96 -  0.17 - 2018-10-08 02:02:34.800000\n",
      "  7.68 -  0.29 - 2018-10-09 07:52:08.100000\n",
      "423.26 -  0.21 - 2018-10-02 00:13:28.900000\n",
      " 68.12 -  0.08 - 2018-09-30 22:12:30.200000\n",
      " 11.55 -  0.01 - 2018-10-03 05:26:06\n",
      " 91.47 -  0.21 - 2018-10-07 04:53:47.200000\n",
      " 25.72 -  0.06 - 2018-10-01 14:45:57.400000\n",
      " 31.87 -  0.25 - 2018-10-02 15:59:12.600000\n",
      " 58.52 -  0.03 - 2018-09-28 11:16:17.700000\n",
      " 10.68 -  0.16 - 2018-10-06 14:12:50.700000\n",
      "142.05 -  0.36 - 2018-10-03 00:42:13.300000\n",
      "729.47 -  0.15 - 2018-10-18 00:18:38.800000\n",
      "  5.66 -  0.62 - 2018-10-26 08:39:11.400000\n",
      " 19.79 -  0.35 - 2018-10-05 09:13:36.400000\n",
      " 68.14 -  0.02 - 2018-10-04 13:31:42.700000\n",
      " 81.60 -  0.30 - 2018-10-06 13:28:13.100000\n",
      " 18.82 -  0.05 - 2018-10-01 07:18:58.800000\n",
      "126.03 -  0.17 - 2018-10-05 06:06:25\n",
      "160.71 -  0.81 - 2018-10-09 11:13:52.700000\n",
      "  0.17 -  0.24 - 2018-10-18 06:31:39.700000\n",
      "  5.62 -  0.60 - 2018-10-08 06:09:55.500000\n",
      "145.18 -  0.18 - 2018-10-07 00:13:27.900000\n",
      "  6.74 -  0.16 - 2018-10-21 21:08:03.700000\n",
      " 35.67 -  0.20 - 2018-10-07 15:59:23\n",
      " 66.61 -  0.68 - 2018-10-14 18:10:30.800000\n",
      "143.07 -  0.14 - 2018-10-08 08:31:45.200000\n",
      " 22.17 -  0.43 - 2018-09-30 09:49:07.900000\n",
      " 41.08 -  0.02 - 2018-10-02 12:48:22.700000\n",
      " 17.08 -  1.03 - 2018-10-05 22:38:22.200000\n",
      " 26.47 -  0.15 - 2018-10-03 12:59:44.100000\n",
      "  0.33 -  0.38 - 2018-10-16 03:53:23.700000\n",
      "344.02 -  0.14 - 2018-10-01 09:17:05\n",
      "  6.99 -  0.67 - 2018-10-15 23:34:17.300000\n",
      " 32.39 -  0.36 - 2018-10-06 21:22:21.800000\n",
      "  7.72 -  0.24 - 2018-10-17 01:30:28.100000\n",
      " 88.32 -  0.32 - 2018-10-23 07:12:40.500000\n",
      " 57.00 -  0.21 - 2018-10-02 04:20:31.100000\n",
      "  8.13 -  1.08 - 2018-10-03 00:45:31.600000\n",
      " 95.76 -  0.11 - 2018-10-09 20:27:28.700000\n",
      "  1.31 -  0.34 - 2018-10-02 11:52:40.400000\n",
      " 12.99 -  0.02 - 2018-10-01 11:17:43.200000\n",
      "214.36 -  0.02 - 2018-10-02 09:35:14\n",
      "  0.85 -  0.08 - 2018-09-28 10:42:11.800000\n",
      " 72.76 -  0.08 - 2018-10-01 01:16:24.300000\n",
      "185.77 -  0.03 - 2018-10-20 20:49:13.400000\n",
      " 12.01 -  0.12 - 2018-10-07 01:39:27.500000\n",
      "  7.94 -  0.07 - 2018-10-08 01:42:34.300000\n",
      "123.40 -  0.34 - 2018-10-06 06:54:01.600000\n",
      " 29.62 -  0.07 - 2018-10-02 00:36:59.800000\n",
      "  1.30 -  0.17 - 2018-09-29 13:26:38\n",
      "  0.00 -  0.39 - 2018-10-03 05:04:16.200000\n",
      "175.84 -  0.11 - 2018-10-04 06:15:26.100000\n",
      "  0.01 -  0.19 - 2018-10-12 14:54:26.500000\n",
      "230.54 -  0.07 - 2018-10-05 23:48:19.400000\n",
      " 14.64 -  0.09 - 2018-10-04 13:45:56.700000\n",
      " 59.34 -  0.13 - 2018-10-01 18:29:28\n",
      " 20.95 -  0.08 - 2018-09-28 06:37:10.400000\n",
      "154.39 -  0.35 - 2018-10-02 19:31:50.100000\n",
      "320.68 -  0.11 - 2018-10-03 07:39:25.600000\n",
      "  9.45 -  0.02 - 2018-09-28 07:06:41.800000\n",
      "119.66 -  0.22 - 2018-10-02 00:31:56.500000\n",
      "184.72 -  0.63 - 2018-09-30 14:48:31.800000\n",
      " 11.68 -  0.10 - 2018-10-01 17:07:58.100000\n",
      " 12.69 -  0.02 - 2018-10-02 19:28:58.300000\n",
      "  5.69 -  0.04 - 2018-10-27 04:33:16.800000\n",
      "860.15 -  0.16 - 2018-10-18 10:14:56.100000\n",
      "394.71 -  0.04 - 2018-10-01 20:52:46.100000\n",
      "  3.34 -  0.39 - 2018-10-07 01:00:32.300000\n",
      " 43.06 -  0.25 - 2018-10-05 06:17:32.100000\n",
      "  2.11 -  0.12 - 2018-10-04 13:28:39.600000\n",
      "  4.05 -  0.05 - 2018-10-07 02:14:24.400000\n",
      "403.93 -  0.77 - 2018-10-07 11:54:09.300000\n",
      "121.87 -  0.11 - 2018-09-28 17:56:44\n",
      "  0.65 -  0.31 - 2018-10-07 05:02:20\n",
      "  0.00 -  0.34 - 2018-10-27 08:24:44\n",
      "220.86 -  0.16 - 2018-10-11 20:44:49.300000\n",
      " 27.63 -  0.29 - 2018-10-05 15:14:37.900000\n",
      "  1.13 -  0.87 - 2018-10-13 08:00:53.500000\n",
      "193.21 -  0.20 - 2018-10-01 10:07:50.800000\n",
      " 63.21 -  0.24 - 2018-10-02 16:58:58.300000\n",
      "266.31 -  0.29 - 2018-10-05 22:01:29.300000\n",
      "134.71 -  0.03 - 2018-10-01 17:55:17.500000\n",
      " 32.96 -  0.31 - 2018-10-12 20:21:20.600000\n",
      "  5.89 -  0.10 - 2018-10-04 01:46:47.400000\n",
      " 46.70 -  0.06 - 2018-10-01 02:43:20.500000\n",
      " 31.27 -  0.40 - 2018-10-01 06:54:51.500000\n",
      "213.76 -  0.25 - 2018-10-02 05:56:18.500000\n",
      "115.29 -  0.08 - 2018-10-01 03:25:15\n",
      "230.45 -  0.26 - 2018-10-13 16:54:38.800000\n",
      "171.27 -  0.05 - 2018-10-07 12:17:28.300000\n",
      "820.40 -  0.25 - 2018-10-01 09:47:29.100000\n",
      " 35.55 -  0.14 - 2018-09-29 12:24:52.700000\n",
      " 67.24 -  0.24 - 2018-10-06 23:43:18.500000\n",
      " 28.73 -  0.08 - 2018-10-01 18:03:06.500000\n",
      " 56.41 -  0.11 - 2018-10-01 18:16:44.600000\n",
      " 28.27 -  0.03 - 2018-10-01 01:19:48.600000\n",
      " 53.85 -  0.23 - 2018-09-30 22:05:01.400000\n",
      " 24.06 -  0.11 - 2018-10-01 11:32:52.700000\n",
      "354.39 -  0.11 - 2018-10-09 16:14:17.400000\n",
      " 90.03 -  0.10 - 2018-10-02 22:09:18.500000\n",
      " 33.14 -  0.22 - 2018-10-02 14:42:53.100000\n",
      " 88.06 -  0.17 - 2018-10-10 05:28:19.500000\n",
      " 37.66 -  0.25 - 2018-10-06 00:03:18.800000\n",
      "  3.72 -  0.22 - 2018-10-02 03:58:14\n",
      "  4.14 -  0.07 - 2018-09-27 16:07:10.300000\n",
      " 41.55 -  0.37 - 2018-10-02 04:05:53.700000\n",
      "146.19 -  0.01 - 2018-10-01 15:55:39.500000\n",
      "192.61 -  0.20 - 2018-10-07 20:25:01.300000\n",
      "  1.05 -  0.17 - 2018-10-09 07:14:27.100000\n",
      " 11.87 -  0.30 - 2018-10-01 11:03:36.700000\n",
      "  7.10 -  0.05 - 2018-10-01 09:03:37.500000\n",
      " 82.02 -  0.06 - 2018-10-10 08:09:44.600000\n",
      " 18.22 -  0.23 - 2018-10-01 00:12:21.200000\n",
      "104.36 -  0.20 - 2018-10-02 01:04:55.600000\n",
      "  0.71 -  0.23 - 2018-10-01 17:47:09.900000\n",
      "362.85 -  0.24 - 2018-10-02 23:23:35.800000\n",
      "216.59 -  0.23 - 2018-10-05 05:35:24.700000\n",
      " 12.62 -  0.08 - 2018-10-01 15:35:28.900000\n",
      "208.37 -  0.17 - 2018-10-03 19:29:51.600000\n",
      " 19.31 -  0.27 - 2018-10-01 03:19:39.700000\n",
      "  5.91 -  0.16 - 2018-10-03 00:38:23\n",
      " 61.74 -  0.28 - 2018-10-05 08:40:01.700000\n",
      "  8.96 -  0.27 - 2018-10-10 06:32:42.900000\n",
      " 51.19 -  0.33 - 2018-10-04 17:57:34\n",
      " 91.35 -  0.50 - 2018-10-17 06:40:40.700000\n",
      "  5.08 -  0.06 - 2018-09-29 12:39:30.100000\n",
      "  0.10 -  0.09 - 2018-10-06 07:27:35.100000\n",
      "  2.16 -  0.01 - 2018-09-27 20:07:14\n",
      "  4.37 -  0.19 - 2018-10-02 22:01:46.400000\n",
      " 35.62 -  0.15 - 2018-09-28 11:11:24.300000\n",
      "167.70 -  0.05 - 2018-10-01 12:44:09.700000\n",
      " 46.62 -  0.07 - 2018-10-01 04:36:17.300000\n",
      " 58.78 -  0.13 - 2018-10-02 05:08:31.600000\n",
      "143.51 -  0.03 - 2018-10-06 07:52:48.100000\n",
      " 73.06 -  0.16 - 2018-10-01 02:08:24.200000\n",
      "129.19 -  0.09 - 2018-10-03 02:14:11.800000\n",
      " 60.10 -  0.11 - 2018-10-01 03:33:47.500000\n",
      " 10.81 -  0.17 - 2018-10-01 03:01:04.800000\n",
      "  2.44 -  1.74 - 2018-10-06 05:13:06.400000\n",
      "  5.37 -  1.59 - 2018-10-20 21:35:02.700000\n",
      " 95.85 -  0.35 - 2018-10-05 02:32:29.900000\n",
      "232.98 -  0.51 - 2018-10-05 22:04:51.200000\n",
      " 56.87 -  0.08 - 2018-10-01 08:59:07.900000\n",
      "  2.32 -  0.08 - 2018-09-29 00:58:49.200000\n",
      " 40.95 -  0.14 - 2018-10-11 19:16:56.500000\n",
      "  0.32 -  0.62 - 2018-10-01 15:03:56.300000\n",
      " 26.74 -  0.18 - 2018-10-17 02:02:08.600000\n",
      " 10.68 -  0.20 - 2018-09-29 02:27:51.200000\n",
      "119.19 -  0.55 - 2018-10-14 06:36:45.700000\n",
      "  9.28 -  0.20 - 2018-10-02 02:20:55.300000\n",
      " 26.63 -  0.07 - 2018-10-06 21:06:04.800000\n",
      "  0.07 -  0.12 - 2018-09-30 22:57:30.100000\n",
      " 99.73 -  0.16 - 2018-10-05 18:12:26.300000\n",
      "  7.17 -  0.30 - 2018-10-01 22:35:10.600000\n",
      " 88.52 -  0.20 - 2018-10-03 21:28:44.400000\n",
      "  0.30 -  0.10 - 2018-10-10 15:06:30.800000\n",
      "127.89 -  0.28 - 2018-10-04 13:15:32.200000\n",
      " 45.49 -  0.04 - 2018-10-01 18:36:03\n",
      " 14.16 -  0.13 - 2018-10-13 23:16:53.100000\n",
      "  2.16 -  0.20 - 2018-09-28 11:23:00.400000\n",
      "  5.96 -  0.24 - 2018-10-06 09:31:09.500000\n",
      "117.68 -  0.07 - 2018-10-04 13:56:45.700000\n",
      " 96.84 -  0.33 - 2018-09-30 03:08:57.300000\n",
      "105.05 -  0.31 - 2018-10-14 09:48:17.400000\n",
      "143.25 -  0.24 - 2018-10-04 13:06:23.900000\n",
      " 78.06 -  0.31 - 2018-10-21 12:23:12\n",
      " 37.78 -  0.06 - 2018-10-04 05:22:27.800000\n",
      " 81.49 -  0.22 - 2018-10-03 02:20:24.400000\n",
      " 20.19 -  0.14 - 2018-10-01 23:13:45.900000\n",
      "132.11 -  0.08 - 2018-10-01 22:18:36.700000\n",
      " 74.87 -  0.08 - 2018-10-04 04:05:40.600000\n",
      "196.63 -  0.26 - 2018-10-06 04:43:14.700000\n",
      " 62.56 -  0.05 - 2018-09-27 19:47:39.400000\n",
      " 54.11 -  0.27 - 2018-10-05 02:40:19.600000\n",
      " 23.84 -  0.26 - 2018-10-05 19:36:05.700000\n",
      " 36.67 -  0.17 - 2018-10-04 04:33:32.200000\n",
      " 67.40 -  0.04 - 2018-10-15 23:47:03.300000\n",
      " 91.51 -  0.07 - 2018-10-02 05:17:59.200000\n",
      "  3.44 -  0.03 - 2018-10-03 12:13:45.200000\n",
      " 24.85 -  0.23 - 2018-10-18 23:40:25.200000\n",
      " 16.56 -  0.11 - 2018-10-18 18:39:16.500000\n",
      " 20.25 -  0.11 - 2018-10-04 07:46:17.800000\n",
      "  0.23 -  0.15 - 2018-10-02 08:19:35.900000\n",
      "  0.37 -  0.18 - 2018-10-04 11:58:12.900000\n",
      " 43.58 -  0.58 - 2018-10-07 23:19:12\n",
      "144.81 -  0.10 - 2018-10-01 05:16:29.800000\n",
      "235.20 -  0.28 - 2018-10-14 10:15:59.500000\n",
      "  0.71 -  0.10 - 2018-09-27 17:34:14.400000\n",
      "145.09 -  0.12 - 2018-10-07 07:20:01.800000\n",
      "156.51 -  0.15 - 2018-10-01 06:20:52.800000\n",
      "108.20 -  0.13 - 2018-10-08 17:56:30\n",
      "101.49 -  0.12 - 2018-10-03 22:25:52.700000\n",
      " 56.76 -  0.09 - 2018-10-01 17:57:53.200000\n",
      "  0.63 -  0.29 - 2018-10-04 09:50:47.400000\n",
      "541.46 -  0.10 - 2018-10-04 06:28:47.500000\n",
      "310.00 -  0.31 - 2018-10-02 10:18:09.300000\n",
      "  0.63 -  0.39 - 2018-10-05 00:10:11.300000\n",
      " 11.02 -  0.02 - 2018-09-29 12:31:34.300000\n",
      "  0.83 -  0.14 - 2018-10-07 01:43:10.100000\n",
      "  1.05 -  0.06 - 2018-10-01 05:38:20\n",
      " 32.27 -  0.13 - 2018-10-02 23:27:26\n",
      "328.77 -  0.21 - 2018-10-05 06:51:32.800000\n",
      " 18.31 -  1.06 - 2018-10-04 20:19:43\n",
      "343.32 -  0.09 - 2018-10-04 10:52:30.400000\n",
      "  0.01 -  0.11 - 2018-10-01 03:13:11.500000\n",
      " 16.32 -  0.07 - 2018-10-03 09:51:25.500000\n",
      "  9.71 -  0.10 - 2018-10-03 05:34:53.200000\n",
      " 99.07 -  0.14 - 2018-10-04 05:59:44.900000\n",
      "  8.48 -  0.21 - 2018-10-18 17:10:49.700000\n",
      " 59.64 -  0.01 - 2018-10-03 06:45:10.100000\n",
      " 24.17 -  0.17 - 2018-10-04 15:01:13.400000\n",
      "264.00 -  0.35 - 2018-10-02 08:21:56.800000\n",
      " 15.83 -  0.15 - 2018-10-14 13:05:41.700000\n",
      " 81.96 -  0.13 - 2018-10-04 13:26:57.200000\n",
      " 31.82 -  0.33 - 2018-10-19 00:40:16.100000\n",
      "  5.09 -  0.40 - 2018-10-03 18:14:20.300000\n",
      "  2.26 -  0.15 - 2018-10-07 01:59:43.400000\n",
      " 23.13 -  0.14 - 2018-10-04 14:12:23\n",
      " 53.30 -  0.04 - 2018-10-01 00:19:16.200000\n",
      "267.99 -  0.19 - 2018-10-04 13:51:15.300000\n",
      "  0.53 -  0.34 - 2018-10-15 05:55:38.500000\n",
      "807.48 -  0.30 - 2018-09-30 22:58:11.700000\n",
      " 40.24 -  0.05 - 2018-10-03 17:43:31.100000\n",
      " 57.13 -  0.03 - 2018-10-02 13:36:31.900000\n",
      "201.18 -  0.25 - 2018-10-10 22:38:23.100000\n",
      "102.78 -  0.14 - 2018-10-06 13:32:04.600000\n",
      "133.77 -  1.49 - 2018-10-09 18:58:17.200000\n",
      "  9.05 -  0.09 - 2018-10-09 10:32:03.900000\n",
      " 17.90 -  0.20 - 2018-10-08 06:58:33.800000\n",
      " 18.45 -  0.02 - 2018-10-10 10:11:21.400000\n",
      "147.21 -  0.15 - 2018-10-02 12:53:55.300000\n",
      "193.51 -  0.10 - 2018-10-01 09:53:25.500000\n",
      "202.20 -  0.16 - 2018-10-02 00:38:00.200000\n",
      " 16.43 -  0.38 - 2018-10-07 06:49:11.500000\n",
      "  9.54 -  0.15 - 2018-10-10 23:28:39\n",
      " 35.89 -  0.15 - 2018-10-04 01:13:50.600000\n",
      " 13.76 -  0.11 - 2018-10-01 01:24:16.900000\n",
      "108.36 -  0.26 - 2018-10-06 08:23:12.800000\n",
      "  0.46 -  0.31 - 2018-10-01 21:20:00.500000\n",
      "331.10 -  0.13 - 2018-10-05 21:04:12.700000\n",
      " 13.36 -  0.18 - 2018-10-05 08:38:17.200000\n",
      "383.30 -  0.40 - 2018-10-11 15:41:24.500000\n",
      " 19.84 -  0.12 - 2018-10-01 02:51:17.300000\n",
      " 66.30 -  0.15 - 2018-10-02 05:51:51.900000\n",
      " 32.19 -  0.06 - 2018-09-28 05:47:13.600000\n",
      "438.58 -  0.20 - 2018-10-01 12:58:04.600000\n",
      "300.74 -  0.09 - 2018-10-01 01:21:30.100000\n",
      "633.63 -  0.31 - 2018-10-02 00:08:19.500000\n",
      " 12.92 -  0.02 - 2018-10-02 15:15:20\n",
      "154.61 -  0.12 - 2018-09-28 11:14:47.200000\n",
      " 75.91 -  0.33 - 2018-10-01 03:44:42.500000\n",
      " 25.39 -  0.03 - 2018-09-28 07:11:25.300000\n",
      "195.41 -  0.14 - 2018-10-04 04:22:16.200000\n",
      " 50.48 -  0.24 - 2018-10-02 08:43:04\n",
      "  0.20 -  0.51 - 2018-10-02 01:18:47.200000\n",
      "196.55 -  0.38 - 2018-10-04 23:07:52.700000\n",
      "  3.47 -  0.16 - 2018-10-13 01:47:22.100000\n",
      "  0.10 -  0.15 - 2018-10-15 14:14:55.500000\n",
      "  4.36 -  0.15 - 2018-10-01 05:00:51.800000\n",
      "130.88 -  0.06 - 2018-10-02 01:02:46.800000\n",
      " 25.20 -  0.05 - 2018-10-02 10:55:30.900000\n",
      "  0.04 -  0.11 - 2018-10-02 17:47:44.300000\n",
      " 44.03 -  0.24 - 2018-10-03 17:06:45.500000\n",
      " 89.49 -  0.11 - 2018-10-01 04:24:17.400000\n",
      "  4.27 -  0.26 - 2018-10-01 06:48:30.300000\n",
      " 58.16 -  0.09 - 2018-10-03 15:20:35.700000\n",
      "  1.16 -  0.12 - 2018-10-06 03:41:43.700000\n",
      " 21.17 -  0.17 - 2018-10-01 02:04:17.400000\n",
      "498.21 -  0.37 - 2018-10-13 04:22:09\n",
      "  0.34 -  0.17 - 2018-10-01 03:09:17.700000\n",
      " 92.28 -  0.14 - 2018-10-01 21:23:56.700000\n",
      "  6.82 -  0.27 - 2018-10-02 06:21:40.700000\n",
      "362.18 -  0.50 - 2018-09-30 20:33:11.400000\n",
      "437.02 -  0.15 - 2018-10-04 05:41:03.700000\n",
      " 36.11 -  0.28 - 2018-10-06 08:36:10.300000\n",
      " 27.81 -  0.06 - 2018-10-14 20:22:05.300000\n",
      " 21.38 -  0.35 - 2018-10-07 18:53:11.800000\n",
      " 25.91 -  0.13 - 2018-09-30 20:16:05\n",
      " 34.88 -  0.17 - 2018-10-06 10:09:53.300000\n",
      " 73.31 -  0.07 - 2018-10-02 13:32:27.800000\n",
      " 23.86 -  0.25 - 2018-10-15 13:34:12.800000\n",
      " 15.95 -  0.25 - 2018-10-10 07:19:09.600000\n",
      "  3.86 -  0.57 - 2018-10-15 13:51:32.600000\n",
      " 33.68 -  0.08 - 2018-09-28 18:23:10.900000\n",
      "172.45 -  0.31 - 2018-10-02 03:40:18\n",
      "  2.26 -  0.45 - 2018-10-05 15:54:01.800000\n",
      " 56.46 -  0.10 - 2018-10-01 01:44:05.200000\n",
      " 57.97 -  0.17 - 2018-10-05 21:52:54.900000\n",
      "  0.44 -  0.17 - 2018-10-08 21:47:26.100000\n",
      " 33.71 -  0.20 - 2018-10-01 07:50:59.200000\n",
      "148.82 -  0.13 - 2018-10-06 01:35:33.300000\n",
      " 98.84 -  0.05 - 2018-10-07 11:21:40.500000\n",
      " 27.36 -  0.14 - 2018-10-04 13:38:57.200000\n",
      "316.51 -  0.21 - 2018-10-04 15:29:58.300000\n",
      "  2.88 -  0.60 - 2018-10-05 19:28:05.300000\n",
      " 78.80 -  0.26 - 2018-10-01 08:52:31.800000\n",
      " 11.29 -  0.11 - 2018-10-24 22:29:48.800000\n",
      " 20.79 -  0.19 - 2018-10-07 04:05:25\n",
      "546.65 -  0.18 - 2018-10-01 08:18:56.200000\n",
      "  7.78 -  0.08 - 2018-10-01 00:26:16\n",
      " 46.15 -  0.18 - 2018-10-04 12:28:41.400000\n",
      " 24.74 -  0.04 - 2018-10-04 12:22:08.100000\n",
      "370.38 -  0.11 - 2018-10-01 17:14:35.200000\n",
      " 46.01 -  0.07 - 2018-10-02 16:49:08.700000\n",
      " 10.59 -  0.18 - 2018-10-16 02:46:22.300000\n",
      "210.42 -  0.29 - 2018-10-05 15:11:37.200000\n",
      "  0.56 -  0.06 - 2018-10-02 18:04:11.700000\n",
      "205.74 -  0.31 - 2018-10-08 14:44:00.600000\n",
      " 85.36 -  0.06 - 2018-10-01 08:41:29.800000\n",
      "  1.14 -  0.20 - 2018-10-17 14:28:58\n",
      " 25.56 -  0.04 - 2018-10-10 09:56:34.100000\n",
      " 20.88 -  0.16 - 2018-10-02 02:24:48.900000\n",
      " 31.50 -  0.08 - 2018-10-07 20:42:50.400000\n",
      "266.21 -  0.29 - 2018-10-14 17:17:49.100000\n",
      "  0.69 -  0.33 - 2018-10-03 12:01:36.400000\n",
      " 90.26 -  0.07 - 2018-10-09 10:04:26.500000\n",
      "333.71 -  0.23 - 2018-10-05 23:19:36.300000\n",
      "  0.01 -  0.18 - 2018-10-15 14:30:16.100000\n",
      "182.86 -  0.48 - 2018-10-01 23:59:01.700000\n",
      "258.24 -  0.30 - 2018-10-07 19:11:57.400000\n",
      "233.46 -  0.06 - 2018-10-01 16:31:44.500000\n",
      "  7.06 -  0.29 - 2018-10-15 06:51:03.800000\n",
      " 70.14 -  0.15 - 2018-10-16 01:34:16.700000\n",
      "  3.27 -  0.05 - 2018-09-28 03:54:12.100000\n",
      "  0.22 -  0.08 - 2018-10-16 19:03:41.600000\n",
      "204.13 -  0.16 - 2018-10-17 07:40:57.800000\n",
      "  0.34 -  0.72 - 2018-10-02 15:25:18.800000\n",
      "  7.90 -  0.38 - 2018-10-11 04:13:02.800000\n",
      " 32.50 -  0.05 - 2018-10-01 04:04:49\n",
      " 14.58 -  0.13 - 2018-10-02 18:30:26.700000\n",
      " 25.44 -  0.11 - 2018-10-01 23:15:43.800000\n",
      " 38.00 -  0.12 - 2018-10-01 08:16:26\n",
      "190.35 -  0.06 - 2018-10-06 07:47:24.200000\n",
      "127.91 -  0.07 - 2018-10-10 07:34:00.800000\n",
      " 31.52 -  0.09 - 2018-10-01 16:47:23.800000\n",
      "101.26 -  0.46 - 2018-10-07 08:32:05.900000\n",
      " 19.70 -  0.02 - 2018-10-02 10:46:03.900000\n",
      " 26.28 -  0.04 - 2018-10-01 13:38:57.400000\n",
      "  9.05 -  0.21 - 2018-10-04 10:24:08\n",
      "  5.50 -  0.02 - 2018-10-04 13:13:18.400000\n",
      "  8.37 -  0.56 - 2018-10-02 07:17:49.200000\n",
      " 78.19 -  0.11 - 2018-10-06 05:30:07.500000\n",
      "  2.74 -  0.24 - 2018-09-29 02:06:59.300000\n",
      "  2.36 -  0.72 - 2018-10-09 11:28:42.900000\n",
      "121.82 -  0.11 - 2018-10-02 23:07:25.600000\n",
      " 43.08 -  0.35 - 2018-10-04 16:19:13.100000\n",
      " 74.12 -  0.07 - 2018-10-06 02:22:06.800000\n",
      "269.45 -  0.05 - 2018-10-01 06:02:50\n",
      "203.48 -  0.15 - 2018-10-05 13:46:38.600000\n",
      "245.67 -  0.18 - 2018-10-03 07:24:24\n",
      " 64.05 -  0.04 - 2018-10-01 09:27:58.800000\n",
      " 64.82 -  0.58 - 2018-10-02 17:50:52.800000\n",
      "  0.21 -  0.05 - 2018-10-06 02:19:05.300000\n",
      "363.10 -  0.17 - 2018-10-03 23:50:18.800000\n",
      " 10.39 -  0.04 - 2018-10-02 11:57:05.500000\n",
      " 28.52 -  0.19 - 2018-10-01 02:47:00.300000\n",
      " 20.15 -  0.10 - 2018-10-08 09:51:18.500000\n",
      "  1.23 -  0.20 - 2018-10-04 02:15:39.200000\n",
      " 65.42 -  0.04 - 2018-10-06 06:25:47.300000\n",
      "303.77 -  0.15 - 2018-10-05 19:49:46.100000\n",
      "  9.13 -  0.32 - 2018-10-05 08:09:37.500000\n",
      " 89.65 -  0.16 - 2018-10-07 21:33:51.100000\n",
      "181.97 -  0.19 - 2018-10-13 04:31:10\n",
      "235.08 -  0.07 - 2018-10-01 02:54:14.200000\n",
      "120.51 -  0.03 - 2018-10-07 06:00:42.300000\n",
      " 30.55 -  2.73 - 2018-10-14 16:18:55.800000\n",
      " 52.33 -  0.09 - 2018-10-01 18:09:23.400000\n",
      "  2.04 -  0.18 - 2018-10-01 14:43:02.400000\n",
      "  5.99 -  0.04 - 2018-10-02 13:55:57.100000\n",
      "438.76 -  0.18 - 2018-10-07 02:45:39\n",
      "182.14 -  0.08 - 2018-10-02 04:35:41.600000\n",
      "117.57 -  0.08 - 2018-09-28 07:30:36.800000\n",
      " 39.20 -  0.47 - 2018-10-04 03:18:13.700000\n",
      " 53.77 -  0.10 - 2018-10-01 19:19:27.300000\n",
      " 61.98 -  0.16 - 2018-10-02 16:31:14.200000\n",
      "  4.04 -  0.23 - 2018-10-09 21:01:20.300000\n",
      " 29.47 -  0.10 - 2018-10-02 00:48:26\n",
      "  7.06 -  0.04 - 2018-10-07 07:24:53.600000\n",
      " 10.57 -  0.16 - 2018-10-06 15:28:42.100000\n",
      "  5.96 -  0.13 - 2018-10-07 00:35:52.500000\n",
      "405.09 -  0.05 - 2018-10-03 02:48:29.900000\n",
      " 23.30 -  0.12 - 2018-10-01 01:53:09.600000\n",
      "125.19 -  0.17 - 2018-09-27 22:27:19.600000\n",
      " 35.08 -  0.94 - 2018-10-14 06:41:41.800000\n",
      "120.29 -  0.33 - 2018-10-11 21:51:22.200000\n",
      "119.72 -  0.15 - 2018-10-17 18:17:21.800000\n",
      "  0.02 -  0.12 - 2018-10-09 18:04:15.500000\n",
      "  3.19 -  0.25 - 2018-10-10 03:09:54.500000\n",
      "103.08 -  0.27 - 2018-09-27 18:41:19.700000\n",
      "103.34 -  0.14 - 2018-10-09 18:28:50.400000\n",
      "322.08 -  0.24 - 2018-10-05 20:31:24.400000\n",
      " 10.23 -  1.42 - 2018-10-15 23:28:50.100000\n",
      "  0.34 -  0.12 - 2018-09-29 20:54:32.300000\n",
      "  0.08 -  0.07 - 2018-09-30 01:37:02.500000\n",
      " 61.42 -  1.05 - 2018-10-01 20:01:16.200000\n",
      "  1.27 -  0.04 - 2018-09-30 23:46:15.400000\n",
      "173.74 -  0.37 - 2018-10-07 12:06:18.700000\n",
      "377.31 -  0.41 - 2018-10-16 01:56:41.600000\n",
      "120.21 -  0.03 - 2018-10-02 11:50:46.800000\n",
      "210.22 -  0.14 - 2018-10-14 13:19:13.800000\n",
      " 10.88 -  0.39 - 2018-10-06 22:36:44.300000\n",
      " 43.73 -  0.40 - 2018-10-22 16:50:52.600000\n",
      " 55.28 -  0.22 - 2018-10-02 04:15:58.400000\n",
      "  0.59 -  0.18 - 2018-10-06 09:46:50.100000\n",
      " 28.95 -  0.04 - 2018-09-27 14:17:37.700000\n",
      "  3.36 -  0.15 - 2018-10-08 19:14:55\n",
      " 10.47 -  0.10 - 2018-10-03 22:21:26.200000\n",
      "106.65 -  0.14 - 2018-10-02 07:06:30.400000\n",
      "121.67 -  0.20 - 2018-10-02 00:12:59\n",
      "  0.02 -  0.27 - 2018-10-01 21:18:07.200000\n",
      " 29.17 -  0.05 - 2018-09-30 23:54:38.300000\n",
      "138.64 -  0.08 - 2018-10-03 13:17:53.500000\n",
      "  0.94 -  0.14 - 2018-10-06 08:19:11.700000\n",
      " 25.19 -  0.11 - 2018-10-06 19:16:03.200000\n",
      " 44.34 -  0.05 - 2018-10-17 06:54:47.100000\n",
      "106.24 -  0.25 - 2018-10-13 10:20:54.300000\n",
      "495.59 -  0.36 - 2018-10-05 12:42:30.400000\n",
      " 72.74 -  0.07 - 2018-10-01 05:37:17.100000\n",
      " 76.56 -  0.19 - 2018-10-14 15:03:11\n",
      "  4.07 -  0.06 - 2018-10-01 02:31:12.200000\n",
      " 43.74 -  0.09 - 2018-10-01 05:46:17.200000\n",
      " 33.65 -  0.21 - 2018-10-07 06:07:10.900000\n",
      " 32.10 -  0.07 - 2018-10-01 04:21:51.300000\n",
      " 11.92 -  0.05 - 2018-10-14 01:00:15.900000\n",
      " 18.50 -  0.05 - 2018-09-28 15:27:27.200000\n",
      "  0.12 -  0.02 - 2018-10-02 02:16:46.200000\n",
      " 30.45 -  0.28 - 2018-10-01 18:14:14.600000\n",
      "202.12 -  0.14 - 2018-10-13 08:14:54\n",
      "150.75 -  0.16 - 2018-10-02 17:15:44.300000\n",
      " 82.79 -  0.59 - 2018-10-12 05:57:12.100000\n",
      "  1.27 -  0.44 - 2018-10-04 10:32:02.400000\n",
      "  8.96 -  0.13 - 2018-10-03 13:43:42.800000\n",
      "212.17 -  0.25 - 2018-10-09 19:50:30\n",
      " 17.94 -  0.28 - 2018-09-30 11:50:54.800000\n",
      "360.46 -  0.09 - 2018-09-30 13:28:09.400000\n",
      "  7.78 -  0.05 - 2018-10-08 20:02:34\n",
      "230.65 -  0.43 - 2018-09-30 22:13:32.700000\n",
      " 69.20 -  0.09 - 2018-10-02 08:34:39\n",
      "148.45 -  0.27 - 2018-10-02 02:54:01.100000\n",
      " 57.61 -  0.20 - 2018-10-11 16:05:39.100000\n",
      "121.11 -  0.13 - 2018-10-04 13:20:42\n",
      "  3.06 -  0.12 - 2018-10-01 18:51:02.200000\n",
      " 28.57 -  0.37 - 2018-10-14 14:39:43.300000\n",
      " 64.75 -  0.10 - 2018-10-15 14:24:18.500000\n",
      " 15.12 -  0.09 - 2018-10-15 23:07:34\n",
      " 66.49 -  0.05 - 2018-10-01 03:24:07.800000\n",
      " 21.49 -  0.32 - 2018-10-07 08:12:53.100000\n",
      "  0.00 -  0.13 - 2018-10-09 21:58:38.400000\n",
      " 23.97 -  0.41 - 2018-10-19 01:49:53.100000\n",
      " 13.56 -  0.14 - 2018-10-26 13:09:46.200000\n",
      " 23.45 -  0.21 - 2018-10-01 09:09:45.100000\n",
      " 14.50 -  0.04 - 2018-10-01 15:46:21.600000\n",
      "266.26 -  0.35 - 2018-09-30 13:20:44.200000\n",
      "  0.13 -  0.19 - 2018-10-01 19:11:04.600000\n",
      "  0.01 -  0.09 - 2018-10-03 01:45:17.700000\n",
      "100.49 -  0.20 - 2018-09-28 08:52:36.400000\n",
      "271.67 -  0.24 - 2018-10-02 10:33:37.300000\n",
      "  7.71 -  0.23 - 2018-10-08 03:28:02\n",
      "  0.01 -  1.21 - 2018-10-08 05:05:09.100000\n",
      " 19.15 -  0.08 - 2018-09-26 11:36:33.400000\n",
      " 90.73 -  0.83 - 2018-09-30 18:03:35.700000\n",
      "  2.21 -  0.18 - 2018-10-11 18:23:52.200000\n",
      "247.07 -  0.15 - 2018-10-01 02:26:12\n",
      " 53.93 -  0.13 - 2018-10-06 05:12:02.500000\n",
      "104.73 -  0.18 - 2018-10-13 03:38:21.900000\n",
      " 16.54 -  0.33 - 2018-10-10 10:02:42.200000\n",
      " 84.02 -  0.01 - 2018-10-26 20:29:44.500000\n",
      "  6.56 -  0.05 - 2018-10-02 19:02:15.800000\n",
      " 19.49 -  0.42 - 2018-10-06 10:44:55\n",
      "  2.27 -  0.05 - 2018-10-06 01:22:25.600000\n",
      "219.92 -  0.04 - 2018-10-06 09:50:15.600000\n",
      " 32.69 -  0.13 - 2018-10-05 21:23:40.100000\n",
      " 92.03 -  0.22 - 2018-10-07 05:23:28\n",
      " 10.99 -  1.01 - 2018-10-02 02:08:07.900000\n",
      " 61.24 -  0.16 - 2018-10-01 14:27:40.200000\n",
      "140.94 -  0.06 - 2018-10-03 04:03:38.100000\n",
      " 45.38 -  0.23 - 2018-10-05 07:33:59.800000\n",
      " 55.60 -  0.11 - 2018-10-05 19:55:12.800000\n",
      "369.75 -  0.09 - 2018-10-05 01:15:19.400000\n",
      " 77.39 -  0.05 - 2018-09-28 06:21:57.500000\n",
      "  3.59 -  0.90 - 2018-10-10 04:29:48.600000\n",
      "247.38 -  0.06 - 2018-10-02 05:25:20.600000\n",
      "  1.59 -  0.10 - 2018-10-01 19:16:47.100000\n",
      "200.90 -  0.19 - 2018-10-02 22:29:32.900000\n",
      " 30.02 -  0.22 - 2018-10-05 21:00:50.100000\n",
      " 17.37 -  0.07 - 2018-10-15 15:07:10.500000\n",
      " 77.37 -  0.42 - 2018-10-06 05:04:36.100000\n",
      " 32.96 -  0.10 - 2018-10-20 00:05:23.800000\n",
      "  1.76 -  0.16 - 2018-10-04 12:45:51.700000\n",
      "181.52 -  0.09 - 2018-10-10 00:18:11.100000\n",
      "241.08 -  0.35 - 2018-10-18 10:34:14.100000\n",
      " 64.40 -  0.30 - 2018-10-02 05:42:46.800000\n",
      "  5.44 -  0.35 - 2018-10-05 09:48:55.800000\n",
      "165.61 -  0.13 - 2018-10-07 01:22:34.600000\n",
      "  0.34 -  0.06 - 2018-09-29 12:36:08.200000\n",
      " 22.69 -  0.08 - 2018-10-01 06:25:00.100000\n",
      " 47.99 -  0.11 - 2018-10-04 17:25:34.100000\n",
      "161.00 -  0.03 - 2018-10-15 15:40:47.400000\n",
      "205.27 -  0.27 - 2018-10-01 06:42:27.700000\n",
      "  0.00 -  0.13 - 2018-10-07 01:44:55\n",
      "  0.00 -  0.61 - 2018-10-14 18:30:11.600000\n",
      "356.79 -  0.43 - 2018-10-07 12:05:09.300000\n",
      "127.68 -  0.23 - 2018-10-01 04:29:06.400000\n",
      "  1.82 -  0.23 - 2018-10-07 06:04:06.500000\n",
      "  1.67 -  0.11 - 2018-10-01 13:24:57.500000\n",
      " 18.88 -  0.02 - 2018-09-28 07:09:48.500000\n",
      " 30.45 -  0.74 - 2018-10-07 22:07:46.300000\n",
      "167.48 -  0.10 - 2018-10-01 03:16:15.900000\n",
      " 79.31 -  0.42 - 2018-10-02 07:41:22.300000\n",
      "134.49 -  0.61 - 2018-10-14 14:35:26.200000\n",
      " 20.26 -  0.15 - 2018-10-02 08:30:25.700000\n",
      " 76.48 -  0.31 - 2018-10-02 08:54:06.400000\n",
      " 23.91 -  0.10 - 2018-10-01 07:07:02.800000\n",
      "114.72 -  0.40 - 2018-10-06 06:00:15.600000\n",
      "  0.84 -  0.28 - 2018-09-28 21:59:00.500000\n",
      "105.14 -  0.16 - 2018-10-01 00:58:00.300000\n",
      "  1.25 -  0.02 - 2018-10-01 03:56:54.700000\n",
      "237.19 -  0.16 - 2018-10-08 08:38:28.300000\n",
      "309.18 -  0.19 - 2018-10-03 08:53:40.600000\n",
      "265.54 -  0.11 - 2018-10-01 04:11:27.400000\n",
      " 37.86 -  0.65 - 2018-10-07 11:26:10.300000\n",
      "  0.33 -  0.05 - 2018-10-05 04:19:06.300000\n",
      " 14.93 -  0.12 - 2018-10-09 22:08:08.500000\n",
      "  1.18 -  0.08 - 2018-10-05 05:21:17.200000\n",
      "848.34 -  0.02 - 2018-10-03 20:54:39.500000\n",
      "431.44 -  0.03 - 2018-10-04 09:20:54.900000\n",
      "  7.72 -  0.06 - 2018-09-28 10:32:18.700000\n",
      "  1.32 -  0.07 - 2018-10-10 06:42:14.700000\n",
      "398.20 -  0.14 - 2018-10-07 01:28:35.500000\n",
      " 40.22 -  0.38 - 2018-10-06 07:01:47.800000\n",
      " 46.79 -  0.02 - 2018-10-12 00:18:16.600000\n",
      " 73.30 -  0.04 - 2018-10-11 22:03:49.400000\n",
      " 37.93 -  0.19 - 2018-10-05 15:01:19.100000\n",
      " 40.02 -  0.05 - 2018-10-15 04:02:54.800000\n",
      "111.37 -  0.14 - 2018-10-01 04:19:41.700000\n",
      " 87.54 -  0.18 - 2018-10-06 07:17:48.200000\n",
      "288.54 -  0.11 - 2018-10-06 21:43:17.300000\n",
      " 12.19 -  0.07 - 2018-09-28 04:12:25.300000\n",
      "286.32 -  0.28 - 2018-10-02 22:17:50.500000\n",
      "  4.98 -  0.07 - 2018-10-15 12:17:04.500000\n",
      "104.59 -  0.31 - 2018-10-02 22:14:22.800000\n",
      " 53.64 -  0.17 - 2018-10-01 07:03:06\n",
      "142.27 -  0.06 - 2018-10-01 11:55:52.700000\n",
      "233.27 -  0.16 - 2018-10-02 21:25:30.400000\n",
      "  0.02 -  0.27 - 2018-10-07 11:05:07.800000\n",
      "  0.44 -  0.38 - 2018-10-01 00:17:18.900000\n",
      "181.66 -  0.10 - 2018-10-09 04:35:49.700000\n",
      " 23.82 -  0.18 - 2018-10-06 04:51:49.300000\n",
      "263.27 -  0.04 - 2018-10-11 16:25:37.200000\n",
      " 49.50 -  0.14 - 2018-10-05 05:53:52.700000\n",
      "  1.09 -  0.08 - 2018-10-01 10:45:16\n",
      "248.65 -  0.16 - 2018-10-06 05:17:29.200000\n",
      "160.66 -  0.19 - 2018-10-03 03:17:27.800000\n",
      "153.77 -  0.01 - 2018-09-28 03:52:21.600000\n",
      " 12.77 -  0.41 - 2018-10-01 16:02:32.900000\n",
      "  0.73 -  0.33 - 2018-10-05 04:47:48.400000\n",
      " 56.09 -  0.45 - 2018-10-03 08:45:15.200000\n",
      " 51.20 -  0.17 - 2018-09-30 16:36:12.100000\n",
      "207.59 -  0.15 - 2018-10-12 00:43:57.900000\n",
      "  7.89 -  0.07 - 2018-10-04 02:25:36.400000\n",
      "107.60 -  0.16 - 2018-10-14 18:38:00.700000\n",
      "  0.21 -  0.02 - 2018-10-06 21:46:29\n",
      "217.17 -  0.03 - 2018-10-05 18:33:19.500000\n",
      "308.17 -  0.25 - 2018-10-06 01:46:11.400000\n",
      " 49.63 -  0.24 - 2018-10-02 08:52:24.800000\n",
      "  7.47 -  0.05 - 2018-10-10 09:18:23\n",
      "  6.05 -  0.02 - 2018-10-27 02:08:31.800000\n",
      " 26.06 -  0.10 - 2018-10-14 14:03:49.800000\n",
      "177.83 -  0.23 - 2018-10-05 13:24:50.900000\n",
      "421.36 -  0.08 - 2018-10-01 07:32:16.600000\n",
      "  0.08 -  0.22 - 2018-10-14 14:15:32.800000\n",
      " 42.86 -  0.14 - 2018-10-13 10:41:59.900000\n",
      " 55.29 -  0.05 - 2018-10-06 06:50:49.400000\n",
      "  3.77 -  0.20 - 2018-10-11 20:02:20\n",
      "  9.66 -  0.09 - 2018-09-29 02:29:16.900000\n",
      "  6.92 -  0.04 - 2018-10-06 06:27:11.600000\n",
      "204.51 -  0.15 - 2018-10-10 05:11:35.100000\n",
      "545.92 -  0.09 - 2018-10-07 11:59:37.100000\n",
      " 77.43 -  0.06 - 2018-10-07 06:37:13.200000\n",
      "310.09 -  0.17 - 2018-10-26 09:51:30.100000\n",
      " 44.60 -  0.11 - 2018-10-07 02:27:23.500000\n",
      "  5.86 -  0.19 - 2018-10-04 04:25:19.100000\n",
      "  0.79 -  0.23 - 2018-10-05 07:47:09\n",
      " 77.46 -  0.38 - 2018-10-07 00:39:00.400000\n",
      " 28.67 -  0.11 - 2018-10-05 19:38:38.200000\n",
      "  0.53 -  0.50 - 2018-10-10 10:54:48.300000\n",
      " 45.60 -  0.04 - 2018-10-01 13:04:06.300000\n",
      "137.42 -  0.11 - 2018-10-07 12:30:34.500000\n",
      "  3.43 -  0.21 - 2018-10-02 19:04:18.200000\n",
      "  8.58 -  0.10 - 2018-10-02 17:19:17.200000\n",
      " 66.18 -  0.43 - 2018-10-02 01:38:46\n",
      " 45.54 -  0.09 - 2018-10-02 00:16:05.300000\n",
      " 38.44 -  0.38 - 2018-10-08 09:34:04.100000\n",
      " 90.23 -  0.08 - 2018-10-05 13:35:11.100000\n",
      " 73.79 -  0.20 - 2018-10-10 06:55:43.800000\n",
      " 40.63 -  0.07 - 2018-09-28 07:41:30.600000\n",
      " 13.34 -  0.01 - 2018-10-05 13:56:07.800000\n",
      "  3.77 -  0.50 - 2018-10-15 02:02:14.400000\n",
      "  0.02 -  0.30 - 2018-10-01 21:59:07.200000\n",
      "  1.30 -  0.24 - 2018-10-04 19:35:33.900000\n",
      "  9.67 -  0.26 - 2018-10-09 14:41:02.500000\n",
      "  1.15 -  0.14 - 2018-10-04 16:12:45.600000\n",
      "120.98 -  0.12 - 2018-10-02 11:43:26\n",
      " 30.40 -  0.05 - 2018-10-15 12:21:43.300000\n",
      " 32.46 -  0.19 - 2018-09-28 08:20:39.300000\n",
      "  1.52 -  0.05 - 2018-10-11 19:11:29.500000\n",
      "  2.59 -  0.38 - 2018-10-03 02:49:51.800000\n",
      "149.79 -  0.12 - 2018-10-04 10:10:47.400000\n",
      "  2.88 -  0.06 - 2018-10-04 07:33:17.700000\n",
      " 18.16 -  0.25 - 2018-10-10 06:26:43\n",
      "500.11 -  0.19 - 2018-10-01 13:14:26.900000\n",
      " 49.88 -  0.06 - 2018-10-01 17:30:30.700000\n",
      "181.68 -  0.25 - 2018-10-02 12:03:09.500000\n",
      "159.04 -  0.21 - 2018-10-02 07:59:20.700000\n",
      "  2.13 -  0.38 - 2018-10-14 19:06:43.900000\n",
      "100.89 -  0.25 - 2018-10-02 09:48:32\n",
      "  4.05 -  0.10 - 2018-10-09 05:12:05.100000\n",
      "572.59 -  0.29 - 2018-10-03 07:34:15.100000\n",
      " 83.96 -  0.29 - 2018-09-29 02:09:55.400000\n",
      " 34.83 -  0.03 - 2018-10-02 06:23:19\n",
      "129.41 -  0.08 - 2018-10-04 13:27:01.300000\n",
      "  0.55 -  0.22 - 2018-10-18 03:41:24.800000\n",
      "182.01 -  0.09 - 2018-09-29 10:49:47.800000\n",
      " 22.24 -  0.11 - 2018-09-30 08:31:12.700000\n",
      " 97.97 -  0.67 - 2018-10-10 07:46:04.700000\n",
      "283.51 -  0.13 - 2018-10-04 11:47:03.600000\n",
      "  0.68 -  0.05 - 2018-10-03 11:23:31.900000\n",
      "222.72 -  0.33 - 2018-10-04 01:05:08.300000\n",
      "  4.26 -  0.05 - 2018-10-09 04:08:27.700000\n",
      " 11.67 -  0.02 - 2018-09-28 07:10:34.800000\n",
      " 46.18 -  0.23 - 2018-10-03 20:47:17.900000\n",
      " 50.47 -  0.03 - 2018-10-06 09:19:20.900000\n",
      "  0.45 -  0.27 - 2018-10-06 08:25:14.200000\n",
      " 55.27 -  0.35 - 2018-10-01 09:20:17.800000\n",
      " 47.95 -  0.09 - 2018-10-01 07:47:11.100000\n",
      "  2.99 -  0.06 - 2018-10-03 19:58:17.700000\n",
      "  0.04 -  0.31 - 2018-10-01 23:04:02.400000\n",
      "  0.09 -  0.31 - 2018-10-04 23:59:43.900000\n",
      "350.67 -  0.18 - 2018-10-04 13:18:29.800000\n",
      " 23.80 -  0.29 - 2018-09-28 17:37:19.200000\n",
      " 15.13 -  0.12 - 2018-10-02 01:00:03\n",
      "187.28 -  0.10 - 2018-10-05 10:17:35.100000\n",
      "106.60 -  0.17 - 2018-10-02 08:36:52.800000\n",
      "  9.84 -  0.09 - 2018-10-01 18:18:20.800000\n",
      " 37.66 -  0.03 - 2018-10-02 22:10:36.800000\n",
      " 23.94 -  0.39 - 2018-10-06 23:13:59.900000\n",
      "  9.42 -  0.64 - 2018-10-01 01:39:15.800000\n",
      "261.79 -  0.15 - 2018-10-04 12:42:07\n",
      "803.97 -  0.28 - 2018-10-04 14:47:30.200000\n",
      "144.16 -  0.36 - 2018-10-12 09:03:18.600000\n",
      " 23.44 -  0.34 - 2018-10-07 22:22:01.300000\n",
      "263.44 -  0.23 - 2018-10-05 19:30:24.200000\n",
      " 11.04 -  0.03 - 2018-10-03 00:29:53\n",
      " 65.38 -  0.28 - 2018-10-02 10:13:33.500000\n",
      " 77.24 -  0.32 - 2018-10-07 10:47:02.600000\n",
      "  0.01 -  0.08 - 2018-10-08 23:05:40.100000\n",
      " 23.86 -  0.07 - 2018-10-05 23:07:27.600000\n",
      " 75.15 -  0.12 - 2018-10-01 22:01:23.900000\n",
      " 96.42 -  0.11 - 2018-10-04 20:27:13.200000\n",
      " 31.60 -  0.10 - 2018-09-27 16:14:16.600000\n",
      " 54.48 -  0.24 - 2018-10-05 20:56:38.600000\n",
      " 31.40 -  0.54 - 2018-10-07 08:14:31.500000\n",
      " 90.12 -  0.15 - 2018-10-01 17:52:17.500000\n",
      "164.69 -  0.14 - 2018-10-06 04:45:20.700000\n",
      " 29.08 -  0.14 - 2018-10-02 13:50:50.900000\n",
      "103.58 -  0.14 - 2018-10-15 12:32:41.400000\n",
      "149.02 -  0.04 - 2018-10-02 21:37:15.600000\n",
      "188.09 -  0.13 - 2018-10-22 02:30:15.100000\n",
      " 21.28 -  0.24 - 2018-10-03 08:23:27.900000\n",
      "207.87 -  0.29 - 2018-10-01 19:47:34.500000\n",
      "120.11 -  0.23 - 2018-10-01 02:06:12.500000\n",
      " 41.96 -  0.05 - 2018-10-01 12:32:50.700000\n",
      "  3.41 -  0.09 - 2018-10-08 02:05:23.200000\n",
      "  0.65 -  1.12 - 2018-10-04 14:40:18.600000\n",
      "413.91 -  0.24 - 2018-10-01 04:00:40.300000\n",
      " 30.93 -  0.27 - 2018-10-05 14:32:01.400000\n",
      " 64.12 -  0.07 - 2018-10-16 13:04:33.600000\n",
      "160.03 -  0.16 - 2018-10-09 21:45:35.300000\n",
      " 33.84 -  0.36 - 2018-10-07 02:08:25\n",
      " 15.57 -  0.05 - 2018-10-02 07:15:34.100000\n",
      " 18.51 -  0.12 - 2018-10-01 00:39:46.300000\n",
      " 82.68 -  0.10 - 2018-10-02 15:02:13.200000\n",
      " 61.08 -  0.06 - 2018-10-01 06:12:59.500000\n",
      "  0.92 -  0.13 - 2018-10-08 23:42:56.800000\n",
      "128.84 -  0.14 - 2018-10-01 14:21:29.300000\n",
      " 48.13 -  0.38 - 2018-10-16 00:14:26.100000\n",
      " 35.76 -  0.21 - 2018-10-02 03:21:50.600000\n",
      "121.18 -  0.21 - 2018-10-18 23:03:43.300000\n",
      "  2.54 -  0.07 - 2018-10-04 12:58:15.900000\n",
      "  5.40 -  0.54 - 2018-10-04 11:39:41.700000\n",
      " 50.74 -  0.13 - 2018-10-06 05:23:03.700000\n",
      "  0.16 -  0.24 - 2018-10-04 21:32:29.600000\n",
      " 42.76 -  0.06 - 2018-10-15 08:42:37.600000\n",
      "  2.35 -  0.46 - 2018-09-30 09:13:38.500000\n",
      " 54.42 -  0.18 - 2018-10-03 09:07:12.200000\n",
      " 66.65 -  0.28 - 2018-10-16 14:33:46.700000\n",
      "  0.17 -  0.09 - 2018-10-02 20:47:58.300000\n",
      "  0.00 -  0.18 - 2018-10-07 13:34:59.400000\n",
      " 79.32 -  0.04 - 2018-10-10 14:00:23.800000\n",
      " 48.46 -  0.48 - 2018-10-11 23:33:51\n",
      "136.86 -  0.17 - 2018-10-05 19:11:02\n",
      " 29.13 -  0.43 - 2018-10-03 03:22:43.100000\n",
      "  1.92 -  0.01 - 2018-10-18 18:47:12.600000\n",
      " 90.79 -  0.08 - 2018-10-01 02:00:47.300000\n",
      " 64.93 -  0.17 - 2018-10-01 16:33:44.300000\n",
      "  9.29 -  0.02 - 2018-10-01 04:31:21.800000\n",
      " 22.55 -  0.32 - 2018-10-11 12:56:20.500000\n",
      " 25.81 -  0.09 - 2018-10-01 01:48:41\n",
      " 87.97 -  0.10 - 2018-10-02 21:05:02\n",
      "  5.02 -  0.15 - 2018-10-12 06:03:56\n",
      " 55.47 -  0.06 - 2018-10-01 02:57:04\n",
      " 47.17 -  0.10 - 2018-10-03 19:53:32.400000\n",
      "  0.95 -  0.05 - 2018-10-04 13:54:53.700000\n",
      "250.75 -  0.44 - 2018-10-06 05:27:20\n",
      "189.19 -  0.33 - 2018-10-01 20:29:49.300000\n",
      " 85.83 -  0.14 - 2018-10-02 07:09:50.500000\n",
      " 50.38 -  0.25 - 2018-10-10 07:31:55.200000\n",
      " 50.82 -  0.49 - 2018-10-16 12:07:50.500000\n",
      "  0.30 -  0.14 - 2018-09-29 13:03:21.500000\n",
      "264.54 -  0.31 - 2018-10-02 16:07:32.700000\n",
      " 98.77 -  0.02 - 2018-10-02 05:46:46.500000\n",
      "  1.35 -  0.18 - 2018-10-04 17:21:30.800000\n",
      "185.91 -  0.17 - 2018-10-04 03:45:10.800000\n",
      "  0.58 -  0.44 - 2018-10-05 05:43:47.800000\n",
      " 86.96 -  0.13 - 2018-10-02 19:26:24.800000\n",
      "  6.32 -  0.11 - 2018-10-13 01:57:05.800000\n",
      "731.76 -  0.09 - 2018-10-04 10:46:18.300000\n",
      "176.84 -  0.47 - 2018-10-03 00:16:02\n",
      " 13.32 -  0.21 - 2018-10-04 04:15:21.200000\n",
      " 47.78 -  0.21 - 2018-10-18 15:00:42.200000\n",
      " 48.61 -  0.09 - 2018-10-01 17:59:20.400000\n",
      " 77.67 -  0.02 - 2018-10-02 17:27:23.700000\n",
      "255.62 -  0.30 - 2018-10-03 19:09:52.300000\n",
      " 17.12 -  0.11 - 2018-10-06 13:08:15.200000\n",
      " 78.65 -  0.36 - 2018-10-10 18:11:32.600000\n",
      " 22.17 -  0.14 - 2018-10-12 21:35:26\n",
      " 40.15 -  0.02 - 2018-10-01 06:26:21.400000\n",
      "169.73 -  0.21 - 2018-10-01 23:53:47.500000\n",
      "  1.32 -  0.36 - 2018-10-03 09:32:15.300000\n",
      "448.96 -  0.24 - 2018-10-02 09:59:16.900000\n",
      "122.88 -  0.14 - 2018-10-19 10:26:49.300000\n",
      "  5.92 -  0.05 - 2018-09-29 03:20:40.200000\n",
      "425.99 -  0.23 - 2018-10-14 05:34:30\n",
      " 26.03 -  0.02 - 2018-10-01 01:57:21.600000\n",
      " 12.01 -  0.09 - 2018-10-04 18:12:27.400000\n",
      "130.39 -  0.32 - 2018-10-03 02:02:04\n",
      " 34.95 -  0.23 - 2018-10-02 10:56:43.500000\n",
      "160.95 -  0.14 - 2018-10-03 02:07:44.900000\n",
      "  9.67 -  0.32 - 2018-10-01 13:33:07.900000\n",
      " 34.36 -  0.39 - 2018-10-04 10:18:18.500000\n",
      "  1.79 -  0.21 - 2018-10-09 12:14:12.800000\n",
      " 36.40 -  0.24 - 2018-10-02 18:00:58\n",
      " 73.22 -  0.05 - 2018-09-28 12:08:49.500000\n",
      " 52.37 -  0.25 - 2018-10-09 22:53:30.700000\n",
      "106.56 -  1.04 - 2018-10-09 10:09:25\n",
      " 39.85 -  0.32 - 2018-10-08 19:16:33.200000\n",
      " 57.11 -  0.19 - 2018-10-04 05:51:29.800000\n",
      " 59.33 -  0.17 - 2018-10-01 05:01:57.900000\n",
      "245.42 -  0.18 - 2018-10-08 14:54:23.100000\n",
      "  2.01 -  0.26 - 2018-10-01 22:51:53.500000\n",
      " 97.87 -  0.26 - 2018-10-01 03:35:46.400000\n",
      "  0.41 -  0.28 - 2018-10-01 21:17:07.500000\n",
      "  7.38 -  0.10 - 2018-10-01 05:58:18.800000\n",
      "  3.04 -  0.06 - 2018-09-29 14:26:24.200000\n",
      "103.84 -  0.10 - 2018-10-01 06:22:42.600000\n",
      "  3.50 -  0.20 - 2018-10-14 14:47:35.100000\n",
      "184.27 -  0.09 - 2018-10-01 06:52:41.100000\n",
      "  0.57 -  0.20 - 2018-10-15 13:53:16.100000\n",
      " 23.11 -  0.13 - 2018-10-11 13:25:46.200000\n",
      " 19.83 -  0.05 - 2018-10-03 01:01:12.600000\n",
      " 41.50 -  0.13 - 2018-10-17 16:44:43.800000\n",
      "  0.90 -  0.01 - 2018-09-28 06:27:33.400000\n",
      " 14.60 -  0.25 - 2018-10-05 13:07:50.900000\n",
      "  0.16 -  0.16 - 2018-10-03 04:44:16.700000\n",
      "  0.56 -  0.06 - 2018-10-02 13:39:10.600000\n",
      "  6.76 -  0.13 - 2018-10-04 11:54:21\n",
      " 20.17 -  0.14 - 2018-10-11 09:07:27.400000\n",
      "177.55 -  0.19 - 2018-10-03 17:12:59.900000\n",
      "  1.03 -  0.26 - 2018-10-01 13:40:30.700000\n",
      " 66.45 -  0.24 - 2018-10-01 06:36:02.700000\n",
      " 31.46 -  0.20 - 2018-10-01 01:05:20.300000\n",
      " 24.60 -  0.23 - 2018-09-28 21:51:41.100000\n",
      " 43.96 -  0.17 - 2018-10-06 07:55:28.500000\n",
      " 88.21 -  0.10 - 2018-10-02 11:11:31.600000\n",
      " 64.06 -  0.15 - 2018-10-02 12:14:05.700000\n",
      " 28.12 -  0.17 - 2018-10-03 01:43:11.400000\n",
      "  4.18 -  0.01 - 2018-09-28 11:01:29.600000\n",
      "  0.11 -  0.15 - 2018-10-08 10:05:04.600000\n",
      "166.95 -  0.26 - 2018-10-07 04:34:14.600000\n",
      " 58.93 -  0.08 - 2018-10-01 04:07:35.400000\n",
      "  0.32 -  0.26 - 2018-10-04 20:38:24.500000\n",
      " 13.75 -  0.40 - 2018-10-01 10:40:35.300000\n",
      " 83.03 -  0.22 - 2018-10-04 05:42:39\n",
      "194.47 -  0.17 - 2018-10-02 14:09:05\n",
      "  6.99 -  0.16 - 2018-10-27 05:08:48\n",
      "  8.04 -  0.08 - 2018-10-09 08:30:35.100000\n",
      "111.95 -  0.01 - 2018-10-13 01:53:19.700000\n",
      " 46.16 -  0.32 - 2018-10-06 05:00:23\n",
      "  2.20 -  0.05 - 2018-10-02 17:34:52\n",
      "  0.03 -  0.51 - 2018-10-03 07:49:24.300000\n",
      " 33.04 -  0.14 - 2018-10-24 16:18:22.700000\n",
      "  3.60 -  0.03 - 2018-09-27 22:02:07.300000\n",
      " 76.36 -  0.22 - 2018-10-11 08:27:02.200000\n",
      " 52.84 -  0.02 - 2018-10-18 12:57:25.900000\n",
      " 68.23 -  0.07 - 2018-09-29 12:38:38.400000\n",
      "124.08 -  0.11 - 2018-10-08 09:40:26.100000\n",
      " 75.90 -  0.06 - 2018-10-05 06:55:34.200000\n",
      "  1.40 -  0.14 - 2018-10-11 05:30:16.600000\n",
      " 84.44 -  0.08 - 2018-09-30 22:32:53.100000\n",
      " 32.16 -  1.32 - 2018-10-02 00:33:58.100000\n",
      "512.91 -  0.09 - 2018-10-02 09:33:59.900000\n",
      "  1.20 -  0.08 - 2018-10-05 18:31:11.600000\n",
      "122.44 -  0.22 - 2018-10-15 08:34:16\n",
      " 15.87 -  0.07 - 2018-10-05 23:42:03.900000\n",
      "  0.17 -  0.40 - 2018-10-04 22:57:25.800000\n",
      "524.38 -  0.03 - 2018-10-07 05:29:34.400000\n",
      "  0.03 -  0.04 - 2018-10-01 23:44:08.200000\n",
      " 33.32 -  0.23 - 2018-10-02 08:07:09.500000\n",
      " 28.36 -  0.37 - 2018-10-06 12:38:03\n",
      "239.55 -  0.07 - 2018-10-03 00:49:35.600000\n",
      " 30.26 -  0.15 - 2018-10-02 18:57:57.800000\n",
      "130.45 -  0.07 - 2018-10-08 23:21:58.200000\n",
      "  8.96 -  0.04 - 2018-10-05 12:05:26.300000\n",
      " 24.81 -  0.08 - 2018-10-08 23:29:35.100000\n",
      " 93.90 -  0.12 - 2018-10-01 02:17:39.600000\n",
      " 74.17 -  0.72 - 2018-10-07 07:03:12.800000\n",
      "  2.16 -  0.44 - 2018-10-11 10:22:04.500000\n",
      "339.66 -  0.18 - 2018-10-02 15:55:51.500000\n",
      "  0.75 -  0.11 - 2018-10-06 06:36:50.300000\n",
      " 67.26 -  0.42 - 2018-10-04 09:12:01.400000\n",
      "  8.96 -  0.04 - 2018-10-01 02:47:52.300000\n",
      " 34.73 -  0.18 - 2018-09-29 12:43:55.800000\n",
      "  0.27 -  0.23 - 2018-10-01 20:40:10.800000\n",
      " 59.68 -  0.05 - 2018-10-02 01:22:19.400000\n",
      "  2.58 -  0.12 - 2018-10-06 01:53:01.600000\n",
      "203.24 -  0.27 - 2018-09-29 02:57:03\n",
      "  0.00 -  0.14 - 2018-10-07 02:43:02.100000\n",
      " 14.53 -  0.12 - 2018-10-01 01:02:19.200000\n",
      " 10.14 -  0.47 - 2018-10-05 15:33:14.800000\n",
      "163.83 -  0.22 - 2018-10-15 20:05:07.200000\n",
      "637.96 -  0.31 - 2018-10-02 00:52:53.300000\n",
      "  4.32 -  0.10 - 2018-10-07 03:31:29.300000\n",
      "  5.50 -  0.36 - 2018-10-05 19:01:37.800000\n",
      "  2.94 -  0.10 - 2018-10-01 21:07:55\n",
      "170.86 -  0.50 - 2018-10-11 20:49:52.400000\n",
      "  3.25 -  0.43 - 2018-10-07 04:25:18.400000\n",
      " 94.64 -  0.14 - 2018-10-02 08:26:39.200000\n",
      " 57.49 -  0.11 - 2018-10-15 07:44:58.800000\n",
      " 27.25 -  0.38 - 2018-10-01 15:26:14.500000\n",
      " 23.95 -  0.03 - 2018-10-01 14:14:29.200000\n",
      " 13.16 -  0.01 - 2018-09-29 01:40:09.800000\n",
      " 31.58 -  0.08 - 2018-10-03 01:55:09.300000\n",
      " 25.80 -  0.06 - 2018-10-08 10:06:37.800000\n",
      "  1.26 -  0.10 - 2018-10-04 14:04:28.300000\n",
      "  7.87 -  0.04 - 2018-10-02 19:53:08.200000\n",
      "  2.31 -  0.08 - 2018-09-28 12:19:28.500000\n",
      " 69.21 -  0.23 - 2018-10-02 16:22:07.100000\n",
      " 37.20 -  0.46 - 2018-10-06 04:47:14.300000\n",
      " 85.55 -  0.22 - 2018-10-03 03:33:36.500000\n",
      "  0.01 -  0.22 - 2018-10-01 17:49:35.600000\n",
      " 95.07 -  0.09 - 2018-10-10 06:11:20.700000\n",
      "  7.25 -  0.36 - 2018-10-15 20:47:52.700000\n",
      "107.32 -  0.33 - 2018-10-03 06:33:39.300000\n",
      "188.28 -  0.19 - 2018-10-06 21:41:28.900000\n",
      "  0.93 -  0.12 - 2018-09-27 15:09:05.300000\n",
      " 30.89 -  0.07 - 2018-10-01 20:43:07.300000\n",
      "  4.37 -  0.14 - 2018-10-10 04:03:10.100000\n",
      " 59.96 -  0.14 - 2018-10-15 08:09:31.300000\n",
      "  4.68 -  0.11 - 2018-10-27 02:01:03.700000\n",
      " 40.19 -  0.03 - 2018-10-08 02:42:47.400000\n",
      "  0.62 -  0.27 - 2018-10-09 22:05:43.700000\n",
      "340.10 -  0.27 - 2018-10-04 06:07:09.600000\n",
      "  0.47 -  0.34 - 2018-10-13 02:59:20.500000\n",
      " 18.10 -  0.05 - 2018-10-07 09:05:33.500000\n",
      "  3.60 -  1.41 - 2018-10-05 00:23:57.500000\n",
      "381.82 -  1.33 - 2018-10-10 19:34:16.300000\n",
      "  6.68 -  0.03 - 2018-10-08 05:26:26.400000\n",
      "  2.74 -  0.21 - 2018-10-02 07:20:15.100000\n",
      "261.31 -  0.17 - 2018-10-02 10:22:54.200000\n",
      "109.95 -  0.20 - 2018-10-03 08:12:35.600000\n",
      " 28.51 -  0.06 - 2018-10-09 21:24:13.100000\n",
      "378.78 -  0.05 - 2018-10-06 02:53:40.100000\n",
      "240.69 -  0.14 - 2018-10-02 14:11:53.100000\n",
      "108.60 -  0.15 - 2018-10-07 01:40:52.600000\n",
      " 88.35 -  0.19 - 2018-10-12 11:06:47.700000\n",
      "110.88 -  0.08 - 2018-10-04 12:20:32.100000\n",
      " 53.61 -  0.02 - 2018-10-08 09:03:21.500000\n",
      " 73.67 -  0.78 - 2018-10-02 02:37:13.800000\n",
      "  0.51 -  0.16 - 2018-10-02 19:45:18.100000\n",
      " 14.62 -  0.08 - 2018-10-15 23:52:42\n",
      "  9.37 -  0.12 - 2018-09-28 04:11:08.300000\n",
      "151.22 -  0.26 - 2018-10-03 03:02:01.400000\n",
      " 30.56 -  0.32 - 2018-10-04 04:08:45.200000\n",
      " 44.83 -  0.03 - 2018-10-03 03:37:09.300000\n",
      "160.83 -  0.28 - 2018-10-10 06:21:28.900000\n",
      "  1.56 -  0.22 - 2018-10-03 16:47:05.200000\n",
      " 33.53 -  0.02 - 2018-10-06 06:10:30.200000\n",
      " 27.14 -  0.06 - 2018-10-02 08:09:20\n",
      "  4.19 -  0.53 - 2018-10-07 09:35:34.500000\n",
      "  6.66 -  0.32 - 2018-10-01 08:03:09.400000\n",
      "  5.15 -  0.13 - 2018-10-01 14:48:59.500000\n",
      " 55.95 -  0.30 - 2018-10-01 22:48:34.700000\n",
      "133.09 -  0.16 - 2018-10-02 11:08:48\n",
      "  7.65 -  0.24 - 2018-10-14 13:26:51.200000\n",
      " 17.03 -  0.14 - 2018-10-24 18:44:13.500000\n",
      " 19.05 -  0.19 - 2018-10-27 16:30:51\n",
      " 42.31 -  0.35 - 2018-09-27 22:21:02.800000\n",
      " 95.98 -  0.11 - 2018-10-02 16:09:43.700000\n",
      "370.29 -  0.10 - 2018-10-01 03:52:02.200000\n",
      " 21.13 -  0.15 - 2018-10-06 19:08:52.500000\n",
      " 31.06 -  0.25 - 2018-10-07 06:24:09.700000\n",
      "165.27 -  0.17 - 2018-10-06 17:03:04.300000\n",
      " 22.24 -  0.22 - 2018-10-02 12:35:03.600000\n",
      " 67.64 -  0.21 - 2018-10-14 06:13:23.800000\n",
      " 18.52 -  0.20 - 2018-10-01 04:47:38\n",
      " 61.71 -  0.16 - 2018-10-15 07:39:23.900000\n",
      "158.94 -  0.08 - 2018-10-07 07:33:11\n",
      " 54.64 -  0.07 - 2018-09-28 06:34:18.900000\n",
      " 75.33 -  0.14 - 2018-10-07 13:09:07.800000\n",
      " 74.02 -  0.22 - 2018-09-30 22:51:01.200000\n",
      " 11.09 -  0.28 - 2018-10-02 14:43:13.900000\n",
      "  6.55 -  0.03 - 2018-09-28 10:20:12.200000\n",
      "  9.13 -  0.18 - 2018-10-15 06:42:23.700000\n",
      " 20.43 -  0.16 - 2018-10-07 08:54:24.300000\n",
      " 68.84 -  0.22 - 2018-10-05 09:27:46.600000\n",
      "  2.45 -  0.39 - 2018-09-30 16:04:10\n",
      "  1.27 -  0.02 - 2018-10-01 10:35:39.200000\n",
      " 24.28 -  0.16 - 2018-10-01 02:01:19.200000\n",
      "185.11 -  0.47 - 2018-10-07 11:16:17\n",
      " 12.18 -  0.29 - 2018-10-02 16:25:08.600000\n",
      "327.86 -  0.11 - 2018-10-05 15:40:06.900000\n",
      "  6.25 -  0.54 - 2018-10-07 05:41:48.700000\n",
      "  4.60 -  0.60 - 2018-10-02 00:05:05.500000\n",
      "  0.35 -  0.24 - 2018-10-12 12:20:30.300000\n",
      "  2.36 -  0.18 - 2018-10-15 11:32:20.900000\n",
      "334.34 -  0.31 - 2018-10-02 00:21:50.200000\n",
      "  6.56 -  0.14 - 2018-10-04 12:39:05.300000\n",
      "  2.62 -  1.22 - 2018-10-09 18:06:28.600000\n",
      "140.77 -  0.41 - 2018-10-01 07:23:03.600000\n",
      " 23.11 -  0.14 - 2018-10-12 20:31:15.900000\n",
      " 64.59 -  0.03 - 2018-10-04 23:06:23.400000\n",
      " 48.87 -  0.24 - 2018-10-16 03:32:09.700000\n",
      " 10.80 -  0.02 - 2018-10-03 20:27:34.800000\n",
      " 54.86 -  0.08 - 2018-10-12 11:18:39\n",
      " 88.48 -  0.20 - 2018-10-02 08:50:48.700000\n",
      "  0.04 -  0.48 - 2018-10-01 20:45:38.800000\n",
      " 97.82 -  0.10 - 2018-10-02 21:35:59.700000\n",
      "161.78 -  0.25 - 2018-10-02 14:15:57.300000\n",
      "  0.21 -  0.30 - 2018-10-02 19:57:17.300000\n",
      " 67.12 -  0.16 - 2018-10-02 08:48:03.500000\n",
      " 54.68 -  0.03 - 2018-10-03 04:11:41.100000\n",
      " 82.79 -  0.11 - 2018-09-28 05:56:09.700000\n",
      "237.28 -  0.18 - 2018-10-05 17:58:47.900000\n",
      " 11.10 -  0.08 - 2018-10-01 02:11:06.700000\n",
      " 32.91 -  0.03 - 2018-10-02 14:24:55.400000\n",
      "111.88 -  0.14 - 2018-10-14 06:50:55.800000\n",
      "114.58 -  0.10 - 2018-10-04 13:02:13.200000\n",
      "  0.58 -  0.19 - 2018-10-01 03:29:47.900000\n",
      "107.47 -  0.28 - 2018-09-30 16:05:44.500000\n",
      "355.55 -  0.33 - 2018-10-24 22:13:04.500000\n",
      "  9.87 -  0.03 - 2018-10-03 03:13:56\n",
      " 11.39 -  0.28 - 2018-10-01 03:11:08.100000\n",
      "  0.76 -  0.37 - 2018-10-18 13:18:08.900000\n",
      " 30.58 -  0.08 - 2018-10-01 01:14:33.900000\n",
      " 63.06 -  0.29 - 2018-10-03 23:09:35.500000\n",
      " 11.06 -  0.17 - 2018-10-01 04:33:17.200000\n",
      " 11.70 -  0.20 - 2018-10-14 14:19:47.200000\n",
      " 10.51 -  0.17 - 2018-09-28 05:25:24.300000\n",
      " 49.79 -  0.37 - 2018-10-07 00:51:26.100000\n",
      "  5.55 -  0.45 - 2018-10-18 21:56:22.400000\n",
      "511.32 -  0.25 - 2018-10-13 10:30:34.900000\n",
      " 16.36 -  0.28 - 2018-10-01 15:06:06.700000\n",
      " 13.50 -  0.06 - 2018-10-04 05:29:51.100000\n",
      " 35.10 -  0.09 - 2018-10-05 09:54:38.800000\n",
      "  0.80 -  0.04 - 2018-10-02 20:20:36.100000\n",
      " 18.47 -  0.16 - 2018-09-28 08:11:55.700000\n",
      "  1.39 -  0.20 - 2018-10-05 06:34:02.600000\n",
      " 81.28 -  0.12 - 2018-10-05 11:51:29.700000\n",
      " 85.04 -  0.22 - 2018-10-17 05:09:17.200000\n",
      " 41.67 -  0.27 - 2018-10-08 00:11:56.500000\n",
      " 13.55 -  0.21 - 2018-10-04 13:48:21\n",
      " 76.18 -  0.04 - 2018-09-28 05:44:26.800000\n",
      " 48.32 -  0.04 - 2018-10-06 20:45:58.500000\n",
      "  1.13 -  0.12 - 2018-10-02 11:27:36\n",
      "182.11 -  0.26 - 2018-10-09 22:01:19.700000\n",
      "107.94 -  0.45 - 2018-09-30 14:34:41.700000\n",
      "  0.17 -  0.09 - 2018-10-03 16:35:35.600000\n",
      "  0.05 -  0.18 - 2018-09-28 21:02:40\n",
      "530.33 -  0.24 - 2018-10-25 05:26:58.600000\n",
      " 88.54 -  0.06 - 2018-10-02 00:43:50.300000\n",
      "  5.00 -  0.26 - 2018-10-05 01:18:51.500000\n",
      "  5.10 -  0.29 - 2018-10-08 10:13:26\n",
      "  7.02 -  0.42 - 2018-10-14 01:20:19\n",
      " 24.61 -  0.12 - 2018-10-27 03:17:23.200000\n",
      " 75.79 -  0.21 - 2018-10-01 08:54:29.400000\n",
      " 14.36 -  0.13 - 2018-10-17 08:04:42.300000\n",
      "210.34 -  0.39 - 2018-10-02 13:53:06.800000\n",
      "102.12 -  0.14 - 2018-10-02 22:50:32.300000\n",
      "  8.49 -  0.07 - 2018-10-01 18:27:06.800000\n",
      " 29.61 -  0.38 - 2018-10-10 17:22:54.200000\n",
      " 35.70 -  0.09 - 2018-10-01 06:44:34.200000\n",
      "  0.03 -  0.15 - 2018-10-01 02:38:06.400000\n",
      " 18.88 -  0.06 - 2018-10-18 22:53:20.600000\n",
      " 11.81 -  0.10 - 2018-09-27 14:40:46.700000\n",
      " 36.63 -  0.14 - 2018-10-04 18:53:26.500000\n",
      " 31.48 -  0.16 - 2018-10-06 21:30:46.900000\n",
      " 20.81 -  0.11 - 2018-10-11 10:29:07.300000\n",
      " 12.65 -  0.31 - 2018-10-07 02:16:48.900000\n",
      " 51.27 -  0.04 - 2018-09-28 05:01:51\n",
      " 29.03 -  0.45 - 2018-10-14 15:12:52\n",
      "257.75 -  0.13 - 2018-10-08 07:37:00.900000\n",
      "142.98 -  0.06 - 2018-10-01 01:46:12.700000\n",
      "  3.72 -  0.26 - 2018-09-30 20:41:26\n",
      "  8.40 -  0.27 - 2018-10-02 01:25:27.600000\n",
      "  5.40 -  0.19 - 2018-10-08 08:44:40.400000\n",
      "250.22 -  0.16 - 2018-09-30 19:51:05.200000\n",
      " 10.43 -  0.06 - 2018-09-30 23:15:45.800000\n",
      " 74.86 -  0.34 - 2018-10-06 00:54:20\n",
      " 41.04 -  0.11 - 2018-09-29 15:19:14.400000\n",
      "225.37 -  0.22 - 2018-10-02 09:52:55\n",
      " 17.58 -  0.21 - 2018-10-03 02:45:45.100000\n",
      " 58.39 -  0.18 - 2018-10-01 04:42:40.300000\n",
      "211.15 -  0.59 - 2018-10-07 10:42:28.600000\n",
      "  3.99 -  0.60 - 2018-10-27 07:10:42.100000\n",
      " 62.16 -  0.35 - 2018-09-29 17:07:42.900000\n",
      " 42.41 -  0.56 - 2018-10-02 05:05:19.800000\n",
      " 14.90 -  0.14 - 2018-10-02 10:38:24.700000\n",
      "  1.50 -  0.64 - 2018-10-18 05:11:26.900000\n",
      " 32.72 -  0.10 - 2018-10-01 06:09:59.500000\n",
      "  4.46 -  0.23 - 2018-10-08 05:33:24.600000\n",
      "183.45 -  0.23 - 2018-10-01 07:26:03.100000\n",
      "280.85 -  0.23 - 2018-10-04 07:25:04.300000\n",
      "  3.58 -  0.51 - 2018-10-10 03:17:35.500000\n",
      "130.40 -  0.43 - 2018-10-09 12:52:51.100000\n",
      "140.43 -  0.10 - 2018-10-27 03:27:02.200000\n",
      "  2.59 -  0.08 - 2018-10-02 00:26:23\n",
      "223.40 -  0.06 - 2018-10-01 18:22:28.700000\n",
      " 62.91 -  0.05 - 2018-10-01 05:20:47\n",
      "  1.08 -  0.20 - 2018-10-03 14:35:31.100000\n",
      "  4.35 -  0.05 - 2018-09-28 11:08:01.500000\n",
      "  8.99 -  0.04 - 2018-09-28 01:58:17.700000\n",
      "  5.41 -  0.16 - 2018-10-02 04:30:30.800000\n",
      " 88.84 -  0.19 - 2018-10-01 01:13:13.400000\n",
      "  0.57 -  0.25 - 2018-10-06 06:31:05.400000\n",
      " 61.72 -  0.48 - 2018-10-07 04:22:34.700000\n",
      "  5.14 -  0.17 - 2018-10-17 17:38:34.500000\n",
      " 91.40 -  0.20 - 2018-10-02 18:09:18.100000\n",
      " 25.06 -  0.05 - 2018-10-08 04:22:59.100000\n",
      "  3.47 -  0.26 - 2018-10-04 03:09:22.100000\n",
      "101.09 -  0.05 - 2018-10-07 04:18:17.800000\n",
      " 15.97 -  0.13 - 2018-10-02 16:05:34.700000\n",
      " 27.03 -  0.17 - 2018-09-30 03:56:47.900000\n",
      " 16.88 -  0.06 - 2018-10-09 15:16:43.600000\n",
      " 82.34 -  0.03 - 2018-10-02 01:59:08.400000\n",
      " 34.63 -  0.26 - 2018-10-08 14:59:16.600000\n",
      "178.81 -  0.23 - 2018-10-05 07:44:54.300000\n",
      "  3.46 -  0.42 - 2018-10-01 04:38:32.400000\n",
      " 13.65 -  0.16 - 2018-10-14 17:45:00.200000\n",
      " 20.93 -  0.11 - 2018-10-06 23:19:34.800000\n",
      " 78.36 -  0.22 - 2018-10-06 01:54:35.900000\n",
      "296.59 -  0.54 - 2018-10-05 12:01:47.300000\n",
      "201.83 -  0.21 - 2018-10-06 21:24:59\n",
      " 41.45 -  0.27 - 2018-09-30 22:21:07.500000\n",
      " 17.06 -  1.25 - 2018-10-03 01:12:25.300000\n",
      " 19.50 -  0.19 - 2018-10-04 05:28:05\n",
      "139.70 -  0.76 - 2018-10-07 01:04:28.800000\n",
      " 39.63 -  0.34 - 2018-10-07 20:22:15.900000\n",
      " 57.53 -  0.27 - 2018-10-04 04:27:38.900000\n",
      "186.18 -  0.30 - 2018-10-17 11:30:29\n",
      "206.74 -  0.19 - 2018-10-04 22:55:34.700000\n",
      " 23.07 -  0.52 - 2018-10-16 17:30:24.300000\n",
      "258.50 -  0.35 - 2018-10-05 02:48:03.300000\n",
      "175.70 -  0.14 - 2018-10-07 09:23:20.600000\n",
      "  7.43 -  0.21 - 2018-10-01 23:17:44.400000\n",
      "173.34 -  0.14 - 2018-10-04 12:15:52.600000\n",
      "  1.72 -  0.09 - 2018-10-03 07:57:08.900000\n",
      "  3.03 -  0.27 - 2018-10-04 02:55:55.100000\n",
      " 61.12 -  0.21 - 2018-10-14 06:26:54.700000\n",
      "110.86 -  0.05 - 2018-10-01 01:04:29.400000\n",
      "  0.04 -  0.21 - 2018-10-01 04:57:45.700000\n",
      " 24.80 -  0.45 - 2018-10-07 11:50:48\n",
      "  3.34 -  0.19 - 2018-10-05 19:43:14.400000\n",
      " 85.78 -  0.09 - 2018-10-02 12:39:03.800000\n",
      "  6.13 -  0.15 - 2018-09-30 18:15:29.600000\n",
      " 19.60 -  0.08 - 2018-10-01 03:42:19.500000\n",
      " 11.21 -  0.04 - 2018-09-28 06:10:43.200000\n",
      " 53.46 -  0.20 - 2018-10-07 06:29:32.200000\n",
      "  9.82 -  0.84 - 2018-10-08 16:47:21.500000\n",
      "101.12 -  0.15 - 2018-10-02 13:47:48.200000\n",
      " 10.03 -  0.09 - 2018-10-01 05:27:37.800000\n",
      "  8.36 -  0.04 - 2018-10-09 09:13:21.900000\n",
      "  9.01 -  0.15 - 2018-10-14 14:41:59.900000\n",
      " 33.17 -  0.08 - 2018-10-26 18:44:08.600000\n",
      "  0.45 -  0.07 - 2018-09-28 08:25:42.900000\n",
      " 31.42 -  0.06 - 2018-10-05 19:25:11.700000\n",
      " 10.20 -  0.09 - 2018-10-16 15:10:10.900000\n",
      " 54.30 -  0.05 - 2018-10-02 18:44:37.200000\n",
      " 58.53 -  0.11 - 2018-10-01 07:28:42.800000\n",
      " 54.83 -  0.08 - 2018-10-03 08:00:42.800000\n",
      "  7.94 -  0.47 - 2018-10-03 16:32:15.900000\n",
      " 27.47 -  0.06 - 2018-10-19 21:16:15.300000\n",
      "  2.21 -  0.11 - 2018-10-03 09:39:22\n",
      " 18.96 -  0.23 - 2018-10-01 10:11:32.500000\n",
      " 21.89 -  0.11 - 2018-10-01 14:53:13.800000\n",
      "156.50 -  0.16 - 2018-10-02 21:48:17.400000\n",
      " 19.52 -  0.29 - 2018-10-07 11:58:35.900000\n",
      " 29.79 -  0.12 - 2018-10-01 01:08:47.500000\n",
      " 12.17 -  0.03 - 2018-09-30 11:52:36\n",
      "561.39 -  0.21 - 2018-10-06 12:25:40\n",
      "  0.48 -  0.12 - 2018-10-01 15:20:40.300000\n",
      "  0.04 -  0.24 - 2018-10-07 03:39:28.600000\n",
      "163.74 -  0.43 - 2018-09-30 10:41:48.900000\n",
      " 47.60 -  0.20 - 2018-10-02 08:12:54.100000\n",
      " 31.38 -  0.27 - 2018-10-18 21:50:01.800000\n",
      " 21.13 -  0.09 - 2018-10-01 00:57:01.200000\n",
      " 94.72 -  0.26 - 2018-10-01 19:43:51.500000\n",
      " 54.17 -  0.20 - 2018-10-04 16:29:00.900000\n",
      " 87.13 -  0.15 - 2018-10-06 22:14:05.200000\n",
      "202.44 -  0.18 - 2018-10-02 09:22:55.200000\n",
      "  0.48 -  0.30 - 2018-10-02 02:40:04\n",
      " 26.85 -  0.86 - 2018-10-09 17:59:53.300000\n",
      "438.68 -  0.10 - 2018-09-28 17:48:11.400000\n",
      " 24.39 -  0.41 - 2018-10-09 13:01:07.900000\n",
      "  6.19 -  0.08 - 2018-10-02 15:33:53.100000\n",
      " 25.51 -  0.21 - 2018-10-01 05:47:20.700000\n",
      "  0.78 -  0.09 - 2018-10-01 11:41:50.400000\n",
      " 42.43 -  0.13 - 2018-10-08 10:28:53.200000\n",
      "  7.50 -  0.30 - 2018-10-26 21:29:49.200000\n",
      " 72.18 -  0.05 - 2018-10-08 06:55:37.300000\n",
      "319.26 -  0.23 - 2018-10-01 07:49:01\n",
      "  1.02 -  1.09 - 2018-10-15 20:15:23.300000\n",
      "  9.75 -  0.10 - 2018-10-12 00:57:07.400000\n",
      "  8.91 -  0.04 - 2018-09-28 07:39:10.800000\n",
      "147.97 -  0.17 - 2018-10-06 23:16:32.700000\n",
      " 32.81 -  0.07 - 2018-09-30 04:42:50.900000\n",
      " 82.96 -  0.40 - 2018-10-03 00:00:29.900000\n",
      "206.78 -  0.31 - 2018-10-11 16:19:22.400000\n",
      " 75.71 -  0.18 - 2018-10-06 05:01:42.900000\n",
      "  4.94 -  0.42 - 2018-09-28 10:39:34.600000\n",
      "  3.63 -  0.79 - 2018-10-02 13:16:41.100000\n",
      " 10.65 -  0.11 - 2018-09-28 06:56:17.200000\n",
      " 69.05 -  0.25 - 2018-10-01 07:08:44.300000\n",
      "  2.95 -  0.07 - 2018-09-28 15:36:49.200000\n",
      " 39.28 -  0.41 - 2018-10-02 18:54:24.100000\n",
      " 84.85 -  0.07 - 2018-10-06 04:57:56\n",
      " 61.25 -  0.23 - 2018-10-02 16:39:46.700000\n",
      " 12.79 -  0.23 - 2018-10-03 17:30:42.400000\n",
      "  6.84 -  0.04 - 2018-10-01 00:51:58.100000\n",
      " 36.14 -  0.07 - 2018-10-04 12:17:53.600000\n",
      "  0.15 -  0.11 - 2018-10-01 03:49:44.100000\n",
      "270.36 -  0.20 - 2018-10-02 01:15:31.400000\n",
      " 73.04 -  0.04 - 2018-10-01 04:26:26.700000\n",
      " 63.39 -  0.19 - 2018-10-19 00:49:12.700000\n",
      "  8.47 -  0.18 - 2018-10-10 05:49:24.100000\n",
      "  1.25 -  0.23 - 2018-10-01 23:30:56.300000\n",
      "  5.60 -  0.39 - 2018-10-06 01:26:16\n",
      "  2.66 -  0.22 - 2018-10-10 13:28:45.800000\n",
      "  8.75 -  0.02 - 2018-09-27 14:02:37.200000\n",
      "  0.55 -  0.13 - 2018-10-06 05:20:28.200000\n",
      "578.26 -  0.28 - 2018-10-03 11:45:54.800000\n",
      " 73.90 -  0.11 - 2018-09-30 06:07:42.700000\n",
      "171.92 -  0.33 - 2018-10-06 02:59:39.700000\n",
      " 87.55 -  0.15 - 2018-10-01 09:12:19.700000\n",
      "277.68 -  0.08 - 2018-10-03 22:18:26.500000\n",
      " 23.89 -  0.13 - 2018-10-02 19:18:13.600000\n",
      "  8.73 -  0.06 - 2018-09-27 14:05:12.400000\n",
      "227.50 -  0.47 - 2018-10-01 21:11:33.700000\n",
      "  0.28 -  0.32 - 2018-10-04 16:40:12.400000\n",
      " 62.04 -  0.28 - 2018-10-02 15:53:13\n",
      "114.79 -  0.20 - 2018-10-09 11:04:02.800000\n",
      "  2.96 -  0.40 - 2018-10-07 04:42:02.700000\n",
      " 25.66 -  0.05 - 2018-09-28 00:25:33.900000\n",
      "101.88 -  0.06 - 2018-10-01 02:20:02.800000\n",
      "133.54 -  0.25 - 2018-09-30 17:00:23.500000\n",
      "  0.43 -  0.36 - 2018-10-05 11:09:33.600000\n",
      "102.41 -  0.23 - 2018-10-02 01:47:29.900000\n",
      " 52.11 -  0.07 - 2018-10-01 22:43:40.500000\n",
      "141.26 -  0.27 - 2018-10-10 17:00:14.200000\n",
      "138.05 -  0.27 - 2018-10-05 16:43:18.500000\n",
      " 48.47 -  0.20 - 2018-10-04 03:43:33.100000\n",
      " 27.61 -  0.14 - 2018-10-07 12:23:58.900000\n",
      "  1.80 -  0.11 - 2018-10-05 05:16:19.100000\n",
      " 48.26 -  0.04 - 2018-09-28 16:05:45\n",
      " 87.15 -  0.02 - 2018-10-01 12:10:53.900000\n",
      " 72.90 -  0.13 - 2018-10-03 04:38:33.200000\n",
      " 20.39 -  0.04 - 2018-10-05 06:15:24.300000\n",
      " 54.87 -  0.27 - 2018-10-01 04:14:28.400000\n",
      " 63.15 -  0.43 - 2018-10-08 13:25:10.100000\n",
      " 50.01 -  0.16 - 2018-10-03 02:37:57.900000\n",
      " 36.74 -  0.13 - 2018-10-14 07:41:18.200000\n",
      " 60.12 -  0.20 - 2018-10-06 10:24:50.800000\n",
      "  5.29 -  0.15 - 2018-10-01 23:56:37.700000\n",
      "131.76 -  0.18 - 2018-10-09 11:37:20\n",
      " 89.96 -  0.04 - 2018-10-02 01:35:09.800000\n",
      "  0.50 -  0.29 - 2018-10-13 05:40:45.500000\n",
      "  1.04 -  0.24 - 2018-10-09 22:11:09\n",
      "  2.26 -  0.02 - 2018-10-10 05:34:17.400000\n",
      "  3.14 -  0.07 - 2018-10-14 13:09:29.900000\n",
      "112.29 -  0.04 - 2018-10-01 01:51:49.500000\n",
      " 37.67 -  0.15 - 2018-10-01 03:38:04.600000\n",
      " 78.99 -  0.14 - 2018-10-06 09:02:42.800000\n",
      "  0.75 -  0.10 - 2018-10-07 16:51:16\n",
      " 12.39 -  0.27 - 2018-10-05 22:10:32.700000\n",
      "294.60 -  0.26 - 2018-10-04 22:17:56\n",
      "  2.12 -  0.11 - 2018-09-30 23:43:27.400000\n",
      "  8.19 -  0.11 - 2018-09-30 08:01:53.700000\n",
      "  0.20 -  0.13 - 2018-10-17 14:46:55\n",
      " 45.06 -  0.08 - 2018-10-01 03:27:42.900000\n",
      " 84.66 -  0.10 - 2018-10-01 01:50:58.500000\n",
      "413.48 -  0.12 - 2018-10-04 04:44:27.300000\n",
      "323.87 -  0.07 - 2018-10-05 09:19:14.300000\n",
      "  0.28 -  0.08 - 2018-10-21 02:03:14.600000\n",
      "168.43 -  0.23 - 2018-10-04 14:19:06.500000\n",
      "  0.83 -  0.15 - 2018-10-06 07:09:16.700000\n",
      " 82.20 -  0.25 - 2018-09-30 23:09:33.500000\n",
      " 34.25 -  0.07 - 2018-10-12 17:08:22.600000\n",
      " 49.97 -  0.10 - 2018-10-07 03:00:22.500000\n",
      " 47.96 -  0.14 - 2018-10-03 06:05:41.400000\n",
      "1944\n"
     ]
    }
   ],
   "execution_count": 126
  },
  {
   "metadata": {
    "ExecuteTime": {
     "end_time": "2024-09-30T17:25:23.310530Z",
     "start_time": "2024-09-30T17:25:23.018092Z"
    }
   },
   "cell_type": "code",
   "source": [
    "from matplotlib import pyplot as plt\n",
    "\n",
    "plt.scatter(costs.values(), diffs.values())"
   ],
   "id": "cb07f8c60ec92f98",
   "outputs": [
    {
     "data": {
      "text/plain": [
       "<matplotlib.collections.PathCollection at 0x7b832ffa2fe0>"
      ]
     },
     "execution_count": 127,
     "metadata": {},
     "output_type": "execute_result"
    },
    {
     "data": {
      "text/plain": [
       "<Figure size 640x480 with 1 Axes>"
      ],
      "image/png": "[encoded data removed]"
     },
     "metadata": {},
     "output_type": "display_data"
    }
   ],
   "execution_count": 127
  },
  {
   "metadata": {
    "ExecuteTime": {
     "end_time": "2024-09-30T17:02:27.450590Z",
     "start_time": "2024-09-30T17:02:27.203259Z"
    }
   },
   "cell_type": "code",
   "source": [
    "np.save(\"costs.npy\", locs)\n",
    "res = \"\"\n",
    "for loc in locs.values():\n",
    "    if loc.cost<100:\n",
    "        res += str(loc.x[1])+\",\"+str(loc.x[2])+\"\\n\"\n",
    "with open(\"relocated.csv\", \"w\") as f:\n",
    "    f.write(res)"
   ],
   "id": "3940fff105ed875b",
   "outputs": [],
   "execution_count": 122
  },
  {
   "metadata": {
    "ExecuteTime": {
     "end_time": "2024-10-01T06:54:30.494486Z",
     "start_time": "2024-10-01T06:54:30.485395Z"
    }
   },
   "cell_type": "code",
   "source": [
    "d = {i : diff for i, diff in diffs.items() if costs[i] < 50}\n",
    "\n",
    "worst = list(d.keys())[np.argmax(list(d.values()))]\n",
    "print(worst, diffs[worst], costs[worst])\n",
    "print(expected_locs[worst], locs[worst].x)"
   ],
   "id": "19c6e11dbd9429e3",
   "outputs": [
    {
     "name": "stdout",
     "output_type": "stream",
     "text": [
      "2018-10-14 16:18:55.800000 2.732425239361186 30.551576122966225\n",
      "[datetime.datetime(2018, 10, 14, 16, 18, 55, 800000), -26.740047, 67.925438] [-743.55261366  -24.54474451   66.29854075]\n"
     ]
    }
   ],
   "execution_count": 136
  },
  {
   "metadata": {
    "ExecuteTime": {
     "end_time": "2024-09-30T17:39:27.638866Z",
     "start_time": "2024-09-30T17:39:26.918402Z"
    }
   },
   "cell_type": "code",
   "source": [
    "for pick in picks.picks:\n",
    "    if pick.est_source_time != worst:\n",
    "        continue\n",
    "    expected_det_stations = [input.hydrophone_names[input.hydrophone_letters.index(h)] for h in pick.hydrophones]\n",
    "    print(expected_det_stations, pick.detection_times)\n",
    "    if \"SWAMS\" in expected_det_stations:\n",
    "        expected_det_stations[expected_det_stations.index(\"SWAMS\")] += \"-bot\"\n",
    "    expected_det_stations = [stations_c.by_date(pick.detection_times[i]).by_names(expected_det_stations[i])[0] for i in range(len(expected_det_stations))]\n",
    "   # expected_det_dates =  {expected_det_stations[i] : pick.detection_times[i] for i in range(len(expected_det_stations))}\n",
    "    expected_det_dates =  {s : pick.est_source_time + datetime.timedelta(seconds=sound_model_g.get_sound_travel_time(pick.est_source_pos,s.get_pos(), date=pick.est_source_time)) for s in expected_det_stations}\n",
    "    observed_dets = {}\n",
    "    \n",
    "    for s in expected_det_stations:\n",
    "        idx = get_closest_detection(detections[s][:,0], expected_det_dates[s])\n",
    "        if np.abs(detections[s][idx,0] - expected_det_dates[s]).total_seconds() < 30:\n",
    "            observed_dets[s] = detections[s][idx]\n",
    "            \n",
    "    stations = list(observed_dets.keys())\n",
    "    if len(stations) < 4:\n",
    "        continue  # undetected\n",
    "    \n",
    "    det_times = {s: observed_dets[s][0] for s in stations}\n",
    "    \n",
    "    embedding_anchor = observed_dets[stations[0]][-1]\n",
    "    for s in stations[1:]:\n",
    "        shift = find_shift(embedding_anchor, observed_dets[s][-1])\n",
    "        print(shift)\n",
    "        det_times[s] += shift\n",
    "        \n",
    "    det_pos = [s.get_pos() for s in det_times.keys()]\n",
    "    det_times = list(det_times.values())\n",
    "    \n",
    "    print([s.name for s in stations], det_pos, det_times)\n",
    "    try:\n",
    "        r = sound_model_g.localize_common_source(det_pos, det_times)\n",
    "    except:\n",
    "        r = None"
   ],
   "id": "50877375ace873d7",
   "outputs": [
    {
     "name": "stdout",
     "output_type": "stream",
     "text": [
      "['SSEIR', 'MADW', 'NEAMS', 'SWAMS', 'ELAN'] [datetime.datetime(2018, 10, 14, 16, 28, 2, 275000), datetime.datetime(2018, 10, 14, 16, 34, 24, 867000), datetime.datetime(2018, 10, 14, 16, 36, 49, 50000), datetime.datetime(2018, 10, 14, 16, 40, 24, 207000), datetime.datetime(2018, 10, 14, 16, 56, 41, 125000)]\n",
      "-1 day, 23:59:52\n",
      "0:00:01\n",
      "0:00:01\n",
      "['SSEIR', 'NEAMS', 'SWAMS-bot', 'ELAN'] [[-33.5175, 70.8657], [-31.5758, 83.2423], [-42.9513, 74.5975], [-56.4602, 62.976]] [datetime.datetime(2018, 10, 14, 16, 28, 13, 760684), datetime.datetime(2018, 10, 14, 16, 36, 34, 427350), datetime.datetime(2018, 10, 14, 16, 40, 22, 957265), datetime.datetime(2018, 10, 14, 16, 56, 10, 299145)]\n"
     ]
    }
   ],
   "execution_count": 135
  },
  {
   "metadata": {},
   "cell_type": "code",
   "outputs": [],
   "execution_count": null,
   "source": "",
   "id": "c29ab7caf8cbf321"
  }
 ],
 "metadata": {
  "kernelspec": {
   "display_name": "Python 3",
   "language": "python",
   "name": "python3"
  },
  "language_info": {
   "codemirror_mode": {
    "name": "ipython",
    "version": 2
   },
   "file_extension": ".py",
   "mimetype": "text/x-python",
   "name": "python",
   "nbconvert_exporter": "python",
   "pygments_lexer": "ipython2",
   "version": "2.7.6"
  }
 },
 "nbformat": 4,
 "nbformat_minor": 5
}
