{
 "cells": [
  {
   "cell_type": "markdown",
   "source": [
    "This notebook enables to create datasets ready for test. It requires a .wav dataset, the .yaml file describing it and a .csv file giving annotations."
   ],
   "metadata": {
    "collapsed": false
   }
  },
  {
   "cell_type": "code",
   "execution_count": 49,
   "metadata": {
    "collapsed": true,
    "ExecuteTime": {
     "end_time": "2024-01-03T12:28:18.185488674Z",
     "start_time": "2024-01-03T12:28:18.167516364Z"
    }
   },
   "source": [
    "import datetime\n",
    "\n",
    "import numpy as np\n",
    "import yaml\n",
    "from tqdm import tqdm\n",
    "import csv\n",
    "from pathlib import Path\n",
    "\n",
    "from utils.data_reading.features_extractor import STFTFeaturesExtractor, RelativeDWTFeaturesExtractor, WaveformDataFeaturesExtractor\n",
    "from utils.data_reading.sound_file_manager import WavFilesManager"
   ],
   "outputs": []
  },
  {
   "cell_type": "markdown",
   "source": [
    "## Parameters"
   ],
   "metadata": {
    "collapsed": false
   }
  },
  {
   "cell_type": "code",
   "execution_count": 55,
   "source": [
    "yaml_path = \"path/to/yaml/file\"\n",
    "dataset = \"test_dataset_OHASISBIO\"  # test set we want to use, can also be \"test_dataset_HYDROMOMAR\" (see the yaml file)\n",
    "output_path = \"/path/to/created/dataset\"\n",
    "\n",
    "# half duration of each window\n",
    "delta_output = datetime.timedelta(seconds=50)\n",
    "\n",
    "# type of data that we want\n",
    "features_extractor = STFTFeaturesExtractor(None, vmin=-35, vmax=140)  # spectrograms generator\n",
    "#features_extractor = RelativeDWTFeaturesExtractor(None)  # DWT features generator\n",
    "#features_extractor = WaveformDataFeaturesExtractor(None, 1)  # waveforms generator"
   ],
   "metadata": {
    "collapsed": false,
    "ExecuteTime": {
     "end_time": "2024-01-03T13:02:28.635107857Z",
     "start_time": "2024-01-03T13:02:28.593282368Z"
    }
   },
   "outputs": []
  },
  {
   "cell_type": "markdown",
   "source": [
    "## Initialization"
   ],
   "metadata": {
    "collapsed": false
   }
  },
  {
   "cell_type": "code",
   "execution_count": 56,
   "source": [
    "with open(yaml_path, \"r\") as f:  # parameters of the dataset\n",
    "    params = yaml.load(f, Loader=yaml.BaseLoader)[dataset]\n",
    "prefix = f'{yaml_path}/{params[\"root_dir\"]}'  # path of the dataset root (where station directories are)\n",
    "stations = list(params[\"stations\"].keys())  # list of station names (like [\"ELAN\", \"MADE\",...])\n",
    "\n",
    "dataset_csv_path = f\"{prefix}/dataset.csv\"  # csv file that contains information about the .wav dataset\n",
    "test_dataset_csv_path = f\"{output_path}/dataset.csv\"  # csv file that will contain information about the created test dataset\n",
    "\n",
    "managers = {h : WavFilesManager(f\"{prefix}/{h}\") for h in stations}  # WavFilesManager enable to handle the .wav reading part\n",
    "\n",
    "Path(f\"{output_path}/positives\").mkdir(parents=True, exist_ok=True)\n",
    "Path(f\"{output_path}/negatives\").mkdir(parents=True, exist_ok=True)\n",
    "\n",
    "csv_data = []"
   ],
   "metadata": {
    "collapsed": false,
    "ExecuteTime": {
     "end_time": "2024-01-03T13:02:29.640577697Z",
     "start_time": "2024-01-03T13:02:29.593780833Z"
    }
   },
   "outputs": []
  },
  {
   "cell_type": "markdown",
   "source": [
    "## Data loading"
   ],
   "metadata": {
    "collapsed": false
   }
  },
  {
   "cell_type": "code",
   "execution_count": 57,
   "source": [
    "with open(f\"{dataset_csv_path}\") as f:\n",
    "    csv_reader = csv.reader(f, delimiter=\",\")\n",
    "    next(csv_reader) # skip first line which contains column names\n",
    "    lines = list(csv_reader)\n",
    "lines = [l for l in lines if l[1] in [\"uncertain\",\"T\",\"H\"]]\n",
    "for line in lines:\n",
    "    line[2] = datetime.datetime.strptime(line[2], \"%Y%m%d_%H%M%S\")"
   ],
   "metadata": {
    "collapsed": false,
    "ExecuteTime": {
     "end_time": "2024-01-03T13:02:30.890527994Z",
     "start_time": "2024-01-03T13:02:30.855321485Z"
    }
   },
   "outputs": []
  },
  {
   "cell_type": "markdown",
   "source": [
    "## Dataset creation"
   ],
   "metadata": {
    "collapsed": false
   }
  },
  {
   "cell_type": "code",
   "execution_count": 59,
   "source": [
    "dates = {station: [] for station in stations}\n",
    "segments_to_save = {station: [] for station in stations}\n",
    "csv_data = []\n",
    "\n",
    "for station in stations:\n",
    "    d = [l[2] for l in lines if l[0]==station]\n",
    "    d = np.sort(d)\n",
    "    start = datetime.datetime.strptime(params[\"stations\"][station][\"date_start\"], \"%Y%m%d_%H%M%S\")\n",
    "    end = datetime.datetime.strptime(params[\"stations\"][station][\"date_end\"], \"%Y%m%d_%H%M%S\")\n",
    "    j = 0\n",
    "    while start+2*delta_output <= end:\n",
    "        segments_to_save[station].append((start, start+2*delta_output))\n",
    "        dates[station].append([])\n",
    "        \n",
    "        while j<len(d) and abs(d[j] - start) <= delta_output:\n",
    "            event_pos = d[j] - (start + delta_output)\n",
    "            dates[station][-1].append(f\"{event_pos.total_seconds():.1f}\")\n",
    "            j += 1\n",
    "            \n",
    "        start += 2*delta_output\n",
    "\n",
    "# compute and save spectrogram\n",
    "for station in tqdm(stations):\n",
    "    features_extractor.manager = managers[station]\n",
    "    segments_to_save[station] = np.array(segments_to_save[station])\n",
    "    \n",
    "    pos_idx = [i for i in range(len(dates[station])) if len(dates[station][i]) > 0]\n",
    "    neg_idx = [i for i in range(len(dates[station])) if len(dates[station][i]) == 0]\n",
    "    pos_starts, pos_ends = zip(*segments_to_save[station][pos_idx])\n",
    "    neg_starts, neg_ends = zip(*segments_to_save[station][neg_idx])\n",
    "    pos_path_prefix = f'{output_path}/positives/{station}'\n",
    "    neg_path_prefix = f'{output_path}/negatives/{station}'\n",
    "    \n",
    "    if isinstance(features_extractor, RelativeDWTFeaturesExtractor):\n",
    "        # make only 1 file for the station because data representation is small enough\n",
    "        path = f'{pos_path_prefix}.{features_extractor.EXTENSION}'\n",
    "        features_extractor.save_features_batch_single_file(pos_starts, pos_ends, path)\n",
    "        csv_data.extend([[path, str(i), \"positive\"] + dates[station][pos_idx[i]] for i in range(len(pos_idx))])\n",
    "        \n",
    "        path = f'{neg_path_prefix}.{features_extractor.EXTENSION}'\n",
    "        features_extractor.save_features_batch_single_file(neg_starts, neg_ends, path)\n",
    "        csv_data.extend([[path, str(i), \"negative\"] for i in range(len(neg_idx))])\n",
    "    else:\n",
    "        # make 1 folder per station\n",
    "        Path(pos_path_prefix).mkdir(parents=True, exist_ok=True)\n",
    "        d = [p + delta_output for p in pos_starts] # middle of each segment\n",
    "        paths = [f'{pos_path_prefix}/{d[i].strftime(\"%Y%m%d_%H%M%S\")}.{features_extractor.EXTENSION}' for i in range(len(d))]\n",
    "        features_extractor.save_features_batch(pos_starts, pos_ends, paths)\n",
    "        csv_data.extend([[paths[i], \"positive\"] + dates[station][pos_idx[i]] for i in range(len(pos_idx))])\n",
    "        \n",
    "        Path(neg_path_prefix).mkdir(parents=True, exist_ok=True)\n",
    "        d = [n + delta_output for n in neg_starts] # middle of each segment\n",
    "        paths = [f'{neg_path_prefix}/{d[i].strftime(\"%Y%m%d_%H%M%S\")}.{features_extractor.EXTENSION}' for i in range(len(d))]\n",
    "        features_extractor.save_features_batch(neg_starts, neg_ends, paths)\n",
    "        csv_data.extend([[paths[i], \"negative\"] + dates[station][neg_idx[i]] for i in range(len(neg_idx))])"
   ],
   "metadata": {
    "collapsed": false,
    "ExecuteTime": {
     "end_time": "2024-01-03T13:04:31.612969053Z",
     "start_time": "2024-01-03T13:03:53.284012542Z"
    }
   },
   "outputs": []
  },
  {
   "cell_type": "code",
   "execution_count": 54,
   "source": [
    "with open(test_dataset_csv_path, \"w\") as f:\n",
    "    csv.writer(f).writerows(csv_data)"
   ],
   "metadata": {
    "collapsed": false,
    "ExecuteTime": {
     "end_time": "2024-01-03T12:28:18.735109384Z",
     "start_time": "2024-01-03T12:28:18.734724440Z"
    }
   },
   "outputs": []
  },
  {
   "cell_type": "code",
   "source": [],
   "metadata": {
    "collapsed": false,
    "ExecuteTime": {
     "end_time": "2024-01-03T12:28:18.735294672Z",
     "start_time": "2024-01-03T12:28:18.734854168Z"
    }
   },
   "execution_count": 54,
   "outputs": []
  }
 ],
 "metadata": {
  "kernelspec": {
   "display_name": "Python 3",
   "language": "python",
   "name": "python3"
  },
  "language_info": {
   "codemirror_mode": {
    "name": "ipython",
    "version": 2
   },
   "file_extension": ".py",
   "mimetype": "text/x-python",
   "name": "python",
   "nbconvert_exporter": "python",
   "pygments_lexer": "ipython2",
   "version": "2.7.6"
  }
 },
 "nbformat": 4,
 "nbformat_minor": 0
}
