{
 "cells": [
  {
   "cell_type": "code",
   "execution_count": 42,
   "metadata": {
    "collapsed": true,
    "ExecuteTime": {
     "end_time": "2023-12-05T17:00:49.796731343Z",
     "start_time": "2023-12-05T17:00:49.787843337Z"
    }
   },
   "outputs": [],
   "source": [
    "import datetime\n",
    "import random\n",
    "\n",
    "import numpy as np\n",
    "import yaml\n",
    "from matplotlib import pyplot as plt\n",
    "from tqdm import tqdm\n",
    "import os\n",
    "import csv\n",
    "\n",
    "from utils.data_reading.features_extractor import STFTFeaturesExtractor, RelativeDWTFeaturesExtractor, WaveformDataFeaturesExtractor\n",
    "from utils.data_reading.sound_file_manager import WavFilesManager\n",
    "from utils.misc.misc import make_directory"
   ]
  },
  {
   "cell_type": "markdown",
   "source": [
    "## Parameters"
   ],
   "metadata": {
    "collapsed": false
   }
  },
  {
   "cell_type": "code",
   "execution_count": 43,
   "outputs": [],
   "source": [
    "yaml_path = \"/media/plerolland/LaBoite/PublicData/dataset.yaml\"\n",
    "dataset = \"test_dataset_HYD\"\n",
    "dataset = \"test_dataset_OHA\"\n",
    "\n",
    "# duration taken before and after the event for the output\n",
    "delta_output = datetime.timedelta(seconds=50)\n",
    "\n",
    "# type of data that we want\n",
    "features_extractor = STFTFeaturesExtractor(None, vmin=-35, vmax=140)  # spectrograms generator\n",
    "features_extractor = WaveformDataFeaturesExtractor(None, 1)\n",
    "features_extractor = RelativeDWTFeaturesExtractor(None)  # DWT features generator\n",
    "\n",
    "output_path = '/media/plerolland/LaBoite/PublicData/test/{dataset_name}/scalograms100s'"
   ],
   "metadata": {
    "collapsed": false,
    "ExecuteTime": {
     "end_time": "2023-12-05T17:00:49.805726065Z",
     "start_time": "2023-12-05T17:00:49.791772140Z"
    }
   }
  },
  {
   "cell_type": "markdown",
   "source": [
    "## Initialization"
   ],
   "metadata": {
    "collapsed": false
   }
  },
  {
   "cell_type": "code",
   "execution_count": 44,
   "outputs": [],
   "source": [
    "with open(yaml_path, \"r\") as f:\n",
    "    params = yaml.load(f, Loader=yaml.BaseLoader)[dataset]\n",
    "output_path = output_path.format(**{\"dataset_name\":params[\"name\"]})\n",
    "prefix = params[\"root_dir\"]\n",
    "stations = list(params[\"stations\"].keys())\n",
    "\n",
    "dataset_csv_path = f\"{output_path}/dataset.csv\"\n",
    "\n",
    "managers = {h : WavFilesManager(f\"{prefix}/{h}\") for h in stations}\n",
    "csv_data = []\n",
    "\n",
    "make_directory(output_path)\n",
    "make_directory(f\"{output_path}/positives\")\n",
    "make_directory(f\"{output_path}/negatives\")"
   ],
   "metadata": {
    "collapsed": false,
    "ExecuteTime": {
     "end_time": "2023-12-05T17:00:49.833291493Z",
     "start_time": "2023-12-05T17:00:49.832899407Z"
    }
   }
  },
  {
   "cell_type": "markdown",
   "source": [
    "## Data loading"
   ],
   "metadata": {
    "collapsed": false
   }
  },
  {
   "cell_type": "code",
   "execution_count": 45,
   "outputs": [],
   "source": [
    "with open(f\"{prefix}/dataset.csv\") as f:\n",
    "    csv_reader = csv.reader(f, delimiter=\",\")\n",
    "    next(csv_reader) # skip first line which contains column names\n",
    "    lines = list(csv_reader)\n",
    "lines = [l for l in lines if l[1]==\"geophony\"]\n",
    "for line in lines:\n",
    "    line[2] = datetime.datetime.strptime(line[2], \"%Y%m%d_%H%M%S\")"
   ],
   "metadata": {
    "collapsed": false,
    "ExecuteTime": {
     "end_time": "2023-12-05T17:00:49.833498031Z",
     "start_time": "2023-12-05T17:00:49.833046198Z"
    }
   }
  },
  {
   "cell_type": "markdown",
   "source": [
    "## Dataset creation"
   ],
   "metadata": {
    "collapsed": false
   }
  },
  {
   "cell_type": "code",
   "execution_count": 46,
   "outputs": [
    {
     "name": "stderr",
     "output_type": "stream",
     "text": [
      "100%|██████████| 6/6 [01:51<00:00, 18.58s/it]\n"
     ]
    }
   ],
   "source": [
    "dates = {station: [] for station in stations}\n",
    "segments_to_save = {station: [] for station in stations}\n",
    "csv_data = []\n",
    "\n",
    "for station in stations:\n",
    "    d = [l[2] for l in lines if l[0]==station]\n",
    "    d = np.sort(d)\n",
    "    start = datetime.datetime.strptime(params[\"stations\"][station][\"date_start\"], \"%Y%m%d_%H%M%S\")\n",
    "    end = datetime.datetime.strptime(params[\"stations\"][station][\"date_end\"], \"%Y%m%d_%H%M%S\")\n",
    "    j = 0\n",
    "    while start+2*delta_output <= end:\n",
    "        segments_to_save[station].append((start, start+2*delta_output))\n",
    "        dates[station].append([])\n",
    "        \n",
    "        while j<len(d) and abs(d[j] - start) <= delta_output:\n",
    "            event_pos = d[j] - (start + delta_output)\n",
    "            dates[station][-1].append(f\"{event_pos.total_seconds():.1f}\")\n",
    "            j += 1\n",
    "            \n",
    "        start += 2*delta_output\n",
    "\n",
    "# compute and save spectrogram\n",
    "for station in tqdm(stations):\n",
    "    features_extractor.manager = managers[station]\n",
    "    segments_to_save[station] = np.array(segments_to_save[station])\n",
    "    \n",
    "    pos_idx = [i for i in range(len(dates[station])) if len(dates[station][i]) > 0]\n",
    "    neg_idx = [i for i in range(len(dates[station])) if len(dates[station][i]) == 0]\n",
    "    pos_starts, pos_ends = zip(*segments_to_save[station][pos_idx])\n",
    "    neg_starts, neg_ends = zip(*segments_to_save[station][neg_idx])\n",
    "    pos_path_prefix = f'{output_path}/positives/{station}'\n",
    "    neg_path_prefix = f'{output_path}/negatives/{station}'\n",
    "    \n",
    "    if isinstance(features_extractor, RelativeDWTFeaturesExtractor):\n",
    "        # make only 1 file for the station because data representation is small enough\n",
    "        path = f'{pos_path_prefix}.{features_extractor.EXTENSION}'\n",
    "        features_extractor.save_features_batch_single_file(pos_starts, pos_ends, path)\n",
    "        csv_data.extend([[path, str(i), \"positive\"] + dates[station][pos_idx[i]] for i in range(len(pos_idx))])\n",
    "        \n",
    "        path = f'{neg_path_prefix}.{features_extractor.EXTENSION}'\n",
    "        features_extractor.save_features_batch_single_file(neg_starts, neg_ends, path)\n",
    "        csv_data.extend([[path, str(i), \"negative\"] for i in range(len(neg_idx))])\n",
    "    else:\n",
    "        # make 1 folder per station\n",
    "        make_directory(pos_path_prefix)\n",
    "        d = [p + delta_output for p in pos_starts] # middle of each segment\n",
    "        paths = [f'{pos_path_prefix}/{d[i].strftime(\"%Y%m%d_%H%M%S\")}.{features_extractor.EXTENSION}' for i in range(len(d))]\n",
    "        features_extractor.save_features_batch(pos_starts, pos_ends, paths)\n",
    "        csv_data.extend([[paths[i], \"positive\"] + dates[station][pos_idx[i]] for i in range(len(pos_idx))])\n",
    "        \n",
    "        make_directory(neg_path_prefix)\n",
    "        d = [n + delta_output for n in neg_starts] # middle of each segment\n",
    "        paths = [f'{neg_path_prefix}/{d[i].strftime(\"%Y%m%d_%H%M%S\")}.{features_extractor.EXTENSION}' for i in range(len(d))]\n",
    "        features_extractor.save_features_batch(neg_starts, neg_ends, paths)\n",
    "        csv_data.extend([[paths[i], \"negative\"] + dates[station][neg_idx[i]] for i in range(len(neg_idx))])"
   ],
   "metadata": {
    "collapsed": false,
    "ExecuteTime": {
     "end_time": "2023-12-05T17:02:41.385497311Z",
     "start_time": "2023-12-05T17:00:49.833096396Z"
    }
   }
  },
  {
   "cell_type": "code",
   "execution_count": 47,
   "outputs": [],
   "source": [
    "with open(dataset_csv_path, \"w\") as f:\n",
    "    csv.writer(f).writerows(csv_data)"
   ],
   "metadata": {
    "collapsed": false,
    "ExecuteTime": {
     "end_time": "2023-12-05T17:02:41.385673378Z",
     "start_time": "2023-12-05T17:02:41.385187178Z"
    }
   }
  }
 ],
 "metadata": {
  "kernelspec": {
   "display_name": "Python 3",
   "language": "python",
   "name": "python3"
  },
  "language_info": {
   "codemirror_mode": {
    "name": "ipython",
    "version": 2
   },
   "file_extension": ".py",
   "mimetype": "text/x-python",
   "name": "python",
   "nbconvert_exporter": "python",
   "pygments_lexer": "ipython2",
   "version": "2.7.6"
  }
 },
 "nbformat": 4,
 "nbformat_minor": 0
}
