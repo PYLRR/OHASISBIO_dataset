{
 "cells": [
  {
   "cell_type": "code",
   "execution_count": 1,
   "metadata": {
    "collapsed": true,
    "ExecuteTime": {
     "end_time": "2023-11-15T14:32:24.154830702Z",
     "start_time": "2023-11-15T14:32:23.478955837Z"
    }
   },
   "outputs": [],
   "source": [
    "import datetime\n",
    "import random\n",
    "\n",
    "import numpy as np\n",
    "import yaml\n",
    "from matplotlib import pyplot as plt\n",
    "from tqdm import tqdm\n",
    "import os\n",
    "import csv\n",
    "\n",
    "from utils.data_reading.features_extractor import STFTFeaturesExtractor, RelativeDWTFeaturesExtractor, WaveformDataFeaturesExtractor\n",
    "from utils.data_reading.sound_file_manager import WavFilesManager\n",
    "from utils.misc.misc import make_directory"
   ]
  },
  {
   "cell_type": "markdown",
   "source": [
    "## Parameters"
   ],
   "metadata": {
    "collapsed": false
   }
  },
  {
   "cell_type": "code",
   "execution_count": 2,
   "outputs": [],
   "source": [
    "yaml_path = \"/media/plerolland/LaBoite/PublicData/dataset.yaml\"\n",
    "\n",
    "output_path = \"/media/plerolland/LaBoite/PublicData/training/waveforms\"\n",
    "\n",
    "# duration taken before and after the event for the output\n",
    "delta_output = datetime.timedelta(seconds=50)\n",
    "\n",
    "# type of data that we want\n",
    "#features_extractor = STFTFeaturesExtractor(None, vmin=-35, vmax=140)  # spectrograms generator\n",
    "#features_extractor = RelativeDWTFeaturesExtractor(None)  # DWT features generator\n",
    "features_extractor = WaveformDataFeaturesExtractor(None, 1)\n",
    "\n",
    "random_offset_multiplicator = 1  # set to 0 if we want to center events\n",
    "\n",
    "SEED = 0"
   ],
   "metadata": {
    "collapsed": false,
    "ExecuteTime": {
     "end_time": "2023-11-15T14:32:24.155140943Z",
     "start_time": "2023-11-15T14:32:24.152787824Z"
    }
   }
  },
  {
   "cell_type": "markdown",
   "source": [
    "## Initialization"
   ],
   "metadata": {
    "collapsed": false
   }
  },
  {
   "cell_type": "code",
   "execution_count": 3,
   "outputs": [],
   "source": [
    "random.seed(SEED)\n",
    "\n",
    "with open(yaml_path, \"r\") as f:\n",
    "    params = yaml.load(f, Loader=yaml.BaseLoader)[\"train_dataset\"]\n",
    "prefix = params[\"root_dir\"]\n",
    "stations = list(params[\"stations\"].keys())\n",
    "\n",
    "dataset_csv_path = f\"{output_path}/dataset.csv\"\n",
    "\n",
    "positives = {h : [] for h in stations}\n",
    "negatives = {h : [] for h in stations}\n",
    "managers = {h : WavFilesManager(f\"{prefix}/{h}\") for h in stations}\n",
    "\n",
    "make_directory(output_path)\n",
    "make_directory(f\"{output_path}/positives\")\n",
    "make_directory(f\"{output_path}/negatives\")\n",
    "\n",
    "csv_data = []"
   ],
   "metadata": {
    "collapsed": false,
    "ExecuteTime": {
     "end_time": "2023-11-15T14:32:25.641698698Z",
     "start_time": "2023-11-15T14:32:25.577978371Z"
    }
   }
  },
  {
   "cell_type": "markdown",
   "source": [
    "## Data loading"
   ],
   "metadata": {
    "collapsed": false
   }
  },
  {
   "cell_type": "code",
   "execution_count": 4,
   "outputs": [],
   "source": [
    "with open(f\"{prefix}/dataset.csv\") as f:\n",
    "    csv_reader = csv.reader(f, delimiter=\",\")\n",
    "    next(csv_reader) # skip first line which contains column names\n",
    "    lines = list(csv_reader)\n",
    "for line in lines:\n",
    "    station = line[0]\n",
    "    date = datetime.datetime.strptime(line[2], \"%Y%m%d_%H%M%S\")\n",
    "    if line[1] == \"geophony\":\n",
    "        positives[station].append(date)\n",
    "    elif line[1] == \"negative\":\n",
    "        date_end = datetime.datetime.strptime(line[2], \"%Y%m%d_%H%M%S\")\n",
    "        negatives[station].append(date + (date_end - date)/2)"
   ],
   "metadata": {
    "collapsed": false,
    "ExecuteTime": {
     "end_time": "2023-11-15T14:32:26.663820888Z",
     "start_time": "2023-11-15T14:32:26.534449377Z"
    }
   }
  },
  {
   "cell_type": "markdown",
   "source": [
    "## Dataset creation"
   ],
   "metadata": {
    "collapsed": false
   }
  },
  {
   "cell_type": "markdown",
   "source": [
    "### Positives"
   ],
   "metadata": {
    "collapsed": false
   }
  },
  {
   "cell_type": "code",
   "execution_count": 5,
   "outputs": [
    {
     "name": "stderr",
     "output_type": "stream",
     "text": [
      "  0%|          | 0/9 [00:20<?, ?it/s]\n"
     ]
    },
    {
     "ename": "KeyboardInterrupt",
     "evalue": "",
     "output_type": "error",
     "traceback": [
      "\u001B[0;31m---------------------------------------------------------------------------\u001B[0m",
      "\u001B[0;31mKeyboardInterrupt\u001B[0m                         Traceback (most recent call last)",
      "Cell \u001B[0;32mIn[5], line 40\u001B[0m\n\u001B[1;32m     38\u001B[0m paths \u001B[38;5;241m=\u001B[39m [\u001B[38;5;124mf\u001B[39m\u001B[38;5;124m'\u001B[39m\u001B[38;5;132;01m{\u001B[39;00mpath_prefix\u001B[38;5;132;01m}\u001B[39;00m\u001B[38;5;124m/\u001B[39m\u001B[38;5;132;01m{\u001B[39;00md[i]\u001B[38;5;241m.\u001B[39mstrftime(\u001B[38;5;124m\"\u001B[39m\u001B[38;5;124m%\u001B[39m\u001B[38;5;124mY\u001B[39m\u001B[38;5;124m%\u001B[39m\u001B[38;5;124mm\u001B[39m\u001B[38;5;132;01m%d\u001B[39;00m\u001B[38;5;124m_\u001B[39m\u001B[38;5;124m%\u001B[39m\u001B[38;5;124mH\u001B[39m\u001B[38;5;124m%\u001B[39m\u001B[38;5;124mM\u001B[39m\u001B[38;5;124m%\u001B[39m\u001B[38;5;124mS\u001B[39m\u001B[38;5;124m\"\u001B[39m)\u001B[38;5;132;01m}\u001B[39;00m\u001B[38;5;124m.\u001B[39m\u001B[38;5;132;01m{\u001B[39;00mfeatures_extractor\u001B[38;5;241m.\u001B[39mEXTENSION\u001B[38;5;132;01m}\u001B[39;00m\u001B[38;5;124m'\u001B[39m \u001B[38;5;28;01mfor\u001B[39;00m i \u001B[38;5;129;01min\u001B[39;00m \u001B[38;5;28mrange\u001B[39m(\u001B[38;5;28mlen\u001B[39m(d))]\n\u001B[1;32m     39\u001B[0m csv_data\u001B[38;5;241m.\u001B[39mextend([[paths[i], \u001B[38;5;124m\"\u001B[39m\u001B[38;5;124mpositive\u001B[39m\u001B[38;5;124m\"\u001B[39m] \u001B[38;5;241m+\u001B[39m dates[station][i] \u001B[38;5;28;01mfor\u001B[39;00m i \u001B[38;5;129;01min\u001B[39;00m \u001B[38;5;28mrange\u001B[39m(\u001B[38;5;28mlen\u001B[39m(starts))])\n\u001B[0;32m---> 40\u001B[0m \u001B[43mfeatures_extractor\u001B[49m\u001B[38;5;241;43m.\u001B[39;49m\u001B[43msave_features_batch\u001B[49m\u001B[43m(\u001B[49m\u001B[43mstarts\u001B[49m\u001B[43m,\u001B[49m\u001B[43m \u001B[49m\u001B[43mends\u001B[49m\u001B[43m,\u001B[49m\u001B[43m \u001B[49m\u001B[43mpaths\u001B[49m\u001B[43m)\u001B[49m\n",
      "File \u001B[0;32m~/Bureau/OHASISBIO_dataset/src/utils/data_reading/features_extractor.py:25\u001B[0m, in \u001B[0;36mFeaturesExtractor.save_features_batch\u001B[0;34m(self, starts, ends, paths)\u001B[0m\n\u001B[1;32m     23\u001B[0m \u001B[38;5;28;01mdef\u001B[39;00m \u001B[38;5;21msave_features_batch\u001B[39m(\u001B[38;5;28mself\u001B[39m, starts, ends, paths):\n\u001B[1;32m     24\u001B[0m     \u001B[38;5;28;01mfor\u001B[39;00m i \u001B[38;5;129;01min\u001B[39;00m \u001B[38;5;28mrange\u001B[39m(\u001B[38;5;28mlen\u001B[39m(starts)):\n\u001B[0;32m---> 25\u001B[0m         \u001B[38;5;28;43mself\u001B[39;49m\u001B[38;5;241;43m.\u001B[39;49m\u001B[43msave_features\u001B[49m\u001B[43m(\u001B[49m\u001B[43mstarts\u001B[49m\u001B[43m[\u001B[49m\u001B[43mi\u001B[49m\u001B[43m]\u001B[49m\u001B[43m,\u001B[49m\u001B[43m \u001B[49m\u001B[43mends\u001B[49m\u001B[43m[\u001B[49m\u001B[43mi\u001B[49m\u001B[43m]\u001B[49m\u001B[43m,\u001B[49m\u001B[43m \u001B[49m\u001B[43mpaths\u001B[49m\u001B[43m[\u001B[49m\u001B[43mi\u001B[49m\u001B[43m]\u001B[49m\u001B[43m)\u001B[49m\n",
      "File \u001B[0;32m~/Bureau/OHASISBIO_dataset/src/utils/data_reading/features_extractor.py:20\u001B[0m, in \u001B[0;36mFeaturesExtractor.save_features\u001B[0;34m(self, start, end, path)\u001B[0m\n\u001B[1;32m     19\u001B[0m \u001B[38;5;28;01mdef\u001B[39;00m \u001B[38;5;21msave_features\u001B[39m(\u001B[38;5;28mself\u001B[39m, start, end, path):\n\u001B[0;32m---> 20\u001B[0m     \u001B[38;5;28;01mif\u001B[39;00m \u001B[38;5;129;01mnot\u001B[39;00m \u001B[43mos\u001B[49m\u001B[38;5;241m.\u001B[39mpath\u001B[38;5;241m.\u001B[39misfile(path):\n\u001B[1;32m     21\u001B[0m         \u001B[38;5;28mself\u001B[39m\u001B[38;5;241m.\u001B[39m_save_features(\u001B[38;5;28mself\u001B[39m\u001B[38;5;241m.\u001B[39mget_features(start, end), path)\n",
      "File \u001B[0;32m~/Bureau/OHASISBIO_dataset/src/utils/data_reading/features_extractor.py:20\u001B[0m, in \u001B[0;36mFeaturesExtractor.save_features\u001B[0;34m(self, start, end, path)\u001B[0m\n\u001B[1;32m     19\u001B[0m \u001B[38;5;28;01mdef\u001B[39;00m \u001B[38;5;21msave_features\u001B[39m(\u001B[38;5;28mself\u001B[39m, start, end, path):\n\u001B[0;32m---> 20\u001B[0m     \u001B[38;5;28;01mif\u001B[39;00m \u001B[38;5;129;01mnot\u001B[39;00m \u001B[43mos\u001B[49m\u001B[38;5;241m.\u001B[39mpath\u001B[38;5;241m.\u001B[39misfile(path):\n\u001B[1;32m     21\u001B[0m         \u001B[38;5;28mself\u001B[39m\u001B[38;5;241m.\u001B[39m_save_features(\u001B[38;5;28mself\u001B[39m\u001B[38;5;241m.\u001B[39mget_features(start, end), path)\n",
      "File \u001B[0;32m/snap/pycharm-professional/359/plugins/python/helpers/pydev/_pydevd_bundle/pydevd_frame.py:880\u001B[0m, in \u001B[0;36mPyDBFrame.trace_dispatch\u001B[0;34m(self, frame, event, arg)\u001B[0m\n\u001B[1;32m    877\u001B[0m             stop \u001B[38;5;241m=\u001B[39m \u001B[38;5;28;01mFalse\u001B[39;00m\n\u001B[1;32m    879\u001B[0m \u001B[38;5;28;01mif\u001B[39;00m plugin_stop:\n\u001B[0;32m--> 880\u001B[0m     stopped_on_plugin \u001B[38;5;241m=\u001B[39m \u001B[43mplugin_manager\u001B[49m\u001B[38;5;241;43m.\u001B[39;49m\u001B[43mstop\u001B[49m\u001B[43m(\u001B[49m\u001B[43mmain_debugger\u001B[49m\u001B[43m,\u001B[49m\u001B[43m \u001B[49m\u001B[43mframe\u001B[49m\u001B[43m,\u001B[49m\u001B[43m \u001B[49m\u001B[43mevent\u001B[49m\u001B[43m,\u001B[49m\u001B[43m \u001B[49m\u001B[38;5;28;43mself\u001B[39;49m\u001B[38;5;241;43m.\u001B[39;49m\u001B[43m_args\u001B[49m\u001B[43m,\u001B[49m\u001B[43m \u001B[49m\u001B[43mstop_info\u001B[49m\u001B[43m,\u001B[49m\u001B[43m \u001B[49m\u001B[43marg\u001B[49m\u001B[43m,\u001B[49m\u001B[43m \u001B[49m\u001B[43mstep_cmd\u001B[49m\u001B[43m)\u001B[49m\n\u001B[1;32m    881\u001B[0m \u001B[38;5;28;01melif\u001B[39;00m stop:\n\u001B[1;32m    882\u001B[0m     \u001B[38;5;28;01mif\u001B[39;00m is_line:\n",
      "File \u001B[0;32m/snap/pycharm-professional/359/plugins/python/helpers-pro/jupyter_debug/pydev_jupyter_plugin.py:169\u001B[0m, in \u001B[0;36mstop\u001B[0;34m(plugin, pydb, frame, event, args, stop_info, arg, step_cmd)\u001B[0m\n\u001B[1;32m    167\u001B[0m     frame \u001B[38;5;241m=\u001B[39m suspend_jupyter(main_debugger, thread, frame, step_cmd)\n\u001B[1;32m    168\u001B[0m     \u001B[38;5;28;01mif\u001B[39;00m frame:\n\u001B[0;32m--> 169\u001B[0m         \u001B[43mmain_debugger\u001B[49m\u001B[38;5;241;43m.\u001B[39;49m\u001B[43mdo_wait_suspend\u001B[49m\u001B[43m(\u001B[49m\u001B[43mthread\u001B[49m\u001B[43m,\u001B[49m\u001B[43m \u001B[49m\u001B[43mframe\u001B[49m\u001B[43m,\u001B[49m\u001B[43m \u001B[49m\u001B[43mevent\u001B[49m\u001B[43m,\u001B[49m\u001B[43m \u001B[49m\u001B[43marg\u001B[49m\u001B[43m)\u001B[49m\n\u001B[1;32m    170\u001B[0m         \u001B[38;5;28;01mreturn\u001B[39;00m \u001B[38;5;28;01mTrue\u001B[39;00m\n\u001B[1;32m    171\u001B[0m \u001B[38;5;28;01mreturn\u001B[39;00m \u001B[38;5;28;01mFalse\u001B[39;00m\n",
      "File \u001B[0;32m/snap/pycharm-professional/359/plugins/python/helpers/pydev/pydevd.py:1160\u001B[0m, in \u001B[0;36mPyDB.do_wait_suspend\u001B[0;34m(self, thread, frame, event, arg, send_suspend_message, is_unhandled_exception)\u001B[0m\n\u001B[1;32m   1157\u001B[0m         from_this_thread\u001B[38;5;241m.\u001B[39mappend(frame_id)\n\u001B[1;32m   1159\u001B[0m \u001B[38;5;28;01mwith\u001B[39;00m \u001B[38;5;28mself\u001B[39m\u001B[38;5;241m.\u001B[39m_threads_suspended_single_notification\u001B[38;5;241m.\u001B[39mnotify_thread_suspended(thread_id, stop_reason):\n\u001B[0;32m-> 1160\u001B[0m     \u001B[38;5;28;43mself\u001B[39;49m\u001B[38;5;241;43m.\u001B[39;49m\u001B[43m_do_wait_suspend\u001B[49m\u001B[43m(\u001B[49m\u001B[43mthread\u001B[49m\u001B[43m,\u001B[49m\u001B[43m \u001B[49m\u001B[43mframe\u001B[49m\u001B[43m,\u001B[49m\u001B[43m \u001B[49m\u001B[43mevent\u001B[49m\u001B[43m,\u001B[49m\u001B[43m \u001B[49m\u001B[43marg\u001B[49m\u001B[43m,\u001B[49m\u001B[43m \u001B[49m\u001B[43msuspend_type\u001B[49m\u001B[43m,\u001B[49m\u001B[43m \u001B[49m\u001B[43mfrom_this_thread\u001B[49m\u001B[43m)\u001B[49m\n",
      "File \u001B[0;32m/snap/pycharm-professional/359/plugins/python/helpers/pydev/pydevd.py:1175\u001B[0m, in \u001B[0;36mPyDB._do_wait_suspend\u001B[0;34m(self, thread, frame, event, arg, suspend_type, from_this_thread)\u001B[0m\n\u001B[1;32m   1172\u001B[0m             \u001B[38;5;28mself\u001B[39m\u001B[38;5;241m.\u001B[39m_call_mpl_hook()\n\u001B[1;32m   1174\u001B[0m         \u001B[38;5;28mself\u001B[39m\u001B[38;5;241m.\u001B[39mprocess_internal_commands()\n\u001B[0;32m-> 1175\u001B[0m         \u001B[43mtime\u001B[49m\u001B[38;5;241;43m.\u001B[39;49m\u001B[43msleep\u001B[49m\u001B[43m(\u001B[49m\u001B[38;5;241;43m0.01\u001B[39;49m\u001B[43m)\u001B[49m\n\u001B[1;32m   1177\u001B[0m \u001B[38;5;28mself\u001B[39m\u001B[38;5;241m.\u001B[39mcancel_async_evaluation(get_current_thread_id(thread), \u001B[38;5;28mstr\u001B[39m(\u001B[38;5;28mid\u001B[39m(frame)))\n\u001B[1;32m   1179\u001B[0m \u001B[38;5;66;03m# process any stepping instructions\u001B[39;00m\n",
      "\u001B[0;31mKeyboardInterrupt\u001B[0m: "
     ]
    }
   ],
   "source": [
    "dates = {station: [] for station in stations}\n",
    "segments_to_save = {station: [] for station in stations}\n",
    "\n",
    "# choose segments (with a random offset) for the positives\n",
    "for station, d in positives.items():\n",
    "    d = np.sort(d)\n",
    "    for i in range(len(d)):\n",
    "        dates[station].append([])\n",
    "        offset = (random.random()-0.5) * 1.9 * delta_output * random_offset_multiplicator\n",
    "        segments_to_save[station].append((d[i] + offset - delta_output, d[i] + offset + delta_output))\n",
    "        \n",
    "        j=i # look for events before this one that may appear in the window\n",
    "        while j>=0 and abs(d[j] - (d[i] + offset)) <= delta_output:\n",
    "            event_pos = d[j] - (d[i] + offset)\n",
    "            dates[station][-1].append(f\"{event_pos.total_seconds():.1f}\")\n",
    "            j -= 1\n",
    "        j=i+1 # look for events after this one that may appear in the window\n",
    "        while j<len(d) and abs(d[j] - (d[i] + offset)) <= delta_output:\n",
    "            event_pos = d[j] - (d[i] + offset)\n",
    "            dates[station][-1].append(f\"{event_pos.total_seconds():.1f}\")\n",
    "            j += 1\n",
    "\n",
    "# compute and save spectrogram\n",
    "for station in tqdm(positives.keys()):\n",
    "    features_extractor.manager = managers[station]\n",
    "    starts, ends = zip(*segments_to_save[station])\n",
    "    path_prefix = f'{output_path}/positives/{station}'\n",
    "    \n",
    "    if isinstance(features_extractor, RelativeDWTFeaturesExtractor):\n",
    "        # make only 1 file for the station because data representation is small enough\n",
    "        path = f'{path_prefix}.{features_extractor.EXTENSION}'\n",
    "        features_extractor.save_features_batch_single_file(starts, ends, path)\n",
    "        csv_data.extend([[path, str(i), \"positive\"] + dates[station][i] for i in range(len(starts))])\n",
    "    else:\n",
    "        # make 1 folder per station\n",
    "        make_directory(path_prefix)\n",
    "        d = positives[station]\n",
    "        paths = [f'{path_prefix}/{d[i].strftime(\"%Y%m%d_%H%M%S\")}.{features_extractor.EXTENSION}' for i in range(len(d))]\n",
    "        csv_data.extend([[paths[i], \"positive\"] + dates[station][i] for i in range(len(starts))])\n",
    "        features_extractor.save_features_batch(starts, ends, paths)"
   ],
   "metadata": {
    "collapsed": false,
    "ExecuteTime": {
     "end_time": "2023-11-15T14:33:03.009839746Z",
     "start_time": "2023-11-15T14:32:41.769202404Z"
    }
   }
  },
  {
   "cell_type": "markdown",
   "source": [
    "### Negatives"
   ],
   "metadata": {
    "collapsed": false
   }
  },
  {
   "cell_type": "code",
   "execution_count": 6,
   "outputs": [
    {
     "name": "stderr",
     "output_type": "stream",
     "text": [
      "100%|██████████| 9/9 [05:24<00:00, 36.05s/it]\n"
     ]
    }
   ],
   "source": [
    "for station in tqdm(negatives.keys()):\n",
    "    features_extractor.manager = managers[station]\n",
    "    starts, ends = zip(*[(negatives[station][i] - delta_output, negatives[station][i] + delta_output) for i in range(len(negatives[station]))])\n",
    "    path_prefix = f'{output_path}/negatives/{station}'\n",
    "    \n",
    "    if isinstance(features_extractor, RelativeDWTFeaturesExtractor):\n",
    "        # make only 1 file for the station because data representation is small enough\n",
    "        path = f'{path_prefix}.{features_extractor.EXTENSION}'\n",
    "        features_extractor.save_features_batch_single_file(starts, ends, path)\n",
    "        csv_data.extend([[path, str(i), \"negative\"] for i in range(len(starts))])\n",
    "    else:\n",
    "        # make 1 folder per station\n",
    "        make_directory(path_prefix)\n",
    "        d = negatives[station]\n",
    "        paths = [f'{path_prefix}/{d[i].strftime(\"%Y%m%d_%H%M%S\")}.{features_extractor.EXTENSION}' for i in range(len(d))]\n",
    "        csv_data.extend([[paths[i], \"negative\"] for i in range(len(starts))])\n",
    "        features_extractor.save_features_batch(starts, ends, paths)"
   ],
   "metadata": {
    "collapsed": false,
    "ExecuteTime": {
     "end_time": "2023-11-14T11:34:28.197231216Z",
     "start_time": "2023-11-14T11:29:03.776931053Z"
    }
   }
  },
  {
   "cell_type": "code",
   "execution_count": 7,
   "outputs": [],
   "source": [
    "with open(dataset_csv_path, \"w\") as f:\n",
    "    csv.writer(f).writerows(csv_data)"
   ],
   "metadata": {
    "collapsed": false,
    "ExecuteTime": {
     "end_time": "2023-11-14T11:34:28.265695594Z",
     "start_time": "2023-11-14T11:34:28.203828389Z"
    }
   }
  },
  {
   "cell_type": "code",
   "execution_count": 7,
   "outputs": [],
   "source": [],
   "metadata": {
    "collapsed": false,
    "ExecuteTime": {
     "end_time": "2023-11-14T11:34:28.270709858Z",
     "start_time": "2023-11-14T11:34:28.267738961Z"
    }
   }
  }
 ],
 "metadata": {
  "kernelspec": {
   "display_name": "Python 3",
   "language": "python",
   "name": "python3"
  },
  "language_info": {
   "codemirror_mode": {
    "name": "ipython",
    "version": 2
   },
   "file_extension": ".py",
   "mimetype": "text/x-python",
   "name": "python",
   "nbconvert_exporter": "python",
   "pygments_lexer": "ipython2",
   "version": "2.7.6"
  }
 },
 "nbformat": 4,
 "nbformat_minor": 0
}
