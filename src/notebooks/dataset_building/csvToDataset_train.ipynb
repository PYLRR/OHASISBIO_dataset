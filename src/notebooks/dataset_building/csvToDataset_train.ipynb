{
 "cells": [
  {
   "cell_type": "markdown",
   "source": [
    "This notebook enables to create datasets ready for training. It requires a .wav dataset, the .yaml file describing it and a .csv file giving annotations."
   ],
   "metadata": {
    "collapsed": false
   }
  },
  {
   "cell_type": "code",
   "execution_count": null,
   "metadata": {
    "collapsed": true
   },
   "outputs": [],
   "source": [
    "import datetime\n",
    "import random\n",
    "\n",
    "import numpy as np\n",
    "import yaml\n",
    "from tqdm import tqdm\n",
    "import csv\n",
    "from pathlib import Path\n",
    "\n",
    "from src.utils.data_reading.features_extractor import STFTFeaturesExtractor, RelativeDWTFeaturesExtractor, WaveformDataFeaturesExtractor\n",
    "from src.utils.data_reading.sound_file_manager import WavFilesManager"
   ]
  },
  {
   "cell_type": "markdown",
   "source": [
    "## Parameters"
   ],
   "metadata": {
    "collapsed": false
   }
  },
  {
   "cell_type": "code",
   "execution_count": null,
   "outputs": [],
   "source": [
    "dataset_root_path = \"/PATH/TO/DATASET\"  # path of the downloaded dataset (containing the .yaml)\n",
    "output_path = f\"{dataset_root_path}/output/train/spectrograms\"  # directory where the dataset will be outputed, can be changed\n",
    "\n",
    "# duration taken before and after the event for the output\n",
    "delta_output = datetime.timedelta(seconds=50)\n",
    "\n",
    "# type of data that we want\n",
    "features_extractor = STFTFeaturesExtractor(None, vmin=-35, vmax=140)  # spectrograms generator\n",
    "#features_extractor = RelativeDWTFeaturesExtractor(None)  # DWT features generator\n",
    "#features_extractor = WaveformDataFeaturesExtractor(None, 1)  # waveforms generator\n",
    "\n",
    "random_offset_multiplicator = 1  # set to 0 if we want to center events, 1 if they can be randomly offseted up to the borders of the segments\n",
    "\n",
    "random.seed(0)  # seed for random number generator"
   ],
   "metadata": {
    "collapsed": false
   }
  },
  {
   "cell_type": "markdown",
   "source": [
    "## Initialization"
   ],
   "metadata": {
    "collapsed": false
   }
  },
  {
   "cell_type": "code",
   "execution_count": null,
   "outputs": [],
   "source": [
    "yaml_path = f\"{dataset_root_path}/datasets.yaml\"\n",
    "with open(yaml_path, \"r\") as f:  # parameters of the dataset\n",
    "    params = yaml.load(f, Loader=yaml.BaseLoader)[\"train_dataset\"]\n",
    "prefix = f'{yaml_path}/{params[\"root_dir\"]}'  # path of the dataset root (where station directories are)\n",
    "stations = list(params[\"stations\"].keys())  # list of station names (like [\"ELAN\", \"MADE\",...])\n",
    "\n",
    "dataset_csv_path = f\"{output_path}/dataset.csv\"  # csv file that will contain information about the created dataset\n",
    "\n",
    "positives = {h : [] for h in stations}\n",
    "negatives = {h : [] for h in stations}\n",
    "managers = {h : WavFilesManager(f\"{prefix}/{h}\") for h in stations}  # WavFilesManager enable to handle the .wav reading part\n",
    "\n",
    "Path(f\"{output_path}/positives\").mkdir(parents=True, exist_ok=True)\n",
    "Path(f\"{output_path}/negatives\").mkdir(parents=True, exist_ok=True)\n",
    "\n",
    "csv_data = []"
   ],
   "metadata": {
    "collapsed": false
   }
  },
  {
   "cell_type": "markdown",
   "source": [
    "## Data loading"
   ],
   "metadata": {
    "collapsed": false
   }
  },
  {
   "cell_type": "code",
   "execution_count": null,
   "outputs": [],
   "source": [
    "with open(f\"{prefix}/dataset.csv\") as f:  # annotations list\n",
    "    csv_reader = csv.reader(f, delimiter=\",\")\n",
    "    next(csv_reader) # skip first line which contains column names\n",
    "    lines = list(csv_reader)\n",
    "for line in lines:\n",
    "    station = line[0]\n",
    "    date = datetime.datetime.strptime(line[2], \"%Y%m%d_%H%M%S\")\n",
    "    if line[1] == \"geophony\":\n",
    "        positives[station].append(date)\n",
    "    elif line[1] == \"negative\":\n",
    "        date_end = datetime.datetime.strptime(line[2], \"%Y%m%d_%H%M%S\")\n",
    "        negatives[station].append(date + (date_end - date)/2)"
   ],
   "metadata": {
    "collapsed": false
   }
  },
  {
   "cell_type": "markdown",
   "source": [
    "## Dataset creation"
   ],
   "metadata": {
    "collapsed": false
   }
  },
  {
   "cell_type": "markdown",
   "source": [
    "### Positives"
   ],
   "metadata": {
    "collapsed": false
   }
  },
  {
   "cell_type": "code",
   "execution_count": null,
   "outputs": [],
   "source": [
    "dates = {station: [] for station in stations}\n",
    "segments_to_save = {station: [] for station in stations}\n",
    "\n",
    "# choose segments (with a random offset) for the positives\n",
    "for station, d in positives.items():  # for each station\n",
    "    d = np.sort(d)\n",
    "    for i in range(len(d)):  # for each positive event, chronologically\n",
    "        dates[station].append([])\n",
    "        offset = (random.random()-0.5) * 1.9 * delta_output * random_offset_multiplicator\n",
    "        segments_to_save[station].append((d[i] + offset - delta_output, d[i] + offset + delta_output))\n",
    "        \n",
    "        j=i # look for events before this one that may appear in the window\n",
    "        while j>=0 and abs(d[j] - (d[i] + offset)) <= delta_output:\n",
    "            event_pos = d[j] - (d[i] + offset)\n",
    "            dates[station][-1].append(f\"{event_pos.total_seconds():.1f}\")\n",
    "            j -= 1\n",
    "        j=i+1 # look for events after this one that may appear in the window\n",
    "        while j<len(d) and abs(d[j] - (d[i] + offset)) <= delta_output:\n",
    "            event_pos = d[j] - (d[i] + offset)\n",
    "            dates[station][-1].append(f\"{event_pos.total_seconds():.1f}\")\n",
    "            j += 1\n",
    "\n",
    "# compute and save spectrogram\n",
    "for station in tqdm(positives.keys()):\n",
    "    features_extractor.manager = managers[station]\n",
    "    starts, ends = zip(*segments_to_save[station])\n",
    "    path_prefix = f'{output_path}/positives/{station}'\n",
    "    \n",
    "    if isinstance(features_extractor, RelativeDWTFeaturesExtractor):\n",
    "        # make only 1 file for the station because data representation is small enough\n",
    "        path = f'{path_prefix}.{features_extractor.EXTENSION}'\n",
    "        features_extractor.save_features_batch_single_file(starts, ends, path)\n",
    "        csv_data.extend([[path, str(i), \"positive\"] + dates[station][i] for i in range(len(starts))])\n",
    "    else:\n",
    "        # make 1 folder per station\n",
    "        Path(path_prefix).mkdir(parents=True, exist_ok=True)\n",
    "        d = positives[station]\n",
    "        paths = [f'{path_prefix}/{d[i].strftime(\"%Y%m%d_%H%M%S\")}.{features_extractor.EXTENSION}' for i in range(len(d))]\n",
    "        csv_data.extend([[paths[i], \"positive\"] + dates[station][i] for i in range(len(starts))])\n",
    "        features_extractor.save_features_batch(starts, ends, paths)"
   ],
   "metadata": {
    "collapsed": false
   }
  },
  {
   "cell_type": "markdown",
   "source": [
    "### Negatives"
   ],
   "metadata": {
    "collapsed": false
   }
  },
  {
   "cell_type": "code",
   "execution_count": null,
   "outputs": [],
   "source": [
    "for station in tqdm(negatives.keys()):\n",
    "    features_extractor.manager = managers[station]\n",
    "    starts, ends = zip(*[(negatives[station][i] - delta_output, negatives[station][i] + delta_output) for i in range(len(negatives[station]))])\n",
    "    path_prefix = f'{output_path}/negatives/{station}'\n",
    "    \n",
    "    if isinstance(features_extractor, RelativeDWTFeaturesExtractor):\n",
    "        # make only 1 file for the station because data representation is small enough\n",
    "        path = f'{path_prefix}.{features_extractor.EXTENSION}'\n",
    "        features_extractor.save_features_batch_single_file(starts, ends, path)\n",
    "        csv_data.extend([[path, str(i), \"negative\"] for i in range(len(starts))])\n",
    "    else:\n",
    "        # make 1 folder per station\n",
    "        Path(path_prefix).mkdir(parents=True, exist_ok=True)\n",
    "        d = negatives[station]\n",
    "        paths = [f'{path_prefix}/{d[i].strftime(\"%Y%m%d_%H%M%S\")}.{features_extractor.EXTENSION}' for i in range(len(d))]\n",
    "        csv_data.extend([[paths[i], \"negative\"] for i in range(len(starts))])\n",
    "        features_extractor.save_features_batch(starts, ends, paths)"
   ],
   "metadata": {
    "collapsed": false
   }
  },
  {
   "cell_type": "code",
   "execution_count": null,
   "outputs": [],
   "source": [
    "with open(dataset_csv_path, \"w\") as f:\n",
    "    csv.writer(f).writerows(csv_data)"
   ],
   "metadata": {
    "collapsed": false
   }
  }
 ],
 "metadata": {
  "kernelspec": {
   "display_name": "Python 3",
   "language": "python",
   "name": "python3"
  },
  "language_info": {
   "codemirror_mode": {
    "name": "ipython",
    "version": 2
   },
   "file_extension": ".py",
   "mimetype": "text/x-python",
   "name": "python",
   "nbconvert_exporter": "python",
   "pygments_lexer": "ipython2",
   "version": "2.7.6"
  }
 },
 "nbformat": 4,
 "nbformat_minor": 0
}
