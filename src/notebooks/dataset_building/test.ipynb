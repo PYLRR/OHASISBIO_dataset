{
 "cells": [
  {
   "cell_type": "code",
   "id": "initial_id",
   "metadata": {
    "collapsed": true,
    "ExecuteTime": {
     "end_time": "2024-04-05T09:29:31.343105Z",
     "start_time": "2024-04-05T09:29:31.251110Z"
    }
   },
   "source": [
    "import datetime\n",
    "from pathlib import Path\n",
    "\n",
    "import glob2\n",
    "import numpy as np\n",
    "import scipy\n",
    "from tqdm import tqdm"
   ],
   "outputs": [],
   "execution_count": 1
  },
  {
   "cell_type": "code",
   "source": [
    "paths = [\"/media/plerolland/LaBoite/IMS/2014/H01W1/20140101.w\"]\n",
    "TO_VOLT = 5.0 / 2 ** 24\n",
    "SENSIBILITY = -163.5"
   ],
   "metadata": {
    "collapsed": false,
    "ExecuteTime": {
     "end_time": "2024-04-05T09:29:31.346467Z",
     "start_time": "2024-04-05T09:29:31.344122Z"
    }
   },
   "id": "6584332196162efd",
   "outputs": [],
   "execution_count": 2
  },
  {
   "cell_type": "code",
   "outputs": [
    {
     "name": "stderr",
     "output_type": "stream",
     "text": [
      "100%|██████████| 64/64 [00:00<00:00, 35320.45it/s]\n"
     ]
    }
   ],
   "source": [
    "for path in tqdm(paths):\n",
    "    dir = \"/\".join(path.split(\"/\")[:-1])\n",
    "    Path(f'{dir}/atomic').mkdir(parents=True, exist_ok=True)\n",
    "    fname = path.split(\"/\")[-1][:-2]\n",
    "    path_wfdisc = f'{dir}/wfdisc/{fname}.wfdisc'\n",
    "    with open(path, 'rb') as file:\n",
    "        file.seek(0)\n",
    "        data = np.fromfile(file, dtype=\">i4\")\n",
    "    data = scipy.signal.detrend(data) * TO_VOLT / 10 ** (SENSIBILITY / 20)\n",
    "    with open(path_wfdisc, 'rb') as file:\n",
    "        header = file.readlines()\n",
    "    for i in range(len(header)):\n",
    "        line = header[i].split()\n",
    "        start = datetime.datetime.utcfromtimestamp(float(line[2]))\n",
    "        end = datetime.datetime.utcfromtimestamp(float(line[6]))\n",
    "        start_data_idx = int(line[17]) // 4\n",
    "        data_to_save = data[start_data_idx:]\n",
    "        if i < len(header) - 1:\n",
    "            end_data_idx = int(header[i+1][17]) // 4\n",
    "            data_to_save = data[:end_data_idx-start_data_idx]\n",
    "        file_to_save = f'{start.strftime(\"%Y%m%d_%H%M%S\")}_-_{end.strftime(\"%Y%m%d_%H%M%S\")}'\n",
    "        file_to_save = f'{dir}/atomic/{file_to_save}.w'\n",
    "        if not Path(file_to_save).exists():\n",
    "            with open(file_to_save, 'wb') as f:\n",
    "                data_to_save.tofile(f)"
   ],
   "metadata": {
    "collapsed": false,
    "ExecuteTime": {
     "end_time": "2024-04-03T13:13:45.888385Z",
     "start_time": "2024-04-03T13:13:24.660662Z"
    }
   },
   "id": "a238ae6a03648cf4",
   "execution_count": 4
  },
  {
   "cell_type": "code",
   "source": [
    "from matplotlib import pyplot as plt\n",
    "import datetime\n",
    "from pathlib import Path\n",
    "import glob2\n",
    "import numpy as np\n",
    "import scipy\n",
    "from tqdm import tqdm\n",
    "\n",
    "paths = glob2.glob(\"/media/plerolland/LaBoite/IMS/*/*/*.w\")\n",
    "for path in tqdm(paths):\n",
    "    already_touched = False\n",
    "    _dir = \"/\".join(path.split(\"/\")[:-1])\n",
    "    atomic_dir = f\"{_dir}/atomic/\"\n",
    "    Path(atomic_dir).mkdir(exist_ok=True)\n",
    "    already_computed = glob2.glob(f\"{atomic_dir}/*.w\")\n",
    "    if len(already_computed) > 0:\n",
    "        last = already_computed[-1]\n",
    "        end_date = last.split(\"_\")[-2] + \"_\" + last.split(\"_\")[-1][:-2]\n",
    "        end_date = datetime.datetime.strptime(end_date, \"%Y%m%d_%H%M%S\")\n",
    "        already_touched = True\n",
    "    \n",
    "    fname = path.split(\"/\")[-1][:-2]\n",
    "    path_wfdisc = f'{_dir}/wfdisc/{fname}.wfdisc'\n",
    "    with open(path_wfdisc, 'rb') as file:\n",
    "        header = file.readlines()\n",
    "    last_date = datetime.datetime.utcfromtimestamp(float(header[-1].split()[6]))\n",
    "    if already_touched and last_date < end_date:\n",
    "        continue   # .w file already treated\n",
    "    \n",
    "    with open(path, 'rb') as file:\n",
    "        file.seek(0)\n",
    "        data = np.fromfile(file, dtype=\">f4\")\n",
    "    data = (data - 120000)*float(header[-1].split()[9])\n",
    "    for i in tqdm(range(len(header)), leave=False):\n",
    "        line = header[i].split()\n",
    "        start = datetime.datetime.utcfromtimestamp(float(line[2]))\n",
    "        end = datetime.datetime.utcfromtimestamp(float(line[6]))\n",
    "        start_data_idx = int(line[17]) // 4\n",
    "        data_to_save = data[start_data_idx:]\n",
    "        if i < len(header) - 1:\n",
    "            end_data_idx = int(header[i+1].split()[17]) // 4\n",
    "            data_to_save = data[:end_data_idx-start_data_idx]\n",
    "        file_to_save = f'{start.strftime(\"%Y%m%d_%H%M%S\")}_-_{end.strftime(\"%Y%m%d_%H%M%S\")}'\n",
    "        file_to_save = f'{atomic_dir}/{file_to_save}.wav'\n",
    "        if not Path(file_to_save).exists():\n",
    "            scipy.io.wavfile.write(file_to_save, np.rint(float(line[8])), data_to_save)"
   ],
   "metadata": {
    "collapsed": false,
    "ExecuteTime": {
     "end_time": "2024-04-11T11:17:06.038960Z",
     "start_time": "2024-04-11T11:15:58.257239Z"
    }
   },
   "id": "69c538b56dfd780a",
   "outputs": [
    {
     "name": "stderr",
     "output_type": "stream",
     "text": [
      "  0%|          | 0/221 [00:00<?, ?it/s]\n",
      "  0%|          | 0/24 [00:00<?, ?it/s]\u001B[A\n",
      "  0%|          | 1/221 [01:07<4:08:13, 67.70s/it]\n"
     ]
    },
    {
     "ename": "KeyboardInterrupt",
     "evalue": "",
     "output_type": "error",
     "traceback": [
      "\u001B[0;31m---------------------------------------------------------------------------\u001B[0m",
      "\u001B[0;31mKeyboardInterrupt\u001B[0m                         Traceback (most recent call last)",
      "Cell \u001B[0;32mIn[6], line 34\u001B[0m\n\u001B[1;32m     32\u001B[0m     data \u001B[38;5;241m=\u001B[39m np\u001B[38;5;241m.\u001B[39mfromfile(file, dtype\u001B[38;5;241m=\u001B[39m\u001B[38;5;124m\"\u001B[39m\u001B[38;5;124m>f4\u001B[39m\u001B[38;5;124m\"\u001B[39m)\n\u001B[1;32m     33\u001B[0m data \u001B[38;5;241m=\u001B[39m (data \u001B[38;5;241m-\u001B[39m \u001B[38;5;241m120000\u001B[39m)\u001B[38;5;241m*\u001B[39m\u001B[38;5;28mfloat\u001B[39m(header[\u001B[38;5;241m-\u001B[39m\u001B[38;5;241m1\u001B[39m]\u001B[38;5;241m.\u001B[39msplit()[\u001B[38;5;241m9\u001B[39m])\n\u001B[0;32m---> 34\u001B[0m a, b \u001B[38;5;241m=\u001B[39m \u001B[38;5;28;43mmin\u001B[39;49m(data), \u001B[38;5;28mmax\u001B[39m(data)\n\u001B[1;32m     35\u001B[0m \u001B[38;5;28;01mfor\u001B[39;00m i \u001B[38;5;129;01min\u001B[39;00m tqdm(\u001B[38;5;28mrange\u001B[39m(\u001B[38;5;28mlen\u001B[39m(header)), leave\u001B[38;5;241m=\u001B[39m\u001B[38;5;28;01mFalse\u001B[39;00m):\n\u001B[1;32m     36\u001B[0m     line \u001B[38;5;241m=\u001B[39m header[i]\u001B[38;5;241m.\u001B[39msplit()\n",
      "Cell \u001B[0;32mIn[6], line 34\u001B[0m\n\u001B[1;32m     32\u001B[0m     data \u001B[38;5;241m=\u001B[39m np\u001B[38;5;241m.\u001B[39mfromfile(file, dtype\u001B[38;5;241m=\u001B[39m\u001B[38;5;124m\"\u001B[39m\u001B[38;5;124m>f4\u001B[39m\u001B[38;5;124m\"\u001B[39m)\n\u001B[1;32m     33\u001B[0m data \u001B[38;5;241m=\u001B[39m (data \u001B[38;5;241m-\u001B[39m \u001B[38;5;241m120000\u001B[39m)\u001B[38;5;241m*\u001B[39m\u001B[38;5;28mfloat\u001B[39m(header[\u001B[38;5;241m-\u001B[39m\u001B[38;5;241m1\u001B[39m]\u001B[38;5;241m.\u001B[39msplit()[\u001B[38;5;241m9\u001B[39m])\n\u001B[0;32m---> 34\u001B[0m a, b \u001B[38;5;241m=\u001B[39m \u001B[38;5;28;43mmin\u001B[39;49m(data), \u001B[38;5;28mmax\u001B[39m(data)\n\u001B[1;32m     35\u001B[0m \u001B[38;5;28;01mfor\u001B[39;00m i \u001B[38;5;129;01min\u001B[39;00m tqdm(\u001B[38;5;28mrange\u001B[39m(\u001B[38;5;28mlen\u001B[39m(header)), leave\u001B[38;5;241m=\u001B[39m\u001B[38;5;28;01mFalse\u001B[39;00m):\n\u001B[1;32m     36\u001B[0m     line \u001B[38;5;241m=\u001B[39m header[i]\u001B[38;5;241m.\u001B[39msplit()\n",
      "File \u001B[0;32m/snap/pycharm-professional/384/plugins/python/helpers/pydev/_pydevd_bundle/pydevd_frame.py:755\u001B[0m, in \u001B[0;36mPyDBFrame.trace_dispatch\u001B[0;34m(self, frame, event, arg)\u001B[0m\n\u001B[1;32m    753\u001B[0m \u001B[38;5;66;03m# if thread has a suspend flag, we suspend with a busy wait\u001B[39;00m\n\u001B[1;32m    754\u001B[0m \u001B[38;5;28;01mif\u001B[39;00m info\u001B[38;5;241m.\u001B[39mpydev_state \u001B[38;5;241m==\u001B[39m STATE_SUSPEND:\n\u001B[0;32m--> 755\u001B[0m     \u001B[38;5;28;43mself\u001B[39;49m\u001B[38;5;241;43m.\u001B[39;49m\u001B[43mdo_wait_suspend\u001B[49m\u001B[43m(\u001B[49m\u001B[43mthread\u001B[49m\u001B[43m,\u001B[49m\u001B[43m \u001B[49m\u001B[43mframe\u001B[49m\u001B[43m,\u001B[49m\u001B[43m \u001B[49m\u001B[43mevent\u001B[49m\u001B[43m,\u001B[49m\u001B[43m \u001B[49m\u001B[43marg\u001B[49m\u001B[43m)\u001B[49m\n\u001B[1;32m    756\u001B[0m     \u001B[38;5;66;03m# No need to reset frame.f_trace to keep the same trace function.\u001B[39;00m\n\u001B[1;32m    757\u001B[0m     \u001B[38;5;28;01mreturn\u001B[39;00m \u001B[38;5;28mself\u001B[39m\u001B[38;5;241m.\u001B[39mtrace_dispatch\n",
      "File \u001B[0;32m/snap/pycharm-professional/384/plugins/python/helpers/pydev/_pydevd_bundle/pydevd_frame.py:412\u001B[0m, in \u001B[0;36mPyDBFrame.do_wait_suspend\u001B[0;34m(self, *args, **kwargs)\u001B[0m\n\u001B[1;32m    411\u001B[0m \u001B[38;5;28;01mdef\u001B[39;00m \u001B[38;5;21mdo_wait_suspend\u001B[39m(\u001B[38;5;28mself\u001B[39m, \u001B[38;5;241m*\u001B[39margs, \u001B[38;5;241m*\u001B[39m\u001B[38;5;241m*\u001B[39mkwargs):\n\u001B[0;32m--> 412\u001B[0m     \u001B[38;5;28;43mself\u001B[39;49m\u001B[38;5;241;43m.\u001B[39;49m\u001B[43m_args\u001B[49m\u001B[43m[\u001B[49m\u001B[38;5;241;43m0\u001B[39;49m\u001B[43m]\u001B[49m\u001B[38;5;241;43m.\u001B[39;49m\u001B[43mdo_wait_suspend\u001B[49m\u001B[43m(\u001B[49m\u001B[38;5;241;43m*\u001B[39;49m\u001B[43margs\u001B[49m\u001B[43m,\u001B[49m\u001B[43m \u001B[49m\u001B[38;5;241;43m*\u001B[39;49m\u001B[38;5;241;43m*\u001B[39;49m\u001B[43mkwargs\u001B[49m\u001B[43m)\u001B[49m\n",
      "File \u001B[0;32m/snap/pycharm-professional/384/plugins/python/helpers/pydev/pydevd.py:1185\u001B[0m, in \u001B[0;36mPyDB.do_wait_suspend\u001B[0;34m(self, thread, frame, event, arg, send_suspend_message, is_unhandled_exception)\u001B[0m\n\u001B[1;32m   1182\u001B[0m         from_this_thread\u001B[38;5;241m.\u001B[39mappend(frame_id)\n\u001B[1;32m   1184\u001B[0m \u001B[38;5;28;01mwith\u001B[39;00m \u001B[38;5;28mself\u001B[39m\u001B[38;5;241m.\u001B[39m_threads_suspended_single_notification\u001B[38;5;241m.\u001B[39mnotify_thread_suspended(thread_id, stop_reason):\n\u001B[0;32m-> 1185\u001B[0m     \u001B[38;5;28;43mself\u001B[39;49m\u001B[38;5;241;43m.\u001B[39;49m\u001B[43m_do_wait_suspend\u001B[49m\u001B[43m(\u001B[49m\u001B[43mthread\u001B[49m\u001B[43m,\u001B[49m\u001B[43m \u001B[49m\u001B[43mframe\u001B[49m\u001B[43m,\u001B[49m\u001B[43m \u001B[49m\u001B[43mevent\u001B[49m\u001B[43m,\u001B[49m\u001B[43m \u001B[49m\u001B[43marg\u001B[49m\u001B[43m,\u001B[49m\u001B[43m \u001B[49m\u001B[43msuspend_type\u001B[49m\u001B[43m,\u001B[49m\u001B[43m \u001B[49m\u001B[43mfrom_this_thread\u001B[49m\u001B[43m)\u001B[49m\n",
      "File \u001B[0;32m/snap/pycharm-professional/384/plugins/python/helpers/pydev/pydevd.py:1200\u001B[0m, in \u001B[0;36mPyDB._do_wait_suspend\u001B[0;34m(self, thread, frame, event, arg, suspend_type, from_this_thread)\u001B[0m\n\u001B[1;32m   1197\u001B[0m             \u001B[38;5;28mself\u001B[39m\u001B[38;5;241m.\u001B[39m_call_mpl_hook()\n\u001B[1;32m   1199\u001B[0m         \u001B[38;5;28mself\u001B[39m\u001B[38;5;241m.\u001B[39mprocess_internal_commands()\n\u001B[0;32m-> 1200\u001B[0m         \u001B[43mtime\u001B[49m\u001B[38;5;241;43m.\u001B[39;49m\u001B[43msleep\u001B[49m\u001B[43m(\u001B[49m\u001B[38;5;241;43m0.01\u001B[39;49m\u001B[43m)\u001B[49m\n\u001B[1;32m   1202\u001B[0m \u001B[38;5;28mself\u001B[39m\u001B[38;5;241m.\u001B[39mcancel_async_evaluation(get_current_thread_id(thread), \u001B[38;5;28mstr\u001B[39m(\u001B[38;5;28mid\u001B[39m(frame)))\n\u001B[1;32m   1204\u001B[0m \u001B[38;5;66;03m# process any stepping instructions\u001B[39;00m\n",
      "\u001B[0;31mKeyboardInterrupt\u001B[0m: "
     ]
    }
   ],
   "execution_count": 6
  },
  {
   "cell_type": "code",
   "outputs": [],
   "source": [],
   "metadata": {
    "collapsed": false
   },
   "id": "32139069ec185e58",
   "execution_count": null
  }
 ],
 "metadata": {
  "kernelspec": {
   "display_name": "Python 3",
   "language": "python",
   "name": "python3"
  },
  "language_info": {
   "codemirror_mode": {
    "name": "ipython",
    "version": 2
   },
   "file_extension": ".py",
   "mimetype": "text/x-python",
   "name": "python",
   "nbconvert_exporter": "python",
   "pygments_lexer": "ipython2",
   "version": "2.7.6"
  }
 },
 "nbformat": 4,
 "nbformat_minor": 5
}
