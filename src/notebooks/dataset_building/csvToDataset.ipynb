{
 "cells": [
  {
   "cell_type": "code",
   "execution_count": 1,
   "metadata": {
    "collapsed": true,
    "ExecuteTime": {
     "end_time": "2023-11-07T14:49:21.616121055Z",
     "start_time": "2023-11-07T14:49:20.992320986Z"
    }
   },
   "outputs": [],
   "source": [
    "import datetime\n",
    "import random\n",
    "\n",
    "import numpy as np\n",
    "import yaml\n",
    "from matplotlib import pyplot as plt\n",
    "from tqdm import tqdm\n",
    "import os\n",
    "import csv\n",
    "\n",
    "from utils.data_reading.features_extractor import STFTFeaturesExtractor, RelativeDWTFeaturesExtractor, RawDataFeaturesExtractor\n",
    "from utils.data_reading.sound_file_manager import WavFilesManager\n",
    "from utils.misc.misc import make_directory"
   ]
  },
  {
   "cell_type": "markdown",
   "source": [
    "## Parameters"
   ],
   "metadata": {
    "collapsed": false
   }
  },
  {
   "cell_type": "code",
   "execution_count": 2,
   "outputs": [],
   "source": [
    "yaml_path = \"/home/plerolland/Bureau/OHASISBIO_dataset/data/dataset.yaml\"\n",
    "\n",
    "output_path = \"/media/plerolland/LaBoite/PublicData/training/raw\"\n",
    "\n",
    "# duration taken before and after the event for the output\n",
    "delta_output = datetime.timedelta(seconds=50)\n",
    "\n",
    "# type of data that we want\n",
    "#features_extractor = STFTFeaturesExtractor(None, vmin=-35, vmax=140)  # spectrograms generator\n",
    "#features_extractor = RelativeDWTFeaturesExtractor(None)  # DWT features generator\n",
    "features_extractor = RawDataFeaturesExtractor(None)  # DWT features generator\n",
    "\n",
    "random_offset_multiplicator = 1  # set to 0 if we want to center events\n",
    "\n",
    "SEED = 0"
   ],
   "metadata": {
    "collapsed": false,
    "ExecuteTime": {
     "end_time": "2023-11-07T14:49:21.623285577Z",
     "start_time": "2023-11-07T14:49:21.618520018Z"
    }
   }
  },
  {
   "cell_type": "markdown",
   "source": [
    "## Initialization"
   ],
   "metadata": {
    "collapsed": false
   }
  },
  {
   "cell_type": "code",
   "execution_count": 3,
   "outputs": [],
   "source": [
    "random.seed(SEED)\n",
    "\n",
    "with open(yaml_path, \"r\") as f:\n",
    "    params = yaml.load(f, Loader=yaml.BaseLoader)[\"train_dataset\"]\n",
    "prefix = params[\"root_dir\"]\n",
    "stations = list(params[\"stations\"].keys())\n",
    "\n",
    "dataset_csv_path = f\"{output_path}/dataset.csv\"\n",
    "\n",
    "positives = {h : [] for h in stations}\n",
    "negatives = {h : [] for h in stations}\n",
    "managers = {h : WavFilesManager(f\"{prefix}/{h}\") for h in stations}\n",
    "\n",
    "make_directory(output_path)\n",
    "make_directory(f\"{output_path}/positives\")\n",
    "make_directory(f\"{output_path}/negatives\")\n",
    "\n",
    "csv_data = []"
   ],
   "metadata": {
    "collapsed": false,
    "ExecuteTime": {
     "end_time": "2023-11-07T14:49:21.722343512Z",
     "start_time": "2023-11-07T14:49:21.622664229Z"
    }
   }
  },
  {
   "cell_type": "markdown",
   "source": [
    "## Data loading"
   ],
   "metadata": {
    "collapsed": false
   }
  },
  {
   "cell_type": "code",
   "execution_count": 4,
   "outputs": [],
   "source": [
    "with open(f\"{prefix}/dataset.csv\") as f:\n",
    "    csv_reader = csv.reader(f, delimiter=\",\")\n",
    "    next(csv_reader) # skip first line which contains column names\n",
    "    lines = list(csv_reader)\n",
    "for line in lines:\n",
    "    station = line[0]\n",
    "    date = datetime.datetime.strptime(line[2], \"%Y%m%d_%H%M%S\")\n",
    "    if line[1] == \"positive\":\n",
    "        positives[station].append(date)\n",
    "    else:\n",
    "        negatives[station].append(date)"
   ],
   "metadata": {
    "collapsed": false,
    "ExecuteTime": {
     "end_time": "2023-11-07T14:49:21.989581697Z",
     "start_time": "2023-11-07T14:49:21.725489922Z"
    }
   }
  },
  {
   "cell_type": "markdown",
   "source": [
    "## Dataset creation"
   ],
   "metadata": {
    "collapsed": false
   }
  },
  {
   "cell_type": "markdown",
   "source": [
    "### Positives"
   ],
   "metadata": {
    "collapsed": false
   }
  },
  {
   "cell_type": "code",
   "execution_count": 5,
   "outputs": [
    {
     "name": "stderr",
     "output_type": "stream",
     "text": [
      "100%|██████████| 9/9 [01:42<00:00, 11.36s/it]\n"
     ]
    }
   ],
   "source": [
    "dates = {station: [] for station in stations}\n",
    "segments_to_save = {station: [] for station in stations}\n",
    "\n",
    "# choose segments (with a random offset) for the positives\n",
    "for station, d in positives.items():\n",
    "    d = np.sort(d)\n",
    "    for i in range(len(d)):\n",
    "        dates[station].append([])\n",
    "        offset = (random.random()-0.5) * 1.9 * delta_output * random_offset_multiplicator\n",
    "        segments_to_save[station].append((d[i] + offset - delta_output, d[i] + offset + delta_output))\n",
    "        \n",
    "        j=i # look for events before this one that may appear in the window\n",
    "        while j>=0 and abs(d[j] - (d[i] + offset)) <= delta_output:\n",
    "            event_pos = d[j] - (d[i] + offset)\n",
    "            dates[station][-1].append(f\"{event_pos.total_seconds():.1f}\")\n",
    "            j -= 1\n",
    "        j=i+1 # look for events after this one that may appear in the window\n",
    "        while j<len(d) and abs(d[j] - (d[i] + offset)) <= delta_output:\n",
    "            event_pos = d[j] - (d[i] + offset)\n",
    "            dates[station][-1].append(f\"{event_pos.total_seconds():.1f}\")\n",
    "            j += 1\n",
    "\n",
    "# compute and save spectrogram\n",
    "for station in tqdm(positives.keys()):\n",
    "    features_extractor.manager = managers[station]\n",
    "    starts, ends = zip(*segments_to_save[station])\n",
    "    path_prefix = f'{output_path}/positives/{station}'\n",
    "    \n",
    "    if isinstance(features_extractor, RelativeDWTFeaturesExtractor):\n",
    "        # make only 1 file for the station because data representation is small enough\n",
    "        path = f'{path_prefix}.{features_extractor.EXTENSION}'\n",
    "        features_extractor.save_features_batch_single_file(starts, ends, path)\n",
    "        csv_data.extend([[path, str(i), \"positive\"] + dates[station][i] for i in range(len(starts))])\n",
    "    else:\n",
    "        # make 1 folder per station\n",
    "        make_directory(path_prefix)\n",
    "        d = positives[station]\n",
    "        paths = [f'{path_prefix}/{d[i].strftime(\"%Y%m%d_%H%M%S\")}.{features_extractor.EXTENSION}' for i in range(len(d))]\n",
    "        csv_data.extend([[paths[i], \"positive\"] + dates[station][i] for i in range(len(starts))])\n",
    "        features_extractor.save_features_batch(starts, ends, paths)"
   ],
   "metadata": {
    "collapsed": false,
    "ExecuteTime": {
     "end_time": "2023-11-07T14:51:04.347922613Z",
     "start_time": "2023-11-07T14:49:22.010972465Z"
    }
   }
  },
  {
   "cell_type": "markdown",
   "source": [
    "### Negatives"
   ],
   "metadata": {
    "collapsed": false
   }
  },
  {
   "cell_type": "code",
   "execution_count": 6,
   "outputs": [
    {
     "name": "stderr",
     "output_type": "stream",
     "text": [
      "100%|██████████| 9/9 [04:58<00:00, 33.17s/it]\n"
     ]
    }
   ],
   "source": [
    "for station in tqdm(negatives.keys()):\n",
    "    features_extractor.manager = managers[station]\n",
    "    starts, ends = zip(*[(negatives[station][i] - delta_output, negatives[station][i] + delta_output) for i in range(len(negatives[station]))])\n",
    "    path_prefix = f'{output_path}/negatives/{station}'\n",
    "    \n",
    "    if isinstance(features_extractor, RelativeDWTFeaturesExtractor):\n",
    "        # make only 1 file for the station because data representation is small enough\n",
    "        path = f'{path_prefix}.{features_extractor.EXTENSION}'\n",
    "        features_extractor.save_features_batch_single_file(starts, ends, path)\n",
    "        csv_data.extend([[path, str(i), \"negative\"] for i in range(len(starts))])\n",
    "    else:\n",
    "        # make 1 folder per station\n",
    "        make_directory(path_prefix)\n",
    "        d = negatives[station]\n",
    "        paths = [f'{path_prefix}/{d[i].strftime(\"%Y%m%d_%H%M%S\")}.{features_extractor.EXTENSION}' for i in range(len(d))]\n",
    "        csv_data.extend([[paths[i], \"negative\"] for i in range(len(starts))])\n",
    "        features_extractor.save_features_batch(starts, ends, paths)"
   ],
   "metadata": {
    "collapsed": false,
    "ExecuteTime": {
     "end_time": "2023-11-07T14:56:02.925132857Z",
     "start_time": "2023-11-07T14:51:04.346573991Z"
    }
   }
  },
  {
   "cell_type": "code",
   "execution_count": 7,
   "outputs": [],
   "source": [
    "with open(dataset_csv_path, \"w\") as f:\n",
    "    csv.writer(f).writerows(csv_data)"
   ],
   "metadata": {
    "collapsed": false,
    "ExecuteTime": {
     "end_time": "2023-11-07T14:56:02.925328025Z",
     "start_time": "2023-11-07T14:56:02.924571070Z"
    }
   }
  },
  {
   "cell_type": "code",
   "execution_count": 7,
   "outputs": [],
   "source": [],
   "metadata": {
    "collapsed": false,
    "ExecuteTime": {
     "end_time": "2023-11-07T14:56:02.925394681Z",
     "start_time": "2023-11-07T14:56:02.924718017Z"
    }
   }
  }
 ],
 "metadata": {
  "kernelspec": {
   "display_name": "Python 3",
   "language": "python",
   "name": "python3"
  },
  "language_info": {
   "codemirror_mode": {
    "name": "ipython",
    "version": 2
   },
   "file_extension": ".py",
   "mimetype": "text/x-python",
   "name": "python",
   "nbconvert_exporter": "python",
   "pygments_lexer": "ipython2",
   "version": "2.7.6"
  }
 },
 "nbformat": 4,
 "nbformat_minor": 0
}
