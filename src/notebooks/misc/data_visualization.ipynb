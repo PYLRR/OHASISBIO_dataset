{
 "cells": [
  {
   "cell_type": "markdown",
   "source": "This notebook simply allows to visualize particular time windows in the data",
   "metadata": {
    "collapsed": false
   },
   "id": "a761e24fec9c08f4"
  },
  {
   "cell_type": "code",
   "id": "initial_id",
   "metadata": {
    "collapsed": true
   },
   "source": [
    "import datetime\n",
    "import math\n",
    "\n",
    "import yaml\n",
    "from matplotlib import pyplot as plt\n",
    "import matplotlib\n",
    "matplotlib.rcParams.update({'font.size': 15})  # font size of matplotlib figures\n",
    "\n",
    "from src.utils.data_reading.features_extractor import STFTFeaturesExtractor\n",
    "from src.utils.data_reading.sound_file_manager import WavFilesManager"
   ],
   "outputs": [],
   "execution_count": null
  },
  {
   "cell_type": "code",
   "source": [
    "root_dir = \"PATH_TO_DATASET\"  # path of the dataset where we expect to find the yaml of the data\n",
    "events_yaml_path = \"../../../data/events.yaml\"  # file listing interesting events\n",
    "chosen_events = [\"T-wave_4\", \"H-wave_1\", \"Cryogenic_1\", \"Uncertain_1\", \"Ship-noise_1\", \"Antarctic-blue-whale-Z-calls_1\"]  # choice of the events to show (see events.yaml)\n",
    "features_extractor = STFTFeaturesExtractor(None, vmin=60, vmax=140, axis_labels=False)  # spectrograms generator"
   ],
   "metadata": {
    "collapsed": false
   },
   "id": "13b72b2fc7f22737",
   "outputs": [],
   "execution_count": null
  },
  {
   "metadata": {},
   "cell_type": "code",
   "source": [
    "with open(events_yaml_path, \"r\") as f:\n",
    "    available_events = yaml.load(f, Loader=yaml.BaseLoader)\n",
    "\n",
    "with open(f\"{root_dir}/datasets.yaml\", \"r\") as f:\n",
    "    all_params = yaml.load(f, Loader=yaml.BaseLoader)"
   ],
   "id": "71d7162782867932",
   "outputs": [],
   "execution_count": null
  },
  {
   "cell_type": "code",
   "source": [
    "nr = math.ceil(len(chosen_events)/2)\n",
    "ratio = 0.7\n",
    "plt.subplots(nr, 2, figsize=(18*ratio,nr*5*ratio))\n",
    "\n",
    "for i, chosen_event in enumerate(chosen_events):\n",
    "    event = available_events[chosen_event]\n",
    "    output_path = f'../../../data/figures/{event}.png'\n",
    "    params = all_params[event[\"dataset\"]]\n",
    "\n",
    "    manager = WavFilesManager(f'{root_dir}/{params[\"root_dir\"]}/{event[\"station\"]}')\n",
    "    features_extractor.manager = manager\n",
    "\n",
    "    segment_duration_s = int(event[\"segment_duration_s\"])\n",
    "    segment_duration = datetime.timedelta(seconds=segment_duration_s) # duration of the segment around the event\n",
    "    segment_center = datetime.datetime.strptime(event[\"segment_center\"], \"%Y%m%d_%H%M%S\") # event to show\n",
    "\n",
    "    f, t, features = features_extractor.get_features(segment_center - segment_duration / 2, segment_center + segment_duration / 2)\n",
    "    features = 255*(features - features_extractor.vmin) / (features_extractor.vmax - features_extractor.vmin)\n",
    "\n",
    "    ax = plt.subplot(nr, 2, i+1)\n",
    "    ax.imshow(features, extent=(0, segment_duration_s, f[-1], f[0]) ,aspect=\"auto\", cmap=\"inferno\", vmin=0, vmax=255)\n",
    "    \n",
    "    ax.text(0.015, 0.90, f\"{chr(97+i)})\", transform=ax.transAxes, size=20, weight='bold', ha=\"left\", color='white')\n",
    "    ax.text(0.98, 0.9, chosen_event.split(\"_\")[0].replace(\"-\",\" \"), transform=ax.transAxes, size=20, weight='bold', ha=\"right\", color='white')\n",
    "\n",
    "    if \"arrow_offset\" in event:\n",
    "        ax.arrow(int(event[\"arrow_offset\"])+segment_duration_s/2, 112, 0, -5,\n",
    "                                    length_includes_head=True, head_width=5, head_length=13, color=\"white\")\n",
    "    \n",
    "    if i >= len(chosen_events)-2:\n",
    "        # last row\n",
    "        ax.set_xlabel(\"Time (s)\")\n",
    "        \n",
    "    if i % 2 == 0:\n",
    "        # first column\n",
    "        ax.set_ylabel(\"Frequency (Hz)\")\n",
    "        \n",
    "        \n",
    "\n",
    "plt.tight_layout()\n",
    "plt.savefig(\"../../../data/figures/example_spectrograms_diversity.png\", dpi=200)"
   ],
   "metadata": {
    "collapsed": false
   },
   "id": "e2b119afc3e162a9",
   "outputs": [],
   "execution_count": null
  },
  {
   "cell_type": "code",
   "source": "    ",
   "metadata": {
    "collapsed": false
   },
   "id": "ca68305621ee78e9",
   "outputs": [],
   "execution_count": null
  }
 ],
 "metadata": {
  "kernelspec": {
   "display_name": "Python 3",
   "language": "python",
   "name": "python3"
  },
  "language_info": {
   "codemirror_mode": {
    "name": "ipython",
    "version": 2
   },
   "file_extension": ".py",
   "mimetype": "text/x-python",
   "name": "python",
   "nbconvert_exporter": "python",
   "pygments_lexer": "ipython2",
   "version": "2.7.6"
  }
 },
 "nbformat": 4,
 "nbformat_minor": 5
}
