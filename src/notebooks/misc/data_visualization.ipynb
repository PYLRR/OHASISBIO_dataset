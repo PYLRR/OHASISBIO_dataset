{
 "cells": [
  {
   "cell_type": "markdown",
   "source": [
    "This notebook simply allows to visualize a particular time window in the data"
   ],
   "metadata": {
    "collapsed": false
   },
   "id": "a761e24fec9c08f4"
  },
  {
   "cell_type": "code",
   "execution_count": null,
   "id": "initial_id",
   "metadata": {
    "collapsed": true
   },
   "outputs": [],
   "source": [
    "import datetime\n",
    "import yaml\n",
    "from matplotlib import pyplot as plt\n",
    "\n",
    "from utils.data_reading.features_extractor import STFTFeaturesExtractor\n",
    "from utils.data_reading.sound_file_manager import WavFilesManager"
   ]
  },
  {
   "cell_type": "code",
   "execution_count": null,
   "outputs": [],
   "source": [
    "datasets_yaml_path = \".yaml\"  # yaml of the data\n",
    "events_yaml_path = \"../../data/figures/events.yaml\"  # file listing interesting events\n",
    "chosen_event = \"cryophony_1\"  # choice of the event to show (see events.yaml)\n",
    "\n",
    "with open(events_yaml_path, \"r\") as f:\n",
    "    event = yaml.load(f, Loader=yaml.BaseLoader)[chosen_event]\n",
    "\n",
    "segment_duration = datetime.timedelta(seconds=int(event[\"segment_duration_s\"])) # duration of the segment around the event\n",
    "segment_center = datetime.datetime.strptime(event[\"segment_center\"], \"%Y%m%d_%H%M%S\") # event to show\n",
    "\n",
    "with open(datasets_yaml_path, \"r\") as f:\n",
    "    params = yaml.load(f, Loader=yaml.BaseLoader)[event[\"dataset\"]]\n",
    "manager = WavFilesManager(f'{params[\"root_dir\"]}/{event[\"station\"]}')\n",
    "\n",
    "features_extractor = STFTFeaturesExtractor(manager, vmin=-35, vmax=140, axis_labels=False)  # spectrograms generator"
   ],
   "metadata": {
    "collapsed": false
   },
   "id": "13b72b2fc7f22737"
  },
  {
   "cell_type": "code",
   "execution_count": null,
   "outputs": [],
   "source": [
    "output_path = f'../../data/figures/{chosen_event}_{event[\"station\"]}_{event[\"segment_center\"]}.png'\n",
    "\n",
    "features_extractor.show_features(segment_center - segment_duration / 2, segment_center + segment_duration / 2)\n",
    "\n",
    "plt.savefig(output_path, bbox_inches='tight')"
   ],
   "metadata": {
    "collapsed": false
   },
   "id": "e2b119afc3e162a9"
  },
  {
   "cell_type": "code",
   "execution_count": null,
   "outputs": [],
   "source": [],
   "metadata": {
    "collapsed": false
   },
   "id": "ca68305621ee78e9"
  }
 ],
 "metadata": {
  "kernelspec": {
   "display_name": "Python 3",
   "language": "python",
   "name": "python3"
  },
  "language_info": {
   "codemirror_mode": {
    "name": "ipython",
    "version": 2
   },
   "file_extension": ".py",
   "mimetype": "text/x-python",
   "name": "python",
   "nbconvert_exporter": "python",
   "pygments_lexer": "ipython2",
   "version": "2.7.6"
  }
 },
 "nbformat": 4,
 "nbformat_minor": 5
}
