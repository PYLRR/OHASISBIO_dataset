{
 "cells": [
  {
   "metadata": {},
   "cell_type": "code",
   "source": [
    "import datetime\n",
    "import shutil\n",
    "from pathlib import Path\n",
    "\n",
    "from matplotlib import pyplot as plt\n",
    "\n",
    "from utils.data_reading.sound_data.sound_file_manager import DatFilesManager, WavFilesManager"
   ],
   "id": "ea12e1e7606c498f",
   "outputs": [],
   "execution_count": null
  },
  {
   "cell_type": "code",
   "id": "initial_id",
   "metadata": {
    "collapsed": true
   },
   "source": [
    "# initialization\n",
    "manager = DatFilesManager(\"/media/plerolland/LaBoite/OHASISBIO/2017/MADE\")  # path of the dataset\n",
    "\n",
    "# bounds of the segment to convert to wav\n",
    "start = datetime.datetime(2017, 5, 1)  # year, month, day\n",
    "end = datetime.datetime(2017, 5, 2)\n",
    "files_duration = datetime.timedelta(hours=1)  # duration of each .wav file wanted as output\n",
    "path = \"./tmp\"  # path where to save the .wav files\n",
    "\n",
    "# conversion process\n",
    "manager.toWav(start, end, files_duration, path) "
   ],
   "outputs": [],
   "execution_count": null
  },
  {
   "metadata": {},
   "cell_type": "code",
   "source": [
    "# conversion to wav\n",
    "Path(path).mkdir(exist_ok=True)\n",
    "manager.toWav(start, end, files_duration, path) "
   ],
   "id": "d93e6e1fe0c8786d",
   "outputs": [],
   "execution_count": null
  },
  {
   "metadata": {},
   "cell_type": "code",
   "source": [
    "# reading back the wav files\n",
    "wav_manager = WavFilesManager(path)\n",
    "data = wav_manager.getSegment(wav_manager.dataset_start, wav_manager.dataset_end)\n",
    "plt.specgram(data)"
   ],
   "id": "9ebf5210a4360932",
   "outputs": [],
   "execution_count": null
  },
  {
   "metadata": {},
   "cell_type": "code",
   "source": [
    "# cleaning: delete the file\n",
    "shutil.rmtree(path)"
   ],
   "id": "1f0694016ef11e0d",
   "outputs": [],
   "execution_count": null
  },
  {
   "metadata": {},
   "cell_type": "code",
   "source": "",
   "id": "321cc7ae0acbda44",
   "outputs": [],
   "execution_count": null
  }
 ],
 "metadata": {
  "kernelspec": {
   "display_name": "Python 3",
   "language": "python",
   "name": "python3"
  },
  "language_info": {
   "codemirror_mode": {
    "name": "ipython",
    "version": 2
   },
   "file_extension": ".py",
   "mimetype": "text/x-python",
   "name": "python",
   "nbconvert_exporter": "python",
   "pygments_lexer": "ipython2",
   "version": "2.7.6"
  }
 },
 "nbformat": 4,
 "nbformat_minor": 5
}
