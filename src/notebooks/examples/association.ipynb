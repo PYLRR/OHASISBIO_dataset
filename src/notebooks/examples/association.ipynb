{
 "cells": [
  {
   "cell_type": "code",
   "id": "initial_id",
   "metadata": {
    "collapsed": true
   },
   "source": [
    "import datetime\n",
    "\n",
    "from utils.data_reading.catalogs.association import Association\n",
    "from utils.data_reading.catalogs.events import AcousticReception\n",
    "from utils.data_reading.sound_data.station import Station\n",
    "from utils.physics.sound_model import HomogeneousSoundModel"
   ],
   "outputs": [],
   "execution_count": null
  },
  {
   "metadata": {},
   "cell_type": "markdown",
   "source": "### Initialization",
   "id": "e5eebc5ffd33cfd8"
  },
  {
   "metadata": {},
   "cell_type": "code",
   "source": "sound_model = HomogeneousSoundModel(sound_speed=1480)  # simplest sound model",
   "id": "367f65761e6adcd8",
   "outputs": [],
   "execution_count": null
  },
  {
   "metadata": {},
   "cell_type": "markdown",
   "source": "### Define stations",
   "id": "6a56bcf06e15bbc4"
  },
  {
   "metadata": {},
   "cell_type": "code",
   "source": [
    "station_A = Station(\"\", \"station A\", -10, -10)\n",
    "station_B = Station(\"\", \"station B\", -10, 10)\n",
    "station_C = Station(\"\", \"station C\", 10, -10)\n",
    "station_D = Station(\"\", \"station D\", 10, 10)"
   ],
   "id": "cfb67efe0967d6e3",
   "outputs": [],
   "execution_count": null
  },
  {
   "metadata": {},
   "cell_type": "markdown",
   "source": "### Define detection times",
   "id": "90e4df214fee51ed"
  },
  {
   "metadata": {},
   "cell_type": "code",
   "source": [
    "detections = [\n",
    "    [AcousticReception(station_A, datetime.datetime(2021,1,1,10,0,0)), AcousticReception(station_A, datetime.datetime(2021,1,1,15,0,0))],\n",
    "    [AcousticReception(station_B, datetime.datetime(2021,1,1,10,0,0)), AcousticReception(station_B, datetime.datetime(2021,1,1,15,0,0))],\n",
    "    [AcousticReception(station_C, datetime.datetime(2021,1,1,10,0,0)), AcousticReception(station_C, datetime.datetime(2021,1,1,15,0,0))],\n",
    "    [AcousticReception(station_D, datetime.datetime(2021,1,1,10,0,0)), AcousticReception(station_D, datetime.datetime(2021,1,1,14,0,0))]\n",
    "]"
   ],
   "id": "52bb06bbdb2e33ac",
   "outputs": [],
   "execution_count": null
  },
  {
   "metadata": {},
   "cell_type": "markdown",
   "source": "### Make associations",
   "id": "4f464eccdac9af6"
  },
  {
   "metadata": {},
   "cell_type": "code",
   "source": [
    "association_1 = Association([detections[0][0], detections[1][0], detections[2][0], detections[3][0]])\n",
    "association_2 = Association([detections[0][0], detections[1][1], detections[2][1], detections[3][1]])"
   ],
   "id": "2d797d723c920d49",
   "outputs": [],
   "execution_count": null
  },
  {
   "metadata": {},
   "cell_type": "markdown",
   "source": "### Localize",
   "id": "cef882830c5357fa"
  },
  {
   "metadata": {},
   "cell_type": "code",
   "source": [
    "location_1 = association_1.compute_source(sound_model)\n",
    "location_2 = association_2.compute_source(sound_model)\n",
    "\n",
    "print(f\"First association yielded {location_1.x} (format [origin_time_delta_from_first_detection, lat, lon]) and second {location_2.x} with costs {location_1.cost} and {location_2.cost}\")"
   ],
   "id": "814a5da23524c0cb",
   "outputs": [],
   "execution_count": null
  },
  {
   "metadata": {},
   "cell_type": "code",
   "source": "",
   "id": "61d123cffa1655bf",
   "outputs": [],
   "execution_count": null
  }
 ],
 "metadata": {
  "kernelspec": {
   "display_name": "Python 3",
   "language": "python",
   "name": "python3"
  },
  "language_info": {
   "codemirror_mode": {
    "name": "ipython",
    "version": 2
   },
   "file_extension": ".py",
   "mimetype": "text/x-python",
   "name": "python",
   "nbconvert_exporter": "python",
   "pygments_lexer": "ipython2",
   "version": "2.7.6"
  }
 },
 "nbformat": 4,
 "nbformat_minor": 5
}
