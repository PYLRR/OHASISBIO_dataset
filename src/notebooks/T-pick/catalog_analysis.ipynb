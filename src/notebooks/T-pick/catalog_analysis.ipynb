{
 "cells": [
  {
   "cell_type": "code",
   "id": "initial_id",
   "metadata": {
    "collapsed": true,
    "ExecuteTime": {
     "end_time": "2024-06-03T14:56:06.137644Z",
     "start_time": "2024-06-03T14:56:05.948626Z"
    }
   },
   "source": [
    "import datetime\n",
    "import os\n",
    "\n",
    "import glob2\n",
    "import scipy.io.wavfile\n",
    "from tqdm import tqdm\n",
    "\n",
    "from utils.data_reading.catalogs.catalog import merge_catalogs\n",
    "from utils.data_reading.catalogs.isc import ISC_file"
   ],
   "outputs": [],
   "execution_count": 3
  },
  {
   "metadata": {
    "ExecuteTime": {
     "end_time": "2024-06-03T14:46:41.638533Z",
     "start_time": "2024-06-03T14:46:41.635617Z"
    }
   },
   "cell_type": "code",
   "source": [
    "# input files\n",
    "isc_dir = f\"/home/plerolland/Bureau/catalogs/ISC\"\n",
    "catalogs = \"/media/plerolland/LaBoite/twin_catalog\""
   ],
   "id": "b41ca8c6dcaae4c8",
   "outputs": [],
   "execution_count": 28
  },
  {
   "metadata": {
    "ExecuteTime": {
     "end_time": "2024-06-03T14:41:13.284101Z",
     "start_time": "2024-06-03T14:39:48.013248Z"
    }
   },
   "cell_type": "code",
   "source": [
    "isc_files = glob2.glob(f\"{isc_dir}/*.txt\")\n",
    "isc = []\n",
    "for isc_file in isc_files:\n",
    "    isc.append(ISC_file(isc_file))\n",
    "isc = merge_catalogs(isc)\n",
    "\n",
    "events = glob2.glob(f\"{catalogs}/*/*\")"
   ],
   "id": "f93ef3d49c5fe812",
   "outputs": [],
   "execution_count": 22
  },
  {
   "metadata": {
    "ExecuteTime": {
     "end_time": "2024-06-03T14:55:50.050970Z",
     "start_time": "2024-06-03T14:55:50.044783Z"
    }
   },
   "cell_type": "code",
   "source": [
    "def read_event(ID):\n",
    "    isc_event = isc[ID]\n",
    "    data = {}\n",
    "    stations = glob2.glob(f\"{event}/*\")\n",
    "    for station in stations:\n",
    "        station_params = station.split(\"/\")[:-4].split(\"_\")\n",
    "        station_name, date = station_params[0], datetime.datetime.strptime(f\"{station_params[1]}_{station_params[2]}\", \"%Y%m%d_%H%M%S\")\n",
    "        acoustic_data = scipy.io.wavfile.read(station)\n",
    "        data[station] = {\"station\": station_name, \"date\": date, \"acoustic_data\": acoustic_data}\n",
    "    return isc_event, data"
   ],
   "id": "27968ff5153115",
   "outputs": [],
   "execution_count": 1
  },
  {
   "metadata": {
    "ExecuteTime": {
     "end_time": "2024-06-03T14:56:08.361793Z",
     "start_time": "2024-06-03T14:56:08.342421Z"
    }
   },
   "cell_type": "code",
   "source": [
    "for event in tqdm(events):\n",
    "    ID = int(event.split(\"/\")[-1])\n",
    "    isc_even, data = read_event(ID)"
   ],
   "id": "31e83ccb8d3c6261",
   "outputs": [
    {
     "ename": "NameError",
     "evalue": "name 'events' is not defined",
     "output_type": "error",
     "traceback": [
      "\u001B[0;31m---------------------------------------------------------------------------\u001B[0m",
      "\u001B[0;31mNameError\u001B[0m                                 Traceback (most recent call last)",
      "Cell \u001B[0;32mIn[4], line 1\u001B[0m\n\u001B[0;32m----> 1\u001B[0m \u001B[38;5;28;01mfor\u001B[39;00m event \u001B[38;5;129;01min\u001B[39;00m tqdm(\u001B[43mevents\u001B[49m):\n\u001B[1;32m      2\u001B[0m     ID \u001B[38;5;241m=\u001B[39m \u001B[38;5;28mint\u001B[39m(event\u001B[38;5;241m.\u001B[39msplit(\u001B[38;5;124m\"\u001B[39m\u001B[38;5;124m/\u001B[39m\u001B[38;5;124m\"\u001B[39m)[\u001B[38;5;241m-\u001B[39m\u001B[38;5;241m1\u001B[39m])\n\u001B[1;32m      3\u001B[0m     isc_even, data \u001B[38;5;241m=\u001B[39m read_event(ID)\n",
      "\u001B[0;31mNameError\u001B[0m: name 'events' is not defined"
     ]
    }
   ],
   "execution_count": 4
  },
  {
   "metadata": {},
   "cell_type": "code",
   "outputs": [],
   "execution_count": null,
   "source": "",
   "id": "fa342d533c8da18e"
  }
 ],
 "metadata": {
  "kernelspec": {
   "display_name": "Python 3",
   "language": "python",
   "name": "python3"
  },
  "language_info": {
   "codemirror_mode": {
    "name": "ipython",
    "version": 2
   },
   "file_extension": ".py",
   "mimetype": "text/x-python",
   "name": "python",
   "nbconvert_exporter": "python",
   "pygments_lexer": "ipython2",
   "version": "2.7.6"
  }
 },
 "nbformat": 4,
 "nbformat_minor": 5
}
