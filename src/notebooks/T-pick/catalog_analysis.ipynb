{
 "cells": [
  {
   "cell_type": "code",
   "id": "initial_id",
   "metadata": {
    "collapsed": true,
    "ExecuteTime": {
     "end_time": "2024-06-04T14:53:06.904088Z",
     "start_time": "2024-06-04T14:53:06.425699Z"
    }
   },
   "source": [
    "import datetime\n",
    "import os\n",
    "\n",
    "import glob2\n",
    "import scipy.io.wavfile\n",
    "from tqdm import tqdm\n",
    "\n",
    "from utils.data_reading.catalogs.catalog import merge_catalogs\n",
    "from utils.data_reading.catalogs.isc import ISC_file\n",
    "from utils.data_reading.catalogs.twin_catalog import TwinCatalog\n",
    "from utils.data_reading.sound_data.station import StationsCatalog"
   ],
   "outputs": [],
   "execution_count": 1
  },
  {
   "metadata": {
    "ExecuteTime": {
     "end_time": "2024-06-04T14:53:06.907115Z",
     "start_time": "2024-06-04T14:53:06.904960Z"
    }
   },
   "cell_type": "code",
   "source": [
    "# input files\n",
    "isc_dir = f\"/home/plerolland/Bureau/catalogs/ISC\"\n",
    "catalog_path = \"/media/plerolland/LaBoite/twin_catalog\"\n",
    "datasets_yaml = \"/home/plerolland/Bureau/dataset.yaml\""
   ],
   "id": "b41ca8c6dcaae4c8",
   "outputs": [],
   "execution_count": 2
  },
  {
   "metadata": {
    "ExecuteTime": {
     "end_time": "2024-06-04T14:53:06.931216Z",
     "start_time": "2024-06-04T14:53:06.907885Z"
    }
   },
   "cell_type": "code",
   "source": "stations = StationsCatalog(datasets_yaml).filter_out_undated().filter_out_unlocated()",
   "id": "c2f4236625783116",
   "outputs": [],
   "execution_count": 3
  },
  {
   "metadata": {
    "ExecuteTime": {
     "end_time": "2024-06-04T14:53:10.065007Z",
     "start_time": "2024-06-04T14:53:06.932223Z"
    }
   },
   "cell_type": "code",
   "source": "catalog = TwinCatalog(catalog_path, isc_dir, stations)",
   "id": "f93ef3d49c5fe812",
   "outputs": [],
   "execution_count": 4
  },
  {
   "metadata": {
    "ExecuteTime": {
     "end_time": "2024-06-04T14:53:56.421472Z",
     "start_time": "2024-06-04T14:53:20.071336Z"
    }
   },
   "cell_type": "code",
   "source": [
    "for ID, twin_association in tqdm(catalog.items.items()):\n",
    "    data = [event.get_data() for event in twin_association.acoustic_association]"
   ],
   "id": "fa342d533c8da18e",
   "outputs": [
    {
     "name": "stderr",
     "output_type": "stream",
     "text": [
      "100%|██████████| 741/741 [00:36<00:00, 20.39it/s]\n"
     ]
    }
   ],
   "execution_count": 6
  },
  {
   "metadata": {},
   "cell_type": "code",
   "source": "",
   "id": "b91275ca52176c41",
   "outputs": [],
   "execution_count": null
  }
 ],
 "metadata": {
  "kernelspec": {
   "display_name": "Python 3",
   "language": "python",
   "name": "python3"
  },
  "language_info": {
   "codemirror_mode": {
    "name": "ipython",
    "version": 2
   },
   "file_extension": ".py",
   "mimetype": "text/x-python",
   "name": "python",
   "nbconvert_exporter": "python",
   "pygments_lexer": "ipython2",
   "version": "2.7.6"
  }
 },
 "nbformat": 4,
 "nbformat_minor": 5
}
