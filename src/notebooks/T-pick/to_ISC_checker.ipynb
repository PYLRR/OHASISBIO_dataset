{
 "cells": [
  {
   "cell_type": "code",
   "id": "initial_id",
   "metadata": {
    "collapsed": true,
    "ExecuteTime": {
     "end_time": "2024-06-04T08:10:53.773613Z",
     "start_time": "2024-06-04T08:10:53.118297Z"
    }
   },
   "source": [
    "import datetime\n",
    "import pickle\n",
    "from pathlib import Path\n",
    "\n",
    "from tqdm import tqdm\n",
    "\n",
    "from utils.data_reading.catalogs.isc import ISC_file\n",
    "from utils.transformations.features_extractor import STFTFeaturesExtractor"
   ],
   "outputs": [],
   "execution_count": 1
  },
  {
   "metadata": {
    "ExecuteTime": {
     "end_time": "2024-06-04T08:10:53.777334Z",
     "start_time": "2024-06-04T08:10:53.774941Z"
    }
   },
   "cell_type": "code",
   "source": [
    "year = 2017\n",
    "\n",
    "# input files\n",
    "datasets_yaml = \"/home/plerolland/Bureau/dataset.yaml\"\n",
    "detections_file = f\"../../../data/T-pick/{year}/log_det\"\n",
    "matchups_raw_file = f\"../../../data/T-pick/{year}/matchups\"\n",
    "\n",
    "# output dir\n",
    "dest = f\"/home/plerolland/Bureau/ISC_matchup_check/{year}\"\n",
    "\n",
    "DELTA = datetime.timedelta(seconds=100)\n",
    "TIME_RES = 0.5\n",
    "FREQ_RES = 120/128"
   ],
   "id": "65d3a7be75f24077",
   "outputs": [],
   "execution_count": 2
  },
  {
   "metadata": {
    "ExecuteTime": {
     "end_time": "2024-06-04T08:11:01.332318Z",
     "start_time": "2024-06-04T08:10:53.929599Z"
    }
   },
   "cell_type": "code",
   "source": [
    "with open(detections_file, 'rb') as f:\n",
    "    detections = pickle.load(f)[1]\n",
    "\n",
    "with open(matchups_raw_file, \"rb\") as f:\n",
    "    selected_matchups = pickle.load(f)\n",
    "\n",
    "STFT_computer = STFTFeaturesExtractor(None, f_min=0, f_max=120, vmin=70, vmax=100)"
   ],
   "id": "97ae05a4cf5cc4a2",
   "outputs": [],
   "execution_count": 3
  },
  {
   "metadata": {
    "ExecuteTime": {
     "end_time": "2024-06-04T09:37:21.990351Z",
     "start_time": "2024-06-04T08:11:01.333595Z"
    }
   },
   "cell_type": "code",
   "source": [
    "seen_stations = []\n",
    "\n",
    "for ID, matchup in tqdm(selected_matchups.items()):\n",
    "    available_stations = [d[0] for d in detections[ID]]\n",
    "    for i, station in enumerate(available_stations):\n",
    "        # try to get station from history if it can be found there\n",
    "        if station in seen_stations:\n",
    "            station = seen_stations[seen_stations.index(station)]\n",
    "        else:\n",
    "            seen_stations.append(station)\n",
    "\n",
    "        STFT_computer.manager = station.get_manager()\n",
    "        STFT_computer.nperseg = round(STFT_computer.manager.sampling_f / FREQ_RES)\n",
    "        STFT_computer.overlap = 1 - TIME_RES * STFT_computer.manager.sampling_f / STFT_computer.nperseg\n",
    "        folder = f\"{dest}/{station.name}\"\n",
    "        Path(folder).mkdir(parents=True, exist_ok=True)\n",
    "\n",
    "        det = matchup[station][\"time_s\"] if station in matchup else -1\n",
    "\n",
    "        center = detections[ID][i][1]\n",
    "        start, end = center - DELTA, center + DELTA\n",
    "        if not Path(f\"{folder}/{ID}_{det}.png\").exists():\n",
    "            STFT_computer.save_features(start, end, f\"{folder}/{ID}_{det:.2f}.png\")"
   ],
   "id": "f7227d332c0013e4",
   "outputs": [
    {
     "name": "stderr",
     "output_type": "stream",
     "text": [
      " 12%|█▏        | 93/804 [10:14<1:26:09,  7.27s/it]/home/plerolland/Bureau/OHASISBIO_dataset/src/utils/transformations/features_extractor.py:157: UserWarning: /home/plerolland/Bureau/ISC_matchup_check/2017/H04N1/611574065_-1.00.png is a low contrast image\n",
      "  skimage.io.imsave(path, spectro.astype(np.uint8))\n",
      " 12%|█▏        | 95/804 [10:30<1:31:10,  7.72s/it]/home/plerolland/Bureau/OHASISBIO_dataset/src/utils/transformations/features_extractor.py:157: UserWarning: /home/plerolland/Bureau/ISC_matchup_check/2017/SSWIR/616322026_-1.00.png is a low contrast image\n",
      "  skimage.io.imsave(path, spectro.astype(np.uint8))\n",
      " 42%|████▏     | 340/804 [36:14<46:38,  6.03s/it]  /home/plerolland/Bureau/OHASISBIO_dataset/src/utils/transformations/features_extractor.py:157: UserWarning: /home/plerolland/Bureau/ISC_matchup_check/2017/H04N1/611574152_-1.00.png is a low contrast image\n",
      "  skimage.io.imsave(path, spectro.astype(np.uint8))\n",
      " 47%|████▋     | 375/804 [40:01<45:48,  6.41s/it]/home/plerolland/Bureau/OHASISBIO_dataset/src/utils/transformations/features_extractor.py:157: UserWarning: /home/plerolland/Bureau/ISC_matchup_check/2017/H08S1/611595045_-1.00.png is a low contrast image\n",
      "  skimage.io.imsave(path, spectro.astype(np.uint8))\n",
      " 47%|████▋     | 381/804 [40:36<42:46,  6.07s/it]/home/plerolland/Bureau/OHASISBIO_dataset/src/utils/transformations/features_extractor.py:157: UserWarning: /home/plerolland/Bureau/ISC_matchup_check/2017/H04N1/611461115_-1.00.png is a low contrast image\n",
      "  skimage.io.imsave(path, spectro.astype(np.uint8))\n",
      " 73%|███████▎  | 583/804 [1:02:08<20:28,  5.56s/it]/home/plerolland/Bureau/OHASISBIO_dataset/src/utils/transformations/features_extractor.py:157: UserWarning: /home/plerolland/Bureau/ISC_matchup_check/2017/H04N1/611574003_-1.00.png is a low contrast image\n",
      "  skimage.io.imsave(path, spectro.astype(np.uint8))\n",
      " 73%|███████▎  | 584/804 [1:02:15<21:18,  5.81s/it]/home/plerolland/Bureau/OHASISBIO_dataset/src/utils/transformations/features_extractor.py:157: UserWarning: /home/plerolland/Bureau/ISC_matchup_check/2017/H04N1/611574007_-1.00.png is a low contrast image\n",
      "  skimage.io.imsave(path, spectro.astype(np.uint8))\n",
      " 74%|███████▍  | 595/804 [1:03:20<22:13,  6.38s/it]/home/plerolland/Bureau/OHASISBIO_dataset/src/utils/transformations/features_extractor.py:157: UserWarning: /home/plerolland/Bureau/ISC_matchup_check/2017/H04N1/611574004_-1.00.png is a low contrast image\n",
      "  skimage.io.imsave(path, spectro.astype(np.uint8))\n",
      " 88%|████████▊ | 708/804 [1:15:45<12:07,  7.58s/it]/home/plerolland/Bureau/OHASISBIO_dataset/src/utils/transformations/features_extractor.py:157: UserWarning: /home/plerolland/Bureau/ISC_matchup_check/2017/H04N1/611461119_-1.00.png is a low contrast image\n",
      "  skimage.io.imsave(path, spectro.astype(np.uint8))\n",
      "100%|██████████| 804/804 [1:26:20<00:00,  6.44s/it]\n"
     ]
    }
   ],
   "execution_count": 4
  },
  {
   "metadata": {
    "ExecuteTime": {
     "end_time": "2024-05-31T10:07:01.187413Z",
     "start_time": "2024-05-31T10:07:01.185113Z"
    }
   },
   "cell_type": "code",
   "source": "    ",
   "id": "f2b0a11a2865f014",
   "outputs": [],
   "execution_count": 4
  }
 ],
 "metadata": {
  "kernelspec": {
   "display_name": "Python 3",
   "language": "python",
   "name": "python3"
  },
  "language_info": {
   "codemirror_mode": {
    "name": "ipython",
    "version": 2
   },
   "file_extension": ".py",
   "mimetype": "text/x-python",
   "name": "python",
   "nbconvert_exporter": "python",
   "pygments_lexer": "ipython2",
   "version": "2.7.6"
  }
 },
 "nbformat": 4,
 "nbformat_minor": 5
}
