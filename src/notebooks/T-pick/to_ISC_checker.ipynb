{
 "cells": [
  {
   "cell_type": "code",
   "id": "initial_id",
   "metadata": {
    "collapsed": true,
    "ExecuteTime": {
     "end_time": "2024-08-20T08:33:58.994114Z",
     "start_time": "2024-08-20T08:33:57.580168Z"
    }
   },
   "source": [
    "import datetime\n",
    "import pickle\n",
    "from pathlib import Path\n",
    "\n",
    "from tqdm import tqdm\n",
    "\n",
    "from utils.data_reading.catalogs.isc import ISC_file\n",
    "from utils.transformations.features_extractor import STFTFeaturesExtractor"
   ],
   "outputs": [
    {
     "name": "stderr",
     "output_type": "stream",
     "text": [
      "/home/plerolland/.local/lib/python3.10/site-packages/matplotlib/projections/__init__.py:63: UserWarning: Unable to import Axes3D. This may be due to multiple versions of Matplotlib being installed (e.g. as a system package and as a pip package). As a result, the 3D projection is not available.\n",
      "  warnings.warn(\"Unable to import Axes3D. This may be due to multiple versions of \"\n"
     ]
    }
   ],
   "execution_count": 1
  },
  {
   "metadata": {
    "ExecuteTime": {
     "end_time": "2024-08-20T08:34:01.956231Z",
     "start_time": "2024-08-20T08:34:01.950130Z"
    }
   },
   "cell_type": "code",
   "source": [
    "year = 2010\n",
    "\n",
    "# input files\n",
    "datasets_yaml = \"/home/plerolland/Bureau/dataset.yaml\"\n",
    "detections_file = f\"../../../data/T-pick/{year}/log_det\"\n",
    "matchups_raw_file = f\"../../../data/T-pick/{year}/matchups\"\n",
    "\n",
    "# output dir\n",
    "dest = f\"/home/plerolland/Bureau/ISC_matchup_check/{year}\"\n",
    "\n",
    "DELTA = datetime.timedelta(seconds=100)\n",
    "TIME_RES = 0.5\n",
    "FREQ_RES = 120/128"
   ],
   "id": "65d3a7be75f24077",
   "outputs": [],
   "execution_count": 2
  },
  {
   "metadata": {
    "ExecuteTime": {
     "end_time": "2024-08-20T08:34:19.911345Z",
     "start_time": "2024-08-20T08:34:03.005927Z"
    }
   },
   "cell_type": "code",
   "source": [
    "with open(detections_file, 'rb') as f:\n",
    "    detections = pickle.load(f)[1]\n",
    "\n",
    "with open(matchups_raw_file, \"rb\") as f:\n",
    "    selected_matchups = pickle.load(f)\n",
    "\n",
    "STFT_computer = STFTFeaturesExtractor(None, f_min=0, f_max=120, vmin=70, vmax=100)"
   ],
   "id": "97ae05a4cf5cc4a2",
   "outputs": [],
   "execution_count": 3
  },
  {
   "metadata": {
    "ExecuteTime": {
     "end_time": "2024-08-20T08:45:18.437105Z",
     "start_time": "2024-08-20T08:34:19.913854Z"
    }
   },
   "cell_type": "code",
   "outputs": [
    {
     "name": "stderr",
     "output_type": "stream",
     "text": [
      "  3%|▎         | 45/1315 [00:25<10:04,  2.10it/s]/home/plerolland/Bureau/OHASISBIO_dataset/src/utils/transformations/features_extractor.py:157: UserWarning: /home/plerolland/Bureau/ISC_matchup_check/2010/H08S1/14683432_-1.00.png is a low contrast image\n",
      "  skimage.io.imsave(path, spectro.astype(np.uint8))\n",
      "/home/plerolland/Bureau/OHASISBIO_dataset/src/utils/transformations/features_extractor.py:157: UserWarning: /home/plerolland/Bureau/ISC_matchup_check/2010/H08N1/14683432_-1.00.png is a low contrast image\n",
      "  skimage.io.imsave(path, spectro.astype(np.uint8))\n",
      "  5%|▍         | 60/1315 [00:33<12:01,  1.74it/s]/home/plerolland/Bureau/OHASISBIO_dataset/src/utils/transformations/features_extractor.py:157: UserWarning: /home/plerolland/Bureau/ISC_matchup_check/2010/H08S1/17364966_-1.00.png is a low contrast image\n",
      "  skimage.io.imsave(path, spectro.astype(np.uint8))\n",
      "/home/plerolland/Bureau/OHASISBIO_dataset/src/utils/transformations/features_extractor.py:157: UserWarning: /home/plerolland/Bureau/ISC_matchup_check/2010/H08N1/17364966_-1.00.png is a low contrast image\n",
      "  skimage.io.imsave(path, spectro.astype(np.uint8))\n",
      "  6%|▌         | 76/1315 [00:42<10:46,  1.92it/s]/home/plerolland/Bureau/OHASISBIO_dataset/src/utils/transformations/features_extractor.py:157: UserWarning: /home/plerolland/Bureau/ISC_matchup_check/2010/H08S1/17170491_-1.00.png is a low contrast image\n",
      "  skimage.io.imsave(path, spectro.astype(np.uint8))\n",
      "/home/plerolland/Bureau/OHASISBIO_dataset/src/utils/transformations/features_extractor.py:157: UserWarning: /home/plerolland/Bureau/ISC_matchup_check/2010/H08N1/17170491_-1.00.png is a low contrast image\n",
      "  skimage.io.imsave(path, spectro.astype(np.uint8))\n",
      "  7%|▋         | 93/1315 [00:51<11:05,  1.84it/s]/home/plerolland/Bureau/OHASISBIO_dataset/src/utils/transformations/features_extractor.py:157: UserWarning: /home/plerolland/Bureau/ISC_matchup_check/2010/NEAMS/17172676_-1.00.png is a low contrast image\n",
      "  skimage.io.imsave(path, spectro.astype(np.uint8))\n",
      " 19%|█▊        | 246/1315 [02:10<09:14,  1.93it/s]/home/plerolland/Bureau/OHASISBIO_dataset/src/utils/transformations/features_extractor.py:157: UserWarning: /home/plerolland/Bureau/ISC_matchup_check/2010/H08S1/15633200_-1.00.png is a low contrast image\n",
      "  skimage.io.imsave(path, spectro.astype(np.uint8))\n",
      "/home/plerolland/Bureau/OHASISBIO_dataset/src/utils/transformations/features_extractor.py:157: UserWarning: /home/plerolland/Bureau/ISC_matchup_check/2010/H08N1/15633200_-1.00.png is a low contrast image\n",
      "  skimage.io.imsave(path, spectro.astype(np.uint8))\n",
      " 19%|█▉        | 249/1315 [02:11<09:05,  1.96it/s]/home/plerolland/Bureau/OHASISBIO_dataset/src/utils/transformations/features_extractor.py:157: UserWarning: /home/plerolland/Bureau/ISC_matchup_check/2010/H08N1/15633465_-1.00.png is a low contrast image\n",
      "  skimage.io.imsave(path, spectro.astype(np.uint8))\n",
      " 19%|█▉        | 250/1315 [02:12<09:23,  1.89it/s]/home/plerolland/Bureau/OHASISBIO_dataset/src/utils/transformations/features_extractor.py:157: UserWarning: /home/plerolland/Bureau/ISC_matchup_check/2010/H08S1/15633107_-1.00.png is a low contrast image\n",
      "  skimage.io.imsave(path, spectro.astype(np.uint8))\n",
      "/home/plerolland/Bureau/OHASISBIO_dataset/src/utils/transformations/features_extractor.py:157: UserWarning: /home/plerolland/Bureau/ISC_matchup_check/2010/H08N1/15633107_-1.00.png is a low contrast image\n",
      "  skimage.io.imsave(path, spectro.astype(np.uint8))\n",
      " 20%|██        | 269/1315 [02:21<08:28,  2.06it/s]/home/plerolland/Bureau/OHASISBIO_dataset/src/utils/transformations/features_extractor.py:157: UserWarning: /home/plerolland/Bureau/ISC_matchup_check/2010/H08S1/17170442_-1.00.png is a low contrast image\n",
      "  skimage.io.imsave(path, spectro.astype(np.uint8))\n",
      "/home/plerolland/Bureau/OHASISBIO_dataset/src/utils/transformations/features_extractor.py:157: UserWarning: /home/plerolland/Bureau/ISC_matchup_check/2010/H08N1/17170442_-1.00.png is a low contrast image\n",
      "  skimage.io.imsave(path, spectro.astype(np.uint8))\n",
      " 24%|██▍       | 319/1315 [02:46<08:16,  2.00it/s]/home/plerolland/Bureau/OHASISBIO_dataset/src/utils/transformations/features_extractor.py:157: UserWarning: /home/plerolland/Bureau/ISC_matchup_check/2010/H08S1/17157188_-1.00.png is a low contrast image\n",
      "  skimage.io.imsave(path, spectro.astype(np.uint8))\n",
      "/home/plerolland/Bureau/OHASISBIO_dataset/src/utils/transformations/features_extractor.py:157: UserWarning: /home/plerolland/Bureau/ISC_matchup_check/2010/H08N1/17157188_-1.00.png is a low contrast image\n",
      "  skimage.io.imsave(path, spectro.astype(np.uint8))\n",
      " 25%|██▌       | 331/1315 [02:52<08:52,  1.85it/s]/home/plerolland/Bureau/OHASISBIO_dataset/src/utils/transformations/features_extractor.py:157: UserWarning: /home/plerolland/Bureau/ISC_matchup_check/2010/NEAMS/17172576_-1.00.png is a low contrast image\n",
      "  skimage.io.imsave(path, spectro.astype(np.uint8))\n",
      " 31%|███       | 409/1315 [03:31<07:38,  1.98it/s]/home/plerolland/Bureau/OHASISBIO_dataset/src/utils/transformations/features_extractor.py:157: UserWarning: /home/plerolland/Bureau/ISC_matchup_check/2010/H01W1/17447461_-1.00.png is a low contrast image\n",
      "  skimage.io.imsave(path, spectro.astype(np.uint8))\n",
      " 31%|███▏      | 413/1315 [03:33<07:29,  2.01it/s]/home/plerolland/Bureau/OHASISBIO_dataset/src/utils/transformations/features_extractor.py:157: UserWarning: /home/plerolland/Bureau/ISC_matchup_check/2010/H08S1/14680870_-1.00.png is a low contrast image\n",
      "  skimage.io.imsave(path, spectro.astype(np.uint8))\n",
      "/home/plerolland/Bureau/OHASISBIO_dataset/src/utils/transformations/features_extractor.py:157: UserWarning: /home/plerolland/Bureau/ISC_matchup_check/2010/H08N1/14680870_-1.00.png is a low contrast image\n",
      "  skimage.io.imsave(path, spectro.astype(np.uint8))\n",
      " 32%|███▏      | 425/1315 [03:39<08:04,  1.84it/s]/home/plerolland/Bureau/OHASISBIO_dataset/src/utils/transformations/features_extractor.py:157: UserWarning: /home/plerolland/Bureau/ISC_matchup_check/2010/H08S1/15633215_-1.00.png is a low contrast image\n",
      "  skimage.io.imsave(path, spectro.astype(np.uint8))\n",
      "/home/plerolland/Bureau/OHASISBIO_dataset/src/utils/transformations/features_extractor.py:157: UserWarning: /home/plerolland/Bureau/ISC_matchup_check/2010/H08N1/15633215_-1.00.png is a low contrast image\n",
      "  skimage.io.imsave(path, spectro.astype(np.uint8))\n",
      " 38%|███▊      | 495/1315 [04:14<06:29,  2.11it/s]/home/plerolland/Bureau/OHASISBIO_dataset/src/utils/transformations/features_extractor.py:157: UserWarning: /home/plerolland/Bureau/ISC_matchup_check/2010/H08S1/17172734_-1.00.png is a low contrast image\n",
      "  skimage.io.imsave(path, spectro.astype(np.uint8))\n",
      " 40%|████      | 526/1315 [04:29<06:36,  1.99it/s]/home/plerolland/Bureau/OHASISBIO_dataset/src/utils/transformations/features_extractor.py:157: UserWarning: /home/plerolland/Bureau/ISC_matchup_check/2010/H08N1/17171044_-1.00.png is a low contrast image\n",
      "  skimage.io.imsave(path, spectro.astype(np.uint8))\n",
      " 42%|████▏     | 546/1315 [04:39<07:07,  1.80it/s]/home/plerolland/Bureau/OHASISBIO_dataset/src/utils/transformations/features_extractor.py:157: UserWarning: /home/plerolland/Bureau/ISC_matchup_check/2010/H08S1/14681449_-1.00.png is a low contrast image\n",
      "  skimage.io.imsave(path, spectro.astype(np.uint8))\n",
      "/home/plerolland/Bureau/OHASISBIO_dataset/src/utils/transformations/features_extractor.py:157: UserWarning: /home/plerolland/Bureau/ISC_matchup_check/2010/H08N1/14681449_-1.00.png is a low contrast image\n",
      "  skimage.io.imsave(path, spectro.astype(np.uint8))\n",
      " 43%|████▎     | 568/1315 [04:51<06:59,  1.78it/s]/home/plerolland/Bureau/OHASISBIO_dataset/src/utils/transformations/features_extractor.py:157: UserWarning: /home/plerolland/Bureau/ISC_matchup_check/2010/H08N1/17171148_-1.00.png is a low contrast image\n",
      "  skimage.io.imsave(path, spectro.astype(np.uint8))\n",
      " 45%|████▍     | 589/1315 [05:02<06:32,  1.85it/s]/home/plerolland/Bureau/OHASISBIO_dataset/src/utils/transformations/features_extractor.py:157: UserWarning: /home/plerolland/Bureau/ISC_matchup_check/2010/H08S1/14681446_-1.00.png is a low contrast image\n",
      "  skimage.io.imsave(path, spectro.astype(np.uint8))\n",
      "/home/plerolland/Bureau/OHASISBIO_dataset/src/utils/transformations/features_extractor.py:157: UserWarning: /home/plerolland/Bureau/ISC_matchup_check/2010/H08N1/14681446_-1.00.png is a low contrast image\n",
      "  skimage.io.imsave(path, spectro.astype(np.uint8))\n",
      " 46%|████▋     | 610/1315 [05:12<05:54,  1.99it/s]/home/plerolland/Bureau/OHASISBIO_dataset/src/utils/transformations/features_extractor.py:157: UserWarning: /home/plerolland/Bureau/ISC_matchup_check/2010/H08S1/14681832_-1.00.png is a low contrast image\n",
      "  skimage.io.imsave(path, spectro.astype(np.uint8))\n",
      "/home/plerolland/Bureau/OHASISBIO_dataset/src/utils/transformations/features_extractor.py:157: UserWarning: /home/plerolland/Bureau/ISC_matchup_check/2010/H08N1/14681832_-1.00.png is a low contrast image\n",
      "  skimage.io.imsave(path, spectro.astype(np.uint8))\n",
      " 50%|█████     | 663/1315 [05:38<06:06,  1.78it/s]/home/plerolland/Bureau/OHASISBIO_dataset/src/utils/transformations/features_extractor.py:157: UserWarning: /home/plerolland/Bureau/ISC_matchup_check/2010/H01W1/14870654_-1.00.png is a low contrast image\n",
      "  skimage.io.imsave(path, spectro.astype(np.uint8))\n",
      " 52%|█████▏    | 682/1315 [05:48<05:29,  1.92it/s]/home/plerolland/Bureau/OHASISBIO_dataset/src/utils/transformations/features_extractor.py:157: UserWarning: /home/plerolland/Bureau/ISC_matchup_check/2010/H01W1/14368568_-1.00.png is a low contrast image\n",
      "  skimage.io.imsave(path, spectro.astype(np.uint8))\n",
      " 52%|█████▏    | 683/1315 [05:49<05:30,  1.91it/s]/home/plerolland/Bureau/OHASISBIO_dataset/src/utils/transformations/features_extractor.py:157: UserWarning: /home/plerolland/Bureau/ISC_matchup_check/2010/H08N1/17152319_-1.00.png is a low contrast image\n",
      "  skimage.io.imsave(path, spectro.astype(np.uint8))\n",
      " 54%|█████▍    | 715/1315 [06:05<05:10,  1.93it/s]/home/plerolland/Bureau/OHASISBIO_dataset/src/utils/transformations/features_extractor.py:157: UserWarning: /home/plerolland/Bureau/ISC_matchup_check/2010/H08S1/15633112_-1.00.png is a low contrast image\n",
      "  skimage.io.imsave(path, spectro.astype(np.uint8))\n",
      "/home/plerolland/Bureau/OHASISBIO_dataset/src/utils/transformations/features_extractor.py:157: UserWarning: /home/plerolland/Bureau/ISC_matchup_check/2010/H08N1/15633112_-1.00.png is a low contrast image\n",
      "  skimage.io.imsave(path, spectro.astype(np.uint8))\n",
      " 57%|█████▋    | 747/1315 [06:20<04:31,  2.09it/s]/home/plerolland/Bureau/OHASISBIO_dataset/src/utils/transformations/features_extractor.py:157: UserWarning: /home/plerolland/Bureau/ISC_matchup_check/2010/NEAMS/14759639_-1.00.png is a low contrast image\n",
      "  skimage.io.imsave(path, spectro.astype(np.uint8))\n",
      " 60%|█████▉    | 783/1315 [06:38<04:22,  2.03it/s]/home/plerolland/Bureau/OHASISBIO_dataset/src/utils/transformations/features_extractor.py:157: UserWarning: /home/plerolland/Bureau/ISC_matchup_check/2010/H08S1/14681451_-1.00.png is a low contrast image\n",
      "  skimage.io.imsave(path, spectro.astype(np.uint8))\n",
      "/home/plerolland/Bureau/OHASISBIO_dataset/src/utils/transformations/features_extractor.py:157: UserWarning: /home/plerolland/Bureau/ISC_matchup_check/2010/H08N1/14681451_-1.00.png is a low contrast image\n",
      "  skimage.io.imsave(path, spectro.astype(np.uint8))\n",
      " 61%|██████▏   | 808/1315 [06:50<04:17,  1.97it/s]/home/plerolland/Bureau/OHASISBIO_dataset/src/utils/transformations/features_extractor.py:157: UserWarning: /home/plerolland/Bureau/ISC_matchup_check/2010/H08S1/15633048_-1.00.png is a low contrast image\n",
      "  skimage.io.imsave(path, spectro.astype(np.uint8))\n",
      "/home/plerolland/Bureau/OHASISBIO_dataset/src/utils/transformations/features_extractor.py:157: UserWarning: /home/plerolland/Bureau/ISC_matchup_check/2010/H08N1/15633048_-1.00.png is a low contrast image\n",
      "  skimage.io.imsave(path, spectro.astype(np.uint8))\n",
      " 63%|██████▎   | 835/1315 [07:03<03:45,  2.13it/s]/home/plerolland/Bureau/OHASISBIO_dataset/src/utils/transformations/features_extractor.py:157: UserWarning: /home/plerolland/Bureau/ISC_matchup_check/2010/H08S1/15633070_-1.00.png is a low contrast image\n",
      "  skimage.io.imsave(path, spectro.astype(np.uint8))\n",
      "/home/plerolland/Bureau/OHASISBIO_dataset/src/utils/transformations/features_extractor.py:157: UserWarning: /home/plerolland/Bureau/ISC_matchup_check/2010/H08N1/15633070_-1.00.png is a low contrast image\n",
      "  skimage.io.imsave(path, spectro.astype(np.uint8))\n",
      " 64%|██████▍   | 845/1315 [07:09<04:29,  1.74it/s]/home/plerolland/Bureau/OHASISBIO_dataset/src/utils/transformations/features_extractor.py:157: UserWarning: /home/plerolland/Bureau/ISC_matchup_check/2010/H01W1/14367085_-1.00.png is a low contrast image\n",
      "  skimage.io.imsave(path, spectro.astype(np.uint8))\n",
      " 65%|██████▍   | 852/1315 [07:13<03:49,  2.02it/s]/home/plerolland/Bureau/OHASISBIO_dataset/src/utils/transformations/features_extractor.py:157: UserWarning: /home/plerolland/Bureau/ISC_matchup_check/2010/H08S1/17170480_-1.00.png is a low contrast image\n",
      "  skimage.io.imsave(path, spectro.astype(np.uint8))\n",
      "/home/plerolland/Bureau/OHASISBIO_dataset/src/utils/transformations/features_extractor.py:157: UserWarning: /home/plerolland/Bureau/ISC_matchup_check/2010/H08N1/17170480_-1.00.png is a low contrast image\n",
      "  skimage.io.imsave(path, spectro.astype(np.uint8))\n",
      " 67%|██████▋   | 882/1315 [07:27<03:17,  2.19it/s]/home/plerolland/Bureau/OHASISBIO_dataset/src/utils/transformations/features_extractor.py:157: UserWarning: /home/plerolland/Bureau/ISC_matchup_check/2010/H08N1/17171149_-1.00.png is a low contrast image\n",
      "  skimage.io.imsave(path, spectro.astype(np.uint8))\n",
      " 73%|███████▎  | 957/1315 [08:04<02:49,  2.11it/s]/home/plerolland/Bureau/OHASISBIO_dataset/src/utils/transformations/features_extractor.py:157: UserWarning: /home/plerolland/Bureau/ISC_matchup_check/2010/H08N1/14463050_-1.00.png is a low contrast image\n",
      "  skimage.io.imsave(path, spectro.astype(np.uint8))\n",
      " 73%|███████▎  | 963/1315 [08:06<02:32,  2.31it/s]/home/plerolland/Bureau/OHASISBIO_dataset/src/utils/transformations/features_extractor.py:157: UserWarning: /home/plerolland/Bureau/ISC_matchup_check/2010/H01W1/16115486_-1.00.png is a low contrast image\n",
      "  skimage.io.imsave(path, spectro.astype(np.uint8))\n",
      " 74%|███████▍  | 976/1315 [08:13<02:46,  2.04it/s]/home/plerolland/Bureau/OHASISBIO_dataset/src/utils/transformations/features_extractor.py:157: UserWarning: /home/plerolland/Bureau/ISC_matchup_check/2010/H08N1/17171097_-1.00.png is a low contrast image\n",
      "  skimage.io.imsave(path, spectro.astype(np.uint8))\n",
      " 74%|███████▍  | 977/1315 [08:13<02:45,  2.05it/s]/home/plerolland/Bureau/OHASISBIO_dataset/src/utils/transformations/features_extractor.py:157: UserWarning: /home/plerolland/Bureau/ISC_matchup_check/2010/H08S1/15633790_-1.00.png is a low contrast image\n",
      "  skimage.io.imsave(path, spectro.astype(np.uint8))\n",
      " 76%|███████▌  | 996/1315 [08:22<02:34,  2.07it/s]/home/plerolland/Bureau/OHASISBIO_dataset/src/utils/transformations/features_extractor.py:157: UserWarning: /home/plerolland/Bureau/ISC_matchup_check/2010/H08S1/17170565_-1.00.png is a low contrast image\n",
      "  skimage.io.imsave(path, spectro.astype(np.uint8))\n",
      "/home/plerolland/Bureau/OHASISBIO_dataset/src/utils/transformations/features_extractor.py:157: UserWarning: /home/plerolland/Bureau/ISC_matchup_check/2010/H08N1/17170565_-1.00.png is a low contrast image\n",
      "  skimage.io.imsave(path, spectro.astype(np.uint8))\n",
      " 77%|███████▋  | 1015/1315 [08:32<02:35,  1.93it/s]/home/plerolland/Bureau/OHASISBIO_dataset/src/utils/transformations/features_extractor.py:157: UserWarning: /home/plerolland/Bureau/ISC_matchup_check/2010/H08S1/15633786_-1.00.png is a low contrast image\n",
      "  skimage.io.imsave(path, spectro.astype(np.uint8))\n",
      " 79%|███████▉  | 1044/1315 [08:47<02:02,  2.21it/s]/home/plerolland/Bureau/OHASISBIO_dataset/src/utils/transformations/features_extractor.py:157: UserWarning: /home/plerolland/Bureau/ISC_matchup_check/2010/H08S1/14732890_-1.00.png is a low contrast image\n",
      "  skimage.io.imsave(path, spectro.astype(np.uint8))\n",
      "/home/plerolland/Bureau/OHASISBIO_dataset/src/utils/transformations/features_extractor.py:157: UserWarning: /home/plerolland/Bureau/ISC_matchup_check/2010/H08N1/14732890_-1.00.png is a low contrast image\n",
      "  skimage.io.imsave(path, spectro.astype(np.uint8))\n",
      " 80%|████████  | 1057/1315 [08:53<02:08,  2.01it/s]/home/plerolland/Bureau/OHASISBIO_dataset/src/utils/transformations/features_extractor.py:157: UserWarning: /home/plerolland/Bureau/ISC_matchup_check/2010/H08N1/15633472_-1.00.png is a low contrast image\n",
      "  skimage.io.imsave(path, spectro.astype(np.uint8))\n",
      " 84%|████████▍ | 1108/1315 [09:19<01:37,  2.12it/s]/home/plerolland/Bureau/OHASISBIO_dataset/src/utils/transformations/features_extractor.py:157: UserWarning: /home/plerolland/Bureau/ISC_matchup_check/2010/H08S1/17170427_-1.00.png is a low contrast image\n",
      "  skimage.io.imsave(path, spectro.astype(np.uint8))\n",
      "/home/plerolland/Bureau/OHASISBIO_dataset/src/utils/transformations/features_extractor.py:157: UserWarning: /home/plerolland/Bureau/ISC_matchup_check/2010/H08N1/17170427_-1.00.png is a low contrast image\n",
      "  skimage.io.imsave(path, spectro.astype(np.uint8))\n",
      " 88%|████████▊ | 1156/1315 [09:41<01:18,  2.02it/s]/home/plerolland/Bureau/OHASISBIO_dataset/src/utils/transformations/features_extractor.py:157: UserWarning: /home/plerolland/Bureau/ISC_matchup_check/2010/H08S1/15633143_-1.00.png is a low contrast image\n",
      "  skimage.io.imsave(path, spectro.astype(np.uint8))\n",
      "/home/plerolland/Bureau/OHASISBIO_dataset/src/utils/transformations/features_extractor.py:157: UserWarning: /home/plerolland/Bureau/ISC_matchup_check/2010/H08N1/15633143_-1.00.png is a low contrast image\n",
      "  skimage.io.imsave(path, spectro.astype(np.uint8))\n",
      " 88%|████████▊ | 1160/1315 [09:43<01:12,  2.14it/s]/home/plerolland/Bureau/OHASISBIO_dataset/src/utils/transformations/features_extractor.py:157: UserWarning: /home/plerolland/Bureau/ISC_matchup_check/2010/H08N1/17171100_-1.00.png is a low contrast image\n",
      "  skimage.io.imsave(path, spectro.astype(np.uint8))\n",
      " 89%|████████▊ | 1164/1315 [09:45<01:14,  2.03it/s]/home/plerolland/Bureau/OHASISBIO_dataset/src/utils/transformations/features_extractor.py:157: UserWarning: /home/plerolland/Bureau/ISC_matchup_check/2010/H08N1/17171098_-1.00.png is a low contrast image\n",
      "  skimage.io.imsave(path, spectro.astype(np.uint8))\n",
      " 89%|████████▉ | 1174/1315 [09:50<01:13,  1.92it/s]/home/plerolland/Bureau/OHASISBIO_dataset/src/utils/transformations/features_extractor.py:157: UserWarning: /home/plerolland/Bureau/ISC_matchup_check/2010/H08S1/15633211_-1.00.png is a low contrast image\n",
      "  skimage.io.imsave(path, spectro.astype(np.uint8))\n",
      "/home/plerolland/Bureau/OHASISBIO_dataset/src/utils/transformations/features_extractor.py:157: UserWarning: /home/plerolland/Bureau/ISC_matchup_check/2010/H08N1/15633211_-1.00.png is a low contrast image\n",
      "  skimage.io.imsave(path, spectro.astype(np.uint8))\n",
      " 92%|█████████▏| 1207/1315 [10:06<00:54,  1.99it/s]/home/plerolland/Bureau/OHASISBIO_dataset/src/utils/transformations/features_extractor.py:157: UserWarning: /home/plerolland/Bureau/ISC_matchup_check/2010/H08S1/17157208_-1.00.png is a low contrast image\n",
      "  skimage.io.imsave(path, spectro.astype(np.uint8))\n",
      "/home/plerolland/Bureau/OHASISBIO_dataset/src/utils/transformations/features_extractor.py:157: UserWarning: /home/plerolland/Bureau/ISC_matchup_check/2010/H08N1/17157208_-1.00.png is a low contrast image\n",
      "  skimage.io.imsave(path, spectro.astype(np.uint8))\n",
      " 93%|█████████▎| 1219/1315 [10:12<00:43,  2.21it/s]/home/plerolland/Bureau/OHASISBIO_dataset/src/utils/transformations/features_extractor.py:157: UserWarning: /home/plerolland/Bureau/ISC_matchup_check/2010/H08S1/15633159_-1.00.png is a low contrast image\n",
      "  skimage.io.imsave(path, spectro.astype(np.uint8))\n",
      "/home/plerolland/Bureau/OHASISBIO_dataset/src/utils/transformations/features_extractor.py:157: UserWarning: /home/plerolland/Bureau/ISC_matchup_check/2010/H08N1/15633159_-1.00.png is a low contrast image\n",
      "  skimage.io.imsave(path, spectro.astype(np.uint8))\n",
      " 93%|█████████▎| 1227/1315 [10:16<00:44,  1.99it/s]/home/plerolland/Bureau/OHASISBIO_dataset/src/utils/transformations/features_extractor.py:157: UserWarning: /home/plerolland/Bureau/ISC_matchup_check/2010/H08S1/15630169_-1.00.png is a low contrast image\n",
      "  skimage.io.imsave(path, spectro.astype(np.uint8))\n",
      "/home/plerolland/Bureau/OHASISBIO_dataset/src/utils/transformations/features_extractor.py:157: UserWarning: /home/plerolland/Bureau/ISC_matchup_check/2010/H08N1/15630169_-1.00.png is a low contrast image\n",
      "  skimage.io.imsave(path, spectro.astype(np.uint8))\n",
      " 95%|█████████▌| 1254/1315 [10:29<00:29,  2.05it/s]/home/plerolland/Bureau/OHASISBIO_dataset/src/utils/transformations/features_extractor.py:157: UserWarning: /home/plerolland/Bureau/ISC_matchup_check/2010/H08N1/17365116_-1.00.png is a low contrast image\n",
      "  skimage.io.imsave(path, spectro.astype(np.uint8))\n",
      " 97%|█████████▋| 1275/1315 [10:39<00:17,  2.24it/s]/home/plerolland/Bureau/OHASISBIO_dataset/src/utils/transformations/features_extractor.py:157: UserWarning: /home/plerolland/Bureau/ISC_matchup_check/2010/H08S1/14250123_-1.00.png is a low contrast image\n",
      "  skimage.io.imsave(path, spectro.astype(np.uint8))\n",
      " 98%|█████████▊| 1289/1315 [10:46<00:13,  1.95it/s]/home/plerolland/Bureau/OHASISBIO_dataset/src/utils/transformations/features_extractor.py:157: UserWarning: /home/plerolland/Bureau/ISC_matchup_check/2010/H08S1/17172780_-1.00.png is a low contrast image\n",
      "  skimage.io.imsave(path, spectro.astype(np.uint8))\n",
      " 99%|█████████▊| 1296/1315 [10:49<00:08,  2.16it/s]/home/plerolland/Bureau/OHASISBIO_dataset/src/utils/transformations/features_extractor.py:157: UserWarning: /home/plerolland/Bureau/ISC_matchup_check/2010/H08S1/17364844_-1.00.png is a low contrast image\n",
      "  skimage.io.imsave(path, spectro.astype(np.uint8))\n",
      "/home/plerolland/Bureau/OHASISBIO_dataset/src/utils/transformations/features_extractor.py:157: UserWarning: /home/plerolland/Bureau/ISC_matchup_check/2010/H08N1/17364844_-1.00.png is a low contrast image\n",
      "  skimage.io.imsave(path, spectro.astype(np.uint8))\n",
      "100%|██████████| 1315/1315 [10:58<00:00,  2.00it/s]\n"
     ]
    }
   ],
   "execution_count": 4,
   "source": [
    "seen_stations = []\n",
    "\n",
    "for ID, matchup in tqdm(selected_matchups.items()):\n",
    "    available_stations = [d[0] for d in detections[ID]]\n",
    "    for i, station in enumerate(available_stations):\n",
    "        # try to get station from history if it can be found there\n",
    "        if station in seen_stations:\n",
    "            station = seen_stations[seen_stations.index(station)]\n",
    "        else:\n",
    "            seen_stations.append(station)\n",
    "\n",
    "        STFT_computer.manager = station.get_manager()\n",
    "        STFT_computer.manager.cache_size = 0  # important : enable to avoid loading the whole sound files at each get_segment() call\n",
    "        STFT_computer.nperseg = round(STFT_computer.manager.sampling_f / FREQ_RES)\n",
    "        STFT_computer.overlap = 1 - TIME_RES * STFT_computer.manager.sampling_f / STFT_computer.nperseg\n",
    "        folder = f\"{dest}/{station.name}\"\n",
    "        Path(folder).mkdir(parents=True, exist_ok=True)\n",
    "\n",
    "        det = matchup[station][\"time_s\"] if station in matchup else -1\n",
    "\n",
    "        center = detections[ID][i][1]\n",
    "        start, end = center - DELTA, center + DELTA\n",
    "        if not Path(f\"{folder}/{ID}_{det}.png\").exists():\n",
    "            STFT_computer.save_features(start, end, f\"{folder}/{ID}_{det:.2f}.png\")"
   ],
   "id": "f7227d332c0013e4"
  },
  {
   "metadata": {
    "ExecuteTime": {
     "end_time": "2024-08-19T09:42:09.748738Z",
     "start_time": "2024-08-19T09:42:09.746048Z"
    }
   },
   "cell_type": "code",
   "source": "    ",
   "id": "f2b0a11a2865f014",
   "outputs": [],
   "execution_count": 8
  }
 ],
 "metadata": {
  "kernelspec": {
   "display_name": "Python 3",
   "language": "python",
   "name": "python3"
  },
  "language_info": {
   "codemirror_mode": {
    "name": "ipython",
    "version": 2
   },
   "file_extension": ".py",
   "mimetype": "text/x-python",
   "name": "python",
   "nbconvert_exporter": "python",
   "pygments_lexer": "ipython2",
   "version": "2.7.6"
  }
 },
 "nbformat": 4,
 "nbformat_minor": 5
}
