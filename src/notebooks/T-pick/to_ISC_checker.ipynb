{
 "cells": [
  {
   "cell_type": "code",
   "id": "initial_id",
   "metadata": {
    "collapsed": true,
    "ExecuteTime": {
     "end_time": "2024-08-03T20:54:21.829683Z",
     "start_time": "2024-08-03T20:54:20.628910Z"
    }
   },
   "source": [
    "import datetime\n",
    "import pickle\n",
    "from pathlib import Path\n",
    "\n",
    "from tqdm import tqdm\n",
    "\n",
    "from utils.data_reading.catalogs.isc import ISC_file\n",
    "from utils.transformations.features_extractor import STFTFeaturesExtractor"
   ],
   "outputs": [
    {
     "name": "stderr",
     "output_type": "stream",
     "text": [
      "/home/plerolland/.local/lib/python3.10/site-packages/matplotlib/projections/__init__.py:63: UserWarning: Unable to import Axes3D. This may be due to multiple versions of Matplotlib being installed (e.g. as a system package and as a pip package). As a result, the 3D projection is not available.\n",
      "  warnings.warn(\"Unable to import Axes3D. This may be due to multiple versions of \"\n"
     ]
    }
   ],
   "execution_count": 1
  },
  {
   "metadata": {
    "ExecuteTime": {
     "end_time": "2024-08-03T20:54:21.835729Z",
     "start_time": "2024-08-03T20:54:21.831277Z"
    }
   },
   "cell_type": "code",
   "source": [
    "year = 2015\n",
    "\n",
    "# input files\n",
    "datasets_yaml = \"/home/plerolland/Bureau/dataset.yaml\"\n",
    "detections_file = f\"../../../data/T-pick/{year}/log_det\"\n",
    "matchups_raw_file = f\"../../../data/T-pick/{year}/matchups\"\n",
    "\n",
    "# output dir\n",
    "dest = f\"/home/plerolland/Bureau/ISC_matchup_check/{year}\"\n",
    "\n",
    "DELTA = datetime.timedelta(seconds=100)\n",
    "TIME_RES = 0.5\n",
    "FREQ_RES = 120/128"
   ],
   "id": "65d3a7be75f24077",
   "outputs": [],
   "execution_count": 2
  },
  {
   "metadata": {
    "ExecuteTime": {
     "end_time": "2024-08-03T20:54:37.230658Z",
     "start_time": "2024-08-03T20:54:22.923699Z"
    }
   },
   "cell_type": "code",
   "source": [
    "with open(detections_file, 'rb') as f:\n",
    "    detections = pickle.load(f)[1]\n",
    "\n",
    "with open(matchups_raw_file, \"rb\") as f:\n",
    "    selected_matchups = pickle.load(f)\n",
    "\n",
    "STFT_computer = STFTFeaturesExtractor(None, f_min=0, f_max=120, vmin=70, vmax=100)"
   ],
   "id": "97ae05a4cf5cc4a2",
   "outputs": [],
   "execution_count": 3
  },
  {
   "metadata": {
    "ExecuteTime": {
     "end_time": "2024-08-03T21:02:59.817093Z",
     "start_time": "2024-08-03T20:54:37.232805Z"
    }
   },
   "cell_type": "code",
   "source": [
    "seen_stations = []\n",
    "\n",
    "for ID, matchup in tqdm(selected_matchups.items()):\n",
    "    available_stations = [d[0] for d in detections[ID]]\n",
    "    for i, station in enumerate(available_stations):\n",
    "        # try to get station from history if it can be found there\n",
    "        if station in seen_stations:\n",
    "            station = seen_stations[seen_stations.index(station)]\n",
    "        else:\n",
    "            seen_stations.append(station)\n",
    "\n",
    "        STFT_computer.manager = station.get_manager()\n",
    "        STFT_computer.manager.cache_size = 0  # important : enable to avoid loading the whole sound files at each get_segment() call\n",
    "        STFT_computer.nperseg = round(STFT_computer.manager.sampling_f / FREQ_RES)\n",
    "        STFT_computer.overlap = 1 - TIME_RES * STFT_computer.manager.sampling_f / STFT_computer.nperseg\n",
    "        folder = f\"{dest}/{station.name}\"\n",
    "        Path(folder).mkdir(parents=True, exist_ok=True)\n",
    "\n",
    "        det = matchup[station][\"time_s\"] if station in matchup else -1\n",
    "\n",
    "        center = detections[ID][i][1]\n",
    "        start, end = center - DELTA, center + DELTA\n",
    "        if not Path(f\"{folder}/{ID}_{det}.png\").exists():\n",
    "            STFT_computer.save_features(start, end, f\"{folder}/{ID}_{det:.2f}.png\")"
   ],
   "id": "f7227d332c0013e4",
   "outputs": [
    {
     "name": "stderr",
     "output_type": "stream",
     "text": [
      "  0%|          | 2/1097 [00:01<14:56,  1.22it/s]/home/plerolland/Bureau/OHASISBIO_dataset/src/utils/transformations/features_extractor.py:157: UserWarning: /home/plerolland/Bureau/ISC_matchup_check/2015/H01W1/607263251_-1.00.png is a low contrast image\n",
      "  skimage.io.imsave(path, spectro.astype(np.uint8))\n",
      "  1%|          | 8/1097 [00:04<09:24,  1.93it/s]/home/plerolland/Bureau/OHASISBIO_dataset/src/utils/transformations/features_extractor.py:157: UserWarning: /home/plerolland/Bureau/ISC_matchup_check/2015/H01W1/607263153_-1.00.png is a low contrast image\n",
      "  skimage.io.imsave(path, spectro.astype(np.uint8))\n",
      "  6%|▌         | 64/1097 [00:31<08:47,  1.96it/s]/home/plerolland/Bureau/OHASISBIO_dataset/src/utils/transformations/features_extractor.py:157: UserWarning: /home/plerolland/Bureau/ISC_matchup_check/2015/H01W1/607262917_-1.00.png is a low contrast image\n",
      "  skimage.io.imsave(path, spectro.astype(np.uint8))\n",
      "  6%|▌         | 67/1097 [00:32<08:37,  1.99it/s]/home/plerolland/Bureau/OHASISBIO_dataset/src/utils/transformations/features_extractor.py:157: UserWarning: /home/plerolland/Bureau/ISC_matchup_check/2015/H01W1/607174444_-1.00.png is a low contrast image\n",
      "  skimage.io.imsave(path, spectro.astype(np.uint8))\n",
      " 11%|█         | 118/1097 [00:56<06:56,  2.35it/s]/home/plerolland/Bureau/OHASISBIO_dataset/src/utils/transformations/features_extractor.py:157: UserWarning: /home/plerolland/Bureau/ISC_matchup_check/2015/H01W1/607634428_-1.00.png is a low contrast image\n",
      "  skimage.io.imsave(path, spectro.astype(np.uint8))\n",
      " 18%|█▊        | 195/1097 [01:32<06:53,  2.18it/s]/home/plerolland/Bureau/OHASISBIO_dataset/src/utils/transformations/features_extractor.py:157: UserWarning: /home/plerolland/Bureau/ISC_matchup_check/2015/H01W1/607232492_-1.00.png is a low contrast image\n",
      "  skimage.io.imsave(path, spectro.astype(np.uint8))\n",
      " 20%|█▉        | 214/1097 [01:41<07:34,  1.94it/s]/home/plerolland/Bureau/OHASISBIO_dataset/src/utils/transformations/features_extractor.py:157: UserWarning: /home/plerolland/Bureau/ISC_matchup_check/2015/H08S1/606933453_-1.00.png is a low contrast image\n",
      "  skimage.io.imsave(path, spectro.astype(np.uint8))\n",
      " 23%|██▎       | 248/1097 [01:57<06:32,  2.16it/s]/home/plerolland/Bureau/OHASISBIO_dataset/src/utils/transformations/features_extractor.py:157: UserWarning: /home/plerolland/Bureau/ISC_matchup_check/2015/H01W1/607634406_-1.00.png is a low contrast image\n",
      "  skimage.io.imsave(path, spectro.astype(np.uint8))\n",
      " 23%|██▎       | 249/1097 [01:58<06:16,  2.25it/s]/home/plerolland/Bureau/OHASISBIO_dataset/src/utils/transformations/features_extractor.py:157: UserWarning: /home/plerolland/Bureau/ISC_matchup_check/2015/H01W1/607634438_-1.00.png is a low contrast image\n",
      "  skimage.io.imsave(path, spectro.astype(np.uint8))\n",
      " 24%|██▎       | 258/1097 [02:02<07:37,  1.84it/s]/home/plerolland/Bureau/OHASISBIO_dataset/src/utils/transformations/features_extractor.py:157: UserWarning: /home/plerolland/Bureau/ISC_matchup_check/2015/H08S1/608185745_-1.00.png is a low contrast image\n",
      "  skimage.io.imsave(path, spectro.astype(np.uint8))\n",
      " 25%|██▌       | 277/1097 [02:12<07:27,  1.83it/s]/home/plerolland/Bureau/OHASISBIO_dataset/src/utils/transformations/features_extractor.py:157: UserWarning: /home/plerolland/Bureau/ISC_matchup_check/2015/H01W1/607634339_-1.00.png is a low contrast image\n",
      "  skimage.io.imsave(path, spectro.astype(np.uint8))\n",
      " 28%|██▊       | 306/1097 [02:27<06:52,  1.92it/s]/home/plerolland/Bureau/OHASISBIO_dataset/src/utils/transformations/features_extractor.py:157: UserWarning: /home/plerolland/Bureau/ISC_matchup_check/2015/H01W1/607263149_-1.00.png is a low contrast image\n",
      "  skimage.io.imsave(path, spectro.astype(np.uint8))\n",
      " 28%|██▊       | 309/1097 [02:28<06:22,  2.06it/s]/home/plerolland/Bureau/OHASISBIO_dataset/src/utils/transformations/features_extractor.py:157: UserWarning: /home/plerolland/Bureau/ISC_matchup_check/2015/H08S1/608185741_-1.00.png is a low contrast image\n",
      "  skimage.io.imsave(path, spectro.astype(np.uint8))\n",
      " 30%|██▉       | 328/1097 [02:37<06:56,  1.85it/s]/home/plerolland/Bureau/OHASISBIO_dataset/src/utils/transformations/features_extractor.py:157: UserWarning: /home/plerolland/Bureau/ISC_matchup_check/2015/H08S1/606725136_-1.00.png is a low contrast image\n",
      "  skimage.io.imsave(path, spectro.astype(np.uint8))\n",
      " 30%|███       | 331/1097 [02:39<06:26,  1.98it/s]/home/plerolland/Bureau/OHASISBIO_dataset/src/utils/transformations/features_extractor.py:157: UserWarning: /home/plerolland/Bureau/ISC_matchup_check/2015/H01W1/607634322_-1.00.png is a low contrast image\n",
      "  skimage.io.imsave(path, spectro.astype(np.uint8))\n",
      " 31%|███       | 336/1097 [02:41<06:06,  2.08it/s]/home/plerolland/Bureau/OHASISBIO_dataset/src/utils/transformations/features_extractor.py:157: UserWarning: /home/plerolland/Bureau/ISC_matchup_check/2015/H01W1/607262946_-1.00.png is a low contrast image\n",
      "  skimage.io.imsave(path, spectro.astype(np.uint8))\n",
      " 31%|███       | 340/1097 [02:43<06:11,  2.04it/s]/home/plerolland/Bureau/OHASISBIO_dataset/src/utils/transformations/features_extractor.py:157: UserWarning: /home/plerolland/Bureau/ISC_matchup_check/2015/H01W1/607634408_-1.00.png is a low contrast image\n",
      "  skimage.io.imsave(path, spectro.astype(np.uint8))\n",
      " 37%|███▋      | 402/1097 [03:12<05:34,  2.08it/s]/home/plerolland/Bureau/OHASISBIO_dataset/src/utils/transformations/features_extractor.py:157: UserWarning: /home/plerolland/Bureau/ISC_matchup_check/2015/H01W1/607634434_-1.00.png is a low contrast image\n",
      "  skimage.io.imsave(path, spectro.astype(np.uint8))\n",
      " 52%|█████▏    | 573/1097 [04:37<04:26,  1.96it/s]/home/plerolland/Bureau/OHASISBIO_dataset/src/utils/transformations/features_extractor.py:157: UserWarning: /home/plerolland/Bureau/ISC_matchup_check/2015/H08S1/608185743_-1.00.png is a low contrast image\n",
      "  skimage.io.imsave(path, spectro.astype(np.uint8))\n",
      " 53%|█████▎    | 578/1097 [04:39<03:57,  2.18it/s]/home/plerolland/Bureau/OHASISBIO_dataset/src/utils/transformations/features_extractor.py:157: UserWarning: /home/plerolland/Bureau/ISC_matchup_check/2015/H01W1/607262996_-1.00.png is a low contrast image\n",
      "  skimage.io.imsave(path, spectro.astype(np.uint8))\n",
      " 64%|██████▎   | 698/1097 [05:30<02:53,  2.30it/s]/home/plerolland/Bureau/OHASISBIO_dataset/src/utils/transformations/features_extractor.py:157: UserWarning: /home/plerolland/Bureau/ISC_matchup_check/2015/H01W1/607262926_-1.00.png is a low contrast image\n",
      "  skimage.io.imsave(path, spectro.astype(np.uint8))\n",
      " 65%|██████▍   | 710/1097 [05:35<02:45,  2.34it/s]/home/plerolland/Bureau/OHASISBIO_dataset/src/utils/transformations/features_extractor.py:157: UserWarning: /home/plerolland/Bureau/ISC_matchup_check/2015/H01W1/607634341_-1.00.png is a low contrast image\n",
      "  skimage.io.imsave(path, spectro.astype(np.uint8))\n",
      " 69%|██████▊   | 752/1097 [05:54<02:28,  2.32it/s]/home/plerolland/Bureau/OHASISBIO_dataset/src/utils/transformations/features_extractor.py:157: UserWarning: /home/plerolland/Bureau/ISC_matchup_check/2015/H01W1/607229080_-1.00.png is a low contrast image\n",
      "  skimage.io.imsave(path, spectro.astype(np.uint8))\n",
      " 75%|███████▍  | 818/1097 [06:22<01:58,  2.36it/s]/home/plerolland/Bureau/OHASISBIO_dataset/src/utils/transformations/features_extractor.py:157: UserWarning: /home/plerolland/Bureau/ISC_matchup_check/2015/H01W1/607263085_-1.00.png is a low contrast image\n",
      "  skimage.io.imsave(path, spectro.astype(np.uint8))\n",
      " 88%|████████▊ | 960/1097 [07:22<01:06,  2.05it/s]/home/plerolland/Bureau/OHASISBIO_dataset/src/utils/transformations/features_extractor.py:157: UserWarning: /home/plerolland/Bureau/ISC_matchup_check/2015/H01W1/607634443_-1.00.png is a low contrast image\n",
      "  skimage.io.imsave(path, spectro.astype(np.uint8))\n",
      " 93%|█████████▎| 1025/1097 [07:51<00:31,  2.30it/s]/home/plerolland/Bureau/OHASISBIO_dataset/src/utils/transformations/features_extractor.py:157: UserWarning: /home/plerolland/Bureau/ISC_matchup_check/2015/H01W1/607262957_-1.00.png is a low contrast image\n",
      "  skimage.io.imsave(path, spectro.astype(np.uint8))\n",
      "100%|██████████| 1097/1097 [08:22<00:00,  2.18it/s]\n"
     ]
    }
   ],
   "execution_count": 4
  },
  {
   "metadata": {},
   "cell_type": "code",
   "source": "    ",
   "id": "f2b0a11a2865f014",
   "outputs": [],
   "execution_count": null
  }
 ],
 "metadata": {
  "kernelspec": {
   "display_name": "Python 3",
   "language": "python",
   "name": "python3"
  },
  "language_info": {
   "codemirror_mode": {
    "name": "ipython",
    "version": 2
   },
   "file_extension": ".py",
   "mimetype": "text/x-python",
   "name": "python",
   "nbconvert_exporter": "python",
   "pygments_lexer": "ipython2",
   "version": "2.7.6"
  }
 },
 "nbformat": 4,
 "nbformat_minor": 5
}
