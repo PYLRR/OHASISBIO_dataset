{
 "cells": [
  {
   "cell_type": "code",
   "id": "initial_id",
   "metadata": {
    "collapsed": true,
    "ExecuteTime": {
     "end_time": "2024-08-02T14:48:15.307820Z",
     "start_time": "2024-08-02T14:48:14.961257Z"
    }
   },
   "source": [
    "import datetime\n",
    "\n",
    "import numpy as np\n",
    "from matplotlib import pyplot as plt\n",
    "from tqdm import tqdm\n",
    "\n",
    "from src.huge_dataset_project.InputLoader import InputFile\n",
    "from src.huge_dataset_project.PickLoader import PickFile\n",
    "from utils.data_reading.sound_data.station import StationsCatalog\n",
    "from utils.physics.sound_model import HomogeneousSoundModel"
   ],
   "outputs": [
    {
     "name": "stderr",
     "output_type": "stream",
     "text": [
      "/home/plerolland/.local/lib/python3.10/site-packages/matplotlib/projections/__init__.py:63: UserWarning: Unable to import Axes3D. This may be due to multiple versions of Matplotlib being installed (e.g. as a system package and as a pip package). As a result, the 3D projection is not available.\n",
      "  warnings.warn(\"Unable to import Axes3D. This may be due to multiple versions of \"\n"
     ]
    }
   ],
   "execution_count": 15
  },
  {
   "metadata": {
    "ExecuteTime": {
     "end_time": "2024-08-02T14:43:05.633114Z",
     "start_time": "2024-08-02T14:43:00.639373Z"
    }
   },
   "cell_type": "code",
   "source": [
    "picks = PickFile(\"../../huge_dataset_project/swarm2.pick\")\n",
    "input = InputFile(\"../../huge_dataset_project/Swarm2_data.input\")\n",
    "stations = StationsCatalog(\"/home/plerolland/Bureau/dataset.yaml\").filter_out_undated().filter_out_unlocated()\n",
    "\n",
    "acoustic_homogeneous = HomogeneousSoundModel(sound_speed=1480)"
   ],
   "id": "f1f8a6d36e4cfe57",
   "outputs": [],
   "execution_count": 6
  },
  {
   "metadata": {
    "ExecuteTime": {
     "end_time": "2024-08-02T14:47:07.101383Z",
     "start_time": "2024-08-02T14:43:24.442625Z"
    }
   },
   "cell_type": "code",
   "source": [
    "errors = []\n",
    "for pick in tqdm(picks.picks):\n",
    "    h_letters = pick.hydrophones\n",
    "    h_names = [input.hydrophone_names[list(input.hydrophone_letters).index(h_letter)] for h_letter in h_letters]\n",
    "    h_names = [h_name+\"-bot\" if h_name==\"SWAMS\" else h_name for h_name in h_names]\n",
    "    \n",
    "    available_s = [stations.by_date(pick.detection_times[i]).by_names(h_names[i])[0] for i in range(len(h_names))]\n",
    "    \n",
    "    positions = [s.get_pos() for s in available_s]\n",
    "    res = acoustic_homogeneous.localize_common_source(positions, pick.detection_times)\n",
    "    est_pos = res.x[1:]\n",
    "    est_time = np.min(pick.detection_times) + datetime.timedelta(seconds=res.x[0])\n",
    "    errors.append((est_pos[0]-pick.est_source_pos[0], est_pos[1]-pick.est_source_pos[1], est_time-pick.est_source_time))\n",
    "    \n",
    "errors = np.array(errors)"
   ],
   "id": "4235bef1727b3e0c",
   "outputs": [
    {
     "name": "stderr",
     "output_type": "stream",
     "text": [
      "100%|██████████| 4927/4927 [03:42<00:00, 22.13it/s]\n"
     ]
    }
   ],
   "execution_count": 9
  },
  {
   "metadata": {
    "ExecuteTime": {
     "end_time": "2024-08-02T14:56:52.396809Z",
     "start_time": "2024-08-02T14:56:52.214615Z"
    }
   },
   "cell_type": "code",
   "source": [
    "to_plot = np.sqrt(np.square(errors[:,0].astype(np.float32)) + np.square(errors[:,1].astype(np.float32)))\n",
    "print(np.mean(to_plot))\n",
    "\n",
    "to_plot = np.delete(to_plot, np.abs(to_plot) > np.quantile(np.abs(to_plot), 0.95))\n",
    "plt.hist(to_plot, bins=10)"
   ],
   "id": "619b929a16bc62f2",
   "outputs": [
    {
     "name": "stdout",
     "output_type": "stream",
     "text": [
      "0.05188065\n"
     ]
    },
    {
     "data": {
      "text/plain": [
       "(array([ 569., 2032.,  225.,   46.,  227.,  481.,  499.,  398.,  180.,\n",
       "          23.]),\n",
       " array([0.0003785 , 0.01312513, 0.02587176, 0.03861839, 0.05136501,\n",
       "        0.06411164, 0.07685827, 0.0896049 , 0.10235152, 0.11509816,\n",
       "        0.12784478]),\n",
       " <BarContainer object of 10 artists>)"
      ]
     },
     "execution_count": 36,
     "metadata": {},
     "output_type": "execute_result"
    },
    {
     "data": {
      "text/plain": [
       "<Figure size 640x480 with 1 Axes>"
      ],
      "image/png": "[encoded data removed]"
     },
     "metadata": {},
     "output_type": "display_data"
    }
   ],
   "execution_count": 36
  },
  {
   "metadata": {},
   "cell_type": "code",
   "outputs": [],
   "execution_count": null,
   "source": "    ",
   "id": "920b7de26c44f728"
  }
 ],
 "metadata": {
  "kernelspec": {
   "display_name": "Python 3",
   "language": "python",
   "name": "python3"
  },
  "language_info": {
   "codemirror_mode": {
    "name": "ipython",
    "version": 2
   },
   "file_extension": ".py",
   "mimetype": "text/x-python",
   "name": "python",
   "nbconvert_exporter": "python",
   "pygments_lexer": "ipython2",
   "version": "2.7.6"
  }
 },
 "nbformat": 4,
 "nbformat_minor": 5
}
