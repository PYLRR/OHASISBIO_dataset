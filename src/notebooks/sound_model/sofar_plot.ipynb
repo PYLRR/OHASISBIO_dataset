{
 "cells": [
  {
   "cell_type": "code",
   "execution_count": null,
   "id": "initial_id",
   "metadata": {
    "collapsed": true
   },
   "outputs": [],
   "source": [
    "import numpy as np\n",
    "from matplotlib import pyplot as plt\n",
    "\n",
    "from utils.physics.sound_model import HomogeneousSoundModel, MonthlyGridSoundModel, MONTHS_NAMES"
   ]
  },
  {
   "cell_type": "code",
   "outputs": [],
   "source": [
    "velocities_file = \"../../../data/geo/velocities_grid.pkl\"\n",
    "compute_new = True\n",
    "\n",
    "if compute_new:\n",
    "    temp = [f\"/media/plerolland/T7_PYR/WOA18/woa18_decav_t{i:02d}_04.nc\" for i in range(1,13)]\n",
    "    sal = [f\"/media/plerolland/T7_PYR/WOA18/woa18_decav_s{i:02d}_04.nc\" for i in range(1,13)]\n",
    "    wanted_depths = [0.0, 5.0, 10.0, 15.0, 20.0, 25.0, 30.0, 35.0, 40.0, 45.0, 50.0, 55.0, 60.0, 65.0, 70.0, 75.0, 80.0, 85.0, 90.0, 95.0, 100.0, 125.0, 150.0, 175.0, 200.0, 225.0, 250.0, 275.0, 300.0, 325.0, 350.0, 375.0, 400.0, 425.0, 450.0, 475.0, 500.0, 550.0, 600.0, 650.0, 700.0, 750.0, 800.0, 850.0, 900.0, 950.0, 1000.0, 1050.0, 1100.0, 1150.0, 1200.0, 1250.0, 1300.0, 1350.0, 1400.0, 1450.0, 1500.0, 2000.0, 2500.0, 3000.0, 3500.0, 4000.0, 4500.0, 5000.0]\n",
    "    model_grid = MonthlyGridSoundModel(temperatures_files=temp, salinities_files=sal,  \n",
    "                                       lat_bounds=[-72, 25], lon_bounds=[0, 180], depths=wanted_depths)\n",
    "    model_grid.save_profiles(velocities_file)\n",
    "else:\n",
    "    model_grid = MonthlyGridSoundModel(profiles_checkpoint=velocities_file,\n",
    "                                       lat_bounds=[-72, 25], lon_bounds=[0, 180])\n",
    "model_homogeneous = HomogeneousSoundModel()"
   ],
   "metadata": {
    "collapsed": false
   },
   "id": "e0d56634a768e626",
   "execution_count": null
  },
  {
   "cell_type": "code",
   "outputs": [],
   "source": [
    "m = 6\n",
    "\n",
    "v = model_grid.velocities[m]\n",
    "points = []\n",
    "velocities = []\n",
    "for i, lat in enumerate(model_grid.lat):\n",
    "    for j, lon in enumerate(model_grid.lon):\n",
    "        points.append([lat, lon])\n",
    "        velocities.append(v[0, i, j])\n",
    "        #velocities.append(model_grid.depths[np.argmin(v[:, i, j])])\n",
    "\n",
    "points = np.array(points)\n",
    "\n",
    "plt.scatter(points[:, 1], points[:, 0], s=1, marker='x', cmap='viridis', c=velocities)\n",
    "plt.colorbar()"
   ],
   "metadata": {
    "collapsed": false
   },
   "id": "b816b7ecc7d334a4",
   "execution_count": null
  },
  {
   "cell_type": "code",
   "outputs": [],
   "source": [
    "lat, lon = -37, 78\n",
    "model_grid.save_profile(lat, lon, f\"monthly_vprofiles_{lat}_{lon}_woa18.txt\", linterpolated=False)"
   ],
   "metadata": {
    "collapsed": false
   },
   "id": "a05c5875693ccb7b",
   "execution_count": null
  },
  {
   "cell_type": "code",
   "outputs": [],
   "source": [
    "data, _, _ = model_grid.get_linterpolated_profile(lat, lon)\n",
    "for i in range(12):\n",
    "    plt.plot(data[i,:], -model_grid.depths, label=MONTHS_NAMES[i])\n",
    "plt.legend()\n",
    "plt.savefig(\"velocities.png\")"
   ],
   "metadata": {
    "collapsed": false
   },
   "id": "cf0eff79e48237b0",
   "execution_count": null
  },
  {
   "cell_type": "code",
   "outputs": [],
   "source": [
    "p1, p2 = (-12, 45), (-13, 45)\n",
    "\n",
    "time_s_h = model_homogeneous.get_sound_travel_time(p1, p2)\n",
    "time_s_g = model_grid.get_sound_travel_time(p1, p2)\n",
    "print(f\"Sound travel time estimation : {time_s_h} (homogeneous) and {time_s_g} (grid)\")\n",
    "\n",
    "env = model_grid.get_env(p1, p2, 0)"
   ],
   "metadata": {
    "collapsed": false
   },
   "id": "d78eb45b315e9c5b",
   "execution_count": null
  },
  {
   "cell_type": "code",
   "outputs": [],
   "source": [
    "import arlpy\n",
    "\n",
    "arlpy.uwapm.plot_env(env)"
   ],
   "metadata": {
    "collapsed": false
   },
   "id": "d658d93952e3047e",
   "execution_count": null
  },
  {
   "cell_type": "code",
   "outputs": [],
   "source": [],
   "metadata": {
    "collapsed": false
   },
   "id": "d69b796c45b22ea4"
  }
 ],
 "metadata": {
  "kernelspec": {
   "display_name": "Python 3",
   "language": "python",
   "name": "python3"
  },
  "language_info": {
   "codemirror_mode": {
    "name": "ipython",
    "version": 2
   },
   "file_extension": ".py",
   "mimetype": "text/x-python",
   "name": "python",
   "nbconvert_exporter": "python",
   "pygments_lexer": "ipython2",
   "version": "2.7.6"
  }
 },
 "nbformat": 4,
 "nbformat_minor": 5
}
