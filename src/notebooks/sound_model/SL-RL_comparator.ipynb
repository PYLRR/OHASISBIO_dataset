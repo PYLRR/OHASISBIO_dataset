{
 "cells": [
  {
   "cell_type": "code",
   "id": "initial_id",
   "metadata": {
    "collapsed": true,
    "ExecuteTime": {
     "end_time": "2024-09-02T15:58:30.501880Z",
     "start_time": "2024-09-02T15:58:28.314878Z"
    }
   },
   "source": [
    "import datetime\n",
    "import time\n",
    "\n",
    "import numpy as np\n",
    "from matplotlib import pyplot as plt\n",
    "from tqdm import tqdm\n",
    "\n",
    "from src.huge_dataset_project.InputLoader import InputFile\n",
    "from src.huge_dataset_project.PickLoader import PickFile\n",
    "from utils.data_reading.sound_data.station import StationsCatalog\n",
    "from utils.physics.sound.sound_model import HomogeneousSoundModel\n",
    "from utils.physics.sound.sound_velocity_grid import MonthlySoundVelocityGrid, MonthlySoundVelocityGridOptimized"
   ],
   "outputs": [],
   "execution_count": 1
  },
  {
   "metadata": {
    "ExecuteTime": {
     "end_time": "2024-09-02T12:54:44.656282Z",
     "start_time": "2024-09-02T12:54:40.556343Z"
    }
   },
   "cell_type": "code",
   "source": [
    "picks = PickFile(\"../../huge_dataset_project/swarm2.pick\")\n",
    "input = InputFile(\"../../huge_dataset_project/Swarm2_data.input\")\n",
    "stations = StationsCatalog(\"/home/plerolland/Bureau/dataset.yaml\").filter_out_undated().filter_out_unlocated()\n",
    "\n",
    "acoustic_grid_interp = MonthlySoundVelocityGrid([f\"../../../data/sound_model/min-velocities_month-{i:02d}.nc\" for i in range(1,13)], interpolate=True)  # 3001.15s, mean error 0.030676462\n",
    "acoustic_grid_interp_optimized = MonthlySoundVelocityGridOptimized([f\"../../../data/sound_model/min-velocities_month-{i:02d}.nc\" for i in range(1,13)], interpolate=True)  # 1507.42s, mean error 0.030739762\n",
    "# with x0.997 : mean error 0.009412665\n",
    "# with x0.996 : mean error 0.00859406\n",
    "# with x0.995 : mean error 0.011902887\n",
    "# with x0.993 : mean error 0.024033984\n",
    "# with x0.992 : mean error 0.03129123\n",
    "# with x0.99 : mean error 0.046128847\n",
    "acoustic_grid = MonthlySoundVelocityGrid([f\"../../../data/sound_model/min-velocities_month-{i:02d}.nc\" for i in range(1,13)])  # 902.45s, mean error 0.043251827\n",
    "acoustic_grid_optimized = MonthlySoundVelocityGridOptimized([f\"../../../data/sound_model/min-velocities_month-{i:02d}.nc\" for i in range(1,13)])  # 361.23 s, mean error 0.043365657\n",
    "acoustic_homogeneous = HomogeneousSoundModel(sound_speed=1480) # 214.73s, mean error 0.05188065"
   ],
   "id": "f1f8a6d36e4cfe57",
   "outputs": [],
   "execution_count": 2
  },
  {
   "metadata": {
    "ExecuteTime": {
     "end_time": "2024-09-02T13:07:51.828750Z",
     "start_time": "2024-09-02T13:07:38.209017Z"
    }
   },
   "cell_type": "code",
   "source": [
    "from scipy import signal\n",
    "import geopy.distance\n",
    "\n",
    "TIME_EXTEND = datetime.timedelta(seconds=5)\n",
    "DELTA = datetime.timedelta(seconds=5)\n",
    "\n",
    "def process_data(data, spm_min=0, spm_max=120, fs=240):\n",
    "    psd = signal.welch(data, fs=fs, nperseg=256, window=\"hann\", scaling=\"spectrum\")\n",
    "    spm_min = int(spm_min * len(psd[1]) / (fs/(2)))\n",
    "    spm_max = int(spm_max * len(psd[1]) / (fs/(2)))\n",
    "    psd = psd[1][spm_min:spm_max]\n",
    "    return psd\n",
    "\n",
    "RL_computed, RL_seas = [], []\n",
    "SL_computed, SL_seas = [], []\n",
    "for pick in tqdm(picks.picks):\n",
    "    h_letters = pick.hydrophones\n",
    "    h_names = [input.hydrophone_names[list(input.hydrophone_letters).index(h_letter)] for h_letter in h_letters]\n",
    "    h_names = [h_name+\"-bot\" if h_name==\"SWAMS\" else h_name for h_name in h_names]\n",
    "    available_s = [stations.by_date(pick.detection_times[i]).by_names(h_names[i])[0] for i in range(len(h_names))]\n",
    "    \n",
    "    dates = pick.detection_times\n",
    "    RL_seas.append(pick.received_levels)\n",
    "    SL_seas.append(pick.est_source_level)\n",
    "    \n",
    "    RL_computed.append([])\n",
    "    SL_per_s = []\n",
    "    for i in range(len(available_s)):\n",
    "        manager = available_s[i].get_manager()\n",
    "        manager.cache_size = 0\n",
    "        data = manager.getSegment(dates[i]-TIME_EXTEND, dates[i]+TIME_EXTEND)\n",
    "        new_date = dates[i] - TIME_EXTEND + datetime.timedelta(seconds=int(np.argmax(data)/240))\n",
    "        data = process_data(manager.getSegment(new_date-DELTA, new_date+DELTA), spm_min=5, spm_max=60, fs=240)\n",
    "        RL_computed[-1].append(10*np.log10(np.sum(data)))\n",
    "        \n",
    "        p = geopy.distance.geodesic(available_s[i].get_pos(), pick.est_source_pos).m\n",
    "        t = 5000\n",
    "        p = t*p\n",
    "        \n",
    "        SL_per_s.append(RL_computed[-1][-1] + 10*np.log10(p))\n",
    "    SL_computed.append(np.log10(np.mean(10**np.array(SL_per_s))))"
   ],
   "id": "4235bef1727b3e0c",
   "outputs": [
    {
     "name": "stderr",
     "output_type": "stream",
     "text": [
      "  0%|          | 1/4927 [00:13<18:14:03, 13.33s/it]\n"
     ]
    },
    {
     "ename": "KeyboardInterrupt",
     "evalue": "",
     "output_type": "error",
     "traceback": [
      "\u001B[0;31m---------------------------------------------------------------------------\u001B[0m",
      "\u001B[0;31mKeyboardInterrupt\u001B[0m                         Traceback (most recent call last)",
      "Cell \u001B[0;32mIn[13], line 17\u001B[0m\n\u001B[1;32m     15\u001B[0m SL_computed, SL_seas \u001B[38;5;241m=\u001B[39m [], []\n\u001B[1;32m     16\u001B[0m \u001B[38;5;28;01mfor\u001B[39;00m pick \u001B[38;5;129;01min\u001B[39;00m tqdm(picks\u001B[38;5;241m.\u001B[39mpicks):\n\u001B[0;32m---> 17\u001B[0m     h_letters \u001B[38;5;241m=\u001B[39m \u001B[43mpick\u001B[49m\u001B[38;5;241m.\u001B[39mhydrophones\n\u001B[1;32m     18\u001B[0m     h_names \u001B[38;5;241m=\u001B[39m [\u001B[38;5;28minput\u001B[39m\u001B[38;5;241m.\u001B[39mhydrophone_names[\u001B[38;5;28mlist\u001B[39m(\u001B[38;5;28minput\u001B[39m\u001B[38;5;241m.\u001B[39mhydrophone_letters)\u001B[38;5;241m.\u001B[39mindex(h_letter)] \u001B[38;5;28;01mfor\u001B[39;00m h_letter \u001B[38;5;129;01min\u001B[39;00m h_letters]\n\u001B[1;32m     19\u001B[0m     h_names \u001B[38;5;241m=\u001B[39m [h_name\u001B[38;5;241m+\u001B[39m\u001B[38;5;124m\"\u001B[39m\u001B[38;5;124m-bot\u001B[39m\u001B[38;5;124m\"\u001B[39m \u001B[38;5;28;01mif\u001B[39;00m h_name\u001B[38;5;241m==\u001B[39m\u001B[38;5;124m\"\u001B[39m\u001B[38;5;124mSWAMS\u001B[39m\u001B[38;5;124m\"\u001B[39m \u001B[38;5;28;01melse\u001B[39;00m h_name \u001B[38;5;28;01mfor\u001B[39;00m h_name \u001B[38;5;129;01min\u001B[39;00m h_names]\n",
      "Cell \u001B[0;32mIn[13], line 17\u001B[0m\n\u001B[1;32m     15\u001B[0m SL_computed, SL_seas \u001B[38;5;241m=\u001B[39m [], []\n\u001B[1;32m     16\u001B[0m \u001B[38;5;28;01mfor\u001B[39;00m pick \u001B[38;5;129;01min\u001B[39;00m tqdm(picks\u001B[38;5;241m.\u001B[39mpicks):\n\u001B[0;32m---> 17\u001B[0m     h_letters \u001B[38;5;241m=\u001B[39m \u001B[43mpick\u001B[49m\u001B[38;5;241m.\u001B[39mhydrophones\n\u001B[1;32m     18\u001B[0m     h_names \u001B[38;5;241m=\u001B[39m [\u001B[38;5;28minput\u001B[39m\u001B[38;5;241m.\u001B[39mhydrophone_names[\u001B[38;5;28mlist\u001B[39m(\u001B[38;5;28minput\u001B[39m\u001B[38;5;241m.\u001B[39mhydrophone_letters)\u001B[38;5;241m.\u001B[39mindex(h_letter)] \u001B[38;5;28;01mfor\u001B[39;00m h_letter \u001B[38;5;129;01min\u001B[39;00m h_letters]\n\u001B[1;32m     19\u001B[0m     h_names \u001B[38;5;241m=\u001B[39m [h_name\u001B[38;5;241m+\u001B[39m\u001B[38;5;124m\"\u001B[39m\u001B[38;5;124m-bot\u001B[39m\u001B[38;5;124m\"\u001B[39m \u001B[38;5;28;01mif\u001B[39;00m h_name\u001B[38;5;241m==\u001B[39m\u001B[38;5;124m\"\u001B[39m\u001B[38;5;124mSWAMS\u001B[39m\u001B[38;5;124m\"\u001B[39m \u001B[38;5;28;01melse\u001B[39;00m h_name \u001B[38;5;28;01mfor\u001B[39;00m h_name \u001B[38;5;129;01min\u001B[39;00m h_names]\n",
      "File \u001B[0;32m/snap/pycharm-professional/412/plugins/python-ce/helpers/pydev/_pydevd_bundle/pydevd_frame.py:755\u001B[0m, in \u001B[0;36mPyDBFrame.trace_dispatch\u001B[0;34m(self, frame, event, arg)\u001B[0m\n\u001B[1;32m    753\u001B[0m \u001B[38;5;66;03m# if thread has a suspend flag, we suspend with a busy wait\u001B[39;00m\n\u001B[1;32m    754\u001B[0m \u001B[38;5;28;01mif\u001B[39;00m info\u001B[38;5;241m.\u001B[39mpydev_state \u001B[38;5;241m==\u001B[39m STATE_SUSPEND:\n\u001B[0;32m--> 755\u001B[0m     \u001B[38;5;28;43mself\u001B[39;49m\u001B[38;5;241;43m.\u001B[39;49m\u001B[43mdo_wait_suspend\u001B[49m\u001B[43m(\u001B[49m\u001B[43mthread\u001B[49m\u001B[43m,\u001B[49m\u001B[43m \u001B[49m\u001B[43mframe\u001B[49m\u001B[43m,\u001B[49m\u001B[43m \u001B[49m\u001B[43mevent\u001B[49m\u001B[43m,\u001B[49m\u001B[43m \u001B[49m\u001B[43marg\u001B[49m\u001B[43m)\u001B[49m\n\u001B[1;32m    756\u001B[0m     \u001B[38;5;66;03m# No need to reset frame.f_trace to keep the same trace function.\u001B[39;00m\n\u001B[1;32m    757\u001B[0m     \u001B[38;5;28;01mreturn\u001B[39;00m \u001B[38;5;28mself\u001B[39m\u001B[38;5;241m.\u001B[39mtrace_dispatch\n",
      "File \u001B[0;32m/snap/pycharm-professional/412/plugins/python-ce/helpers/pydev/_pydevd_bundle/pydevd_frame.py:412\u001B[0m, in \u001B[0;36mPyDBFrame.do_wait_suspend\u001B[0;34m(self, *args, **kwargs)\u001B[0m\n\u001B[1;32m    411\u001B[0m \u001B[38;5;28;01mdef\u001B[39;00m \u001B[38;5;21mdo_wait_suspend\u001B[39m(\u001B[38;5;28mself\u001B[39m, \u001B[38;5;241m*\u001B[39margs, \u001B[38;5;241m*\u001B[39m\u001B[38;5;241m*\u001B[39mkwargs):\n\u001B[0;32m--> 412\u001B[0m     \u001B[38;5;28;43mself\u001B[39;49m\u001B[38;5;241;43m.\u001B[39;49m\u001B[43m_args\u001B[49m\u001B[43m[\u001B[49m\u001B[38;5;241;43m0\u001B[39;49m\u001B[43m]\u001B[49m\u001B[38;5;241;43m.\u001B[39;49m\u001B[43mdo_wait_suspend\u001B[49m\u001B[43m(\u001B[49m\u001B[38;5;241;43m*\u001B[39;49m\u001B[43margs\u001B[49m\u001B[43m,\u001B[49m\u001B[43m \u001B[49m\u001B[38;5;241;43m*\u001B[39;49m\u001B[38;5;241;43m*\u001B[39;49m\u001B[43mkwargs\u001B[49m\u001B[43m)\u001B[49m\n",
      "File \u001B[0;32m/snap/pycharm-professional/412/plugins/python-ce/helpers/pydev/pydevd.py:1207\u001B[0m, in \u001B[0;36mPyDB.do_wait_suspend\u001B[0;34m(self, thread, frame, event, arg, send_suspend_message, is_unhandled_exception)\u001B[0m\n\u001B[1;32m   1204\u001B[0m         from_this_thread\u001B[38;5;241m.\u001B[39mappend(frame_id)\n\u001B[1;32m   1206\u001B[0m \u001B[38;5;28;01mwith\u001B[39;00m \u001B[38;5;28mself\u001B[39m\u001B[38;5;241m.\u001B[39m_threads_suspended_single_notification\u001B[38;5;241m.\u001B[39mnotify_thread_suspended(thread_id, stop_reason):\n\u001B[0;32m-> 1207\u001B[0m     \u001B[38;5;28;43mself\u001B[39;49m\u001B[38;5;241;43m.\u001B[39;49m\u001B[43m_do_wait_suspend\u001B[49m\u001B[43m(\u001B[49m\u001B[43mthread\u001B[49m\u001B[43m,\u001B[49m\u001B[43m \u001B[49m\u001B[43mframe\u001B[49m\u001B[43m,\u001B[49m\u001B[43m \u001B[49m\u001B[43mevent\u001B[49m\u001B[43m,\u001B[49m\u001B[43m \u001B[49m\u001B[43marg\u001B[49m\u001B[43m,\u001B[49m\u001B[43m \u001B[49m\u001B[43msuspend_type\u001B[49m\u001B[43m,\u001B[49m\u001B[43m \u001B[49m\u001B[43mfrom_this_thread\u001B[49m\u001B[43m)\u001B[49m\n",
      "File \u001B[0;32m/snap/pycharm-professional/412/plugins/python-ce/helpers/pydev/pydevd.py:1222\u001B[0m, in \u001B[0;36mPyDB._do_wait_suspend\u001B[0;34m(self, thread, frame, event, arg, suspend_type, from_this_thread)\u001B[0m\n\u001B[1;32m   1219\u001B[0m             \u001B[38;5;28mself\u001B[39m\u001B[38;5;241m.\u001B[39m_call_mpl_hook()\n\u001B[1;32m   1221\u001B[0m         \u001B[38;5;28mself\u001B[39m\u001B[38;5;241m.\u001B[39mprocess_internal_commands()\n\u001B[0;32m-> 1222\u001B[0m         \u001B[43mtime\u001B[49m\u001B[38;5;241;43m.\u001B[39;49m\u001B[43msleep\u001B[49m\u001B[43m(\u001B[49m\u001B[38;5;241;43m0.01\u001B[39;49m\u001B[43m)\u001B[49m\n\u001B[1;32m   1224\u001B[0m \u001B[38;5;28mself\u001B[39m\u001B[38;5;241m.\u001B[39mcancel_async_evaluation(get_current_thread_id(thread), \u001B[38;5;28mstr\u001B[39m(\u001B[38;5;28mid\u001B[39m(frame)))\n\u001B[1;32m   1226\u001B[0m \u001B[38;5;66;03m# process any stepping instructions\u001B[39;00m\n",
      "\u001B[0;31mKeyboardInterrupt\u001B[0m: "
     ]
    }
   ],
   "execution_count": 13
  },
  {
   "metadata": {
    "ExecuteTime": {
     "end_time": "2024-08-21T16:54:17.457451Z",
     "start_time": "2024-08-21T16:54:14.972593Z"
    }
   },
   "cell_type": "code",
   "source": [
    "to_plot = np.sqrt(np.square(errors[0,:,0].astype(np.float32)) + np.square(errors[0,:,1].astype(np.float32)))\n",
    "print(np.mean(to_plot))\n",
    "\n",
    "to_plot = np.delete(to_plot, np.abs(to_plot) > np.quantile(np.abs(to_plot), 0.95))\n",
    "plt.hist(to_plot, bins=10)"
   ],
   "id": "619b929a16bc62f2",
   "outputs": [
    {
     "ename": "KeyboardInterrupt",
     "evalue": "",
     "output_type": "error",
     "traceback": [
      "\u001B[0;31m---------------------------------------------------------------------------\u001B[0m",
      "\u001B[0;31mKeyboardInterrupt\u001B[0m                         Traceback (most recent call last)",
      "Cell \u001B[0;32mIn[5], line 1\u001B[0m\n\u001B[0;32m----> 1\u001B[0m to_plot \u001B[38;5;241m=\u001B[39m \u001B[43mnp\u001B[49m\u001B[38;5;241m.\u001B[39msqrt(np\u001B[38;5;241m.\u001B[39msquare(errors[\u001B[38;5;241m0\u001B[39m,:,\u001B[38;5;241m0\u001B[39m]\u001B[38;5;241m.\u001B[39mastype(np\u001B[38;5;241m.\u001B[39mfloat32)) \u001B[38;5;241m+\u001B[39m np\u001B[38;5;241m.\u001B[39msquare(errors[\u001B[38;5;241m0\u001B[39m,:,\u001B[38;5;241m1\u001B[39m]\u001B[38;5;241m.\u001B[39mastype(np\u001B[38;5;241m.\u001B[39mfloat32)))\n\u001B[1;32m      2\u001B[0m \u001B[38;5;28mprint\u001B[39m(np\u001B[38;5;241m.\u001B[39mmean(to_plot))\n\u001B[1;32m      4\u001B[0m to_plot \u001B[38;5;241m=\u001B[39m np\u001B[38;5;241m.\u001B[39mdelete(to_plot, np\u001B[38;5;241m.\u001B[39mabs(to_plot) \u001B[38;5;241m>\u001B[39m np\u001B[38;5;241m.\u001B[39mquantile(np\u001B[38;5;241m.\u001B[39mabs(to_plot), \u001B[38;5;241m0.95\u001B[39m))\n",
      "Cell \u001B[0;32mIn[5], line 1\u001B[0m\n\u001B[0;32m----> 1\u001B[0m to_plot \u001B[38;5;241m=\u001B[39m \u001B[43mnp\u001B[49m\u001B[38;5;241m.\u001B[39msqrt(np\u001B[38;5;241m.\u001B[39msquare(errors[\u001B[38;5;241m0\u001B[39m,:,\u001B[38;5;241m0\u001B[39m]\u001B[38;5;241m.\u001B[39mastype(np\u001B[38;5;241m.\u001B[39mfloat32)) \u001B[38;5;241m+\u001B[39m np\u001B[38;5;241m.\u001B[39msquare(errors[\u001B[38;5;241m0\u001B[39m,:,\u001B[38;5;241m1\u001B[39m]\u001B[38;5;241m.\u001B[39mastype(np\u001B[38;5;241m.\u001B[39mfloat32)))\n\u001B[1;32m      2\u001B[0m \u001B[38;5;28mprint\u001B[39m(np\u001B[38;5;241m.\u001B[39mmean(to_plot))\n\u001B[1;32m      4\u001B[0m to_plot \u001B[38;5;241m=\u001B[39m np\u001B[38;5;241m.\u001B[39mdelete(to_plot, np\u001B[38;5;241m.\u001B[39mabs(to_plot) \u001B[38;5;241m>\u001B[39m np\u001B[38;5;241m.\u001B[39mquantile(np\u001B[38;5;241m.\u001B[39mabs(to_plot), \u001B[38;5;241m0.95\u001B[39m))\n",
      "File \u001B[0;32m/snap/pycharm-professional/408/plugins/python/helpers/pydev/_pydevd_bundle/pydevd_frame.py:755\u001B[0m, in \u001B[0;36mPyDBFrame.trace_dispatch\u001B[0;34m(self, frame, event, arg)\u001B[0m\n\u001B[1;32m    753\u001B[0m \u001B[38;5;66;03m# if thread has a suspend flag, we suspend with a busy wait\u001B[39;00m\n\u001B[1;32m    754\u001B[0m \u001B[38;5;28;01mif\u001B[39;00m info\u001B[38;5;241m.\u001B[39mpydev_state \u001B[38;5;241m==\u001B[39m STATE_SUSPEND:\n\u001B[0;32m--> 755\u001B[0m     \u001B[38;5;28;43mself\u001B[39;49m\u001B[38;5;241;43m.\u001B[39;49m\u001B[43mdo_wait_suspend\u001B[49m\u001B[43m(\u001B[49m\u001B[43mthread\u001B[49m\u001B[43m,\u001B[49m\u001B[43m \u001B[49m\u001B[43mframe\u001B[49m\u001B[43m,\u001B[49m\u001B[43m \u001B[49m\u001B[43mevent\u001B[49m\u001B[43m,\u001B[49m\u001B[43m \u001B[49m\u001B[43marg\u001B[49m\u001B[43m)\u001B[49m\n\u001B[1;32m    756\u001B[0m     \u001B[38;5;66;03m# No need to reset frame.f_trace to keep the same trace function.\u001B[39;00m\n\u001B[1;32m    757\u001B[0m     \u001B[38;5;28;01mreturn\u001B[39;00m \u001B[38;5;28mself\u001B[39m\u001B[38;5;241m.\u001B[39mtrace_dispatch\n",
      "File \u001B[0;32m/snap/pycharm-professional/408/plugins/python/helpers/pydev/_pydevd_bundle/pydevd_frame.py:412\u001B[0m, in \u001B[0;36mPyDBFrame.do_wait_suspend\u001B[0;34m(self, *args, **kwargs)\u001B[0m\n\u001B[1;32m    411\u001B[0m \u001B[38;5;28;01mdef\u001B[39;00m \u001B[38;5;21mdo_wait_suspend\u001B[39m(\u001B[38;5;28mself\u001B[39m, \u001B[38;5;241m*\u001B[39margs, \u001B[38;5;241m*\u001B[39m\u001B[38;5;241m*\u001B[39mkwargs):\n\u001B[0;32m--> 412\u001B[0m     \u001B[38;5;28;43mself\u001B[39;49m\u001B[38;5;241;43m.\u001B[39;49m\u001B[43m_args\u001B[49m\u001B[43m[\u001B[49m\u001B[38;5;241;43m0\u001B[39;49m\u001B[43m]\u001B[49m\u001B[38;5;241;43m.\u001B[39;49m\u001B[43mdo_wait_suspend\u001B[49m\u001B[43m(\u001B[49m\u001B[38;5;241;43m*\u001B[39;49m\u001B[43margs\u001B[49m\u001B[43m,\u001B[49m\u001B[43m \u001B[49m\u001B[38;5;241;43m*\u001B[39;49m\u001B[38;5;241;43m*\u001B[39;49m\u001B[43mkwargs\u001B[49m\u001B[43m)\u001B[49m\n",
      "File \u001B[0;32m/snap/pycharm-professional/408/plugins/python/helpers/pydev/pydevd.py:1201\u001B[0m, in \u001B[0;36mPyDB.do_wait_suspend\u001B[0;34m(self, thread, frame, event, arg, send_suspend_message, is_unhandled_exception)\u001B[0m\n\u001B[1;32m   1198\u001B[0m         from_this_thread\u001B[38;5;241m.\u001B[39mappend(frame_id)\n\u001B[1;32m   1200\u001B[0m \u001B[38;5;28;01mwith\u001B[39;00m \u001B[38;5;28mself\u001B[39m\u001B[38;5;241m.\u001B[39m_threads_suspended_single_notification\u001B[38;5;241m.\u001B[39mnotify_thread_suspended(thread_id, stop_reason):\n\u001B[0;32m-> 1201\u001B[0m     \u001B[38;5;28;43mself\u001B[39;49m\u001B[38;5;241;43m.\u001B[39;49m\u001B[43m_do_wait_suspend\u001B[49m\u001B[43m(\u001B[49m\u001B[43mthread\u001B[49m\u001B[43m,\u001B[49m\u001B[43m \u001B[49m\u001B[43mframe\u001B[49m\u001B[43m,\u001B[49m\u001B[43m \u001B[49m\u001B[43mevent\u001B[49m\u001B[43m,\u001B[49m\u001B[43m \u001B[49m\u001B[43marg\u001B[49m\u001B[43m,\u001B[49m\u001B[43m \u001B[49m\u001B[43msuspend_type\u001B[49m\u001B[43m,\u001B[49m\u001B[43m \u001B[49m\u001B[43mfrom_this_thread\u001B[49m\u001B[43m)\u001B[49m\n",
      "File \u001B[0;32m/snap/pycharm-professional/408/plugins/python/helpers/pydev/pydevd.py:1216\u001B[0m, in \u001B[0;36mPyDB._do_wait_suspend\u001B[0;34m(self, thread, frame, event, arg, suspend_type, from_this_thread)\u001B[0m\n\u001B[1;32m   1213\u001B[0m             \u001B[38;5;28mself\u001B[39m\u001B[38;5;241m.\u001B[39m_call_mpl_hook()\n\u001B[1;32m   1215\u001B[0m         \u001B[38;5;28mself\u001B[39m\u001B[38;5;241m.\u001B[39mprocess_internal_commands()\n\u001B[0;32m-> 1216\u001B[0m         \u001B[43mtime\u001B[49m\u001B[38;5;241;43m.\u001B[39;49m\u001B[43msleep\u001B[49m\u001B[43m(\u001B[49m\u001B[38;5;241;43m0.01\u001B[39;49m\u001B[43m)\u001B[49m\n\u001B[1;32m   1218\u001B[0m \u001B[38;5;28mself\u001B[39m\u001B[38;5;241m.\u001B[39mcancel_async_evaluation(get_current_thread_id(thread), \u001B[38;5;28mstr\u001B[39m(\u001B[38;5;28mid\u001B[39m(frame)))\n\u001B[1;32m   1220\u001B[0m \u001B[38;5;66;03m# process any stepping instructions\u001B[39;00m\n",
      "\u001B[0;31mKeyboardInterrupt\u001B[0m: "
     ]
    }
   ],
   "execution_count": 5
  },
  {
   "metadata": {},
   "cell_type": "code",
   "source": [
    "x = np.array([np.mean(x.fun) for x in x_list[0]])\n",
    "plt.plot(x)"
   ],
   "id": "ef2825ca7826a602",
   "outputs": [],
   "execution_count": null
  },
  {
   "metadata": {},
   "cell_type": "code",
   "source": "",
   "id": "412186b1087eb7a9",
   "outputs": [],
   "execution_count": null
  }
 ],
 "metadata": {
  "kernelspec": {
   "display_name": "Python 3",
   "language": "python",
   "name": "python3"
  },
  "language_info": {
   "codemirror_mode": {
    "name": "ipython",
    "version": 2
   },
   "file_extension": ".py",
   "mimetype": "text/x-python",
   "name": "python",
   "nbconvert_exporter": "python",
   "pygments_lexer": "ipython2",
   "version": "2.7.6"
  }
 },
 "nbformat": 4,
 "nbformat_minor": 5
}
