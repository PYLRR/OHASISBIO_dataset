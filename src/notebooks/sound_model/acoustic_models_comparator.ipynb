{
 "cells": [
  {
   "cell_type": "code",
   "id": "initial_id",
   "metadata": {
    "collapsed": true,
    "ExecuteTime": {
     "end_time": "2024-09-02T11:41:21.912583Z",
     "start_time": "2024-09-02T11:41:20.044128Z"
    }
   },
   "source": [
    "import datetime\n",
    "import time\n",
    "\n",
    "import numpy as np\n",
    "from matplotlib import pyplot as plt\n",
    "from tqdm import tqdm\n",
    "\n",
    "from src.huge_dataset_project.InputLoader import InputFile\n",
    "from src.huge_dataset_project.PickLoader import PickFile\n",
    "from utils.data_reading.sound_data.station import StationsCatalog\n",
    "from utils.physics.sound.sound_model import HomogeneousSoundModel\n",
    "from utils.physics.sound.sound_velocity_grid import MonthlySoundVelocityGrid, MonthlySoundVelocityGridOptimized"
   ],
   "outputs": [
    {
     "name": "stderr",
     "output_type": "stream",
     "text": [
      "/home/plerolland/.local/lib/python3.10/site-packages/matplotlib/projections/__init__.py:63: UserWarning: Unable to import Axes3D. This may be due to multiple versions of Matplotlib being installed (e.g. as a system package and as a pip package). As a result, the 3D projection is not available.\n",
      "  warnings.warn(\"Unable to import Axes3D. This may be due to multiple versions of \"\n"
     ]
    }
   ],
   "execution_count": 1
  },
  {
   "metadata": {
    "ExecuteTime": {
     "end_time": "2024-09-02T11:41:25.789376Z",
     "start_time": "2024-09-02T11:41:21.919950Z"
    }
   },
   "cell_type": "code",
   "source": [
    "picks = PickFile(\"../../huge_dataset_project/swarm2.pick\")\n",
    "input = InputFile(\"../../huge_dataset_project/Swarm2_data.input\")\n",
    "stations = StationsCatalog(\"/home/plerolland/Bureau/dataset.yaml\").filter_out_undated().filter_out_unlocated()\n",
    "\n",
    "acoustic_grid_interp = MonthlySoundVelocityGrid([f\"../../../data/sound_model/min-velocities_month-{i:02d}.nc\" for i in range(1,13)], interpolate=True)  # 3001.15s, mean error 0.030676462\n",
    "acoustic_grid_interp_optimized = MonthlySoundVelocityGridOptimized([f\"../../../data/sound_model/min-velocities_month-{i:02d}.nc\" for i in range(1,13)], interpolate=True)  # 1507.42s, mean error 0.030739762\n",
    "# with x0.997 : mean error 0.009412665\n",
    "# with x0.996 : mean error 0.00859406\n",
    "# with x0.995 : mean error 0.011902887\n",
    "# with x0.993 : mean error 0.024033984\n",
    "# with x0.992 : mean error 0.03129123\n",
    "# with x0.99 : mean error 0.046128847\n",
    "acoustic_grid = MonthlySoundVelocityGrid([f\"../../../data/sound_model/min-velocities_month-{i:02d}.nc\" for i in range(1,13)])  # 902.45s, mean error 0.043251827\n",
    "acoustic_grid_optimized = MonthlySoundVelocityGridOptimized([f\"../../../data/sound_model/min-velocities_month-{i:02d}.nc\" for i in range(1,13)])  # 361.23 s, mean error 0.043365657\n",
    "acoustic_homogeneous = HomogeneousSoundModel(sound_speed=1480) # 214.73s, mean error 0.05188065"
   ],
   "id": "f1f8a6d36e4cfe57",
   "outputs": [],
   "execution_count": 2
  },
  {
   "metadata": {
    "ExecuteTime": {
     "end_time": "2024-08-22T07:38:48.762609Z",
     "start_time": "2024-08-22T07:38:48.752874Z"
    }
   },
   "cell_type": "code",
   "source": "acoustic_grid.get_sound_travel_time([0,0], [0,20], datetime.datetime(2015,3,1))",
   "id": "551a58aaad0a6f9e",
   "outputs": [
    {
     "data": {
      "text/plain": [
       "1501.7492066249183"
      ]
     },
     "execution_count": 3,
     "metadata": {},
     "output_type": "execute_result"
    }
   ],
   "execution_count": 3
  },
  {
   "metadata": {
    "ExecuteTime": {
     "end_time": "2024-08-22T07:41:45.685696Z",
     "start_time": "2024-08-22T07:41:40.867357Z"
    }
   },
   "cell_type": "code",
   "source": [
    "models = [acoustic_grid_interp_optimized]\n",
    "\n",
    "errors = [[] for _ in models]\n",
    "x_list = [[] for _ in models]\n",
    "for mi, model in enumerate(models):\n",
    "    print(f'Evaluating model {mi}')\n",
    "    t0 = time.time()\n",
    "    for pick in tqdm(picks.picks):\n",
    "        h_letters = pick.hydrophones\n",
    "        h_names = [input.hydrophone_names[list(input.hydrophone_letters).index(h_letter)] for h_letter in h_letters]\n",
    "        h_names = [h_name+\"-bot\" if h_name==\"SWAMS\" else h_name for h_name in h_names]\n",
    "        \n",
    "        available_s = [stations.by_date(pick.detection_times[i]).by_names(h_names[i])[0] for i in range(len(h_names))]\n",
    "        \n",
    "        positions = [s.get_pos() for s in available_s]\n",
    "        p0 = pick.est_source_pos\n",
    "        res = model.localize_common_source(positions, pick.detection_times, initial_pos=p0)\n",
    "        est_pos = res.x[1:]\n",
    "        est_time = np.min(pick.detection_times) + datetime.timedelta(seconds=res.x[0])\n",
    "        errors[mi].append((est_pos[0]-pick.est_source_pos[0], est_pos[1]-pick.est_source_pos[1], est_time-pick.est_source_time))\n",
    "        x_list[mi].append(res)\n",
    "    t1 = time.time()\n",
    "    print(f'Runtime of model {mi} is {t1-t0:.2f} s')\n",
    "    \n",
    "errors = np.array(errors)"
   ],
   "id": "4235bef1727b3e0c",
   "outputs": [
    {
     "name": "stdout",
     "output_type": "stream",
     "text": [
      "Evaluating model 0\n"
     ]
    },
    {
     "name": "stderr",
     "output_type": "stream",
     "text": [
      "  0%|          | 19/4927 [00:04<19:58,  4.10it/s]\n",
      "\n",
      "KeyboardInterrupt\n",
      "\n"
     ]
    }
   ],
   "execution_count": 7
  },
  {
   "metadata": {
    "ExecuteTime": {
     "end_time": "2024-08-21T16:54:17.457451Z",
     "start_time": "2024-08-21T16:54:14.972593Z"
    }
   },
   "cell_type": "code",
   "source": [
    "to_plot = np.sqrt(np.square(errors[0,:,0].astype(np.float32)) + np.square(errors[0,:,1].astype(np.float32)))\n",
    "print(np.mean(to_plot))\n",
    "\n",
    "to_plot = np.delete(to_plot, np.abs(to_plot) > np.quantile(np.abs(to_plot), 0.95))\n",
    "plt.hist(to_plot, bins=10)"
   ],
   "id": "619b929a16bc62f2",
   "outputs": [
    {
     "ename": "KeyboardInterrupt",
     "evalue": "",
     "output_type": "error",
     "traceback": [
      "\u001B[0;31m---------------------------------------------------------------------------\u001B[0m",
      "\u001B[0;31mKeyboardInterrupt\u001B[0m                         Traceback (most recent call last)",
      "Cell \u001B[0;32mIn[5], line 1\u001B[0m\n\u001B[0;32m----> 1\u001B[0m to_plot \u001B[38;5;241m=\u001B[39m \u001B[43mnp\u001B[49m\u001B[38;5;241m.\u001B[39msqrt(np\u001B[38;5;241m.\u001B[39msquare(errors[\u001B[38;5;241m0\u001B[39m,:,\u001B[38;5;241m0\u001B[39m]\u001B[38;5;241m.\u001B[39mastype(np\u001B[38;5;241m.\u001B[39mfloat32)) \u001B[38;5;241m+\u001B[39m np\u001B[38;5;241m.\u001B[39msquare(errors[\u001B[38;5;241m0\u001B[39m,:,\u001B[38;5;241m1\u001B[39m]\u001B[38;5;241m.\u001B[39mastype(np\u001B[38;5;241m.\u001B[39mfloat32)))\n\u001B[1;32m      2\u001B[0m \u001B[38;5;28mprint\u001B[39m(np\u001B[38;5;241m.\u001B[39mmean(to_plot))\n\u001B[1;32m      4\u001B[0m to_plot \u001B[38;5;241m=\u001B[39m np\u001B[38;5;241m.\u001B[39mdelete(to_plot, np\u001B[38;5;241m.\u001B[39mabs(to_plot) \u001B[38;5;241m>\u001B[39m np\u001B[38;5;241m.\u001B[39mquantile(np\u001B[38;5;241m.\u001B[39mabs(to_plot), \u001B[38;5;241m0.95\u001B[39m))\n",
      "Cell \u001B[0;32mIn[5], line 1\u001B[0m\n\u001B[0;32m----> 1\u001B[0m to_plot \u001B[38;5;241m=\u001B[39m \u001B[43mnp\u001B[49m\u001B[38;5;241m.\u001B[39msqrt(np\u001B[38;5;241m.\u001B[39msquare(errors[\u001B[38;5;241m0\u001B[39m,:,\u001B[38;5;241m0\u001B[39m]\u001B[38;5;241m.\u001B[39mastype(np\u001B[38;5;241m.\u001B[39mfloat32)) \u001B[38;5;241m+\u001B[39m np\u001B[38;5;241m.\u001B[39msquare(errors[\u001B[38;5;241m0\u001B[39m,:,\u001B[38;5;241m1\u001B[39m]\u001B[38;5;241m.\u001B[39mastype(np\u001B[38;5;241m.\u001B[39mfloat32)))\n\u001B[1;32m      2\u001B[0m \u001B[38;5;28mprint\u001B[39m(np\u001B[38;5;241m.\u001B[39mmean(to_plot))\n\u001B[1;32m      4\u001B[0m to_plot \u001B[38;5;241m=\u001B[39m np\u001B[38;5;241m.\u001B[39mdelete(to_plot, np\u001B[38;5;241m.\u001B[39mabs(to_plot) \u001B[38;5;241m>\u001B[39m np\u001B[38;5;241m.\u001B[39mquantile(np\u001B[38;5;241m.\u001B[39mabs(to_plot), \u001B[38;5;241m0.95\u001B[39m))\n",
      "File \u001B[0;32m/snap/pycharm-professional/408/plugins/python/helpers/pydev/_pydevd_bundle/pydevd_frame.py:755\u001B[0m, in \u001B[0;36mPyDBFrame.trace_dispatch\u001B[0;34m(self, frame, event, arg)\u001B[0m\n\u001B[1;32m    753\u001B[0m \u001B[38;5;66;03m# if thread has a suspend flag, we suspend with a busy wait\u001B[39;00m\n\u001B[1;32m    754\u001B[0m \u001B[38;5;28;01mif\u001B[39;00m info\u001B[38;5;241m.\u001B[39mpydev_state \u001B[38;5;241m==\u001B[39m STATE_SUSPEND:\n\u001B[0;32m--> 755\u001B[0m     \u001B[38;5;28;43mself\u001B[39;49m\u001B[38;5;241;43m.\u001B[39;49m\u001B[43mdo_wait_suspend\u001B[49m\u001B[43m(\u001B[49m\u001B[43mthread\u001B[49m\u001B[43m,\u001B[49m\u001B[43m \u001B[49m\u001B[43mframe\u001B[49m\u001B[43m,\u001B[49m\u001B[43m \u001B[49m\u001B[43mevent\u001B[49m\u001B[43m,\u001B[49m\u001B[43m \u001B[49m\u001B[43marg\u001B[49m\u001B[43m)\u001B[49m\n\u001B[1;32m    756\u001B[0m     \u001B[38;5;66;03m# No need to reset frame.f_trace to keep the same trace function.\u001B[39;00m\n\u001B[1;32m    757\u001B[0m     \u001B[38;5;28;01mreturn\u001B[39;00m \u001B[38;5;28mself\u001B[39m\u001B[38;5;241m.\u001B[39mtrace_dispatch\n",
      "File \u001B[0;32m/snap/pycharm-professional/408/plugins/python/helpers/pydev/_pydevd_bundle/pydevd_frame.py:412\u001B[0m, in \u001B[0;36mPyDBFrame.do_wait_suspend\u001B[0;34m(self, *args, **kwargs)\u001B[0m\n\u001B[1;32m    411\u001B[0m \u001B[38;5;28;01mdef\u001B[39;00m \u001B[38;5;21mdo_wait_suspend\u001B[39m(\u001B[38;5;28mself\u001B[39m, \u001B[38;5;241m*\u001B[39margs, \u001B[38;5;241m*\u001B[39m\u001B[38;5;241m*\u001B[39mkwargs):\n\u001B[0;32m--> 412\u001B[0m     \u001B[38;5;28;43mself\u001B[39;49m\u001B[38;5;241;43m.\u001B[39;49m\u001B[43m_args\u001B[49m\u001B[43m[\u001B[49m\u001B[38;5;241;43m0\u001B[39;49m\u001B[43m]\u001B[49m\u001B[38;5;241;43m.\u001B[39;49m\u001B[43mdo_wait_suspend\u001B[49m\u001B[43m(\u001B[49m\u001B[38;5;241;43m*\u001B[39;49m\u001B[43margs\u001B[49m\u001B[43m,\u001B[49m\u001B[43m \u001B[49m\u001B[38;5;241;43m*\u001B[39;49m\u001B[38;5;241;43m*\u001B[39;49m\u001B[43mkwargs\u001B[49m\u001B[43m)\u001B[49m\n",
      "File \u001B[0;32m/snap/pycharm-professional/408/plugins/python/helpers/pydev/pydevd.py:1201\u001B[0m, in \u001B[0;36mPyDB.do_wait_suspend\u001B[0;34m(self, thread, frame, event, arg, send_suspend_message, is_unhandled_exception)\u001B[0m\n\u001B[1;32m   1198\u001B[0m         from_this_thread\u001B[38;5;241m.\u001B[39mappend(frame_id)\n\u001B[1;32m   1200\u001B[0m \u001B[38;5;28;01mwith\u001B[39;00m \u001B[38;5;28mself\u001B[39m\u001B[38;5;241m.\u001B[39m_threads_suspended_single_notification\u001B[38;5;241m.\u001B[39mnotify_thread_suspended(thread_id, stop_reason):\n\u001B[0;32m-> 1201\u001B[0m     \u001B[38;5;28;43mself\u001B[39;49m\u001B[38;5;241;43m.\u001B[39;49m\u001B[43m_do_wait_suspend\u001B[49m\u001B[43m(\u001B[49m\u001B[43mthread\u001B[49m\u001B[43m,\u001B[49m\u001B[43m \u001B[49m\u001B[43mframe\u001B[49m\u001B[43m,\u001B[49m\u001B[43m \u001B[49m\u001B[43mevent\u001B[49m\u001B[43m,\u001B[49m\u001B[43m \u001B[49m\u001B[43marg\u001B[49m\u001B[43m,\u001B[49m\u001B[43m \u001B[49m\u001B[43msuspend_type\u001B[49m\u001B[43m,\u001B[49m\u001B[43m \u001B[49m\u001B[43mfrom_this_thread\u001B[49m\u001B[43m)\u001B[49m\n",
      "File \u001B[0;32m/snap/pycharm-professional/408/plugins/python/helpers/pydev/pydevd.py:1216\u001B[0m, in \u001B[0;36mPyDB._do_wait_suspend\u001B[0;34m(self, thread, frame, event, arg, suspend_type, from_this_thread)\u001B[0m\n\u001B[1;32m   1213\u001B[0m             \u001B[38;5;28mself\u001B[39m\u001B[38;5;241m.\u001B[39m_call_mpl_hook()\n\u001B[1;32m   1215\u001B[0m         \u001B[38;5;28mself\u001B[39m\u001B[38;5;241m.\u001B[39mprocess_internal_commands()\n\u001B[0;32m-> 1216\u001B[0m         \u001B[43mtime\u001B[49m\u001B[38;5;241;43m.\u001B[39;49m\u001B[43msleep\u001B[49m\u001B[43m(\u001B[49m\u001B[38;5;241;43m0.01\u001B[39;49m\u001B[43m)\u001B[49m\n\u001B[1;32m   1218\u001B[0m \u001B[38;5;28mself\u001B[39m\u001B[38;5;241m.\u001B[39mcancel_async_evaluation(get_current_thread_id(thread), \u001B[38;5;28mstr\u001B[39m(\u001B[38;5;28mid\u001B[39m(frame)))\n\u001B[1;32m   1220\u001B[0m \u001B[38;5;66;03m# process any stepping instructions\u001B[39;00m\n",
      "\u001B[0;31mKeyboardInterrupt\u001B[0m: "
     ]
    }
   ],
   "execution_count": 5
  },
  {
   "metadata": {},
   "cell_type": "code",
   "source": [
    "x = np.array([np.mean(x.fun) for x in x_list[0]])\n",
    "plt.plot(x)"
   ],
   "id": "ef2825ca7826a602",
   "outputs": [],
   "execution_count": null
  },
  {
   "metadata": {},
   "cell_type": "code",
   "source": "",
   "id": "412186b1087eb7a9",
   "outputs": [],
   "execution_count": null
  }
 ],
 "metadata": {
  "kernelspec": {
   "display_name": "Python 3",
   "language": "python",
   "name": "python3"
  },
  "language_info": {
   "codemirror_mode": {
    "name": "ipython",
    "version": 2
   },
   "file_extension": ".py",
   "mimetype": "text/x-python",
   "name": "python",
   "nbconvert_exporter": "python",
   "pygments_lexer": "ipython2",
   "version": "2.7.6"
  }
 },
 "nbformat": 4,
 "nbformat_minor": 5
}
