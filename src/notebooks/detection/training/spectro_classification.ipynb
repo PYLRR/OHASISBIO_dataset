{
 "cells": [
  {
   "cell_type": "code",
   "execution_count": 1,
   "id": "initial_id",
   "metadata": {
    "collapsed": true,
    "ExecuteTime": {
     "end_time": "2023-10-27T08:13:12.079971767Z",
     "start_time": "2023-10-27T08:13:09.477421314Z"
    }
   },
   "outputs": [
    {
     "name": "stderr",
     "output_type": "stream",
     "text": [
      "2023-10-27 10:13:09.953137: I tensorflow/core/util/port.cc:111] oneDNN custom operations are on. You may see slightly different numerical results due to floating-point round-off errors from different computation orders. To turn them off, set the environment variable `TF_ENABLE_ONEDNN_OPTS=0`.\n",
      "2023-10-27 10:13:10.002404: E tensorflow/compiler/xla/stream_executor/cuda/cuda_dnn.cc:9342] Unable to register cuDNN factory: Attempting to register factory for plugin cuDNN when one has already been registered\n",
      "2023-10-27 10:13:10.002441: E tensorflow/compiler/xla/stream_executor/cuda/cuda_fft.cc:609] Unable to register cuFFT factory: Attempting to register factory for plugin cuFFT when one has already been registered\n",
      "2023-10-27 10:13:10.002467: E tensorflow/compiler/xla/stream_executor/cuda/cuda_blas.cc:1518] Unable to register cuBLAS factory: Attempting to register factory for plugin cuBLAS when one has already been registered\n",
      "2023-10-27 10:13:10.013197: I tensorflow/core/platform/cpu_feature_guard.cc:182] This TensorFlow binary is optimized to use available CPU instructions in performance-critical operations.\n",
      "To enable the following instructions: AVX2 AVX_VNNI FMA, in other operations, rebuild TensorFlow with the appropriate compiler flags.\n",
      "2023-10-27 10:13:10.773874: W tensorflow/compiler/tf2tensorrt/utils/py_utils.cc:38] TF-TRT Warning: Could not find TensorRT\n"
     ]
    }
   ],
   "source": [
    "import random\n",
    "\n",
    "import numpy as np\n",
    "import tensorflow as tf\n",
    "from matplotlib import pyplot as plt\n",
    "\n",
    "from utils.training.data_loading import get_line_to_spectro_class, csv_to_lines\n",
    "from utils.training.keras_models import resnet_model, custom_classif_model"
   ]
  },
  {
   "cell_type": "code",
   "execution_count": 2,
   "outputs": [
    {
     "name": "stderr",
     "output_type": "stream",
     "text": [
      "2023-10-27 10:13:12.156213: I tensorflow/compiler/xla/stream_executor/cuda/cuda_gpu_executor.cc:894] successful NUMA node read from SysFS had negative value (-1), but there must be at least one NUMA node, so returning NUMA node zero. See more at https://github.com/torvalds/linux/blob/v6.0/Documentation/ABI/testing/sysfs-bus-pci#L344-L355\n",
      "2023-10-27 10:13:12.192819: I tensorflow/compiler/xla/stream_executor/cuda/cuda_gpu_executor.cc:894] successful NUMA node read from SysFS had negative value (-1), but there must be at least one NUMA node, so returning NUMA node zero. See more at https://github.com/torvalds/linux/blob/v6.0/Documentation/ABI/testing/sysfs-bus-pci#L344-L355\n",
      "2023-10-27 10:13:12.193004: I tensorflow/compiler/xla/stream_executor/cuda/cuda_gpu_executor.cc:894] successful NUMA node read from SysFS had negative value (-1), but there must be at least one NUMA node, so returning NUMA node zero. See more at https://github.com/torvalds/linux/blob/v6.0/Documentation/ABI/testing/sysfs-bus-pci#L344-L355\n",
      "2023-10-27 10:13:12.194483: I tensorflow/compiler/xla/stream_executor/cuda/cuda_gpu_executor.cc:894] successful NUMA node read from SysFS had negative value (-1), but there must be at least one NUMA node, so returning NUMA node zero. See more at https://github.com/torvalds/linux/blob/v6.0/Documentation/ABI/testing/sysfs-bus-pci#L344-L355\n",
      "2023-10-27 10:13:12.194641: I tensorflow/compiler/xla/stream_executor/cuda/cuda_gpu_executor.cc:894] successful NUMA node read from SysFS had negative value (-1), but there must be at least one NUMA node, so returning NUMA node zero. See more at https://github.com/torvalds/linux/blob/v6.0/Documentation/ABI/testing/sysfs-bus-pci#L344-L355\n",
      "2023-10-27 10:13:12.194761: I tensorflow/compiler/xla/stream_executor/cuda/cuda_gpu_executor.cc:894] successful NUMA node read from SysFS had negative value (-1), but there must be at least one NUMA node, so returning NUMA node zero. See more at https://github.com/torvalds/linux/blob/v6.0/Documentation/ABI/testing/sysfs-bus-pci#L344-L355\n",
      "2023-10-27 10:13:13.010464: I tensorflow/compiler/xla/stream_executor/cuda/cuda_gpu_executor.cc:894] successful NUMA node read from SysFS had negative value (-1), but there must be at least one NUMA node, so returning NUMA node zero. See more at https://github.com/torvalds/linux/blob/v6.0/Documentation/ABI/testing/sysfs-bus-pci#L344-L355\n",
      "2023-10-27 10:13:13.010617: I tensorflow/compiler/xla/stream_executor/cuda/cuda_gpu_executor.cc:894] successful NUMA node read from SysFS had negative value (-1), but there must be at least one NUMA node, so returning NUMA node zero. See more at https://github.com/torvalds/linux/blob/v6.0/Documentation/ABI/testing/sysfs-bus-pci#L344-L355\n",
      "2023-10-27 10:13:13.010740: I tensorflow/compiler/xla/stream_executor/cuda/cuda_gpu_executor.cc:894] successful NUMA node read from SysFS had negative value (-1), but there must be at least one NUMA node, so returning NUMA node zero. See more at https://github.com/torvalds/linux/blob/v6.0/Documentation/ABI/testing/sysfs-bus-pci#L344-L355\n",
      "2023-10-27 10:13:13.010838: I tensorflow/core/common_runtime/gpu/gpu_device.cc:1886] Created device /job:localhost/replica:0/task:0/device:GPU:0 with 101 MB memory:  -> device: 0, name: NVIDIA T600 Laptop GPU, pci bus id: 0000:01:00.0, compute capability: 7.5\n"
     ]
    }
   ],
   "source": [
    "ROOT_DIR = \"/media/plerolland/LaBoite/PublicData/training/spectrograms\"\n",
    "SEED = 0\n",
    "BATCH_SIZE = 32\n",
    "EPOCHS = 50\n",
    "CHECKPOINTS_DIR = \"checkpoints_classif\"\n",
    "\n",
    "SIZE = (128, 128)  # number of pixels in the spectrograms\n",
    "CHANNELS = 1  # 1 means grayscale 3 RGB\n",
    "\n",
    "data_loader = get_line_to_spectro_class(SIZE, CHANNELS)\n",
    "model = custom_classif_model()"
   ],
   "metadata": {
    "collapsed": false,
    "ExecuteTime": {
     "end_time": "2023-10-27T08:13:13.291713969Z",
     "start_time": "2023-10-27T08:13:12.081772080Z"
    }
   },
   "id": "71fca84d6b1cb5d5"
  },
  {
   "cell_type": "code",
   "execution_count": 3,
   "outputs": [
    {
     "name": "stdout",
     "output_type": "stream",
     "text": [
      "26902 files found\n"
     ]
    }
   ],
   "source": [
    "pos, neg = csv_to_lines(f\"{ROOT_DIR}/dataset.csv\", col_to_keep=0)\n",
    "lines = pos + neg\n",
    "print(len(lines), \"files found\")\n",
    "\n",
    "random.Random(SEED).shuffle(lines)\n",
    "train_lines = lines[int(0.2 * len(lines)):]\n",
    "valid_lines = lines[:int(0.2 * len(lines))]\n",
    "\n",
    "train_dataset = tf.data.Dataset.from_tensor_slices(train_lines)\n",
    "valid_dataset = tf.data.Dataset.from_tensor_slices(valid_lines)\n",
    "\n",
    "train_dataset = train_dataset.map(data_loader).batch(batch_size=BATCH_SIZE).prefetch(buffer_size=tf.data.experimental.AUTOTUNE).cache()\n",
    "valid_dataset = valid_dataset.map(data_loader).batch(batch_size=BATCH_SIZE).prefetch(buffer_size=tf.data.experimental.AUTOTUNE).cache()"
   ],
   "metadata": {
    "collapsed": false,
    "ExecuteTime": {
     "end_time": "2023-10-27T08:13:18.474183293Z",
     "start_time": "2023-10-27T08:13:18.266440863Z"
    }
   },
   "id": "9b39854a497accbc"
  },
  {
   "cell_type": "code",
   "execution_count": 5,
   "outputs": [
    {
     "name": "stderr",
     "output_type": "stream",
     "text": [
      "\n",
      "KeyboardInterrupt\n",
      "\n"
     ]
    },
    {
     "data": {
      "text/plain": "<Figure size 2000x1200 with 1 Axes>",
      "image/png": "[encoded data removed]"
     },
     "metadata": {},
     "output_type": "display_data"
    }
   ],
   "source": [
    "cols = 8\n",
    "lines = 4\n",
    "batch_number = 1  # number of the batch we want to inspect\n",
    "\n",
    "to_show = cols * lines\n",
    "plt.figure(figsize=(20, lines*3))\n",
    "shown=0\n",
    "for images, y in valid_dataset.take(batch_number+to_show//BATCH_SIZE+1):\n",
    "    if batch_number:\n",
    "            batch_number -= 1\n",
    "            continue\n",
    "    for i in range(min(BATCH_SIZE, to_show-shown)):\n",
    "        ax1 = plt.subplot(lines, cols, 1 + shown)\n",
    "        plt.xlabel(\"time (s)\")\n",
    "        plt.ylabel(\"frequency (Hz)\")\n",
    "        plt.imshow(images[i].numpy()[:,:,0], cmap='inferno')\n",
    "        label = \"positive\" if y[i]==1 else \"negative\"\n",
    "        plt.title(label)\n",
    "\n",
    "        shown += 1\n",
    "plt.show()"
   ],
   "metadata": {
    "collapsed": false,
    "ExecuteTime": {
     "end_time": "2023-10-27T08:13:43.913362791Z",
     "start_time": "2023-10-27T08:13:30.009302607Z"
    }
   },
   "id": "79c8cde4faea208c"
  },
  {
   "cell_type": "code",
   "execution_count": 19,
   "outputs": [
    {
     "name": "stdout",
     "output_type": "stream",
     "text": [
      "Model: \"custom_classifier\"\n",
      "_________________________________________________________________\n",
      " Layer (type)                Output Shape              Param #   \n",
      "=================================================================\n",
      " input_3 (InputLayer)        [(None, 128, 128, 1)]     0         \n",
      "                                                                 \n",
      " rescaling_2 (Rescaling)     (None, 128, 128, 1)       0         \n",
      "                                                                 \n",
      " conv2d_26 (Conv2D)          (None, 128, 128, 16)      1040      \n",
      "                                                                 \n",
      " conv2d_27 (Conv2D)          (None, 128, 128, 16)      16400     \n",
      "                                                                 \n",
      " conv2d_28 (Conv2D)          (None, 128, 128, 16)      16400     \n",
      "                                                                 \n",
      " conv2d_29 (Conv2D)          (None, 128, 128, 32)      12832     \n",
      "                                                                 \n",
      " conv2d_30 (Conv2D)          (None, 128, 128, 32)      25632     \n",
      "                                                                 \n",
      " conv2d_31 (Conv2D)          (None, 128, 128, 32)      25632     \n",
      "                                                                 \n",
      " conv2d_32 (Conv2D)          (None, 128, 128, 64)      18496     \n",
      "                                                                 \n",
      " conv2d_33 (Conv2D)          (None, 128, 128, 64)      36928     \n",
      "                                                                 \n",
      " conv2d_34 (Conv2D)          (None, 128, 128, 64)      36928     \n",
      "                                                                 \n",
      " conv2d_35 (Conv2D)          (None, 128, 128, 128)     32896     \n",
      "                                                                 \n",
      " conv2d_36 (Conv2D)          (None, 128, 128, 128)     65664     \n",
      "                                                                 \n",
      " conv2d_37 (Conv2D)          (None, 128, 128, 128)     65664     \n",
      "                                                                 \n",
      " conv2d_38 (Conv2D)          (None, 128, 128, 1)       513       \n",
      "                                                                 \n",
      " flatten_2 (Flatten)         (None, 16384)             0         \n",
      "                                                                 \n",
      " dense_8 (Dense)             (None, 256)               4194560   \n",
      "                                                                 \n",
      " dropout_6 (Dropout)         (None, 256)               0         \n",
      "                                                                 \n",
      " dense_9 (Dense)             (None, 256)               65792     \n",
      "                                                                 \n",
      " dropout_7 (Dropout)         (None, 256)               0         \n",
      "                                                                 \n",
      " dense_10 (Dense)            (None, 256)               65792     \n",
      "                                                                 \n",
      " dropout_8 (Dropout)         (None, 256)               0         \n",
      "                                                                 \n",
      " dense_11 (Dense)            (None, 1)                 257       \n",
      "                                                                 \n",
      "=================================================================\n",
      "Total params: 4681426 (17.86 MB)\n",
      "Trainable params: 4681426 (17.86 MB)\n",
      "Non-trainable params: 0 (0.00 Byte)\n",
      "_________________________________________________________________\n"
     ]
    }
   ],
   "source": [
    "model.compile(\n",
    "        optimizer=tf.keras.optimizers.Adam(learning_rate=0.0001),\n",
    "        loss=tf.losses.binary_crossentropy,\n",
    "        metrics='Accuracy')\n",
    "\n",
    "model.build((BATCH_SIZE, SIZE[0], SIZE[1], CHANNELS))\n",
    "\n",
    "model.summary()"
   ],
   "metadata": {
    "collapsed": false,
    "ExecuteTime": {
     "end_time": "2023-10-26T11:07:52.258635655Z",
     "start_time": "2023-10-26T11:07:51.876174858Z"
    }
   },
   "id": "18e249d1ba681c9b"
  },
  {
   "cell_type": "code",
   "execution_count": 20,
   "outputs": [],
   "source": [
    "cp_callback = tf.keras.callbacks.ModelCheckpoint(filepath=CHECKPOINTS_DIR + \"/cp-{epoch:04d}.ckpt\",\n",
    "                                                     save_weights_only=True,\n",
    "                                                     verbose=1)"
   ],
   "metadata": {
    "collapsed": false,
    "ExecuteTime": {
     "end_time": "2023-10-26T11:07:52.260688304Z",
     "start_time": "2023-10-26T11:07:51.920336172Z"
    }
   },
   "id": "64803ad670ae3e0d"
  },
  {
   "cell_type": "code",
   "execution_count": 21,
   "outputs": [
    {
     "name": "stdout",
     "output_type": "stream",
     "text": [
      "Epoch 1/50\n"
     ]
    },
    {
     "name": "stderr",
     "output_type": "stream",
     "text": [
      "2023-10-26 13:07:53.473441: W tensorflow/core/kernels/conv_ops_gpu.cc:322] None of the algorithms provided by cuDNN frontend heuristics worked; trying fallback algorithms.  Conv: batch: 32\n",
      "in_depths: 128\n",
      "out_depths: 128\n",
      "in: 129\n",
      "in: 129\n",
      "data_format: 1\n",
      "filter: 2\n",
      "filter: 2\n",
      "filter: 128\n",
      "dilation: 1\n",
      "dilation: 1\n",
      "stride: 1\n",
      "stride: 1\n",
      "padding: 0\n",
      "padding: 0\n",
      "dtype: DT_FLOAT\n",
      "group_count: 1\n",
      "device_identifier: \"sm_7.5 with 4095934464B RAM, 14 cores, 1410000KHz clock, 6001000KHz mem clock, 1048576B L2$\"\n",
      "version: 3\n",
      "\n",
      "2023-10-26 13:07:53.473846: W tensorflow/core/framework/op_kernel.cc:1839] OP_REQUIRES failed at conv_ops_impl.h:1592 : NOT_FOUND: No algorithm worked!  Error messages:\n",
      "  Profiling failure on CUDNN engine eng1{}: RESOURCE_EXHAUSTED: Out of memory while trying to allocate 16779264 bytes.\n",
      "  Profiling failure on CUDNN engine eng28{}: RESOURCE_EXHAUSTED: Out of memory while trying to allocate 16777216 bytes.\n",
      "  Profiling failure on CUDNN engine eng0{}: RESOURCE_EXHAUSTED: Out of memory while trying to allocate 16777216 bytes.\n",
      "  Profiling failure on CUDNN engine eng1{k2=4,k3=0}: RESOURCE_EXHAUSTED: Out of memory while trying to allocate 16779264 bytes.\n",
      "  Profiling failure on CUDNN engine eng0{}: RESOURCE_EXHAUSTED: Out of memory while trying to allocate 16777216 bytes.\n"
     ]
    },
    {
     "ename": "NotFoundError",
     "evalue": "Graph execution error:\n\nDetected at node custom_classifier/conv2d_36/Conv2D defined at (most recent call last):\n  File \"/usr/lib/python3.10/runpy.py\", line 196, in _run_module_as_main\n\n  File \"/usr/lib/python3.10/runpy.py\", line 86, in _run_code\n\n  File \"/home/plerolland/Bureau/OHASISBIO_dataset/venv/lib/python3.10/site-packages/ipykernel_launcher.py\", line 17, in <module>\n\n  File \"/home/plerolland/Bureau/OHASISBIO_dataset/venv/lib/python3.10/site-packages/traitlets/config/application.py\", line 1053, in launch_instance\n\n  File \"/home/plerolland/Bureau/OHASISBIO_dataset/venv/lib/python3.10/site-packages/ipykernel/kernelapp.py\", line 736, in start\n\n  File \"/home/plerolland/Bureau/OHASISBIO_dataset/venv/lib/python3.10/site-packages/tornado/platform/asyncio.py\", line 195, in start\n\n  File \"/usr/lib/python3.10/asyncio/base_events.py\", line 603, in run_forever\n\n  File \"/usr/lib/python3.10/asyncio/base_events.py\", line 1909, in _run_once\n\n  File \"/usr/lib/python3.10/asyncio/events.py\", line 80, in _run\n\n  File \"/home/plerolland/Bureau/OHASISBIO_dataset/venv/lib/python3.10/site-packages/ipykernel/kernelbase.py\", line 516, in dispatch_queue\n\n  File \"/home/plerolland/Bureau/OHASISBIO_dataset/venv/lib/python3.10/site-packages/ipykernel/kernelbase.py\", line 505, in process_one\n\n  File \"/home/plerolland/Bureau/OHASISBIO_dataset/venv/lib/python3.10/site-packages/ipykernel/kernelbase.py\", line 412, in dispatch_shell\n\n  File \"/home/plerolland/Bureau/OHASISBIO_dataset/venv/lib/python3.10/site-packages/ipykernel/kernelbase.py\", line 740, in execute_request\n\n  File \"/home/plerolland/Bureau/OHASISBIO_dataset/venv/lib/python3.10/site-packages/ipykernel/ipkernel.py\", line 422, in do_execute\n\n  File \"/home/plerolland/Bureau/OHASISBIO_dataset/venv/lib/python3.10/site-packages/ipykernel/zmqshell.py\", line 546, in run_cell\n\n  File \"/home/plerolland/Bureau/OHASISBIO_dataset/venv/lib/python3.10/site-packages/IPython/core/interactiveshell.py\", line 3024, in run_cell\n\n  File \"/home/plerolland/Bureau/OHASISBIO_dataset/venv/lib/python3.10/site-packages/IPython/core/interactiveshell.py\", line 3079, in _run_cell\n\n  File \"/home/plerolland/Bureau/OHASISBIO_dataset/venv/lib/python3.10/site-packages/IPython/core/async_helpers.py\", line 129, in _pseudo_sync_runner\n\n  File \"/home/plerolland/Bureau/OHASISBIO_dataset/venv/lib/python3.10/site-packages/IPython/core/interactiveshell.py\", line 3284, in run_cell_async\n\n  File \"/home/plerolland/Bureau/OHASISBIO_dataset/venv/lib/python3.10/site-packages/IPython/core/interactiveshell.py\", line 3466, in run_ast_nodes\n\n  File \"/home/plerolland/Bureau/OHASISBIO_dataset/venv/lib/python3.10/site-packages/IPython/core/interactiveshell.py\", line 3526, in run_code\n\n  File \"/tmp/ipykernel_25190/3142431990.py\", line 1, in <module>\n\n  File \"/home/plerolland/Bureau/OHASISBIO_dataset/venv/lib/python3.10/site-packages/keras/src/utils/traceback_utils.py\", line 65, in error_handler\n\n  File \"/home/plerolland/Bureau/OHASISBIO_dataset/venv/lib/python3.10/site-packages/keras/src/engine/training.py\", line 1783, in fit\n\n  File \"/home/plerolland/Bureau/OHASISBIO_dataset/venv/lib/python3.10/site-packages/keras/src/engine/training.py\", line 1377, in train_function\n\n  File \"/home/plerolland/Bureau/OHASISBIO_dataset/venv/lib/python3.10/site-packages/keras/src/engine/training.py\", line 1360, in step_function\n\n  File \"/home/plerolland/Bureau/OHASISBIO_dataset/venv/lib/python3.10/site-packages/keras/src/engine/training.py\", line 1349, in run_step\n\n  File \"/home/plerolland/Bureau/OHASISBIO_dataset/venv/lib/python3.10/site-packages/keras/src/engine/training.py\", line 1126, in train_step\n\n  File \"/home/plerolland/Bureau/OHASISBIO_dataset/venv/lib/python3.10/site-packages/keras/src/utils/traceback_utils.py\", line 65, in error_handler\n\n  File \"/home/plerolland/Bureau/OHASISBIO_dataset/venv/lib/python3.10/site-packages/keras/src/engine/training.py\", line 589, in __call__\n\n  File \"/home/plerolland/Bureau/OHASISBIO_dataset/venv/lib/python3.10/site-packages/keras/src/utils/traceback_utils.py\", line 65, in error_handler\n\n  File \"/home/plerolland/Bureau/OHASISBIO_dataset/venv/lib/python3.10/site-packages/keras/src/engine/base_layer.py\", line 1149, in __call__\n\n  File \"/home/plerolland/Bureau/OHASISBIO_dataset/venv/lib/python3.10/site-packages/keras/src/utils/traceback_utils.py\", line 96, in error_handler\n\n  File \"/home/plerolland/Bureau/OHASISBIO_dataset/venv/lib/python3.10/site-packages/keras/src/engine/functional.py\", line 515, in call\n\n  File \"/home/plerolland/Bureau/OHASISBIO_dataset/venv/lib/python3.10/site-packages/keras/src/engine/functional.py\", line 672, in _run_internal_graph\n\n  File \"/home/plerolland/Bureau/OHASISBIO_dataset/venv/lib/python3.10/site-packages/keras/src/utils/traceback_utils.py\", line 65, in error_handler\n\n  File \"/home/plerolland/Bureau/OHASISBIO_dataset/venv/lib/python3.10/site-packages/keras/src/engine/base_layer.py\", line 1149, in __call__\n\n  File \"/home/plerolland/Bureau/OHASISBIO_dataset/venv/lib/python3.10/site-packages/keras/src/utils/traceback_utils.py\", line 96, in error_handler\n\n  File \"/home/plerolland/Bureau/OHASISBIO_dataset/venv/lib/python3.10/site-packages/keras/src/layers/convolutional/base_conv.py\", line 290, in call\n\n  File \"/home/plerolland/Bureau/OHASISBIO_dataset/venv/lib/python3.10/site-packages/keras/src/layers/convolutional/base_conv.py\", line 262, in convolution_op\n\nNo algorithm worked!  Error messages:\n  Profiling failure on CUDNN engine eng1{}: RESOURCE_EXHAUSTED: Out of memory while trying to allocate 16779264 bytes.\n  Profiling failure on CUDNN engine eng28{}: RESOURCE_EXHAUSTED: Out of memory while trying to allocate 16777216 bytes.\n  Profiling failure on CUDNN engine eng0{}: RESOURCE_EXHAUSTED: Out of memory while trying to allocate 16777216 bytes.\n  Profiling failure on CUDNN engine eng1{k2=4,k3=0}: RESOURCE_EXHAUSTED: Out of memory while trying to allocate 16779264 bytes.\n  Profiling failure on CUDNN engine eng0{}: RESOURCE_EXHAUSTED: Out of memory while trying to allocate 16777216 bytes.\n\t [[{{node custom_classifier/conv2d_36/Conv2D}}]] [Op:__inference_train_function_12804]",
     "output_type": "error",
     "traceback": [
      "\u001B[0;31m---------------------------------------------------------------------------\u001B[0m",
      "\u001B[0;31mNotFoundError\u001B[0m                             Traceback (most recent call last)",
      "Cell \u001B[0;32mIn[21], line 1\u001B[0m\n\u001B[0;32m----> 1\u001B[0m \u001B[43mmodel\u001B[49m\u001B[38;5;241;43m.\u001B[39;49m\u001B[43mfit\u001B[49m\u001B[43m(\u001B[49m\n\u001B[1;32m      2\u001B[0m \u001B[43m        \u001B[49m\u001B[43mtrain_dataset\u001B[49m\u001B[43m,\u001B[49m\n\u001B[1;32m      3\u001B[0m \u001B[43m        \u001B[49m\u001B[43mbatch_size\u001B[49m\u001B[38;5;241;43m=\u001B[39;49m\u001B[43mBATCH_SIZE\u001B[49m\u001B[43m,\u001B[49m\n\u001B[1;32m      4\u001B[0m \u001B[43m        \u001B[49m\u001B[43mvalidation_data\u001B[49m\u001B[38;5;241;43m=\u001B[39;49m\u001B[43mvalid_dataset\u001B[49m\u001B[43m,\u001B[49m\n\u001B[1;32m      5\u001B[0m \u001B[43m        \u001B[49m\u001B[43mepochs\u001B[49m\u001B[38;5;241;43m=\u001B[39;49m\u001B[43mEPOCHS\u001B[49m\u001B[43m,\u001B[49m\n\u001B[1;32m      6\u001B[0m \u001B[43m        \u001B[49m\u001B[43mcallbacks\u001B[49m\u001B[38;5;241;43m=\u001B[39;49m\u001B[43m[\u001B[49m\u001B[43mcp_callback\u001B[49m\u001B[43m]\u001B[49m\n\u001B[1;32m      7\u001B[0m \u001B[43m    \u001B[49m\u001B[43m)\u001B[49m\n",
      "File \u001B[0;32m~/Bureau/OHASISBIO_dataset/venv/lib/python3.10/site-packages/keras/src/utils/traceback_utils.py:70\u001B[0m, in \u001B[0;36mfilter_traceback.<locals>.error_handler\u001B[0;34m(*args, **kwargs)\u001B[0m\n\u001B[1;32m     67\u001B[0m     filtered_tb \u001B[38;5;241m=\u001B[39m _process_traceback_frames(e\u001B[38;5;241m.\u001B[39m__traceback__)\n\u001B[1;32m     68\u001B[0m     \u001B[38;5;66;03m# To get the full stack trace, call:\u001B[39;00m\n\u001B[1;32m     69\u001B[0m     \u001B[38;5;66;03m# `tf.debugging.disable_traceback_filtering()`\u001B[39;00m\n\u001B[0;32m---> 70\u001B[0m     \u001B[38;5;28;01mraise\u001B[39;00m e\u001B[38;5;241m.\u001B[39mwith_traceback(filtered_tb) \u001B[38;5;28;01mfrom\u001B[39;00m \u001B[38;5;28;01mNone\u001B[39;00m\n\u001B[1;32m     71\u001B[0m \u001B[38;5;28;01mfinally\u001B[39;00m:\n\u001B[1;32m     72\u001B[0m     \u001B[38;5;28;01mdel\u001B[39;00m filtered_tb\n",
      "File \u001B[0;32m~/Bureau/OHASISBIO_dataset/venv/lib/python3.10/site-packages/tensorflow/python/eager/execute.py:60\u001B[0m, in \u001B[0;36mquick_execute\u001B[0;34m(op_name, num_outputs, inputs, attrs, ctx, name)\u001B[0m\n\u001B[1;32m     53\u001B[0m   \u001B[38;5;66;03m# Convert any objects of type core_types.Tensor to Tensor.\u001B[39;00m\n\u001B[1;32m     54\u001B[0m   inputs \u001B[38;5;241m=\u001B[39m [\n\u001B[1;32m     55\u001B[0m       tensor_conversion_registry\u001B[38;5;241m.\u001B[39mconvert(t)\n\u001B[1;32m     56\u001B[0m       \u001B[38;5;28;01mif\u001B[39;00m \u001B[38;5;28misinstance\u001B[39m(t, core_types\u001B[38;5;241m.\u001B[39mTensor)\n\u001B[1;32m     57\u001B[0m       \u001B[38;5;28;01melse\u001B[39;00m t\n\u001B[1;32m     58\u001B[0m       \u001B[38;5;28;01mfor\u001B[39;00m t \u001B[38;5;129;01min\u001B[39;00m inputs\n\u001B[1;32m     59\u001B[0m   ]\n\u001B[0;32m---> 60\u001B[0m   tensors \u001B[38;5;241m=\u001B[39m pywrap_tfe\u001B[38;5;241m.\u001B[39mTFE_Py_Execute(ctx\u001B[38;5;241m.\u001B[39m_handle, device_name, op_name,\n\u001B[1;32m     61\u001B[0m                                       inputs, attrs, num_outputs)\n\u001B[1;32m     62\u001B[0m \u001B[38;5;28;01mexcept\u001B[39;00m core\u001B[38;5;241m.\u001B[39m_NotOkStatusException \u001B[38;5;28;01mas\u001B[39;00m e:\n\u001B[1;32m     63\u001B[0m   \u001B[38;5;28;01mif\u001B[39;00m name \u001B[38;5;129;01mis\u001B[39;00m \u001B[38;5;129;01mnot\u001B[39;00m \u001B[38;5;28;01mNone\u001B[39;00m:\n",
      "\u001B[0;31mNotFoundError\u001B[0m: Graph execution error:\n\nDetected at node custom_classifier/conv2d_36/Conv2D defined at (most recent call last):\n  File \"/usr/lib/python3.10/runpy.py\", line 196, in _run_module_as_main\n\n  File \"/usr/lib/python3.10/runpy.py\", line 86, in _run_code\n\n  File \"/home/plerolland/Bureau/OHASISBIO_dataset/venv/lib/python3.10/site-packages/ipykernel_launcher.py\", line 17, in <module>\n\n  File \"/home/plerolland/Bureau/OHASISBIO_dataset/venv/lib/python3.10/site-packages/traitlets/config/application.py\", line 1053, in launch_instance\n\n  File \"/home/plerolland/Bureau/OHASISBIO_dataset/venv/lib/python3.10/site-packages/ipykernel/kernelapp.py\", line 736, in start\n\n  File \"/home/plerolland/Bureau/OHASISBIO_dataset/venv/lib/python3.10/site-packages/tornado/platform/asyncio.py\", line 195, in start\n\n  File \"/usr/lib/python3.10/asyncio/base_events.py\", line 603, in run_forever\n\n  File \"/usr/lib/python3.10/asyncio/base_events.py\", line 1909, in _run_once\n\n  File \"/usr/lib/python3.10/asyncio/events.py\", line 80, in _run\n\n  File \"/home/plerolland/Bureau/OHASISBIO_dataset/venv/lib/python3.10/site-packages/ipykernel/kernelbase.py\", line 516, in dispatch_queue\n\n  File \"/home/plerolland/Bureau/OHASISBIO_dataset/venv/lib/python3.10/site-packages/ipykernel/kernelbase.py\", line 505, in process_one\n\n  File \"/home/plerolland/Bureau/OHASISBIO_dataset/venv/lib/python3.10/site-packages/ipykernel/kernelbase.py\", line 412, in dispatch_shell\n\n  File \"/home/plerolland/Bureau/OHASISBIO_dataset/venv/lib/python3.10/site-packages/ipykernel/kernelbase.py\", line 740, in execute_request\n\n  File \"/home/plerolland/Bureau/OHASISBIO_dataset/venv/lib/python3.10/site-packages/ipykernel/ipkernel.py\", line 422, in do_execute\n\n  File \"/home/plerolland/Bureau/OHASISBIO_dataset/venv/lib/python3.10/site-packages/ipykernel/zmqshell.py\", line 546, in run_cell\n\n  File \"/home/plerolland/Bureau/OHASISBIO_dataset/venv/lib/python3.10/site-packages/IPython/core/interactiveshell.py\", line 3024, in run_cell\n\n  File \"/home/plerolland/Bureau/OHASISBIO_dataset/venv/lib/python3.10/site-packages/IPython/core/interactiveshell.py\", line 3079, in _run_cell\n\n  File \"/home/plerolland/Bureau/OHASISBIO_dataset/venv/lib/python3.10/site-packages/IPython/core/async_helpers.py\", line 129, in _pseudo_sync_runner\n\n  File \"/home/plerolland/Bureau/OHASISBIO_dataset/venv/lib/python3.10/site-packages/IPython/core/interactiveshell.py\", line 3284, in run_cell_async\n\n  File \"/home/plerolland/Bureau/OHASISBIO_dataset/venv/lib/python3.10/site-packages/IPython/core/interactiveshell.py\", line 3466, in run_ast_nodes\n\n  File \"/home/plerolland/Bureau/OHASISBIO_dataset/venv/lib/python3.10/site-packages/IPython/core/interactiveshell.py\", line 3526, in run_code\n\n  File \"/tmp/ipykernel_25190/3142431990.py\", line 1, in <module>\n\n  File \"/home/plerolland/Bureau/OHASISBIO_dataset/venv/lib/python3.10/site-packages/keras/src/utils/traceback_utils.py\", line 65, in error_handler\n\n  File \"/home/plerolland/Bureau/OHASISBIO_dataset/venv/lib/python3.10/site-packages/keras/src/engine/training.py\", line 1783, in fit\n\n  File \"/home/plerolland/Bureau/OHASISBIO_dataset/venv/lib/python3.10/site-packages/keras/src/engine/training.py\", line 1377, in train_function\n\n  File \"/home/plerolland/Bureau/OHASISBIO_dataset/venv/lib/python3.10/site-packages/keras/src/engine/training.py\", line 1360, in step_function\n\n  File \"/home/plerolland/Bureau/OHASISBIO_dataset/venv/lib/python3.10/site-packages/keras/src/engine/training.py\", line 1349, in run_step\n\n  File \"/home/plerolland/Bureau/OHASISBIO_dataset/venv/lib/python3.10/site-packages/keras/src/engine/training.py\", line 1126, in train_step\n\n  File \"/home/plerolland/Bureau/OHASISBIO_dataset/venv/lib/python3.10/site-packages/keras/src/utils/traceback_utils.py\", line 65, in error_handler\n\n  File \"/home/plerolland/Bureau/OHASISBIO_dataset/venv/lib/python3.10/site-packages/keras/src/engine/training.py\", line 589, in __call__\n\n  File \"/home/plerolland/Bureau/OHASISBIO_dataset/venv/lib/python3.10/site-packages/keras/src/utils/traceback_utils.py\", line 65, in error_handler\n\n  File \"/home/plerolland/Bureau/OHASISBIO_dataset/venv/lib/python3.10/site-packages/keras/src/engine/base_layer.py\", line 1149, in __call__\n\n  File \"/home/plerolland/Bureau/OHASISBIO_dataset/venv/lib/python3.10/site-packages/keras/src/utils/traceback_utils.py\", line 96, in error_handler\n\n  File \"/home/plerolland/Bureau/OHASISBIO_dataset/venv/lib/python3.10/site-packages/keras/src/engine/functional.py\", line 515, in call\n\n  File \"/home/plerolland/Bureau/OHASISBIO_dataset/venv/lib/python3.10/site-packages/keras/src/engine/functional.py\", line 672, in _run_internal_graph\n\n  File \"/home/plerolland/Bureau/OHASISBIO_dataset/venv/lib/python3.10/site-packages/keras/src/utils/traceback_utils.py\", line 65, in error_handler\n\n  File \"/home/plerolland/Bureau/OHASISBIO_dataset/venv/lib/python3.10/site-packages/keras/src/engine/base_layer.py\", line 1149, in __call__\n\n  File \"/home/plerolland/Bureau/OHASISBIO_dataset/venv/lib/python3.10/site-packages/keras/src/utils/traceback_utils.py\", line 96, in error_handler\n\n  File \"/home/plerolland/Bureau/OHASISBIO_dataset/venv/lib/python3.10/site-packages/keras/src/layers/convolutional/base_conv.py\", line 290, in call\n\n  File \"/home/plerolland/Bureau/OHASISBIO_dataset/venv/lib/python3.10/site-packages/keras/src/layers/convolutional/base_conv.py\", line 262, in convolution_op\n\nNo algorithm worked!  Error messages:\n  Profiling failure on CUDNN engine eng1{}: RESOURCE_EXHAUSTED: Out of memory while trying to allocate 16779264 bytes.\n  Profiling failure on CUDNN engine eng28{}: RESOURCE_EXHAUSTED: Out of memory while trying to allocate 16777216 bytes.\n  Profiling failure on CUDNN engine eng0{}: RESOURCE_EXHAUSTED: Out of memory while trying to allocate 16777216 bytes.\n  Profiling failure on CUDNN engine eng1{k2=4,k3=0}: RESOURCE_EXHAUSTED: Out of memory while trying to allocate 16779264 bytes.\n  Profiling failure on CUDNN engine eng0{}: RESOURCE_EXHAUSTED: Out of memory while trying to allocate 16777216 bytes.\n\t [[{{node custom_classifier/conv2d_36/Conv2D}}]] [Op:__inference_train_function_12804]"
     ]
    }
   ],
   "source": [
    "model.fit(\n",
    "        train_dataset,\n",
    "        batch_size=BATCH_SIZE,\n",
    "        validation_data=valid_dataset,\n",
    "        epochs=EPOCHS,\n",
    "        callbacks=[cp_callback]\n",
    "    )"
   ],
   "metadata": {
    "collapsed": false,
    "ExecuteTime": {
     "end_time": "2023-10-26T11:07:53.524845421Z",
     "start_time": "2023-10-26T11:07:51.920498415Z"
    }
   },
   "id": "41c7c52bb58f5df9"
  },
  {
   "cell_type": "code",
   "execution_count": null,
   "outputs": [],
   "source": [
    "cols = 8\n",
    "lines = 4\n",
    "batch_number = 1\n",
    "\n",
    "to_show = cols * lines\n",
    "plt.figure(figsize=(20, lines*3))\n",
    "shown=0\n",
    "for images, y in valid_dataset.take(batch_number+to_show//BATCH_SIZE+1):\n",
    "    if batch_number:\n",
    "            batch_number -= 1\n",
    "            continue\n",
    "    for i in range(min(BATCH_SIZE, to_show-shown)):\n",
    "        ax1 = plt.subplot(lines, cols, 1 + shown)\n",
    "        plt.xlabel(\"time (s)\")\n",
    "        plt.ylabel(\"frequency (Hz)\")\n",
    "        plt.imshow(images[i].numpy()[:,:,0], cmap='inferno')\n",
    "        label = \"positive\" if y[i]==1 else \"negative\"\n",
    "        predicted = model.predict(np.reshape(images[i], (1, SIZE[0], SIZE[1], CHANNELS)), verbose=False)[0]\n",
    "        predicted_label = \"positive\" if predicted>=0.5 else \"negative\"\n",
    "        plt.title(f\"{predicted_label}/{label}\")\n",
    "\n",
    "        shown += 1\n",
    "plt.show()"
   ],
   "metadata": {
    "collapsed": false,
    "ExecuteTime": {
     "end_time": "2023-10-26T11:07:53.525786453Z",
     "start_time": "2023-10-26T11:07:53.525059621Z"
    }
   },
   "id": "665bda4ba7f9c379"
  },
  {
   "cell_type": "code",
   "execution_count": null,
   "outputs": [],
   "source": [],
   "metadata": {
    "collapsed": false,
    "ExecuteTime": {
     "end_time": "2023-10-26T11:07:53.526591766Z",
     "start_time": "2023-10-26T11:07:53.525883341Z"
    }
   },
   "id": "86d707bc166cf48c"
  }
 ],
 "metadata": {
  "kernelspec": {
   "display_name": "Python 3",
   "language": "python",
   "name": "python3"
  },
  "language_info": {
   "codemirror_mode": {
    "name": "ipython",
    "version": 2
   },
   "file_extension": ".py",
   "mimetype": "text/x-python",
   "name": "python",
   "nbconvert_exporter": "python",
   "pygments_lexer": "ipython2",
   "version": "2.7.6"
  }
 },
 "nbformat": 4,
 "nbformat_minor": 5
}
