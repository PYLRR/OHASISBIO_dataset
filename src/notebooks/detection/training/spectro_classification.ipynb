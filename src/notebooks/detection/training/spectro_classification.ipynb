{
 "cells": [
  {
   "cell_type": "code",
   "execution_count": 1,
   "id": "initial_id",
   "metadata": {
    "collapsed": true,
    "ExecuteTime": {
     "end_time": "2023-11-14T17:29:32.112725030Z",
     "start_time": "2023-11-14T17:29:29.133581980Z"
    }
   },
   "outputs": [
    {
     "name": "stderr",
     "output_type": "stream",
     "text": [
      "2023-11-14 18:29:29.546119: I tensorflow/core/util/port.cc:111] oneDNN custom operations are on. You may see slightly different numerical results due to floating-point round-off errors from different computation orders. To turn them off, set the environment variable `TF_ENABLE_ONEDNN_OPTS=0`.\n",
      "2023-11-14 18:29:29.785851: E tensorflow/compiler/xla/stream_executor/cuda/cuda_dnn.cc:9342] Unable to register cuDNN factory: Attempting to register factory for plugin cuDNN when one has already been registered\n",
      "2023-11-14 18:29:29.785913: E tensorflow/compiler/xla/stream_executor/cuda/cuda_fft.cc:609] Unable to register cuFFT factory: Attempting to register factory for plugin cuFFT when one has already been registered\n",
      "2023-11-14 18:29:29.787050: E tensorflow/compiler/xla/stream_executor/cuda/cuda_blas.cc:1518] Unable to register cuBLAS factory: Attempting to register factory for plugin cuBLAS when one has already been registered\n",
      "2023-11-14 18:29:29.916610: I tensorflow/core/platform/cpu_feature_guard.cc:182] This TensorFlow binary is optimized to use available CPU instructions in performance-critical operations.\n",
      "To enable the following instructions: AVX2 AVX_VNNI FMA, in other operations, rebuild TensorFlow with the appropriate compiler flags.\n",
      "2023-11-14 18:29:30.819906: W tensorflow/compiler/tf2tensorrt/utils/py_utils.cc:38] TF-TRT Warning: Could not find TensorRT\n"
     ]
    }
   ],
   "source": [
    "import random\n",
    "\n",
    "import numpy as np\n",
    "import tensorflow as tf\n",
    "from matplotlib import pyplot as plt\n",
    "\n",
    "from utils.training.data_loading import get_line_to_spectro_class\n",
    "from utils.training.keras_models import resnet_model, custom_classif_model"
   ]
  },
  {
   "cell_type": "code",
   "execution_count": 2,
   "outputs": [
    {
     "name": "stderr",
     "output_type": "stream",
     "text": [
      "2023-11-14 18:29:33.081550: I tensorflow/compiler/xla/stream_executor/cuda/cuda_gpu_executor.cc:894] successful NUMA node read from SysFS had negative value (-1), but there must be at least one NUMA node, so returning NUMA node zero. See more at https://github.com/torvalds/linux/blob/v6.0/Documentation/ABI/testing/sysfs-bus-pci#L344-L355\n",
      "2023-11-14 18:29:33.168049: I tensorflow/compiler/xla/stream_executor/cuda/cuda_gpu_executor.cc:894] successful NUMA node read from SysFS had negative value (-1), but there must be at least one NUMA node, so returning NUMA node zero. See more at https://github.com/torvalds/linux/blob/v6.0/Documentation/ABI/testing/sysfs-bus-pci#L344-L355\n",
      "2023-11-14 18:29:33.168228: I tensorflow/compiler/xla/stream_executor/cuda/cuda_gpu_executor.cc:894] successful NUMA node read from SysFS had negative value (-1), but there must be at least one NUMA node, so returning NUMA node zero. See more at https://github.com/torvalds/linux/blob/v6.0/Documentation/ABI/testing/sysfs-bus-pci#L344-L355\n",
      "2023-11-14 18:29:33.169429: I tensorflow/compiler/xla/stream_executor/cuda/cuda_gpu_executor.cc:894] successful NUMA node read from SysFS had negative value (-1), but there must be at least one NUMA node, so returning NUMA node zero. See more at https://github.com/torvalds/linux/blob/v6.0/Documentation/ABI/testing/sysfs-bus-pci#L344-L355\n",
      "2023-11-14 18:29:33.169576: I tensorflow/compiler/xla/stream_executor/cuda/cuda_gpu_executor.cc:894] successful NUMA node read from SysFS had negative value (-1), but there must be at least one NUMA node, so returning NUMA node zero. See more at https://github.com/torvalds/linux/blob/v6.0/Documentation/ABI/testing/sysfs-bus-pci#L344-L355\n",
      "2023-11-14 18:29:33.169692: I tensorflow/compiler/xla/stream_executor/cuda/cuda_gpu_executor.cc:894] successful NUMA node read from SysFS had negative value (-1), but there must be at least one NUMA node, so returning NUMA node zero. See more at https://github.com/torvalds/linux/blob/v6.0/Documentation/ABI/testing/sysfs-bus-pci#L344-L355\n",
      "2023-11-14 18:29:33.887240: I tensorflow/compiler/xla/stream_executor/cuda/cuda_gpu_executor.cc:894] successful NUMA node read from SysFS had negative value (-1), but there must be at least one NUMA node, so returning NUMA node zero. See more at https://github.com/torvalds/linux/blob/v6.0/Documentation/ABI/testing/sysfs-bus-pci#L344-L355\n",
      "2023-11-14 18:29:33.887395: I tensorflow/compiler/xla/stream_executor/cuda/cuda_gpu_executor.cc:894] successful NUMA node read from SysFS had negative value (-1), but there must be at least one NUMA node, so returning NUMA node zero. See more at https://github.com/torvalds/linux/blob/v6.0/Documentation/ABI/testing/sysfs-bus-pci#L344-L355\n",
      "2023-11-14 18:29:33.887521: I tensorflow/compiler/xla/stream_executor/cuda/cuda_gpu_executor.cc:894] successful NUMA node read from SysFS had negative value (-1), but there must be at least one NUMA node, so returning NUMA node zero. See more at https://github.com/torvalds/linux/blob/v6.0/Documentation/ABI/testing/sysfs-bus-pci#L344-L355\n",
      "2023-11-14 18:29:33.887620: I tensorflow/core/common_runtime/gpu/gpu_device.cc:1886] Created device /job:localhost/replica:0/task:0/device:GPU:0 with 2614 MB memory:  -> device: 0, name: NVIDIA T600 Laptop GPU, pci bus id: 0000:01:00.0, compute capability: 7.5\n"
     ]
    }
   ],
   "source": [
    "ROOT_DIR = \"/media/plerolland/LaBoite/PublicData/training/spectrograms\"\n",
    "SEED = 0\n",
    "BATCH_SIZE = 32\n",
    "EPOCHS = 50\n",
    "CHECKPOINTS_DIR = \"checkpoints_classif\"\n",
    "\n",
    "SIZE = (128, 128)  # number of pixels in the spectrograms\n",
    "CHANNELS = 1  # 1 means grayscale 3 RGB\n",
    "\n",
    "data_loader = get_line_to_spectro_class(SIZE, CHANNELS)\n",
    "model = custom_classif_model()"
   ],
   "metadata": {
    "collapsed": false,
    "ExecuteTime": {
     "end_time": "2023-11-14T17:29:34.142733928Z",
     "start_time": "2023-11-14T17:29:32.114576638Z"
    }
   },
   "id": "71fca84d6b1cb5d5"
  },
  {
   "cell_type": "code",
   "execution_count": null,
   "outputs": [],
   "source": [
    "pos, neg = csv_to_lines(f\"{ROOT_DIR}/dataset.csv\", col_to_keep=0)\n",
    "lines = pos + neg\n",
    "print(len(lines), \"files found\")\n",
    "\n",
    "random.Random(SEED).shuffle(lines)\n",
    "train_lines = lines[int(0.2 * len(lines)):]\n",
    "valid_lines = lines[:int(0.2 * len(lines))]\n",
    "\n",
    "train_dataset = tf.data.Dataset.from_tensor_slices(train_lines)\n",
    "valid_dataset = tf.data.Dataset.from_tensor_slices(valid_lines)\n",
    "\n",
    "train_dataset = train_dataset.map(data_loader).batch(batch_size=BATCH_SIZE).prefetch(buffer_size=tf.data.experimental.AUTOTUNE).cache()\n",
    "valid_dataset = valid_dataset.map(data_loader).batch(batch_size=BATCH_SIZE).prefetch(buffer_size=tf.data.experimental.AUTOTUNE).cache()"
   ],
   "metadata": {
    "collapsed": false,
    "ExecuteTime": {
     "start_time": "2023-11-14T17:18:12.553964912Z"
    }
   },
   "id": "9b39854a497accbc"
  },
  {
   "cell_type": "code",
   "execution_count": null,
   "outputs": [],
   "source": [
    "cols = 8\n",
    "lines = 4\n",
    "batch_number = 1  # number of the batch we want to inspect\n",
    "\n",
    "to_show = cols * lines\n",
    "plt.figure(figsize=(20, lines*3))\n",
    "shown=0\n",
    "for images, y in valid_dataset.take(batch_number+to_show//BATCH_SIZE+1):\n",
    "    if batch_number:\n",
    "            batch_number -= 1\n",
    "            continue\n",
    "    for i in range(min(BATCH_SIZE, to_show-shown)):\n",
    "        ax1 = plt.subplot(lines, cols, 1 + shown)\n",
    "        plt.xlabel(\"time (s)\")\n",
    "        plt.ylabel(\"frequency (Hz)\")\n",
    "        plt.imshow(images[i].numpy()[:,:,0], cmap='inferno')\n",
    "        label = \"positive\" if y[i]==1 else \"negative\"\n",
    "        plt.title(label)\n",
    "\n",
    "        shown += 1\n",
    "plt.show()"
   ],
   "metadata": {
    "collapsed": false,
    "ExecuteTime": {
     "start_time": "2023-11-14T17:18:12.554046009Z"
    }
   },
   "id": "79c8cde4faea208c"
  },
  {
   "cell_type": "code",
   "execution_count": null,
   "outputs": [],
   "source": [
    "model.compile(\n",
    "        optimizer=tf.keras.optimizers.Adam(learning_rate=0.0001),\n",
    "        loss=tf.losses.binary_crossentropy,\n",
    "        metrics='Accuracy')\n",
    "\n",
    "model.build((BATCH_SIZE, SIZE[0], SIZE[1], CHANNELS))\n",
    "\n",
    "model.summary()"
   ],
   "metadata": {
    "collapsed": false,
    "ExecuteTime": {
     "end_time": "2023-11-14T17:18:12.554777953Z",
     "start_time": "2023-11-14T17:18:12.554274356Z"
    }
   },
   "id": "18e249d1ba681c9b"
  },
  {
   "cell_type": "code",
   "execution_count": null,
   "outputs": [],
   "source": [
    "cp_callback = tf.keras.callbacks.ModelCheckpoint(filepath=CHECKPOINTS_DIR + \"/cp-{epoch:04d}.ckpt\",\n",
    "                                                     save_weights_only=True,\n",
    "                                                     verbose=1)"
   ],
   "metadata": {
    "collapsed": false,
    "ExecuteTime": {
     "start_time": "2023-11-14T17:18:12.554473908Z"
    }
   },
   "id": "64803ad670ae3e0d"
  },
  {
   "cell_type": "code",
   "execution_count": null,
   "outputs": [],
   "source": [
    "model.fit(\n",
    "        train_dataset,\n",
    "        batch_size=BATCH_SIZE,\n",
    "        validation_data=valid_dataset,\n",
    "        epochs=EPOCHS,\n",
    "        callbacks=[cp_callback]\n",
    "    )"
   ],
   "metadata": {
    "collapsed": false,
    "ExecuteTime": {
     "start_time": "2023-11-14T17:18:12.554530266Z"
    }
   },
   "id": "41c7c52bb58f5df9"
  },
  {
   "cell_type": "code",
   "execution_count": null,
   "outputs": [],
   "source": [
    "cols = 8\n",
    "lines = 4\n",
    "batch_number = 1\n",
    "\n",
    "to_show = cols * lines\n",
    "plt.figure(figsize=(20, lines*3))\n",
    "shown=0\n",
    "for images, y in valid_dataset.take(batch_number+to_show//BATCH_SIZE+1):\n",
    "    if batch_number:\n",
    "            batch_number -= 1\n",
    "            continue\n",
    "    for i in range(min(BATCH_SIZE, to_show-shown)):\n",
    "        ax1 = plt.subplot(lines, cols, 1 + shown)\n",
    "        plt.xlabel(\"time (s)\")\n",
    "        plt.ylabel(\"frequency (Hz)\")\n",
    "        plt.imshow(images[i].numpy()[:,:,0], cmap='inferno')\n",
    "        label = \"positive\" if y[i]==1 else \"negative\"\n",
    "        predicted = model.predict(np.reshape(images[i], (1, SIZE[0], SIZE[1], CHANNELS)), verbose=False)[0]\n",
    "        predicted_label = \"positive\" if predicted>=0.5 else \"negative\"\n",
    "        plt.title(f\"{predicted_label}/{label}\")\n",
    "\n",
    "        shown += 1\n",
    "plt.show()"
   ],
   "metadata": {
    "collapsed": false,
    "ExecuteTime": {
     "start_time": "2023-11-14T17:18:12.554570082Z"
    }
   },
   "id": "665bda4ba7f9c379"
  },
  {
   "cell_type": "code",
   "execution_count": null,
   "outputs": [],
   "source": [],
   "metadata": {
    "collapsed": false,
    "ExecuteTime": {
     "start_time": "2023-11-14T17:18:12.554610226Z"
    }
   },
   "id": "86d707bc166cf48c"
  }
 ],
 "metadata": {
  "kernelspec": {
   "display_name": "Python 3",
   "language": "python",
   "name": "python3"
  },
  "language_info": {
   "codemirror_mode": {
    "name": "ipython",
    "version": 2
   },
   "file_extension": ".py",
   "mimetype": "text/x-python",
   "name": "python",
   "nbconvert_exporter": "python",
   "pygments_lexer": "ipython2",
   "version": "2.7.6"
  }
 },
 "nbformat": 4,
 "nbformat_minor": 5
}
