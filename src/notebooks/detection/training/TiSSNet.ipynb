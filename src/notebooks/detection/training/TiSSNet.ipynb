{
 "cells": [
  {
   "cell_type": "markdown",
   "source": [
    "This notebook enables to train TiSSNet model."
   ],
   "metadata": {
    "collapsed": false
   },
   "id": "43d708400ce25685"
  },
  {
   "cell_type": "code",
   "execution_count": null,
   "id": "initial_id",
   "metadata": {
    "collapsed": true
   },
   "outputs": [],
   "source": [
    "import random\n",
    "import csv\n",
    "\n",
    "import numpy as np\n",
    "import tensorflow as tf\n",
    "from matplotlib import pyplot as plt\n",
    "\n",
    "from utils.training.metrics import accuracy_for_segmenter, AUC_for_segmenter\n",
    "from utils.training.data_loading import lines_to_line_generator, get_line_to_spectro_seg\n",
    "from utils.training.keras_models import TiSSNet"
   ]
  },
  {
   "cell_type": "markdown",
   "source": [
    "## Parameters"
   ],
   "metadata": {
    "collapsed": false
   },
   "id": "1bea6b159ce64fca"
  },
  {
   "cell_type": "code",
   "execution_count": null,
   "outputs": [],
   "source": [
    "ROOT_DIR = \"/path/to/the/dataset\"  # path where we expect to find directories named \"postives\", \"negatives\" and a csv file\n",
    "SEED = 0  # seed used for RND (shuffling)\n",
    "BATCH_SIZE = 64\n",
    "EPOCHS = 50\n",
    "CHECKPOINTS_DIR = \"../../../data/model_saves/TiSSNet\"  # directory where the model will save its history and checkpoints\n",
    "\n",
    "FOLDS = 5  # number of folds for the cross-validation\n",
    "SIZE = (128, 186)  # number of pixels in the spectrograms\n",
    "DURATION_S = 100  # duration of the spectrograms in s\n",
    "OBJECTIVE_CURVE_WIDTH = 10  # defines width of objective function in s\n",
    "\n",
    "data_loader = get_line_to_spectro_seg(size=SIZE, duration_s=DURATION_S, channels=1, objective_curve_width=OBJECTIVE_CURVE_WIDTH)\n",
    "model = TiSSNet"
   ],
   "metadata": {
    "collapsed": false
   },
   "id": "71fca84d6b1cb5d5"
  },
  {
   "cell_type": "markdown",
   "source": [
    "## Load data"
   ],
   "metadata": {
    "collapsed": false
   },
   "id": "bdf199bce030b25e"
  },
  {
   "cell_type": "code",
   "execution_count": null,
   "outputs": [],
   "source": [
    "# list the data samples\n",
    "with open(ROOT_DIR + \"/dataset.csv\", \"r\") as f:\n",
    "    csv_reader = csv.reader(f, delimiter=\",\")\n",
    "    lines = list(csv_reader)\n",
    "print(len(lines), \"files found\")\n",
    "\n",
    "pos = [l for l in lines if l[1]==\"positive\"]\n",
    "neg = [l for l in lines if l[1]==\"negative\"]\n",
    "random.Random(SEED).shuffle(pos)\n",
    "random.Random(SEED).shuffle(neg)\n",
    "print(f\"{len(pos)} positive files found and {len(neg)} negative files found\")\n",
    "\n",
    "# Make the datasets for a cross-validation approach\n",
    "train_datasets, valid_datasets = [], []\n",
    "for i in range(FOLDS):\n",
    "    start_valid_idx = int(len(pos) * i / FOLDS)\n",
    "    end_valid_idx = int(len(pos) * (i + 1) / FOLDS)\n",
    "    # unbalanced training set\n",
    "    train_files = pos[:start_valid_idx]+pos[end_valid_idx:]+neg[:start_valid_idx]+neg[end_valid_idx:] \n",
    "    # balanced validation set\n",
    "    valid_files = pos[start_valid_idx:end_valid_idx]+neg[start_valid_idx:end_valid_idx] \n",
    "    random.Random(SEED).shuffle(train_files)\n",
    "    random.Random(SEED).shuffle(valid_files)\n",
    "    train_generator = lines_to_line_generator(train_files)\n",
    "    valid_generator = lines_to_line_generator(valid_files)\n",
    "    train_datasets.append(tf.data.Dataset.from_generator(lambda: map(tuple, train_generator), output_signature=tf.TensorSpec(shape=[None], dtype=tf.string)))\n",
    "    valid_datasets.append(tf.data.Dataset.from_generator(lambda: map(tuple, valid_generator), output_signature=tf.TensorSpec(shape=[None], dtype=tf.string)))\n",
    "    \n",
    "    train_datasets[-1] = train_datasets[-1].map(data_loader).batch(batch_size=BATCH_SIZE)\n",
    "    valid_datasets[-1] = valid_datasets[-1].map(data_loader).batch(batch_size=BATCH_SIZE)\n",
    "\n",
    "# make a dataset with all the data, for the training one cross-validation is done\n",
    "all_train_files = pos + neg\n",
    "random.Random(SEED).shuffle(all_train_files)\n",
    "all_train_generator = lines_to_line_generator(all_train_files)\n",
    "all_train_dataset =tf.data.Dataset.from_generator(lambda: map(tuple, all_train_generator), output_signature=tf.TensorSpec(shape=[None], dtype=tf.string))\n",
    "all_train_dataset = all_train_dataset.map(data_loader).batch(batch_size=BATCH_SIZE)"
   ],
   "metadata": {
    "collapsed": false
   },
   "id": "9b39854a497accbc"
  },
  {
   "cell_type": "markdown",
   "source": [
    "## Plot of the data"
   ],
   "metadata": {
    "collapsed": false
   },
   "id": "5b6b9d2a1bef8475"
  },
  {
   "cell_type": "code",
   "execution_count": null,
   "outputs": [],
   "source": [
    "cols = 8\n",
    "lines = 2\n",
    "batch_number = 1  # number of the batch we want to inspect\n",
    "\n",
    "to_show = cols * lines\n",
    "plt.figure(figsize=(cols*2.5, lines*5))\n",
    "shown=0\n",
    "for images, y in valid_datasets[0].take(batch_number+to_show//BATCH_SIZE+1):\n",
    "    if batch_number:\n",
    "            batch_number -= 1\n",
    "            continue\n",
    "    for i in range(min(BATCH_SIZE, to_show-shown)):\n",
    "        ax1 = plt.subplot(lines*2, cols, 1 + shown%cols + cols*2*(shown//cols))\n",
    "        plt.xlabel(\"time\")\n",
    "        plt.ylabel(\"frequency\")\n",
    "        plt.imshow(images[i].numpy(), cmap='inferno')\n",
    "\n",
    "        ax2 = plt.subplot(lines*2, cols, 1 + shown%cols + cols*2*(shown//cols) + cols)\n",
    "\n",
    "        ax2.plot(y[i], label='ground truth')\n",
    "        ax2.legend(loc=\"upper left\")\n",
    "        ax2.set_xlim([0, SIZE[1]])\n",
    "        ax2.set_ylim([0, 1])\n",
    "        ax2.set_xlabel(\"time\")\n",
    "        ax2.set_ylabel(\"probability\")\n",
    "\n",
    "        shown += 1\n",
    "plt.show()"
   ],
   "metadata": {
    "collapsed": false
   },
   "id": "79c8cde4faea208c"
  },
  {
   "cell_type": "markdown",
   "source": [
    "## Cross-validation training"
   ],
   "metadata": {
    "collapsed": false
   },
   "id": "c229ae74da79732f"
  },
  {
   "cell_type": "code",
   "execution_count": null,
   "outputs": [],
   "source": [
    "import os, pickle\n",
    "\n",
    "for i in range(FOLDS):\n",
    "    path_prefix = f'{CHECKPOINTS_DIR}/FOLD-{i}'\n",
    "    history_file = f'{path_prefix}/history.pkl'\n",
    "    \n",
    "    if os.path.isfile(history_file):\n",
    "        print(f\"fold {i} already has an history file, skipping it\")\n",
    "        continue\n",
    "        \n",
    "    print(f\"starting training of fold {i}\")\n",
    "    m = model()\n",
    "\n",
    "    m.compile(\n",
    "            optimizer=tf.keras.optimizers.Adam(learning_rate=0.0001),\n",
    "            loss=tf.losses.binary_crossentropy,\n",
    "            metrics=[accuracy_for_segmenter, AUC_for_segmenter()])\n",
    "\n",
    "    m.build((BATCH_SIZE, SIZE[0], SIZE[1], 1))\n",
    "\n",
    "    if i==0:\n",
    "        m.summary()\n",
    "\n",
    "    cp_callback = tf.keras.callbacks.ModelCheckpoint(filepath=f'{path_prefix}/cp-{{epoch:04d}}.ckpt', save_weights_only=True, verbose=1)\n",
    "\n",
    "    history = m.fit(\n",
    "            train_datasets[i],\n",
    "            batch_size=BATCH_SIZE,\n",
    "            validation_data=valid_datasets[i],\n",
    "            steps_per_epoch=len(train_files) // BATCH_SIZE,\n",
    "            validation_steps=len(valid_files) // BATCH_SIZE,\n",
    "            epochs=EPOCHS,\n",
    "            callbacks=[cp_callback]\n",
    "        )\n",
    "    \n",
    "    with open(history_file, 'wb') as f:\n",
    "        pickle.dump(history.history, f)"
   ],
   "metadata": {
    "collapsed": false
   },
   "id": "18e249d1ba681c9b"
  },
  {
   "cell_type": "markdown",
   "source": [
    "## Training on all the data"
   ],
   "metadata": {
    "collapsed": false
   },
   "id": "60887669e68f64ad"
  },
  {
   "cell_type": "code",
   "execution_count": null,
   "outputs": [],
   "source": [
    "m = model()\n",
    "\n",
    "m.compile(\n",
    "        optimizer=tf.keras.optimizers.Adam(learning_rate=0.0001),\n",
    "        loss=tf.losses.binary_crossentropy,\n",
    "        metrics=accuracy_for_segmenter)\n",
    "\n",
    "m.build((BATCH_SIZE, SIZE[0], SIZE[1], 1))\n",
    "\n",
    "m.summary()\n",
    "\n",
    "cp_callback = tf.keras.callbacks.ModelCheckpoint(filepath=f\"{CHECKPOINTS_DIR}/checkpoints/cp-{{epoch:04d}}.ckpt\",\n",
    "                                                     save_weights_only=True,\n",
    "                                                     verbose=1)\n",
    "\n",
    "m.fit(\n",
    "        all_train_dataset,\n",
    "        batch_size=BATCH_SIZE,\n",
    "        steps_per_epoch=(len(train_files) + len(valid_files))// BATCH_SIZE,\n",
    "        epochs=EPOCHS,\n",
    "        callbacks=[cp_callback]\n",
    "    )"
   ],
   "metadata": {
    "collapsed": false
   },
   "id": "5ca40b7928491232"
  },
  {
   "cell_type": "markdown",
   "source": [
    "## Plot some examples of outputs of the network"
   ],
   "metadata": {
    "collapsed": false
   },
   "id": "fe0875df3ffed450"
  },
  {
   "cell_type": "code",
   "execution_count": null,
   "outputs": [],
   "source": [
    "m = model()\n",
    "epoch = 22  # epoch checkpoint that we want to load\n",
    "m.load_weights(f\"{CHECKPOINTS_DIR}/checkpoints/cp-{{epoch:04d}}.ckpt\")"
   ],
   "metadata": {
    "collapsed": false
   },
   "id": "8866c9c507afa227"
  },
  {
   "cell_type": "code",
   "execution_count": null,
   "outputs": [],
   "source": [
    "cols = 5\n",
    "lines = 10\n",
    "batch_number = 0\n",
    "\n",
    "to_show = cols * lines\n",
    "plt.figure(figsize=(cols*5, lines*10))\n",
    "shown=0\n",
    "for images, y in valid_datasets[0].take(batch_number+to_show//BATCH_SIZE+1):\n",
    "    if batch_number:\n",
    "            batch_number -= 1\n",
    "            continue\n",
    "    for i in range(min(BATCH_SIZE, to_show-shown)):\n",
    "        ax1 = plt.subplot(lines*2, cols, 1 + i%cols + cols*2*(i//cols))\n",
    "        plt.xlabel(\"time (s)\")\n",
    "        plt.ylabel(\"frequency (Hz)\")\n",
    "        plt.imshow(images[i].numpy(), cmap='inferno', extent=(0, 100, 0, 120))\n",
    "\n",
    "        ax2 = plt.subplot(lines*2, cols, 1 + i%cols + cols*2*(i//cols) + cols)\n",
    "        \n",
    "        #ax2.plot(y[i], label='ground truth')\n",
    "        predicted = m.predict(np.reshape(images[i], (1, SIZE[0], SIZE[1], 1)), verbose=False)[0]\n",
    "        ax2.plot(predicted, label='predicted')\n",
    "        ax2.legend(loc=\"upper left\")\n",
    "        ax2.set_xlim([0, SIZE[1]])\n",
    "        ax2.set_ylim([0, 1])\n",
    "        ax2.set_xlabel(\"time (s)\")\n",
    "        ax2.set_ylabel(\"probability\")\n",
    "\n",
    "        shown += 1\n",
    "plt.show()"
   ],
   "metadata": {
    "collapsed": false
   },
   "id": "665bda4ba7f9c379"
  }
 ],
 "metadata": {
  "kernelspec": {
   "display_name": "Python 3",
   "language": "python",
   "name": "python3"
  },
  "language_info": {
   "codemirror_mode": {
    "name": "ipython",
    "version": 2
   },
   "file_extension": ".py",
   "mimetype": "text/x-python",
   "name": "python",
   "nbconvert_exporter": "python",
   "pygments_lexer": "ipython2",
   "version": "2.7.6"
  }
 },
 "nbformat": 4,
 "nbformat_minor": 5
}
