{
 "cells": [
  {
   "cell_type": "markdown",
   "source": [
    "This notebook enables to train ResNet-50 model."
   ],
   "metadata": {
    "collapsed": false
   },
   "id": "5ce54293abf092be"
  },
  {
   "cell_type": "code",
   "execution_count": null,
   "id": "initial_id",
   "metadata": {
    "collapsed": true
   },
   "outputs": [],
   "source": [
    "import csv\n",
    "import os\n",
    "import pickle\n",
    "import random\n",
    "\n",
    "import numpy as np\n",
    "import tensorflow as tf\n",
    "from matplotlib import pyplot as plt\n",
    "\n",
    "from utils.training.data_loading import get_load_spectro_for_class\n",
    "from utils.training.keras_models import resnet"
   ]
  },
  {
   "cell_type": "markdown",
   "source": [
    "## Parameters"
   ],
   "metadata": {
    "collapsed": false
   },
   "id": "36a763c30ef646b7"
  },
  {
   "cell_type": "code",
   "execution_count": null,
   "outputs": [],
   "source": [
    "ROOT_DIR = \"/path/to/the/dataset\"  # path where we expect to find directories named \"postives\", \"negatives\" and a csv file\n",
    "SEED = 0\n",
    "BATCH_SIZE = 64\n",
    "EPOCHS = 50\n",
    "CHECKPOINTS_DIR = \"../../../data/model_saves/ResNet-50\"  # directory where the model will save its history and checkpoints\n",
    "\n",
    "FOLDS = 5   # number of folds for the cross-validation\n",
    "\n",
    "data_loader = get_load_spectro_for_class(size=224, channels=3)\n",
    "model = resnet"
   ],
   "metadata": {
    "collapsed": false
   },
   "id": "71fca84d6b1cb5d5"
  },
  {
   "cell_type": "markdown",
   "source": [
    "## Load data"
   ],
   "metadata": {
    "collapsed": false
   },
   "id": "92b45d39ac428e9b"
  },
  {
   "cell_type": "code",
   "execution_count": null,
   "outputs": [],
   "source": [
    "with open(f\"{ROOT_DIR}/dataset.csv\", \"r\") as f:\n",
    "    csv_reader = csv.reader(f, delimiter=\",\")\n",
    "    lines = list(csv_reader)\n",
    "    \n",
    "pos = [l[0] for l in lines if l[1]==\"positive\"]\n",
    "neg = [l[0] for l in lines if l[1]==\"negative\"]\n",
    "random.Random(SEED).shuffle(pos)\n",
    "random.Random(SEED).shuffle(neg)\n",
    "print(f\"{len(pos)} positive files found and {len(neg)} negative files found\")\n",
    "\n",
    "# prepare lists for cross-validation\n",
    "train_datasets, valid_datasets = [], []\n",
    "for i in range(FOLDS):\n",
    "    start_valid_idx = int(len(pos) * i / FOLDS)\n",
    "    end_valid_idx = int(len(pos) * (i + 1) / FOLDS)\n",
    "    train_files = np.concatenate((pos[:start_valid_idx], pos[end_valid_idx:], neg[:start_valid_idx], neg[end_valid_idx:])) # unbalanced training set\n",
    "    valid_files = np.concatenate((pos[start_valid_idx:end_valid_idx], neg[start_valid_idx:end_valid_idx])) # balanced validation set\n",
    "    random.Random(SEED).shuffle(train_files)\n",
    "    random.Random(SEED).shuffle(valid_files)\n",
    "    train_datasets.append(tf.data.Dataset.from_tensor_slices(train_files))\n",
    "    valid_datasets.append(tf.data.Dataset.from_tensor_slices(valid_files))\n",
    "    \n",
    "    train_datasets[-1] = train_datasets[-1].map(data_loader).batch(batch_size=BATCH_SIZE).prefetch(buffer_size=tf.data.experimental.AUTOTUNE).cache()\n",
    "    valid_datasets[-1] = valid_datasets[-1].map(data_loader).batch(batch_size=BATCH_SIZE).prefetch(buffer_size=tf.data.experimental.AUTOTUNE).cache()\n",
    "\n",
    "# prepare a dataset with all data to train the model at the end\n",
    "all_train_files = pos + neg\n",
    "random.Random(SEED).shuffle(all_train_files)\n",
    "all_train_dataset = tf.data.Dataset.from_tensor_slices(all_train_files)\n",
    "all_train_dataset = all_train_dataset.map(data_loader).batch(batch_size=BATCH_SIZE).prefetch(buffer_size=tf.data.experimental.AUTOTUNE).cache()"
   ],
   "metadata": {
    "collapsed": false
   },
   "id": "9b39854a497accbc"
  },
  {
   "cell_type": "markdown",
   "source": [
    "## Plot the data"
   ],
   "metadata": {
    "collapsed": false
   },
   "id": "41b72a0e7e5b0663"
  },
  {
   "cell_type": "code",
   "execution_count": null,
   "outputs": [],
   "source": [
    "cols = 8\n",
    "lines = 4\n",
    "batch_number = 1  # number of the batch we want to inspect\n",
    "\n",
    "to_show = cols * lines\n",
    "plt.figure(figsize=(20, lines*3))\n",
    "shown=0\n",
    "for images, y in valid_datasets[0].take(batch_number+to_show//BATCH_SIZE+1):\n",
    "    if batch_number:\n",
    "            batch_number -= 1\n",
    "            continue\n",
    "    for i in range(min(BATCH_SIZE, to_show-shown)):\n",
    "        ax1 = plt.subplot(lines, cols, 1 + shown)\n",
    "        plt.xlabel(\"time (s)\")\n",
    "        plt.ylabel(\"frequency (Hz)\")\n",
    "        plt.imshow(images[i].numpy()[:,:,0], cmap='inferno')\n",
    "        label = \"positive\" if y[i]==1 else \"negative\"\n",
    "        plt.title(label)\n",
    "\n",
    "        shown += 1\n",
    "plt.show()"
   ],
   "metadata": {
    "collapsed": false
   },
   "id": "79c8cde4faea208c"
  },
  {
   "cell_type": "markdown",
   "source": [
    "## Cross-validation training"
   ],
   "metadata": {
    "collapsed": false
   },
   "id": "ad8ad123c56b5846"
  },
  {
   "cell_type": "code",
   "execution_count": null,
   "outputs": [],
   "source": [
    "for i in range(FOLDS):\n",
    "    path_prefix = f'{CHECKPOINTS_DIR}/FOLD-{i}'\n",
    "    history_file = f'{path_prefix}/history.pkl'\n",
    "    \n",
    "    if os.path.isfile(history_file):\n",
    "        print(f\"fold {i} already has an history file, skipping it\")\n",
    "        continue\n",
    "        \n",
    "    print(f\"starting training of fold {i}\")\n",
    "    m = model()\n",
    "    m.compile(\n",
    "        optimizer=tf.keras.optimizers.Adam(learning_rate=0.0001),\n",
    "        loss=tf.losses.binary_crossentropy,\n",
    "        metrics=['Accuracy','AUC'])\n",
    "\n",
    "    m.build((BATCH_SIZE, 224, 224, 3))\n",
    "\n",
    "    if i==0:\n",
    "        m.summary()\n",
    "\n",
    "    cp_callback = tf.keras.callbacks.ModelCheckpoint(filepath=f'{path_prefix}/cp-{{epoch:04d}}.ckpt', save_weights_only=True, verbose=1)\n",
    "\n",
    "    history = m.fit(\n",
    "            train_datasets[i],\n",
    "            batch_size=BATCH_SIZE,\n",
    "            validation_data=valid_datasets[i],\n",
    "            epochs=EPOCHS,\n",
    "            callbacks=[cp_callback]\n",
    "        )\n",
    "    \n",
    "    with open(history_file, 'wb') as f:\n",
    "        pickle.dump(history.history, f)"
   ],
   "metadata": {
    "collapsed": false
   },
   "id": "18e249d1ba681c9b"
  },
  {
   "cell_type": "markdown",
   "source": [
    "## Training on all data"
   ],
   "metadata": {
    "collapsed": false
   },
   "id": "e2604762c55c3209"
  },
  {
   "cell_type": "code",
   "execution_count": null,
   "outputs": [],
   "source": [
    "path_prefix = f'{CHECKPOINTS_DIR}/all'\n",
    "history_file = f'{path_prefix}/history.pkl'\n",
    "\n",
    "print(f\"starting training with all data\")\n",
    "m = model()\n",
    "m.compile(\n",
    "    optimizer=tf.keras.optimizers.Adam(learning_rate=0.0001),\n",
    "    loss=tf.losses.binary_crossentropy,\n",
    "    metrics='Accuracy')\n",
    "\n",
    "m.build((BATCH_SIZE, 224, 224, 3))\n",
    "\n",
    "cp_callback = tf.keras.callbacks.ModelCheckpoint(filepath=f'{path_prefix}/cp-{{epoch:04d}}.ckpt', save_weights_only=True, verbose=1)\n",
    "\n",
    "history = m.fit(\n",
    "        all_train_dataset,\n",
    "        batch_size=BATCH_SIZE,\n",
    "        epochs=EPOCHS,\n",
    "        callbacks=[cp_callback]\n",
    "    )\n",
    "\n",
    "with open(history_file, 'wb') as f:\n",
    "        pickle.dump(history.history, f)"
   ],
   "metadata": {
    "collapsed": false
   },
   "id": "9024dc2f5bad4ee8"
  },
  {
   "cell_type": "markdown",
   "source": [
    "## Plot some examples of outputs of the network"
   ],
   "metadata": {
    "collapsed": false
   },
   "id": "772ed8dbc7b66576"
  },
  {
   "cell_type": "code",
   "execution_count": null,
   "outputs": [],
   "source": [
    "m = model()\n",
    "epoch = 31  # epoch checkpoint that we want to load\n",
    "m.load_weights(f\"{CHECKPOINTS_DIR}/checkpoints/cp-{{epoch:04d}}.ckpt\")"
   ],
   "metadata": {
    "collapsed": false
   },
   "id": "5b9356107fd6d381"
  },
  {
   "cell_type": "code",
   "execution_count": null,
   "outputs": [],
   "source": [
    "cols = 8\n",
    "lines = 4\n",
    "batch_number = 1\n",
    "\n",
    "to_show = cols * lines\n",
    "plt.figure(figsize=(20, lines*3))\n",
    "shown=0\n",
    "for images, y in valid_datasets[0].take(batch_number+to_show//BATCH_SIZE+1):\n",
    "    if batch_number:\n",
    "            batch_number -= 1\n",
    "            continue\n",
    "    for i in range(min(BATCH_SIZE, to_show-shown)):\n",
    "        ax1 = plt.subplot(lines, cols, 1 + shown)\n",
    "        plt.xlabel(\"time (s)\")\n",
    "        plt.ylabel(\"frequency (Hz)\")\n",
    "        plt.imshow(images[i].numpy()[:,:,0], cmap='inferno')\n",
    "        label = \"positive\" if y[i]==1 else \"negative\"\n",
    "        predicted = model.predict(np.reshape(images[i], (1, 224, 224, 3)), verbose=False)[0]\n",
    "        predicted_label = \"positive\" if predicted>=0.5 else \"negative\"\n",
    "        plt.title(f\"{predicted_label}/{label}\")\n",
    "\n",
    "        shown += 1\n",
    "plt.show()"
   ],
   "metadata": {
    "collapsed": false
   },
   "id": "665bda4ba7f9c379"
  },
  {
   "cell_type": "code",
   "execution_count": null,
   "outputs": [],
   "source": [],
   "metadata": {
    "collapsed": false
   },
   "id": "86d707bc166cf48c"
  }
 ],
 "metadata": {
  "kernelspec": {
   "display_name": "Python 3",
   "language": "python",
   "name": "python3"
  },
  "language_info": {
   "codemirror_mode": {
    "name": "ipython",
    "version": 2
   },
   "file_extension": ".py",
   "mimetype": "text/x-python",
   "name": "python",
   "nbconvert_exporter": "python",
   "pygments_lexer": "ipython2",
   "version": "2.7.6"
  }
 },
 "nbformat": 4,
 "nbformat_minor": 5
}
