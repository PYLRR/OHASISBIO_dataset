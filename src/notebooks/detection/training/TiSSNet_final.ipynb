{
 "cells": [
  {
   "cell_type": "markdown",
   "source": [
    "This notebook enables to train TiSSNet model."
   ],
   "metadata": {
    "collapsed": false
   },
   "id": "43d708400ce25685"
  },
  {
   "metadata": {
    "ExecuteTime": {
     "end_time": "2024-04-20T07:36:28.108282Z",
     "start_time": "2024-04-20T07:36:25.116043Z"
    }
   },
   "cell_type": "code",
   "source": [
    "import random\n",
    "import csv\n",
    "\n",
    "import numpy as np\n",
    "import tensorflow as tf\n",
    "from matplotlib import pyplot as plt\n",
    "\n",
    "from utils.training.metrics import accuracy_for_segmenter, AUC_for_segmenter\n",
    "from utils.training.data_loading import lines_to_line_generator, get_line_to_spectro_seg\n",
    "from utils.training.keras_models import TiSSNet"
   ],
   "id": "initial_id",
   "execution_count": 1,
   "outputs": []
  },
  {
   "metadata": {
    "ExecuteTime": {
     "end_time": "2024-04-20T07:36:28.110133Z",
     "start_time": "2024-04-20T07:36:28.109989Z"
    }
   },
   "cell_type": "code",
   "source": "print(tf.config.list_physical_devices())",
   "id": "c4f8611895f3b12a",
   "execution_count": null,
   "outputs": []
  },
  {
   "metadata": {},
   "cell_type": "markdown",
   "source": "## Parameters",
   "id": "1bea6b159ce64fca"
  },
  {
   "metadata": {
    "ExecuteTime": {
     "end_time": "2024-04-18T21:50:48.203997Z",
     "start_time": "2024-04-18T21:50:48.198763Z"
    }
   },
   "cell_type": "code",
   "source": [
    "ROOT_DIRS = [\"/media/plerolland/LaBoite/PublicData/training/spectrograms\",\n",
    "             \"/media/plerolland/LaBoite/PublicData/test/OHASISBIO_2020/STFT\",\n",
    "             \"/media/plerolland/LaBoite/PublicData/test/HYDROMOMAR_2013/STFT\"]  # paths where we expect to find directories named \"positives\", \"negatives\" and a csv file\n",
    "SEED = 0  # seed used for RND (shuffling)\n",
    "BATCH_SIZE = 64\n",
    "EPOCHS = 50\n",
    "CHECKPOINTS_DIR = \"../../../../data/model_saves/TiSSNet_final\"  # directory where the model will save its history and checkpoints\n",
    "\n",
    "SIZE = (128, 186)  # number of pixels in the spectrograms\n",
    "DURATION_S = 100  # duration of the spectrograms in s\n",
    "OBJECTIVE_CURVE_WIDTH = 10  # defines width of objective function in s\n",
    "\n",
    "data_loader = get_line_to_spectro_seg(size=SIZE, duration_s=DURATION_S, channels=1, objective_curve_width=OBJECTIVE_CURVE_WIDTH)\n",
    "model = TiSSNet"
   ],
   "id": "71fca84d6b1cb5d5",
   "execution_count": 3,
   "outputs": []
  },
  {
   "cell_type": "markdown",
   "source": [
    "## Load data"
   ],
   "metadata": {
    "collapsed": false
   },
   "id": "bdf199bce030b25e"
  },
  {
   "cell_type": "code",
   "source": [
    "# list the data samples\n",
    "lines = []\n",
    "for root in ROOT_DIRS:\n",
    "    with open(root + \"/dataset.csv\", \"r\") as f:\n",
    "        csv_reader = csv.reader(f, delimiter=\",\")\n",
    "        lines.extend(list(csv_reader))\n",
    "print(len(lines), \"files found\")\n",
    "\n",
    "random.Random(SEED).shuffle(lines)\n",
    "train_files = lines[int(0.2*len(lines)):]\n",
    "valid_files = lines[:int(0.2*len(lines))]\n",
    "train_generator = lines_to_line_generator(train_files)\n",
    "train_dataset = tf.data.Dataset.from_generator(lambda: map(tuple, train_generator), output_signature=tf.TensorSpec(shape=[None], dtype=tf.string))\n",
    "train_dataset = train_dataset.map(data_loader).batch(batch_size=BATCH_SIZE)\n",
    "valid_generator = lines_to_line_generator(valid_files)\n",
    "valid_dataset = tf.data.Dataset.from_generator(lambda: map(tuple, valid_generator), output_signature=tf.TensorSpec(shape=[None], dtype=tf.string))\n",
    "valid_dataset = valid_dataset.map(data_loader).batch(batch_size=BATCH_SIZE)"
   ],
   "metadata": {
    "collapsed": false,
    "ExecuteTime": {
     "end_time": "2024-04-18T21:50:50.821230Z",
     "start_time": "2024-04-18T21:50:49.382510Z"
    }
   },
   "id": "9b39854a497accbc",
   "execution_count": 4,
   "outputs": []
  },
  {
   "cell_type": "markdown",
   "source": [
    "## Plot of the data"
   ],
   "metadata": {
    "collapsed": false
   },
   "id": "5b6b9d2a1bef8475"
  },
  {
   "cell_type": "code",
   "source": [
    "cols = 8\n",
    "lines = 2\n",
    "batch_number = 1  # number of the batch we want to inspect\n",
    "\n",
    "to_show = cols * lines\n",
    "plt.figure(figsize=(cols*2.5, lines*5))\n",
    "shown=0\n",
    "for images, y in train_dataset.take(batch_number+to_show//BATCH_SIZE+1):\n",
    "    if batch_number:\n",
    "            batch_number -= 1\n",
    "            continue\n",
    "    for i in range(min(BATCH_SIZE, to_show-shown)):\n",
    "        ax1 = plt.subplot(lines*2, cols, 1 + shown%cols + cols*2*(shown//cols))\n",
    "        plt.xlabel(\"time\")\n",
    "        plt.ylabel(\"frequency\")\n",
    "        plt.imshow(images[i].numpy(), cmap='inferno')\n",
    "\n",
    "        ax2 = plt.subplot(lines*2, cols, 1 + shown%cols + cols*2*(shown//cols) + cols)\n",
    "\n",
    "        ax2.plot(y[i], label='ground truth')\n",
    "        ax2.legend(loc=\"upper left\")\n",
    "        ax2.set_xlim([0, SIZE[1]])\n",
    "        ax2.set_ylim([0, 1])\n",
    "        ax2.set_xlabel(\"time\")\n",
    "        ax2.set_ylabel(\"probability\")\n",
    "\n",
    "        shown += 1\n",
    "plt.show()"
   ],
   "metadata": {
    "collapsed": false,
    "ExecuteTime": {
     "end_time": "2024-04-18T21:50:52.977717Z",
     "start_time": "2024-04-18T21:50:51.042069Z"
    }
   },
   "id": "79c8cde4faea208c",
   "execution_count": 5,
   "outputs": []
  },
  {
   "cell_type": "markdown",
   "source": [
    "## Training on all the data"
   ],
   "metadata": {
    "collapsed": false
   },
   "id": "60887669e68f64ad"
  },
  {
   "cell_type": "code",
   "source": [
    "m = model()\n",
    "\n",
    "m.compile(\n",
    "        optimizer=tf.keras.optimizers.Adam(learning_rate=0.0001),\n",
    "        loss=tf.losses.binary_crossentropy,\n",
    "        metrics=[accuracy_for_segmenter, AUC_for_segmenter()])\n",
    "\n",
    "m.build((BATCH_SIZE, SIZE[0], SIZE[1], 1))\n",
    "\n",
    "m.summary()\n",
    "\n",
    "cp_callback = tf.keras.callbacks.ModelCheckpoint(filepath=f\"{CHECKPOINTS_DIR}/checkpoints/cp-{{epoch:04d}}.ckpt\",\n",
    "                                                     save_weights_only=True,\n",
    "                                                     verbose=1)\n",
    "\n",
    "m.fit(\n",
    "        train_dataset,\n",
    "        batch_size=BATCH_SIZE,\n",
    "        validation_data=valid_dataset,\n",
    "        steps_per_epoch=(len(train_files))// BATCH_SIZE,\n",
    "        validation_steps=(len(valid_files))// BATCH_SIZE,\n",
    "        epochs=EPOCHS,\n",
    "        callbacks=[cp_callback]\n",
    "    )"
   ],
   "metadata": {
    "collapsed": false,
    "ExecuteTime": {
     "end_time": "2024-04-19T02:49:24.178352Z",
     "start_time": "2024-04-18T21:50:52.978977Z"
    }
   },
   "id": "5ca40b7928491232",
   "execution_count": 6,
   "outputs": []
  },
  {
   "cell_type": "markdown",
   "source": [
    "## Plot some examples of outputs of the network"
   ],
   "metadata": {
    "collapsed": false
   },
   "id": "fe0875df3ffed450"
  },
  {
   "metadata": {
    "ExecuteTime": {
     "end_time": "2024-04-19T07:28:25.643854Z",
     "start_time": "2024-04-19T07:28:25.597850Z"
    }
   },
   "cell_type": "code",
   "source": [
    "m.load_weights(f\"{CHECKPOINTS_DIR}/checkpoints/cp-0022.ckpt\")\n",
    "m.compile()"
   ],
   "id": "8866c9c507afa227",
   "execution_count": 7,
   "outputs": []
  },
  {
   "cell_type": "code",
   "source": [
    "cols = 5\n",
    "lines = 10\n",
    "batch_number = 0\n",
    "\n",
    "to_show = cols * lines\n",
    "plt.figure(figsize=(cols*5, lines*10))\n",
    "shown=0\n",
    "for images, y in valid_dataset.take(batch_number+to_show//BATCH_SIZE+1):\n",
    "    if batch_number:\n",
    "            batch_number -= 1\n",
    "            continue\n",
    "    for i in range(min(BATCH_SIZE, to_show-shown)):\n",
    "        ax1 = plt.subplot(lines*2, cols, 1 + i%cols + cols*2*(i//cols))\n",
    "        plt.xlabel(\"time (s)\")\n",
    "        plt.ylabel(\"frequency (Hz)\")\n",
    "        plt.imshow(images[i].numpy(), cmap='inferno', extent=(0, 100, 0, 120))\n",
    "\n",
    "        ax2 = plt.subplot(lines*2, cols, 1 + i%cols + cols*2*(i//cols) + cols)\n",
    "        \n",
    "        ax2.plot(y[i], label='ground truth')\n",
    "        predicted = m.predict(np.reshape(images[i], (1, SIZE[0], SIZE[1], 1)), verbose=False)[0]\n",
    "        ax2.plot(predicted, label='predicted')\n",
    "        ax2.legend(loc=\"upper left\")\n",
    "        ax2.set_xlim([0, SIZE[1]])\n",
    "        ax2.set_ylim([0, 1])\n",
    "        ax2.set_xlabel(\"time (s)\")\n",
    "        ax2.set_ylabel(\"probability\")\n",
    "\n",
    "        shown += 1\n",
    "plt.show()"
   ],
   "metadata": {
    "collapsed": false,
    "ExecuteTime": {
     "end_time": "2024-04-19T07:29:11.272944Z",
     "start_time": "2024-04-19T07:29:01.939279Z"
    }
   },
   "id": "665bda4ba7f9c379",
   "execution_count": 9,
   "outputs": []
  },
  {
   "metadata": {},
   "cell_type": "code",
   "execution_count": null,
   "source": "",
   "id": "fe2f98af085cdd65",
   "outputs": []
  }
 ],
 "metadata": {
  "kernelspec": {
   "display_name": "Python 3",
   "language": "python",
   "name": "python3"
  },
  "language_info": {
   "codemirror_mode": {
    "name": "ipython",
    "version": 2
   },
   "file_extension": ".py",
   "mimetype": "text/x-python",
   "name": "python",
   "nbconvert_exporter": "python",
   "pygments_lexer": "ipython2",
   "version": "2.7.6"
  }
 },
 "nbformat": 4,
 "nbformat_minor": 5
}
