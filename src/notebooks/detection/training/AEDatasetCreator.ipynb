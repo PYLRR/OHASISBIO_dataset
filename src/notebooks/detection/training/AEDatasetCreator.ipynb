{
 "cells": [
  {
   "cell_type": "code",
   "id": "initial_id",
   "metadata": {
    "collapsed": true,
    "ExecuteTime": {
     "end_time": "2024-05-16T22:09:17.638455Z",
     "start_time": "2024-05-16T22:09:14.881983Z"
    }
   },
   "source": [
    "import datetime\n",
    "import math\n",
    "import os.path\n",
    "import shutil\n",
    "from pathlib import Path\n",
    "import zipfile\n",
    "\n",
    "import matplotlib.pyplot as plt\n",
    "import numpy as np\n",
    "from scipy import signal\n",
    "from scipy.signal import find_peaks\n",
    "from tqdm.notebook import tqdm\n",
    "import pickle\n",
    "import tensorflow as tf\n",
    "\n",
    "from utils.data_reading.catalogs.isc import ISC_file\n",
    "from utils.data_reading.sound_data.station import StationsCatalog\n",
    "from utils.physics.sound_model import MonthlyGridSoundModel, HomogeneousSoundModel\n",
    "from utils.training.keras_models import TiSSNet\n",
    "from utils.transformations.features_extractor import STFTFeaturesExtractor"
   ],
   "execution_count": 1,
   "outputs": []
  },
  {
   "metadata": {
    "ExecuteTime": {
     "end_time": "2024-05-16T22:09:17.650121Z",
     "start_time": "2024-05-16T22:09:17.639862Z"
    }
   },
   "cell_type": "code",
   "source": [
    "datasets_yaml = \"/home/plerolland/Bureau/dataset.yaml\"\n",
    "output_dir = \"/media/plerolland/LaBoite/BFD\"\n",
    "SPECTRO_DELTA = datetime.timedelta(seconds=200)\n",
    "STA_DELTA = datetime.timedelta(seconds=2)\n",
    "STFT_computer = STFTFeaturesExtractor(None, vmin=-35, vmax=140)  # size 256, 50% overlap -> 1 pixel for 128 pts\n",
    "\n",
    "time_res = 0.5\n",
    "freq_res = 120/128\n",
    "stations = StationsCatalog(datasets_yaml).filter_out_undated().filter_out_unlocated()\n",
    "csv_index = f\"{output_dir}/index.csv\""
   ],
   "id": "f937ee596c909eed",
   "execution_count": 2,
   "outputs": []
  },
  {
   "metadata": {
    "ExecuteTime": {
     "end_time": "2024-05-17T06:57:49.772034Z",
     "start_time": "2024-05-16T22:09:17.651673Z"
    }
   },
   "cell_type": "code",
   "source": [
    "for station in stations:\n",
    "    STFT_computer.manager = station.get_manager()\n",
    "    STFT_computer.nperseg = round(station.get_manager().sampling_f / freq_res)\n",
    "    STFT_computer.overlap = 1 - time_res * station.get_manager().sampling_f / STFT_computer.nperseg\n",
    "    sta_offset = int(STA_DELTA.total_seconds() * station.manager.sampling_f)\n",
    "    \n",
    "    station_dir = f'{output_dir}/{station.date_start.year}/{station.name}'\n",
    "    if Path(f\"{station_dir}.zip\").exists():\n",
    "        print(f\"{station_dir}.zip already exists\")\n",
    "        continue\n",
    "    \n",
    "    start_date = station.date_start + SPECTRO_DELTA * 0.5 + datetime.timedelta(days=1)\n",
    "    end_date = station.date_end - SPECTRO_DELTA * 0.5 - datetime.timedelta(days=1)\n",
    "    \n",
    "    for i in (pbar := tqdm(range(0, 1 + int((end_date - start_date) / SPECTRO_DELTA)))):\n",
    "        pbar.set_description(f'{station} - {start_date.year}')\n",
    "        \n",
    "        current_date = start_date + i * SPECTRO_DELTA\n",
    "        file_prefix = f'{station_dir}/{current_date.strftime(\"%m%d\")}'\n",
    "        Path(file_prefix).mkdir(parents=True, exist_ok=True)\n",
    "        file_prefix = f'{file_prefix}/{current_date.strftime(\"%H%M%S\")}'\n",
    "        \n",
    "        \n",
    "        if not Path(f'{file_prefix}_SPECTRO.png').exists():\n",
    "            # compute the spectro\n",
    "            (f, t, spectro) = STFT_computer.get_features(current_date - SPECTRO_DELTA*0.5, current_date + SPECTRO_DELTA*0.5)\n",
    "            \n",
    "            # compute STA LTA\n",
    "            #pts_lta = station.manager.getSegment(current_date - SPECTRO_DELTA*0.5 - LTA_DELTA*0.5, current_date + SPECTRO_DELTA*0.5 + LTA_DELTA*0.5)\n",
    "            pts_sta = station.manager.getSegment(current_date - SPECTRO_DELTA*0.5 - STA_DELTA*0.5, current_date + SPECTRO_DELTA*0.5 + STA_DELTA*0.5)\n",
    "            \n",
    "            if 0 in pts_sta:\n",
    "                # incomplete data that was filled with 0s, we skip it\n",
    "                continue\n",
    "                \n",
    "            # high pass filter with cutoff at 5Hz to remove low frequency noise\n",
    "            pts_sta = np.square(pts_sta)\n",
    "            lta = np.mean(pts_sta)\n",
    "            stas = np.convolve(pts_sta, np.ones(sta_offset)/sta_offset, mode='valid')[::STFT_computer.nperseg][1:-1]\n",
    "            sta_lta = stas / lta\n",
    "            \n",
    "            # save STA LTA\n",
    "            np.save(f'{file_prefix}_STALTA.npy', sta_lta)\n",
    "            \n",
    "            # save spectro    \n",
    "            STFT_computer._save_features((f, t, spectro), f'{file_prefix}_SPECTRO.png')\n",
    "            \n",
    "            with open(csv_index, \"a\") as f:\n",
    "                f.write(f\"{file_prefix}\\n\")\n",
    "    \n",
    "    with zipfile.ZipFile(f\"{station_dir}.zip\", 'w', zipfile.ZIP_STORED) as archive:\n",
    "        for root, dirs, files in os.walk(station_dir):\n",
    "            for file in files:\n",
    "                file_path = os.path.join(root, file)\n",
    "                archive.write(file_path, os.path.relpath(file_path, station_dir))\n",
    "        shutil.rmtree(station_dir)"
   ],
   "id": "ce7c7471f7ae114a",
   "execution_count": 3,
   "outputs": []
  },
  {
   "metadata": {},
   "cell_type": "code",
   "source": [
    "path = f'{output_dir}/2022/MADW/2/20220204_105228_'\n",
    "date = datetime.datetime(2022,2,4,10,52,28)\n",
    "manager = stations.by_names(\"MADW\").by_date(date)[0].get_manager()\n",
    "data = manager.getSegment(date-SPECTRO_DELTA*0.5, date+SPECTRO_DELTA*0.5)\n",
    "(f, t, spectro) =STFT_computer.get_features(date - SPECTRO_DELTA*0.5, date + SPECTRO_DELTA*0.5)\n",
    "\n",
    "plt.imshow(spectro, aspect=\"auto\")\n"
   ],
   "id": "7daa6f58080f0200",
   "execution_count": null,
   "outputs": []
  },
  {
   "metadata": {},
   "cell_type": "code",
   "source": [
    "plt.plot(np.load(f'{path}STALTA.npy'))\n",
    "plt.xlim(0,373)"
   ],
   "id": "c7fa49242c793b80",
   "execution_count": null,
   "outputs": []
  },
  {
   "metadata": {},
   "cell_type": "code",
   "source": [
    "LTA_DELTA = datetime.timedelta(seconds=300)\n",
    "STA_DELTA = datetime.timedelta(seconds=10)\n",
    "lta_offset = int(LTA_DELTA.total_seconds()*240)\n",
    "sta_offset = int(STA_DELTA.total_seconds()*240)\n",
    "\n",
    "\n",
    "pts_lta = manager.getSegment(date - SPECTRO_DELTA*0.5 - LTA_DELTA*0.5, date + SPECTRO_DELTA*0.5 + LTA_DELTA*0.5)\n",
    "pts_sta = manager.getSegment(date - SPECTRO_DELTA*0.5 - STA_DELTA*0.5, date + SPECTRO_DELTA*0.5 + STA_DELTA*0.5)\n",
    "\n",
    "pts_lta = np.square(pts_lta)\n",
    "pts_sta = np.square(pts_sta)\n",
    "\n",
    "ltas = np.convolve(pts_lta, np.ones(lta_offset)/lta_offset, mode='valid')[::time_res * station.get_manager().sampling_f][1:-1]\n",
    "stas = np.convolve(pts_sta, np.ones(sta_offset)/sta_offset, mode='valid')[::time_res * station.get_manager().sampling_f][1:-1]\n",
    "\n",
    "plt.plot(stas, label=\"stas\")\n",
    "plt.plot(ltas, label=\"ltas\")\n",
    "plt.xlim(0,373)\n",
    "plt.legend()"
   ],
   "id": "7b305788e6fcbf6c",
   "execution_count": null,
   "outputs": []
  },
  {
   "metadata": {},
   "cell_type": "code",
   "source": "plt.plot(stas/ltas, label=\"stas/ltas\")",
   "id": "9cb11bf9d724a0bb",
   "execution_count": null,
   "outputs": []
  },
  {
   "metadata": {},
   "cell_type": "code",
   "source": "",
   "id": "1117741d4416e8b",
   "execution_count": null,
   "outputs": []
  }
 ],
 "metadata": {
  "kernelspec": {
   "display_name": "Python 3",
   "language": "python",
   "name": "python3"
  },
  "language_info": {
   "codemirror_mode": {
    "name": "ipython",
    "version": 2
   },
   "file_extension": ".py",
   "mimetype": "text/x-python",
   "name": "python",
   "nbconvert_exporter": "python",
   "pygments_lexer": "ipython2",
   "version": "2.7.6"
  }
 },
 "nbformat": 4,
 "nbformat_minor": 5
}
