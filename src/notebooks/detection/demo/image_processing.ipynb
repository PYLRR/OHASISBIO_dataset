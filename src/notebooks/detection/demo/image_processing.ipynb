{
 "cells": [
  {
   "cell_type": "code",
   "execution_count": null,
   "id": "initial_id",
   "metadata": {
    "collapsed": true
   },
   "outputs": [],
   "source": [
    "import numpy as np\n",
    "import tensorflow as tf\n",
    "from matplotlib import pyplot as plt\n",
    "from tensorflow.keras import layers"
   ]
  },
  {
   "cell_type": "code",
   "outputs": [],
   "source": [
    "path = \"/home/plerolland/temp/dataset\"\n",
    "dataset = tf.keras.utils.image_dataset_from_directory(\n",
    "  path,\n",
    "  image_size=(96, 535),\n",
    "  batch_size=32,\n",
    "  color_mode=\"grayscale\")"
   ],
   "metadata": {
    "collapsed": false
   },
   "id": "ebb8755e94a1bdc0",
   "execution_count": null
  },
  {
   "cell_type": "code",
   "outputs": [],
   "source": [
    "for images, y in dataset.take(1):\n",
    "    for i in range(4):\n",
    "        plt.figure()\n",
    "        plt.imshow(images[i].numpy().astype(np.uint8))"
   ],
   "metadata": {
    "collapsed": false
   },
   "id": "a61ff5d5c440c4c7",
   "execution_count": null
  },
  {
   "cell_type": "code",
   "outputs": [],
   "source": [
    "input = layers.Input(shape=(96, 535, 1))\n",
    "x = layers.experimental.preprocessing.Rescaling(1. / 255)(input)\n",
    "x = layers.Conv2D(16, 8, padding='same', activation='LeakyReLU', name=\"block1_conv1\")(x)\n",
    "x = layers.MaxPooling2D((2, 1), padding='same')(x)\n",
    "x = layers.Conv2D(32, (5, 8), padding='same', activation='LeakyReLU', name=\"block2_conv1\")(x)\n",
    "x = layers.MaxPooling2D((4, 1), padding='same')(x)\n",
    "x = layers.Conv2D(64, (3, 8), padding='same', activation='LeakyReLU', name=\"block3_conv1\")(x)\n",
    "x = layers.MaxPooling2D((4, 1), padding='same')(x)\n",
    "x = layers.Conv2D(128, (2, 8), padding='same', activation='LeakyReLU', name=\"block4_conv1\")(x)\n",
    "x = layers.MaxPooling2D((4, 1), padding='same')(x)\n",
    "x = layers.Flatten()(x)\n",
    "x = layers.Dense(4, activation=\"relu\")(x)\n",
    "output = layers.Dense(1, activation=\"sigmoid\")(x)\n",
    "\n",
    "model = tf.keras.Model(input, output)"
   ],
   "metadata": {
    "collapsed": false
   },
   "id": "b27551e3799dec75",
   "execution_count": null
  },
  {
   "cell_type": "code",
   "outputs": [],
   "source": [
    "model.compile(optimizer=tf.keras.optimizers.legacy.Adam(), loss=tf.losses.binary_crossentropy, metrics=[\"accuracy\"])\n",
    "model.summary()"
   ],
   "metadata": {
    "collapsed": false
   },
   "id": "ee1fb681060b451d",
   "execution_count": null
  },
  {
   "cell_type": "code",
   "outputs": [],
   "source": [
    "history = model.fit(dataset, batch_size=32, epochs=10)"
   ],
   "metadata": {
    "collapsed": false
   },
   "id": "8f183960f3c13343",
   "execution_count": null
  },
  {
   "cell_type": "code",
   "outputs": [],
   "source": [],
   "metadata": {
    "collapsed": false
   },
   "id": "579e74517eb8f367"
  },
  {
   "cell_type": "code",
   "outputs": [],
   "source": [],
   "metadata": {
    "collapsed": false
   },
   "id": "267b12a95957907c"
  }
 ],
 "metadata": {
  "kernelspec": {
   "display_name": "Python 3",
   "language": "python",
   "name": "python3"
  },
  "language_info": {
   "codemirror_mode": {
    "name": "ipython",
    "version": 2
   },
   "file_extension": ".py",
   "mimetype": "text/x-python",
   "name": "python",
   "nbconvert_exporter": "python",
   "pygments_lexer": "ipython2",
   "version": "2.7.6"
  }
 },
 "nbformat": 4,
 "nbformat_minor": 5
}
