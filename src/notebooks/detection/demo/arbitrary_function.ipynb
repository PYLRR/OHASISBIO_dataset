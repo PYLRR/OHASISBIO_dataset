{
 "cells": [
  {
   "cell_type": "code",
   "id": "initial_id",
   "metadata": {
    "collapsed": true
   },
   "source": [
    "import numpy as np\n",
    "import tensorflow as tf\n",
    "from matplotlib import pyplot as plt\n",
    "import tensorflow.keras.layers as layers"
   ],
   "execution_count": null,
   "outputs": []
  },
  {
   "cell_type": "code",
   "source": [
    "def f(x):\n",
    "    return 30*np.log(x[:,0]) - 0.01*x[:,0] + 0.01*x[:,1]\n",
    "nb_points = 1_000_000"
   ],
   "metadata": {
    "collapsed": false
   },
   "id": "79dc31c1d35e9045",
   "execution_count": null,
   "outputs": []
  },
  {
   "cell_type": "code",
   "source": [
    "X = np.random.randint(low=1,high=10**3,size=(nb_points,2))\n",
    "Y = f(X)"
   ],
   "metadata": {
    "collapsed": false
   },
   "id": "3bde7c75ed69b7e3",
   "execution_count": null,
   "outputs": []
  },
  {
   "cell_type": "code",
   "source": [
    "fig = plt.figure()\n",
    "ax = fig.add_subplot(projection='3d')\n",
    "ax.scatter(X[:10_000,0], X[:10_000,1], Y[:10_000])"
   ],
   "metadata": {
    "collapsed": false
   },
   "id": "79b0c7df863c19aa",
   "execution_count": null,
   "outputs": []
  },
  {
   "cell_type": "code",
   "source": [
    "X_train, Y_train = X[:int(nb_points*0.8)], Y[:int(nb_points*0.8)]\n",
    "X_valid, Y_valid = X[int(nb_points*0.8):], Y[int(nb_points*0.8):]"
   ],
   "metadata": {
    "collapsed": false
   },
   "id": "8cc9cacd5f8ba578",
   "execution_count": null,
   "outputs": []
  },
  {
   "cell_type": "code",
   "source": [
    "inputs = layers.Input(shape=(2,))\n",
    "x = layers.Dense(128, activation='relu')(inputs)\n",
    "x = layers.Dense(128, activation='relu')(x)\n",
    "x = layers.Dense(128, activation='relu')(x)\n",
    "x = layers.Dense(128, activation='relu')(x)\n",
    "x = layers.Dense(128, activation='relu')(x)\n",
    "x = layers.Dense(128, activation='relu')(x)\n",
    "outputs = layers.Dense(1, activation='relu')(x)\n",
    "\n",
    "model = tf.keras.Model(inputs, outputs, name=\"function_guesser\")"
   ],
   "metadata": {
    "collapsed": false
   },
   "id": "a04d38ec75abbe46",
   "execution_count": null,
   "outputs": []
  },
  {
   "cell_type": "code",
   "source": [
    "model.compile(optimizer=tf.keras.optimizers.legacy.Adam(), loss=tf.losses.mean_squared_error, metrics=[tf.losses.mean_absolute_error])\n",
    "model.summary()"
   ],
   "metadata": {
    "collapsed": false
   },
   "id": "64477f8958d2b85a",
   "execution_count": null,
   "outputs": []
  },
  {
   "cell_type": "code",
   "source": [
    "history = model.fit(X_train, Y_train, batch_size=128, epochs=10, validation_data=(X_valid, Y_valid))"
   ],
   "metadata": {
    "collapsed": false
   },
   "id": "20ba09d12ac42611",
   "execution_count": null,
   "outputs": []
  },
  {
   "cell_type": "code",
   "source": [
    "plt.plot(history.history['mean_absolute_error'], label=\"train error\")\n",
    "plt.plot(history.history['val_mean_absolute_error'], label=\"valid error\")\n",
    "plt.legend()"
   ],
   "metadata": {
    "collapsed": false
   },
   "id": "6be3b371c24d5a67",
   "execution_count": null,
   "outputs": []
  },
  {
   "cell_type": "code",
   "source": [
    "random_point = (5,17)\n",
    "random_point = np.array(random_point).reshape((1,2))\n",
    "print(model.predict(random_point), \"vs\", f(random_point))"
   ],
   "metadata": {
    "collapsed": false
   },
   "id": "e96cb5d4a971c89f",
   "execution_count": null,
   "outputs": []
  },
  {
   "cell_type": "code",
   "source": [
    "Y_pred = model.predict(X[:10000])"
   ],
   "metadata": {
    "collapsed": false
   },
   "id": "a084c2da04d65fb0",
   "execution_count": null,
   "outputs": []
  },
  {
   "cell_type": "code",
   "source": [
    "fig = plt.figure()\n",
    "ax = fig.add_subplot(projection='3d')\n",
    "ax.scatter(X[:10_000,0], X[:10_000,1], Y_pred[:10_000])"
   ],
   "metadata": {
    "collapsed": false
   },
   "id": "1959a0cf6a9ed3eb",
   "execution_count": null,
   "outputs": []
  },
  {
   "cell_type": "code",
   "source": [],
   "metadata": {
    "collapsed": false
   },
   "id": "338c41f501c79522",
   "execution_count": null,
   "outputs": []
  }
 ],
 "metadata": {
  "kernelspec": {
   "display_name": "Python 3",
   "language": "python",
   "name": "python3"
  },
  "language_info": {
   "codemirror_mode": {
    "name": "ipython",
    "version": 2
   },
   "file_extension": ".py",
   "mimetype": "text/x-python",
   "name": "python",
   "nbconvert_exporter": "python",
   "pygments_lexer": "ipython2",
   "version": "2.7.6"
  }
 },
 "nbformat": 4,
 "nbformat_minor": 5
}
