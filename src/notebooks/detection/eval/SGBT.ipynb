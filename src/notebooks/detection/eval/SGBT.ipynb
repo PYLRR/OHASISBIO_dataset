{
 "cells": [
  {
   "cell_type": "markdown",
   "source": [
    "This notebook enables to evaluate the SGBT model."
   ],
   "metadata": {
    "collapsed": false
   },
   "id": "87b0fbe18d7ee0c3"
  },
  {
   "cell_type": "code",
   "execution_count": null,
   "id": "initial_id",
   "metadata": {
    "collapsed": true
   },
   "outputs": [],
   "source": [
    "import pickle\n",
    "import csv\n",
    "\n",
    "import glob2\n",
    "import numpy as np\n",
    "from matplotlib import pyplot as plt\n",
    "from sklearn import metrics\n",
    "\n",
    "from utils.eval.eval_utils import compute_ROC"
   ]
  },
  {
   "cell_type": "markdown",
   "source": [
    "## Parameters"
   ],
   "metadata": {
    "collapsed": false
   },
   "id": "9c00966e5b2da11f"
  },
  {
   "cell_type": "code",
   "execution_count": null,
   "outputs": [],
   "source": [
    "ROOT_DIR = \"/path/to/the/dataset\"  # path where we expect to find directories named \"postives\", \"negatives\" and a csv file\n",
    "OUTPUT_DIR = \"SGBT20/dataset\"  # directory where to output files, in the data folder\n",
    "CHECKPOINT = \".../../../../data/model_saves/SGBT20/...\"  # save of the SGBT model"
   ],
   "metadata": {
    "collapsed": false
   },
   "id": "795b3c43b81e7b2b"
  },
  {
   "cell_type": "markdown",
   "source": [
    "## Load data"
   ],
   "metadata": {
    "collapsed": false
   },
   "id": "6d0b542ca5a07ab0"
  },
  {
   "cell_type": "code",
   "execution_count": null,
   "outputs": [],
   "source": [
    "with open(ROOT_DIR + \"/dataset.csv\", \"r\") as f:\n",
    "    csv_reader = csv.reader(f, delimiter=\",\")\n",
    "    lines = list(csv_reader)\n",
    "\n",
    "pos_f = glob2.glob(f\"{ROOT_DIR}/positives/*.npy\")\n",
    "pos_data = {p.split(\"/\")[-1]:np.load(p) for p in pos_f}\n",
    "neg_f = glob2.glob(f\"{ROOT_DIR}/negatives/*.npy\")\n",
    "neg_data = {n.split(\"/\")[-1]:np.load(n) for n in neg_f}\n",
    "\n",
    "posX, negX = [], []\n",
    "for line in lines:\n",
    "    _X_list = posX if line[2]==\"positive\" else negX\n",
    "    data = pos_data if line[2]==\"positive\" else neg_data\n",
    "    station = line[0].split(\"/\")[-1]\n",
    "    idx = int(line[1])\n",
    "    _X_list.append(data[station][idx])\n",
    "posX, negX = np.array(posX), np.array(negX)\n",
    "posY, negY = np.ones(len(posX)), np.zeros(len(negX))\n",
    "X = np.concatenate((posX, negX))\n",
    "Y = np.concatenate((posY, negY))\n",
    "print(f\"{len(posX)} positive samples and {len(negX)} negative samples found\")"
   ],
   "metadata": {
    "collapsed": false
   },
   "id": "8cb0347cc6a1a18"
  },
  {
   "cell_type": "markdown",
   "source": [
    "## Load the model and apply it"
   ],
   "metadata": {
    "collapsed": false
   },
   "id": "990447f3e79d0819"
  },
  {
   "cell_type": "code",
   "execution_count": null,
   "outputs": [],
   "source": [
    "with open(CHECKPOINT, 'rb') as f:\n",
    "    model = pickle.load(f)\n",
    "pred = model.predict_proba(X)[:,1]\n",
    "print(metrics.roc_auc_score(Y, pred))"
   ],
   "metadata": {
    "collapsed": false
   },
   "id": "6643ff32249928be"
  },
  {
   "cell_type": "markdown",
   "source": [
    "ROC curve"
   ],
   "metadata": {
    "collapsed": false
   },
   "id": "e183ef02726a2f37"
  },
  {
   "cell_type": "code",
   "execution_count": null,
   "outputs": [],
   "source": [
    "TPr, FPr = compute_ROC(pred[Y==1], np.count_nonzero(Y==1), pred[Y==0], np.count_nonzero(Y==0), thresh_delta=0.001)\n",
    "plt.plot(FPr, TPr)\n",
    "np.save(f\"../../../../data/npy/{OUTPUT_DIR}/FPr.npy\", FPr)\n",
    "np.save(f\"../../../../data/npy/{OUTPUT_DIR}/TPr.npy\", TPr)\n",
    "plt.xlim(0,1)\n",
    "plt.ylim(0,1)\n",
    "plt.ylabel(\"TP rate\")\n",
    "plt.xlabel(\"FP rate\")\n",
    "plt.title(\"ROC curve\")\n",
    "plt.savefig(f\"../../../../data/figures/{OUTPUT_DIR}/ROC.png\")"
   ],
   "metadata": {
    "collapsed": false
   },
   "id": "68b0772a07b116c4"
  },
  {
   "cell_type": "code",
   "execution_count": null,
   "outputs": [],
   "source": [],
   "metadata": {
    "collapsed": false
   },
   "id": "3580604b8424aa20"
  }
 ],
 "metadata": {
  "kernelspec": {
   "display_name": "Python 3",
   "language": "python",
   "name": "python3"
  },
  "language_info": {
   "codemirror_mode": {
    "name": "ipython",
    "version": 2
   },
   "file_extension": ".py",
   "mimetype": "text/x-python",
   "name": "python",
   "nbconvert_exporter": "python",
   "pygments_lexer": "ipython2",
   "version": "2.7.6"
  }
 },
 "nbformat": 4,
 "nbformat_minor": 5
}
