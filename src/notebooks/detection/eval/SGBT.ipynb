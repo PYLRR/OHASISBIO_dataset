{
 "cells": [
  {
   "cell_type": "code",
   "execution_count": 8,
   "id": "initial_id",
   "metadata": {
    "collapsed": true,
    "ExecuteTime": {
     "end_time": "2023-12-06T15:29:58.169925215Z",
     "start_time": "2023-12-06T15:29:58.165063387Z"
    }
   },
   "outputs": [],
   "source": [
    "import pickle\n",
    "import csv\n",
    "\n",
    "import glob2\n",
    "import numpy as np\n",
    "from matplotlib import pyplot as plt\n",
    "from sklearn import metrics\n",
    "\n",
    "from utils.eval.eval_utils import compute_ROC"
   ]
  },
  {
   "cell_type": "code",
   "execution_count": 21,
   "outputs": [],
   "source": [
    "ROOT_DIR = \"/media/plerolland/LaBoite/PublicData/test/HYDROMOMAR_2013/scalograms20s\"\n",
    "ROOT_DIR = \"/media/plerolland/LaBoite/PublicData/test/OHASISBIO_2020/scalograms20s\"\n",
    "CHECKPOINT = \"/media/plerolland/LaBoite/PublicData/trainings/SGBT/save_model_100s\"\n",
    "OUTPUT_FILES_SUFFIX = \"sgbt20_oha2020\""
   ],
   "metadata": {
    "collapsed": false,
    "ExecuteTime": {
     "end_time": "2023-12-06T15:30:56.462201091Z",
     "start_time": "2023-12-06T15:30:56.458998276Z"
    }
   },
   "id": "795b3c43b81e7b2b"
  },
  {
   "cell_type": "code",
   "execution_count": 22,
   "outputs": [
    {
     "name": "stdout",
     "output_type": "stream",
     "text": [
      "2927 positive samples and 28177 negative samples found\n"
     ]
    }
   ],
   "source": [
    "with open(ROOT_DIR + \"/dataset.csv\", \"r\") as f:\n",
    "    csv_reader = csv.reader(f, delimiter=\",\")\n",
    "    lines = list(csv_reader)\n",
    "\n",
    "pos_f = glob2.glob(f\"{ROOT_DIR}/positives/*.npy\")\n",
    "pos_data = {p.split(\"/\")[-1]:np.load(p) for p in pos_f}\n",
    "neg_f = glob2.glob(f\"{ROOT_DIR}/negatives/*.npy\")\n",
    "neg_data = {n.split(\"/\")[-1]:np.load(n) for n in neg_f}\n",
    "\n",
    "posX, negX = [], []\n",
    "for line in lines:\n",
    "    _X_list = posX if line[2]==\"positive\" else negX\n",
    "    data = pos_data if line[2]==\"positive\" else neg_data\n",
    "    station = line[0].split(\"/\")[-1]\n",
    "    idx = int(line[1])\n",
    "    _X_list.append(data[station][idx])\n",
    "posX, negX = np.array(posX), np.array(negX)\n",
    "posY, negY = np.ones(len(posX)), np.zeros(len(negX))\n",
    "X = np.concatenate((posX, negX))\n",
    "Y = np.concatenate((posY, negY))\n",
    "print(f\"{len(posX)} positive samples and {len(negX)} negative samples found\")"
   ],
   "metadata": {
    "collapsed": false,
    "ExecuteTime": {
     "end_time": "2023-12-06T15:30:56.887298799Z",
     "start_time": "2023-12-06T15:30:56.794645822Z"
    }
   },
   "id": "8cb0347cc6a1a18"
  },
  {
   "cell_type": "code",
   "execution_count": 23,
   "outputs": [],
   "source": [
    "with open(CHECKPOINT, 'rb') as f:\n",
    "    model = pickle.load(f)"
   ],
   "metadata": {
    "collapsed": false,
    "ExecuteTime": {
     "end_time": "2023-12-06T15:30:57.253978192Z",
     "start_time": "2023-12-06T15:30:57.251234829Z"
    }
   },
   "id": "6643ff32249928be"
  },
  {
   "cell_type": "code",
   "execution_count": 24,
   "outputs": [
    {
     "name": "stdout",
     "output_type": "stream",
     "text": [
      "0.5975205979566016\n"
     ]
    }
   ],
   "source": [
    "pred = model.predict_proba(X)[:,1]\n",
    "print(metrics.roc_auc_score(Y, pred))"
   ],
   "metadata": {
    "collapsed": false,
    "ExecuteTime": {
     "end_time": "2023-12-06T15:30:57.691079136Z",
     "start_time": "2023-12-06T15:30:57.645068552Z"
    }
   },
   "id": "46bd9efd5129a088"
  },
  {
   "cell_type": "code",
   "execution_count": 25,
   "outputs": [
    {
     "data": {
      "text/plain": "<Figure size 640x480 with 1 Axes>",
      "image/png": "[encoded data removed]"
     },
     "metadata": {},
     "output_type": "display_data"
    }
   ],
   "source": [
    "TPr, FPr = compute_ROC(pred[Y==1], np.count_nonzero(Y==1), pred[Y==0], np.count_nonzero(Y==0), thresh_delta=0.001)\n",
    "plt.plot(FPr, TPr)\n",
    "np.save(f\"data/FPr_{OUTPUT_FILES_SUFFIX}.npy\", FPr)\n",
    "np.save(f\"data/TPr_{OUTPUT_FILES_SUFFIX}.npy\", TPr)\n",
    "plt.xlim(0,1)\n",
    "plt.ylim(0,1)\n",
    "plt.ylabel(\"TP rate\")\n",
    "plt.xlabel(\"FP rate\")\n",
    "plt.title(\"ROC curve\")\n",
    "plt.savefig(f\"data/ROC_{OUTPUT_FILES_SUFFIX}.png\")"
   ],
   "metadata": {
    "collapsed": false,
    "ExecuteTime": {
     "end_time": "2023-12-06T15:30:58.402608733Z",
     "start_time": "2023-12-06T15:30:58.157095900Z"
    }
   },
   "id": "68b0772a07b116c4"
  },
  {
   "cell_type": "code",
   "execution_count": null,
   "outputs": [],
   "source": [],
   "metadata": {
    "collapsed": false
   },
   "id": "3580604b8424aa20"
  }
 ],
 "metadata": {
  "kernelspec": {
   "display_name": "Python 3",
   "language": "python",
   "name": "python3"
  },
  "language_info": {
   "codemirror_mode": {
    "name": "ipython",
    "version": 2
   },
   "file_extension": ".py",
   "mimetype": "text/x-python",
   "name": "python",
   "nbconvert_exporter": "python",
   "pygments_lexer": "ipython2",
   "version": "2.7.6"
  }
 },
 "nbformat": 4,
 "nbformat_minor": 5
}
