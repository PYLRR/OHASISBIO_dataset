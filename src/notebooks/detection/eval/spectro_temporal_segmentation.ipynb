{
 "cells": [
  {
   "cell_type": "code",
   "execution_count": 1,
   "id": "initial_id",
   "metadata": {
    "collapsed": true,
    "ExecuteTime": {
     "end_time": "2023-12-05T13:57:42.360685128Z",
     "start_time": "2023-12-05T13:57:40.324769691Z"
    }
   },
   "outputs": [
    {
     "name": "stderr",
     "output_type": "stream",
     "text": [
      "2023-12-05 14:57:40.514553: I tensorflow/core/util/port.cc:111] oneDNN custom operations are on. You may see slightly different numerical results due to floating-point round-off errors from different computation orders. To turn them off, set the environment variable `TF_ENABLE_ONEDNN_OPTS=0`.\n",
      "2023-12-05 14:57:40.556081: E tensorflow/compiler/xla/stream_executor/cuda/cuda_dnn.cc:9342] Unable to register cuDNN factory: Attempting to register factory for plugin cuDNN when one has already been registered\n",
      "2023-12-05 14:57:40.556118: E tensorflow/compiler/xla/stream_executor/cuda/cuda_fft.cc:609] Unable to register cuFFT factory: Attempting to register factory for plugin cuFFT when one has already been registered\n",
      "2023-12-05 14:57:40.556143: E tensorflow/compiler/xla/stream_executor/cuda/cuda_blas.cc:1518] Unable to register cuBLAS factory: Attempting to register factory for plugin cuBLAS when one has already been registered\n",
      "2023-12-05 14:57:40.561824: I tensorflow/core/platform/cpu_feature_guard.cc:182] This TensorFlow binary is optimized to use available CPU instructions in performance-critical operations.\n",
      "To enable the following instructions: AVX2 AVX_VNNI FMA, in other operations, rebuild TensorFlow with the appropriate compiler flags.\n",
      "2023-12-05 14:57:41.225747: W tensorflow/compiler/tf2tensorrt/utils/py_utils.cc:38] TF-TRT Warning: Could not find TensorRT\n"
     ]
    }
   ],
   "source": [
    "import random\n",
    "import csv\n",
    "\n",
    "import numpy as np\n",
    "import tensorflow as tf\n",
    "import tensorflow.keras.layers as layers\n",
    "from matplotlib import pyplot as plt\n",
    "import sys\n",
    "from scipy.signal import find_peaks\n",
    "from tqdm import tqdm\n",
    "\n",
    "from utils.eval.eval_utils import evaluate_peaks, compute_ROC\n",
    "from utils.training.metrics import accuracy_for_segmenter, AUC_for_segmenter\n",
    "from utils.training.data_loading import lines_to_line_generator, get_line_to_spectro_seg\n",
    "from utils.training.keras_models import time_segmenter_model"
   ]
  },
  {
   "cell_type": "code",
   "execution_count": 2,
   "outputs": [],
   "source": [
    "ROOT_DIR = \"/media/plerolland/LaBoite/PublicData/training/spectrograms\"\n",
    "ROOT_DIR = \"/media/plerolland/LaBoite/PublicData/test/OHASISBIO_2020/spectrograms\"\n",
    "ROOT_DIR = \"/media/plerolland/LaBoite/PublicData/test/HYDROMOMAR_2013/spectrograms\"\n",
    "BATCH_SIZE = 64\n",
    "CHECKPOINT = \"/media/plerolland/LaBoite/PublicData/trainings/checkpoints_auc_acc/checkpoints_seg/all/cp-0023.ckpt\"\n",
    "\n",
    "SIZE = (128, 186)  # number of pixels in the spectrograms\n",
    "CHANNELS = 1  # 1 means grayscale 3 RGB\n",
    "DURATION_S = 100  # duration of the spectrograms in s\n",
    "OBJECTIVE_CURVE_WIDTH = 10  # defines dispersion of objective function in s\n",
    "\n",
    "ALLOWED_ERROR_S = 10  # tolerance when evaluating and time distance allowed between two peaks in the probabilities distribution\n",
    "MIN_PROBA = 0.0005  # minimum value of the output of the segmenter model to record it\n",
    "TIME_RES = SIZE[1] / DURATION_S\n",
    "\n",
    "data_loader = get_line_to_spectro_seg(size=SIZE, duration_s=DURATION_S, channels=CHANNELS, objective_curve_width=OBJECTIVE_CURVE_WIDTH)\n",
    "model = time_segmenter_model\n",
    "m = model()\n",
    "m.load_weights(CHECKPOINT)\n",
    "m.compile(\n",
    "            optimizer=tf.keras.optimizers.legacy.Adam(),\n",
    "            loss=tf.losses.binary_crossentropy,\n",
    "            metrics=[accuracy_for_segmenter, AUC_for_segmenter()])"
   ],
   "metadata": {
    "collapsed": false,
    "ExecuteTime": {
     "end_time": "2023-12-05T13:57:48.954828066Z",
     "start_time": "2023-12-05T13:57:48.951981195Z"
    }
   },
   "id": "bbfc200168bad7b0"
  },
  {
   "cell_type": "code",
   "execution_count": 3,
   "outputs": [
    {
     "name": "stdout",
     "output_type": "stream",
     "text": [
      "20736 files found\n"
     ]
    },
    {
     "name": "stderr",
     "output_type": "stream",
     "text": [
      "2023-12-05 14:57:50.176859: I tensorflow/compiler/xla/stream_executor/cuda/cuda_gpu_executor.cc:894] successful NUMA node read from SysFS had negative value (-1), but there must be at least one NUMA node, so returning NUMA node zero. See more at https://github.com/torvalds/linux/blob/v6.0/Documentation/ABI/testing/sysfs-bus-pci#L344-L355\n",
      "2023-12-05 14:57:50.204906: I tensorflow/compiler/xla/stream_executor/cuda/cuda_gpu_executor.cc:894] successful NUMA node read from SysFS had negative value (-1), but there must be at least one NUMA node, so returning NUMA node zero. See more at https://github.com/torvalds/linux/blob/v6.0/Documentation/ABI/testing/sysfs-bus-pci#L344-L355\n",
      "2023-12-05 14:57:50.205056: I tensorflow/compiler/xla/stream_executor/cuda/cuda_gpu_executor.cc:894] successful NUMA node read from SysFS had negative value (-1), but there must be at least one NUMA node, so returning NUMA node zero. See more at https://github.com/torvalds/linux/blob/v6.0/Documentation/ABI/testing/sysfs-bus-pci#L344-L355\n",
      "2023-12-05 14:57:50.206250: I tensorflow/compiler/xla/stream_executor/cuda/cuda_gpu_executor.cc:894] successful NUMA node read from SysFS had negative value (-1), but there must be at least one NUMA node, so returning NUMA node zero. See more at https://github.com/torvalds/linux/blob/v6.0/Documentation/ABI/testing/sysfs-bus-pci#L344-L355\n",
      "2023-12-05 14:57:50.206360: I tensorflow/compiler/xla/stream_executor/cuda/cuda_gpu_executor.cc:894] successful NUMA node read from SysFS had negative value (-1), but there must be at least one NUMA node, so returning NUMA node zero. See more at https://github.com/torvalds/linux/blob/v6.0/Documentation/ABI/testing/sysfs-bus-pci#L344-L355\n",
      "2023-12-05 14:57:50.206435: I tensorflow/compiler/xla/stream_executor/cuda/cuda_gpu_executor.cc:894] successful NUMA node read from SysFS had negative value (-1), but there must be at least one NUMA node, so returning NUMA node zero. See more at https://github.com/torvalds/linux/blob/v6.0/Documentation/ABI/testing/sysfs-bus-pci#L344-L355\n",
      "2023-12-05 14:57:50.653369: I tensorflow/compiler/xla/stream_executor/cuda/cuda_gpu_executor.cc:894] successful NUMA node read from SysFS had negative value (-1), but there must be at least one NUMA node, so returning NUMA node zero. See more at https://github.com/torvalds/linux/blob/v6.0/Documentation/ABI/testing/sysfs-bus-pci#L344-L355\n",
      "2023-12-05 14:57:50.653519: I tensorflow/compiler/xla/stream_executor/cuda/cuda_gpu_executor.cc:894] successful NUMA node read from SysFS had negative value (-1), but there must be at least one NUMA node, so returning NUMA node zero. See more at https://github.com/torvalds/linux/blob/v6.0/Documentation/ABI/testing/sysfs-bus-pci#L344-L355\n",
      "2023-12-05 14:57:50.653597: I tensorflow/compiler/xla/stream_executor/cuda/cuda_gpu_executor.cc:894] successful NUMA node read from SysFS had negative value (-1), but there must be at least one NUMA node, so returning NUMA node zero. See more at https://github.com/torvalds/linux/blob/v6.0/Documentation/ABI/testing/sysfs-bus-pci#L344-L355\n",
      "2023-12-05 14:57:50.653975: I tensorflow/core/common_runtime/gpu/gpu_device.cc:1886] Created device /job:localhost/replica:0/task:0/device:GPU:0 with 2226 MB memory:  -> device: 0, name: NVIDIA T600 Laptop GPU, pci bus id: 0000:01:00.0, compute capability: 7.5\n"
     ]
    }
   ],
   "source": [
    "with open(ROOT_DIR + \"/dataset.csv\", \"r\") as f:\n",
    "    csv_reader = csv.reader(f, delimiter=\",\")\n",
    "    lines = list(csv_reader)\n",
    "print(len(lines), \"files found\")\n",
    "generator = lines_to_line_generator(lines, repeat=False)\n",
    "dataset =tf.data.Dataset.from_generator(lambda: map(tuple, generator), output_signature=tf.TensorSpec(shape=[None], dtype=tf.string))\n",
    "dataset = dataset.map(data_loader).batch(batch_size=BATCH_SIZE)"
   ],
   "metadata": {
    "collapsed": false,
    "ExecuteTime": {
     "end_time": "2023-12-05T13:57:51.510071655Z",
     "start_time": "2023-12-05T13:57:50.090506536Z"
    }
   },
   "id": "102d1c8dba1213bd"
  },
  {
   "cell_type": "code",
   "execution_count": 114,
   "outputs": [
    {
     "name": "stdout",
     "output_type": "stream",
     "text": [
      "324/324 [==============================] - 55s 164ms/step - loss: 0.0282 - accuracy_for_segmenter: 0.9424 - auc_for_segmenter_7: 0.9093\n"
     ]
    }
   ],
   "source": [
    "history = m.evaluate(dataset)\n",
    "\n",
    "generator = lines_to_line_generator(lines, repeat=False)\n",
    "dataset =tf.data.Dataset.from_generator(lambda: map(tuple, generator), output_signature=tf.TensorSpec(shape=[None], dtype=tf.string))\n",
    "dataset = dataset.map(data_loader).batch(batch_size=BATCH_SIZE)"
   ],
   "metadata": {
    "collapsed": false,
    "ExecuteTime": {
     "end_time": "2023-12-05T12:12:31.313068658Z",
     "start_time": "2023-12-05T12:11:35.848032733Z"
    }
   },
   "id": "81b0b41c9e710afc"
  },
  {
   "cell_type": "code",
   "execution_count": 4,
   "outputs": [
    {
     "name": "stderr",
     "output_type": "stream",
     "text": [
      "  0%|          | 0/325 [00:00<?, ?it/s]2023-12-05 14:57:58.842601: I tensorflow/compiler/xla/stream_executor/cuda/cuda_dnn.cc:442] Loaded cuDNN version 8700\n",
      "2023-12-05 14:57:59.377190: I tensorflow/tsl/platform/default/subprocess.cc:304] Start cannot spawn child process: No such file or directory\n",
      "2023-12-05 14:57:59.801689: W tensorflow/tsl/framework/bfc_allocator.cc:296] Allocator (GPU_0_bfc) ran out of memory trying to allocate 2.92GiB with freed_by_count=0. The caller indicates that this is not a failure, but this may mean that there could be performance gains if more memory were available.\n",
      "2023-12-05 14:58:02.290980: W tensorflow/tsl/framework/bfc_allocator.cc:296] Allocator (GPU_0_bfc) ran out of memory trying to allocate 3.04GiB with freed_by_count=0. The caller indicates that this is not a failure, but this may mean that there could be performance gains if more memory were available.\n",
      "2023-12-05 14:58:02.978449: I tensorflow/tsl/platform/default/subprocess.cc:304] Start cannot spawn child process: No such file or directory\n",
      "100%|█████████▉| 324/325 [01:19<00:00,  4.06it/s]\n"
     ]
    }
   ],
   "source": [
    "detected_peaks = []\n",
    "ground_truth_peaks = []\n",
    "\n",
    "for images, y in tqdm(dataset, total=1+int(len(lines)/BATCH_SIZE)):\n",
    "    predicted = m.predict(images, verbose=False)\n",
    "    for i, p in enumerate(predicted):\n",
    "        detected_peaks.append(find_peaks(p, height=MIN_PROBA, distance=ALLOWED_ERROR_S*TIME_RES))\n",
    "        _y = y[i,:,0] if len(y.shape) == 3 else y[i, :]\n",
    "        ground_truth_peaks.append(find_peaks(_y, height=MIN_PROBA, distance=ALLOWED_ERROR_S*TIME_RES))\n",
    "        \n",
    "detected_peaks = [[(d[0][i]/TIME_RES, d[1][\"peak_heights\"][i]) for i in range(len(d[0]))] for d in detected_peaks]\n",
    "ground_truth_peaks = [d[0]/TIME_RES for d in ground_truth_peaks]"
   ],
   "metadata": {
    "collapsed": false,
    "ExecuteTime": {
     "end_time": "2023-12-05T13:59:17.526018185Z",
     "start_time": "2023-12-05T13:57:57.617513398Z"
    }
   },
   "id": "3c41476edad4cc8f"
  },
  {
   "cell_type": "code",
   "execution_count": 17,
   "outputs": [
    {
     "name": "stdout",
     "output_type": "stream",
     "text": [
      "128715 peaks found out of 1371\n"
     ]
    }
   ],
   "source": [
    "i,j = 0,0\n",
    "for idx in range(len(detected_peaks)):\n",
    "    i+=len(detected_peaks[idx])\n",
    "    j+=len(ground_truth_peaks[idx])\n",
    "print(f\"{i} peaks found out of {j}\")"
   ],
   "metadata": {
    "collapsed": false,
    "ExecuteTime": {
     "end_time": "2023-12-05T14:02:43.740795081Z",
     "start_time": "2023-12-05T14:02:43.734723308Z"
    }
   },
   "id": "dd8f8d460ea3d46d"
  },
  {
   "cell_type": "code",
   "execution_count": 18,
   "outputs": [],
   "source": [
    "TP, FP, TP_per_seg, TN_per_seg, FP_per_seg, FN_per_seg, P_per_seg, N_per_seg = evaluate_peaks(ground_truth_peaks, detected_peaks, ALLOWED_ERROR_S)"
   ],
   "metadata": {
    "collapsed": false,
    "ExecuteTime": {
     "end_time": "2023-12-05T14:02:44.405796927Z",
     "start_time": "2023-12-05T14:02:44.226474124Z"
    }
   },
   "id": "4d70dc32878ba33b"
  },
  {
   "cell_type": "code",
   "execution_count": 19,
   "outputs": [
    {
     "name": "stdout",
     "output_type": "stream",
     "text": [
      "1287 44883\n",
      "1200 0 19536 0 1200 19536\n"
     ]
    }
   ],
   "source": [
    "print(len(TP), FP)\n",
    "print(len(TP_per_seg), TN_per_seg, len(FP_per_seg), FN_per_seg, P_per_seg, N_per_seg)"
   ],
   "metadata": {
    "collapsed": false,
    "ExecuteTime": {
     "end_time": "2023-12-05T14:02:44.739175386Z",
     "start_time": "2023-12-05T14:02:44.735211401Z"
    }
   },
   "id": "2a99044f5a495e26"
  },
  {
   "cell_type": "code",
   "execution_count": 20,
   "outputs": [
    {
     "data": {
      "text/plain": "<Figure size 640x480 with 1 Axes>",
      "image/png": "[encoded data removed]"
     },
     "metadata": {},
     "output_type": "display_data"
    }
   ],
   "source": [
    "TPr, FPr = compute_ROC(TP_per_seg, P_per_seg, FP_per_seg, N_per_seg, thresh_delta=0.001)\n",
    "plt.plot(FPr, TPr)\n",
    "plt.xlim(0,1)\n",
    "plt.ylim(0,1)\n",
    "plt.ylabel(\"TP rate\")\n",
    "plt.xlabel(\"FP rate\")\n",
    "plt.title(\"ROC curve\")\n",
    "plt.savefig(\"2Dto1D_ROC.png\")"
   ],
   "metadata": {
    "collapsed": false,
    "ExecuteTime": {
     "end_time": "2023-12-05T14:02:46.212994807Z",
     "start_time": "2023-12-05T14:02:45.435690467Z"
    }
   },
   "id": "4773ae2e388ec54"
  },
  {
   "cell_type": "code",
   "execution_count": 21,
   "outputs": [
    {
     "data": {
      "text/plain": "<Figure size 640x480 with 1 Axes>",
      "image/png": "[encoded data removed]"
     },
     "metadata": {},
     "output_type": "display_data"
    }
   ],
   "source": [
    "BAR_WIDTH = 0.8\n",
    "\n",
    "allowed_d = list(range(-ALLOWED_ERROR_S, ALLOWED_ERROR_S+1))\n",
    "TP_by_distance = {i : 0 for i in allowed_d}\n",
    "for p in TP:\n",
    "    thresh_s = np.round(p[1]).astype(np.int16)\n",
    "    TP_by_distance[thresh_s] += 1\n",
    "TP_by_distance = np.array(list(TP_by_distance.values())) / len(TP)\n",
    "\n",
    "plt.bar(allowed_d, TP_by_distance, width=BAR_WIDTH, align='center')\n",
    "plt.xticks(allowed_d)\n",
    "plt.xlim(allowed_d[0]-0.5-(1-BAR_WIDTH), allowed_d[-1]+0.5+(1-BAR_WIDTH))\n",
    "\n",
    "plt.xlabel('Time residuals (s)', fontsize=12)\n",
    "plt.ylabel('Proportion of detections', fontsize=12)\n",
    "plt.savefig('histogram_cnnseg_oha2020.png', bbox_inches='tight')"
   ],
   "metadata": {
    "collapsed": false,
    "ExecuteTime": {
     "end_time": "2023-12-05T14:02:46.491782419Z",
     "start_time": "2023-12-05T14:02:46.212139326Z"
    }
   },
   "id": "d1b78cfbdecdb03c"
  },
  {
   "cell_type": "code",
   "execution_count": null,
   "outputs": [],
   "source": [],
   "metadata": {
    "collapsed": false
   },
   "id": "c3c1b3b64ae7e877"
  }
 ],
 "metadata": {
  "kernelspec": {
   "display_name": "Python 3",
   "language": "python",
   "name": "python3"
  },
  "language_info": {
   "codemirror_mode": {
    "name": "ipython",
    "version": 2
   },
   "file_extension": ".py",
   "mimetype": "text/x-python",
   "name": "python",
   "nbconvert_exporter": "python",
   "pygments_lexer": "ipython2",
   "version": "2.7.6"
  }
 },
 "nbformat": 4,
 "nbformat_minor": 5
}
