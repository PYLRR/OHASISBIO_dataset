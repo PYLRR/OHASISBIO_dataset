{
 "cells": [
  {
   "cell_type": "markdown",
   "source": [
    "This notebook enables to evaluate TiSSNet model."
   ],
   "metadata": {
    "collapsed": false
   },
   "id": "f9bfd3d65da451d9"
  },
  {
   "cell_type": "code",
   "execution_count": null,
   "id": "initial_id",
   "metadata": {
    "collapsed": true
   },
   "source": [
    "import csv\n",
    "\n",
    "import numpy as np\n",
    "import tensorflow as tf\n",
    "from matplotlib import pyplot as plt\n",
    "\n",
    "from matplotlib.ticker import FormatStrFormatter\n",
    "from scipy.signal import find_peaks\n",
    "from tqdm import tqdm\n",
    "\n",
    "from utils.eval.eval_utils import evaluate_peaks, compute_ROC, compute_residuals_histogram\n",
    "from utils.training.metrics import accuracy_for_segmenter, AUC_for_segmenter\n",
    "from utils.training.data_loading import lines_to_line_generator, get_line_to_spectro_seg\n",
    "from utils.training.keras_models import TiSSNet"
   ],
   "outputs": []
  },
  {
   "cell_type": "markdown",
   "source": [
    "## Parameters"
   ],
   "metadata": {
    "collapsed": false
   },
   "id": "c2367ffb4f048afb"
  },
  {
   "cell_type": "code",
   "execution_count": null,
   "source": [
    "ROOT_DIR = \"/path/to/the/dataset\"  # path where we expect to find directories named \"postives\", \"negatives\" and a csv file\n",
    "OUTPUT_DIR = \"TiSSNet/dataset\"  # directory where to output files, in the data folder\n",
    "BATCH_SIZE = 64\n",
    "epoch = 22  # epoch checkpoint that we want to load\n",
    "CHECKPOINT = f\"../../../../data/model_saves/TiSSNet/all/cp-{epoch:04d}.ckpt\"  # path of the checkpoint to load\n",
    "\n",
    "SIZE = (128, 186)  # number of pixels in the spectrograms\n",
    "CHANNELS = 1  # 1 means grayscale 3 RGB\n",
    "DURATION_S = 100  # duration of the spectrograms in s\n",
    "OBJECTIVE_CURVE_WIDTH = 10  # defines dispersion of objective function in s\n",
    "\n",
    "ALLOWED_ERROR_S = 10  # tolerance when evaluating and time distance allowed between two peaks in the probabilities distribution\n",
    "MIN_PROBA = 0.0005  # minimum value of the output of the segmenter model to record it\n",
    "TIME_RES = DURATION_S / SIZE[1]  # duration of each spectrogram pixel in seconds"
   ],
   "metadata": {
    "collapsed": false
   },
   "id": "bbfc200168bad7b0",
   "outputs": []
  },
  {
   "cell_type": "markdown",
   "source": [
    "## Load model"
   ],
   "metadata": {
    "collapsed": false
   },
   "id": "365f05ffc059ff57"
  },
  {
   "cell_type": "code",
   "execution_count": null,
   "source": [
    "data_loader = get_line_to_spectro_seg(size=SIZE, duration_s=DURATION_S, channels=CHANNELS, objective_curve_width=OBJECTIVE_CURVE_WIDTH)\n",
    "model = TiSSNet\n",
    "m = model()\n",
    "m.load_weights(CHECKPOINT)\n",
    "m.compile(\n",
    "            optimizer=tf.keras.optimizers.legacy.Adam(),\n",
    "            loss=tf.losses.binary_crossentropy,\n",
    "            metrics=[accuracy_for_segmenter, AUC_for_segmenter()])"
   ],
   "metadata": {
    "collapsed": false
   },
   "id": "b5b237e619bd832b",
   "outputs": []
  },
  {
   "cell_type": "markdown",
   "source": [
    "## Load data"
   ],
   "metadata": {
    "collapsed": false
   },
   "id": "7687cc044586d4cc"
  },
  {
   "cell_type": "code",
   "execution_count": null,
   "source": [
    "with open(ROOT_DIR + \"/dataset.csv\", \"r\") as f:\n",
    "    csv_reader = csv.reader(f, delimiter=\",\")\n",
    "    lines = list(csv_reader)\n",
    "print(len(lines), \"files found\")\n",
    "generator = lines_to_line_generator(lines, repeat=False)\n",
    "dataset =tf.data.Dataset.from_generator(lambda: map(tuple, generator), output_signature=tf.TensorSpec(shape=[None], dtype=tf.string))\n",
    "dataset = dataset.map(data_loader).batch(batch_size=BATCH_SIZE)"
   ],
   "metadata": {
    "collapsed": false
   },
   "id": "102d1c8dba1213bd",
   "outputs": []
  },
  {
   "cell_type": "markdown",
   "source": [
    "## Model execution and peaks finding"
   ],
   "metadata": {
    "collapsed": false
   },
   "id": "8424da1cc9ea903c"
  },
  {
   "cell_type": "code",
   "execution_count": null,
   "source": [
    "detected_peaks = []\n",
    "ground_truth_peaks = []\n",
    "\n",
    "for images, y in tqdm(dataset, total=1+int(len(lines)/BATCH_SIZE)):\n",
    "    # predict the output for a whole batch\n",
    "    predicted = m.predict(images, verbose=False)\n",
    "    for i, p in enumerate(predicted):\n",
    "        # for each output, apply a peaks finding algorithm\n",
    "        detected_peaks.append(find_peaks(p, height=MIN_PROBA, distance=ALLOWED_ERROR_S/TIME_RES))\n",
    "        _y = y[i,:,0] if len(y.shape) == 3 else y[i, :]\n",
    "        ground_truth_peaks.append(find_peaks(_y, height=MIN_PROBA, distance=ALLOWED_ERROR_S/TIME_RES))\n",
    "        \n",
    "detected_peaks = [[(d[0][i]*TIME_RES, d[1][\"peak_heights\"][i]) for i in range(len(d[0]))] for d in detected_peaks]\n",
    "ground_truth_peaks = [d[0]*TIME_RES for d in ground_truth_peaks]"
   ],
   "metadata": {
    "collapsed": false
   },
   "id": "3c41476edad4cc8f",
   "outputs": []
  },
  {
   "cell_type": "markdown",
   "source": [
    "## Peaks statistics"
   ],
   "metadata": {
    "collapsed": false
   },
   "id": "8186f30bb50d5f8e"
  },
  {
   "cell_type": "markdown",
   "source": [
    "#### Get number of peaks"
   ],
   "metadata": {
    "collapsed": false
   },
   "id": "be2e43d7ec7ccc9e"
  },
  {
   "cell_type": "code",
   "execution_count": null,
   "source": [
    "i,j = 0,0\n",
    "for idx in range(len(detected_peaks)):\n",
    "    i+=len(detected_peaks[idx])\n",
    "    j+=len(ground_truth_peaks[idx])\n",
    "print(f\"{i} peaks found out of {j}\")"
   ],
   "metadata": {
    "collapsed": false
   },
   "id": "dd8f8d460ea3d46d",
   "outputs": []
  },
  {
   "cell_type": "markdown",
   "source": [
    "#### ROC curve computing"
   ],
   "metadata": {
    "collapsed": false
   },
   "id": "ed817b059143c166"
  },
  {
   "cell_type": "code",
   "execution_count": null,
   "source": [
    "TP, FP, TP_per_seg, TN_per_seg, FP_per_seg, FN_per_seg, P_per_seg, N_per_seg = evaluate_peaks(ground_truth_peaks, detected_peaks, ALLOWED_ERROR_S)\n",
    "TPr, FPr = compute_ROC(TP_per_seg, P_per_seg, FP_per_seg, N_per_seg, thresh_delta=0.001)\n",
    "plt.plot(FPr, TPr)\n",
    "np.save(f\"../../../../data/npy/{OUTPUT_DIR}/FPr.npy\", FPr)\n",
    "np.save(f\"../../../../data/npy/{OUTPUT_DIR}/TPr.npy\", TPr)\n",
    "plt.xlim(0,1)\n",
    "plt.ylim(0,1)\n",
    "plt.ylabel(\"TP rate\")\n",
    "plt.xlabel(\"FP rate\")\n",
    "plt.title(\"ROC curve\")\n",
    "plt.savefig(f\"../../../../data/figures/{OUTPUT_DIR}/ROC.png\")"
   ],
   "metadata": {
    "collapsed": false
   },
   "id": "4773ae2e388ec54",
   "outputs": []
  },
  {
   "cell_type": "markdown",
   "source": [
    "## Residuals histogram computing"
   ],
   "metadata": {
    "collapsed": false
   },
   "id": "2a5c30afbf23e477"
  },
  {
   "cell_type": "code",
   "execution_count": null,
   "source": [
    "BAR_WIDTH = 0.9\n",
    "step = 2*TIME_RES\n",
    "\n",
    "extremum = step * np.round(ALLOWED_ERROR_S / step)\n",
    "allowed_d = np.arange(-extremum, extremum+step, step)\n",
    "TP_by_distance = compute_residuals_histogram(allowed_d, TP)\n",
    "TP_by_distance = list(TP_by_distance.values())\n",
    "\n",
    "np.save(f\"../../../../data/npy/{OUTPUT_DIR}/TP_by_distance.npy\", TP_by_distance)\n",
    "\n",
    "fig, ax = plt.subplots(1, 1, figsize=(8, 5))\n",
    "\n",
    "plt.bar(allowed_d, TP_by_distance, width=BAR_WIDTH, align='center')\n",
    "plt.xticks(allowed_d)\n",
    "plt.xlim(allowed_d[0]-0.5-(1-BAR_WIDTH), allowed_d[-1]+0.5+(1-BAR_WIDTH))\n",
    "ax.xaxis.set_major_formatter(FormatStrFormatter('%.1f'))\n",
    "\n",
    "plt.xlabel('Time residuals (s)', fontsize=12)\n",
    "plt.ylabel('Proportion of detections', fontsize=12)\n",
    "plt.savefig(f'../../../../data/figures/{OUTPUT_DIR}/histogram.png', bbox_inches='tight')"
   ],
   "metadata": {
    "collapsed": false
   },
   "id": "d1b78cfbdecdb03c",
   "outputs": []
  }
 ],
 "metadata": {
  "kernelspec": {
   "display_name": "Python 3",
   "language": "python",
   "name": "python3"
  },
  "language_info": {
   "codemirror_mode": {
    "name": "ipython",
    "version": 2
   },
   "file_extension": ".py",
   "mimetype": "text/x-python",
   "name": "python",
   "nbconvert_exporter": "python",
   "pygments_lexer": "ipython2",
   "version": "2.7.6"
  }
 },
 "nbformat": 4,
 "nbformat_minor": 5
}
