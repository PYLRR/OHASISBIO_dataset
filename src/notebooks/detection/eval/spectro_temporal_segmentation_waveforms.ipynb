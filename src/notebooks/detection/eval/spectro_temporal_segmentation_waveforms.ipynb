{
 "cells": [
  {
   "cell_type": "code",
   "execution_count": 1,
   "id": "initial_id",
   "metadata": {
    "collapsed": true,
    "ExecuteTime": {
     "end_time": "2023-12-06T15:16:11.962298056Z",
     "start_time": "2023-12-06T15:16:08.685096702Z"
    }
   },
   "outputs": [
    {
     "name": "stderr",
     "output_type": "stream",
     "text": [
      "2023-12-06 16:16:09.086295: I tensorflow/core/util/port.cc:111] oneDNN custom operations are on. You may see slightly different numerical results due to floating-point round-off errors from different computation orders. To turn them off, set the environment variable `TF_ENABLE_ONEDNN_OPTS=0`.\n",
      "2023-12-06 16:16:09.144152: E tensorflow/compiler/xla/stream_executor/cuda/cuda_dnn.cc:9342] Unable to register cuDNN factory: Attempting to register factory for plugin cuDNN when one has already been registered\n",
      "2023-12-06 16:16:09.144188: E tensorflow/compiler/xla/stream_executor/cuda/cuda_fft.cc:609] Unable to register cuFFT factory: Attempting to register factory for plugin cuFFT when one has already been registered\n",
      "2023-12-06 16:16:09.144207: E tensorflow/compiler/xla/stream_executor/cuda/cuda_blas.cc:1518] Unable to register cuBLAS factory: Attempting to register factory for plugin cuBLAS when one has already been registered\n",
      "2023-12-06 16:16:09.152845: I tensorflow/core/platform/cpu_feature_guard.cc:182] This TensorFlow binary is optimized to use available CPU instructions in performance-critical operations.\n",
      "To enable the following instructions: AVX2 AVX_VNNI FMA, in other operations, rebuild TensorFlow with the appropriate compiler flags.\n",
      "2023-12-06 16:16:10.067117: W tensorflow/compiler/tf2tensorrt/utils/py_utils.cc:38] TF-TRT Warning: Could not find TensorRT\n"
     ]
    }
   ],
   "source": [
    "import random\n",
    "import csv\n",
    "import os\n",
    "import pickle\n",
    "\n",
    "import numpy as np\n",
    "import tensorflow as tf\n",
    "import tensorflow.keras.layers as layers\n",
    "from matplotlib import pyplot as plt\n",
    "import sys\n",
    "\n",
    "from matplotlib.ticker import FormatStrFormatter\n",
    "from scipy.signal import find_peaks\n",
    "\n",
    "from tqdm import tqdm\n",
    "\n",
    "from utils.eval.eval_utils import evaluate_peaks, compute_ROC\n",
    "from utils.misc.misc import shuffle_lists_by_group\n",
    "from utils.training.metrics import accuracy_for_segmenter, AUC_for_segmenter\n",
    "from utils.training.data_loading import get_line_to_dataset_waveform\n",
    "from utils.training.keras_models import get_phasenet_model"
   ]
  },
  {
   "cell_type": "code",
   "execution_count": 2,
   "outputs": [
    {
     "name": "stderr",
     "output_type": "stream",
     "text": [
      "2023-12-06 16:16:12.041407: I tensorflow/compiler/xla/stream_executor/cuda/cuda_gpu_executor.cc:894] successful NUMA node read from SysFS had negative value (-1), but there must be at least one NUMA node, so returning NUMA node zero. See more at https://github.com/torvalds/linux/blob/v6.0/Documentation/ABI/testing/sysfs-bus-pci#L344-L355\n",
      "2023-12-06 16:16:12.096838: I tensorflow/compiler/xla/stream_executor/cuda/cuda_gpu_executor.cc:894] successful NUMA node read from SysFS had negative value (-1), but there must be at least one NUMA node, so returning NUMA node zero. See more at https://github.com/torvalds/linux/blob/v6.0/Documentation/ABI/testing/sysfs-bus-pci#L344-L355\n",
      "2023-12-06 16:16:12.097013: I tensorflow/compiler/xla/stream_executor/cuda/cuda_gpu_executor.cc:894] successful NUMA node read from SysFS had negative value (-1), but there must be at least one NUMA node, so returning NUMA node zero. See more at https://github.com/torvalds/linux/blob/v6.0/Documentation/ABI/testing/sysfs-bus-pci#L344-L355\n",
      "2023-12-06 16:16:12.098409: I tensorflow/compiler/xla/stream_executor/cuda/cuda_gpu_executor.cc:894] successful NUMA node read from SysFS had negative value (-1), but there must be at least one NUMA node, so returning NUMA node zero. See more at https://github.com/torvalds/linux/blob/v6.0/Documentation/ABI/testing/sysfs-bus-pci#L344-L355\n",
      "2023-12-06 16:16:12.098575: I tensorflow/compiler/xla/stream_executor/cuda/cuda_gpu_executor.cc:894] successful NUMA node read from SysFS had negative value (-1), but there must be at least one NUMA node, so returning NUMA node zero. See more at https://github.com/torvalds/linux/blob/v6.0/Documentation/ABI/testing/sysfs-bus-pci#L344-L355\n",
      "2023-12-06 16:16:12.098675: I tensorflow/compiler/xla/stream_executor/cuda/cuda_gpu_executor.cc:894] successful NUMA node read from SysFS had negative value (-1), but there must be at least one NUMA node, so returning NUMA node zero. See more at https://github.com/torvalds/linux/blob/v6.0/Documentation/ABI/testing/sysfs-bus-pci#L344-L355\n",
      "2023-12-06 16:16:12.951003: I tensorflow/compiler/xla/stream_executor/cuda/cuda_gpu_executor.cc:894] successful NUMA node read from SysFS had negative value (-1), but there must be at least one NUMA node, so returning NUMA node zero. See more at https://github.com/torvalds/linux/blob/v6.0/Documentation/ABI/testing/sysfs-bus-pci#L344-L355\n",
      "2023-12-06 16:16:12.951367: I tensorflow/compiler/xla/stream_executor/cuda/cuda_gpu_executor.cc:894] successful NUMA node read from SysFS had negative value (-1), but there must be at least one NUMA node, so returning NUMA node zero. See more at https://github.com/torvalds/linux/blob/v6.0/Documentation/ABI/testing/sysfs-bus-pci#L344-L355\n",
      "2023-12-06 16:16:12.951519: I tensorflow/compiler/xla/stream_executor/cuda/cuda_gpu_executor.cc:894] successful NUMA node read from SysFS had negative value (-1), but there must be at least one NUMA node, so returning NUMA node zero. See more at https://github.com/torvalds/linux/blob/v6.0/Documentation/ABI/testing/sysfs-bus-pci#L344-L355\n",
      "2023-12-06 16:16:12.951633: I tensorflow/core/common_runtime/gpu/gpu_device.cc:1886] Created device /job:localhost/replica:0/task:0/device:GPU:0 with 149 MB memory:  -> device: 0, name: NVIDIA T600 Laptop GPU, pci bus id: 0000:01:00.0, compute capability: 7.5\n"
     ]
    }
   ],
   "source": [
    "ROOT_DIR = \"/media/plerolland/LaBoite/PublicData/training/waveforms\"\n",
    "ROOT_DIR = \"/media/plerolland/LaBoite/PublicData/test/HYDROMOMAR_2013/waveforms\"\n",
    "ROOT_DIR = \"/media/plerolland/LaBoite/PublicData/test/OHASISBIO_2020/waveforms\"\n",
    "BATCH_SIZE = 64\n",
    "CHECKPOINT = \"/media/plerolland/LaBoite/PublicData/trainings/checkpoints_auc_acc/checkpoints_seg_waveforms/all/cp-0019.ckpt\"\n",
    "\n",
    "SIZE = int(2**(np.ceil(np.log2(100*240+1))))  # number of points in each file rounded to the next pow of 2\n",
    "CHANNELS = 1  # 1 means grayscale 3 RGB\n",
    "DURATION_S = 100  # duration of the spectrograms in s\n",
    "OBJECTIVE_CURVE_WIDTH = 10  # defines dispersion of objective function in s\n",
    "\n",
    "ALLOWED_ERROR_S = 10  # tolerance when evaluating and time distance allowed between two peaks in the probabilities distribution\n",
    "MIN_PROBA = 0.0001  # minimum value of the output of the segmenter model to record it\n",
    "TIME_RES = DURATION_S / SIZE\n",
    "OUTPUT_FILES_SUFFIX = \"phasenet_oha2020\"\n",
    "\n",
    "data_loader = get_line_to_dataset_waveform(size=SIZE, duration_s=DURATION_S, objective_curve_width=OBJECTIVE_CURVE_WIDTH)\n",
    "model = get_phasenet_model(SIZE)\n",
    "m = model()\n",
    "m.load_weights(CHECKPOINT)\n",
    "m.compile(\n",
    "            optimizer=tf.keras.optimizers.legacy.Adam(),\n",
    "            loss=tf.losses.binary_crossentropy,\n",
    "            metrics=[accuracy_for_segmenter, AUC_for_segmenter()])"
   ],
   "metadata": {
    "collapsed": false,
    "ExecuteTime": {
     "end_time": "2023-12-06T15:16:13.382069898Z",
     "start_time": "2023-12-06T15:16:11.965927642Z"
    }
   },
   "id": "bbfc200168bad7b0"
  },
  {
   "cell_type": "code",
   "execution_count": 3,
   "outputs": [
    {
     "name": "stdout",
     "output_type": "stream",
     "text": [
      "1000 files found\n"
     ]
    },
    {
     "name": "stderr",
     "output_type": "stream",
     "text": [
      " 53%|█████▎    | 528/1000 [00:01<00:01, 293.95it/s]\n",
      "\n",
      "KeyboardInterrupt\n",
      "\n"
     ]
    }
   ],
   "source": [
    "# open the csv listing data, shuffling the lines\n",
    "with open(ROOT_DIR + \"/dataset.csv\", \"r\") as f:\n",
    "    csv_reader = csv.reader(f, delimiter=\",\")\n",
    "    lines = list(csv_reader)[:1000]\n",
    "print(len(lines), \"files found\")\n",
    "x, y = data_loader(lines)\n",
    "dataset = tf.data.Dataset.from_tensor_slices((list(x), list(y)))\n",
    "dataset = dataset.batch(batch_size=BATCH_SIZE)"
   ],
   "metadata": {
    "collapsed": false,
    "ExecuteTime": {
     "end_time": "2023-12-06T15:16:15.390668841Z",
     "start_time": "2023-12-06T15:16:13.384416932Z"
    }
   },
   "id": "102d1c8dba1213bd"
  },
  {
   "cell_type": "code",
   "execution_count": 12,
   "outputs": [
    {
     "name": "stderr",
     "output_type": "stream",
     "text": [
      "2023-12-05 15:34:24.492081: I tensorflow/tsl/platform/default/subprocess.cc:304] Start cannot spawn child process: No such file or directory\n",
      "2023-12-05 15:34:25.217608: I tensorflow/compiler/xla/stream_executor/cuda/cuda_dnn.cc:442] Loaded cuDNN version 8700\n",
      "2023-12-05 15:34:25.908076: I tensorflow/tsl/platform/default/subprocess.cc:304] Start cannot spawn child process: No such file or directory\n"
     ]
    },
    {
     "name": "stdout",
     "output_type": "stream",
     "text": [
      "16/16 [==============================] - 7s 158ms/step - loss: 0.0879 - accuracy_for_segmenter: 0.8330 - auc_for_segmenter: 0.8827\n"
     ]
    }
   ],
   "source": [
    "history = m.evaluate(dataset)"
   ],
   "metadata": {
    "collapsed": false,
    "ExecuteTime": {
     "end_time": "2023-12-05T14:34:30.745119340Z",
     "start_time": "2023-12-05T14:34:23.658800522Z"
    }
   },
   "id": "492e9096181112dc"
  },
  {
   "cell_type": "code",
   "execution_count": 13,
   "outputs": [
    {
     "name": "stderr",
     "output_type": "stream",
     "text": [
      "100%|██████████| 16/16 [00:03<00:00,  5.10it/s]\n"
     ]
    }
   ],
   "source": [
    "detected_peaks = []\n",
    "ground_truth_peaks = []\n",
    "for x, y in tqdm(dataset, total=1+int(len(lines)/BATCH_SIZE)):\n",
    "    predicted = m.predict(x, verbose=False)\n",
    "    for i, p in enumerate(predicted):\n",
    "        detected_peaks.append(find_peaks(p, height=MIN_PROBA, distance=ALLOWED_ERROR_S/TIME_RES))\n",
    "        _y = y[i,:,0] if len(y.shape) == 3 else y[i, :]\n",
    "        ground_truth_peaks.append(find_peaks(_y, height=MIN_PROBA, distance=ALLOWED_ERROR_S/TIME_RES))\n",
    "        \n",
    "detected_peaks = [[(d[0][i]*TIME_RES, d[1][\"peak_heights\"][i]) for i in range(len(d[0]))] for d in detected_peaks]\n",
    "ground_truth_peaks = [d[0]*TIME_RES for d in ground_truth_peaks]"
   ],
   "metadata": {
    "collapsed": false,
    "ExecuteTime": {
     "end_time": "2023-12-05T14:39:23.447748282Z",
     "start_time": "2023-12-05T14:39:20.296985879Z"
    }
   },
   "id": "3c41476edad4cc8f"
  },
  {
   "cell_type": "code",
   "execution_count": 14,
   "outputs": [
    {
     "name": "stdout",
     "output_type": "stream",
     "text": [
      "7542 peaks found out of 249\n"
     ]
    }
   ],
   "source": [
    "i,j = 0,0\n",
    "for idx in range(len(detected_peaks)):\n",
    "    i+=len(detected_peaks[idx])\n",
    "    j+=len(ground_truth_peaks[idx])\n",
    "print(f\"{i} peaks found out of {j}\")"
   ],
   "metadata": {
    "collapsed": false,
    "ExecuteTime": {
     "end_time": "2023-12-05T14:39:24.263175244Z",
     "start_time": "2023-12-05T14:39:24.260922453Z"
    }
   },
   "id": "dd8f8d460ea3d46d"
  },
  {
   "cell_type": "code",
   "execution_count": 15,
   "outputs": [],
   "source": [
    "TP, FP, TP_per_seg, TN_per_seg, FP_per_seg, FN_per_seg, P_per_seg, N_per_seg = evaluate_peaks(ground_truth_peaks, detected_peaks, ALLOWED_ERROR_S)"
   ],
   "metadata": {
    "collapsed": false,
    "ExecuteTime": {
     "end_time": "2023-12-05T14:39:25.449611519Z",
     "start_time": "2023-12-05T14:39:25.432821003Z"
    }
   },
   "id": "4d70dc32878ba33b"
  },
  {
   "cell_type": "code",
   "execution_count": 16,
   "outputs": [
    {
     "name": "stdout",
     "output_type": "stream",
     "text": [
      "248 7294\n",
      "233 0 767 0 233 767\n"
     ]
    }
   ],
   "source": [
    "print(len(TP), FP)\n",
    "print(len(TP_per_seg), TN_per_seg, len(FP_per_seg), FN_per_seg, P_per_seg, N_per_seg)"
   ],
   "metadata": {
    "collapsed": false,
    "ExecuteTime": {
     "end_time": "2023-12-05T14:39:26.033831279Z",
     "start_time": "2023-12-05T14:39:26.026815242Z"
    }
   },
   "id": "2a99044f5a495e26"
  },
  {
   "cell_type": "code",
   "execution_count": 1,
   "outputs": [
    {
     "ename": "NameError",
     "evalue": "name 'compute_ROC' is not defined",
     "output_type": "error",
     "traceback": [
      "\u001B[0;31m---------------------------------------------------------------------------\u001B[0m",
      "\u001B[0;31mNameError\u001B[0m                                 Traceback (most recent call last)",
      "Cell \u001B[0;32mIn[1], line 1\u001B[0m\n\u001B[0;32m----> 1\u001B[0m TPr, FPr \u001B[38;5;241m=\u001B[39m \u001B[43mcompute_ROC\u001B[49m(TP_per_seg, P_per_seg, FP_per_seg, N_per_seg, thresh_delta\u001B[38;5;241m=\u001B[39m\u001B[38;5;241m0.001\u001B[39m)\n\u001B[1;32m      2\u001B[0m plt\u001B[38;5;241m.\u001B[39mplot(FPr, TPr)\n\u001B[1;32m      3\u001B[0m np\u001B[38;5;241m.\u001B[39msave(\u001B[38;5;124mf\u001B[39m\u001B[38;5;124m\"\u001B[39m\u001B[38;5;124mFPr_\u001B[39m\u001B[38;5;132;01m{\u001B[39;00mOUTPUT_FILES_SUFFIX\u001B[38;5;132;01m}\u001B[39;00m\u001B[38;5;124m.npy\u001B[39m\u001B[38;5;124m\"\u001B[39m, FPr)\n",
      "\u001B[0;31mNameError\u001B[0m: name 'compute_ROC' is not defined"
     ]
    }
   ],
   "source": [
    "TPr, FPr = compute_ROC(TP_per_seg, P_per_seg, FP_per_seg, N_per_seg, thresh_delta=0.001)\n",
    "plt.plot(FPr, TPr)\n",
    "np.save(f\"data/FPr_{OUTPUT_FILES_SUFFIX}.npy\", FPr)\n",
    "np.save(f\"data/TPr_{OUTPUT_FILES_SUFFIX}.npy\", TPr)\n",
    "plt.xlim(0,1)\n",
    "plt.ylim(0,1)\n",
    "plt.ylabel(\"TP rate\")\n",
    "plt.xlabel(\"FP rate\")\n",
    "plt.title(\"ROC curve\")\n",
    "plt.savefig(f\"data/ROC_{OUTPUT_FILES_SUFFIX}.png\")"
   ],
   "metadata": {
    "collapsed": false,
    "ExecuteTime": {
     "end_time": "2023-12-06T15:15:19.126150185Z",
     "start_time": "2023-12-06T15:15:18.304276972Z"
    }
   },
   "id": "d6460d120076046e"
  },
  {
   "cell_type": "code",
   "execution_count": 10,
   "outputs": [
    {
     "data": {
      "text/plain": "<Figure size 640x480 with 1 Axes>",
      "image/png": "[encoded data removed]"
     },
     "metadata": {},
     "output_type": "display_data"
    }
   ],
   "source": [
    "BAR_WIDTH = 0.9\n",
    "step = 40*TIME_RES\n",
    "\n",
    "extremum = step * np.round(ALLOWED_ERROR_S / step)\n",
    "allowed_d = np.arange(-extremum, extremum+step, step)\n",
    "TP_by_distance = {i : 0 for i in allowed_d}\n",
    "for p in TP:\n",
    "    thresh_s = allowed_d[np.argmin(np.abs(p[1] - allowed_d))]\n",
    "    TP_by_distance[thresh_s] += 1\n",
    "TP_by_distance = np.array(list(TP_by_distance.values())) / len(TP)\n",
    "\n",
    "fig, ax = plt.subplots(1, 1, figsize=(8, 5))\n",
    "\n",
    "plt.bar(allowed_d, TP_by_distance, width=BAR_WIDTH, align='center')\n",
    "plt.xticks(allowed_d)\n",
    "plt.xlim(allowed_d[0]-0.5-(1-BAR_WIDTH), allowed_d[-1]+0.5+(1-BAR_WIDTH))\n",
    "ax.xaxis.set_major_formatter(FormatStrFormatter('%.1f'))\n",
    "\n",
    "plt.xlabel('Time residuals (s)', fontsize=12)\n",
    "plt.ylabel('Proportion of detections', fontsize=12)\n",
    "plt.savefig(f'data/histogram_{OUTPUT_FILES_SUFFIX}.png', bbox_inches='tight')"
   ],
   "metadata": {
    "collapsed": false,
    "ExecuteTime": {
     "end_time": "2023-12-05T14:38:47.415115515Z",
     "start_time": "2023-12-05T14:38:47.215115279Z"
    }
   },
   "id": "d1b78cfbdecdb03c"
  },
  {
   "cell_type": "code",
   "execution_count": null,
   "outputs": [],
   "source": [],
   "metadata": {
    "collapsed": false
   },
   "id": "70846036930c961c"
  }
 ],
 "metadata": {
  "kernelspec": {
   "display_name": "Python 3",
   "language": "python",
   "name": "python3"
  },
  "language_info": {
   "codemirror_mode": {
    "name": "ipython",
    "version": 2
   },
   "file_extension": ".py",
   "mimetype": "text/x-python",
   "name": "python",
   "nbconvert_exporter": "python",
   "pygments_lexer": "ipython2",
   "version": "2.7.6"
  }
 },
 "nbformat": 4,
 "nbformat_minor": 5
}
