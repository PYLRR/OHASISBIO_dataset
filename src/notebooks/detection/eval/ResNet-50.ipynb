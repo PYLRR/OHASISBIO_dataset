{
 "cells": [
  {
   "cell_type": "markdown",
   "source": [
    "This notebook enables to evaluate ResNet-50 model."
   ],
   "metadata": {
    "collapsed": false
   },
   "id": "1758aa1bf4693c5a"
  },
  {
   "cell_type": "code",
   "id": "initial_id",
   "metadata": {
    "collapsed": true
   },
   "source": [
    "import csv\n",
    "import math\n",
    "from pathlib import Path\n",
    "\n",
    "import numpy as np\n",
    "import tensorflow as tf\n",
    "from matplotlib import pyplot as plt\n",
    "from tqdm import tqdm\n",
    "\n",
    "from src.utils.eval.eval_utils import compute_ROC\n",
    "from src.utils.training.data_loading import get_load_spectro_for_class\n",
    "from src.utils.training.keras_models import resnet"
   ],
   "outputs": [],
   "execution_count": null
  },
  {
   "cell_type": "markdown",
   "source": [
    "## Parameters"
   ],
   "metadata": {
    "collapsed": false
   },
   "id": "bed6a1ed00727fcb"
  },
  {
   "cell_type": "code",
   "source": [
    "ROOT_DIR = \"PATH/TO/DATA\"  # path where we expect to find directories named \"postives\", \"negatives\" and a csv file\n",
    "OUTPUT_DIR = \"ResNet-50/OHASISBIO-3\"  # directory where to output files, in the data folder\n",
    "BATCH_SIZE = 64\n",
    "epoch = 31  # epoch checkpoint that we want to load\n",
    "CHECKPOINT = f\"../../../../data/model_saves/ResNet-50/cp-{epoch:04d}.ckpt\"\n",
    "\n",
    "ALLOWED_ERROR_S = 10  # tolerance when evaluating and time distance allowed between two peaks in the probabilities distribution\n",
    "\n",
    "MIN_ANNOTATORS_COUNT = 3  # minimum number of agreeing annotators needed to consider one positive pick\n",
    "\n",
    "load = get_load_spectro_for_class(224, 3)"
   ],
   "metadata": {
    "collapsed": false
   },
   "id": "bbfc200168bad7b0",
   "outputs": [],
   "execution_count": null
  },
  {
   "cell_type": "markdown",
   "source": [
    "## Load model"
   ],
   "metadata": {
    "collapsed": false
   },
   "id": "2eb35ad4b83cb4b5"
  },
  {
   "cell_type": "code",
   "source": [
    "m = resnet()\n",
    "m.load_weights(CHECKPOINT)\n",
    "m.compile(\n",
    "            optimizer=tf.keras.optimizers.legacy.Adam(),\n",
    "            loss=tf.losses.binary_crossentropy,\n",
    "            metrics=['Accuracy','AUC'])"
   ],
   "metadata": {
    "collapsed": false
   },
   "id": "a4184b39422f974b",
   "outputs": [],
   "execution_count": null
  },
  {
   "cell_type": "markdown",
   "source": [
    "## Load data"
   ],
   "metadata": {
    "collapsed": false
   },
   "id": "67af7241c416dff6"
  },
  {
   "cell_type": "code",
   "source": [
    "with open(ROOT_DIR + \"/dataset.csv\", \"r\") as f:\n",
    "    csv_reader = csv.reader(f, delimiter=\",\")\n",
    "    lines = list(csv_reader)\n",
    "print(len(lines), \"files found\")\n",
    "\n",
    "# remove any annotation whose number of agreeing annotators does not match the requirements\n",
    "for i in range(len(lines)):\n",
    "    if lines[i][1] == \"positive\":\n",
    "        to_keep = []\n",
    "        for j in range(2, len(lines[i]), 2):\n",
    "            if int(lines[i][j+1]) >= MIN_ANNOTATORS_COUNT:\n",
    "                to_keep.extend([lines[i][j]])\n",
    "        lines[i][2:] = to_keep\n",
    "        if len(lines[i]) == 2:\n",
    "            lines[i][1] = \"negative\"\n",
    "    lines[i] = lines[i][:2]\n",
    "        \n",
    "dataset = tf.data.Dataset.from_tensor_slices(lines)\n",
    "dataset = dataset.map(load).batch(batch_size=BATCH_SIZE)"
   ],
   "metadata": {
    "collapsed": false
   },
   "id": "102d1c8dba1213bd",
   "outputs": [],
   "execution_count": null
  },
  {
   "cell_type": "markdown",
   "source": [
    "## Model execution"
   ],
   "metadata": {
    "collapsed": false
   },
   "id": "43df29d014980a10"
  },
  {
   "cell_type": "code",
   "source": [
    "detected = []\n",
    "ground_truth = []\n",
    "\n",
    "for images, y in tqdm(dataset, total=math.ceil(len(lines)/BATCH_SIZE)):\n",
    "    predicted = m.predict(images, verbose=False)\n",
    "    detected.extend(predicted[:,0])\n",
    "    ground_truth.extend(y)\n",
    "    \n",
    "detected = np.array(detected)\n",
    "ground_truth = np.array(ground_truth)    "
   ],
   "metadata": {
    "collapsed": false
   },
   "id": "c102fa9719bafcb6",
   "outputs": [],
   "execution_count": null
  },
  {
   "metadata": {},
   "cell_type": "code",
   "source": "m.evaluate(dataset)",
   "id": "c91a6d65d9c5e18",
   "outputs": [],
   "execution_count": null
  },
  {
   "metadata": {},
   "cell_type": "code",
   "source": [
    "TP, FP, FN = [], [], []\n",
    "\n",
    "for i, p in enumerate(detected):\n",
    "    if p>0.5:\n",
    "        # detection is positive\n",
    "        if ground_truth[i]==1:\n",
    "            TP.append(i)\n",
    "        else:\n",
    "            FP.append(i)\n",
    "    else:\n",
    "        # detection is negative\n",
    "        if ground_truth[i]==1:\n",
    "            FN.append(i)\n",
    "\n",
    "Path(f\"../../../../data/npy/{OUTPUT_DIR}\").mkdir(exist_ok=True, parents=True)\n",
    "Path(f\"../../../../data/figures/{OUTPUT_DIR}\").mkdir(exist_ok=True, parents=True)\n",
    "\n",
    "np.save(f\"../../../../data/npy/{OUTPUT_DIR}/TP.npy\", TP)\n",
    "np.save(f\"../../../../data/npy/{OUTPUT_DIR}/FP.npy\", FP)\n",
    "np.save(f\"../../../../data/npy/{OUTPUT_DIR}/FN.npy\", FN)"
   ],
   "id": "13a6ab20c379a94e",
   "outputs": [],
   "execution_count": null
  },
  {
   "cell_type": "markdown",
   "source": [
    "## ROC curve computing"
   ],
   "metadata": {
    "collapsed": false
   },
   "id": "ff4cce3a9c40c5cd"
  },
  {
   "cell_type": "code",
   "source": [
    "TPr, FPr = compute_ROC(detected[ground_truth==1], np.count_nonzero(ground_truth==1), detected[ground_truth==0], np.count_nonzero(ground_truth==0), thresh_delta=0.001)\n",
    "plt.plot(FPr, TPr)\n",
    "\n",
    "np.save(f\"../../../../data/npy/{OUTPUT_DIR}/FPr.npy\", FPr)\n",
    "np.save(f\"../../../../data/npy/{OUTPUT_DIR}/TPr.npy\", TPr)\n",
    "plt.xlim(0,1)\n",
    "plt.ylim(0,1)\n",
    "plt.ylabel(\"TP rate\")\n",
    "plt.xlabel(\"FP rate\")\n",
    "plt.title(\"ROC curve\")\n",
    "plt.savefig(f\"../../../../data/figures/{OUTPUT_DIR}/ROC.png\")"
   ],
   "metadata": {
    "collapsed": false
   },
   "id": "522e825600fe8ec0",
   "outputs": [],
   "execution_count": null
  },
  {
   "cell_type": "code",
   "source": [],
   "metadata": {
    "collapsed": false
   },
   "id": "8b6de58e7f17d9b4",
   "outputs": [],
   "execution_count": null
  }
 ],
 "metadata": {
  "kernelspec": {
   "display_name": "Python 3",
   "language": "python",
   "name": "python3"
  },
  "language_info": {
   "codemirror_mode": {
    "name": "ipython",
    "version": 2
   },
   "file_extension": ".py",
   "mimetype": "text/x-python",
   "name": "python",
   "nbconvert_exporter": "python",
   "pygments_lexer": "ipython2",
   "version": "2.7.6"
  }
 },
 "nbformat": 4,
 "nbformat_minor": 5
}
