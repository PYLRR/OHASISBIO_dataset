{
 "cells": [
  {
   "cell_type": "markdown",
   "source": [
    "This notebook enables to evaluate ResNet-50 model."
   ],
   "metadata": {
    "collapsed": false
   },
   "id": "1758aa1bf4693c5a"
  },
  {
   "cell_type": "code",
   "execution_count": null,
   "id": "initial_id",
   "metadata": {
    "collapsed": true
   },
   "outputs": [],
   "source": [
    "import csv\n",
    "\n",
    "import numpy as np\n",
    "import tensorflow as tf\n",
    "from matplotlib import pyplot as plt\n",
    "from tqdm import tqdm\n",
    "\n",
    "from utils.eval.eval_utils import compute_ROC\n",
    "from utils.training.data_loading import get_load_spectro_for_class\n",
    "from utils.training.keras_models import resnet"
   ]
  },
  {
   "cell_type": "markdown",
   "source": [
    "## Parameters"
   ],
   "metadata": {
    "collapsed": false
   },
   "id": "bed6a1ed00727fcb"
  },
  {
   "cell_type": "code",
   "execution_count": null,
   "outputs": [],
   "source": [
    "ROOT_DIR = \"/path/to/the/dataset\"  # path where we expect to find directories named \"postives\", \"negatives\" and a csv file\n",
    "BATCH_SIZE = 64\n",
    "epoch = 31  # epoch checkpoint that we want to load\n",
    "CHECKPOINT = f\"../../../data/model_saves/ResNet-50/all/cp-{{epoch:04d}}.ckpt\"\n",
    "\n",
    "ALLOWED_ERROR_S = 10  # tolerance when evaluating and time distance allowed between two peaks in the probabilities distribution\n",
    "OUTPUT_DIR = \"ResNet-50/dataset\"  # directory where to output files, in the data folder\n",
    "\n",
    "load = get_load_spectro_for_class(224, 3)"
   ],
   "metadata": {
    "collapsed": false
   },
   "id": "bbfc200168bad7b0"
  },
  {
   "cell_type": "markdown",
   "source": [
    "## Load model"
   ],
   "metadata": {
    "collapsed": false
   },
   "id": "2eb35ad4b83cb4b5"
  },
  {
   "cell_type": "code",
   "execution_count": null,
   "outputs": [],
   "source": [
    "m = resnet()\n",
    "m.load_weights(CHECKPOINT)\n",
    "m.compile(\n",
    "            optimizer=tf.keras.optimizers.legacy.Adam(),\n",
    "            loss=tf.losses.binary_crossentropy,\n",
    "            metrics=['Accuracy','AUC'])"
   ],
   "metadata": {
    "collapsed": false
   },
   "id": "a4184b39422f974b"
  },
  {
   "cell_type": "markdown",
   "source": [
    "## Load data"
   ],
   "metadata": {
    "collapsed": false
   },
   "id": "67af7241c416dff6"
  },
  {
   "cell_type": "code",
   "execution_count": null,
   "outputs": [],
   "source": [
    "with open(ROOT_DIR + \"/dataset.csv\", \"r\") as f:\n",
    "    csv_reader = csv.reader(f, delimiter=\",\")\n",
    "    lines = list(csv_reader)\n",
    "print(len(lines), \"files found\")\n",
    "lines = [l[0] for l in lines]\n",
    "dataset = tf.data.Dataset.from_tensor_slices(lines)\n",
    "dataset = dataset.map(load).batch(batch_size=BATCH_SIZE)"
   ],
   "metadata": {
    "collapsed": false
   },
   "id": "102d1c8dba1213bd"
  },
  {
   "cell_type": "markdown",
   "source": [
    "## Model execution"
   ],
   "metadata": {
    "collapsed": false
   },
   "id": "43df29d014980a10"
  },
  {
   "cell_type": "code",
   "execution_count": null,
   "outputs": [],
   "source": [
    "detected = []\n",
    "ground_truth = []\n",
    "\n",
    "for images, y in tqdm(dataset, total=1+int(len(lines)/BATCH_SIZE)):\n",
    "    predicted = m.predict(images, verbose=False)\n",
    "    detected.extend(predicted[:,0])\n",
    "    ground_truth.extend(y)\n",
    "    \n",
    "detected = np.array(detected)\n",
    "ground_truth = np.array(ground_truth)    "
   ],
   "metadata": {
    "collapsed": false
   },
   "id": "c102fa9719bafcb6"
  },
  {
   "cell_type": "markdown",
   "source": [
    "## ROC curve computing"
   ],
   "metadata": {
    "collapsed": false
   },
   "id": "ff4cce3a9c40c5cd"
  },
  {
   "cell_type": "code",
   "execution_count": null,
   "outputs": [],
   "source": [
    "TPr, FPr = compute_ROC(detected[ground_truth==1], np.count_nonzero(ground_truth==1), detected[ground_truth==0], np.count_nonzero(ground_truth==0), thresh_delta=0.001)\n",
    "plt.plot(FPr, TPr)\n",
    "np.save(f\"../../../data/npy/{OUTPUT_DIR}/FPr.npy\", FPr)\n",
    "np.save(f\"../../../data/npy/{OUTPUT_DIR}/TPr.npy\", TPr)\n",
    "plt.xlim(0,1)\n",
    "plt.ylim(0,1)\n",
    "plt.ylabel(\"TP rate\")\n",
    "plt.xlabel(\"FP rate\")\n",
    "plt.title(\"ROC curve\")\n",
    "plt.savefig(f\"../../../data/figures/{OUTPUT_DIR}/ROC.png\")"
   ],
   "metadata": {
    "collapsed": false
   },
   "id": "522e825600fe8ec0"
  }
 ],
 "metadata": {
  "kernelspec": {
   "display_name": "Python 3",
   "language": "python",
   "name": "python3"
  },
  "language_info": {
   "codemirror_mode": {
    "name": "ipython",
    "version": 2
   },
   "file_extension": ".py",
   "mimetype": "text/x-python",
   "name": "python",
   "nbconvert_exporter": "python",
   "pygments_lexer": "ipython2",
   "version": "2.7.6"
  }
 },
 "nbformat": 4,
 "nbformat_minor": 5
}
