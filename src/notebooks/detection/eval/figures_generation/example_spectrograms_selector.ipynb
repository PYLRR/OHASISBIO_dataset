{
 "cells": [
  {
   "cell_type": "code",
   "id": "initial_id",
   "metadata": {
    "collapsed": true
   },
   "source": [
    "import csv\n",
    "\n",
    "import numpy as np\n",
    "import matplotlib\n",
    "from matplotlib import pyplot as plt\n",
    "import matplotlib.image as mpimg\n",
    "\n",
    "matplotlib.rcParams.update({'font.size': 15})"
   ],
   "outputs": [],
   "execution_count": null
  },
  {
   "metadata": {},
   "cell_type": "markdown",
   "source": "# Select spectrograms with annotations picked by a given number of annotator",
   "id": "c790c37835b8285e"
  },
  {
   "metadata": {},
   "cell_type": "code",
   "source": [
    "paths_of_datasets = [\"PATH/TO/DATA\"]\n",
    "\n",
    "DELTA_S = 50\n",
    "\n",
    "nb_annotators = 1"
   ],
   "id": "6f3fdd7669c3a2b0",
   "outputs": [],
   "execution_count": null
  },
  {
   "metadata": {},
   "cell_type": "code",
   "source": [
    "lines = []\n",
    "\n",
    "for path in paths_of_datasets:\n",
    "    with open(f'{path}/dataset.csv', \"r\") as f:\n",
    "        csv_reader = csv.reader(f, delimiter=\",\")\n",
    "        csv_lines = list(csv_reader)\n",
    "    for line in csv_lines:\n",
    "        if line[1] == \"positive\" and np.all(np.array(line[3::2], dtype=np.int32) == nb_annotators):  # if all annotations were only seen by one annotator\n",
    "            lines.append(line)\n",
    "print(len(lines), \"files found\")\n",
    "\n",
    "np.random.seed(5)\n",
    "np.random.shuffle(lines)"
   ],
   "id": "fef9b79e0f93a1c8",
   "outputs": [],
   "execution_count": null
  },
  {
   "metadata": {},
   "cell_type": "code",
   "source": [
    "nl, nc = 3, 3\n",
    "plt.subplots(nc, nl, figsize=(6*nc, 4*nl))\n",
    "\n",
    "for l in range(nl):\n",
    "    for c in range(nc):\n",
    "        idx = l*nc + c\n",
    "        ax = plt.subplot(nc, nl, 1+idx)\n",
    "        \n",
    "        img = mpimg.imread(lines[idx][0])\n",
    "        ax.imshow(img, cmap=\"jet\", extent=(-DELTA_S, DELTA_S, 0, 120), aspect=0.5, vmin=0, vmax=1)\n",
    "        for pick in lines[idx][2::2]:\n",
    "            ax.arrow(float(pick), 111, 0, -6,\n",
    "                                    length_includes_head=True, head_width=5, head_length=15, color=\"red\")\n",
    "        \n",
    "        plt.ylabel(\"Frequency (Hz)\")\n",
    "        plt.xlabel(\"Time difference from center (s)\")\n",
    "        \n",
    "plt.savefig(f\"../../../../../data/figures/example_spectrograms_{nb_annotators}-annotator.png\")"
   ],
   "id": "39fa427f1c7f0ac",
   "outputs": [],
   "execution_count": null
  },
  {
   "metadata": {},
   "cell_type": "markdown",
   "source": "# Select spectrograms with annotations picked by a given number of annotators and missed by all classifiers",
   "id": "e95875516fefaf78"
  },
  {
   "metadata": {},
   "cell_type": "code",
   "source": "",
   "id": "f13a1507bba25055",
   "outputs": [],
   "execution_count": null
  }
 ],
 "metadata": {
  "kernelspec": {
   "display_name": "Python 3",
   "language": "python",
   "name": "python3"
  },
  "language_info": {
   "codemirror_mode": {
    "name": "ipython",
    "version": 2
   },
   "file_extension": ".py",
   "mimetype": "text/x-python",
   "name": "python",
   "nbconvert_exporter": "python",
   "pygments_lexer": "ipython2",
   "version": "2.7.6"
  }
 },
 "nbformat": 4,
 "nbformat_minor": 5
}
