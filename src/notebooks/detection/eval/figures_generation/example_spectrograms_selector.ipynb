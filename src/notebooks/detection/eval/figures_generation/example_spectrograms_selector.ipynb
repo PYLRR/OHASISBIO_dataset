{
 "cells": [
  {
   "cell_type": "code",
   "id": "initial_id",
   "metadata": {
    "collapsed": true
   },
   "source": [
    "import csv\n",
    "\n",
    "import numpy as np\n",
    "import matplotlib\n",
    "from matplotlib import pyplot as plt\n",
    "import matplotlib.image as mpimg\n",
    "\n",
    "matplotlib.rcParams.update({'font.size': 15})"
   ],
   "outputs": [],
   "execution_count": null
  },
  {
   "metadata": {},
   "cell_type": "markdown",
   "source": "# Select spectrograms with annotations picked by a given number of annotator",
   "id": "c790c37835b8285e"
  },
  {
   "metadata": {},
   "cell_type": "code",
   "source": [
    "# paths to spectrograms\n",
    "path_of_datasets_oha = \"PATH_TO_SPECTROGRAMS\"\n",
    "path_of_datasets_hyd = \"PATH_TO_SPECTROGRAMS\"  \n",
    "\n",
    "DELTA_S = 50\n",
    "\n",
    "nb_annotators = 1"
   ],
   "id": "6f3fdd7669c3a2b0",
   "outputs": [],
   "execution_count": null
  },
  {
   "metadata": {},
   "cell_type": "code",
   "source": [
    "lines = []\n",
    "\n",
    "with open(f'{path_of_datasets_oha}/dataset.csv', \"r\") as f:\n",
    "    csv_reader = csv.reader(f, delimiter=\",\")\n",
    "    lines_oha = list(csv_reader)    \n",
    "        \n",
    "\n",
    "with open(f'{path_of_datasets_hyd}/dataset.csv', \"r\") as f:\n",
    "    csv_reader = csv.reader(f, delimiter=\",\")\n",
    "    lines_hyd = list(csv_reader)\n",
    "    \n",
    "for line in lines_oha + lines_hyd:\n",
    "    if line[1] == \"positive\" and np.all(np.array(line[3::2], dtype=np.int32) == nb_annotators):  # if all annotations were seen by n annotator\n",
    "            lines.append(line)\n",
    "print(len(lines), \"files found\")\n",
    "\n",
    "np.random.seed(5)\n",
    "np.random.shuffle(lines)"
   ],
   "id": "fef9b79e0f93a1c8",
   "outputs": [],
   "execution_count": null
  },
  {
   "metadata": {},
   "cell_type": "code",
   "source": [
    "nl, nc = 3, 3\n",
    "plt.subplots(nc, nl, figsize=(6*nc, 4*nl))\n",
    "\n",
    "for l in range(nl):\n",
    "    for c in range(nc):\n",
    "        idx = l*nc + c\n",
    "        ax = plt.subplot(nc, nl, 1+idx)\n",
    "        \n",
    "        img = mpimg.imread(lines[idx][0])\n",
    "        ax.imshow(img, cmap=\"jet\", extent=(-DELTA_S, DELTA_S, 0, 120), aspect=0.5, vmin=0, vmax=1)\n",
    "        for pick in lines[idx][2::2]:\n",
    "            ax.arrow(float(pick), 111, 0, -6,\n",
    "                                    length_includes_head=True, head_width=5, head_length=15, color=\"red\")\n",
    "        \n",
    "        plt.ylabel(\"Frequency (Hz)\")\n",
    "        plt.xlabel(\"Time difference from center (s)\")\n",
    "        \n",
    "plt.savefig(f\"../../../../../data/figures/example_spectrograms_{nb_annotators}-annotator.png\")"
   ],
   "id": "39fa427f1c7f0ac",
   "outputs": [],
   "execution_count": null
  },
  {
   "metadata": {},
   "cell_type": "markdown",
   "source": "# Select spectrograms with annotations picked by a given number of annotators and missed by all classifiers",
   "id": "e95875516fefaf78"
  },
  {
   "metadata": {},
   "cell_type": "code",
   "source": [
    "paths_of_picks_TiSSNet = \"../../../../../data/npy/TiSSNet\"\n",
    "paths_of_picks_acousticPhaseNet = \"../../../../../data/npy/AcousticPhaseNet\"\n",
    "paths_of_picks_sgbt20 = \"../../../../../data/npy/SGBT20\"\n",
    "paths_of_picks_sgbt100 = \"../../../../../data/npy/SGBT100\"\n",
    "paths_of_picks_resnet = \"../../../../../data/npy/ResNet-50\"\n",
    "\n",
    "fn_paths = [paths_of_picks_TiSSNet, paths_of_picks_acousticPhaseNet, paths_of_picks_sgbt20, paths_of_picks_sgbt100, paths_of_picks_resnet]"
   ],
   "id": "f13a1507bba25055",
   "outputs": [],
   "execution_count": null
  },
  {
   "metadata": {},
   "cell_type": "code",
   "source": [
    "scores_seg = [[np.load(f'{path}/{dataset}/TP.npy', allow_pickle=True) for dataset in (\"OHASISBIO-1\", \"HYDROMOMAR-1\")] for path in fn_paths][:2]\n",
    "scores_class = [[np.load(f'{path}/{dataset}/FN.npy', allow_pickle=True) for dataset in (\"OHASISBIO-1\", \"HYDROMOMAR-1\")] for path in fn_paths][2:]\n",
    "\n",
    "# browse all detections of segmentation models and apply a threshold of 0.5 to decide if the detection is positive or negative (to make it comparable to the FN array of other models)\n",
    "fn_idxs = []\n",
    "for i, m in enumerate(scores_seg):\n",
    "    fn_idxs.append([[], []])\n",
    "    for idx in m[0].item().keys():\n",
    "        if m[0].item()[idx] < 0.5:\n",
    "            fn_idxs[i][0].append(idx)\n",
    "    for idx in m[1].item().keys():\n",
    "        if m[1].item()[idx] < 0.5:\n",
    "            fn_idxs[i][1].append(idx)\n",
    "\n",
    "fn_idxs.extend([list(s) for s in scores_class])"
   ],
   "id": "b7a98f1e7d9e29bb",
   "outputs": [],
   "execution_count": null
  },
  {
   "metadata": {},
   "cell_type": "code",
   "source": [
    "idx_oha = [d[0] for d in fn_idxs]\n",
    "common_fn_oha = set.intersection(*map(set,idx_oha))  # intersection of missed events\n",
    "common_fn_oha = [lines_oha[idx] for idx in common_fn_oha]\n",
    "\n",
    "idx_hyd = [d[1] for d in fn_idxs]\n",
    "common_fn_hyd = set.intersection(*map(set,idx_hyd))  # intersection of missed events\n",
    "common_fn_hyd = [lines_hyd[idx] for idx in common_fn_hyd]\n",
    "\n",
    "nb_annotators = 3\n",
    "\n",
    "common_fn = common_fn_oha + common_fn_hyd\n",
    "kept_fn = []\n",
    "for line in common_fn:\n",
    "    if np.all(np.array(line[3::2], dtype=np.int32) == nb_annotators):  # if all annotations were seen by n annotator\n",
    "            kept_fn.append(line)\n",
    "np.random.seed(5)\n",
    "np.random.shuffle(kept_fn)\n",
    "\n",
    "print(f\"{len(kept_fn)} common false negatives were kept\")"
   ],
   "id": "56864e397fc90083",
   "outputs": [],
   "execution_count": null
  },
  {
   "metadata": {},
   "cell_type": "code",
   "source": [
    "nl, nc = 3, 3\n",
    "plt.subplots(nc, nl, figsize=(6*nc, 4*nl))\n",
    "\n",
    "for l in range(nl):\n",
    "    for c in range(nc):\n",
    "        idx = l*nc + c\n",
    "        ax = plt.subplot(nc, nl, 1+idx)\n",
    "        \n",
    "        img = mpimg.imread(kept_fn[idx][0])\n",
    "        ax.imshow(img, cmap=\"jet\", extent=(-DELTA_S, DELTA_S, 0, 120), aspect=0.5, vmin=0, vmax=1)\n",
    "        \n",
    "        plt.ylabel(\"Frequency (Hz)\")\n",
    "        plt.xlabel(\"Time difference from center (s)\")\n",
    "        \n",
    "plt.savefig(f\"../../../../../data/figures/example_spectrograms_FN_{nb_annotators}-annotator.png\")"
   ],
   "id": "b565a34c49b98e6",
   "outputs": [],
   "execution_count": null
  },
  {
   "metadata": {},
   "cell_type": "code",
   "source": "",
   "id": "14ffee3acf94a59c",
   "outputs": [],
   "execution_count": null
  }
 ],
 "metadata": {
  "kernelspec": {
   "display_name": "Python 3",
   "language": "python",
   "name": "python3"
  },
  "language_info": {
   "codemirror_mode": {
    "name": "ipython",
    "version": 2
   },
   "file_extension": ".py",
   "mimetype": "text/x-python",
   "name": "python",
   "nbconvert_exporter": "python",
   "pygments_lexer": "ipython2",
   "version": "2.7.6"
  }
 },
 "nbformat": 4,
 "nbformat_minor": 5
}
