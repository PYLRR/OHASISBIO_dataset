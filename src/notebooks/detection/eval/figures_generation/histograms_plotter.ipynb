{
 "cells": [
  {
   "cell_type": "markdown",
   "source": [
    "This notebook loads the distribution of TP detections of a time segmenter model and plots the histogram of the proportion of TP depending of the time residual of the detection with respect of the ground truth."
   ],
   "metadata": {
    "collapsed": false
   },
   "id": "bb7c5a970df2123f"
  },
  {
   "cell_type": "code",
   "id": "initial_id",
   "metadata": {
    "collapsed": true
   },
   "source": [
    "import numpy as np\n",
    "import matplotlib\n",
    "from matplotlib import pyplot as plt\n",
    "from matplotlib.ticker import FormatStrFormatter\n",
    "\n",
    "matplotlib.rcParams.update({'font.size': 15})  # font size of matplotlib figure"
   ],
   "outputs": [],
   "execution_count": null
  },
  {
   "cell_type": "markdown",
   "source": [
    "## Load TP detections per time residual for both test datasets"
   ],
   "metadata": {
    "collapsed": false
   },
   "id": "4d0e3753452542af"
  },
  {
   "cell_type": "code",
   "source": [
    "nb_annot = 1\n",
    "\n",
    "TP_by_distance_tn_oha = np.load(f\"../../../../../data/npy/TiSSNet/OHASISBIO-{nb_annot}/TP_by_distance.npy\")\n",
    "TP_by_distance_tn_hyd = np.load(f\"../../../../../data/npy/TiSSNet/HYDROMOMAR-{nb_annot}/TP_by_distance.npy\")\n",
    "TP_by_distance_apn_oha = np.load(f\"../../../../../data/npy/AcousticPhaseNet/OHASISBIO-{nb_annot}/TP_by_distance.npy\")\n",
    "TP_by_distance_apn_hyd = np.load(f\"../../../../../data/npy/AcousticPhaseNet/HYDROMOMAR-{nb_annot}/TP_by_distance.npy\")"
   ],
   "metadata": {
    "collapsed": false
   },
   "id": "f2d469e3d548cb4c",
   "outputs": [],
   "execution_count": null
  },
  {
   "cell_type": "markdown",
   "source": [
    "## Plot the figure"
   ],
   "metadata": {
    "collapsed": false
   },
   "id": "276bac290f244161"
  },
  {
   "cell_type": "code",
   "source": [
    "BAR_WIDTH = 0.9\n",
    "step_tn = 2*100/186  # number of seconds corresponding to 2 time bins in the data\n",
    "extremum_tn = step_tn * np.round(10 / step_tn)  # we allow +/- 10s of time residual at maximum\n",
    "allowed_d_tn = np.arange(-extremum_tn, extremum_tn+step_tn, step_tn)\n",
    "\n",
    "step_apn = 1  # number of seconds corresponding to 240 time bins in the data\n",
    "extremum_apn = step_apn * np.round(10 / step_apn)  # we allow +/- 10s of time residual at maximum\n",
    "allowed_d_apn = np.round(np.arange(-extremum_apn, extremum_apn+step_apn, step_apn)).astype(np.int32)  # keep only the int as it it supposed to be ~1 tick per second\n",
    "\n",
    "\n",
    "plt.subplots(2, 2, figsize=(12,10))\n",
    "\n",
    "# OHASISBIO-3-3-2020\n",
    "# TiSSNet\n",
    "ax1 = plt.subplot(2, 2, 1)\n",
    "\n",
    "plt.bar(allowed_d_tn, TP_by_distance_tn_oha, width=BAR_WIDTH, align='center', color='black')\n",
    "plt.xticks(allowed_d_tn)\n",
    "plt.xlim(allowed_d_tn[0]-0.5-(1-BAR_WIDTH), allowed_d_tn[-1]+0.5+(1-BAR_WIDTH))\n",
    "plt.ylim(0, 0.12)\n",
    "ax1.xaxis.set_major_formatter(FormatStrFormatter('%.1f'))\n",
    "\n",
    "ax1.text(-0.1, 1.1, \"a)\", transform=ax1.transAxes, size=20, weight='bold')\n",
    "plt.ylabel('Proportion of detections')\n",
    "\n",
    "plt.locator_params(axis='x', nbins=11)\n",
    "\n",
    "# AcousticPhaseNet\n",
    "ax1 = plt.subplot(2, 2, 2)\n",
    "\n",
    "plt.bar(allowed_d_apn, TP_by_distance_apn_oha, width=BAR_WIDTH, align='center', color='black')\n",
    "plt.xticks(allowed_d_apn)\n",
    "plt.xlim(allowed_d_apn[0]-0.5-(1-BAR_WIDTH), allowed_d_apn[-1]+0.5+(1-BAR_WIDTH))\n",
    "plt.ylim(0, 0.12)\n",
    "ax1.xaxis.set_major_formatter(FormatStrFormatter('%1d'))\n",
    "\n",
    "ax1.text(-0.1, 1.1, \"b)\", transform=ax1.transAxes, size=20, weight='bold')\n",
    "\n",
    "plt.locator_params(axis='x', nbins=11)\n",
    "\n",
    "\n",
    "# HYDROMOMAR\n",
    "# TiSSNet\n",
    "ax2 = plt.subplot(2, 2, 3)\n",
    "\n",
    "plt.bar(allowed_d_tn, TP_by_distance_tn_hyd, width=BAR_WIDTH, align='center', color='black')\n",
    "plt.xticks(allowed_d_tn)\n",
    "plt.xlim(allowed_d_tn[0]-0.5-(1-BAR_WIDTH), allowed_d_tn[-1]+0.5+(1-BAR_WIDTH))\n",
    "plt.ylim(0, 0.12)\n",
    "ax2.xaxis.set_major_formatter(FormatStrFormatter('%.1f'))\n",
    "\n",
    "ax2.text(-0.1, 1.1, \"c)\", transform=ax2.transAxes, size=20, weight='bold')  # subfigure index\n",
    "\n",
    "plt.locator_params(axis='x', nbins=11)\n",
    "plt.xlabel('Time residuals (s)')\n",
    "plt.ylabel('Proportion of detections')\n",
    "\n",
    "# AcousticPhaseNet\n",
    "ax2 = plt.subplot(2, 2, 4)\n",
    "\n",
    "plt.bar(allowed_d_apn, TP_by_distance_apn_hyd, width=BAR_WIDTH, align='center', color='black')\n",
    "plt.xticks(allowed_d_apn)\n",
    "plt.xlim(allowed_d_apn[0]-0.5-(1-BAR_WIDTH), allowed_d_apn[-1]+0.5+(1-BAR_WIDTH))\n",
    "plt.ylim(0, 0.12)\n",
    "ax2.xaxis.set_major_formatter(FormatStrFormatter('%1d'))\n",
    "\n",
    "ax2.text(-0.1, 1.1, \"d)\", transform=ax2.transAxes, size=20, weight='bold')  # subfigure index\n",
    "\n",
    "plt.locator_params(axis='x', nbins=11)\n",
    "plt.xlabel('Time residuals (s)')\n",
    "plt.tight_layout()\n",
    "\n",
    "plt.savefig(f\"../../../../../data/figures/histograms_merged-{nb_annot}.png\", dpi=200)"
   ],
   "metadata": {
    "collapsed": false
   },
   "id": "9004ce7a16a12846",
   "outputs": [],
   "execution_count": null
  }
 ],
 "metadata": {
  "kernelspec": {
   "display_name": "Python 3",
   "language": "python",
   "name": "python3"
  },
  "language_info": {
   "codemirror_mode": {
    "name": "ipython",
    "version": 2
   },
   "file_extension": ".py",
   "mimetype": "text/x-python",
   "name": "python",
   "nbconvert_exporter": "python",
   "pygments_lexer": "ipython2",
   "version": "2.7.6"
  }
 },
 "nbformat": 4,
 "nbformat_minor": 5
}
