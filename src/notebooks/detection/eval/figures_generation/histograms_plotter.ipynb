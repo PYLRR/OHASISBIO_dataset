{
 "cells": [
  {
   "cell_type": "markdown",
   "source": [
    "This notebook loads the distribution of TP detections of a time segmenter model and plots the histogram of the proportion of TP depending of the time residual of the detection with respect of the ground truth."
   ],
   "metadata": {
    "collapsed": false
   },
   "id": "bb7c5a970df2123f"
  },
  {
   "cell_type": "code",
   "id": "initial_id",
   "metadata": {
    "collapsed": true
   },
   "source": [
    "import numpy as np\n",
    "from matplotlib import pyplot as plt\n",
    "import matplotlib\n",
    "from matplotlib.ticker import FormatStrFormatter\n",
    "\n",
    "matplotlib.rcParams.update({'font.size': 15})  # font size of matplotlib figure"
   ],
   "outputs": [],
   "execution_count": null
  },
  {
   "cell_type": "markdown",
   "source": [
    "## Load TP detections per time residual for both test datasets"
   ],
   "metadata": {
    "collapsed": false
   },
   "id": "4d0e3753452542af"
  },
  {
   "cell_type": "code",
   "source": [
    "TP_by_distance_hyd = np.load(\"../../../../../data/npy/TiSSNet/HYDROMOMAR/TP_by_distance.npy\")\n",
    "TP_by_distance_oha = np.load(\"../../../../../data/npy/TiSSNet/OHASISBIO/TP_by_distance.npy\")"
   ],
   "metadata": {
    "collapsed": false
   },
   "id": "f2d469e3d548cb4c",
   "outputs": [],
   "execution_count": null
  },
  {
   "cell_type": "markdown",
   "source": [
    "## Plot the figure"
   ],
   "metadata": {
    "collapsed": false
   },
   "id": "276bac290f244161"
  },
  {
   "cell_type": "code",
   "source": [
    "BAR_WIDTH = 0.9\n",
    "step = 2*100/186  # number of seconds corresponding to 2 time bins in the data\n",
    "extremum = step * np.round(10 / step)  # we allow +/- 10s of time residual at maximum\n",
    "allowed_d = np.arange(-extremum, extremum+step, step)\n",
    "\n",
    "plt.subplots(2, 1, figsize=(10,10))\n",
    "\n",
    "# OHASISBIO-2020\n",
    "ax1 = plt.subplot(2, 1, 1)\n",
    "\n",
    "plt.bar(allowed_d, TP_by_distance_oha, width=BAR_WIDTH, align='center', color='black')\n",
    "plt.xticks(allowed_d)\n",
    "plt.xlim(allowed_d[0]-0.5-(1-BAR_WIDTH), allowed_d[-1]+0.5+(1-BAR_WIDTH))\n",
    "ax1.xaxis.set_major_formatter(FormatStrFormatter('%.1f'))\n",
    "\n",
    "# subfigure index\n",
    "ax1.text(-0.1, 1.1, \"(a)\", transform=ax1.transAxes, size=20, weight='bold')\n",
    "\n",
    "plt.xlabel('Time residuals (s)', fontsize=12)\n",
    "plt.ylabel('Proportion of detections', fontsize=12)\n",
    "\n",
    "# HYDROMOMAR\n",
    "ax2 = plt.subplot(2, 1, 2)\n",
    "\n",
    "plt.bar(allowed_d, TP_by_distance_hyd, width=BAR_WIDTH, align='center', color='black')\n",
    "plt.xticks(allowed_d)\n",
    "plt.xlim(allowed_d[0]-0.5-(1-BAR_WIDTH), allowed_d[-1]+0.5+(1-BAR_WIDTH))\n",
    "ax2.xaxis.set_major_formatter(FormatStrFormatter('%.1f'))\n",
    "\n",
    "ax2.text(-0.1, 1.1, \"(b)\", transform=ax2.transAxes, size=20, weight='bold')  # subfigure index\n",
    "\n",
    "plt.xlabel('Time residuals (s)', fontsize=12)\n",
    "plt.ylabel('Proportion of detections', fontsize=12)\n",
    "\n",
    "plt.tight_layout()\n",
    "\n",
    "plt.savefig(\"../../../../../data/figures/TiSSNet/histograms_merged.png\", dpi=200)"
   ],
   "metadata": {
    "collapsed": false
   },
   "id": "9004ce7a16a12846",
   "outputs": [],
   "execution_count": null
  },
  {
   "cell_type": "code",
   "source": [],
   "metadata": {
    "collapsed": false
   },
   "id": "a937c51b710aff8f",
   "outputs": [],
   "execution_count": null
  },
  {
   "cell_type": "code",
   "source": [],
   "metadata": {
    "collapsed": false
   },
   "id": "7187ba8b76201b8a",
   "outputs": [],
   "execution_count": null
  }
 ],
 "metadata": {
  "kernelspec": {
   "display_name": "Python 3",
   "language": "python",
   "name": "python3"
  },
  "language_info": {
   "codemirror_mode": {
    "name": "ipython",
    "version": 2
   },
   "file_extension": ".py",
   "mimetype": "text/x-python",
   "name": "python",
   "nbconvert_exporter": "python",
   "pygments_lexer": "ipython2",
   "version": "2.7.6"
  }
 },
 "nbformat": 4,
 "nbformat_minor": 5
}
