{
 "cells": [
  {
   "cell_type": "markdown",
   "source": [
    "This notebook loads FP rates and TP rates of the different models and plot the corresponding ROC curves."
   ],
   "metadata": {
    "collapsed": false
   },
   "id": "5e55fcd296cf82d4"
  },
  {
   "cell_type": "code",
   "id": "initial_id",
   "metadata": {
    "collapsed": true
   },
   "source": [
    "import numpy as np\n",
    "from matplotlib import pyplot as plt\n",
    "import matplotlib\n",
    "\n",
    "matplotlib.rcParams.update({'font.size': 15})  # font size of matplotlib figures"
   ],
   "outputs": [],
   "execution_count": null
  },
  {
   "cell_type": "markdown",
   "source": [
    "## Load FP and TP rates for 4 models and both test datasets"
   ],
   "metadata": {
    "collapsed": false
   },
   "id": "7f173c3903bf49ef"
  },
  {
   "cell_type": "code",
   "source": [
    "prefix = \"../../../../../data/npy\"\n",
    "\n",
    "TPr_hyd_TiSSNet = np.load(f\"{prefix}/TiSSNet/HYDROMOMAR-1/TPr.npy\")\n",
    "FPr_hyd_TiSSNet = np.load(f\"{prefix}/TiSSNet/HYDROMOMAR-1/FPr.npy\")\n",
    "TPr_oha_TiSSNet = np.load(f\"{prefix}/TiSSNet/OHASISBIO-1/TPr.npy\")\n",
    "FPr_oha_TiSSNet = np.load(f\"{prefix}/TiSSNet/OHASISBIO-1/FPr.npy\")\n",
    "\n",
    "TPr_hyd_acousticPhaseNet = np.load(f\"{prefix}/AcousticPhaseNet/HYDROMOMAR-1/TPr.npy\")\n",
    "FPr_hyd_acousticPhaseNet = np.load(f\"{prefix}/AcousticPhaseNet/HYDROMOMAR-1/FPr.npy\")\n",
    "TPr_oha_acousticPhaseNet = np.load(f\"{prefix}/AcousticPhaseNet/OHASISBIO-1/TPr.npy\")\n",
    "FPr_oha_acousticPhaseNet = np.load(f\"{prefix}/AcousticPhaseNet/OHASISBIO-1/FPr.npy\")\n",
    "\n",
    "\n",
    "TPr_hyd_resnet = np.load(f\"{prefix}/ResNet-50/HYDROMOMAR-1/TPr.npy\")\n",
    "FPr_hyd_resnet = np.load(f\"{prefix}/ResNet-50/HYDROMOMAR-1/FPr.npy\")\n",
    "TPr_oha_resnet = np.load(f\"{prefix}/ResNet-50/OHASISBIO-1/TPr.npy\")\n",
    "FPr_oha_resnet = np.load(f\"{prefix}/ResNet-50/OHASISBIO-1/FPr.npy\")\n",
    "\n",
    "\n",
    "TPr_hyd_sgbt20 = np.load(f\"{prefix}/SGBT20/HYDROMOMAR-1/TPr.npy\")\n",
    "FPr_hyd_sgbt20 = np.load(f\"{prefix}/SGBT20/HYDROMOMAR-1/FPr.npy\")\n",
    "TPr_oha_sgbt20 = np.load(f\"{prefix}/SGBT20/OHASISBIO-1/TPr.npy\")\n",
    "FPr_oha_sgbt20 = np.load(f\"{prefix}/SGBT20/OHASISBIO-1/FPr.npy\")\n",
    "\n",
    "\n",
    "TPr_hyd_sgbt100 = np.load(f\"{prefix}/SGBT100/HYDROMOMAR-1/TPr.npy\")\n",
    "FPr_hyd_sgbt100 = np.load(f\"{prefix}/SGBT100/HYDROMOMAR-1/FPr.npy\")\n",
    "TPr_oha_sgbt100 = np.load(f\"{prefix}/SGBT100/OHASISBIO-1/TPr.npy\")\n",
    "FPr_oha_sgbt100 = np.load(f\"{prefix}/SGBT100/OHASISBIO-1/FPr.npy\")"
   ],
   "metadata": {
    "collapsed": false
   },
   "id": "f2d469e3d548cb4c",
   "outputs": [],
   "execution_count": null
  },
  {
   "cell_type": "markdown",
   "source": [
    "## Plot the figure"
   ],
   "metadata": {
    "collapsed": false
   },
   "id": "36162b5236405958"
  },
  {
   "cell_type": "code",
   "source": [
    "plt.subplots(1, 2, figsize=(12,5))\n",
    "\n",
    "# OHASISBIO\n",
    "ax1 = plt.subplot(1, 2, 1)\n",
    "\n",
    "plt.plot(FPr_oha_TiSSNet, TPr_oha_TiSSNet, color=\"gold\", label=\"TiSSNet\")\n",
    "plt.plot(FPr_oha_acousticPhaseNet, TPr_oha_acousticPhaseNet, color=\"maroon\", label=\"AcousticPhaseNet\")\n",
    "plt.plot(FPr_oha_resnet, TPr_oha_resnet, color=\"dodgerblue\", label=\"ResNet-50\")\n",
    "plt.plot(FPr_oha_sgbt20, TPr_oha_sgbt20, color=\"limegreen\", label=\"SGBT (20s)\")\n",
    "plt.plot(FPr_oha_sgbt100, TPr_oha_sgbt100, color=\"darkgreen\", label=\"SGBT (100s)\")\n",
    "\n",
    "ax1.text(-0.1, 1.1, \"a)\", transform=ax1.transAxes, size=20, weight='bold')  # subfigure index\n",
    "plt.legend(loc='lower right')\n",
    "plt.xlim(0,1)\n",
    "plt.ylim(0,1)\n",
    "plt.ylabel(\"TP rate\")\n",
    "plt.xlabel(\"FP rate\")\n",
    "\n",
    "# HYDROMOMAR\n",
    "ax2 = plt.subplot(1, 2, 2)\n",
    "\n",
    "plt.plot(FPr_hyd_TiSSNet, TPr_hyd_TiSSNet, color=\"gold\", label=\"TiSSNet\")\n",
    "plt.plot(FPr_hyd_acousticPhaseNet, TPr_hyd_acousticPhaseNet, color=\"maroon\", label=\"AcousticPhaseNet\")\n",
    "plt.plot(FPr_hyd_resnet, TPr_hyd_resnet, color=\"dodgerblue\", label=\"ResNet-50\")\n",
    "plt.plot(FPr_hyd_sgbt20, TPr_hyd_sgbt20, color=\"limegreen\", label=\"SGBT (20s)\")\n",
    "plt.plot(FPr_hyd_sgbt100, TPr_hyd_sgbt100, color=\"darkgreen\", label=\"SGBT (100s)\")\n",
    "\n",
    "# subfigure index\n",
    "ax2.text(-0.1, 1.1, \"b)\", transform=ax2.transAxes, size=20, weight='bold')\n",
    "\n",
    "plt.legend(loc='lower right')\n",
    "plt.xlim(0,1)\n",
    "plt.ylim(0,1)\n",
    "plt.ylabel(\"TP rate\")\n",
    "plt.xlabel(\"FP rate\")\n",
    "\n",
    "plt.tight_layout()\n",
    "\n",
    "plt.savefig(\"../../../../../data/figures/ROC_merged.png\", dpi=200)"
   ],
   "metadata": {
    "collapsed": false
   },
   "id": "9004ce7a16a12846",
   "outputs": [],
   "execution_count": null
  },
  {
   "cell_type": "code",
   "source": [],
   "metadata": {
    "collapsed": false
   },
   "id": "9c009cdc4182c334",
   "outputs": [],
   "execution_count": null
  }
 ],
 "metadata": {
  "kernelspec": {
   "display_name": "Python 3",
   "language": "python",
   "name": "python3"
  },
  "language_info": {
   "codemirror_mode": {
    "name": "ipython",
    "version": 2
   },
   "file_extension": ".py",
   "mimetype": "text/x-python",
   "name": "python",
   "nbconvert_exporter": "python",
   "pygments_lexer": "ipython2",
   "version": "2.7.6"
  }
 },
 "nbformat": 4,
 "nbformat_minor": 5
}
