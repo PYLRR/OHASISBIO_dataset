{
 "cells": [
  {
   "cell_type": "markdown",
   "source": [
    "This notebook loads FP rates and TP rates of the different models and plot the corresponding ROC curves."
   ],
   "metadata": {
    "collapsed": false
   },
   "id": "5e55fcd296cf82d4"
  },
  {
   "cell_type": "code",
   "execution_count": 23,
   "id": "initial_id",
   "metadata": {
    "collapsed": true,
    "ExecuteTime": {
     "end_time": "2023-12-20T16:48:54.503189589Z",
     "start_time": "2023-12-20T16:48:54.461744281Z"
    }
   },
   "outputs": [],
   "source": [
    "import numpy as np\n",
    "from matplotlib import pyplot as plt\n",
    "import matplotlib\n",
    "\n",
    "matplotlib.rcParams.update({'font.size': 15})  # font size of matplotlib figures"
   ]
  },
  {
   "cell_type": "markdown",
   "source": [
    "## Load FP and TP rates for 4 models and both test datasets"
   ],
   "metadata": {
    "collapsed": false
   },
   "id": "7f173c3903bf49ef"
  },
  {
   "cell_type": "code",
   "execution_count": 25,
   "outputs": [
    {
     "ename": "FileNotFoundError",
     "evalue": "[Errno 2] No such file or directory: '../../../../../data/npy/TiSSNet/HYDROMOMAR/TPr.npy'",
     "output_type": "error",
     "traceback": [
      "\u001B[0;31m---------------------------------------------------------------------------\u001B[0m",
      "\u001B[0;31mFileNotFoundError\u001B[0m                         Traceback (most recent call last)",
      "Cell \u001B[0;32mIn[25], line 3\u001B[0m\n\u001B[1;32m      1\u001B[0m prefix \u001B[38;5;241m=\u001B[39m \u001B[38;5;124m\"\u001B[39m\u001B[38;5;124m../../../../../data/npy\u001B[39m\u001B[38;5;124m\"\u001B[39m\n\u001B[0;32m----> 3\u001B[0m TPr_hyd_TiSSNet \u001B[38;5;241m=\u001B[39m \u001B[43mnp\u001B[49m\u001B[38;5;241;43m.\u001B[39;49m\u001B[43mload\u001B[49m\u001B[43m(\u001B[49m\u001B[38;5;124;43mf\u001B[39;49m\u001B[38;5;124;43m\"\u001B[39;49m\u001B[38;5;132;43;01m{\u001B[39;49;00m\u001B[43mprefix\u001B[49m\u001B[38;5;132;43;01m}\u001B[39;49;00m\u001B[38;5;124;43m/TiSSNet/HYDROMOMAR/TPr.npy\u001B[39;49m\u001B[38;5;124;43m\"\u001B[39;49m\u001B[43m)\u001B[49m\n\u001B[1;32m      4\u001B[0m FPr_hyd_TiSSNet \u001B[38;5;241m=\u001B[39m np\u001B[38;5;241m.\u001B[39mload(\u001B[38;5;124mf\u001B[39m\u001B[38;5;124m\"\u001B[39m\u001B[38;5;132;01m{\u001B[39;00mprefix\u001B[38;5;132;01m}\u001B[39;00m\u001B[38;5;124m/TiSSNet/HYDROMOMAR/FPr.npy\u001B[39m\u001B[38;5;124m\"\u001B[39m)\n\u001B[1;32m      5\u001B[0m TPr_oha_TiSSNet \u001B[38;5;241m=\u001B[39m np\u001B[38;5;241m.\u001B[39mload(\u001B[38;5;124mf\u001B[39m\u001B[38;5;124m\"\u001B[39m\u001B[38;5;132;01m{\u001B[39;00mprefix\u001B[38;5;132;01m}\u001B[39;00m\u001B[38;5;124m/TiSSNet/OHASISBIO-2020/TPr.npy\u001B[39m\u001B[38;5;124m\"\u001B[39m)\n",
      "File \u001B[0;32m~/Bureau/OHASISBIO_dataset/venv/lib/python3.10/site-packages/numpy/lib/npyio.py:427\u001B[0m, in \u001B[0;36mload\u001B[0;34m(file, mmap_mode, allow_pickle, fix_imports, encoding, max_header_size)\u001B[0m\n\u001B[1;32m    425\u001B[0m     own_fid \u001B[38;5;241m=\u001B[39m \u001B[38;5;28;01mFalse\u001B[39;00m\n\u001B[1;32m    426\u001B[0m \u001B[38;5;28;01melse\u001B[39;00m:\n\u001B[0;32m--> 427\u001B[0m     fid \u001B[38;5;241m=\u001B[39m stack\u001B[38;5;241m.\u001B[39menter_context(\u001B[38;5;28;43mopen\u001B[39;49m\u001B[43m(\u001B[49m\u001B[43mos_fspath\u001B[49m\u001B[43m(\u001B[49m\u001B[43mfile\u001B[49m\u001B[43m)\u001B[49m\u001B[43m,\u001B[49m\u001B[43m \u001B[49m\u001B[38;5;124;43m\"\u001B[39;49m\u001B[38;5;124;43mrb\u001B[39;49m\u001B[38;5;124;43m\"\u001B[39;49m\u001B[43m)\u001B[49m)\n\u001B[1;32m    428\u001B[0m     own_fid \u001B[38;5;241m=\u001B[39m \u001B[38;5;28;01mTrue\u001B[39;00m\n\u001B[1;32m    430\u001B[0m \u001B[38;5;66;03m# Code to distinguish from NumPy binary files and pickles.\u001B[39;00m\n",
      "\u001B[0;31mFileNotFoundError\u001B[0m: [Errno 2] No such file or directory: '../../../../../data/npy/TiSSNet/HYDROMOMAR/TPr.npy'"
     ]
    }
   ],
   "source": [
    "prefix = \"../../../../data/npy\"\n",
    "\n",
    "TPr_hyd_TiSSNet = np.load(f\"{prefix}/TiSSNet/HYDROMOMAR/TPr.npy\")\n",
    "FPr_hyd_TiSSNet = np.load(f\"{prefix}/TiSSNet/HYDROMOMAR/FPr.npy\")\n",
    "TPr_oha_TiSSNet = np.load(f\"{prefix}/TiSSNet/OHASISBIO-2020/TPr.npy\")\n",
    "FPr_oha_TiSSNet = np.load(f\"{prefix}/TiSSNet/OHASISBIO-2020/FPr.npy\")\n",
    "\n",
    "TPr_hyd_acousticPhaseNet = np.load(f\"{prefix}/AcousticPhaseNet/HYDROMOMAR/TPr.npy\")\n",
    "FPr_hyd_acousticPhaseNet = np.load(f\"{prefix}/AcousticPhaseNet/HYDROMOMAR/FPr.npy\")\n",
    "TPr_oha_acousticPhaseNet = np.load(f\"{prefix}/AcousticPhaseNet/OHASISBIO-2020/TPr.npy\")\n",
    "FPr_oha_acousticPhaseNet = np.load(f\"{prefix}/AcousticPhaseNet/OHASISBIO-2020/FPr.npy\")\n",
    "\n",
    "\n",
    "TPr_hyd_resnet = np.load(f\"{prefix}/ResNet-50/HYDROMOMAR/TPr.npy\")\n",
    "FPr_hyd_resnet = np.load(f\"{prefix}/ResNet-50/HYDROMOMAR/FPr.npy\")\n",
    "TPr_oha_resnet = np.load(f\"{prefix}/ResNet-50/OHASISBIO-2020/TPr.npy\")\n",
    "FPr_oha_resnet = np.load(f\"{prefix}/ResNet-50/OHASISBIO-2020/FPr.npy\")\n",
    "\n",
    "\n",
    "TPr_hyd_sgbt20 = np.load(f\"{prefix}/SGBT20/HYDROMOMAR/TPr.npy\")\n",
    "FPr_hyd_sgbt20 = np.load(f\"{prefix}/SGBT20/HYDROMOMAR/FPr.npy\")\n",
    "TPr_oha_sgbt20 = np.load(f\"{prefix}/SGBT20/OHASISBIO-2020/TPr.npy\")\n",
    "FPr_oha_sgbt20 = np.load(f\"{prefix}/SGBT20/OHASISBIO-2020/FPr.npy\")\n",
    "\n",
    "\n",
    "TPr_hyd_sgbt100 = np.load(f\"{prefix}/SGBT100/HYDROMOMAR/TPr.npy\")\n",
    "FPr_hyd_sgbt100 = np.load(f\"{prefix}/SGBT100/HYDROMOMAR/FPr.npy\")\n",
    "TPr_oha_sgbt100 = np.load(f\"{prefix}/SGBT100/OHASISBIO-2020/TPr.npy\")\n",
    "FPr_oha_sgbt100 = np.load(f\"{prefix}/SGBT100/OHASISBIO-2020/FPr.npy\")"
   ],
   "metadata": {
    "collapsed": false,
    "ExecuteTime": {
     "end_time": "2023-12-20T16:49:10.831082245Z",
     "start_time": "2023-12-20T16:49:10.783887800Z"
    }
   },
   "id": "f2d469e3d548cb4c"
  },
  {
   "cell_type": "markdown",
   "source": [
    "## Plot the figure"
   ],
   "metadata": {
    "collapsed": false
   },
   "id": "36162b5236405958"
  },
  {
   "cell_type": "code",
   "execution_count": null,
   "outputs": [],
   "source": [
    "plt.subplots(1, 2, figsize=(12,5))\n",
    "\n",
    "# OHASISBIO-2020\n",
    "ax1 = plt.subplot(1, 2, 1)\n",
    "\n",
    "plt.plot(FPr_oha_TiSSNet, TPr_oha_TiSSNet, color=\"gold\", label=\"TiSSNet\")\n",
    "plt.plot(FPr_oha_acousticPhaseNet, TPr_oha_acousticPhaseNet, color=\"maroon\", label=\"AcousticPhaseNet\")\n",
    "plt.plot(FPr_oha_resnet, TPr_oha_resnet, color=\"dodgerblue\", label=\"ResNet-50\")\n",
    "plt.plot(FPr_oha_sgbt20, TPr_oha_sgbt20, color=\"limegreen\", label=\"SGBT (20s)\")\n",
    "plt.plot(FPr_oha_sgbt100, TPr_oha_sgbt100, color=\"darkgreen\", label=\"SGBT (100s)\")\n",
    "\n",
    "ax1.text(-0.1, 1.1, \"a)\", transform=ax1.transAxes, size=20, weight='bold')  # subfigure index\n",
    "plt.legend(loc='lower right')\n",
    "plt.xlim(0,1)\n",
    "plt.ylim(0,1)\n",
    "plt.ylabel(\"TP rate\")\n",
    "plt.xlabel(\"FP rate\")\n",
    "\n",
    "# HYDROMOMAR\n",
    "ax2 = plt.subplot(1, 2, 2)\n",
    "\n",
    "plt.plot(FPr_hyd_TiSSNet, TPr_hyd_TiSSNet, color=\"gold\", label=\"TiSSNet\")\n",
    "plt.plot(FPr_hyd_acousticPhaseNet, TPr_hyd_acousticPhaseNet, color=\"maroon\", label=\"AcousticPhaseNet\")\n",
    "plt.plot(FPr_hyd_resnet, TPr_hyd_resnet, color=\"dodgerblue\", label=\"ResNet-50\")\n",
    "plt.plot(FPr_hyd_sgbt20, TPr_hyd_sgbt20, color=\"limegreen\", label=\"SGBT (20s)\")\n",
    "plt.plot(FPr_hyd_sgbt100, TPr_hyd_sgbt100, color=\"darkgreen\", label=\"SGBT (100s)\")\n",
    "\n",
    "# subfigure index\n",
    "ax2.text(-0.1, 1.1, \"b)\", transform=ax2.transAxes, size=20, weight='bold')\n",
    "\n",
    "plt.legend(loc='lower right')\n",
    "plt.xlim(0,1)\n",
    "plt.ylim(0,1)\n",
    "plt.ylabel(\"TP rate\")\n",
    "plt.xlabel(\"FP rate\")\n",
    "\n",
    "plt.tight_layout()\n",
    "\n",
    "plt.savefig(\"../../../../data/figures/ROC_merged.png\", dpi=200)"
   ],
   "metadata": {
    "collapsed": false
   },
   "id": "9004ce7a16a12846"
  }
 ],
 "metadata": {
  "kernelspec": {
   "display_name": "Python 3",
   "language": "python",
   "name": "python3"
  },
  "language_info": {
   "codemirror_mode": {
    "name": "ipython",
    "version": 2
   },
   "file_extension": ".py",
   "mimetype": "text/x-python",
   "name": "python",
   "nbconvert_exporter": "python",
   "pygments_lexer": "ipython2",
   "version": "2.7.6"
  }
 },
 "nbformat": 4,
 "nbformat_minor": 5
}
