{
 "cells": [
  {
   "cell_type": "code",
   "execution_count": null,
   "id": "initial_id",
   "metadata": {
    "collapsed": true
   },
   "outputs": [],
   "source": [
    "import csv\n",
    "import random\n",
    "\n",
    "import numpy as np\n",
    "import tensorflow as tf\n",
    "from matplotlib import pyplot as plt\n",
    "\n",
    "from utils.training import data_loading\n",
    "from utils.training.data_loading import list_to_generator_seg, load_spectro_for_seg\n",
    "from utils.training.models import time_segmenter_model"
   ]
  },
  {
   "cell_type": "code",
   "execution_count": null,
   "outputs": [],
   "source": [
    "ROOT_DIR = \"/media/plerolland/LaBoite/PublicData/training/classification/spectrograms\"\n",
    "SEED = 0\n",
    "BATCH_SIZE = 64\n",
    "EPOCHS = 50\n",
    "CHECKPOINTS_DIR = \"checkpoints_seg\""
   ],
   "metadata": {
    "collapsed": false
   },
   "id": "71fca84d6b1cb5d5"
  },
  {
   "cell_type": "code",
   "execution_count": null,
   "outputs": [],
   "source": [
    "with open(f\"{ROOT_DIR}/dataset.csv\", \"r\") as f:\n",
    "    csv_reader = csv.reader(f, delimiter=\",\")\n",
    "    lines = list(csv_reader)\n",
    "pos = [l for l in lines if l[1]==\"positive\"]\n",
    "neg = [l for l in lines if l[1]==\"negative\"]\n",
    "files = pos + neg[:len(pos)]\n",
    "print(len(files), \"files found\")\n",
    "\n",
    "random.Random(SEED).shuffle(files)\n",
    "train_files = files[int(0.2 * len(files)):]\n",
    "valid_files = files[:int(0.2 * len(files))]\n",
    "valid_generator = list_to_generator_seg(valid_files)\n",
    "train_generator = list_to_generator_seg(train_files)\n",
    "train_dataset = tf.data.Dataset.from_generator(lambda: map(tuple, train_generator), output_signature=tf.TensorSpec(shape=[None], dtype=tf.string))\n",
    "valid_dataset = tf.data.Dataset.from_generator(lambda: map(tuple, valid_generator), output_signature=tf.TensorSpec(shape=[None], dtype=tf.string))\n",
    "# enable cache usage and prefetching for performance\n",
    "AUTOTUNE = tf.data.experimental.AUTOTUNE\n",
    "train_dataset = train_dataset.map(load_spectro_for_seg).batch(batch_size=BATCH_SIZE).prefetch(buffer_size=AUTOTUNE)\n",
    "valid_dataset = valid_dataset.map(load_spectro_for_seg).batch(batch_size=BATCH_SIZE).prefetch(buffer_size=AUTOTUNE)"
   ],
   "metadata": {
    "collapsed": false
   },
   "id": "9b39854a497accbc"
  },
  {
   "cell_type": "code",
   "execution_count": null,
   "outputs": [],
   "source": [
    "cols = 8\n",
    "lines = 4\n",
    "batch_number = 2\n",
    "\n",
    "to_show = cols * lines\n",
    "plt.figure(figsize=(20, lines*5))\n",
    "shown=0\n",
    "for images, y in valid_dataset.take(batch_number+to_show//BATCH_SIZE+1):\n",
    "    if batch_number:\n",
    "            batch_number -= 1\n",
    "            continue\n",
    "    for i in range(min(BATCH_SIZE, to_show-shown)):\n",
    "        ax1 = plt.subplot(lines*2, cols, 1 + shown%cols + cols*2*(shown//cols))\n",
    "        plt.xlabel(\"time (s)\")\n",
    "        plt.ylabel(\"frequency (Hz)\")\n",
    "        plt.imshow(images[i].numpy(), cmap='inferno')\n",
    "\n",
    "        ax2 = plt.subplot(lines*2, cols, 1 + shown%cols + cols*2*(shown//cols) + cols)\n",
    "\n",
    "        ax2.plot(y[i], label='ground truth')\n",
    "        ax2.legend(loc=\"upper left\")\n",
    "        ax2.set_xlim([0, 128])\n",
    "        ax2.set_ylim([0, 1])\n",
    "        ax2.set_xlabel(\"time (s)\")\n",
    "        ax2.set_ylabel(\"probability\")\n",
    "\n",
    "        shown += 1\n",
    "plt.show()"
   ],
   "metadata": {
    "collapsed": false
   },
   "id": "79c8cde4faea208c"
  },
  {
   "cell_type": "code",
   "execution_count": null,
   "outputs": [],
   "source": [
    "model = time_segmenter_model()\n",
    "\n",
    "model.compile(\n",
    "        optimizer=tf.keras.optimizers.Adam(learning_rate=0.0001),\n",
    "        loss=tf.losses.binary_crossentropy,\n",
    "        metrics='MeanAbsoluteError')\n",
    "\n",
    "model.build((BATCH_SIZE, data_loading.SPECTRO_SIZE[0], data_loading.SPECTRO_SIZE[1], 1))\n",
    "\n",
    "model.summary()"
   ],
   "metadata": {
    "collapsed": false
   },
   "id": "18e249d1ba681c9b"
  },
  {
   "cell_type": "code",
   "execution_count": null,
   "outputs": [],
   "source": [
    "cp_callback = tf.keras.callbacks.ModelCheckpoint(filepath=\"{CHECKPOINTS_DIR}/cp-{epoch:04d}.ckpt\",\n",
    "                                                     save_weights_only=True,\n",
    "                                                     verbose=1)"
   ],
   "metadata": {
    "collapsed": false
   },
   "id": "64803ad670ae3e0d"
  },
  {
   "cell_type": "code",
   "execution_count": null,
   "outputs": [],
   "source": [
    "model.fit(\n",
    "        train_dataset,\n",
    "        batch_size=BATCH_SIZE,\n",
    "        validation_data=valid_dataset,\n",
    "        steps_per_epoch=len(train_files) // BATCH_SIZE,\n",
    "        validation_steps=len(valid_files) // BATCH_SIZE,\n",
    "        epochs=EPOCHS,\n",
    "        callbacks=[cp_callback]\n",
    "    )"
   ],
   "metadata": {
    "collapsed": false
   },
   "id": "41c7c52bb58f5df9"
  },
  {
   "cell_type": "code",
   "execution_count": null,
   "outputs": [],
   "source": [
    "cols = 8\n",
    "lines = 8\n",
    "batch_number = 15\n",
    "\n",
    "to_show = cols * lines\n",
    "plt.figure(figsize=(20, lines*5))\n",
    "shown=0\n",
    "for images, y in valid_dataset.take(batch_number+to_show//BATCH_SIZE+1):\n",
    "    if batch_number:\n",
    "            batch_number -= 1\n",
    "            continue\n",
    "    for i in range(min(BATCH_SIZE, to_show-shown)):\n",
    "        ax1 = plt.subplot(lines*2, cols, 1 + i%cols + cols*2*(i//cols))\n",
    "        plt.xlabel(\"time (s)\")\n",
    "        plt.ylabel(\"frequency (Hz)\")\n",
    "        plt.imshow(images[i].numpy(), cmap='inferno')\n",
    "\n",
    "        ax2 = plt.subplot(lines*2, cols, 1 + i%cols + cols*2*(i//cols) + cols)\n",
    "        \n",
    "        ax2.plot(y[i], label='ground truth')\n",
    "        predicted = model.predict(np.reshape(images[i], (1, 128, 128, 1)), verbose=False)[0]\n",
    "        ax2.plot(predicted, label='predicted')\n",
    "        ax2.legend(loc=\"upper left\")\n",
    "        ax2.set_xlim([0, 128])\n",
    "        ax2.set_ylim([0, 1])\n",
    "        ax2.set_xlabel(\"time (s)\")\n",
    "        ax2.set_ylabel(\"probability\")\n",
    "\n",
    "        shown += 1\n",
    "plt.show()"
   ],
   "metadata": {
    "collapsed": false
   },
   "id": "665bda4ba7f9c379"
  },
  {
   "cell_type": "code",
   "execution_count": null,
   "outputs": [],
   "source": [],
   "metadata": {
    "collapsed": false
   },
   "id": "3a7fab59502d5011"
  },
  {
   "cell_type": "code",
   "execution_count": null,
   "outputs": [],
   "source": [],
   "metadata": {
    "collapsed": false
   },
   "id": "e8c9f458073e8acf"
  },
  {
   "cell_type": "code",
   "execution_count": null,
   "outputs": [],
   "source": [],
   "metadata": {
    "collapsed": false
   },
   "id": "86d707bc166cf48c"
  }
 ],
 "metadata": {
  "kernelspec": {
   "display_name": "Python 3",
   "language": "python",
   "name": "python3"
  },
  "language_info": {
   "codemirror_mode": {
    "name": "ipython",
    "version": 2
   },
   "file_extension": ".py",
   "mimetype": "text/x-python",
   "name": "python",
   "nbconvert_exporter": "python",
   "pygments_lexer": "ipython2",
   "version": "2.7.6"
  }
 },
 "nbformat": 4,
 "nbformat_minor": 5
}
