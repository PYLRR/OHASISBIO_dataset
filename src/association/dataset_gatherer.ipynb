{
 "cells": [
  {
   "metadata": {
    "ExecuteTime": {
     "end_time": "2024-09-29T10:33:09.554896Z",
     "start_time": "2024-09-29T10:33:09.537013Z"
    }
   },
   "cell_type": "code",
   "source": [
    "import pickle\n",
    "from pathlib import Path\n",
    "\n",
    "Path(\"temp.pickle\").write_bytes(b\"\")\n",
    "\n",
    "a = [1,2,[1,2,3,4]]\n",
    "with open(\"temp.pickle\", \"ab\") as f:\n",
    "    pickle.dump(a, f)\n",
    "    pickle.dump(a, f)\n",
    "    \n",
    "a = [1,2,[1,2,3,5]]\n",
    "with open(\"temp.pickle\", \"ab\") as f:\n",
    "    pickle.dump(a, f)\n",
    "\n",
    "\n",
    "b = []\n",
    "with open(\"temp.pickle\", \"rb\") as f:    \n",
    "    while 1:\n",
    "        try:\n",
    "            b.append(pickle.load(f))\n",
    "        except EOFError:\n",
    "            break\n",
    "print(b)"
   ],
   "id": "fd71eeda3ba0d7a",
   "outputs": [
    {
     "name": "stdout",
     "output_type": "stream",
     "text": [
      "[[1, 2, [1, 2, 3, 4]], [1, 2, [1, 2, 3, 4]], [1, 2, [1, 2, 3, 5]]]\n"
     ]
    }
   ],
   "execution_count": 7
  },
  {
   "cell_type": "code",
   "id": "initial_id",
   "metadata": {
    "collapsed": true,
    "ExecuteTime": {
     "end_time": "2024-09-18T17:03:09.739013Z",
     "start_time": "2024-09-18T17:03:09.730948Z"
    }
   },
   "source": [
    "import datetime\n",
    "import os\n",
    "from pathlib import Path\n",
    "\n",
    "import glob2\n",
    "import numpy as np\n",
    "import scipy.io.wavfile\n",
    "from matplotlib import pyplot as plt\n",
    "from scipy import signal\n",
    "from tqdm import tqdm\n",
    "import skimage\n",
    "from scipy.signal import find_peaks\n",
    "\n",
    "from utils.data_reading.catalogs.catalog import merge_catalogs\n",
    "from utils.data_reading.catalogs.ISC import ISC_file\n",
    "from utils.data_reading.catalogs.twin_catalog import TwinCatalog\n",
    "from utils.data_reading.sound_data.station import StationsCatalog\n",
    "from utils.physics.sound.sound_model import HomogeneousSoundModel\n",
    "from utils.physics.sound.sound_velocity_grid import MonthlySoundVelocityGrid, MonthlySoundVelocityGridOptimized\n",
    "from utils.physics.utils.generic import deg_to_m, euclidian_distance\n",
    "from utils.transformations.features_extractor import STFTFeaturesExtractor"
   ],
   "outputs": [],
   "execution_count": 6
  },
  {
   "metadata": {
    "ExecuteTime": {
     "end_time": "2024-09-18T17:22:49.489560Z",
     "start_time": "2024-09-18T17:22:49.480049Z"
    }
   },
   "cell_type": "code",
   "source": [
    "# input files\n",
    "isc_dir = f\"/home/plerolland/Bureau/catalogs/ISC\"\n",
    "catalog_path = \"/media/plerolland/LaBoite/twin_catalog\"\n",
    "datasets_yaml = \"/home/plerolland/Bureau/dataset.yaml\"\n",
    "out_dir = \"/media/plerolland/LaBoite/associator\"\n",
    "\n",
    "DELTA = datetime.timedelta(seconds=200)\n",
    "TIME_RES = 0.5\n",
    "F_RES = 0.5\n",
    "stft_computer = STFTFeaturesExtractor(None, vmin=60, vmax=140)"
   ],
   "id": "9bc4b2d78c8c5ff6",
   "outputs": [],
   "execution_count": 14
  },
  {
   "metadata": {
    "ExecuteTime": {
     "end_time": "2024-09-18T17:04:15.159095Z",
     "start_time": "2024-09-18T17:03:59.586454Z"
    }
   },
   "cell_type": "code",
   "source": [
    "stations = StationsCatalog(datasets_yaml).filter_out_undated().filter_out_unlocated()\n",
    "catalog = TwinCatalog(catalog_path, isc_dir, stations)"
   ],
   "id": "a092dd73cb4e2945",
   "outputs": [],
   "execution_count": 11
  },
  {
   "metadata": {
    "ExecuteTime": {
     "end_time": "2024-09-18T19:56:56.628423Z",
     "start_time": "2024-09-18T17:22:56.258316Z"
    }
   },
   "cell_type": "code",
   "source": [
    "csv = \"ID, station, date\"\n",
    "\n",
    "existing_stations = set()\n",
    "for ID, twin_association in tqdm(catalog.items.items()):\n",
    "    for event in twin_association.acoustic_association.events:\n",
    "        station = event.station\n",
    "        if station in existing_stations:\n",
    "            for st in existing_stations:\n",
    "                if st == station:\n",
    "                    station = st\n",
    "            existing_stations.add(station)\n",
    "            \n",
    "        stft_computer.manager = event.station.get_manager()\n",
    "        if not (station.manager.dataset_start < event.date-DELTA < station.manager.dataset_end and station.manager.dataset_start < event.date+DELTA < station.manager.dataset_end):\n",
    "            continue\n",
    "        \n",
    "        s_f = 250 if \"IMS\" in event.station.dataset else 240\n",
    "        stft_computer.manager.cache_size = 0\n",
    "        stft_computer.nperseg = int(stft_computer.manager.sampling_f / F_RES)\n",
    "        stft_computer.overlap = 1 - TIME_RES * stft_computer.manager.sampling_f / stft_computer.nperseg\n",
    "        \n",
    "        file_name = f'{out_dir}/{station.name}/{event.date.strftime(\"%Y%m%d_%H%M%S\")}.png'\n",
    "        Path(f'{out_dir}/{station.name}').mkdir(parents=True, exist_ok=True)\n",
    "        \n",
    "        if not Path(file_name).exists():\n",
    "            stft_features = stft_computer.get_features(event.date-DELTA, event.date+DELTA)\n",
    "            stft_computer._save_features(stft_features, file_name)\n",
    "        \n",
    "        csv += f'\\n{ID},{event.station.name},{event.date.strftime(\"%Y%m%d_%H%M%S\")}'"
   ],
   "id": "1caec2583862dd08",
   "outputs": [
    {
     "name": "stderr",
     "output_type": "stream",
     "text": [
      " 30%|███       | 3074/10134 [48:08<1:47:27,  1.09it/s]/home/plerolland/Bureau/OHASISBIO_dataset/src/utils/transformations/features_extractor.py:157: UserWarning: /media/plerolland/LaBoite/associator/H01W1/20200121_035610.png is a low contrast image\n",
      "  skimage.io.imsave(path, spectro.astype(np.uint8))\n",
      "100%|██████████| 10134/10134 [2:34:00<00:00,  1.10it/s] \n"
     ]
    }
   ],
   "execution_count": 15
  },
  {
   "metadata": {
    "ExecuteTime": {
     "end_time": "2024-09-19T09:09:09.293077Z",
     "start_time": "2024-09-19T09:09:09.282342Z"
    }
   },
   "cell_type": "code",
   "source": [
    "with open(f'{out_dir}/index.csv', 'w') as f:\n",
    "    f.write(csv)"
   ],
   "id": "b89d2f309c34887b",
   "outputs": [],
   "execution_count": 16
  },
  {
   "metadata": {},
   "cell_type": "code",
   "outputs": [],
   "execution_count": null,
   "source": "",
   "id": "c83375bb0ec81bd0"
  }
 ],
 "metadata": {
  "kernelspec": {
   "display_name": "Python 3",
   "language": "python",
   "name": "python3"
  },
  "language_info": {
   "codemirror_mode": {
    "name": "ipython",
    "version": 2
   },
   "file_extension": ".py",
   "mimetype": "text/x-python",
   "name": "python",
   "nbconvert_exporter": "python",
   "pygments_lexer": "ipython2",
   "version": "2.7.6"
  }
 },
 "nbformat": 4,
 "nbformat_minor": 5
}
